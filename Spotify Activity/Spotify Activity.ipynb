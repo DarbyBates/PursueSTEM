{
 "cells": [
  {
   "cell_type": "markdown",
   "metadata": {},
   "source": [
    "# Visualizing Spotify Data\n",
    "\n",
    "Python script by Darby Bates\n",
    "Based on script from https://github.com/elb0/florence-nightingale-uoft-22/blob/master/plotting.Rmd\n",
    "Output: HTML files\n",
    "\n",
    "## Welcome to the Pursue STEM CBSNY 2022 Activity!\n",
    "If you've opened this python notebook in Google Colab, follow these instructions (in order!) to import the data we'll be working from to your Google Colab Session and run this python script for the first time.\n",
    "\n",
    "On the upper left-hand side of the screen are a few buttons that are symbols. Look below the below the symbol '{x}'. Click on the symbol of a folder you see there.\n",
    "\n",
    "A Files tab should open, and you can click on the symbol of a piece of paper with an arrow pointing straight up into the paper. This is the \"Upload to session storage\" button.\n",
    "\n",
    "Select the \"for_students.csv\" file you downloaded from the github. https://github.com/DarbyBates/PursueSTEM/tree/main/Spotify%20Activity\n",
    "\n",
    "In the menu bar at the top of the page is a \"Runtime\" tab. Click \"Runtime\", then \"Run all\".\n",
    "\n",
    "If you scroll to the bottom of the page, you should see a plot of Energy versus Positiveness (valence) for a few musical artists.\n"
   ]
  },
  {
   "cell_type": "code",
   "execution_count": 3,
   "metadata": {},
   "outputs": [],
   "source": [
    "##Don't change anything in this cell.\n",
    "#Header\n",
    "import pandas as pd #for dataframes\n",
    "import plotly.express as px #for plotly\n",
    "import plotly.graph_objects as go"
   ]
  },
  {
   "cell_type": "code",
   "execution_count": 4,
   "metadata": {},
   "outputs": [
    {
     "name": "stdout",
     "output_type": "stream",
     "text": [
      "['Bruno Mars' 'Daniel Caesar' 'Billie Eilish' 'Nicki Minaj'\n",
      " 'Ariana Grande' 'Taylor Swift' 'Lorde' 'Queen' 'Tyler, The Creator'\n",
      " 'Fall Out Boy' 'NF' 'GOT7' 'Melanie Martinez' 'Harry Styles' 'Rihanna'\n",
      " 'Rod Wave' 'Kendrick Lamar' 'Rex Orange County' 'Jeff Bernat' 'Mac Ayres'\n",
      " 'Toosii' 'Lil Tjay' 'Polo G' 'Central Cee' 'Digga D' 'BTS' 'Mitski'\n",
      " 'The Strokes']\n"
     ]
    }
   ],
   "source": [
    "##Don't change anything in this cell.\n",
    "#Load CSV File into a pandas dataframe, make sure .csv file is in the same folder as this notebook.\n",
    "\n",
    "#A dataframe is a python-readable array of information, \n",
    "#like a table of values, that is formatted to be easy to access with code.\n",
    "#Here, we load the dataframe and name it \"dataset\", then we isolate the artist names and filter for unique ones.\n",
    "#This way we can print out a list of all the artist names that we have data for.\n",
    "\n",
    "dataset=pd.read_csv(\"for_students.csv\")\n",
    "allnames=dataset['artist_name']\n",
    "uniquenames=allnames.unique()\n",
    "print(uniquenames) #Print the artist names included in the dataset"
   ]
  },
  {
   "cell_type": "code",
   "execution_count": 10,
   "metadata": {},
   "outputs": [
    {
     "data": {
      "application/vnd.plotly.v1+json": {
       "config": {
        "plotlyServerURL": "https://plot.ly"
       },
       "data": [
        {
         "customdata": [
          [
           "24K Magic"
          ],
          [
           "Chunky"
          ],
          [
           "Perm"
          ],
          [
           "That's What I Like"
          ],
          [
           "Versace on the Floor"
          ],
          [
           "Straight up & Down"
          ],
          [
           "Calling All My Lovelies"
          ],
          [
           "Finesse"
          ],
          [
           "Too Good to Say Goodbye"
          ],
          [
           "Young Girls"
          ],
          [
           "Locked out of Heaven"
          ],
          [
           "Gorilla"
          ],
          [
           "Treasure"
          ],
          [
           "Moonshine"
          ],
          [
           "When I Was Your Man"
          ],
          [
           "Natalie"
          ],
          [
           "Show Me"
          ],
          [
           "Money Make Her Smile"
          ],
          [
           "If I Knew"
          ],
          [
           "Young Girls"
          ],
          [
           "Locked out of Heaven"
          ],
          [
           "Gorilla"
          ],
          [
           "Treasure"
          ],
          [
           "Moonshine"
          ],
          [
           "When I Was Your Man"
          ],
          [
           "Natalie"
          ],
          [
           "Show Me"
          ],
          [
           "Money Make Her Smile"
          ],
          [
           "If I Knew"
          ],
          [
           "Young Girls"
          ],
          [
           "Locked out of Heaven"
          ],
          [
           "Gorilla"
          ],
          [
           "Treasure"
          ],
          [
           "Moonshine"
          ],
          [
           "When I Was Your Man"
          ],
          [
           "Natalie"
          ],
          [
           "Show Me"
          ],
          [
           "Money Make Her Smile"
          ],
          [
           "If I Knew"
          ],
          [
           "Grenade"
          ],
          [
           "Just the Way You Are"
          ],
          [
           "Our First Time"
          ],
          [
           "Runaway Baby"
          ],
          [
           "The Lazy Song"
          ],
          [
           "Marry You"
          ],
          [
           "Talking to the Moon"
          ],
          [
           "Liquor Store Blues (feat. Damian Marley)"
          ],
          [
           "Count on Me"
          ],
          [
           "The Other Side (feat. CeeLo Green and B.o.B)"
          ],
          [
           "Somewhere in Brooklyn"
          ],
          [
           "Talking to the Moon - Acoustic Piano"
          ],
          [
           "Grenade"
          ],
          [
           "Just the Way You Are"
          ],
          [
           "Our First Time"
          ],
          [
           "Runaway Baby"
          ],
          [
           "The Lazy Song"
          ],
          [
           "Marry You"
          ],
          [
           "Talking to the Moon"
          ],
          [
           "Liquor Store Blues (feat. Damian Marley)"
          ],
          [
           "Count on Me"
          ],
          [
           "The Other Side (feat. CeeLo Green and B.o.B)"
          ]
         ],
         "hovertemplate": "Artist(s)=Bruno Mars<br>Positiveness (valence)=%{x}<br>Energy=%{y}<br>Song Title=%{customdata[0]}<extra></extra>",
         "legendgroup": "Bruno Mars",
         "marker": {
          "color": "#636efa",
          "symbol": "circle"
         },
         "mode": "markers",
         "name": "Bruno Mars",
         "showlegend": true,
         "type": "scattergl",
         "x": [
          0.632,
          0.727,
          0.863,
          0.86,
          0.301,
          0.643,
          0.865,
          0.9390000000000001,
          0.433,
          0.501,
          0.867,
          0.622,
          0.934,
          0.418,
          0.387,
          0.611,
          0.514,
          0.78,
          0.49,
          0.501,
          0.867,
          0.6409999999999999,
          0.937,
          0.418,
          0.387,
          0.611,
          0.514,
          0.78,
          0.49,
          0.56,
          0.87,
          0.667,
          0.92,
          0.457,
          0.41100000000000003,
          0.667,
          0.539,
          0.778,
          0.442,
          0.22699999999999998,
          0.434,
          0.868,
          0.871,
          0.9490000000000001,
          0.48100000000000004,
          0.065,
          0.685,
          0.509,
          0.5429999999999999,
          0.349,
          0.209,
          0.22699999999999998,
          0.434,
          0.868,
          0.871,
          0.9490000000000001,
          0.48100000000000004,
          0.065,
          0.685,
          0.509,
          0.5429999999999999
         ],
         "xaxis": "x",
         "y": [
          0.8029999999999999,
          0.539,
          0.871,
          0.56,
          0.574,
          0.733,
          0.705,
          0.7979999999999999,
          0.63,
          0.7490000000000001,
          0.698,
          0.562,
          0.6990000000000001,
          0.784,
          0.28,
          0.733,
          0.706,
          0.677,
          0.413,
          0.7490000000000001,
          0.698,
          0.544,
          0.6920000000000001,
          0.784,
          0.28,
          0.733,
          0.706,
          0.677,
          0.413,
          0.748,
          0.6970000000000001,
          0.547,
          0.687,
          0.773,
          0.271,
          0.7290000000000001,
          0.687,
          0.664,
          0.43700000000000006,
          0.5579999999999999,
          0.843,
          0.451,
          0.767,
          0.804,
          0.8320000000000001,
          0.606,
          0.8240000000000001,
          0.397,
          0.807,
          0.579,
          0.33299999999999996,
          0.5579999999999999,
          0.843,
          0.451,
          0.767,
          0.804,
          0.8320000000000001,
          0.606,
          0.8240000000000001,
          0.397,
          0.807
         ],
         "yaxis": "y"
        },
        {
         "customdata": [
          [
           "ENTROPY"
          ],
          [
           "CYANIDE"
          ],
          [
           "LOVE AGAIN"
          ],
          [
           "FRONTAL LOBE MUZIK"
          ],
          [
           "OPEN UP"
          ],
          [
           "RESTORE THE FEELING"
          ],
          [
           "SUPERPOSITION"
          ],
          [
           "TOO DEEP TO TURN BACK"
          ],
          [
           "COMPLEXITIES"
          ],
          [
           "ARE YOU OK?"
          ],
          [
           "Get You (feat. Kali Uchis)"
          ],
          [
           "Best Part (feat. H.E.R.)"
          ],
          [
           "Hold Me Down"
          ],
          [
           "Neu Roses (Transgressor's Song)"
          ],
          [
           "Loose"
          ],
          [
           "We Find Love"
          ],
          [
           "Blessed"
          ],
          [
           "Take Me Away (feat. Syd)"
          ],
          [
           "Transform (feat. Charlotte Day Wilson)"
          ],
          [
           "Freudian"
          ],
          [
           "Trinity Bellwoods"
          ],
          [
           "Death & Taxes"
          ],
          [
           "Paradise (feat. Badbadnotgood & Sean Leon)"
          ],
          [
           "A Cappella"
          ],
          [
           "Streetcar"
          ],
          [
           "Show No Regret"
          ],
          [
           "Little Rowboat"
          ],
          [
           "ENTROPY"
          ],
          [
           "CYANIDE"
          ],
          [
           "LOVE AGAIN"
          ],
          [
           "FRONTAL LOBE MUZIK"
          ],
          [
           "OPEN UP"
          ],
          [
           "RESTORE THE FEELING"
          ],
          [
           "SUPERPOSITION"
          ],
          [
           "TOO DEEP TO TURN BACK"
          ],
          [
           "COMPLEXITIES"
          ],
          [
           "ARE YOU OK?"
          ],
          [
           "Get You (feat. Kali Uchis)"
          ],
          [
           "Best Part (feat. H.E.R.)"
          ],
          [
           "Hold Me Down"
          ],
          [
           "Neu Roses (Transgressor's Song)"
          ],
          [
           "Loose"
          ],
          [
           "We Find Love"
          ],
          [
           "Blessed"
          ],
          [
           "Take Me Away (feat. Syd)"
          ],
          [
           "Transform (feat. Charlotte Day Wilson)"
          ],
          [
           "Freudian"
          ],
          [
           "Trinity Bellwoods"
          ],
          [
           "Death & Taxes"
          ],
          [
           "Paradise (feat. Badbadnotgood & Sean Leon)"
          ],
          [
           "A Cappella"
          ],
          [
           "Streetcar"
          ],
          [
           "Show No Regret"
          ],
          [
           "Little Rowboat"
          ]
         ],
         "hovertemplate": "Artist(s)=Daniel Caesar<br>Positiveness (valence)=%{x}<br>Energy=%{y}<br>Song Title=%{customdata[0]}<extra></extra>",
         "legendgroup": "Daniel Caesar",
         "marker": {
          "color": "#EF553B",
          "symbol": "circle"
         },
         "mode": "markers",
         "name": "Daniel Caesar",
         "showlegend": true,
         "type": "scattergl",
         "x": [
          0.5660000000000001,
          0.486,
          0.525,
          0.301,
          0.31,
          0.564,
          0.33299999999999996,
          0.252,
          0.247,
          0.0789,
          0.358,
          0.436,
          0.231,
          0.29100000000000004,
          0.0527,
          0.426,
          0.451,
          0.193,
          0.348,
          0.0714,
          0.0318,
          0.209,
          0.402,
          0.121,
          0.142,
          0.129,
          0.374,
          0.5660000000000001,
          0.486,
          0.525,
          0.301,
          0.31,
          0.564,
          0.33299999999999996,
          0.252,
          0.247,
          0.0789,
          0.358,
          0.436,
          0.231,
          0.29100000000000004,
          0.0527,
          0.426,
          0.451,
          0.193,
          0.348,
          0.0714,
          0.0318,
          0.209,
          0.402,
          0.121,
          0.142,
          0.129,
          0.374
         ],
         "xaxis": "x",
         "y": [
          0.527,
          0.652,
          0.441,
          0.568,
          0.192,
          0.39299999999999996,
          0.27899999999999997,
          0.436,
          0.204,
          0.415,
          0.294,
          0.364,
          0.42700000000000005,
          0.327,
          0.162,
          0.363,
          0.263,
          0.409,
          0.292,
          0.298,
          0.654,
          0.32799999999999996,
          0.792,
          0.314,
          0.298,
          0.679,
          0.191,
          0.527,
          0.652,
          0.441,
          0.568,
          0.192,
          0.39299999999999996,
          0.27899999999999997,
          0.436,
          0.204,
          0.415,
          0.294,
          0.364,
          0.42700000000000005,
          0.327,
          0.162,
          0.363,
          0.263,
          0.409,
          0.292,
          0.298,
          0.654,
          0.32799999999999996,
          0.792,
          0.314,
          0.298,
          0.679,
          0.191
         ],
         "yaxis": "y"
        },
        {
         "customdata": [
          [
           "!!!!!!!"
          ],
          [
           "bad guy"
          ],
          [
           "xanny"
          ],
          [
           "you should see me in a crown"
          ],
          [
           "all the good girls go to hell"
          ],
          [
           "wish you were gay"
          ],
          [
           "when the party's over"
          ],
          [
           "8"
          ],
          [
           "my strange addiction"
          ],
          [
           "bury a friend"
          ],
          [
           "ilomilo"
          ],
          [
           "listen before i go"
          ],
          [
           "i love you"
          ],
          [
           "goodbye"
          ],
          [
           "!!!!!!!"
          ],
          [
           "bad guy"
          ],
          [
           "xanny"
          ],
          [
           "you should see me in a crown"
          ],
          [
           "all the good girls go to hell"
          ],
          [
           "wish you were gay"
          ],
          [
           "when the party's over"
          ],
          [
           "8"
          ],
          [
           "my strange addiction"
          ],
          [
           "bury a friend"
          ],
          [
           "ilomilo"
          ],
          [
           "listen before i go"
          ],
          [
           "i love you"
          ],
          [
           "goodbye"
          ]
         ],
         "hovertemplate": "Artist(s)=Billie Eilish<br>Positiveness (valence)=%{x}<br>Energy=%{y}<br>Song Title=%{customdata[0]}<extra></extra>",
         "legendgroup": "Billie Eilish",
         "marker": {
          "color": "#00cc96",
          "symbol": "circle"
         },
         "mode": "markers",
         "name": "Billie Eilish",
         "showlegend": true,
         "type": "scattergl",
         "x": [
          0,
          0.562,
          0.0528,
          0.32299999999999995,
          0.569,
          0.282,
          0.198,
          0.462,
          0.563,
          0.196,
          0.5720000000000001,
          0.08199999999999999,
          0.12,
          0.0503,
          0,
          0.562,
          0.0528,
          0.32299999999999995,
          0.569,
          0.282,
          0.198,
          0.462,
          0.563,
          0.196,
          0.5720000000000001,
          0.08199999999999999,
          0.12,
          0.0503
         ],
         "xaxis": "x",
         "y": [
          0.278,
          0.425,
          0.125,
          0.5329999999999999,
          0.444,
          0.35100000000000003,
          0.111,
          0.235,
          0.305,
          0.389,
          0.423,
          0.0561,
          0.131,
          0.138,
          0.278,
          0.425,
          0.125,
          0.5329999999999999,
          0.444,
          0.35100000000000003,
          0.111,
          0.235,
          0.305,
          0.389,
          0.423,
          0.0561,
          0.131,
          0.138
         ],
         "yaxis": "y"
        },
        {
         "customdata": [
          [
           "Ganja Burn"
          ],
          [
           "Majesty (with Labrinth & feat. Eminem)"
          ],
          [
           "Barbie Dreams"
          ],
          [
           "Rich Sex (feat. Lil Wayne)"
          ],
          [
           "Hard White"
          ],
          [
           "Bed (feat. Ariana Grande)"
          ],
          [
           "Thought I Knew You (feat. The Weeknd)"
          ],
          [
           "Run & Hide"
          ],
          [
           "Chun Swae (feat. Swae Lee)"
          ],
          [
           "Chun-Li"
          ],
          [
           "LLC"
          ],
          [
           "Good Form"
          ],
          [
           "Nip Tuck"
          ],
          [
           "2 Lit 2 Late Interlude"
          ],
          [
           "Come See About Me"
          ],
          [
           "Sir (feat. Future)"
          ],
          [
           "Miami"
          ],
          [
           "Coco Chanel (feat. Foxy Brown)"
          ],
          [
           "Inspirations Outro"
          ],
          [
           "FEFE"
          ],
          [
           "Ganja Burn"
          ],
          [
           "Majesty (with Labrinth & feat. Eminem)"
          ],
          [
           "Barbie Dreams"
          ],
          [
           "Rich Sex (feat. Lil Wayne)"
          ],
          [
           "Hard White"
          ],
          [
           "Bed (feat. Ariana Grande)"
          ],
          [
           "Thought I Knew You (feat. The Weeknd)"
          ],
          [
           "Run & Hide"
          ],
          [
           "Chun Swae (feat. Swae Lee)"
          ],
          [
           "Chun-Li"
          ],
          [
           "LLC"
          ],
          [
           "Good Form"
          ],
          [
           "Nip Tuck"
          ],
          [
           "2 Lit 2 Late Interlude"
          ],
          [
           "Come See About Me"
          ],
          [
           "Sir (feat. Future)"
          ],
          [
           "Miami"
          ],
          [
           "Coco Chanel (feat. Foxy Brown)"
          ],
          [
           "Inspirations Outro"
          ],
          [
           "Ganja Burn"
          ],
          [
           "Majesty (with Labrinth & feat. Eminem)"
          ],
          [
           "Barbie Dreams"
          ],
          [
           "Rich Sex (feat. Lil Wayne)"
          ],
          [
           "Hard White"
          ],
          [
           "Bed (feat. Ariana Grande)"
          ],
          [
           "Thought I Knew You (feat. The Weeknd)"
          ],
          [
           "Run & Hide"
          ],
          [
           "Chun Swae (feat. Swae Lee)"
          ],
          [
           "Chun-Li"
          ],
          [
           "LLC"
          ],
          [
           "Good Form"
          ],
          [
           "Nip Tuck"
          ],
          [
           "2 Lit 2 Late Interlude"
          ],
          [
           "Come See About Me"
          ],
          [
           "Sir (feat. Future)"
          ],
          [
           "Miami"
          ],
          [
           "Coco Chanel (feat. Foxy Brown)"
          ],
          [
           "Inspirations Outro"
          ],
          [
           "FEFE"
          ],
          [
           "Ganja Burn"
          ],
          [
           "Majesty (with Labrinth & feat. Eminem)"
          ],
          [
           "Barbie Dreams"
          ],
          [
           "Rich Sex (feat. Lil Wayne)"
          ],
          [
           "Hard White"
          ],
          [
           "Bed (feat. Ariana Grande)"
          ],
          [
           "Thought I Knew You (feat. The Weeknd)"
          ],
          [
           "Run & Hide"
          ],
          [
           "Chun Swae (feat. Swae Lee)"
          ],
          [
           "Chun-Li"
          ],
          [
           "LLC"
          ],
          [
           "Good Form"
          ],
          [
           "Nip Tuck"
          ],
          [
           "2 Lit 2 Late Interlude"
          ],
          [
           "Come See About Me"
          ],
          [
           "Sir (feat. Future)"
          ],
          [
           "Miami"
          ],
          [
           "Coco Chanel (feat. Foxy Brown)"
          ],
          [
           "Inspirations Outro"
          ],
          [
           "All Things Go"
          ],
          [
           "I Lied"
          ],
          [
           "The Crying Game"
          ],
          [
           "Get On Your Knees"
          ],
          [
           "Feeling Myself"
          ],
          [
           "Only"
          ],
          [
           "Want Some More"
          ],
          [
           "Four Door Aventador"
          ],
          [
           "Favorite"
          ],
          [
           "Buy A Heart"
          ],
          [
           "Trini Dem Girls"
          ],
          [
           "Anaconda"
          ],
          [
           "The Night Is Still Young"
          ],
          [
           "Pills N Potions"
          ],
          [
           "Bed Of Lies"
          ],
          [
           "Grand Piano"
          ],
          [
           "All Things Go"
          ],
          [
           "I Lied"
          ],
          [
           "The Crying Game"
          ],
          [
           "Get On Your Knees"
          ],
          [
           "Feeling Myself"
          ],
          [
           "Only"
          ],
          [
           "Want Some More"
          ],
          [
           "Four Door Aventador"
          ],
          [
           "Favorite"
          ],
          [
           "Buy A Heart"
          ],
          [
           "Trini Dem Girls"
          ],
          [
           "Anaconda"
          ],
          [
           "The Night Is Still Young"
          ],
          [
           "Pills N Potions"
          ],
          [
           "Bed Of Lies"
          ],
          [
           "Grand Piano"
          ],
          [
           "Up In Flames"
          ],
          [
           "Freedom"
          ],
          [
           "Hell Yeah"
          ],
          [
           "High School"
          ],
          [
           "I'm Legit"
          ],
          [
           "I Endorse These Strippers"
          ],
          [
           "The Boys"
          ],
          [
           "Va Va Voom"
          ],
          [
           "Roman Holiday"
          ],
          [
           "Come On A Cone"
          ],
          [
           "I Am Your Leader"
          ],
          [
           "Beez In The Trap"
          ],
          [
           "HOV Lane"
          ],
          [
           "Roman Reloaded"
          ],
          [
           "Champion"
          ],
          [
           "Right By My Side"
          ],
          [
           "Sex In The Lounge"
          ],
          [
           "Starships"
          ],
          [
           "Pound The Alarm"
          ],
          [
           "Whip It"
          ],
          [
           "Automatic"
          ],
          [
           "Beautiful Sinner"
          ],
          [
           "Marilyn Monroe"
          ],
          [
           "Young Forever"
          ],
          [
           "Fire Burns"
          ],
          [
           "Gun Shot"
          ],
          [
           "Stupid Hoe"
          ],
          [
           "Up In Flames"
          ],
          [
           "Freedom"
          ],
          [
           "Hell Yeah"
          ],
          [
           "High School"
          ],
          [
           "I'm Legit"
          ],
          [
           "I Endorse These Strippers"
          ],
          [
           "The Boys"
          ],
          [
           "Va Va Voom"
          ],
          [
           "Roman Holiday"
          ],
          [
           "Come On A Cone"
          ],
          [
           "I Am Your Leader"
          ],
          [
           "Beez In The Trap"
          ],
          [
           "HOV Lane"
          ],
          [
           "Roman Reloaded"
          ],
          [
           "Champion"
          ],
          [
           "Right By My Side"
          ],
          [
           "Sex In The Lounge"
          ],
          [
           "Starships - Edit"
          ],
          [
           "Pound The Alarm - Edit"
          ],
          [
           "Whip It"
          ],
          [
           "Automatic"
          ],
          [
           "Beautiful Sinner"
          ],
          [
           "Marilyn Monroe"
          ],
          [
           "Young Forever - Republic Records, a Division of UMG Recordings, Inc."
          ],
          [
           "Fire Burns"
          ],
          [
           "Gun Shot"
          ],
          [
           "Stupid Hoe"
          ],
          [
           "Up In Flames"
          ],
          [
           "Freedom"
          ],
          [
           "Hell Yeah"
          ],
          [
           "High School"
          ],
          [
           "I'm Legit"
          ],
          [
           "I Endorse These Strippers"
          ],
          [
           "The Boys"
          ],
          [
           "Va Va Voom"
          ],
          [
           "Roman Holiday"
          ],
          [
           "Come On A Cone"
          ],
          [
           "I Am Your Leader"
          ],
          [
           "Beez In The Trap"
          ],
          [
           "HOV Lane"
          ],
          [
           "Roman Reloaded"
          ],
          [
           "Champion"
          ],
          [
           "Right By My Side"
          ],
          [
           "Sex In The Lounge"
          ],
          [
           "Starships - Edit"
          ],
          [
           "Pound The Alarm - Edit"
          ],
          [
           "Whip It"
          ],
          [
           "Automatic"
          ],
          [
           "Beautiful Sinner"
          ],
          [
           "Marilyn Monroe"
          ],
          [
           "Young Forever - Republic Records, a Division of UMG Recordings, Inc."
          ],
          [
           "Fire Burns"
          ],
          [
           "Gun Shot"
          ],
          [
           "Stupid Hoe"
          ],
          [
           "Roman Holiday"
          ],
          [
           "Come On A Cone"
          ],
          [
           "I Am Your Leader"
          ],
          [
           "Beez In The Trap"
          ],
          [
           "HOV Lane"
          ],
          [
           "Roman Reloaded"
          ],
          [
           "Champion"
          ],
          [
           "Right By My Side"
          ],
          [
           "Sex In The Lounge"
          ],
          [
           "Starships"
          ],
          [
           "Pound The Alarm"
          ],
          [
           "Whip It"
          ],
          [
           "Automatic"
          ],
          [
           "Beautiful Sinner"
          ],
          [
           "Marilyn Monroe"
          ],
          [
           "Young Forever"
          ],
          [
           "Fire Burns"
          ],
          [
           "Gun Shot"
          ],
          [
           "Stupid Hoe"
          ],
          [
           "Roman Holiday"
          ],
          [
           "Come On A Cone"
          ],
          [
           "I Am Your Leader"
          ],
          [
           "Beez In The Trap"
          ],
          [
           "HOV Lane"
          ],
          [
           "Roman Reloaded"
          ],
          [
           "Champion"
          ],
          [
           "Right By My Side"
          ],
          [
           "Sex In The Lounge"
          ],
          [
           "Starships - Edit"
          ],
          [
           "Pound The Alarm - Edit"
          ],
          [
           "Whip It"
          ],
          [
           "Automatic"
          ],
          [
           "Beautiful Sinner"
          ],
          [
           "Marilyn Monroe"
          ],
          [
           "Young Forever - Republic Records, a Division of UMG Recordings, Inc."
          ],
          [
           "Fire Burns"
          ],
          [
           "Gun Shot"
          ],
          [
           "Stupid Hoe"
          ],
          [
           "Roman Holiday - Album Version (Edited)"
          ],
          [
           "Come On A Cone - Album Version (Edited)"
          ],
          [
           "I Am Your Leader - Album Version (Edited)"
          ],
          [
           "Beez In The Trap - Album Version (Edited)"
          ],
          [
           "HOV Lane - Album Version (Edited)"
          ],
          [
           "Roman Reloaded - Album Version (Edited)"
          ],
          [
           "Champion - Album Version (Edited)"
          ],
          [
           "Right By My Side - Album Version (Edited)"
          ],
          [
           "Sex In The Lounge - Album Version (Edited)"
          ],
          [
           "Starships - Edit"
          ],
          [
           "Pound The Alarm - Edit"
          ],
          [
           "Whip It - Album Version (Edited)"
          ],
          [
           "Automatic - Album Version (Edited)"
          ],
          [
           "Beautiful Sinner - Album Version (Edited)"
          ],
          [
           "Marilyn Monroe - Album Version (Edited)"
          ],
          [
           "Young Forever - Republic Records, a Division of UMG Recordings, Inc."
          ],
          [
           "Fire Burns - Album Version (Edited)"
          ],
          [
           "Gun Shot - Album Version (Edited)"
          ],
          [
           "Stupid Hoe - Edited Version"
          ],
          [
           "Roman Holiday"
          ],
          [
           "Come On A Cone"
          ],
          [
           "I Am Your Leader"
          ],
          [
           "Beez In The Trap"
          ],
          [
           "HOV Lane"
          ],
          [
           "Roman Reloaded"
          ],
          [
           "Champion"
          ],
          [
           "Right By My Side"
          ],
          [
           "Sex In The Lounge"
          ],
          [
           "Starships"
          ],
          [
           "Pound The Alarm"
          ],
          [
           "Whip It"
          ],
          [
           "Automatic"
          ],
          [
           "Beautiful Sinner"
          ],
          [
           "Marilyn Monroe"
          ],
          [
           "Young Forever"
          ],
          [
           "Fire Burns"
          ],
          [
           "Gun Shot"
          ],
          [
           "Stupid Hoe"
          ],
          [
           "I’m The Best - Album Version (Edited)"
          ],
          [
           "Roman's Revenge - Album Version (Edited)"
          ],
          [
           "Did It On’em - Album Version (Edited)"
          ],
          [
           "Right Thru Me - Edited Version"
          ],
          [
           "Fly - Album Version (Edited)"
          ],
          [
           "Save Me - Album Version (Edited)"
          ],
          [
           "Moment 4 Life - Album Version (Edited)"
          ],
          [
           "Check It Out - Main, Edited Version"
          ],
          [
           "Blazin - Album Version (Edited)"
          ],
          [
           "Here I Am - Album Version (Edited)"
          ],
          [
           "Dear Old Nicki - Album Version (Edited)"
          ],
          [
           "Your Love - Album Version (Edited)"
          ],
          [
           "Last Chance - Album Version (Edited)"
          ],
          [
           "I’m The Best"
          ],
          [
           "Roman's Revenge"
          ],
          [
           "Did It On’em"
          ],
          [
           "Right Thru Me"
          ],
          [
           "Fly"
          ],
          [
           "Save Me"
          ],
          [
           "Moment 4 Life"
          ],
          [
           "Check It Out"
          ],
          [
           "Blazin"
          ],
          [
           "Here I Am"
          ],
          [
           "Dear Old Nicki"
          ],
          [
           "Your Love"
          ],
          [
           "Last Chance"
          ]
         ],
         "hovertemplate": "Artist(s)=Nicki Minaj<br>Positiveness (valence)=%{x}<br>Energy=%{y}<br>Song Title=%{customdata[0]}<extra></extra>",
         "legendgroup": "Nicki Minaj",
         "marker": {
          "color": "#ab63fa",
          "symbol": "circle"
         },
         "mode": "markers",
         "name": "Nicki Minaj",
         "showlegend": true,
         "type": "scattergl",
         "x": [
          0.7609999999999999,
          0.5660000000000001,
          0.701,
          0.5670000000000001,
          0.273,
          0.44799999999999995,
          0.466,
          0.331,
          0.212,
          0.473,
          0.8140000000000001,
          0.28600000000000003,
          0.363,
          0.127,
          0.376,
          0.14800000000000002,
          0.742,
          0.595,
          0.41,
          0.377,
          0.76,
          0.568,
          0.7,
          0.568,
          0.273,
          0.452,
          0.46799999999999997,
          0.317,
          0.21,
          0.474,
          0.8029999999999999,
          0.284,
          0.366,
          0.126,
          0.37200000000000005,
          0.146,
          0.7290000000000001,
          0.596,
          0.40399999999999997,
          0.78,
          0.5660000000000001,
          0.688,
          0.513,
          0.313,
          0.474,
          0.504,
          0.341,
          0.214,
          0.466,
          0.831,
          0.28800000000000003,
          0.34700000000000003,
          0.126,
          0.37200000000000005,
          0.162,
          0.764,
          0.521,
          0.40399999999999997,
          0.41700000000000004,
          0.775,
          0.5710000000000001,
          0.6940000000000001,
          0.514,
          0.312,
          0.47100000000000003,
          0.503,
          0.33299999999999996,
          0.212,
          0.456,
          0.8270000000000001,
          0.28800000000000003,
          0.335,
          0.134,
          0.38,
          0.158,
          0.768,
          0.5329999999999999,
          0.41600000000000004,
          0.276,
          0.387,
          0.184,
          0.17600000000000002,
          0.47700000000000004,
          0.255,
          0.214,
          0.639,
          0.0563,
          0.43200000000000005,
          0.32299999999999995,
          0.6459999999999999,
          0.693,
          0.168,
          0.124,
          0.135,
          0.251,
          0.376,
          0.185,
          0.141,
          0.505,
          0.32299999999999995,
          0.19699999999999998,
          0.634,
          0.0615,
          0.381,
          0.327,
          0.807,
          0.6729999999999999,
          0.217,
          0.10800000000000001,
          0.146,
          0.151,
          0.341,
          0.662,
          0.212,
          0.5429999999999999,
          0.7440000000000001,
          0.392,
          0.696,
          0.402,
          0.732,
          0.7440000000000001,
          0.6829999999999999,
          0.45399999999999996,
          0.77,
          0.0493,
          0.495,
          0.722,
          0.7509999999999999,
          0.591,
          0.7959999999999999,
          0.685,
          0.516,
          0.495,
          0.41,
          0.366,
          0.386,
          0.7190000000000001,
          0.154,
          0.386,
          0.6629999999999999,
          0.24100000000000002,
          0.535,
          0.73,
          0.426,
          0.7020000000000001,
          0.37200000000000005,
          0.792,
          0.718,
          0.672,
          0.428,
          0.7120000000000001,
          0.044000000000000004,
          0.5670000000000001,
          0.731,
          0.7390000000000001,
          0.584,
          0.785,
          0.626,
          0.462,
          0.495,
          0.41,
          0.40399999999999997,
          0.386,
          0.736,
          0.154,
          0.386,
          0.6629999999999999,
          0.24100000000000002,
          0.535,
          0.73,
          0.426,
          0.7020000000000001,
          0.37200000000000005,
          0.792,
          0.718,
          0.672,
          0.428,
          0.7120000000000001,
          0.044000000000000004,
          0.5670000000000001,
          0.731,
          0.7390000000000001,
          0.584,
          0.785,
          0.626,
          0.462,
          0.495,
          0.41,
          0.40399999999999997,
          0.386,
          0.736,
          0.402,
          0.732,
          0.7440000000000001,
          0.6829999999999999,
          0.45399999999999996,
          0.77,
          0.0493,
          0.495,
          0.722,
          0.7509999999999999,
          0.591,
          0.7959999999999999,
          0.685,
          0.516,
          0.495,
          0.41,
          0.366,
          0.386,
          0.7190000000000001,
          0.37200000000000005,
          0.792,
          0.718,
          0.672,
          0.428,
          0.7120000000000001,
          0.044000000000000004,
          0.5670000000000001,
          0.731,
          0.7390000000000001,
          0.584,
          0.785,
          0.626,
          0.462,
          0.495,
          0.41,
          0.40399999999999997,
          0.386,
          0.736,
          0.37200000000000005,
          0.7909999999999999,
          0.718,
          0.672,
          0.428,
          0.7120000000000001,
          0.044000000000000004,
          0.5670000000000001,
          0.682,
          0.713,
          0.604,
          0.773,
          0.635,
          0.462,
          0.495,
          0.41,
          0.408,
          0.40299999999999997,
          0.732,
          0.402,
          0.732,
          0.7440000000000001,
          0.6829999999999999,
          0.45399999999999996,
          0.77,
          0.0493,
          0.495,
          0.722,
          0.7509999999999999,
          0.591,
          0.7959999999999999,
          0.685,
          0.516,
          0.495,
          0.41,
          0.366,
          0.386,
          0.7190000000000001,
          0.34,
          0.465,
          0.43799999999999994,
          0.17800000000000002,
          0.16699999999999998,
          0.598,
          0.37,
          0.732,
          0.536,
          0.37,
          0.484,
          0.205,
          0.426,
          0.32,
          0.44299999999999995,
          0.474,
          0.168,
          0.196,
          0.596,
          0.369,
          0.731,
          0.5589999999999999,
          0.37200000000000005,
          0.434,
          0.184,
          0.45799999999999996
         ],
         "xaxis": "x",
         "y": [
          0.903,
          0.731,
          0.787,
          0.634,
          0.737,
          0.73,
          0.7140000000000001,
          0.414,
          0.42200000000000004,
          0.728,
          0.757,
          0.775,
          0.619,
          0.355,
          0.612,
          0.494,
          0.542,
          0.88,
          0.9259999999999999,
          0.382,
          0.902,
          0.73,
          0.787,
          0.635,
          0.736,
          0.73,
          0.715,
          0.41600000000000004,
          0.42100000000000004,
          0.73,
          0.7559999999999999,
          0.775,
          0.618,
          0.358,
          0.611,
          0.493,
          0.54,
          0.8809999999999999,
          0.9229999999999999,
          0.907,
          0.73,
          0.8079999999999999,
          0.632,
          0.74,
          0.722,
          0.713,
          0.4,
          0.423,
          0.7240000000000001,
          0.7559999999999999,
          0.773,
          0.633,
          0.358,
          0.613,
          0.48100000000000004,
          0.529,
          0.897,
          0.929,
          0.374,
          0.907,
          0.73,
          0.8079999999999999,
          0.631,
          0.741,
          0.721,
          0.7170000000000001,
          0.4,
          0.42200000000000004,
          0.7240000000000001,
          0.7559999999999999,
          0.773,
          0.636,
          0.355,
          0.612,
          0.478,
          0.529,
          0.897,
          0.93,
          0.46299999999999997,
          0.38799999999999996,
          0.505,
          0.445,
          0.703,
          0.495,
          0.466,
          0.657,
          0.5720000000000001,
          0.434,
          0.736,
          0.605,
          0.6920000000000001,
          0.604,
          0.67,
          0.21,
          0.423,
          0.389,
          0.505,
          0.46,
          0.6920000000000001,
          0.511,
          0.48100000000000004,
          0.642,
          0.59,
          0.447,
          0.735,
          0.605,
          0.69,
          0.586,
          0.675,
          0.21100000000000002,
          0.823,
          0.687,
          0.9520000000000001,
          0.6829999999999999,
          0.746,
          0.821,
          0.8059999999999999,
          0.807,
          0.742,
          0.8240000000000001,
          0.5660000000000001,
          0.782,
          0.784,
          0.7659999999999999,
          0.69,
          0.858,
          0.7120000000000001,
          0.716,
          0.858,
          0.772,
          0.764,
          0.6509999999999999,
          0.9420000000000001,
          0.8270000000000001,
          0.7240000000000001,
          0.805,
          0.83,
          0.833,
          0.675,
          0.951,
          0.696,
          0.746,
          0.8340000000000001,
          0.8009999999999999,
          0.81,
          0.7440000000000001,
          0.8390000000000001,
          0.574,
          0.769,
          0.794,
          0.7979999999999999,
          0.67,
          0.8390000000000001,
          0.6970000000000001,
          0.723,
          0.853,
          0.7759999999999999,
          0.77,
          0.6509999999999999,
          0.9420000000000001,
          0.8270000000000001,
          0.726,
          0.805,
          0.847,
          0.833,
          0.675,
          0.951,
          0.696,
          0.746,
          0.8340000000000001,
          0.8009999999999999,
          0.81,
          0.7440000000000001,
          0.8390000000000001,
          0.574,
          0.769,
          0.794,
          0.7979999999999999,
          0.67,
          0.8390000000000001,
          0.6970000000000001,
          0.723,
          0.853,
          0.7759999999999999,
          0.77,
          0.6509999999999999,
          0.9420000000000001,
          0.8270000000000001,
          0.726,
          0.805,
          0.847,
          0.742,
          0.8240000000000001,
          0.5660000000000001,
          0.782,
          0.784,
          0.7659999999999999,
          0.69,
          0.858,
          0.7120000000000001,
          0.716,
          0.858,
          0.772,
          0.764,
          0.6509999999999999,
          0.9420000000000001,
          0.8270000000000001,
          0.7240000000000001,
          0.805,
          0.83,
          0.7440000000000001,
          0.8390000000000001,
          0.574,
          0.769,
          0.794,
          0.7979999999999999,
          0.67,
          0.8390000000000001,
          0.6970000000000001,
          0.723,
          0.853,
          0.7759999999999999,
          0.77,
          0.6509999999999999,
          0.9420000000000001,
          0.8270000000000001,
          0.726,
          0.805,
          0.847,
          0.7440000000000001,
          0.836,
          0.574,
          0.769,
          0.794,
          0.7979999999999999,
          0.67,
          0.8390000000000001,
          0.7040000000000001,
          0.721,
          0.853,
          0.778,
          0.767,
          0.6509999999999999,
          0.9420000000000001,
          0.8270000000000001,
          0.726,
          0.8109999999999999,
          0.8540000000000001,
          0.742,
          0.8240000000000001,
          0.5660000000000001,
          0.782,
          0.784,
          0.7659999999999999,
          0.69,
          0.858,
          0.7120000000000001,
          0.716,
          0.858,
          0.772,
          0.764,
          0.6509999999999999,
          0.9420000000000001,
          0.8270000000000001,
          0.7240000000000001,
          0.805,
          0.83,
          0.826,
          0.9470000000000001,
          0.43,
          0.687,
          0.8490000000000001,
          0.736,
          0.884,
          0.6970000000000001,
          0.903,
          0.9359999999999999,
          0.7440000000000001,
          0.52,
          0.8,
          0.835,
          0.9470000000000001,
          0.414,
          0.6829999999999999,
          0.848,
          0.7290000000000001,
          0.882,
          0.698,
          0.903,
          0.9359999999999999,
          0.738,
          0.52,
          0.805
         ],
         "yaxis": "y"
        },
        {
         "customdata": [
          [
           "shut up"
          ],
          [
           "34+35"
          ],
          [
           "motive (with Doja Cat)"
          ],
          [
           "just like magic"
          ],
          [
           "off the table (with The Weeknd)"
          ],
          [
           "six thirty"
          ],
          [
           "safety net (feat. Ty Dolla $ign)"
          ],
          [
           "my hair"
          ],
          [
           "nasty"
          ],
          [
           "west side"
          ],
          [
           "love language"
          ],
          [
           "positions"
          ],
          [
           "obvious"
          ],
          [
           "pov"
          ],
          [
           "shut up"
          ],
          [
           "34+35"
          ],
          [
           "motive (with Doja Cat)"
          ],
          [
           "just like magic"
          ],
          [
           "off the table (with The Weeknd)"
          ],
          [
           "six thirty"
          ],
          [
           "safety net (feat. Ty Dolla $ign)"
          ],
          [
           "my hair"
          ],
          [
           "nasty"
          ],
          [
           "west side"
          ],
          [
           "love language"
          ],
          [
           "positions"
          ],
          [
           "obvious"
          ],
          [
           "pov"
          ],
          [
           "imagine"
          ],
          [
           "needy"
          ],
          [
           "NASA"
          ],
          [
           "bloodline"
          ],
          [
           "fake smile"
          ],
          [
           "bad idea"
          ],
          [
           "make up"
          ],
          [
           "ghostin"
          ],
          [
           "in my head"
          ],
          [
           "7 rings"
          ],
          [
           "thank u, next"
          ],
          [
           "break up with your girlfriend, i'm bored"
          ],
          [
           "raindrops (an angel cried)"
          ],
          [
           "blazed (feat. Pharrell Williams)"
          ],
          [
           "the light is coming (feat. Nicki Minaj)"
          ],
          [
           "R.E.M"
          ],
          [
           "God is a woman"
          ],
          [
           "sweetener"
          ],
          [
           "successful"
          ],
          [
           "everytime"
          ],
          [
           "breathin"
          ],
          [
           "no tears left to cry"
          ],
          [
           "borderline (feat. Missy Elliott)"
          ],
          [
           "better off"
          ],
          [
           "goodnight n go"
          ],
          [
           "pete davidson"
          ],
          [
           "get well soon"
          ],
          [
           "raindrops (an angel cried)"
          ],
          [
           "blazed (feat. Pharrell Williams)"
          ],
          [
           "the light is coming (feat. Nicki Minaj)"
          ],
          [
           "R.E.M"
          ],
          [
           "God is a woman"
          ],
          [
           "sweetener"
          ],
          [
           "successful"
          ],
          [
           "everytime"
          ],
          [
           "breathin"
          ],
          [
           "no tears left to cry"
          ],
          [
           "borderline (feat. Missy Elliott)"
          ],
          [
           "better off"
          ],
          [
           "goodnight n go"
          ],
          [
           "pete davidson"
          ],
          [
           "get well soon"
          ],
          [
           "imagine"
          ],
          [
           "needy"
          ],
          [
           "NASA"
          ],
          [
           "bloodline"
          ],
          [
           "fake smile"
          ],
          [
           "bad idea"
          ],
          [
           "make up"
          ],
          [
           "ghostin"
          ],
          [
           "in my head"
          ],
          [
           "7 rings"
          ],
          [
           "thank u, next"
          ],
          [
           "break up with your girlfriend, i'm bored"
          ],
          [
           "Moonlight"
          ],
          [
           "Dangerous Woman"
          ],
          [
           "Be Alright"
          ],
          [
           "Into You"
          ],
          [
           "Side To Side"
          ],
          [
           "Let Me Love You"
          ],
          [
           "Greedy"
          ],
          [
           "Leave Me Lonely"
          ],
          [
           "Everyday"
          ],
          [
           "Sometimes"
          ],
          [
           "I Don't Care"
          ],
          [
           "Bad Decisions"
          ],
          [
           "Touch It"
          ],
          [
           "Knew Better / Forever Boy"
          ],
          [
           "Thinking Bout You"
          ],
          [
           "Focus"
          ],
          [
           "Moonlight"
          ],
          [
           "Dangerous Woman"
          ],
          [
           "Be Alright"
          ],
          [
           "Into You"
          ],
          [
           "Side To Side"
          ],
          [
           "Let Me Love You"
          ],
          [
           "Greedy"
          ],
          [
           "Leave Me Lonely"
          ],
          [
           "Everyday"
          ],
          [
           "Sometimes"
          ],
          [
           "I Don't Care"
          ],
          [
           "Bad Decisions"
          ],
          [
           "Touch It"
          ],
          [
           "Knew Better / Forever Boy"
          ],
          [
           "Thinking Bout You"
          ],
          [
           "Moonlight"
          ],
          [
           "Dangerous Woman"
          ],
          [
           "Be Alright"
          ],
          [
           "Into You"
          ],
          [
           "Side To Side"
          ],
          [
           "Let Me Love You"
          ],
          [
           "Greedy"
          ],
          [
           "Leave Me Lonely"
          ],
          [
           "Everyday"
          ],
          [
           "Bad Decisions"
          ],
          [
           "Thinking Bout You"
          ],
          [
           "Moonlight"
          ],
          [
           "Dangerous Woman"
          ],
          [
           "Be Alright"
          ],
          [
           "Into You"
          ],
          [
           "Side To Side"
          ],
          [
           "Let Me Love You"
          ],
          [
           "Greedy"
          ],
          [
           "Leave Me Lonely"
          ],
          [
           "Everyday"
          ],
          [
           "Sometimes"
          ],
          [
           "I Don't Care"
          ],
          [
           "Bad Decisions"
          ],
          [
           "Touch It"
          ],
          [
           "Knew Better / Forever Boy"
          ],
          [
           "Thinking Bout You"
          ],
          [
           "Moonlight"
          ],
          [
           "Dangerous Woman"
          ],
          [
           "Be Alright"
          ],
          [
           "Into You"
          ],
          [
           "Side To Side"
          ],
          [
           "Let Me Love You"
          ],
          [
           "Greedy"
          ],
          [
           "Leave Me Lonely"
          ],
          [
           "Everyday"
          ],
          [
           "Sometimes"
          ],
          [
           "I Don't Care"
          ],
          [
           "Bad Decisions"
          ],
          [
           "Touch It"
          ],
          [
           "Knew Better / Forever Boy"
          ],
          [
           "Thinking Bout You"
          ],
          [
           "Moonlight"
          ],
          [
           "Dangerous Woman"
          ],
          [
           "Be Alright"
          ],
          [
           "Into You"
          ],
          [
           "Side To Side"
          ],
          [
           "Let Me Love You"
          ],
          [
           "Greedy"
          ],
          [
           "Leave Me Lonely"
          ],
          [
           "Everyday"
          ],
          [
           "Bad Decisions"
          ],
          [
           "Thinking Bout You"
          ],
          [
           "Moonlight"
          ],
          [
           "Dangerous Woman"
          ],
          [
           "Be Alright"
          ],
          [
           "Into You"
          ],
          [
           "Side To Side"
          ],
          [
           "Let Me Love You"
          ],
          [
           "Greedy"
          ],
          [
           "Leave Me Lonely"
          ],
          [
           "Everyday"
          ],
          [
           "Sometimes"
          ],
          [
           "I Don't Care"
          ],
          [
           "Bad Decisions"
          ],
          [
           "Touch It"
          ],
          [
           "Knew Better / Forever Boy"
          ],
          [
           "Thinking Bout You"
          ],
          [
           "The Way - Sidney Samson Remix"
          ],
          [
           "Right There - 7th Heaven Radio Edit"
          ],
          [
           "Right There - Ralphi Rosario Radio"
          ],
          [
           "Baby I - Cosmic Dawn Radio Edit"
          ],
          [
           "Baby I - A Director’s Cut Radio Edit"
          ],
          [
           "Problem - Wayne G Radio Edit"
          ],
          [
           "Problem - Dave Aude Twerk Edit"
          ],
          [
           "Problem - Dawin Remix"
          ],
          [
           "Break Free - Zedd's Extended Mix"
          ],
          [
           "Bang Bang - Dada Life Remix"
          ],
          [
           "Bang Bang - 3LAU Remix"
          ],
          [
           "Love Me Harder - Kassiano Remix"
          ],
          [
           "Love Me Harder - Gregor Salto Amsterdam Mix"
          ],
          [
           "Love Me Harder - DJ Class Remix"
          ],
          [
           "One Last Time - Gazzo Remix"
          ],
          [
           "Intro"
          ],
          [
           "Problem"
          ],
          [
           "One Last Time"
          ],
          [
           "Why Try"
          ],
          [
           "Break Free"
          ],
          [
           "Best Mistake"
          ],
          [
           "Be My Baby"
          ],
          [
           "Break Your Heart Right Back"
          ],
          [
           "Love Me Harder"
          ],
          [
           "Just A Little Bit Of Your Heart"
          ],
          [
           "Hands On Me"
          ],
          [
           "My Everything"
          ],
          [
           "Bang Bang"
          ],
          [
           "Only 1"
          ],
          [
           "You Don't Know Me"
          ],
          [
           "Cadillac Song"
          ],
          [
           "Too Close"
          ],
          [
           "Baby I"
          ],
          [
           "Intro"
          ],
          [
           "Problem"
          ],
          [
           "One Last Time"
          ],
          [
           "Why Try"
          ],
          [
           "Break Free"
          ],
          [
           "Best Mistake"
          ],
          [
           "Be My Baby"
          ],
          [
           "Break Your Heart Right Back"
          ],
          [
           "Love Me Harder"
          ],
          [
           "Just A Little Bit Of Your Heart"
          ],
          [
           "Hands On Me"
          ],
          [
           "My Everything"
          ],
          [
           "Bang Bang"
          ],
          [
           "Only 1"
          ],
          [
           "You Don't Know Me"
          ],
          [
           "Intro"
          ],
          [
           "Problem"
          ],
          [
           "One Last Time"
          ],
          [
           "Why Try"
          ],
          [
           "Break Free"
          ],
          [
           "Best Mistake"
          ],
          [
           "Be My Baby"
          ],
          [
           "Break Your Heart Right Back"
          ],
          [
           "Love Me Harder"
          ],
          [
           "Just A Little Bit Of Your Heart"
          ],
          [
           "Hands On Me"
          ],
          [
           "My Everything"
          ],
          [
           "Intro"
          ],
          [
           "Problem"
          ],
          [
           "One Last Time"
          ],
          [
           "Why Try"
          ],
          [
           "Break Free"
          ],
          [
           "Best Mistake"
          ],
          [
           "Be My Baby"
          ],
          [
           "Break Your Heart Right Back"
          ],
          [
           "Love Me Harder"
          ],
          [
           "Just A Little Bit Of Your Heart"
          ],
          [
           "Hands On Me"
          ],
          [
           "My Everything"
          ],
          [
           "Honeymoon Avenue"
          ],
          [
           "Baby I"
          ],
          [
           "Right There"
          ],
          [
           "Tattooed Heart"
          ],
          [
           "Lovin' It"
          ],
          [
           "Piano"
          ],
          [
           "Daydreamin'"
          ],
          [
           "The Way"
          ],
          [
           "You’ll Never Know"
          ],
          [
           "Almost Is Never Enough"
          ],
          [
           "Popular Song"
          ],
          [
           "Better Left Unsaid"
          ],
          [
           "The Way - JdB Radio"
          ],
          [
           "Baby I - Cosmic Dawn Radio Edit"
          ],
          [
           "Right There - 7th Heaven Radio Edit"
          ],
          [
           "Honeymoon Avenue"
          ],
          [
           "Baby I"
          ],
          [
           "Right There"
          ],
          [
           "Tattooed Heart"
          ],
          [
           "Lovin' It"
          ],
          [
           "Piano"
          ],
          [
           "Daydreamin'"
          ],
          [
           "The Way"
          ],
          [
           "You’ll Never Know"
          ],
          [
           "Almost Is Never Enough"
          ],
          [
           "Popular Song"
          ],
          [
           "Better Left Unsaid"
          ],
          [
           "Honeymoon Avenue"
          ],
          [
           "Baby I"
          ],
          [
           "Right There"
          ],
          [
           "Tattooed Heart"
          ],
          [
           "Lovin' It"
          ],
          [
           "Piano"
          ],
          [
           "Daydreamin'"
          ],
          [
           "The Way"
          ],
          [
           "You’ll Never Know"
          ],
          [
           "Almost Is Never Enough"
          ],
          [
           "Popular Song"
          ],
          [
           "Better Left Unsaid"
          ]
         ],
         "hovertemplate": "Artist(s)=Ariana Grande<br>Positiveness (valence)=%{x}<br>Energy=%{y}<br>Song Title=%{customdata[0]}<extra></extra>",
         "legendgroup": "Ariana Grande",
         "marker": {
          "color": "#FFA15A",
          "symbol": "circle"
         },
         "mode": "markers",
         "name": "Ariana Grande",
         "showlegend": true,
         "type": "scattergl",
         "x": [
          0.599,
          0.485,
          0.6609999999999999,
          0.46399999999999997,
          0.382,
          0.434,
          0.0916,
          0.37200000000000005,
          0.456,
          0.557,
          0.5529999999999999,
          0.682,
          0.26,
          0.17300000000000001,
          0.62,
          0.496,
          0.6459999999999999,
          0.43700000000000006,
          0.389,
          0.41600000000000004,
          0.094,
          0.345,
          0.53,
          0.588,
          0.562,
          0.617,
          0.272,
          0.165,
          0.371,
          0.195,
          0.47,
          0.643,
          0.42700000000000005,
          0.569,
          0.47700000000000004,
          0.11,
          0.331,
          0.327,
          0.41200000000000003,
          0.335,
          0.429,
          0.855,
          0.687,
          0.622,
          0.268,
          0.46,
          0.735,
          0.6579999999999999,
          0.364,
          0.354,
          0.348,
          0.0549,
          0.24,
          0.304,
          0.528,
          0.431,
          0.8540000000000001,
          0.7020000000000001,
          0.627,
          0.28,
          0.46399999999999997,
          0.737,
          0.6579999999999999,
          0.41700000000000004,
          0.361,
          0.34600000000000003,
          0.0576,
          0.24,
          0.304,
          0.531,
          0.363,
          0.20199999999999999,
          0.48100000000000004,
          0.633,
          0.40700000000000003,
          0.575,
          0.42700000000000005,
          0.111,
          0.354,
          0.316,
          0.408,
          0.32899999999999996,
          0.209,
          0.29,
          0.5870000000000001,
          0.37200000000000005,
          0.612,
          0.0781,
          0.8440000000000001,
          0.374,
          0.43200000000000005,
          0.561,
          0.287,
          0.787,
          0.293,
          0.37200000000000005,
          0.401,
          0.79,
          0.214,
          0.289,
          0.5870000000000001,
          0.37,
          0.613,
          0.0781,
          0.8440000000000001,
          0.389,
          0.431,
          0.568,
          0.28800000000000003,
          0.7879999999999999,
          0.29100000000000004,
          0.37200000000000005,
          0.406,
          0.214,
          0.289,
          0.5870000000000001,
          0.37,
          0.613,
          0.0781,
          0.8440000000000001,
          0.389,
          0.431,
          0.794,
          0.396,
          0.209,
          0.29,
          0.5870000000000001,
          0.37200000000000005,
          0.67,
          0.0781,
          0.8440000000000001,
          0.374,
          0.457,
          0.561,
          0.23,
          0.8170000000000001,
          0.293,
          0.37200000000000005,
          0.434,
          0.214,
          0.289,
          0.5870000000000001,
          0.37,
          0.67,
          0.0781,
          0.8440000000000001,
          0.389,
          0.457,
          0.568,
          0.23199999999999998,
          0.8140000000000001,
          0.29100000000000004,
          0.37200000000000005,
          0.436,
          0.209,
          0.29,
          0.5870000000000001,
          0.37200000000000005,
          0.67,
          0.0781,
          0.8440000000000001,
          0.374,
          0.457,
          0.809,
          0.426,
          0.209,
          0.29,
          0.5870000000000001,
          0.37200000000000005,
          0.612,
          0.0781,
          0.8440000000000001,
          0.374,
          0.43200000000000005,
          0.561,
          0.287,
          0.787,
          0.293,
          0.37200000000000005,
          0.401,
          0.0392,
          0.66,
          0.84,
          0.585,
          0.43799999999999994,
          0.741,
          0.5660000000000001,
          0.568,
          0.21,
          0.258,
          0.38299999999999995,
          0.815,
          0.523,
          0.56,
          0.531,
          0.0955,
          0.62,
          0.10300000000000001,
          0.34,
          0.284,
          0.225,
          0.42,
          0.599,
          0.24600000000000002,
          0.152,
          0.358,
          0.41100000000000003,
          0.777,
          0.382,
          0.369,
          0.336,
          0.5770000000000001,
          0.45799999999999996,
          0.096,
          0.625,
          0.10400000000000001,
          0.331,
          0.284,
          0.233,
          0.434,
          0.588,
          0.24,
          0.16,
          0.376,
          0.423,
          0.7,
          0.384,
          0.37,
          0.096,
          0.613,
          0.10300000000000001,
          0.331,
          0.284,
          0.233,
          0.434,
          0.588,
          0.24,
          0.16,
          0.376,
          0.423,
          0.0959,
          0.611,
          0.10400000000000001,
          0.33799999999999997,
          0.29,
          0.233,
          0.434,
          0.5870000000000001,
          0.244,
          0.158,
          0.377,
          0.42100000000000004,
          0.449,
          0.517,
          0.561,
          0.314,
          0.449,
          0.7170000000000001,
          0.325,
          0.861,
          0.8690000000000001,
          0.335,
          0.8109999999999999,
          0.28,
          0.828,
          0.588,
          0.6609999999999999,
          0.44799999999999995,
          0.542,
          0.561,
          0.32,
          0.428,
          0.725,
          0.322,
          0.862,
          0.8690000000000001,
          0.33399999999999996,
          0.8109999999999999,
          0.28300000000000003,
          0.449,
          0.517,
          0.561,
          0.314,
          0.449,
          0.7170000000000001,
          0.325,
          0.861,
          0.8690000000000001,
          0.335,
          0.8109999999999999,
          0.28
         ],
         "xaxis": "x",
         "y": [
          0.462,
          0.585,
          0.742,
          0.607,
          0.522,
          0.516,
          0.599,
          0.526,
          0.506,
          0.455,
          0.573,
          0.802,
          0.672,
          0.534,
          0.434,
          0.5770000000000001,
          0.7509999999999999,
          0.605,
          0.523,
          0.516,
          0.596,
          0.529,
          0.512,
          0.46,
          0.5660000000000001,
          0.805,
          0.623,
          0.5329999999999999,
          0.475,
          0.309,
          0.45799999999999996,
          0.665,
          0.619,
          0.579,
          0.7140000000000001,
          0.364,
          0.6,
          0.317,
          0.653,
          0.5539999999999999,
          0.231,
          0.759,
          0.547,
          0.485,
          0.6579999999999999,
          0.45899999999999996,
          0.603,
          0.614,
          0.6559999999999999,
          0.713,
          0.818,
          0.524,
          0.45399999999999996,
          0.31,
          0.449,
          0.231,
          0.759,
          0.55,
          0.485,
          0.6579999999999999,
          0.461,
          0.601,
          0.612,
          0.6459999999999999,
          0.713,
          0.818,
          0.542,
          0.45299999999999996,
          0.312,
          0.45,
          0.48,
          0.315,
          0.461,
          0.654,
          0.629,
          0.58,
          0.728,
          0.358,
          0.607,
          0.321,
          0.662,
          0.563,
          0.41200000000000003,
          0.602,
          0.456,
          0.7340000000000001,
          0.736,
          0.435,
          0.705,
          0.449,
          0.733,
          0.6659999999999999,
          0.40299999999999997,
          0.6459999999999999,
          0.6940000000000001,
          0.38,
          0.6970000000000001,
          0.8759999999999999,
          0.41200000000000003,
          0.602,
          0.456,
          0.7340000000000001,
          0.736,
          0.435,
          0.705,
          0.446,
          0.733,
          0.6659999999999999,
          0.40299999999999997,
          0.645,
          0.6940000000000001,
          0.381,
          0.696,
          0.41200000000000003,
          0.602,
          0.456,
          0.7340000000000001,
          0.736,
          0.435,
          0.705,
          0.446,
          0.733,
          0.653,
          0.696,
          0.41200000000000003,
          0.602,
          0.456,
          0.7340000000000001,
          0.725,
          0.435,
          0.705,
          0.449,
          0.721,
          0.6659999999999999,
          0.4,
          0.643,
          0.6940000000000001,
          0.38,
          0.7040000000000001,
          0.41200000000000003,
          0.602,
          0.456,
          0.7340000000000001,
          0.725,
          0.435,
          0.705,
          0.446,
          0.721,
          0.6659999999999999,
          0.401,
          0.642,
          0.6940000000000001,
          0.381,
          0.7040000000000001,
          0.41200000000000003,
          0.602,
          0.456,
          0.7340000000000001,
          0.725,
          0.435,
          0.705,
          0.449,
          0.721,
          0.643,
          0.6970000000000001,
          0.41200000000000003,
          0.602,
          0.456,
          0.7340000000000001,
          0.736,
          0.435,
          0.705,
          0.449,
          0.733,
          0.6659999999999999,
          0.40299999999999997,
          0.6459999999999999,
          0.6940000000000001,
          0.38,
          0.6970000000000001,
          0.5770000000000001,
          0.897,
          0.927,
          0.823,
          0.758,
          0.924,
          0.92,
          0.812,
          0.72,
          0.9520000000000001,
          0.877,
          0.9309999999999999,
          0.501,
          0.643,
          0.917,
          0.183,
          0.8029999999999999,
          0.6,
          0.6659999999999999,
          0.7020000000000001,
          0.575,
          0.583,
          0.605,
          0.7140000000000001,
          0.319,
          0.764,
          0.264,
          0.755,
          0.841,
          0.631,
          0.413,
          0.723,
          0.738,
          0.182,
          0.805,
          0.593,
          0.6629999999999999,
          0.7020000000000001,
          0.578,
          0.586,
          0.605,
          0.7140000000000001,
          0.322,
          0.7659999999999999,
          0.265,
          0.747,
          0.8420000000000001,
          0.631,
          0.182,
          0.805,
          0.6,
          0.6629999999999999,
          0.7020000000000001,
          0.578,
          0.586,
          0.605,
          0.7140000000000001,
          0.322,
          0.7659999999999999,
          0.265,
          0.182,
          0.805,
          0.601,
          0.6629999999999999,
          0.7020000000000001,
          0.578,
          0.586,
          0.605,
          0.7120000000000001,
          0.32299999999999995,
          0.7659999999999999,
          0.265,
          0.608,
          0.7959999999999999,
          0.8340000000000001,
          0.521,
          0.821,
          0.804,
          0.643,
          0.877,
          0.8420000000000001,
          0.327,
          0.809,
          0.831,
          0.871,
          0.821,
          0.894,
          0.608,
          0.7959999999999999,
          0.8340000000000001,
          0.519,
          0.825,
          0.804,
          0.648,
          0.878,
          0.8420000000000001,
          0.327,
          0.81,
          0.83,
          0.608,
          0.7959999999999999,
          0.8340000000000001,
          0.521,
          0.821,
          0.804,
          0.643,
          0.877,
          0.8420000000000001,
          0.327,
          0.809,
          0.831
         ],
         "yaxis": "y"
        },
        {
         "customdata": [
          [
           "willow"
          ],
          [
           "champagne problems"
          ],
          [
           "gold rush"
          ],
          [
           "‘tis the damn season"
          ],
          [
           "tolerate it"
          ],
          [
           "no body, no crime (feat. HAIM)"
          ],
          [
           "happiness"
          ],
          [
           "dorothea"
          ],
          [
           "coney island (feat. The National)"
          ],
          [
           "ivy"
          ],
          [
           "cowboy like me"
          ],
          [
           "long story short"
          ],
          [
           "marjorie"
          ],
          [
           "closure"
          ],
          [
           "evermore (feat. Bon Iver)"
          ],
          [
           "willow"
          ],
          [
           "champagne problems"
          ],
          [
           "gold rush"
          ],
          [
           "‘tis the damn season"
          ],
          [
           "tolerate it"
          ],
          [
           "no body, no crime (feat. HAIM)"
          ],
          [
           "happiness"
          ],
          [
           "dorothea"
          ],
          [
           "coney island (feat. The National)"
          ],
          [
           "ivy"
          ],
          [
           "cowboy like me"
          ],
          [
           "long story short"
          ],
          [
           "marjorie"
          ],
          [
           "closure"
          ],
          [
           "evermore (feat. Bon Iver)"
          ],
          [
           "willow"
          ],
          [
           "champagne problems"
          ],
          [
           "gold rush"
          ],
          [
           "‘tis the damn season"
          ],
          [
           "tolerate it"
          ],
          [
           "no body, no crime (feat. HAIM)"
          ],
          [
           "happiness"
          ],
          [
           "dorothea"
          ],
          [
           "coney island (feat. The National)"
          ],
          [
           "ivy"
          ],
          [
           "cowboy like me"
          ],
          [
           "long story short"
          ],
          [
           "marjorie"
          ],
          [
           "closure"
          ],
          [
           "evermore (feat. Bon Iver)"
          ],
          [
           "the 1"
          ],
          [
           "cardigan"
          ],
          [
           "the last great american dynasty"
          ],
          [
           "exile (feat. Bon Iver)"
          ],
          [
           "my tears ricochet"
          ],
          [
           "mirrorball"
          ],
          [
           "seven"
          ],
          [
           "august"
          ],
          [
           "this is me trying"
          ],
          [
           "illicit affairs"
          ],
          [
           "invisible string"
          ],
          [
           "mad woman"
          ],
          [
           "epiphany"
          ],
          [
           "betty"
          ],
          [
           "peace"
          ],
          [
           "hoax"
          ],
          [
           "the 1"
          ],
          [
           "cardigan"
          ],
          [
           "the last great american dynasty"
          ],
          [
           "exile (feat. Bon Iver)"
          ],
          [
           "my tears ricochet"
          ],
          [
           "mirrorball"
          ],
          [
           "seven"
          ],
          [
           "august"
          ],
          [
           "this is me trying"
          ],
          [
           "illicit affairs"
          ],
          [
           "invisible string"
          ],
          [
           "mad woman"
          ],
          [
           "epiphany"
          ],
          [
           "betty"
          ],
          [
           "peace"
          ],
          [
           "hoax"
          ],
          [
           "I Forgot That You Existed"
          ],
          [
           "Cruel Summer"
          ],
          [
           "Lover"
          ],
          [
           "The Man"
          ],
          [
           "The Archer"
          ],
          [
           "I Think He Knows"
          ],
          [
           "Miss Americana & The Heartbreak Prince"
          ],
          [
           "Paper Rings"
          ],
          [
           "Cornelia Street"
          ],
          [
           "Death By A Thousand Cuts"
          ],
          [
           "London Boy"
          ],
          [
           "Soon You’ll Get Better (feat. The Chicks)"
          ],
          [
           "False God"
          ],
          [
           "You Need To Calm Down"
          ],
          [
           "Afterglow"
          ],
          [
           "ME! (feat. Brendon Urie of Panic! At The Disco)"
          ],
          [
           "It’s Nice To Have A Friend"
          ],
          [
           "Daylight"
          ],
          [
           "...Ready For It? - Karaoke Version"
          ],
          [
           "End Game - Karaoke Version"
          ],
          [
           "I Did Something Bad - Karaoke Version"
          ],
          [
           "Don't Blame Me - Karaoke Version"
          ],
          [
           "Delicate - Karaoke Version"
          ],
          [
           "Look What You Made Me Do - Karaoke Version"
          ],
          [
           "So It Goes... - Karaoke Version"
          ],
          [
           "Gorgeous - Karaoke Version"
          ],
          [
           "Getaway Car - Karaoke Version"
          ],
          [
           "King Of My Heart - Karaoke Version"
          ],
          [
           "Dancing With Our Hands Tied - Karaoke Version"
          ],
          [
           "Dress - Karaoke Version"
          ],
          [
           "This Is Why We Can't Have Nice Things - Karaoke Version"
          ],
          [
           "Call It What You Want - Karaoke Version"
          ],
          [
           "New Year's Day - Karaoke Version"
          ],
          [
           "...Ready For It?"
          ],
          [
           "End Game"
          ],
          [
           "I Did Something Bad"
          ],
          [
           "Don’t Blame Me"
          ],
          [
           "Delicate"
          ],
          [
           "Look What You Made Me Do"
          ],
          [
           "So It Goes..."
          ],
          [
           "Gorgeous"
          ],
          [
           "Getaway Car"
          ],
          [
           "King Of My Heart"
          ],
          [
           "Dancing With Our Hands Tied"
          ],
          [
           "Dress"
          ],
          [
           "This Is Why We Can't Have Nice Things"
          ],
          [
           "Call It What You Want"
          ],
          [
           "New Year’s Day"
          ],
          [
           "…Ready For It? - Commentary"
          ],
          [
           "...Ready For It?"
          ],
          [
           "End Game - Commentary"
          ],
          [
           "End Game"
          ],
          [
           "I Did Something Bad - Commentary"
          ],
          [
           "I Did Something Bad"
          ],
          [
           "Don't Blame Me - Commentary"
          ],
          [
           "Don’t Blame Me"
          ],
          [
           "Delicate - Commentary"
          ],
          [
           "Delicate"
          ],
          [
           "Look What You Made Me Do - Commentary"
          ],
          [
           "Look What You Made Me Do"
          ],
          [
           "So It Goes… - Commentary"
          ],
          [
           "So It Goes..."
          ],
          [
           "Gorgeous - Commentary"
          ],
          [
           "Gorgeous"
          ],
          [
           "Getaway Car - Commentary"
          ],
          [
           "Getaway Car"
          ],
          [
           "King Of My Heart - Commentary"
          ],
          [
           "King Of My Heart"
          ],
          [
           "Dancing With Our Hands Tied - Commentary"
          ],
          [
           "Dancing With Our Hands Tied"
          ],
          [
           "Dress - Commentary"
          ],
          [
           "Dress"
          ],
          [
           "This Is Why We Can't Have Nice Things - Commentary"
          ],
          [
           "This Is Why We Can't Have Nice Things"
          ],
          [
           "Call It What You Want - Commentary"
          ],
          [
           "Call It What You Want"
          ],
          [
           "New Year's Day - Commentary"
          ],
          [
           "New Year’s Day"
          ],
          [
           "Radio Outro - Commentary"
          ],
          [
           "All Too Well"
          ],
          [
           "Wildest Dreams"
          ],
          [
           "The Best Day"
          ],
          [
           "Red"
          ],
          [
           "Holy Ground"
          ],
          [
           "Teardrops On My Guitar - Radio Single Remix"
          ],
          [
           "Our Song"
          ],
          [
           "22"
          ],
          [
           "I Knew You Were Trouble."
          ],
          [
           "I Don’t Wanna Live Forever (Fifty Shades Darker)"
          ],
          [
           "Mean"
          ],
          [
           "How You Get The Girl"
          ],
          [
           "So It Goes..."
          ],
          [
           "Fifteen"
          ],
          [
           "Mine"
          ],
          [
           "Sparks Fly"
          ],
          [
           "State Of Grace"
          ],
          [
           "Haunted"
          ],
          [
           "Never Grow Up"
          ],
          [
           "Treacherous"
          ],
          [
           "Babe"
          ],
          [
           "Welcome To New York"
          ],
          [
           "Fearless"
          ],
          [
           "Enchanted"
          ],
          [
           "Change"
          ],
          [
           "Ours"
          ],
          [
           "Out Of The Woods"
          ],
          [
           "Come Back...Be Here"
          ],
          [
           "A Place in this World"
          ],
          [
           "This Love"
          ],
          [
           "The Lucky One"
          ],
          [
           "Invisible"
          ],
          [
           "Breathe"
          ],
          [
           "Better Man"
          ],
          [
           "Jump Then Fall"
          ],
          [
           "Begin Again"
          ],
          [
           "Tied Together with a Smile"
          ],
          [
           "The Story Of Us"
          ],
          [
           "Forever & Always"
          ],
          [
           "Hey Stephen"
          ],
          [
           "Speak Now"
          ],
          [
           "Wonderland"
          ],
          [
           "White Horse"
          ],
          [
           "I'm Only Me When I'm With You"
          ],
          [
           "Starlight"
          ],
          [
           "I Know Places"
          ],
          [
           "Welcome To New York"
          ],
          [
           "Blank Space"
          ],
          [
           "Style"
          ],
          [
           "Out Of The Woods"
          ],
          [
           "All You Had To Do Was Stay"
          ],
          [
           "Shake It Off"
          ],
          [
           "I Wish You Would"
          ],
          [
           "Bad Blood"
          ],
          [
           "Wildest Dreams"
          ],
          [
           "How You Get The Girl"
          ],
          [
           "This Love"
          ],
          [
           "I Know Places"
          ],
          [
           "Clean"
          ],
          [
           "Welcome To New York"
          ],
          [
           "Blank Space"
          ],
          [
           "Style"
          ],
          [
           "Out Of The Woods"
          ],
          [
           "All You Had To Do Was Stay"
          ],
          [
           "Shake It Off"
          ],
          [
           "I Wish You Would"
          ],
          [
           "Bad Blood"
          ],
          [
           "Wildest Dreams"
          ],
          [
           "How You Get The Girl"
          ],
          [
           "This Love"
          ],
          [
           "I Know Places"
          ],
          [
           "Clean"
          ],
          [
           "Welcome to New York - Commentary"
          ],
          [
           "Welcome To New York"
          ],
          [
           "Blank Space - Commentary"
          ],
          [
           "Blank Space"
          ],
          [
           "Style - Commentary"
          ],
          [
           "Style"
          ],
          [
           "Out Of The Woods - Commentary"
          ],
          [
           "Out Of The Woods"
          ],
          [
           "All You Had To Do Was Stay - Commentary"
          ],
          [
           "All You Had To Do Was Stay"
          ],
          [
           "Shake It Off - Commentary"
          ],
          [
           "Shake It Off"
          ],
          [
           "I Wish You Would - Commentary"
          ],
          [
           "I Wish You Would"
          ],
          [
           "Bad Blood - Commentary"
          ],
          [
           "Bad Blood"
          ],
          [
           "Wildest Dreams - Commentary"
          ],
          [
           "Wildest Dreams"
          ],
          [
           "How You Get The Girl - Commentary"
          ],
          [
           "How You Get The Girl"
          ],
          [
           "This Love - Commentary"
          ],
          [
           "This Love"
          ],
          [
           "I Know Places - Commentary"
          ],
          [
           "I Know Places"
          ],
          [
           "Clean - Commentary"
          ],
          [
           "Clean"
          ],
          [
           "Welcome To New York - Karaoke Version"
          ],
          [
           "Blank Space - Karaoke Version"
          ],
          [
           "Style - Karaoke Version"
          ],
          [
           "Out Of The Woods - Karaoke Version"
          ],
          [
           "All You Had To Do Was Stay - Karaoke Version"
          ],
          [
           "Shake It Off - Karaoke Version"
          ],
          [
           "I Wish You Would - Karaoke Version"
          ],
          [
           "Bad Blood - Karaoke Version"
          ],
          [
           "Wildest Dreams - Karaoke Version"
          ],
          [
           "How You Get The Girl - Karaoke Version"
          ],
          [
           "This Love - Karaoke Version"
          ],
          [
           "I Know Places - Karaoke Version"
          ],
          [
           "Clean - Karaoke Version"
          ],
          [
           "Welcome To New York"
          ],
          [
           "Blank Space"
          ],
          [
           "Style"
          ],
          [
           "Out Of The Woods"
          ],
          [
           "All You Had To Do Was Stay"
          ],
          [
           "Shake It Off"
          ],
          [
           "I Wish You Would"
          ],
          [
           "Bad Blood"
          ],
          [
           "Wildest Dreams"
          ],
          [
           "How You Get The Girl"
          ],
          [
           "This Love"
          ],
          [
           "I Know Places"
          ],
          [
           "Clean"
          ],
          [
           "State Of Grace"
          ],
          [
           "Red"
          ],
          [
           "Treacherous"
          ],
          [
           "I Knew You Were Trouble."
          ],
          [
           "All Too Well"
          ],
          [
           "22"
          ],
          [
           "I Almost Do"
          ],
          [
           "We Are Never Ever Getting Back Together"
          ],
          [
           "Stay Stay Stay"
          ],
          [
           "The Last Time"
          ],
          [
           "Holy Ground"
          ],
          [
           "Sad Beautiful Tragic"
          ],
          [
           "The Lucky One"
          ],
          [
           "Everything Has Changed"
          ],
          [
           "Starlight"
          ],
          [
           "Begin Again"
          ],
          [
           "State Of Grace - Commentary"
          ],
          [
           "State Of Grace"
          ],
          [
           "Red - Commentary"
          ],
          [
           "Red"
          ],
          [
           "Treacherous - Commentary"
          ],
          [
           "Treacherous"
          ],
          [
           "I Knew You Were Trouble. - Commentary"
          ],
          [
           "I Knew You Were Trouble."
          ],
          [
           "All Too Well - Commentary"
          ],
          [
           "All Too Well"
          ],
          [
           "22 - Commentary"
          ],
          [
           "22"
          ],
          [
           "I Almost Do - Commentary"
          ],
          [
           "I Almost Do"
          ],
          [
           "We Are Never Ever Getting Back Together - Commentary"
          ],
          [
           "We Are Never Ever Getting Back Together"
          ],
          [
           "Stay Stay Stay - Commentary"
          ],
          [
           "Stay Stay Stay"
          ],
          [
           "The Last Time - Commentary"
          ],
          [
           "The Last Time"
          ],
          [
           "Holy Ground - Commentary"
          ],
          [
           "Holy Ground"
          ],
          [
           "Sad Beautiful Tragic - Commentary"
          ],
          [
           "Sad Beautiful Tragic"
          ],
          [
           "The Lucky One - Commentary"
          ],
          [
           "The Lucky One"
          ],
          [
           "Everything Has Changed - Commentary"
          ],
          [
           "Everything Has Changed"
          ],
          [
           "Starlight - Commentary"
          ],
          [
           "Starlight"
          ],
          [
           "Begin Again - Commentary"
          ],
          [
           "Begin Again"
          ],
          [
           "State Of Grace - Karaoke Version"
          ],
          [
           "Red - Karaoke Version"
          ],
          [
           "Treacherous - Karaoke Version"
          ],
          [
           "I Knew You Were Trouble. - Karaoke Version"
          ],
          [
           "All Too Well - Karaoke Version"
          ],
          [
           "22 - Karaoke Version"
          ],
          [
           "I Almost Do - Karaoke Version"
          ],
          [
           "We Are Never Ever Getting Back Together - Karaoke Version"
          ],
          [
           "Stay Stay Stay - Karaoke Version"
          ],
          [
           "The Last Time - Karaoke Version"
          ],
          [
           "Holy Ground - Karaoke Version"
          ],
          [
           "Sad Beautiful Tragic - Karaoke Version"
          ],
          [
           "The Lucky One - Karaoke Version"
          ],
          [
           "Everything Has Changed - Karaoke Version"
          ],
          [
           "Starlight - Karaoke Version"
          ],
          [
           "Begin Again - Karaoke Version"
          ],
          [
           "State Of Grace - Instrumental With Background Vocals"
          ],
          [
           "Red - Instrumental With Background Vocals"
          ],
          [
           "Treacherous - Instrumental With Background Vocals"
          ],
          [
           "I Knew You Were Trouble. - Instrumental With Background Vocals"
          ],
          [
           "All Too Well - Instrumental With Background Vocals"
          ],
          [
           "22 - Instrumental With Background Vocals"
          ],
          [
           "I Almost Do - Instrumental With Background Vocals"
          ],
          [
           "We Are Never Ever Getting Back Together - Instrumental With Background Vocals"
          ],
          [
           "Stay Stay Stay - Instrumental With Background Vocals"
          ],
          [
           "The Last Time - Instrumental With Background Vocals"
          ],
          [
           "Holy Ground - Instrumental With Background Vocals"
          ],
          [
           "Sad Beautiful Tragic - Instrumental With Background Vocals"
          ],
          [
           "The Lucky One - Instrumental With Background Vocals"
          ],
          [
           "Everything Has Changed - Instrumental With Background Vocals"
          ],
          [
           "Starlight - Instrumental With Background Vocals"
          ],
          [
           "Begin Again - Instrumental With Background Vocals"
          ],
          [
           "Sparks Fly - Live/2011"
          ],
          [
           "Mine - Live/2011"
          ],
          [
           "The Story Of Us - Live"
          ],
          [
           "Mean - Live/2011"
          ],
          [
           "Ours - Live/2011"
          ],
          [
           "Back To December/Apologize/You're Not Sorry - Live/2011/Medley"
          ],
          [
           "Better Than Revenge - Live/2011"
          ],
          [
           "Speak Now - Live/2011"
          ],
          [
           "Last Kiss - Live/2011"
          ],
          [
           "Drops Of Jupiter - Live/2011"
          ],
          [
           "Bette Davis Eyes - Live/2011"
          ],
          [
           "I Want You Back - Live/2011"
          ],
          [
           "Dear John - Live/2011"
          ],
          [
           "Enchanted - Live/2011"
          ],
          [
           "Haunted - Live/2011"
          ],
          [
           "Long Live - Live/2011"
          ],
          [
           "Mine"
          ],
          [
           "Sparks Fly"
          ],
          [
           "Back To December"
          ],
          [
           "Speak Now"
          ],
          [
           "Dear John"
          ],
          [
           "Mean"
          ],
          [
           "The Story Of Us"
          ],
          [
           "Never Grow Up"
          ],
          [
           "Enchanted"
          ],
          [
           "Better Than Revenge"
          ],
          [
           "Innocent"
          ],
          [
           "Haunted"
          ],
          [
           "Last Kiss"
          ],
          [
           "Long Live"
          ],
          [
           "Mine - Commentary"
          ],
          [
           "Mine"
          ],
          [
           "Sparks Fly - Commentary"
          ],
          [
           "Sparks Fly"
          ],
          [
           "Back To December - Commentary"
          ],
          [
           "Back To December"
          ],
          [
           "Speak Now - Commentary"
          ],
          [
           "Speak Now"
          ],
          [
           "Dear John - Commentary"
          ],
          [
           "Dear John"
          ],
          [
           "Mean - Commentary"
          ],
          [
           "Mean"
          ],
          [
           "The Story Of Us - Commentary"
          ],
          [
           "The Story Of Us"
          ],
          [
           "Never Grow Up - Commentary"
          ],
          [
           "Never Grow Up"
          ],
          [
           "Enchanted - Commentary"
          ],
          [
           "Enchanted"
          ],
          [
           "Better Than Revenge - Commentary"
          ],
          [
           "Better Than Revenge"
          ],
          [
           "Innocent - Commentary"
          ],
          [
           "Innocent"
          ],
          [
           "Haunted - Commentary"
          ],
          [
           "Haunted"
          ],
          [
           "Last Kiss - Commentary"
          ],
          [
           "Last Kiss"
          ],
          [
           "Long Live - Commentary"
          ],
          [
           "Long Live"
          ],
          [
           "Mine - Instrumental With Background Vocals"
          ],
          [
           "Sparks Fly - Instrumental With Background Vocals"
          ],
          [
           "Back To December - Instrumental With Background Vocals"
          ],
          [
           "Speak Now - Instrumental With Background Vocals"
          ],
          [
           "Dear John - Instrumental With Background Vocals"
          ],
          [
           "Mean - Instrumental With Background Vocals"
          ],
          [
           "The Story Of Us - Instrumental With Background Vocals"
          ],
          [
           "Never Grow Up - Instrumental With Background Vocals"
          ],
          [
           "Enchanted - Instrumental With Background Vocals"
          ],
          [
           "Better Than Revenge - Instrumental With Background Vocals"
          ],
          [
           "Innocent - Instrumental With Background Vocals"
          ],
          [
           "Haunted - Instrumental With Background Vocals"
          ],
          [
           "Last Kiss - Instrumental With Background Vocals"
          ],
          [
           "Long Live - Instrumental With Background Vocals"
          ],
          [
           "Mine - POP Mix"
          ],
          [
           "Sparks Fly"
          ],
          [
           "Back To December"
          ],
          [
           "Speak Now"
          ],
          [
           "Dear John"
          ],
          [
           "Mean"
          ],
          [
           "The Story Of Us"
          ],
          [
           "Never Grow Up"
          ],
          [
           "Enchanted"
          ],
          [
           "Better Than Revenge"
          ],
          [
           "Innocent"
          ],
          [
           "Haunted"
          ],
          [
           "Last Kiss"
          ],
          [
           "Long Live"
          ],
          [
           "Fearless"
          ],
          [
           "Fifteen"
          ],
          [
           "Love Story"
          ],
          [
           "Hey Stephen"
          ],
          [
           "White Horse"
          ],
          [
           "You Belong With Me"
          ],
          [
           "Breathe"
          ],
          [
           "Tell Me Why"
          ],
          [
           "You're Not Sorry"
          ],
          [
           "The Way I Loved You"
          ],
          [
           "Forever & Always"
          ],
          [
           "The Best Day"
          ],
          [
           "Change"
          ],
          [
           "Our Song"
          ],
          [
           "Teardrops On My Guitar"
          ],
          [
           "Should've Said No"
          ],
          [
           "Beautiful Eyes"
          ],
          [
           "Picture To Burn - Radio Edit"
          ],
          [
           "I'm Only Me When I'm With You"
          ],
          [
           "I Heart ?"
          ],
          [
           "Fearless"
          ],
          [
           "Fifteen"
          ],
          [
           "Love Story"
          ],
          [
           "Hey Stephen"
          ],
          [
           "White Horse"
          ],
          [
           "You Belong With Me"
          ],
          [
           "Breathe"
          ],
          [
           "Tell Me Why"
          ],
          [
           "You're Not Sorry"
          ],
          [
           "The Way I Loved You"
          ],
          [
           "Forever & Always"
          ],
          [
           "The Best Day"
          ],
          [
           "Change"
          ],
          [
           "Our Song"
          ],
          [
           "Teardrops On My Guitar"
          ],
          [
           "Should've Said No"
          ],
          [
           "Love Story - J Stax Radio Mix"
          ],
          [
           "Fearless"
          ],
          [
           "Fifteen"
          ],
          [
           "Love Story"
          ],
          [
           "Hey Stephen"
          ],
          [
           "White Horse"
          ],
          [
           "You Belong With Me"
          ],
          [
           "Breathe"
          ],
          [
           "Tell Me Why"
          ],
          [
           "You're Not Sorry"
          ],
          [
           "The Way I Loved You"
          ],
          [
           "Forever & Always"
          ],
          [
           "The Best Day"
          ],
          [
           "Change"
          ],
          [
           "Fearless - Commentary"
          ],
          [
           "Fearless"
          ],
          [
           "Fifteen - Commentary"
          ],
          [
           "Fifteen"
          ],
          [
           "Love Story - Commentary"
          ],
          [
           "Love Story"
          ],
          [
           "Hey Stephen - Commentary"
          ],
          [
           "Hey Stephen"
          ],
          [
           "White Horse - Commentary"
          ],
          [
           "White Horse"
          ],
          [
           "You Belong With Me - Commentary"
          ],
          [
           "You Belong With Me"
          ],
          [
           "Breathe - Commentary"
          ],
          [
           "Breathe"
          ],
          [
           "Tell Me Why - Commentary"
          ],
          [
           "Tell Me Why"
          ],
          [
           "You're Not Sorry - Commentary"
          ],
          [
           "You're Not Sorry"
          ],
          [
           "The Way I Loved You - Commentary"
          ],
          [
           "The Way I Loved You"
          ],
          [
           "Forever & Always - Commentary"
          ],
          [
           "Forever & Always"
          ],
          [
           "The Best Day - Commentary"
          ],
          [
           "The Best Day"
          ],
          [
           "Change - Commentary"
          ],
          [
           "Change"
          ],
          [
           "Fearless - Instrumental with BGV"
          ],
          [
           "Fifteen - Instrumental with BGV"
          ],
          [
           "Love Story - Instrumental with BGV"
          ],
          [
           "Hey Stephen - Instrumental with BGV"
          ],
          [
           "White Horse - Instrumental with BGV"
          ],
          [
           "You Belong With Me - Instrumental with BGV"
          ],
          [
           "Breathe - Instrumental only, no BV"
          ],
          [
           "Tell Me Why - Instrumental with BGV"
          ],
          [
           "You're Not Sorry - Instrumental with BGV"
          ],
          [
           "The Way I Loved You - Instrumental with BGV"
          ],
          [
           "Forever & Always - Instrumental with BGV"
          ],
          [
           "The Best Day - Instrumental with BGV"
          ],
          [
           "Change - Instrumental with BGV"
          ],
          [
           "Jump Then Fall"
          ],
          [
           "Untouchable"
          ],
          [
           "Forever & Always - Piano Version"
          ],
          [
           "Come In With The Rain"
          ],
          [
           "SuperStar"
          ],
          [
           "The Other Side Of The Door"
          ],
          [
           "Fearless"
          ],
          [
           "Fifteen"
          ],
          [
           "Love Story"
          ],
          [
           "Hey Stephen"
          ],
          [
           "White Horse"
          ],
          [
           "You Belong With Me"
          ],
          [
           "Breathe"
          ],
          [
           "Tell Me Why"
          ],
          [
           "You're Not Sorry"
          ],
          [
           "The Way I Loved You"
          ],
          [
           "Forever & Always"
          ],
          [
           "The Best Day"
          ],
          [
           "Change"
          ],
          [
           "Love Story - Live From Clear Channel Stripped 2008"
          ],
          [
           "Fearless - Live From Clear Channel Stripped 2008"
          ],
          [
           "Beautiful Eyes - Live From Clear Channel Stripped 2008"
          ],
          [
           "Untouchable - Live From Clear Channel Stripped 2008"
          ],
          [
           "Teardrops On My Guitar - Live From Clear Channel Stripped 2008"
          ],
          [
           "Picture To Burn - Live From Clear Channel Stripped 2008"
          ],
          [
           "Should've Said No - Live From Clear Channel Stripped 2008"
          ],
          [
           "Change - Live From Clear Channel Stripped 2008"
          ],
          [
           "Fearless"
          ],
          [
           "Fifteen"
          ],
          [
           "Love Story"
          ],
          [
           "Hey Stephen"
          ],
          [
           "White Horse"
          ],
          [
           "You Belong With Me"
          ],
          [
           "Breathe"
          ],
          [
           "Tell Me Why"
          ],
          [
           "You're Not Sorry"
          ],
          [
           "The Way I Loved You"
          ],
          [
           "Forever & Always"
          ],
          [
           "The Best Day"
          ],
          [
           "Change"
          ],
          [
           "Tim McGraw"
          ],
          [
           "Picture To Burn"
          ],
          [
           "Teardrops On My Guitar - Radio Single Remix"
          ],
          [
           "A Place in this World"
          ],
          [
           "Cold As You"
          ],
          [
           "The Outside"
          ],
          [
           "Tied Together with a Smile"
          ],
          [
           "Stay Beautiful"
          ],
          [
           "Should've Said No"
          ],
          [
           "Mary's Song (Oh My My My)"
          ],
          [
           "Our Song"
          ],
          [
           "I'm Only Me When I'm With You"
          ],
          [
           "Invisible"
          ],
          [
           "A Perfectly Good Heart"
          ],
          [
           "Teardrops on My Guitar - Pop Version"
          ],
          [
           "Tim McGraw"
          ],
          [
           "Picture To Burn"
          ],
          [
           "Teardrops On My Guitar - Radio Single Remix"
          ],
          [
           "A Place in this World"
          ],
          [
           "Cold As You"
          ],
          [
           "The Outside"
          ],
          [
           "Tied Together with a Smile"
          ],
          [
           "Stay Beautiful"
          ],
          [
           "Should've Said No"
          ],
          [
           "Mary's Song (Oh My My My)"
          ],
          [
           "Our Song"
          ],
          [
           "I'm Only Me When I'm With You"
          ],
          [
           "Invisible"
          ],
          [
           "A Perfectly Good Heart"
          ],
          [
           "Teardrops on My Guitar - Pop Version"
          ],
          [
           "Tim McGraw - Commentary"
          ],
          [
           "Tim McGraw"
          ],
          [
           "Picture To Burn - Commentary"
          ],
          [
           "Picture To Burn"
          ],
          [
           "Teardrops On My Guitar - Radio Single Remix / Commentary"
          ],
          [
           "Teardrops On My Guitar - Radio Single Remix"
          ],
          [
           "A Place In This World - Commentary"
          ],
          [
           "A Place In This World"
          ],
          [
           "Cold As You - Commentary"
          ],
          [
           "Cold As You"
          ],
          [
           "The Outside - Commentary"
          ],
          [
           "The Outside"
          ],
          [
           "Tied Together With A Smile - Commentary"
          ],
          [
           "Tied Together With A Smile"
          ],
          [
           "Stay Beautiful - Commentary"
          ],
          [
           "Stay Beautiful"
          ],
          [
           "Should’ve Said No - Commentary"
          ],
          [
           "Should've Said No"
          ],
          [
           "Mary's Song (Oh My My My) - Commentary"
          ],
          [
           "Mary's Song (Oh My My My)"
          ],
          [
           "Our Song - Commentary"
          ],
          [
           "Our Song"
          ],
          [
           "I’m Only Me When I’m With You - Commentary"
          ],
          [
           "I'm Only Me When I'm With You"
          ],
          [
           "Invisible - Commentary"
          ],
          [
           "Invisible"
          ],
          [
           "A Perfectly Good Heart - Commentary"
          ],
          [
           "A Perfectly Good Heart"
          ],
          [
           "Teardrops On My Guitar - Pop Version / Commentary"
          ],
          [
           "Teardrops On My Guitar - Pop Version"
          ],
          [
           "Tim McGraw - Instrumental w/ BG vocals"
          ],
          [
           "Picture To Burn - Instrumental w/ BG vocals"
          ],
          [
           "Teardrops On My Guitar - Instrumental w/ BG vocals"
          ],
          [
           "A Place In This World - Instrumental w/ BG vocals"
          ],
          [
           "Cold As You - Instrumental w/ BG vocals"
          ],
          [
           "The Outside - Instrumental w/ BG vocals"
          ],
          [
           "Tied Together With A Smile - Instrumental w/ BG vocals"
          ],
          [
           "Stay Beautiful - Instrumental w/ BG vocals"
          ],
          [
           "Should've Said No - Instrumental w/ BG vocals"
          ],
          [
           "Mary's Song (Oh My My My) - Instrumental w/ BG vocals"
          ],
          [
           "Our Song - Instrumental w/ BG vocals"
          ],
          [
           "I'm Only Me When I'm With You - Instrumental w/ BG vocals"
          ],
          [
           "Invisible - Instrumental w/ BG vocals"
          ],
          [
           "A Perfectly Good Heart - Instrumental w/ BG vocals"
          ]
         ],
         "hovertemplate": "Artist(s)=Taylor Swift<br>Positiveness (valence)=%{x}<br>Energy=%{y}<br>Song Title=%{customdata[0]}<extra></extra>",
         "legendgroup": "Taylor Swift",
         "marker": {
          "color": "#19d3f3",
          "symbol": "circle"
         },
         "mode": "markers",
         "name": "Taylor Swift",
         "showlegend": true,
         "type": "scattergl",
         "x": [
          0.529,
          0.32,
          0.353,
          0.348,
          0.221,
          0.535,
          0.21100000000000002,
          0.354,
          0.292,
          0.535,
          0.511,
          0.573,
          0.287,
          0.92,
          0.32,
          0.529,
          0.32,
          0.353,
          0.348,
          0.221,
          0.535,
          0.21100000000000002,
          0.354,
          0.292,
          0.535,
          0.511,
          0.573,
          0.287,
          0.92,
          0.32,
          0.5489999999999999,
          0.325,
          0.35100000000000003,
          0.35100000000000003,
          0.212,
          0.528,
          0.201,
          0.361,
          0.304,
          0.522,
          0.512,
          0.5710000000000001,
          0.294,
          0.919,
          0.314,
          0.172,
          0.551,
          0.706,
          0.152,
          0.111,
          0.379,
          0.415,
          0.40299999999999997,
          0.41200000000000003,
          0.46,
          0.45,
          0.506,
          0.113,
          0.502,
          0.33899999999999997,
          0.429,
          0.171,
          0.551,
          0.713,
          0.152,
          0.111,
          0.379,
          0.415,
          0.40299999999999997,
          0.41200000000000003,
          0.46,
          0.45,
          0.5329999999999999,
          0.113,
          0.467,
          0.33399999999999996,
          0.429,
          0.541,
          0.564,
          0.45299999999999996,
          0.633,
          0.166,
          0.41600000000000004,
          0.48700000000000004,
          0.865,
          0.248,
          0.313,
          0.557,
          0.42100000000000004,
          0.35100000000000003,
          0.7140000000000001,
          0.39899999999999997,
          0.728,
          0.545,
          0.265,
          0.191,
          0.0719,
          0.17800000000000002,
          0.0764,
          0.0429,
          0.0709,
          0.25,
          0.335,
          0.158,
          0.145,
          0.217,
          0.0383,
          0.214,
          0.139,
          0.0767,
          0.41700000000000004,
          0.151,
          0.305,
          0.193,
          0.0499,
          0.506,
          0.374,
          0.451,
          0.35100000000000003,
          0.314,
          0.284,
          0.0851,
          0.43799999999999994,
          0.252,
          0.23,
          0.7140000000000001,
          0.41700000000000004,
          0.565,
          0.151,
          0.731,
          0.305,
          0.647,
          0.193,
          0.48700000000000004,
          0.0499,
          0.584,
          0.506,
          0.527,
          0.374,
          0.7290000000000001,
          0.451,
          0.478,
          0.35100000000000003,
          0.715,
          0.314,
          0.507,
          0.284,
          0.535,
          0.0851,
          0.54,
          0.43799999999999994,
          0.529,
          0.252,
          0.424,
          0.23,
          0.6679999999999999,
          0.316,
          0.465,
          0.38299999999999995,
          0.647,
          0.648,
          0.263,
          0.565,
          0.68,
          0.665,
          0.106,
          0.79,
          0.545,
          0.374,
          0.21100000000000002,
          0.67,
          0.39899999999999997,
          0.38299999999999995,
          0.37,
          0.545,
          0.395,
          0.643,
          0.6579999999999999,
          0.429,
          0.218,
          0.23399999999999999,
          0.228,
          0.33799999999999997,
          0.217,
          0.43799999999999994,
          0.107,
          0.561,
          0.22399999999999998,
          0.16699999999999998,
          0.507,
          0.818,
          0.32299999999999995,
          0.23800000000000002,
          0.65,
          0.52,
          0.838,
          0.7140000000000001,
          0.19699999999999998,
          0.218,
          0.521,
          0.616,
          0.495,
          0.615,
          0.583,
          0.456,
          0.342,
          0.47200000000000003,
          0.943,
          0.503,
          0.295,
          0.467,
          0.525,
          0.0858,
          0.507,
          0.21100000000000002,
          0.615,
          0.583,
          0.456,
          0.342,
          0.47200000000000003,
          0.943,
          0.503,
          0.295,
          0.467,
          0.525,
          0.0858,
          0.507,
          0.21100000000000002,
          0.612,
          0.6579999999999999,
          0.547,
          0.57,
          0.621,
          0.48700000000000004,
          0.5770000000000001,
          0.33799999999999997,
          0.56,
          0.539,
          0.629,
          0.9420000000000001,
          0.6459999999999999,
          0.513,
          0.5710000000000001,
          0.287,
          0.6809999999999999,
          0.465,
          0.838,
          0.545,
          0.657,
          0.107,
          0.629,
          0.495,
          0.61,
          0.21100000000000002,
          0.33399999999999996,
          0.598,
          0.48100000000000004,
          0.0612,
          0.579,
          0.825,
          0.23600000000000002,
          0.18100000000000002,
          0.45399999999999996,
          0.456,
          0.0665,
          0.45799999999999996,
          0.369,
          0.615,
          0.583,
          0.456,
          0.342,
          0.47200000000000003,
          0.943,
          0.503,
          0.295,
          0.467,
          0.525,
          0.0858,
          0.507,
          0.21100000000000002,
          0.397,
          0.6409999999999999,
          0.395,
          0.679,
          0.337,
          0.6679999999999999,
          0.233,
          0.75,
          0.9279999999999999,
          0.12300000000000001,
          0.648,
          0.261,
          0.545,
          0.436,
          0.5870000000000001,
          0.32299999999999995,
          0.539,
          0.397,
          0.48700000000000004,
          0.6409999999999999,
          0.49700000000000005,
          0.395,
          0.598,
          0.679,
          0.75,
          0.337,
          0.51,
          0.6679999999999999,
          0.648,
          0.233,
          0.5379999999999999,
          0.75,
          0.6509999999999999,
          0.9279999999999999,
          0.49,
          0.12300000000000001,
          0.47100000000000003,
          0.648,
          0.415,
          0.261,
          0.355,
          0.545,
          0.5579999999999999,
          0.436,
          0.7020000000000001,
          0.5870000000000001,
          0.6559999999999999,
          0.32299999999999995,
          0.223,
          0.675,
          0.406,
          0.5579999999999999,
          0.298,
          0.647,
          0.183,
          0.5710000000000001,
          0.75,
          0.105,
          0.675,
          0.285,
          0.557,
          0.28300000000000003,
          0.452,
          0.375,
          0.223,
          0.695,
          0.36700000000000005,
          0.551,
          0.306,
          0.684,
          0.19899999999999998,
          0.58,
          0.74,
          0.11,
          0.623,
          0.28300000000000003,
          0.608,
          0.26899999999999996,
          0.41700000000000004,
          0.381,
          0.298,
          0.442,
          0.47200000000000003,
          0.43200000000000005,
          0.267,
          0.171,
          0.386,
          0.373,
          0.188,
          0.27,
          0.363,
          0.249,
          0.138,
          0.214,
          0.177,
          0.204,
          0.6579999999999999,
          0.374,
          0.28600000000000003,
          0.735,
          0.102,
          0.789,
          0.6829999999999999,
          0.5539999999999999,
          0.20800000000000002,
          0.635,
          0.17,
          0.35200000000000004,
          0.196,
          0.142,
          0.5429999999999999,
          0.635,
          0.655,
          0.358,
          0.642,
          0.272,
          0.565,
          0.737,
          0.59,
          0.115,
          0.6940000000000001,
          0.794,
          0.66,
          0.6659999999999999,
          0.57,
          0.5379999999999999,
          0.627,
          0.195,
          0.784,
          0.595,
          0.597,
          0.159,
          0.517,
          0.358,
          0.588,
          0.22699999999999998,
          0.6809999999999999,
          0.142,
          0.62,
          0.37,
          0.31,
          0.56,
          0.133,
          0.62,
          0.6459999999999999,
          0.39,
          0.0921,
          0.425,
          0.21,
          0.41,
          0.156,
          0.0876,
          0.6920000000000001,
          0.376,
          0.29600000000000004,
          0.742,
          0.126,
          0.8079999999999999,
          0.84,
          0.547,
          0.228,
          0.652,
          0.18600000000000003,
          0.361,
          0.20800000000000002,
          0.146,
          0.433,
          0.209,
          0.29100000000000004,
          0.815,
          0.247,
          0.431,
          0.16,
          0.512,
          0.252,
          0.406,
          0.501,
          0.36,
          0.237,
          0.63,
          0.154,
          0.43700000000000006,
          0.37200000000000005,
          0.802,
          0.5429999999999999,
          0.64,
          0.44799999999999995,
          0.20800000000000002,
          0.26899999999999996,
          0.8270000000000001,
          0.231,
          0.414,
          0.156,
          0.49200000000000005,
          0.302,
          0.419,
          0.529,
          0.38299999999999995,
          0.231,
          0.6509999999999999,
          0.171,
          0.444,
          0.324,
          0.47600000000000003,
          0.203,
          0.29600000000000004,
          0.831,
          0.223,
          0.44299999999999995,
          0.184,
          0.51,
          0.276,
          0.39799999999999996,
          0.544,
          0.396,
          0.215,
          0.655,
          0.474,
          0.773,
          0.19699999999999998,
          0.594,
          0.306,
          0.623,
          0.809,
          0.8320000000000001,
          0.212,
          0.728,
          0.435,
          0.7390000000000001,
          0.174,
          0.807,
          0.488,
          0.6679999999999999,
          0.285,
          0.767,
          0.41,
          0.715,
          0.486,
          0.6970000000000001,
          0.345,
          0.54,
          0.207,
          0.38299999999999995,
          0.23,
          0.155,
          0.966,
          0.24,
          0.2,
          0.22399999999999998,
          0.659,
          0.184,
          0.33299999999999996,
          0.475,
          0.424,
          0.179,
          0.82,
          0.28800000000000003,
          0.294,
          0.22399999999999998,
          0.228,
          0.469,
          0.467,
          0.214,
          0.307,
          0.825,
          0.195,
          0.445,
          0.17,
          0.513,
          0.281,
          0.379,
          0.514,
          0.364,
          0.22399999999999998,
          0.512,
          0.467,
          0.457,
          0.331,
          0.615,
          0.684,
          0.43799999999999994,
          0.273,
          0.442,
          0.204,
          0.3,
          0.805,
          0.212,
          0.45,
          0.16899999999999998,
          0.49,
          0.273,
          0.41600000000000004,
          0.515,
          0.402,
          0.21899999999999997,
          0.425,
          0.821,
          0.289,
          0.428,
          0.261,
          0.591,
          0.192,
          0.504,
          0.47200000000000003,
          0.374,
          0.539,
          0.518,
          0.233,
          0.268,
          0.483,
          0.425,
          0.821,
          0.289,
          0.428,
          0.261,
          0.591,
          0.192,
          0.504,
          0.47200000000000003,
          0.374,
          0.539,
          0.518,
          0.233,
          0.268,
          0.483,
          0.653,
          0.447,
          0.512,
          0.7909999999999999,
          0.551,
          0.259,
          0.774,
          0.43,
          0.528,
          0.29,
          0.6759999999999999,
          0.5870000000000001,
          0.552,
          0.213,
          0.503,
          0.44299999999999995,
          0.591,
          0.53,
          0.705,
          0.368,
          0.606,
          0.575,
          0.5710000000000001,
          0.505,
          0.593,
          0.204,
          0.56,
          0.273,
          0.705,
          0.485,
          0.301,
          0.892,
          0.12300000000000001,
          0.544,
          0.19699999999999998,
          0.62,
          0.183,
          0.46,
          0.685,
          0.301,
          0.585,
          0.847,
          0.11800000000000001,
          0.31
         ],
         "xaxis": "x",
         "y": [
          0.574,
          0.24,
          0.462,
          0.434,
          0.361,
          0.613,
          0.33399999999999996,
          0.488,
          0.537,
          0.545,
          0.517,
          0.73,
          0.561,
          0.7040000000000001,
          0.27,
          0.574,
          0.24,
          0.462,
          0.434,
          0.361,
          0.613,
          0.33399999999999996,
          0.488,
          0.537,
          0.545,
          0.517,
          0.73,
          0.561,
          0.7040000000000001,
          0.27,
          0.579,
          0.248,
          0.47100000000000003,
          0.435,
          0.36,
          0.613,
          0.331,
          0.488,
          0.536,
          0.547,
          0.513,
          0.732,
          0.562,
          0.705,
          0.27,
          0.35700000000000004,
          0.581,
          0.662,
          0.38,
          0.263,
          0.413,
          0.488,
          0.623,
          0.47600000000000003,
          0.31,
          0.452,
          0.6990000000000001,
          0.267,
          0.377,
          0.272,
          0.18100000000000002,
          0.348,
          0.581,
          0.6609999999999999,
          0.38,
          0.263,
          0.413,
          0.488,
          0.623,
          0.47600000000000003,
          0.31,
          0.452,
          0.7090000000000001,
          0.267,
          0.379,
          0.26899999999999996,
          0.18100000000000002,
          0.316,
          0.7020000000000001,
          0.5429999999999999,
          0.6579999999999999,
          0.574,
          0.366,
          0.747,
          0.7190000000000001,
          0.624,
          0.732,
          0.71,
          0.182,
          0.32,
          0.6709999999999999,
          0.449,
          0.83,
          0.175,
          0.496,
          0.8140000000000001,
          0.528,
          0.517,
          0.456,
          0.332,
          0.373,
          0.53,
          0.462,
          0.682,
          0.622,
          0.529,
          0.457,
          0.757,
          0.45399999999999996,
          0.0639,
          0.764,
          0.589,
          0.602,
          0.534,
          0.40399999999999997,
          0.7090000000000001,
          0.61,
          0.535,
          0.6890000000000001,
          0.703,
          0.691,
          0.469,
          0.789,
          0.504,
          0.151,
          0.34700000000000003,
          0.764,
          0.245,
          0.589,
          0.327,
          0.602,
          0.287,
          0.534,
          0.23600000000000002,
          0.40399999999999997,
          0.37799999999999995,
          0.7090000000000001,
          0.318,
          0.61,
          0.242,
          0.535,
          0.177,
          0.6890000000000001,
          0.34600000000000003,
          0.703,
          0.281,
          0.691,
          0.312,
          0.469,
          0.207,
          0.789,
          0.33899999999999997,
          0.504,
          0.158,
          0.151,
          0.298,
          0.605,
          0.688,
          0.44799999999999995,
          0.899,
          0.816,
          0.42700000000000005,
          0.6629999999999999,
          0.733,
          0.46399999999999997,
          0.445,
          0.754,
          0.6559999999999999,
          0.61,
          0.628,
          0.779,
          0.782,
          0.828,
          0.9490000000000001,
          0.309,
          0.621,
          0.784,
          0.634,
          0.718,
          0.626,
          0.763,
          0.56,
          0.841,
          0.5479999999999999,
          0.767,
          0.435,
          0.505,
          0.38299999999999995,
          0.48,
          0.843,
          0.6990000000000001,
          0.526,
          0.547,
          0.8079999999999999,
          0.8290000000000001,
          0.541,
          0.603,
          0.6920000000000001,
          0.348,
          0.9329999999999999,
          0.777,
          0.755,
          0.634,
          0.6779999999999999,
          0.7859999999999999,
          0.841,
          0.735,
          0.785,
          0.898,
          0.802,
          0.664,
          0.659,
          0.45899999999999996,
          0.763,
          0.38,
          0.634,
          0.6779999999999999,
          0.7859999999999999,
          0.841,
          0.735,
          0.785,
          0.898,
          0.802,
          0.664,
          0.659,
          0.45899999999999996,
          0.763,
          0.38,
          0.226,
          0.634,
          0.272,
          0.703,
          0.337,
          0.7909999999999999,
          0.24,
          0.841,
          0.223,
          0.725,
          0.278,
          0.8,
          0.266,
          0.893,
          0.312,
          0.794,
          0.247,
          0.688,
          0.368,
          0.6559999999999999,
          0.32299999999999995,
          0.435,
          0.29,
          0.755,
          0.28,
          0.377,
          0.68,
          0.708,
          0.845,
          0.93,
          0.731,
          0.835,
          0.94,
          0.8490000000000001,
          0.609,
          0.648,
          0.4,
          0.732,
          0.385,
          0.634,
          0.6779999999999999,
          0.7859999999999999,
          0.841,
          0.735,
          0.785,
          0.898,
          0.802,
          0.664,
          0.659,
          0.45899999999999996,
          0.763,
          0.38,
          0.825,
          0.8959999999999999,
          0.621,
          0.469,
          0.609,
          0.7290000000000001,
          0.48100000000000004,
          0.6759999999999999,
          0.748,
          0.44299999999999995,
          0.816,
          0.34,
          0.499,
          0.45799999999999996,
          0.777,
          0.526,
          0.364,
          0.825,
          0.266,
          0.8959999999999999,
          0.35700000000000004,
          0.621,
          0.35,
          0.469,
          0.36200000000000004,
          0.609,
          0.36700000000000005,
          0.7290000000000001,
          0.23199999999999998,
          0.48100000000000004,
          0.312,
          0.6759999999999999,
          0.281,
          0.748,
          0.371,
          0.44299999999999995,
          0.297,
          0.816,
          0.413,
          0.34,
          0.32899999999999996,
          0.499,
          0.306,
          0.45799999999999996,
          0.315,
          0.777,
          0.28600000000000003,
          0.526,
          0.8859999999999999,
          0.871,
          0.645,
          0.353,
          0.64,
          0.693,
          0.493,
          0.574,
          0.823,
          0.418,
          0.767,
          0.359,
          0.39899999999999997,
          0.47600000000000003,
          0.6679999999999999,
          0.537,
          0.8859999999999999,
          0.871,
          0.631,
          0.353,
          0.64,
          0.691,
          0.495,
          0.589,
          0.825,
          0.409,
          0.757,
          0.35600000000000004,
          0.4,
          0.469,
          0.652,
          0.526,
          0.7829999999999999,
          0.852,
          0.9079999999999999,
          0.915,
          0.355,
          0.516,
          0.887,
          0.6940000000000001,
          0.395,
          0.504,
          0.488,
          0.512,
          0.386,
          0.6629999999999999,
          0.818,
          0.728,
          0.757,
          0.787,
          0.67,
          0.599,
          0.47,
          0.7609999999999999,
          0.818,
          0.305,
          0.623,
          0.917,
          0.608,
          0.95,
          0.341,
          0.68,
          0.242,
          0.78,
          0.264,
          0.7909999999999999,
          0.185,
          0.67,
          0.21,
          0.62,
          0.196,
          0.466,
          0.16399999999999998,
          0.746,
          0.18,
          0.8079999999999999,
          0.182,
          0.301,
          0.25,
          0.624,
          0.317,
          0.9179999999999999,
          0.23199999999999998,
          0.595,
          0.28300000000000003,
          0.946,
          0.243,
          0.33299999999999996,
          0.272,
          0.6920000000000001,
          0.657,
          0.687,
          0.609,
          0.505,
          0.374,
          0.665,
          0.797,
          0.265,
          0.523,
          0.872,
          0.564,
          0.904,
          0.261,
          0.61,
          0.768,
          0.785,
          0.606,
          0.601,
          0.46799999999999997,
          0.747,
          0.855,
          0.308,
          0.618,
          0.917,
          0.604,
          0.9440000000000001,
          0.32899999999999996,
          0.682,
          0.705,
          0.636,
          0.637,
          0.555,
          0.349,
          0.765,
          0.479,
          0.85,
          0.456,
          0.723,
          0.826,
          0.447,
          0.768,
          0.7,
          0.547,
          0.762,
          0.7,
          0.8590000000000001,
          0.935,
          0.818,
          0.6990000000000001,
          0.634,
          0.637,
          0.5429999999999999,
          0.33399999999999996,
          0.774,
          0.47600000000000003,
          0.8540000000000001,
          0.46,
          0.7190000000000001,
          0.8109999999999999,
          0.44799999999999995,
          0.763,
          0.691,
          0.5539999999999999,
          0.758,
          0.8270000000000001,
          0.7120000000000001,
          0.6509999999999999,
          0.741,
          0.544,
          0.34,
          0.7829999999999999,
          0.48200000000000004,
          0.855,
          0.452,
          0.7,
          0.821,
          0.434,
          0.77,
          0.275,
          0.7090000000000001,
          0.17800000000000002,
          0.64,
          0.26,
          0.741,
          0.28,
          0.556,
          0.237,
          0.35700000000000004,
          0.263,
          0.745,
          0.20199999999999999,
          0.475,
          0.267,
          0.851,
          0.27,
          0.449,
          0.25,
          0.727,
          0.251,
          0.826,
          0.304,
          0.449,
          0.33399999999999996,
          0.757,
          0.657,
          0.643,
          0.735,
          0.57,
          0.35200000000000004,
          0.741,
          0.469,
          0.848,
          0.41700000000000004,
          0.7040000000000001,
          0.762,
          0.625,
          0.706,
          0.687,
          0.45399999999999996,
          0.16,
          0.475,
          0.531,
          0.816,
          0.7140000000000001,
          0.636,
          0.736,
          0.5529999999999999,
          0.34600000000000003,
          0.7709999999999999,
          0.486,
          0.852,
          0.45899999999999996,
          0.7120000000000001,
          0.8290000000000001,
          0.447,
          0.7559999999999999,
          0.444,
          0.266,
          0.7040000000000001,
          0.184,
          0.8009999999999999,
          0.872,
          0.8079999999999999,
          0.7120000000000001,
          0.703,
          0.627,
          0.738,
          0.5539999999999999,
          0.342,
          0.755,
          0.48,
          0.8390000000000001,
          0.45,
          0.705,
          0.828,
          0.445,
          0.753,
          0.491,
          0.877,
          0.41700000000000004,
          0.777,
          0.48200000000000004,
          0.805,
          0.578,
          0.629,
          0.777,
          0.627,
          0.672,
          0.934,
          0.39399999999999996,
          0.7509999999999999,
          0.753,
          0.491,
          0.877,
          0.41700000000000004,
          0.777,
          0.48200000000000004,
          0.805,
          0.578,
          0.629,
          0.777,
          0.627,
          0.672,
          0.934,
          0.39399999999999996,
          0.7509999999999999,
          0.753,
          0.278,
          0.499,
          0.28600000000000003,
          0.8640000000000001,
          0.299,
          0.44,
          0.278,
          0.77,
          0.28,
          0.49200000000000005,
          0.29,
          0.807,
          0.325,
          0.556,
          0.28600000000000003,
          0.631,
          0.28,
          0.758,
          0.303,
          0.612,
          0.27899999999999997,
          0.659,
          0.27,
          0.934,
          0.222,
          0.384,
          0.248,
          0.76,
          0.32,
          0.742,
          0.42700000000000005,
          0.742,
          0.369,
          0.66,
          0.469,
          0.7120000000000001,
          0.469,
          0.532,
          0.563,
          0.529,
          0.484,
          0.7959999999999999,
          0.27899999999999997,
          0.6579999999999999
         ],
         "yaxis": "y"
        },
        {
         "customdata": [
          [
           "Green Light"
          ],
          [
           "Sober"
          ],
          [
           "Homemade Dynamite"
          ],
          [
           "The Louvre"
          ],
          [
           "Liability"
          ],
          [
           "Hard Feelings/Loveless"
          ],
          [
           "Sober II (Melodrama)"
          ],
          [
           "Writer In The Dark"
          ],
          [
           "Supercut"
          ],
          [
           "Liability (Reprise)"
          ],
          [
           "Perfect Places"
          ],
          [
           "Homemade Dynamite - REMIX"
          ],
          [
           "Green Light"
          ],
          [
           "Sober"
          ],
          [
           "Homemade Dynamite"
          ],
          [
           "The Louvre"
          ],
          [
           "Liability"
          ],
          [
           "Hard Feelings/Loveless"
          ],
          [
           "Sober II (Melodrama)"
          ],
          [
           "Writer In The Dark"
          ],
          [
           "Supercut"
          ],
          [
           "Liability (Reprise)"
          ],
          [
           "Perfect Places"
          ],
          [
           "Homemade Dynamite - REMIX"
          ],
          [
           "Green Light"
          ],
          [
           "Sober"
          ],
          [
           "Homemade Dynamite"
          ],
          [
           "The Louvre"
          ],
          [
           "Liability"
          ],
          [
           "Hard Feelings/Loveless"
          ],
          [
           "Sober II (Melodrama)"
          ],
          [
           "Writer In The Dark"
          ],
          [
           "Supercut"
          ],
          [
           "Liability (Reprise)"
          ],
          [
           "Perfect Places"
          ],
          [
           "Green Light"
          ],
          [
           "Sober"
          ],
          [
           "Homemade Dynamite"
          ],
          [
           "The Louvre"
          ],
          [
           "Liability"
          ],
          [
           "Hard Feelings/Loveless"
          ],
          [
           "Sober II (Melodrama)"
          ],
          [
           "Writer In The Dark"
          ],
          [
           "Supercut"
          ],
          [
           "Liability (Reprise)"
          ],
          [
           "Perfect Places"
          ],
          [
           "Tennis Court"
          ],
          [
           "400 Lux"
          ],
          [
           "Royals"
          ],
          [
           "Ribs"
          ],
          [
           "Buzzcut Season"
          ],
          [
           "Team"
          ],
          [
           "Glory And Gore"
          ],
          [
           "Still Sane"
          ],
          [
           "White Teeth Teens"
          ],
          [
           "A World Alone"
          ],
          [
           "Tennis Court"
          ],
          [
           "400 Lux"
          ],
          [
           "Royals"
          ],
          [
           "Ribs"
          ],
          [
           "Buzzcut Season"
          ],
          [
           "Team"
          ],
          [
           "Glory And Gore"
          ],
          [
           "Still Sane"
          ],
          [
           "White Teeth Teens"
          ],
          [
           "A World Alone"
          ],
          [
           "Bravado"
          ],
          [
           "Swingin Party"
          ],
          [
           "Bravado - Fffrrannno Remix"
          ],
          [
           "Tennis Court"
          ],
          [
           "400 Lux"
          ],
          [
           "Royals"
          ],
          [
           "Ribs"
          ],
          [
           "Buzzcut Season"
          ],
          [
           "Team"
          ],
          [
           "Glory And Gore"
          ],
          [
           "Still Sane"
          ],
          [
           "White Teeth Teens"
          ],
          [
           "A World Alone"
          ],
          [
           "Bravado"
          ],
          [
           "Million Dollar Bills"
          ],
          [
           "The Love Club"
          ],
          [
           "Biting Down"
          ],
          [
           "Swingin Party"
          ]
         ],
         "hovertemplate": "Artist(s)=Lorde<br>Positiveness (valence)=%{x}<br>Energy=%{y}<br>Song Title=%{customdata[0]}<extra></extra>",
         "legendgroup": "Lorde",
         "marker": {
          "color": "#FF6692",
          "symbol": "circle"
         },
         "mode": "markers",
         "name": "Lorde",
         "showlegend": true,
         "type": "scattergl",
         "x": [
          0.253,
          0.516,
          0.268,
          0.126,
          0.379,
          0.18,
          0.10099999999999999,
          0.27899999999999997,
          0.15,
          0.26,
          0.512,
          0.175,
          0.253,
          0.462,
          0.242,
          0.126,
          0.379,
          0.18100000000000002,
          0.10300000000000001,
          0.27899999999999997,
          0.15,
          0.285,
          0.525,
          0.18600000000000003,
          0.253,
          0.516,
          0.268,
          0.126,
          0.379,
          0.18,
          0.10099999999999999,
          0.27899999999999997,
          0.15,
          0.26,
          0.512,
          0.253,
          0.462,
          0.242,
          0.126,
          0.379,
          0.18100000000000002,
          0.10300000000000001,
          0.27899999999999997,
          0.15,
          0.285,
          0.525,
          0.428,
          0.19399999999999998,
          0.337,
          0.0399,
          0.247,
          0.41600000000000004,
          0.294,
          0.0958,
          0.102,
          0.0663,
          0.40399999999999997,
          0.19399999999999998,
          0.355,
          0.0399,
          0.247,
          0.41600000000000004,
          0.294,
          0.0958,
          0.102,
          0.0663,
          0.04,
          0.107,
          0.205,
          0.40399999999999997,
          0.19399999999999998,
          0.337,
          0.0399,
          0.247,
          0.41600000000000004,
          0.294,
          0.0958,
          0.102,
          0.0663,
          0.04,
          0.43700000000000006,
          0.626,
          0.33399999999999996,
          0.107
         ],
         "xaxis": "x",
         "y": [
          0.721,
          0.467,
          0.431,
          0.382,
          0.22899999999999998,
          0.445,
          0.312,
          0.271,
          0.43700000000000006,
          0.27699999999999997,
          0.58,
          0.5479999999999999,
          0.721,
          0.485,
          0.436,
          0.382,
          0.22899999999999998,
          0.442,
          0.32,
          0.271,
          0.43700000000000006,
          0.281,
          0.574,
          0.5489999999999999,
          0.721,
          0.467,
          0.431,
          0.382,
          0.22899999999999998,
          0.445,
          0.312,
          0.271,
          0.43700000000000006,
          0.27699999999999997,
          0.58,
          0.721,
          0.485,
          0.436,
          0.382,
          0.22899999999999998,
          0.442,
          0.32,
          0.271,
          0.43700000000000006,
          0.281,
          0.574,
          0.5670000000000001,
          0.474,
          0.428,
          0.47200000000000003,
          0.62,
          0.578,
          0.377,
          0.361,
          0.304,
          0.485,
          0.546,
          0.474,
          0.42,
          0.47200000000000003,
          0.62,
          0.578,
          0.377,
          0.361,
          0.304,
          0.485,
          0.535,
          0.245,
          0.61,
          0.546,
          0.474,
          0.428,
          0.47200000000000003,
          0.62,
          0.578,
          0.377,
          0.361,
          0.304,
          0.485,
          0.535,
          0.555,
          0.493,
          0.375,
          0.245
         ],
         "yaxis": "y"
        },
        {
         "customdata": [
          [
           "Tear It Up - Live At The O2, London, UK, 02/07/2018"
          ],
          [
           "Now I'm Here - Live At Summer Sonic, Tokyo, Japan, 2014"
          ],
          [
           "Another One Bites The Dust - Live At Summer Sonic, Tokyo, Japan, 2014"
          ],
          [
           "Fat Bottomed Girls - Live At The American Airlines Center, Dallas, USA, 2019"
          ],
          [
           "Don't Stop Me Now - Live At Rock In Rio, Lisbon, Portugal, 2016"
          ],
          [
           "I Want To Break Free - Live At Rock In Rio, Lisbon, Portugal, 2016"
          ],
          [
           "Somebody To Love - Live At The Isle Of Wight Festival, UK, 2016"
          ],
          [
           "Love Kills - The Ballad - Live At The iHeart Radio Theater, Los Angeles, USA, 2014"
          ],
          [
           "I Was Born To Love You - Live At Summer Sonic, Tokyo, Japan, 2014"
          ],
          [
           "Under Pressure - Live At Global Citizen Festival, New York, USA, 2019"
          ],
          [
           "Who Wants To Live Forever - Live At The Isle Of Wight Festival, UK, 2016"
          ],
          [
           "The Show Must Go On - Live At The O2, London, UK, 04/07/2018"
          ],
          [
           "Love Of My Life - Live At The O2, London, UK, 02/07/2018"
          ],
          [
           "Bohemian Rhapsody - Live At Fire Fight Australia, ANZ Stadium, Sydney, Australia, 2020"
          ],
          [
           "Radio Ga Ga - Live At Fire Fight Australia, ANZ Stadium, Sydney, Australia, 2020"
          ],
          [
           "Ay-Ohs - Live At Fire Fight Australia, ANZ Stadium, Sydney, Australia, 2020"
          ],
          [
           "Hammer To Fall - Live At Fire Fight Australia, ANZ Stadium, Sydney, Australia, 2020"
          ],
          [
           "Crazy Little Thing Called Love - Live At Fire Fight Australia, ANZ Stadium, Sydney, Australia, 2020"
          ],
          [
           "We Will Rock You - Live At Fire Fight Australia, ANZ Stadium, Sydney, Australia, 2020"
          ],
          [
           "We Are The Champions - Live At Fire Fight Australia, ANZ Stadium, Sydney, Australia, 2020"
          ],
          [
           "Bohemian Rhapsody - Live At Fire Fight Australia, ANZ Stadium, Sydney, Australia, 2020"
          ],
          [
           "Radio Ga Ga - Live At Fire Fight Australia, ANZ Stadium, Sydney, Australia, 2020"
          ],
          [
           "Ay-Ohs - Live At Fire Fight Australia, ANZ Stadium, Sydney, Australia, 2020"
          ],
          [
           "Hammer To Fall - Live At Fire Fight Australia, ANZ Stadium, Sydney, Australia, 2020"
          ],
          [
           "Crazy Little Thing Called Love - Live At Fire Fight Australia, ANZ Stadium, Sydney, Australia, 2020"
          ],
          [
           "We Will Rock You - Live At Fire Fight Australia, ANZ Stadium, Sydney, Australia, 2020"
          ],
          [
           "We Are The Champions - Live At Fire Fight Australia, ANZ Stadium, Sydney, Australia, 2020"
          ],
          [
           "20th Century Fox Fanfare"
          ],
          [
           "Somebody To Love - 2011 Remaster"
          ],
          [
           "Doing All Right - …revisited"
          ],
          [
           "Keep Yourself Alive - Live at The Rainbow"
          ],
          [
           "Killer Queen - 2011 Remaster"
          ],
          [
           "Fat Bottomed Girls - Live in Paris"
          ],
          [
           "Bohemian Rhapsody - 2011 Remaster"
          ],
          [
           "Now I'm Here - Live at The Hammersmith Odeon"
          ],
          [
           "Crazy Little Thing Called Love - 2011 Remaster"
          ],
          [
           "Love Of My Life - Live at Rock in Rio Festival"
          ],
          [
           "We Will Rock You - Movie Mix"
          ],
          [
           "Another One Bites The Dust - 2011 Remaster"
          ],
          [
           "I Want To Break Free"
          ],
          [
           "Under Pressure"
          ],
          [
           "Who Wants To Live Forever - 2011 Remaster"
          ],
          [
           "Bohemian Rhapsody - Live Aid"
          ],
          [
           "Radio Ga Ga - Live Aid"
          ],
          [
           "Ay-Oh - Live Aid"
          ],
          [
           "Hammer To Fall - Live Aid"
          ],
          [
           "We Are The Champions - Live Aid"
          ],
          [
           "Don't Stop Me Now - …revisited"
          ],
          [
           "The Show Must Go On - 2011 Remaster"
          ],
          [
           "20th Century Fox Fanfare"
          ],
          [
           "Somebody To Love"
          ],
          [
           "Doing All Right - ...Revisited"
          ],
          [
           "Keep Yourself Alive - Live At The Rainbow"
          ],
          [
           "Killer Queen"
          ],
          [
           "Fat Bottomed Girls - Live In Paris"
          ],
          [
           "Bohemian Rhapsody"
          ],
          [
           "Now I'm Here - Live At The Hammersmith Odeon"
          ],
          [
           "Crazy Little Thing Called Love"
          ],
          [
           "Love Of My Life - Live At Rock In Rio"
          ],
          [
           "We Will Rock You - Movie Mix"
          ],
          [
           "Another One Bites The Dust"
          ],
          [
           "I Want To Break Free"
          ],
          [
           "Under Pressure"
          ],
          [
           "Who Wants To Live Forever"
          ],
          [
           "Bohemian Rhapsody - Live Aid"
          ],
          [
           "Radio Ga Ga - Live Aid"
          ],
          [
           "Ay-Oh - Live Aid"
          ],
          [
           "Hammer To Fall - Live Aid"
          ],
          [
           "We Are The Champions - Live Aid"
          ],
          [
           "Don't Stop Me Now - ...Revisited"
          ],
          [
           "The Show Must Go On"
          ],
          [
           "My Fairy King - BBC Session / February 5th 1973, Langham 1 Studio"
          ],
          [
           "Keep Yourself Alive - BBC Session / February 5th 1973, Langham 1 Studio"
          ],
          [
           "Doing All Right - BBC Session / February 5th 1973, Langham 1 Studio"
          ],
          [
           "Liar - BBC Session / February 5th 1973, Langham 1 Studio"
          ],
          [
           "See What A Fool I've Been - BBC Session / July 25th 1973, Langham 1 Studio"
          ],
          [
           "Keep Yourself Alive - BBC Session / July 25th 1973, Langham 1 Studio"
          ],
          [
           "Liar - BBC Session / July 25th 1973, Langham 1 Studio"
          ],
          [
           "Son And Daughter - BBC Session / July 25th 1973, Langham 1 Studio"
          ],
          [
           "Ogre Battle - BBC Session / December 3rd 1973, Langham 1 Studio"
          ],
          [
           "Modern Times Rock 'n' Roll - BBC Session / December 3rd 1973, Langham 1 Studio"
          ],
          [
           "Great King Rat - BBC Session / December 3rd 1973, Langham 1 Studio"
          ],
          [
           "Son And Daughter - BBC Session / December 3rd 1973, Langham 1 Studio"
          ],
          [
           "Modern Times Rock 'n' Roll - BBC Session / April 3rd 1974, Langham 1 Studio"
          ],
          [
           "Nevermore - BBC Session / April 3rd 1974, Langham 1 Studio"
          ],
          [
           "White Queen (As It Began) - BBC Session / April 3rd 1974, Langham 1 Studio"
          ],
          [
           "Now I'm Here - BBC Session / October 16th 1974, Maida Vale 4 Studio"
          ],
          [
           "Stone Cold Crazy - BBC Session / October 16th 1974, Maida Vale 4 Studio"
          ],
          [
           "Flick Of The Wrist - BBC Session / October 16th 1974, Maida Vale 4 Studio"
          ],
          [
           "Tenement Funster - BBC Session / October 16th 1974, Maida Vale 4 Studio"
          ],
          [
           "We Will Rock You - BBC Session / October 28th 1977, Maida Vale 4 Studio"
          ],
          [
           "We Will Rock You (Fast) - BBC Session / October 28th 1977, Maida Vale 4 Studio"
          ],
          [
           "Spread Your Wings - BBC Session / October 28th 1977, Maida Vale 4 Studio"
          ],
          [
           "It's Late - BBC Session / October 28th 1977, Maida Vale 4 Studio"
          ],
          [
           "My Melancholy Blues - BBC Session / October 28th 1977, Maida Vale 4 Studio"
          ],
          [
           "My Fairy King - BBC Session / February 5th 1973, Langham 1 Studio"
          ],
          [
           "Keep Yourself Alive - BBC Session / February 5th 1973, Langham 1 Studio"
          ],
          [
           "Doing All Right - BBC Session / February 5th 1973, Langham 1 Studio"
          ],
          [
           "Liar - BBC Session / February 5th 1973, Langham 1 Studio"
          ],
          [
           "See What A Fool I've Been - BBC Session / July 25th 1973, Langham 1 Studio"
          ],
          [
           "Keep Yourself Alive - BBC Session / July 25th 1973, Langham 1 Studio"
          ],
          [
           "Liar - BBC Session / July 25th 1973, Langham 1 Studio"
          ],
          [
           "Son And Daughter - BBC Session / July 25th 1973, Langham 1 Studio"
          ],
          [
           "Ogre Battle - BBC Session / December 3rd 1973, Langham 1 Studio"
          ],
          [
           "Modern Times Rock 'n' Roll - BBC Session / December 3rd 1973, Langham 1 Studio"
          ],
          [
           "Great King Rat - BBC Session / December 3rd 1973, Langham 1 Studio"
          ],
          [
           "Son And Daughter - BBC Session / December 3rd 1973, Langham 1 Studio"
          ],
          [
           "Modern Times Rock 'n' Roll - BBC Session / April 3rd 1974, Langham 1 Studio"
          ],
          [
           "Nevermore - BBC Session / April 3rd 1974, Langham 1 Studio"
          ],
          [
           "White Queen (As It Began) - BBC Session / April 3rd 1974, Langham 1 Studio"
          ],
          [
           "Now I'm Here - BBC Session / October 16th 1974, Maida Vale 4 Studio"
          ],
          [
           "Stone Cold Crazy - BBC Session / October 16th 1974, Maida Vale 4 Studio"
          ],
          [
           "Flick Of The Wrist - BBC Session / October 16th 1974, Maida Vale 4 Studio"
          ],
          [
           "Tenement Funster - BBC Session / October 16th 1974, Maida Vale 4 Studio"
          ],
          [
           "We Will Rock You - BBC Session / October 28th 1977, Maida Vale 4 Studio"
          ],
          [
           "We Will Rock You (Fast) - BBC Session / October 28th 1977, Maida Vale 4 Studio"
          ],
          [
           "Spread Your Wings - BBC Session / October 28th 1977, Maida Vale 4 Studio"
          ],
          [
           "It's Late - BBC Session / October 28th 1977, Maida Vale 4 Studio"
          ],
          [
           "My Melancholy Blues - BBC Session / October 28th 1977, Maida Vale 4 Studio"
          ],
          [
           "Now I'm Here - Live At The Hammersmith Odeon, London / 1975"
          ],
          [
           "Ogre Battle - Live At The Hammersmith Odeon, London / 1975"
          ],
          [
           "White Queen (As It Began) - Live At The Hammersmith Odeon, London / 1975"
          ],
          [
           "Bohemian Rhapsody - Live At The Hammersmith Odeon, London / 1975"
          ],
          [
           "Killer Queen - Live At The Hammersmith Odeon, London / 1975"
          ],
          [
           "The March of the Black Queen - Live At The Hammersmith Odeon, London / 1975"
          ],
          [
           "Bohemian Rhapsody - Reprise / Live At The Hammersmith Odeon, London / 1975"
          ],
          [
           "Bring Back That Leroy Brown - Live At The Hammersmith Odeon, London / 1975"
          ],
          [
           "Brighton Rock - Live At The Hammersmith Odeon, London / 1975"
          ],
          [
           "Guitar Solo - Live At The Hammersmith Odeon, London / 1975"
          ],
          [
           "Son and Daughter - Live At The Hammersmith Odeon, London / 1975"
          ],
          [
           "Keep Yourself Alive - Live At The Hammersmith Odeon, London / 1975"
          ],
          [
           "Liar - Live At The Hammersmith Odeon, London / 1975"
          ],
          [
           "In the Lap of the Gods... Revisited - Live At The Hammersmith Odeon, London / 1975"
          ],
          [
           "Big Spender - Live At The Hammersmith Odeon, London / 1975"
          ],
          [
           "Jailhouse Rock Medley - Live At The Hammersmith Odeon, London / 1975"
          ],
          [
           "Seven Seas of Rhye - Live At The Hammersmith Odeon, London / 1975"
          ],
          [
           "See What a Fool I've Been - Live At The Hammersmith Odeon, London / 1975"
          ],
          [
           "God Save The Queen - Live At The Hammersmith Odeon, London / 1975"
          ],
          [
           "Procession - Live At The Rainbow, London / November 1974"
          ],
          [
           "Now I'm Here - Live At The Rainbow, London / November 1974"
          ],
          [
           "Ogre Battle - Live At The Rainbow, London / November 1974"
          ],
          [
           "Father To Son - Live At The Rainbow, London / November 1974"
          ],
          [
           "White Queen (As It Began) - Live At The Rainbow, London / November 1974"
          ],
          [
           "Flick Of The Wrist - Live At The Rainbow, London / November 1974"
          ],
          [
           "In The Lap Of The Gods - Live At The Rainbow, London / November 1974"
          ],
          [
           "Killer Queen - Live At The Rainbow, London / November 1974"
          ],
          [
           "The March Of The Black Queen - Live At The Rainbow, London / November 1974"
          ],
          [
           "Bring Back That Leroy Brown - Live At The Rainbow, London / November 1974"
          ],
          [
           "Son And Daughter - Live At The Rainbow, London / November 1974"
          ],
          [
           "Guitar Solo - Live At The Rainbow, London / November 1974"
          ],
          [
           "Son And Daughter (Reprise) - Live At The Rainbow, London / November 1974"
          ],
          [
           "Keep Yourself Alive - Live At The Rainbow, London / November 1974"
          ],
          [
           "Drum Solo - Live At The Rainbow, London / November 1974"
          ],
          [
           "Keep Yourself Alive (Reprise) - Live At The Rainbow, London / November 1974"
          ],
          [
           "Seven Seas Of Rhye - Live At The Rainbow, London / November 1974"
          ],
          [
           "Stone Cold Crazy - Live At The Rainbow, London / November 1974"
          ],
          [
           "Liar - Live At The Rainbow, London / November 1974"
          ],
          [
           "In The Lap Of The Gods...Revisited - Live At The Rainbow, London / November 1974"
          ],
          [
           "Big Spender - Live At The Rainbow, London / November 1974"
          ],
          [
           "Modern Times Rock 'n' Roll - Live At The Rainbow, London / November 1974"
          ],
          [
           "Jailhouse Rock - Live At The Rainbow, London / November 1974"
          ],
          [
           "God Save The Queen - Live At The Rainbow, London / November 1974"
          ],
          [
           "Procession - Live At The Rainbow, London / March 1974"
          ],
          [
           "Father To Son - Live At The Rainbow, London / March 1974"
          ],
          [
           "Ogre Battle - Live At The Rainbow, London / March 1974"
          ],
          [
           "Son And Daughter - Live At The Rainbow, London / March 1974"
          ],
          [
           "Guitar Solo - Live At The Rainbow, London / March 1974"
          ],
          [
           "Son And Daughter (Reprise) - Live At The Rainbow, London / March 1974"
          ],
          [
           "White Queen (As It Began) - Live At The Rainbow, London / March 1974"
          ],
          [
           "Great King Rat - Live At The Rainbow, London / March 1974"
          ],
          [
           "The Fairy Feller's Master-Stroke - Live At The Rainbow, London / March 1974"
          ],
          [
           "Keep Yourself Alive - Live At The Rainbow, London / March 1974"
          ],
          [
           "Drum Solo - Live At The Rainbow, London / March 1974"
          ],
          [
           "Keep Yourself Alive (Reprise) - Live At The Rainbow, London / March 1974"
          ],
          [
           "Seven Seas Of Rhye - Live At The Rainbow, London / March 1974"
          ],
          [
           "Modern Times Rock 'n' Roll - Live At The Rainbow, London / March 1974"
          ],
          [
           "Jailhouse Rock / Stupid Cupid / Be Bop A Lula - Live At The Rainbow, London / March 1974"
          ],
          [
           "Liar - Live At The Rainbow, London / March 1974"
          ],
          [
           "See What A Fool I've Been - Live At The Rainbow, London / March 1974"
          ],
          [
           "Procession - Live At The Rainbow, London / November 1974"
          ],
          [
           "Now I'm Here - Live At The Rainbow, London / November 1974"
          ],
          [
           "Ogre Battle - Live At The Rainbow, London / November 1974"
          ],
          [
           "Father To Son - Live At The Rainbow, London / November 1974"
          ],
          [
           "White Queen (As It Began) - Live At The Rainbow, London / November 1974"
          ],
          [
           "Flick Of The Wrist - Live At The Rainbow, London / November 1974"
          ],
          [
           "In The Lap Of The Gods - Live At The Rainbow, London / November 1974"
          ],
          [
           "Killer Queen - Live At The Rainbow, London / November 1974"
          ],
          [
           "The March Of The Black Queen - Live At The Rainbow, London / November 1974"
          ],
          [
           "Bring Back That Leroy Brown - Live At The Rainbow, London / November 1974"
          ],
          [
           "Son And Daughter - Live At The Rainbow, London / November 1974"
          ],
          [
           "Guitar Solo - Live At The Rainbow, London / November 1974"
          ],
          [
           "Son And Daughter (Reprise) - Live At The Rainbow, London / November 1974"
          ],
          [
           "Keep Yourself Alive - Live At The Rainbow, London / November 1974"
          ],
          [
           "Drum Solo - Live At The Rainbow, London / November 1974"
          ],
          [
           "Keep Yourself Alive (Reprise) - Live At The Rainbow, London / November 1974"
          ],
          [
           "Seven Seas Of Rhye - Live At The Rainbow, London / November 1974"
          ],
          [
           "Stone Cold Crazy - Live At The Rainbow, London / November 1974"
          ],
          [
           "Liar - Live At The Rainbow, London / November 1974"
          ],
          [
           "In The Lap Of The Gods...Revisited - Live At The Rainbow, London / November 1974"
          ],
          [
           "Big Spender - Live At The Rainbow, London / November 1974"
          ],
          [
           "Modern Times Rock 'n' Roll - Live At The Rainbow, London / November 1974"
          ],
          [
           "Jailhouse Rock - Live At The Rainbow, London / November 1974"
          ],
          [
           "God Save The Queen - Live At The Rainbow, London / November 1974"
          ],
          [
           "Cosmos Rockin'"
          ],
          [
           "Time To Shine"
          ],
          [
           "Still Burnin'"
          ],
          [
           "Small"
          ],
          [
           "Warboys"
          ],
          [
           "We Believe"
          ],
          [
           "Call Me"
          ],
          [
           "Voodoo"
          ],
          [
           "Some Things That Glitter"
          ],
          [
           "C-lebrity"
          ],
          [
           "Through The Night"
          ],
          [
           "Say It's Not True"
          ],
          [
           "Surf's Up...School's Out"
          ],
          [
           "small reprise"
          ],
          [
           "Intro - Live"
          ],
          [
           "We Will Rock You (Fast) - Live"
          ],
          [
           "Let Me Entertain You - Live"
          ],
          [
           "Play The Game - Live"
          ],
          [
           "Somebody To Love - Live"
          ],
          [
           "Killer Queen - Live"
          ],
          [
           "I'm In Love With My Car - Live"
          ],
          [
           "Get Down, Make Love - Live"
          ],
          [
           "Save Me - Live"
          ],
          [
           "Now I'm Here - Live"
          ],
          [
           "Dragon Attack - Live"
          ],
          [
           "Now I'm Here (Reprise) - Live"
          ],
          [
           "Love Of My Life - Live"
          ],
          [
           "Under Pressure - Live"
          ],
          [
           "Keep Yourself Alive - Live"
          ],
          [
           "Drum And Tympani Solo - Live"
          ],
          [
           "Guitar Solo - Live"
          ],
          [
           "Flash - Live"
          ],
          [
           "The Hero - Live"
          ],
          [
           "Crazy Little Thing Called Love - Live"
          ],
          [
           "Jailhouse Rock - Live"
          ],
          [
           "Bohemian Rhapsody - Live"
          ],
          [
           "Tie Your Mother Down - Live"
          ],
          [
           "Another One Bites The Dust - Live"
          ],
          [
           "Sheer Heart Attack - Live"
          ],
          [
           "We Will Rock You - Live"
          ],
          [
           "We Are The Champions - Live"
          ],
          [
           "God Save The Queen - Live"
          ],
          [
           "Intro - Live At The Montreal Forum / November 1981"
          ],
          [
           "We Will Rock You (Fast) - Live At The Montreal Forum / November 1981"
          ],
          [
           "Let Me Entertain You - Live At The Montreal Forum / November 1981"
          ],
          [
           "Play The Game - Live At The Montreal Forum / November 1981"
          ],
          [
           "Somebody To Love - Live At The Montreal Forum / November 1981"
          ],
          [
           "Killer Queen - Live At The Montreal Forum / November 1981"
          ],
          [
           "I'm In Love With My Car - Live At The Montreal Forum / November 1981"
          ],
          [
           "Get Down, Make Love - Live At The Montreal Forum / November 1981"
          ],
          [
           "Save Me - Live At The Montreal Forum / November 1981"
          ],
          [
           "Now I'm Here - Live At The Montreal Forum / November 1981"
          ],
          [
           "Dragon Attack - Live At The Montreal Forum / November 1981"
          ],
          [
           "Now I'm Here (Reprise) - Live At The Montreal Forum / November 1981"
          ],
          [
           "Under Pressure - Live At The Montreal Forum / November 1981"
          ],
          [
           "Keep Yourself Alive - Live At The Montreal Forum / November 1981"
          ],
          [
           "Drum And Tympani Solo - Live At The Montreal Forum / November 1981"
          ],
          [
           "Guitar Solo - Live At The Montreal Forum / November 1981"
          ],
          [
           "Flash - Live At The Montreal Forum / November 1981"
          ],
          [
           "The Hero - Live At The Montreal Forum / November 1981"
          ],
          [
           "Crazy Little Thing Called Love - Live At The Montreal Forum / November 1981"
          ],
          [
           "Jailhouse Rock - Live At The Montreal Forum / November 1981"
          ],
          [
           "Bohemian Rhapsody - Live At The Montreal Forum / November 1981"
          ],
          [
           "Tie Your Mother Down - Live At The Montreal Forum / November 1981"
          ],
          [
           "Another One Bites The Dust - Live At The Montreal Forum / November 1981"
          ],
          [
           "Sheer Heart Attack - Live At The Montreal Forum / November 1981"
          ],
          [
           "We Will Rock You - Live At The Montreal Forum / November 1981"
          ],
          [
           "We Are The Champions - Live At The Montreal Forum / November 1981"
          ],
          [
           "God Save The Queen - Live At The Montreal Forum / November 1981"
          ],
          [
           "Intro - Live"
          ],
          [
           "We Will Rock You (Fast) - Live"
          ],
          [
           "Let Me Entertain You - Live"
          ],
          [
           "Play The Game - Live"
          ],
          [
           "Somebody To Love - Live"
          ],
          [
           "Killer Queen - Live"
          ],
          [
           "I'm In Love With My Car - Live"
          ],
          [
           "Get Down, Make Love - Live"
          ],
          [
           "Save Me - Live"
          ],
          [
           "Now I'm Here - Live"
          ],
          [
           "Dragon Attack - Live"
          ],
          [
           "Now I'm Here (Reprise) - Live"
          ],
          [
           "Love Of My Life - Live"
          ],
          [
           "Under Pressure - Live"
          ],
          [
           "Keep Yourself Alive - Live"
          ],
          [
           "Drum And Tympani Solo - Live"
          ],
          [
           "Guitar Solo - Live"
          ],
          [
           "Flash - Live"
          ],
          [
           "The Hero - Live"
          ],
          [
           "Crazy Little Thing Called Love - Live"
          ],
          [
           "Jailhouse Rock - Live"
          ],
          [
           "Bohemian Rhapsody - Live"
          ],
          [
           "Tie Your Mother Down - Live"
          ],
          [
           "Another One Bites The Dust - Live"
          ],
          [
           "Sheer Heart Attack - Live"
          ],
          [
           "We Will Rock You - Live"
          ],
          [
           "We Are The Champions - Live"
          ],
          [
           "God Save The Queen - Live"
          ],
          [
           "Reaching Out - Live In Sheffield / 2005"
          ],
          [
           "Tie Your Mother Down - Live In Sheffield / 2005"
          ],
          [
           "I Want To Break Free - Live In Sheffield / 2005"
          ],
          [
           "Fat Bottomed Girls - Live In Sheffield / 2005"
          ],
          [
           "Wishing Well - Live In Sheffield / 2005"
          ],
          [
           "Another One Bites The Dust - Live In Sheffield / 2005"
          ],
          [
           "Crazy Little Thing Called Love - Live In Sheffield / 2005"
          ],
          [
           "Say It's Not True - Live In Sheffield / 2005"
          ],
          [
           "'39 - Live In Sheffield / 2005"
          ],
          [
           "Love Of My Life - Live In Sheffield / 2005"
          ],
          [
           "Hammer To Fall - Live In Sheffield / 2005"
          ],
          [
           "Feel Like Makin' Love - Live In Sheffield / 2005"
          ],
          [
           "Let There Be Drums - Live In Sheffield / 2005"
          ],
          [
           "I'm In Love With My Car - Live In Sheffield / 2005"
          ],
          [
           "Guitar Solo - Live In Sheffield / 2005"
          ],
          [
           "Last Horizon - Live In Sheffield / 2005"
          ],
          [
           "These Are The Days Of Our Lives - Live In Sheffield / 2005"
          ],
          [
           "Radio Ga Ga - Live In Sheffield / 2005"
          ],
          [
           "Can't Get Enough - Live In Sheffield / 2005"
          ],
          [
           "A Kind Of Magic - Live In Sheffield / 2005"
          ],
          [
           "I Want It All - Live In Sheffield / 2005"
          ],
          [
           "Bohemian Rhapsody - Live In Sheffield / 2005"
          ],
          [
           "The Show Must Go On - Live In Sheffield / 2005"
          ],
          [
           "All Right Now - Live In Sheffield / 2005"
          ],
          [
           "We Will Rock You - Live In Sheffield / 2005"
          ],
          [
           "We Are The Champions - Live In Sheffield / 2005"
          ],
          [
           "God Save The Queen - Live In Sheffield / 2005"
          ],
          [
           "It's A Beautiful Day"
          ],
          [
           "Made In Heaven"
          ],
          [
           "Let Me Live"
          ],
          [
           "Mother Love"
          ],
          [
           "My Life Has Been Saved"
          ],
          [
           "I Was Born To Love You"
          ],
          [
           "Heaven For Everyone"
          ],
          [
           "Too Much Love Will Kill You"
          ],
          [
           "You Don't Fool Me"
          ],
          [
           "A Winter's Tale"
          ],
          [
           "It's A Beautiful Day (Reprise)"
          ],
          [
           "Yeah"
          ],
          [
           "Untitled"
          ],
          [
           "It's A Beautiful Day"
          ],
          [
           "Made In Heaven"
          ],
          [
           "Let Me Live"
          ],
          [
           "Mother Love"
          ],
          [
           "My Life Has Been Saved"
          ],
          [
           "I Was Born To Love You"
          ],
          [
           "Heaven For Everyone"
          ],
          [
           "Too Much Love Will Kill You"
          ],
          [
           "You Don't Fool Me"
          ],
          [
           "A Winter's Tale"
          ],
          [
           "It's A Beautiful Day (Reprise)"
          ],
          [
           "Yeah"
          ],
          [
           "Track 13"
          ],
          [
           "One Vision - Live at Wembley '86"
          ],
          [
           "Tie Your Mother Down - Live at Wembley '86"
          ],
          [
           "In The Lap Of The Gods - Live at Wembley '86"
          ],
          [
           "Seven Seas Of Rhye - Live at Wembley '86"
          ],
          [
           "Tear It Up - Live at Wembley '86"
          ],
          [
           "A Kind Of Magic - Live at Wembley '86"
          ],
          [
           "Under Pressure - Live at Wembley '86"
          ],
          [
           "Another One Bites The Dust - Live at Wembley '86"
          ],
          [
           "Who Wants To Live Forever - Live at Wembley '86"
          ],
          [
           "I Want To Break Free - Live at Wembley '86"
          ],
          [
           "Impromptu - Live at Wembley '86"
          ],
          [
           "Brighton Rock Solo - Live at Wembley '86"
          ],
          [
           "Now I'm Here - Live at Wembley '86"
          ],
          [
           "Love Of My Life - Live at Wembley"
          ],
          [
           "Is This The World We Created - Live at Wembley '86"
          ],
          [
           "(You're So Square) Baby I Don't Care - Live at Wembley '86"
          ],
          [
           "Hello Mary Lou (Goodbye Heart) - Live at Wembley '86"
          ],
          [
           "Tutti Frutti - Live at Wembley '86"
          ],
          [
           "Gimme Some Lovin' - Live at Wembley '86"
          ],
          [
           "Bohemian Rhapsody - Live at Wembley '86"
          ],
          [
           "Hammer To Fall - Live at Wembley '86"
          ],
          [
           "Crazy Little Thing Called Love - Live at Wembley '86"
          ],
          [
           "Big Spender - Live at Wembley '86"
          ],
          [
           "Radio Ga Ga - Live at Wembley '86"
          ],
          [
           "We Will Rock You - Live at Wembley '86"
          ],
          [
           "Friends Will Be Friends - Live at Wembley '86"
          ],
          [
           "We Are The Champions - Live at Wembley '86"
          ],
          [
           "God Save The Queen - Live at Wembley '86"
          ],
          [
           "A Kind Of Magic - Live at Wembley '86 (July 11)"
          ],
          [
           "Another One Bites The Dust - Live at Wembley '86 (July 11)"
          ],
          [
           "Crazy Little Thing Called Love - Live at Wembley '86 (July 11)"
          ],
          [
           "Tavaski Szel Vizet Araszt - Live"
          ],
          [
           "One Vision - Live At Wembley Stadium / July 1986"
          ],
          [
           "Tie Your Mother Down - Live At Wembley Stadium / July 1986"
          ],
          [
           "In the Lap of the Gods...Revisited - Live, Wembley Stadium, July 1986"
          ],
          [
           "Seven Seas of Rhye - Live At Wembley Stadium / July 1986"
          ],
          [
           "Tear It Up - Live At Wembley Stadium / July 1986"
          ],
          [
           "A Kind of Magic - Live At Wembley Stadium / July 1986"
          ],
          [
           "Under Pressure - Live At Wembley Stadium / July 1986"
          ],
          [
           "Another One Bites the Dust - Live At Wembley Stadium / July 1986"
          ],
          [
           "Who Wants to Live Forever - Live At Wembley Stadium / July 1986"
          ],
          [
           "I Want to Break Free - Live At Wembley Stadium / July 1986"
          ],
          [
           "Impromptu - Live At Wembley Stadium / July 1986"
          ],
          [
           "Brighton Rock Solo - Live At Wembley Stadium / July 1986"
          ],
          [
           "Now I'm Here - Live At Wembley Stadium / July 1986"
          ],
          [
           "Love of My Life - Live At Wembley Stadium / July 1986"
          ],
          [
           "Is This the World We Created? - Live At Wembley Stadium / July 1986"
          ],
          [
           "(You're So Square) Baby I Don't Care - Live At Wembley Stadium / July 1986"
          ],
          [
           "Hello Mary Lou (Goodbye Heart) - Live At Wembley Stadium / July 1986"
          ],
          [
           "Tutti Frutti - Live At Wembley Stadium / July 1986"
          ],
          [
           "Gimme Some Lovin' - Live At Wembley Stadium / July 1986"
          ],
          [
           "Bohemian Rhapsody - Live At Wembley Stadium / July 1986"
          ],
          [
           "Hammer to Fall - Live At Wembley Stadium / July 1986"
          ],
          [
           "Crazy Little Thing Called Love - Live At Wembley Stadium / July 1986"
          ],
          [
           "Big Spender - Live At Wembley Stadium / July 1986"
          ],
          [
           "Radio Ga Ga - Live At Wembley Stadium / July 1986"
          ],
          [
           "We Will Rock You - Live At Wembley Stadium / July 1986"
          ],
          [
           "Friends Will Be Friends - Live At Wembley Stadium / July 1986"
          ],
          [
           "We Are the Champions - Live At Wembley Stadium / July 1986"
          ],
          [
           "God Save the Queen - Live At Wembley Stadium / July 1986"
          ],
          [
           "Innuendo"
          ],
          [
           "I'm Going Slightly Mad"
          ],
          [
           "Headlong"
          ],
          [
           "I Can't Live With You"
          ],
          [
           "Don't Try So Hard"
          ],
          [
           "Ride The Wild Wind"
          ],
          [
           "All God's People"
          ],
          [
           "These Are The Days Of Our Lives"
          ],
          [
           "Delilah"
          ],
          [
           "The Hitman"
          ],
          [
           "Bijou"
          ],
          [
           "The Show Must Go On"
          ],
          [
           "Innuendo"
          ],
          [
           "I'm Going Slightly Mad"
          ],
          [
           "Headlong"
          ],
          [
           "I Can't Live With You"
          ],
          [
           "Don't Try So Hard"
          ],
          [
           "Ride The Wild Wind"
          ],
          [
           "All God's People"
          ],
          [
           "These Are The Days Of Our Lives"
          ],
          [
           "Delilah"
          ],
          [
           "The Hitman"
          ],
          [
           "Bijou"
          ],
          [
           "The Show Must Go On"
          ],
          [
           "Party"
          ],
          [
           "Khashoggi's Ship"
          ],
          [
           "The Miracle"
          ],
          [
           "I Want It All"
          ],
          [
           "The Invisible Man"
          ],
          [
           "Breakthru"
          ],
          [
           "Rain Must Fall"
          ],
          [
           "Scandal"
          ],
          [
           "My Baby Does Me"
          ],
          [
           "Was It All Worth It"
          ],
          [
           "Hang On In There"
          ],
          [
           "Chinese Torture"
          ],
          [
           "The Invisible Man - 12\" Version (Extended Mix)"
          ],
          [
           "Scandal - 12\" Mix (Album Version)"
          ],
          [
           "Party"
          ],
          [
           "Khashoggi's Ship"
          ],
          [
           "The Miracle"
          ],
          [
           "I Want It All"
          ],
          [
           "The Invisible Man"
          ],
          [
           "Breakthru"
          ],
          [
           "Rain Must Fall"
          ],
          [
           "Scandal"
          ],
          [
           "My Baby Does Me"
          ],
          [
           "Was It All Worth It"
          ],
          [
           "Hang On In There"
          ],
          [
           "Chinese Torture"
          ],
          [
           "The Invisible Man - Extended Version"
          ],
          [
           "One Vision"
          ],
          [
           "A Kind Of Magic"
          ],
          [
           "One Year Of Love"
          ],
          [
           "Pain Is So Close To Pleasure"
          ],
          [
           "Friends Will Be Friends"
          ],
          [
           "Who Wants To Live Forever"
          ],
          [
           "Gimme The Prize"
          ],
          [
           "Don't Lose Your Head"
          ],
          [
           "Princes Of The Universe"
          ],
          [
           "A Kind Of 'A Kind Of Magic'"
          ],
          [
           "Friends Will Be Friends Will Be Friends"
          ],
          [
           "Forever"
          ],
          [
           "One Vision"
          ],
          [
           "A Kind Of Magic"
          ],
          [
           "One Year Of Love"
          ],
          [
           "Pain Is So Close To Pleasure"
          ],
          [
           "Friends Will Be Friends"
          ],
          [
           "Who Wants To Live Forever"
          ],
          [
           "Gimme The Prize (Kurgan's Theme)"
          ],
          [
           "Don't Lose Your Head"
          ],
          [
           "Princes Of The Universe"
          ],
          [
           "Forever - Remix"
          ],
          [
           "One Vision"
          ],
          [
           "Radio Ga Ga"
          ],
          [
           "Tear It Up"
          ],
          [
           "It's A Hard Life"
          ],
          [
           "Man On The Prowl"
          ],
          [
           "Machines (Back To Humans)"
          ],
          [
           "I Want To Break Free"
          ],
          [
           "Keep Passing The Open Windows"
          ],
          [
           "Hammer To Fall"
          ],
          [
           "Is This The World We Created"
          ],
          [
           "I Go Crazy"
          ],
          [
           "Radio Ga Ga - Extended Remix"
          ],
          [
           "I Want To Break Free - Extended Mix"
          ],
          [
           "Radio Ga Ga"
          ],
          [
           "Tear It Up"
          ],
          [
           "It's A Hard Life"
          ],
          [
           "Man On The Prowl"
          ],
          [
           "Machines (Or Back To Humans)"
          ],
          [
           "I Want To Break Free"
          ],
          [
           "Keep Passing The Open Windows"
          ],
          [
           "Hammer To Fall"
          ],
          [
           "Is This The World We Created...?"
          ],
          [
           "Staying Power"
          ],
          [
           "Dancer"
          ],
          [
           "Back Chat"
          ],
          [
           "Body Language"
          ],
          [
           "Action This Day"
          ],
          [
           "Put Out The Fire"
          ],
          [
           "Life Is Real (Song For Lennon)"
          ],
          [
           "Calling All Girls"
          ],
          [
           "Las Palabras De Amor"
          ],
          [
           "Cool Cat"
          ],
          [
           "Under Pressure"
          ],
          [
           "Body Language - 1991 Bonus Remix"
          ],
          [
           "Staying Power"
          ],
          [
           "Dancer"
          ],
          [
           "Back Chat"
          ],
          [
           "Body Language"
          ],
          [
           "Action This Day"
          ],
          [
           "Put Out The Fire"
          ],
          [
           "Life Is Real (Song For Lennon)"
          ],
          [
           "Calling All Girls"
          ],
          [
           "Las Palabras De Amor (The Words Of Love)"
          ],
          [
           "Cool Cat"
          ],
          [
           "Under Pressure"
          ],
          [
           "Flash's Theme"
          ],
          [
           "In The Space Capsule (The Love Theme)"
          ],
          [
           "Ming's Theme (In The Court Of Ming The Merciless)"
          ],
          [
           "The Ring (Hypnotic Seduction Of Dale)"
          ],
          [
           "Football Fight"
          ],
          [
           "In The Death Cell (Love Theme Reprise)"
          ],
          [
           "Execution Of Flash"
          ],
          [
           "The Kiss (Aura Resurrects Flash)"
          ],
          [
           "Arboria (Planet Of The Tree Men)"
          ],
          [
           "Escape From The Swamp"
          ],
          [
           "Flash To The Rescue"
          ],
          [
           "Vultan's Theme (Attack Of The Hawk Men)"
          ],
          [
           "Battle Theme"
          ],
          [
           "The Wedding March"
          ],
          [
           "Marriage Of Dale And Ming (And Flash Approaching)"
          ],
          [
           "Crash Dive On Mingo City"
          ],
          [
           "Flash's Theme Reprise (Victory Celebrations)"
          ],
          [
           "The Hero"
          ],
          [
           "Flash's Theme - 1991 Bonus Remix"
          ],
          [
           "Flash's Theme"
          ],
          [
           "In The Space Capsule (The Love Theme)"
          ],
          [
           "Ming's Theme (In The Court Of Ming The Merciless)"
          ],
          [
           "The Ring (Hypnotic Seduction Of Dale)"
          ],
          [
           "Football Fight"
          ],
          [
           "In The Death Cell (Love Theme Reprise)"
          ],
          [
           "Execution Of Flash"
          ],
          [
           "The Kiss (Aura Resurrects Flash)"
          ],
          [
           "Arboria (Planet Of The Tree Men)"
          ],
          [
           "Escape From The Swamp"
          ],
          [
           "Flash To The Rescue"
          ],
          [
           "Vultan's Theme (Attack Of The Hawk Men)"
          ],
          [
           "Battle Theme"
          ],
          [
           "The Wedding March"
          ],
          [
           "Marriage Of Dale And Ming (And Flash Approaching)"
          ],
          [
           "Crash Dive On Mingo City"
          ],
          [
           "Flash's Theme Reprise (Victory Celebrations)"
          ],
          [
           "The Hero"
          ],
          [
           "Play The Game"
          ],
          [
           "Dragon Attack"
          ],
          [
           "Another One Bites The Dust"
          ],
          [
           "Need Your Loving Tonight"
          ],
          [
           "Crazy Little Thing Called Love"
          ],
          [
           "Rock It (Prime Jive)"
          ],
          [
           "Don't Try Suicide"
          ],
          [
           "Sail Away Sweet Sister"
          ],
          [
           "Coming Soon"
          ],
          [
           "Save Me"
          ],
          [
           "Dragon Attack - 1991 Bonus Remix"
          ],
          [
           "Play The Game"
          ],
          [
           "Dragon Attack"
          ],
          [
           "Another One Bites The Dust"
          ],
          [
           "Need Your Loving Tonight"
          ],
          [
           "Crazy Little Thing Called Love"
          ],
          [
           "Rock It (Prime Jive)"
          ],
          [
           "Don't Try Suicide"
          ],
          [
           "Sail Away Sweet Sister"
          ],
          [
           "Coming Soon"
          ],
          [
           "Save Me"
          ],
          [
           "We Will Rock You - Live"
          ],
          [
           "Let Me Entertain You - Live"
          ],
          [
           "Death On Two Legs"
          ],
          [
           "Killer Queen - Live"
          ],
          [
           "Bicycle Race - Live"
          ],
          [
           "I'm In Love With My Car - Live"
          ],
          [
           "Get Down, Make Love - Live"
          ],
          [
           "You're My Best Friend - Live"
          ],
          [
           "Now I'm Here - Live"
          ],
          [
           "Dreamers Ball - Live"
          ],
          [
           "Love Of My Life - Live"
          ],
          [
           "'39 - Live"
          ],
          [
           "Keep Yourself Alive - Live"
          ],
          [
           "Don't Stop Me Now - Live"
          ],
          [
           "Spread Your Wings - Live"
          ],
          [
           "Brighton Rock - Live"
          ],
          [
           "Bohemian Rhapsody - Live"
          ],
          [
           "Tie Your Mother Down - Live"
          ],
          [
           "Sheer Heart Attack - Live"
          ],
          [
           "We Will Rock You - Live"
          ],
          [
           "We Are The Champions - Live"
          ],
          [
           "God Save The Queen - Live"
          ],
          [
           "We Will Rock You - Live, European Tour / 1979"
          ],
          [
           "Let Me Entertain You - Live, European Tour / 1979"
          ],
          [
           "Death On Two Legs - Live, European Tour / 1979"
          ],
          [
           "Killer Queen - Live, European Tour / 1979"
          ],
          [
           "Bicycle Race - Live, European Tour / 1979"
          ],
          [
           "I'm In Love With My Car - Live, European Tour / 1979"
          ],
          [
           "Get Down, Make Love - Live, European Tour / 1979"
          ],
          [
           "You're My Best Friend - Live, European Tour / 1979"
          ],
          [
           "Now I'm Here - Live, European Tour / 1979"
          ],
          [
           "Dreamer's Ball - Live, European Tour / 1979"
          ],
          [
           "Love Of My Life - Live, European Tour / 1979"
          ],
          [
           "'39 - Live, European Tour / 1979"
          ],
          [
           "Keep Yourself Alive - Live, European Tour / 1979"
          ],
          [
           "Don't Stop Me Now - Live, European Tour / 1979"
          ],
          [
           "Spread Your Wings - Live, European Tour / 1979"
          ],
          [
           "Brighton Rock - Live, European Tour / 1979"
          ],
          [
           "Bohemian Rhapsody - Live, European Tour / 1979"
          ],
          [
           "Tie Your Mother Down - Live, European Tour / 1979"
          ],
          [
           "Sheer Heart Attack - Live, European Tour / 1979"
          ],
          [
           "We Will Rock You - Live, European Tour / 1979"
          ],
          [
           "We Are The Champions - Live, European Tour / 1979"
          ],
          [
           "God Save The Queen - Live, European Tour / 1979"
          ],
          [
           "Mustapha"
          ],
          [
           "Fat Bottomed Girls"
          ],
          [
           "Jealousy"
          ],
          [
           "Bicycle Race"
          ],
          [
           "If You Can't Beat Them"
          ],
          [
           "Let Me Entertain You"
          ],
          [
           "Dead On Time"
          ],
          [
           "In Only Seven Days"
          ],
          [
           "Dreamers Ball"
          ],
          [
           "Fun It"
          ],
          [
           "Leaving Home Ain't Easy"
          ],
          [
           "Don't Stop Me Now"
          ],
          [
           "More Of That Jazz"
          ],
          [
           "Fat Bottomed Girls - 1991 Bonus Remix"
          ],
          [
           "Bicycle Race - 1991 Bonus Remix"
          ],
          [
           "Mustapha"
          ],
          [
           "Fat Bottomed Girls"
          ],
          [
           "Jealousy"
          ],
          [
           "Bicycle Race"
          ],
          [
           "If You Can't Beat Them"
          ],
          [
           "Let Me Entertain You"
          ],
          [
           "Dead On Time"
          ],
          [
           "In Only Seven Days"
          ],
          [
           "Dreamer's Ball"
          ],
          [
           "Fun It"
          ],
          [
           "Leaving Home Ain't Easy"
          ],
          [
           "Don't Stop Me Now"
          ],
          [
           "More Of That Jazz"
          ],
          [
           "We Will Rock You"
          ],
          [
           "We Are The Champions"
          ],
          [
           "Sheer Heart Attack"
          ],
          [
           "All Dead, All Dead"
          ],
          [
           "Spread Your Wings"
          ],
          [
           "Fight From The Inside"
          ],
          [
           "Get Down, Make Love"
          ],
          [
           "Sleeping On The Sidewalk"
          ],
          [
           "Who Needs You"
          ],
          [
           "It's Late"
          ],
          [
           "My Melancholy Blues"
          ],
          [
           "We Will Rock You - 1991 Bonus Remix Ruined By Rick Rubin"
          ],
          [
           "We Will Rock You"
          ],
          [
           "We Are The Champions"
          ],
          [
           "Sheer Heart Attack"
          ],
          [
           "All Dead, All Dead"
          ],
          [
           "Spread Your Wings"
          ],
          [
           "Fight From The Inside"
          ],
          [
           "Get Down, Make Love"
          ],
          [
           "Sleeping On The Sidewalk"
          ],
          [
           "Who Needs You"
          ],
          [
           "It's Late"
          ],
          [
           "My Melancholy Blues"
          ],
          [
           "Tie Your Mother Down"
          ],
          [
           "You Take My Breath Away"
          ],
          [
           "Long Away"
          ],
          [
           "The Millionaire Waltz"
          ],
          [
           "You And I"
          ],
          [
           "Somebody To Love"
          ],
          [
           "White Man"
          ],
          [
           "Good Old-Fashioned Lover Boy"
          ],
          [
           "Drowse"
          ],
          [
           "Teo Torriatte (Let Us Cling Together)"
          ],
          [
           "Tie Your Mother Down - Remastered 2011"
          ],
          [
           "You Take My Breath Away - Remastered 2011"
          ],
          [
           "Long Away - Remastered 2011"
          ],
          [
           "The Millionaire Waltz - Remastered 2011"
          ],
          [
           "You And I - Remastered 2011"
          ],
          [
           "Somebody To Love - Remastered 2011"
          ],
          [
           "White Man - Remastered 2011"
          ],
          [
           "Good Old-Fashioned Lover Boy - Remastered 2011"
          ],
          [
           "Drowse - Remastered 2011"
          ],
          [
           "Teo Torriatte (Let Us Cling Together) - Remastered 2011"
          ],
          [
           "Death On Two Legs (Dedicated To...) - Remastered 2011"
          ],
          [
           "Lazing On A Sunday Afternoon - Remastered 2011"
          ],
          [
           "I'm In Love With My Car - Remastered 2011"
          ],
          [
           "You're My Best Friend - Remastered 2011"
          ],
          [
           "'39 - Remastered 2011"
          ],
          [
           "Sweet Lady - Remastered 2011"
          ],
          [
           "Seaside Rendezvous - Remastered 2011"
          ],
          [
           "The Prophet's Song - Remastered 2011"
          ],
          [
           "Love Of My Life - Remastered 2011"
          ],
          [
           "Good Company - Remastered 2011"
          ],
          [
           "Bohemian Rhapsody - Remastered 2011"
          ],
          [
           "God Save The Queen - Remastered 2011"
          ],
          [
           "Brighton Rock - Remastered 2011"
          ],
          [
           "Killer Queen - Remastered 2011"
          ],
          [
           "Tenement Funster - Remastered 2011"
          ],
          [
           "Flick Of The Wrist - Remastered 2011"
          ],
          [
           "Lily Of The Valley - Remastered 2011"
          ],
          [
           "Now I'm Here - Remastered 2011"
          ],
          [
           "In The Lap Of The Gods - Remastered 2011"
          ],
          [
           "Stone Cold Crazy - Remastered 2011"
          ],
          [
           "Dear Friends - Remastered 2011"
          ],
          [
           "Misfire - Remastered 2011"
          ],
          [
           "Bring Back That Leroy Brown - Remastered 2011"
          ],
          [
           "She Makes Me (Stormtrooper In Stilettos) - Remastered 2011"
          ],
          [
           "In The Lap Of The Gods... Revisited - Remastered 2011"
          ],
          [
           "Brighton Rock"
          ],
          [
           "Killer Queen"
          ],
          [
           "Tenement Funster"
          ],
          [
           "Flick Of The Wrist"
          ],
          [
           "Lily Of The Valley"
          ],
          [
           "Now I'm Here"
          ],
          [
           "In The Lap Of The Gods"
          ],
          [
           "Stone Cold Crazy"
          ],
          [
           "Dear Friends"
          ],
          [
           "Misfire"
          ],
          [
           "Bring Back That Leroy Brown"
          ],
          [
           "She Makes Me (Stormtrooper In Stilettos)"
          ],
          [
           "In The Lap Of The Gods... Revisited"
          ],
          [
           "Procession - Remastered 2011"
          ],
          [
           "Father To Son - Remastered 2011"
          ],
          [
           "White Queen (As It Began) - Remastered 2011"
          ],
          [
           "Some Day One Day - Remastered 2011"
          ],
          [
           "The Loser In The End - Remastered 2011"
          ],
          [
           "Ogre Battle - Remastered 2011"
          ],
          [
           "The Fairy Feller's Master-Stroke - Remastered 2011"
          ],
          [
           "Nevermore - Remastered 2011"
          ],
          [
           "The March Of The Black Queen - Remastered 2011"
          ],
          [
           "Funny How Love Is - Remastered 2011"
          ],
          [
           "Seven Seas Of Rhye - Remastered 2011"
          ],
          [
           "Procession"
          ],
          [
           "Father To Son"
          ],
          [
           "White Queen (As It Began)"
          ],
          [
           "Some Day One Day"
          ],
          [
           "The Loser In The End"
          ],
          [
           "Ogre Battle"
          ],
          [
           "The Fairy Feller's Master-Stroke"
          ],
          [
           "Nevermore"
          ],
          [
           "The March Of The Black Queen"
          ],
          [
           "Funny How Love Is"
          ],
          [
           "Seven Seas Of Rhye"
          ],
          [
           "Keep Yourself Alive"
          ],
          [
           "Doing Alright"
          ],
          [
           "Great King Rat"
          ],
          [
           "My Fairy King"
          ],
          [
           "Liar"
          ],
          [
           "The Night Comes Down"
          ],
          [
           "Modern Times Rock'n'Roll"
          ],
          [
           "Son And Daughter"
          ],
          [
           "Jesus"
          ],
          [
           "Seven Seas Of Rhye..."
          ],
          [
           "Keep Yourself Alive - 2011 Mix"
          ],
          [
           "Doing Alright - Remastered 2011"
          ],
          [
           "Great King Rat - Remastered 2011"
          ],
          [
           "My Fairy King - Remastered 2011"
          ],
          [
           "Liar - Remastered 2011"
          ],
          [
           "The Night Comes Down - Remastered 2011"
          ],
          [
           "Modern Times Rock 'N Roll - Remastered 2011"
          ],
          [
           "Son And Daughter - Remastered 2011"
          ],
          [
           "Jesus - Remastered 2011"
          ],
          [
           "Seven Seas Of Rhye - Remastered 2011"
          ],
          [
           "My Fairy King"
          ],
          [
           "Keep Yourself Alive"
          ],
          [
           "Doing All Right"
          ],
          [
           "Liar (At The BBC)"
          ],
          [
           "Ogre Battle"
          ],
          [
           "Great King Rat"
          ],
          [
           "Modern Times Rock 'N' Roll"
          ],
          [
           "Son And Daughter"
          ]
         ],
         "hovertemplate": "Artist(s)=Queen<br>Positiveness (valence)=%{x}<br>Energy=%{y}<br>Song Title=%{customdata[0]}<extra></extra>",
         "legendgroup": "Queen",
         "marker": {
          "color": "#B6E880",
          "symbol": "circle"
         },
         "mode": "markers",
         "name": "Queen",
         "showlegend": true,
         "type": "scattergl",
         "x": [
          0.455,
          0.12,
          0.45799999999999996,
          0.298,
          0.42100000000000004,
          0.47200000000000003,
          0.43799999999999994,
          0.185,
          0.292,
          0.41700000000000004,
          0.105,
          0.299,
          0.141,
          0.4,
          0.37,
          0.0696,
          0.27899999999999997,
          0.441,
          0.158,
          0.275,
          0.4,
          0.37,
          0.0696,
          0.27899999999999997,
          0.441,
          0.158,
          0.275,
          0.556,
          0.349,
          0.418,
          0.295,
          0.622,
          0.34600000000000003,
          0.24600000000000002,
          0.13,
          0.7659999999999999,
          0.0713,
          0.40700000000000003,
          0.753,
          0.502,
          0.46,
          0.0388,
          0.327,
          0.395,
          0.462,
          0.153,
          0.195,
          0.39,
          0.0671,
          0.556,
          0.349,
          0.418,
          0.295,
          0.622,
          0.34600000000000003,
          0.24600000000000002,
          0.13,
          0.7659999999999999,
          0.0713,
          0.40700000000000003,
          0.753,
          0.502,
          0.46,
          0.0388,
          0.327,
          0.395,
          0.462,
          0.153,
          0.195,
          0.39,
          0.0671,
          0.259,
          0.42200000000000004,
          0.353,
          0.363,
          0.41600000000000004,
          0.504,
          0.33899999999999997,
          0.484,
          0.243,
          0.49,
          0.379,
          0.52,
          0.38799999999999996,
          0.5329999999999999,
          0.145,
          0.44799999999999995,
          0.46299999999999997,
          0.5660000000000001,
          0.45299999999999996,
          0.368,
          0.253,
          0.505,
          0.23800000000000002,
          0.132,
          0.285,
          0.41100000000000003,
          0.34600000000000003,
          0.368,
          0.373,
          0.516,
          0.34600000000000003,
          0.498,
          0.315,
          0.524,
          0.395,
          0.531,
          0.379,
          0.541,
          0.138,
          0.449,
          0.446,
          0.616,
          0.489,
          0.374,
          0.22399999999999998,
          0.486,
          0.242,
          0.127,
          0.135,
          0.0651,
          0.363,
          0.35,
          0.42,
          0.0471,
          0.107,
          0.35600000000000004,
          0.171,
          0.45799999999999996,
          0.20800000000000002,
          0.205,
          0.11599999999999999,
          0.0349,
          0.073,
          0.0344,
          0.158,
          0.312,
          0.528,
          0.298,
          0.0906,
          0.156,
          0.16899999999999998,
          0.19899999999999998,
          0.281,
          0.322,
          0.773,
          0.309,
          0.503,
          0.526,
          0.39799999999999996,
          0.161,
          0.294,
          0.74,
          0.196,
          0.175,
          0.168,
          0.24600000000000002,
          0.428,
          0.11699999999999999,
          0.0839,
          0.276,
          0.08199999999999999,
          0.295,
          0.209,
          0.14800000000000002,
          0.536,
          0.34600000000000003,
          0.0584,
          0.172,
          0.157,
          0.348,
          0.14300000000000002,
          0.7440000000000001,
          0.228,
          0.275,
          0.0939,
          0.282,
          0.16399999999999998,
          0.36700000000000005,
          0.255,
          0.099,
          0.149,
          0.221,
          0.19399999999999998,
          0.315,
          0.35,
          0.733,
          0.265,
          0.49700000000000005,
          0.525,
          0.426,
          0.18600000000000003,
          0.26899999999999996,
          0.589,
          0.18600000000000003,
          0.171,
          0.16399999999999998,
          0.21600000000000003,
          0.413,
          0.13699999999999998,
          0.087,
          0.23,
          0.126,
          0.363,
          0.24100000000000002,
          0.711,
          0.24600000000000002,
          0.267,
          0.278,
          0.7290000000000001,
          0.517,
          0.414,
          0.5429999999999999,
          0.382,
          0.223,
          0.14,
          0.0905,
          0.133,
          0.0932,
          0.18600000000000003,
          0.218,
          0.28300000000000003,
          0.695,
          0.44799999999999995,
          0.127,
          0.25,
          0.182,
          0.522,
          0.147,
          0.19699999999999998,
          0.225,
          0.52,
          0.34,
          0.205,
          0.308,
          0.35600000000000004,
          0.342,
          0.18600000000000003,
          0.255,
          0.225,
          0.373,
          0.0716,
          0.209,
          0.14,
          0.294,
          0.12300000000000001,
          0.105,
          0.255,
          0.19899999999999998,
          0.306,
          0.637,
          0.494,
          0.141,
          0.258,
          0.192,
          0.48700000000000004,
          0.185,
          0.204,
          0.506,
          0.342,
          0.205,
          0.313,
          0.38299999999999995,
          0.358,
          0.245,
          0.23600000000000002,
          0.268,
          0.405,
          0.0644,
          0.188,
          0.157,
          0.292,
          0.135,
          0.0804,
          0.201,
          0.21600000000000003,
          0.302,
          0.6709999999999999,
          0.46799999999999997,
          0.113,
          0.26899999999999996,
          0.22,
          0.452,
          0.128,
          0.188,
          0.207,
          0.517,
          0.33399999999999996,
          0.205,
          0.249,
          0.39899999999999997,
          0.348,
          0.22699999999999998,
          0.235,
          0.249,
          0.371,
          0.0615,
          0.187,
          0.142,
          0.247,
          0.424,
          0.162,
          0.268,
          0.402,
          0.48700000000000004,
          0.473,
          0.486,
          0.405,
          0.441,
          0.21899999999999997,
          0.46,
          0.267,
          0.195,
          0.336,
          0.05,
          0.207,
          0.444,
          0.408,
          0.547,
          0.281,
          0.461,
          0.28300000000000003,
          0.299,
          0.275,
          0.172,
          0.245,
          0.191,
          0.0363,
          0.379,
          0.435,
          0.17,
          0.316,
          0.522,
          0.258,
          0.2,
          0.569,
          0.147,
          0.045,
          0,
          0.0306,
          0.0355,
          0.41,
          0.45899999999999996,
          0.156,
          0.29100000000000004,
          0.518,
          0.23399999999999999,
          0.195,
          0.599,
          0.14400000000000002,
          0.0397,
          0,
          0.0311,
          0.0885,
          0.0395,
          0.16899999999999998,
          0.21,
          0.182,
          0.154,
          0.294,
          0.114,
          0.0934,
          0.281,
          0.34700000000000003,
          0.159,
          0.23199999999999998,
          0.109,
          0.107,
          0.365,
          0.247,
          0.14,
          0.122,
          0.27699999999999997,
          0.0609,
          0.182,
          0.0981,
          0.32299999999999995,
          0.0372,
          0.40700000000000003,
          0.19899999999999998,
          0.109,
          0.207,
          0.249,
          0.348,
          0.172,
          0.0885,
          0.0395,
          0.16899999999999998,
          0.21,
          0.182,
          0.154,
          0.294,
          0.114,
          0.0934,
          0.281,
          0.34700000000000003,
          0.159,
          0.23199999999999998,
          0.111,
          0.1,
          0.377,
          0.262,
          0.149,
          0.13,
          0.276,
          0.057999999999999996,
          0.19699999999999998,
          0.10400000000000001,
          0.342,
          0.0375,
          0.47,
          0.214,
          0.17,
          0.254,
          0.364,
          0.445,
          0.45799999999999996,
          0.114,
          0.40299999999999997,
          0.244,
          0.5479999999999999,
          0.529,
          0.23800000000000002,
          0.0549,
          0.109,
          0.272,
          0.35600000000000004,
          0.444,
          0.47200000000000003,
          0.111,
          0.408,
          0.24600000000000002,
          0.5710000000000001,
          0.5870000000000001,
          0.22399999999999998,
          0.0446,
          0.18899999999999997,
          0.797,
          0.579,
          0.503,
          0.41200000000000003,
          0.632,
          0.32799999999999996,
          0.966,
          0.581,
          0.664,
          0.177,
          0.374,
          0.10400000000000001,
          0.523,
          0.62,
          0.847,
          0.5379999999999999,
          0.522,
          0.455,
          0.614,
          0.33399999999999996,
          0.9620000000000001,
          0.595,
          0.706,
          0.18899999999999997,
          0.46399999999999997,
          0.188,
          0.66,
          0.34700000000000003,
          0.693,
          0.0967,
          0.634,
          0.322,
          0.0396,
          0.14300000000000002,
          0.359,
          0.335,
          0.9570000000000001,
          0.258,
          0.0393,
          0.322,
          0.705,
          0.147,
          0.68,
          0.377,
          0.0398,
          0.14,
          0.371,
          0.32,
          0.0388,
          0.14300000000000002,
          0.632,
          0.313,
          0.293,
          0.932,
          0.47,
          0.742,
          0.5539999999999999,
          0.5660000000000001,
          0.165,
          0.36200000000000004,
          0.66,
          0.545,
          0.693,
          0.355,
          0.317,
          0.9159999999999999,
          0.381,
          0.812,
          0.617,
          0.544,
          0.222,
          0.439,
          0.625,
          0.7509999999999999,
          0.38,
          0.873,
          0.528,
          0.361,
          0.632,
          0.128,
          0.9,
          0.406,
          0.6,
          0.439,
          0.573,
          0.742,
          0.379,
          0.878,
          0.525,
          0.326,
          0.606,
          0.133,
          0.9059999999999999,
          0.452,
          0.182,
          0.109,
          0.0294,
          0.0371,
          0.423,
          0.0478,
          0.135,
          0,
          0.064,
          0.109,
          0.11199999999999999,
          0.475,
          0.46299999999999997,
          0.6729999999999999,
          0.365,
          0.12,
          0.466,
          0.369,
          0.39899999999999997,
          0.213,
          0.122,
          0.0311,
          0.036000000000000004,
          0.375,
          0.0397,
          0.157,
          0.0411,
          0.0601,
          0.122,
          0.113,
          0.595,
          0.503,
          0.6,
          0.425,
          0.133,
          0.518,
          0.361,
          0.33399999999999996,
          0.629,
          0.784,
          0.802,
          0.743,
          0.62,
          0.659,
          0.245,
          0.893,
          0.429,
          0.768,
          0.306,
          0.679,
          0.778,
          0.782,
          0.693,
          0.557,
          0.65,
          0.21899999999999997,
          0.795,
          0.311,
          0.318,
          0.297,
          0.355,
          0.748,
          0.616,
          0.43,
          0.102,
          0.684,
          0.125,
          0.363,
          0.302,
          0.725,
          0.377,
          0.23,
          0.486,
          0.28300000000000003,
          0.242,
          0.10300000000000001,
          0.0551,
          0.0744,
          0.207,
          0.423,
          0.316,
          0.299,
          0.35,
          0.769,
          0.6459999999999999,
          0.326,
          0.10099999999999999,
          0.6709999999999999,
          0.129,
          0.371,
          0.285,
          0.605,
          0.373,
          0.196,
          0.494,
          0.22,
          0.235,
          0.0886,
          0.0993,
          0.0691,
          0.235,
          0.316,
          0.595,
          0.41,
          0.23800000000000002,
          0.69,
          0.677,
          0.662,
          0.486,
          0.519,
          0.45299999999999996,
          0.86,
          0.24,
          0.64,
          0.526,
          0.37200000000000005,
          0.617,
          0.5720000000000001,
          0.423,
          0.23199999999999998,
          0.71,
          0.7,
          0.522,
          0.444,
          0.428,
          0.444,
          0.87,
          0.22699999999999998,
          0.6,
          0.49700000000000005,
          0.544,
          0.18899999999999997,
          0.46399999999999997,
          0.272,
          0.431,
          0.324,
          0.484,
          0.6920000000000001,
          0.93,
          0.5870000000000001,
          0.111,
          0.231,
          0.537,
          0.163,
          0.402,
          0.28,
          0.419,
          0.34,
          0.479,
          0.713,
          0.9209999999999999,
          0.597,
          0.149,
          0.165,
          0.0785,
          0.256,
          0.364,
          0.488,
          0.377,
          0.244,
          0.34600000000000003,
          0.313,
          0.11800000000000001,
          0.16,
          0.0751,
          0.29600000000000004,
          0.373,
          0.54,
          0.358,
          0.264,
          0.39299999999999996,
          0.405,
          0.111,
          0.455,
          0.7120000000000001,
          0.34,
          0.5760000000000001,
          0.336,
          0.593,
          0.7609999999999999,
          0.17800000000000002,
          0.26,
          0.51,
          0.228,
          0.23,
          0.35100000000000003,
          0.61,
          0.511,
          0.552,
          0.41600000000000004,
          0.537,
          0.235,
          0.504,
          0.5670000000000001,
          0.961,
          0.887,
          0.37,
          0.502,
          0.359,
          0.597,
          0.446,
          0.591,
          0.44299999999999995,
          0.551,
          0.22899999999999998,
          0.445,
          0.542,
          0.948,
          0.904,
          0.344,
          0.496,
          0.384,
          0.22399999999999998,
          0.16699999999999998,
          0.705,
          0.682,
          0.266,
          0.696,
          0.18600000000000003,
          0.141,
          0.431,
          0.42700000000000005,
          0.325,
          0.223,
          0.171,
          0.6679999999999999,
          0.821,
          0.319,
          0.667,
          0.17,
          0.2,
          0.608,
          0.371,
          0.635,
          0.185,
          0.447,
          0.247,
          0.316,
          0.6609999999999999,
          0.579,
          0.7709999999999999,
          0.583,
          0.28800000000000003,
          0.593,
          0.17800000000000002,
          0.428,
          0.276,
          0.267,
          0.67,
          0.513,
          0.7440000000000001,
          0.531,
          0.0451,
          0.267,
          0.45299999999999996,
          0.294,
          0.377,
          0.434,
          0.355,
          0.48700000000000004,
          0.47600000000000003
         ],
         "xaxis": "x",
         "y": [
          0.953,
          0.9359999999999999,
          0.914,
          0.878,
          0.9009999999999999,
          0.8029999999999999,
          0.7979999999999999,
          0.522,
          0.807,
          0.882,
          0.474,
          0.802,
          0.379,
          0.83,
          0.9359999999999999,
          0.805,
          0.9259999999999999,
          0.909,
          0.976,
          0.889,
          0.83,
          0.9359999999999999,
          0.805,
          0.9259999999999999,
          0.909,
          0.976,
          0.889,
          0.705,
          0.698,
          0.45299999999999996,
          0.975,
          0.64,
          0.914,
          0.397,
          0.919,
          0.762,
          0.563,
          0.593,
          0.526,
          0.414,
          0.6990000000000001,
          0.371,
          0.7809999999999999,
          0.934,
          0.87,
          0.981,
          0.86,
          0.917,
          0.675,
          0.705,
          0.698,
          0.45299999999999996,
          0.975,
          0.64,
          0.914,
          0.397,
          0.919,
          0.762,
          0.563,
          0.593,
          0.526,
          0.414,
          0.6990000000000001,
          0.371,
          0.7809999999999999,
          0.934,
          0.87,
          0.981,
          0.86,
          0.917,
          0.675,
          0.52,
          0.713,
          0.309,
          0.617,
          0.767,
          0.715,
          0.617,
          0.922,
          0.723,
          0.8340000000000001,
          0.7559999999999999,
          0.794,
          0.9740000000000001,
          0.289,
          0.617,
          0.7040000000000001,
          0.8390000000000001,
          0.723,
          0.515,
          0.461,
          0.9840000000000001,
          0.868,
          0.7140000000000001,
          0.235,
          0.506,
          0.722,
          0.303,
          0.613,
          0.7559999999999999,
          0.706,
          0.617,
          0.9209999999999999,
          0.743,
          0.8420000000000001,
          0.7609999999999999,
          0.797,
          0.9740000000000001,
          0.282,
          0.62,
          0.72,
          0.835,
          0.738,
          0.526,
          0.44,
          0.988,
          0.868,
          0.7020000000000001,
          0.23600000000000002,
          0.899,
          0.9059999999999999,
          0.807,
          0.6709999999999999,
          0.816,
          0.965,
          0.7190000000000001,
          0.899,
          0.948,
          0.77,
          0.9309999999999999,
          0.948,
          0.877,
          0.91,
          0.9209999999999999,
          0.966,
          0.948,
          0.8640000000000001,
          0.5710000000000001,
          0.386,
          0.9059999999999999,
          0.9209999999999999,
          0.873,
          0.7040000000000001,
          0.904,
          0.802,
          0.821,
          0.95,
          0.935,
          0.9259999999999999,
          0.815,
          0.884,
          0.956,
          0.871,
          0.836,
          0.9229999999999999,
          0.9229999999999999,
          0.8759999999999999,
          0.672,
          0.9209999999999999,
          0.963,
          0.9390000000000001,
          0.5820000000000001,
          0.40700000000000003,
          0.904,
          0.941,
          0.935,
          0.9279999999999999,
          0.9179999999999999,
          0.73,
          0.965,
          0.951,
          0.982,
          0.9740000000000001,
          0.904,
          0.9390000000000001,
          0.991,
          0.9279999999999999,
          0.9440000000000001,
          0.868,
          0.366,
          0.9059999999999999,
          0.925,
          0.866,
          0.7070000000000001,
          0.904,
          0.797,
          0.8220000000000001,
          0.95,
          0.932,
          0.925,
          0.8270000000000001,
          0.87,
          0.9620000000000001,
          0.8859999999999999,
          0.83,
          0.9329999999999999,
          0.919,
          0.875,
          0.6990000000000001,
          0.919,
          0.9590000000000001,
          0.9440000000000001,
          0.575,
          0.903,
          0.627,
          0.858,
          0.514,
          0.948,
          0.5760000000000001,
          0.826,
          0.493,
          0.494,
          0.893,
          0.679,
          0.46,
          0.754,
          0.499,
          0.63,
          0.983,
          0.987,
          0.8220000000000001,
          0.885,
          0.884,
          0.9620000000000001,
          0.7959999999999999,
          0.698,
          0.9590000000000001,
          0.937,
          0.858,
          0.28600000000000003,
          0.941,
          0.951,
          0.562,
          0.693,
          0.861,
          0.919,
          0.873,
          0.972,
          0.8340000000000001,
          0.9670000000000001,
          0.9159999999999999,
          0.996,
          0.958,
          0.8740000000000001,
          0.8440000000000001,
          0.68,
          0.983,
          0.982,
          0.826,
          0.8859999999999999,
          0.875,
          0.971,
          0.797,
          0.6940000000000001,
          0.958,
          0.9440000000000001,
          0.861,
          0.946,
          0.9520000000000001,
          0.545,
          0.705,
          0.855,
          0.935,
          0.867,
          0.973,
          0.846,
          0.968,
          0.909,
          0.995,
          0.9640000000000001,
          0.88,
          0.861,
          0.733,
          0.983,
          0.9840000000000001,
          0.82,
          0.888,
          0.885,
          0.9670000000000001,
          0.794,
          0.695,
          0.9570000000000001,
          0.9440000000000001,
          0.857,
          0.28,
          0.941,
          0.95,
          0.539,
          0.6970000000000001,
          0.861,
          0.929,
          0.868,
          0.972,
          0.841,
          0.9740000000000001,
          0.912,
          0.996,
          0.958,
          0.86,
          0.812,
          0.36,
          0.9520000000000001,
          0.8370000000000001,
          0.852,
          0.9059999999999999,
          0.924,
          0.9079999999999999,
          0.5529999999999999,
          0.609,
          0.392,
          0.653,
          0.684,
          0.8420000000000001,
          0.9329999999999999,
          0.757,
          0.602,
          0.532,
          0.885,
          0.937,
          0.8909999999999999,
          0.89,
          0.8,
          0.82,
          0.94,
          0.91,
          0.6990000000000001,
          0.871,
          0.128,
          0.743,
          0.7240000000000001,
          0.446,
          0.606,
          0.91,
          0.441,
          0.36,
          0.77,
          0.531,
          0.602,
          0.0017399999999999998,
          0.007540000000000001,
          0.13,
          0.769,
          0.723,
          0.445,
          0.617,
          0.92,
          0.43700000000000006,
          0.35600000000000004,
          0.77,
          0.516,
          0.593,
          0.00199,
          0.00748,
          0.99,
          0.995,
          0.7170000000000001,
          0.973,
          0.985,
          0.953,
          0.983,
          0.9840000000000001,
          0.708,
          0.9520000000000001,
          0.917,
          0.9,
          0.992,
          0.63,
          0.504,
          0.93,
          0.9590000000000001,
          0.993,
          0.9840000000000001,
          0.934,
          0.987,
          0.9890000000000001,
          0.988,
          0.9670000000000001,
          0.9840000000000001,
          0.897,
          0.861,
          0.7929999999999999,
          0.9259999999999999,
          0.924,
          0.951,
          0.425,
          0.99,
          0.995,
          0.7170000000000001,
          0.973,
          0.985,
          0.953,
          0.983,
          0.9840000000000001,
          0.708,
          0.9520000000000001,
          0.917,
          0.9,
          0.992,
          0.632,
          0.505,
          0.935,
          0.96,
          0.993,
          0.981,
          0.94,
          0.985,
          0.987,
          0.9890000000000001,
          0.968,
          0.988,
          0.8959999999999999,
          0.865,
          0.7879999999999999,
          0.449,
          0.5760000000000001,
          0.747,
          0.642,
          0.276,
          0.691,
          0.627,
          0.261,
          0.301,
          0.87,
          0.218,
          0.517,
          0.42700000000000005,
          0.5429999999999999,
          0.738,
          0.633,
          0.233,
          0.6970000000000001,
          0.605,
          0.24600000000000002,
          0.275,
          0.8590000000000001,
          0.2,
          0.491,
          0.778,
          0.757,
          0.5529999999999999,
          0.708,
          0.64,
          0.731,
          0.6609999999999999,
          0.631,
          0.322,
          0.722,
          0.655,
          0.557,
          0.591,
          0.845,
          0.71,
          0.685,
          0.483,
          0.688,
          0.631,
          0.649,
          0.5329999999999999,
          0.565,
          0.259,
          0.652,
          0.511,
          0.48700000000000004,
          0.619,
          0.746,
          0.514,
          0.26899999999999996,
          0.441,
          0.35100000000000003,
          0.174,
          0.809,
          0.685,
          0.617,
          0.41700000000000004,
          0.348,
          0.0779,
          0.8590000000000001,
          0.594,
          0.26899999999999996,
          0.48700000000000004,
          0.409,
          0.19399999999999998,
          0.8590000000000001,
          0.715,
          0.71,
          0.0899,
          0.863,
          0.375,
          0.6679999999999999,
          0.401,
          0.73,
          0.7929999999999999,
          0.292,
          0.627,
          0.675,
          0.11,
          0.915,
          0.446,
          0.414,
          0.40700000000000003,
          0.679,
          0.4,
          0.6990000000000001,
          0.792,
          0.402,
          0.6609999999999999,
          0.748,
          0.11800000000000001,
          0.6829999999999999,
          0.336,
          0.648,
          0.354,
          0.32,
          0.72,
          0.325,
          0.5579999999999999,
          0.401,
          0.335,
          0.545,
          0.565,
          0.6940000000000001,
          0.32799999999999996,
          0.6629999999999999,
          0.345,
          0.33299999999999996,
          0.708,
          0.32299999999999995,
          0.555,
          0.406,
          0.337,
          0.526,
          0.408,
          0.307,
          0.00922,
          0.0227,
          0.726,
          0.18,
          0.0456,
          0.14800000000000002,
          0.0415,
          0.17600000000000002,
          0.35600000000000004,
          0.706,
          0.795,
          0.312,
          0.345,
          0.763,
          0.5820000000000001,
          0.701,
          0.868,
          0.414,
          0.3,
          0.0137,
          0.0233,
          0.687,
          0.172,
          0.0591,
          0.14300000000000002,
          0.0393,
          0.17,
          0.33799999999999997,
          0.698,
          0.7709999999999999,
          0.331,
          0.355,
          0.775,
          0.556,
          0.69,
          0.493,
          0.701,
          0.366,
          0.7140000000000001,
          0.569,
          0.804,
          0.35600000000000004,
          0.377,
          0.78,
          0.348,
          0.846,
          0.6459999999999999,
          0.841,
          0.46299999999999997,
          0.8240000000000001,
          0.667,
          0.8640000000000001,
          0.42700000000000005,
          0.446,
          0.9109999999999999,
          0.435,
          0.914,
          0.919,
          0.642,
          0.405,
          0.5,
          0.831,
          0.58,
          0.603,
          0.767,
          0.27399999999999997,
          0.5539999999999999,
          0.5720000000000001,
          0.8490000000000001,
          0.863,
          0.578,
          0.6779999999999999,
          0.5710000000000001,
          0.895,
          0.9570000000000001,
          0.8340000000000001,
          0.5579999999999999,
          0.473,
          0.93,
          0.951,
          0.7609999999999999,
          0.531,
          0.6679999999999999,
          0.855,
          0.6629999999999999,
          0.7090000000000001,
          0.85,
          0.384,
          0.616,
          0.705,
          0.919,
          0.893,
          0.677,
          0.6920000000000001,
          0.605,
          0.902,
          0.905,
          0.86,
          0.627,
          0.632,
          0.743,
          0.635,
          0.244,
          0.555,
          0.648,
          0.813,
          0.885,
          0.34700000000000003,
          0.295,
          0.47600000000000003,
          0.315,
          0.757,
          0.58,
          0.629,
          0.652,
          0.789,
          0.649,
          0.321,
          0.638,
          0.758,
          0.879,
          0.929,
          0.45,
          0.366,
          0.5660000000000001,
          0.413,
          0.861,
          0.69,
          0.384,
          0.455,
          0.868,
          0.0568,
          0.455,
          0.695,
          0.555,
          0.636,
          0.33899999999999997,
          0.555,
          0.145,
          0.746,
          0.401,
          0.46,
          0.866,
          0.0566,
          0.456,
          0.698,
          0.56,
          0.6409999999999999,
          0.33399999999999996,
          0.552,
          0.139,
          0.77,
          0.14,
          0.59,
          0.242,
          0.708,
          0.544,
          0.5660000000000001,
          0.34700000000000003,
          0.395,
          0.152,
          0.8859999999999999,
          0.21600000000000003,
          0.741,
          0.34299999999999997,
          0.868,
          0.693,
          0.6809999999999999,
          0.45399999999999996,
          0.568,
          0.24100000000000002,
          0.698,
          0.579,
          0.818,
          0.7609999999999999,
          0.584,
          0.8590000000000001,
          0.7,
          0.451,
          0.183,
          0.418,
          0.402,
          0.293,
          0.8420000000000001,
          0.65,
          0.69,
          0.8340000000000001,
          0.26899999999999996,
          0.757,
          0.551,
          0.919,
          0.0453,
          0.84,
          0.642,
          0.534,
          0.583,
          0.7559999999999999,
          0.498,
          0.57,
          0.6890000000000001,
          0.191,
          0.5710000000000001,
          0.467,
          0.7709999999999999,
          0.0324,
          0.6940000000000001,
          0.509,
          0.406,
          0.498,
          0.0689,
          0.6459999999999999,
          0.297,
          0.574,
          0.8109999999999999,
          0.8220000000000001,
          0.899,
          0.39799999999999996,
          0.6920000000000001,
          0.945,
          0.893,
          0.0552,
          0.551,
          0.273,
          0.53,
          0.647,
          0.721,
          0.805,
          0.34,
          0.552,
          0.914,
          0.76,
          0.6409999999999999,
          0.24600000000000002,
          0.782,
          0.40299999999999997,
          0.627,
          0.429,
          0.841,
          0.625,
          0.584,
          0.304,
          0.721,
          0.293,
          0.851,
          0.536,
          0.787,
          0.569,
          0.934,
          0.716,
          0.74,
          0.485,
          0.529,
          0.7290000000000001,
          0.32,
          0.65,
          0.8109999999999999,
          0.7609999999999999,
          0.821,
          0.8079999999999999
         ],
         "yaxis": "y"
        },
        {
         "customdata": [
          [
           "IGOR'S THEME"
          ],
          [
           "EARFQUAKE"
          ],
          [
           "I THINK"
          ],
          [
           "EXACTLY WHAT YOU RUN FROM YOU END UP CHASING"
          ],
          [
           "RUNNING OUT OF TIME"
          ],
          [
           "NEW MAGIC WAND"
          ],
          [
           "A BOY IS A GUN*"
          ],
          [
           "PUPPET"
          ],
          [
           "WHAT'S GOOD"
          ],
          [
           "GONE, GONE / THANK YOU"
          ],
          [
           "I DON'T LOVE YOU ANYMORE"
          ],
          [
           "ARE WE STILL FRIENDS?"
          ],
          [
           "Foreword (feat. Rex Orange County)"
          ],
          [
           "Where This Flower Blooms (feat. Frank Ocean)"
          ],
          [
           "Sometimes..."
          ],
          [
           "See You Again (feat. Kali Uchis)"
          ],
          [
           "Who Dat Boy (feat. A$AP Rocky)"
          ],
          [
           "Pothole (feat. Jaden Smith)"
          ],
          [
           "Garden Shed (feat. Estelle)"
          ],
          [
           "Boredom (feat. Rex Orange County & Anna of the North)"
          ],
          [
           "I Ain't Got Time!"
          ],
          [
           "911 / Mr. Lonely (feat. Frank Ocean & Steve Lacy)"
          ],
          [
           "Droppin' Seeds (feat. Lil' Wayne)"
          ],
          [
           "November"
          ],
          [
           "Glitter"
          ],
          [
           "Enjoy Right Now, Today"
          ],
          [
           "DEATHCAMP (feat. Cole Alexander)"
          ],
          [
           "BUFFALO (feat. Shane Powers)"
          ],
          [
           "PILOT (feat. Sydney Bennett)"
          ],
          [
           "RUN (feat. Chaz Bundick & ScHoolboy Q)"
          ],
          [
           "FIND YOUR WINGS (feat. Roy Ayers, Sydney Bennett & Kali Uchis)"
          ],
          [
           "CHERRY BOMB"
          ],
          [
           "BLOW MY LOAD (feat. Wanya Morris, Dâm-Funk, Austin Feinstein & Sydney Bennett)"
          ],
          [
           "2SEATER (feat. Aaron Shaw, Samantha Nelson & Austin Feinstein)"
          ],
          [
           "THE BROWN STAINS OF DARKEESE LATIFAH PART 6-12 (REMIX) (feat. ScHoolboy Q)"
          ],
          [
           "FUCKING YOUNG / PERFECT (feat. Charlie Wilson, Chaz Bundick, Sydney Bennett & Kali Uchis)"
          ],
          [
           "SMUCKERS (feat. Lil Wayne & Kanye West)"
          ],
          [
           "KEEP DA O'S (feat. Pharrell Williams & Coco O.)"
          ],
          [
           "OKAGA, CA (feat. Alice Smith, Leon Ware & Clem Creevy)"
          ],
          [
           "DEATHCAMP (feat. Cole Alexander)"
          ],
          [
           "BUFFALO (feat. Shane Powers)"
          ],
          [
           "PILOT (feat. Sydney Bennett)"
          ],
          [
           "RUN (feat. Chaz Bundick & ScHoolboy Q)"
          ],
          [
           "FIND YOUR WINGS (feat. Roy Ayers, Sydney Bennett & Kali Uchis)"
          ],
          [
           "CHERRY BOMB"
          ],
          [
           "BLOW MY LOAD (feat. Wanya Morris, Dâm-Funk, Austin Feinstein & Sydney Bennett)"
          ],
          [
           "2SEATER (feat. Aaron Shaw, Samantha Nelson & Austin Feinstein)"
          ],
          [
           "THE BROWN STAINS OF DARKEESE LATIFAH PART 6-12 (REMIX) (feat. ScHoolboy Q)"
          ],
          [
           "FUCKING YOUNG / PERFECT (feat. Charlie Wilson, Chaz Bundick, Sydney Bennett & Kali Uchis)"
          ],
          [
           "SMUCKERS (feat. Lil Wayne & Kanye West)"
          ],
          [
           "KEEP DA O'S (feat. Pharrell Williams & Coco O.)"
          ],
          [
           "OKAGA, CA (feat. Alice Smith, Leon Ware & Clem Creevy)"
          ],
          [
           "DEATHCAMP - Instrumental"
          ],
          [
           "BUFFALO - Instrumental"
          ],
          [
           "PILOT - Instrumental"
          ],
          [
           "RUN - Instrumental"
          ],
          [
           "FIND YOUR WINGS - Instrumental"
          ],
          [
           "CHERRY BOMB - Instrumental"
          ],
          [
           "BLOW MY LOAD - Instrumental"
          ],
          [
           "2SEATER - Instrumental"
          ],
          [
           "THE BROWN STAINS OF DARKEESE LATIFAH PART 6-12 (REMIX) - Instrumental"
          ],
          [
           "FUCKING YOUNG / PERFECT - Instrumental"
          ],
          [
           "SMUCKERS - Instrumental"
          ],
          [
           "KEEP DA O'S - Instrumental"
          ],
          [
           "OKAGA, CA - Instrumental"
          ],
          [
           "Intro"
          ],
          [
           "French"
          ],
          [
           "Interlude"
          ],
          [
           "Sam (Is Dead)"
          ],
          [
           "Tron Cat"
          ],
          [
           "Nightmare"
          ],
          [
           "We Got B*tches"
          ],
          [
           "Dick Banana Hat Interlude"
          ],
          [
           "Bimmer"
          ],
          [
           "Jamba"
          ],
          [
           "Interlude"
          ],
          [
           "Cowboy"
          ],
          [
           "Interlude"
          ],
          [
           "IFHY"
          ],
          [
           "Domo"
          ],
          [
           "Interlude"
          ],
          [
           "Fish"
          ],
          [
           "Blow"
          ],
          [
           "Bastard"
          ],
          [
           "Yonkers"
          ],
          [
           "Interlude"
          ],
          [
           "B*tch Suck D*ck"
          ],
          [
           "Interlude"
          ],
          [
           "Oldie"
          ],
          [
           "48"
          ],
          [
           "Interlude"
          ],
          [
           "Tamale"
          ],
          [
           "Interlude"
          ],
          [
           "Burger"
          ],
          [
           "Interlude"
          ],
          [
           "Sandwitches"
          ],
          [
           "WOLF"
          ],
          [
           "Jamba (feat. Hodgy)"
          ],
          [
           "Cowboy"
          ],
          [
           "Awkward"
          ],
          [
           "Domo23"
          ],
          [
           "Answer"
          ],
          [
           "Slater (feat. Frank Ocean)"
          ],
          [
           "48"
          ],
          [
           "Colossus"
          ],
          [
           "PartyIsntOver/Campfire/Bimmer (feat. Frank Ocean, feat. Laetitia Sadier, feat. Laetitia Sadier & Frank Ocean)"
          ],
          [
           "IFHY (feat. Pharrell)"
          ],
          [
           "Pigs"
          ],
          [
           "Parking Lot (feat. Casey Veggies & Mike G)"
          ],
          [
           "Rusty (feat. Domo Genesis & Earl Sweatshirt)"
          ],
          [
           "Trashwang (feat. Na' kel, Jasper Dolphin, Lucas, L-Boy, Taco, Left Brain & Lee Spielman)"
          ],
          [
           "Treehome95 (feat. Coco O. & Erykah Badu)"
          ],
          [
           "Tamale"
          ],
          [
           "Lone"
          ],
          [
           "Goblin"
          ],
          [
           "Yonkers"
          ],
          [
           "Radicals"
          ],
          [
           "She"
          ],
          [
           "Transylvania"
          ],
          [
           "Nightmare"
          ],
          [
           "Tron Cat"
          ],
          [
           "Her"
          ],
          [
           "Sandwitches"
          ],
          [
           "Fish"
          ],
          [
           "Analog"
          ],
          [
           "B.S.D."
          ],
          [
           "Window"
          ],
          [
           "AU79"
          ],
          [
           "Golden"
          ],
          [
           "Burger"
          ],
          [
           "Untitled 63"
          ],
          [
           "Steak Sauce"
          ],
          [
           "Goblin"
          ],
          [
           "Yonkers"
          ],
          [
           "Radicals"
          ],
          [
           "She"
          ],
          [
           "Transylvania"
          ],
          [
           "Nightmare"
          ],
          [
           "Tron Cat"
          ],
          [
           "Her"
          ],
          [
           "Sandwitches"
          ],
          [
           "Fish"
          ],
          [
           "Analog"
          ],
          [
           "B.S.D."
          ],
          [
           "Window"
          ],
          [
           "AU79"
          ],
          [
           "Golden"
          ],
          [
           "Burger"
          ],
          [
           "Untitled 63"
          ],
          [
           "Steak Sauce"
          ],
          [
           "Goblin"
          ],
          [
           "Yonkers"
          ],
          [
           "Radicals"
          ],
          [
           "She"
          ],
          [
           "Transylvania"
          ],
          [
           "Nightmare"
          ],
          [
           "Tron Cat"
          ],
          [
           "Her"
          ],
          [
           "Sandwitches"
          ],
          [
           "Fish"
          ],
          [
           "Analog"
          ],
          [
           "B.S.D."
          ],
          [
           "Window"
          ],
          [
           "AU79"
          ],
          [
           "Golden"
          ],
          [
           "Goblin"
          ],
          [
           "Yonkers"
          ],
          [
           "Radicals"
          ],
          [
           "She"
          ],
          [
           "Transylvania"
          ],
          [
           "Nightmare"
          ],
          [
           "Tron Cat"
          ],
          [
           "Her"
          ],
          [
           "Sandwitches"
          ],
          [
           "Fish"
          ],
          [
           "Analog"
          ],
          [
           "B.S.D."
          ],
          [
           "Window"
          ],
          [
           "AU79"
          ],
          [
           "Golden"
          ]
         ],
         "hovertemplate": "Artist(s)=Tyler, The Creator<br>Positiveness (valence)=%{x}<br>Energy=%{y}<br>Song Title=%{customdata[0]}<extra></extra>",
         "legendgroup": "Tyler, The Creator",
         "marker": {
          "color": "#FF97FF",
          "symbol": "circle"
         },
         "mode": "markers",
         "name": "Tyler, The Creator",
         "showlegend": true,
         "type": "scattergl",
         "x": [
          0.0648,
          0.413,
          0.431,
          0,
          0.162,
          0.46399999999999997,
          0.505,
          0.19899999999999998,
          0.449,
          0.47100000000000003,
          0.584,
          0.313,
          0.113,
          0.27,
          0.36,
          0.62,
          0.14400000000000002,
          0.569,
          0.14800000000000002,
          0.239,
          0.547,
          0.297,
          0.413,
          0.575,
          0.371,
          0.654,
          0.455,
          0.11599999999999999,
          0.545,
          0.473,
          0.195,
          0.151,
          0.179,
          0.348,
          0.634,
          0.35200000000000004,
          0.55,
          0.204,
          0.205,
          0.455,
          0.11599999999999999,
          0.545,
          0.473,
          0.195,
          0.151,
          0.179,
          0.348,
          0.634,
          0.35200000000000004,
          0.55,
          0.204,
          0.205,
          0.563,
          0.19,
          0.526,
          0.504,
          0.20600000000000002,
          0.22399999999999998,
          0.21,
          0.146,
          0.0881,
          0.106,
          0.23199999999999998,
          0.106,
          0.151,
          0.125,
          0.368,
          0.212,
          0.358,
          0.595,
          0.37200000000000005,
          0.47,
          0.132,
          0.44,
          0.5870000000000001,
          0.31,
          0.436,
          0.0482,
          0.38299999999999995,
          0.45799999999999996,
          0.145,
          0.765,
          0.531,
          0.358,
          0.552,
          0.465,
          0.158,
          0.461,
          0.353,
          0.22,
          0.313,
          0.782,
          0.0312,
          0.434,
          0.235,
          0.35,
          0.38299999999999995,
          0.6609999999999999,
          0.65,
          0.6729999999999999,
          0.597,
          0.475,
          0.273,
          0.537,
          0.725,
          0.127,
          0.275,
          0.488,
          0.483,
          0.364,
          0.149,
          0.377,
          0.9670000000000001,
          0.586,
          0.444,
          0.738,
          0.22399999999999998,
          0.45899999999999996,
          0.19699999999999998,
          0.636,
          0.39,
          0.494,
          0.373,
          0.212,
          0.42700000000000005,
          0.271,
          0.20600000000000002,
          0.52,
          0.43799999999999994,
          0.324,
          0.142,
          0.28,
          0.444,
          0.738,
          0.22399999999999998,
          0.45899999999999996,
          0.19699999999999998,
          0.636,
          0.39,
          0.494,
          0.373,
          0.212,
          0.42700000000000005,
          0.271,
          0.20600000000000002,
          0.52,
          0.43799999999999994,
          0.324,
          0.142,
          0.28,
          0.444,
          0.738,
          0.22399999999999998,
          0.45899999999999996,
          0.19699999999999998,
          0.636,
          0.39,
          0.494,
          0.373,
          0.212,
          0.42700000000000005,
          0.271,
          0.20600000000000002,
          0.52,
          0.43799999999999994,
          0.444,
          0.738,
          0.22399999999999998,
          0.45899999999999996,
          0.19699999999999998,
          0.636,
          0.39,
          0.494,
          0.373,
          0.212,
          0.42700000000000005,
          0.271,
          0.20600000000000002,
          0.52,
          0.43799999999999994
         ],
         "xaxis": "x",
         "y": [
          0.672,
          0.498,
          0.579,
          0.478,
          0.391,
          0.73,
          0.6890000000000001,
          0.557,
          0.909,
          0.49200000000000005,
          0.522,
          0.49700000000000005,
          0.6709999999999999,
          0.429,
          0.415,
          0.5589999999999999,
          0.485,
          0.5720000000000001,
          0.456,
          0.578,
          0.725,
          0.61,
          0.532,
          0.759,
          0.434,
          0.675,
          0.746,
          0.8240000000000001,
          0.8690000000000001,
          0.909,
          0.42700000000000005,
          0.8170000000000001,
          0.701,
          0.693,
          0.8420000000000001,
          0.705,
          0.8490000000000001,
          0.596,
          0.64,
          0.746,
          0.8240000000000001,
          0.8690000000000001,
          0.909,
          0.42700000000000005,
          0.8170000000000001,
          0.701,
          0.693,
          0.8420000000000001,
          0.705,
          0.8490000000000001,
          0.596,
          0.64,
          0.537,
          0.606,
          0.821,
          0.846,
          0.32799999999999996,
          0.861,
          0.628,
          0.562,
          0.789,
          0.531,
          0.634,
          0.435,
          0.534,
          0.452,
          0.857,
          0.6890000000000001,
          0.809,
          0.594,
          0.77,
          0.622,
          0.8,
          0.7170000000000001,
          0.647,
          0.778,
          0.733,
          0.8220000000000001,
          0.628,
          0.655,
          0.828,
          0.522,
          0.599,
          0.62,
          0.6809999999999999,
          0.6,
          0.52,
          0.583,
          0.748,
          0.846,
          0.65,
          0.816,
          0.851,
          0.715,
          0.7140000000000001,
          0.7090000000000001,
          0.303,
          0.488,
          0.662,
          0.777,
          0.565,
          0.838,
          0.624,
          0.887,
          0.6,
          0.5760000000000001,
          0.715,
          0.7340000000000001,
          0.511,
          0.677,
          0.609,
          0.539,
          0.93,
          0.7609999999999999,
          0.529,
          0.759,
          0.68,
          0.621,
          0.638,
          0.627,
          0.634,
          0.369,
          0.5870000000000001,
          0.505,
          0.6990000000000001,
          0.47,
          0.508,
          0.344,
          0.76,
          0.563,
          0.509,
          0.636,
          0.529,
          0.759,
          0.68,
          0.621,
          0.638,
          0.627,
          0.634,
          0.369,
          0.5870000000000001,
          0.505,
          0.6990000000000001,
          0.47,
          0.508,
          0.344,
          0.76,
          0.563,
          0.509,
          0.636,
          0.529,
          0.759,
          0.68,
          0.621,
          0.638,
          0.627,
          0.634,
          0.369,
          0.5870000000000001,
          0.505,
          0.6990000000000001,
          0.47,
          0.508,
          0.344,
          0.76,
          0.529,
          0.759,
          0.68,
          0.621,
          0.638,
          0.627,
          0.634,
          0.369,
          0.5870000000000001,
          0.505,
          0.6990000000000001,
          0.47,
          0.508,
          0.344,
          0.76
         ],
         "yaxis": "y"
        },
        {
         "customdata": [
          [
           "My Songs Know What You Did In The Dark (Light Em Up)"
          ],
          [
           "The Phoenix"
          ],
          [
           "Alone Together"
          ],
          [
           "Young Volcanoes"
          ],
          [
           "Centuries"
          ],
          [
           "Immortals"
          ],
          [
           "Uma Thurman"
          ],
          [
           "Irresistible"
          ],
          [
           "Champion"
          ],
          [
           "The Last Of The Real Ones"
          ],
          [
           "I've Been Waiting"
          ],
          [
           "Dear Future Self (Hands Up)"
          ],
          [
           "Bob Dylan"
          ],
          [
           "My Songs Know What You Did In The Dark (Light Em Up)"
          ],
          [
           "The Phoenix"
          ],
          [
           "Alone Together"
          ],
          [
           "Young Volcanoes"
          ],
          [
           "Centuries"
          ],
          [
           "Immortals"
          ],
          [
           "Uma Thurman"
          ],
          [
           "Irresistible"
          ],
          [
           "Champion"
          ],
          [
           "The Last Of The Real Ones"
          ],
          [
           "I've Been Waiting"
          ],
          [
           "Dear Future Self (Hands Up)"
          ],
          [
           "Bob Dylan"
          ],
          [
           "Stay Frosty Royal Milk Tea"
          ],
          [
           "The Last Of The Real Ones"
          ],
          [
           "HOLD ME TIGHT OR DON’T"
          ],
          [
           "Wilson (Expensive Mistakes)"
          ],
          [
           "Church"
          ],
          [
           "Heaven’s Gate"
          ],
          [
           "Champion"
          ],
          [
           "Sunshine Riptide"
          ],
          [
           "Young And Menace"
          ],
          [
           "Bishops Knife Trick"
          ],
          [
           "Stay Frosty Royal Milk Tea"
          ],
          [
           "The Last Of The Real Ones"
          ],
          [
           "HOLD ME TIGHT OR DON’T"
          ],
          [
           "Wilson (Expensive Mistakes)"
          ],
          [
           "Church"
          ],
          [
           "Heaven’s Gate"
          ],
          [
           "Champion"
          ],
          [
           "Sunshine Riptide"
          ],
          [
           "Young And Menace"
          ],
          [
           "Bishops Knife Trick"
          ],
          [
           "Irresistible - Remix"
          ],
          [
           "American Beauty/American Psycho - Remix"
          ],
          [
           "Centuries - Remix"
          ],
          [
           "The Kids Aren't Alright - Remix"
          ],
          [
           "Uma Thurman - Remix"
          ],
          [
           "Jet Pack Blues - Remix"
          ],
          [
           "Novocaine - Remix"
          ],
          [
           "Fourth Of July - Remix"
          ],
          [
           "Favorite Record - Remix"
          ],
          [
           "Immortals - Remix"
          ],
          [
           "Twin Skeleton's (Hotel In NYC) - Remix"
          ],
          [
           "Uma Thurman - Fall Out Boy vs. Didrick"
          ],
          [
           "Irresistible - Revised Audio"
          ],
          [
           "Irresistible - Remix"
          ],
          [
           "American Beauty/American Psycho - Remix"
          ],
          [
           "Centuries - Remix"
          ],
          [
           "The Kids Aren't Alright - Remix"
          ],
          [
           "Uma Thurman - Remix"
          ],
          [
           "Jet Pack Blues - Remix"
          ],
          [
           "Novocaine - Remix"
          ],
          [
           "Fourth Of July - Remix"
          ],
          [
           "Favorite Record - Remix"
          ],
          [
           "Immortals - Remix"
          ],
          [
           "Twin Skeleton's (Hotel In NYC) - Remix"
          ],
          [
           "Irresistible - Remix"
          ],
          [
           "American Beauty/American Psycho - Remix"
          ],
          [
           "Centuries - Remix"
          ],
          [
           "The Kids Aren't Alright - Remix"
          ],
          [
           "Uma Thurman - Remix"
          ],
          [
           "Jet Pack Blues - Remix"
          ],
          [
           "Novocaine - Remix"
          ],
          [
           "Fourth Of July - Remix"
          ],
          [
           "Favorite Record - Remix"
          ],
          [
           "Immortals - Remix"
          ],
          [
           "Twin Skeleton's (Hotel In NYC) - Remix"
          ],
          [
           "Irresistible"
          ],
          [
           "American Beauty/American Psycho"
          ],
          [
           "Centuries"
          ],
          [
           "The Kids Aren't Alright"
          ],
          [
           "Uma Thurman"
          ],
          [
           "Jet Pack Blues"
          ],
          [
           "Novocaine"
          ],
          [
           "Fourth Of July"
          ],
          [
           "Favorite Record"
          ],
          [
           "Immortals"
          ],
          [
           "Twin Skeleton's (Hotel In NYC)"
          ],
          [
           "The Phoenix"
          ],
          [
           "My Songs Know What You Did In The Dark (Light Em Up)"
          ],
          [
           "Alone Together"
          ],
          [
           "Where Did The Party Go"
          ],
          [
           "Just One Yesterday"
          ],
          [
           "The Mighty Fall"
          ],
          [
           "Miss Missing You"
          ],
          [
           "Death Valley"
          ],
          [
           "Young Volcanoes"
          ],
          [
           "Rat A Tat"
          ],
          [
           "Save Rock And Roll"
          ],
          [
           "My Songs Know What You Did In The Dark (Light Em Up) - 2 Chainz Remix"
          ],
          [
           "The Phoenix"
          ],
          [
           "My Songs Know What You Did In The Dark (Light Em Up)"
          ],
          [
           "Alone Together"
          ],
          [
           "Where Did The Party Go"
          ],
          [
           "Just One Yesterday"
          ],
          [
           "The Mighty Fall"
          ],
          [
           "Miss Missing You"
          ],
          [
           "Death Valley"
          ],
          [
           "Young Volcanoes"
          ],
          [
           "Rat A Tat"
          ],
          [
           "Save Rock And Roll"
          ],
          [
           "The Phoenix"
          ],
          [
           "My Songs Know What You Did In The Dark (Light Em Up)"
          ],
          [
           "Alone Together"
          ],
          [
           "Where Did The Party Go"
          ],
          [
           "Just One Yesterday"
          ],
          [
           "The Mighty Fall"
          ],
          [
           "Miss Missing You"
          ],
          [
           "Death Valley"
          ],
          [
           "Young Volcanoes"
          ],
          [
           "Rat A Tat"
          ],
          [
           "Save Rock And Roll"
          ],
          [
           "Thriller - Live In Tokyo / 2013"
          ],
          [
           "This Ain't A Scene, It's An Arms Race - Live In Tokyo / 2013"
          ],
          [
           "Grand Theft Autumn / Where Is Your Boy - Live In Tokyo / 2013"
          ],
          [
           "Dance, Dance - Live In Tokyo / 2013"
          ],
          [
           "I Don't Care - Live In Tokyo / 2013"
          ],
          [
           "My Songs Know What You Did In The Dark (Light Em Up) - Live In Tokyo / 2013"
          ],
          [
           "Beat It - Live In Tokyo / 2013"
          ],
          [
           "The Phoenix - Commentary"
          ],
          [
           "My Songs Know What You Did In The Dark (Light Em Up) - Commentary"
          ],
          [
           "Alone Together - Commentary"
          ],
          [
           "Where Did The Party Go - Commentary"
          ],
          [
           "Just One Yesterday - Commentary"
          ],
          [
           "The Mighty Fall - Commentary"
          ],
          [
           "Miss Missing You - Commentary"
          ],
          [
           "Death Valley - Commentary"
          ],
          [
           "Young Volcanoes - Commentary"
          ],
          [
           "Rat A Tat - Commentary"
          ],
          [
           "Save Rock And Roll - Commentary"
          ],
          [
           "Thriller - Live At The Cricket Pavillion /2007"
          ],
          [
           "Grand Theft Autumn / Where Is Your Boy - Live At The Cricket Pavillion /2007"
          ],
          [
           "Sugar, We're Goin Down - Live At The Cricket Pavillion /2007"
          ],
          [
           "Our Lawyer Made Us Change The Name Of This Song So We Wouldn't Get Sued - Live At The Cricket Pavillion /2007"
          ],
          [
           "Hum Hallelujah - Live At The Cricket Pavillion /2007"
          ],
          [
           "Tell That Mick He Just Made My List Of Things To Do Today - Live At The Cricket Pavillion /2007"
          ],
          [
           "I'm Like A Lawyer With The Way I'm Always Trying To Get You Off (Me & You) - Live At The Cricket Pavillion /2007"
          ],
          [
           "A Little Less Sixteen Candles, A Little More \"Touch Me\" - Live At The Cricket Pavillion /2007"
          ],
          [
           "Beat It - Live At The Cricket Pavillion /2007"
          ],
          [
           "Golden - Live At The Cricket Pavillion /2007"
          ],
          [
           "This Ain't A Scene, It's An Arms Race - Live At The Cricket Pavillion /2007"
          ],
          [
           "Thnks fr th Mmrs - Live At The Cricket Pavillion /2007"
          ],
          [
           "\"The Take Over, The Breaks Over\" - Live At The Cricket Pavillion /2007"
          ],
          [
           "Dance, Dance - Live At The Cricket Pavillion /2007"
          ],
          [
           "Saturday - Live At The Cricket Pavillion /2007"
          ],
          [
           "Beat It - Studio Version"
          ],
          [
           "Thriller"
          ],
          [
           "Grand Theft Autumn / Where Is Your Boy"
          ],
          [
           "Sugar, We're Goin Down"
          ],
          [
           "Our Lawyer Made Us Change The Name Of This Song So We Wouldn't Get Sued"
          ],
          [
           "Hum Hallelujah"
          ],
          [
           "Tell That Mick He Just Made My List Of Things To Do Today"
          ],
          [
           "I'm Like A Lawyer With The Way I'm Always Trying To Get You Off (Me & You)"
          ],
          [
           "A Little Less Sixteen Candles, A Little More \"Touch Me\""
          ],
          [
           "Beat It - Studio Version Featuring John Mayer"
          ],
          [
           "Golden"
          ],
          [
           "This Ain't A Scene, It's An Arms Race"
          ],
          [
           "Thnks fr th Mmrs"
          ],
          [
           "\"The Take Over, The Breaks Over\""
          ],
          [
           "Dance, Dance"
          ],
          [
           "Saturday"
          ],
          [
           "Thriller - Live At The Cricket Pavillion /2007"
          ],
          [
           "Grand Theft Autumn / Where Is Your Boy - Live At The Cricket Pavillion /2007"
          ],
          [
           "Sugar, We're Goin Down - Live At The Cricket Pavillion /2007"
          ],
          [
           "Our Lawyer Made Us Change The Name Of This Song So We Wouldn't Get Sued - Live At The Cricket Pavillion /2007"
          ],
          [
           "Hum Hallelujah - Live At The Cricket Pavillion /2007"
          ],
          [
           "Tell That Mick He Just Made My List Of Things To Do Today - Live At The Cricket Pavillion /2007"
          ],
          [
           "I'm Like A Lawyer With The Way I'm Always Trying To Get You Off (Me & You) - Live At The Cricket Pavillion /2007"
          ],
          [
           "A Little Less Sixteen Candles, A Little More \"Touch Me\" - Live At The Cricket Pavillion /2007"
          ],
          [
           "Beat It - Live At The Cricket Pavillion /2007"
          ],
          [
           "Golden - Live At The Cricket Pavillion /2007"
          ],
          [
           "This Ain't A Scene, It's An Arms Race - Live At The Cricket Pavillion /2007"
          ],
          [
           "Thnks fr th Mmrs - Live At The Cricket Pavillion /2007"
          ],
          [
           "\"The Take Over, The Breaks Over\" - Live At The Cricket Pavillion /2007"
          ],
          [
           "Dance, Dance - Live At The Cricket Pavillion /2007"
          ],
          [
           "Saturday - Live At The Cricket Pavillion /2007"
          ],
          [
           "Disloyal Order Of Water Buffaloes"
          ],
          [
           "I Don't Care"
          ],
          [
           "She's My Winona"
          ],
          [
           "America's Suitehearts"
          ],
          [
           "Headfirst Slide Into Cooperstown On A Bad Bet"
          ],
          [
           "The (Shipped) Gold Standard"
          ],
          [
           "(Coffee's For Closers)"
          ],
          [
           "What A Catch, Donnie"
          ],
          [
           "27"
          ],
          [
           "Tiffany Blews"
          ],
          [
           "w.a.m.s."
          ],
          [
           "20 Dollar Nose Bleed"
          ],
          [
           "West Coast Smoker"
          ],
          [
           "Beat It - Studio Version"
          ],
          [
           "Disloyal Order Of Water Buffaloes"
          ],
          [
           "I Don't Care - Single Version"
          ],
          [
           "She's My Winona"
          ],
          [
           "America's Suitehearts"
          ],
          [
           "Headfirst Slide Into Cooperstown On A Bad Bet"
          ],
          [
           "The (Shipped) Gold Standard"
          ],
          [
           "(Coffee's For Closers)"
          ],
          [
           "What A Catch, Donnie"
          ],
          [
           "27"
          ],
          [
           "Tiffany Blews"
          ],
          [
           "w.a.m.s."
          ],
          [
           "20 Dollar Nose Bleed"
          ],
          [
           "West Coast Smoker"
          ],
          [
           "Disloyal Order Of Water Buffaloes"
          ],
          [
           "I Don't Care"
          ],
          [
           "She's My Winona"
          ],
          [
           "America's Suitehearts"
          ],
          [
           "Headfirst Slide Into Cooperstown On A Bad Bet"
          ],
          [
           "The (Shipped) Gold Standard"
          ],
          [
           "(Coffee's For Closers)"
          ],
          [
           "What A Catch, Donnie"
          ],
          [
           "27"
          ],
          [
           "Tiffany Blews"
          ],
          [
           "w.a.m.s."
          ],
          [
           "20 Dollar Nose Bleed"
          ],
          [
           "West Coast Smoker"
          ],
          [
           "Disloyal Order Of Water Buffaloes"
          ],
          [
           "I Don't Care"
          ],
          [
           "She's My Winona"
          ],
          [
           "America's Suitehearts"
          ],
          [
           "Headfirst Slide Into Cooperstown On A Bad Bet"
          ],
          [
           "The (Shipped) Gold Standard"
          ],
          [
           "(Coffee's For Closers)"
          ],
          [
           "What A Catch, Donnie"
          ],
          [
           "27"
          ],
          [
           "Tiffany Blews"
          ],
          [
           "w.a.m.s."
          ],
          [
           "20 Dollar Nose Bleed"
          ],
          [
           "West Coast Smoker"
          ],
          [
           "Thriller"
          ],
          [
           "\"The Take Over, The Breaks Over\""
          ],
          [
           "This Ain't A Scene, It's An Arms Race"
          ],
          [
           "I'm Like A Lawyer With The Way I'm Always Trying To Get You Off (Me & You)"
          ],
          [
           "Hum Hallelujah"
          ],
          [
           "Golden"
          ],
          [
           "Thnks fr th Mmrs"
          ],
          [
           "Don't You Know Who I Think I Am?"
          ],
          [
           "The (After) Life Of The Party"
          ],
          [
           "The Carpal Tunnel Of Love"
          ],
          [
           "Bang The Doldrums"
          ],
          [
           "Fame < Infamy"
          ],
          [
           "You're Crashing, But You're No Wave"
          ],
          [
           "I've Got All This Ringing In My Ears And None On My Fingers"
          ],
          [
           "Thriller"
          ],
          [
           "\"The Take Over, The Breaks Over\""
          ],
          [
           "This Ain't A Scene, It's An Arms Race"
          ],
          [
           "I'm Like A Lawyer With The Way I'm Always Trying To Get You Off (Me & You)"
          ],
          [
           "Hum Hallelujah"
          ],
          [
           "Golden"
          ],
          [
           "Thnks fr th Mmrs"
          ],
          [
           "Don't You Know Who I Think I Am?"
          ],
          [
           "The (After) Life Of The Party"
          ],
          [
           "The Carpal Tunnel Of Love"
          ],
          [
           "Bang The Doldrums"
          ],
          [
           "Fame < Infamy"
          ],
          [
           "You're Crashing, But You're No Wave"
          ],
          [
           "I've Got All This Ringing In My Ears And None On My Fingers"
          ],
          [
           "G.I.N.A.S.F.S."
          ],
          [
           "It's Hard To Say \"I Do\", When I Don't"
          ],
          [
           "Dance, Dance - Live From Hammersmith Palais"
          ],
          [
           "This Ain't A Scene, It's An Arms Race - Live From Hammersmith Palais"
          ],
          [
           "Thriller - Live From Hammersmith Palais"
          ],
          [
           "Our Lawyer Made Us Change The Name Of This Song So We Wouldn't Get Sued"
          ],
          [
           "Of All The Gin Joints In All The World"
          ],
          [
           "Dance, Dance"
          ],
          [
           "Sugar, We're Goin Down"
          ],
          [
           "Nobody Puts Baby In The Corner"
          ],
          [
           "I've Got A Dark Alley And A Bad Idea That Says You Should Shut Your Mouth (Summer Song)"
          ],
          [
           "7 Minutes In Heaven (Atavan Halen)"
          ],
          [
           "Sophomore Slump Or Comeback Of The Year"
          ],
          [
           "Champagne For My Real Friends, Real Pain For My Sham Friends"
          ],
          [
           "I Slept With Someone In Fall Out Boy And All I Got Was This Stupid Song Written About Me"
          ],
          [
           "A Little Less Sixteen Candles, A Little More \"Touch Me\""
          ],
          [
           "Get Busy Living Or Get Busy Dying (Do Your Part To Save The Scene And Stop Going To Shows)"
          ],
          [
           "XO"
          ],
          [
           "Snitches And Talkers Get Stitches And Walkers"
          ],
          [
           "The Music Or The Misery"
          ],
          [
           "My Heart Is The Worst Kind Of Weapon - Demo"
          ],
          [
           "Sugar, We're Goin Down - Patrick Stump Remix"
          ],
          [
           "Dance, Dance - The Lindbergh Palace Remix"
          ],
          [
           "Our Lawyer Made Us Change The Name Of This Song So We Wouldn't Get Sued"
          ],
          [
           "Of All The Gin Joints In All The World"
          ],
          [
           "Dance, Dance"
          ],
          [
           "Sugar, We're Goin Down"
          ],
          [
           "Nobody Puts Baby In The Corner"
          ],
          [
           "I've Got A Dark Alley And A Bad Idea That Says You Should Shut Your Mouth (Summer Song)"
          ],
          [
           "7 Minutes In Heaven (Atavan Halen)"
          ],
          [
           "Sophomore Slump Or Comeback Of The Year"
          ],
          [
           "Champagne For My Real Friends, Real Pain For My Sham Friends"
          ],
          [
           "I Slept With Someone In Fall Out Boy And All I Got Was This Stupid Song Written About Me"
          ],
          [
           "A Little Less Sixteen Candles, A Little More \"Touch Me\""
          ],
          [
           "Get Busy Living Or Get Busy Dying (Do Your Part To Save The Scene And Stop Going To Shows)"
          ],
          [
           "XO"
          ],
          [
           "Tell That Mick He Just Made My List of Things to Do Today"
          ],
          [
           "Dead on Arrival"
          ],
          [
           "Grand Theft Autumn / Where Is Your Boy"
          ],
          [
           "Saturday"
          ],
          [
           "Homesick at Space Camp"
          ],
          [
           "Sending Postcards from a Plane Crash (Wish You Were Here)"
          ],
          [
           "Chicago Is so Two Years Ago"
          ],
          [
           "The Pros and Cons of Breathing"
          ],
          [
           "Grenade Jumper"
          ],
          [
           "Calm Before the Storm"
          ],
          [
           "Reinventing the Wheel to Run Myself Over"
          ],
          [
           "The Patron Saint of Liars and Fakes"
          ]
         ],
         "hovertemplate": "Artist(s)=Fall Out Boy<br>Positiveness (valence)=%{x}<br>Energy=%{y}<br>Song Title=%{customdata[0]}<extra></extra>",
         "legendgroup": "Fall Out Boy",
         "marker": {
          "color": "#FECB52",
          "symbol": "circle"
         },
         "mode": "markers",
         "name": "Fall Out Boy",
         "showlegend": true,
         "type": "scattergl",
         "x": [
          0.56,
          0.39,
          0.662,
          0.6729999999999999,
          0.523,
          0.478,
          0.841,
          0.397,
          0.294,
          0.583,
          0.9420000000000001,
          0.9490000000000001,
          0.522,
          0.56,
          0.39,
          0.662,
          0.6729999999999999,
          0.523,
          0.478,
          0.841,
          0.397,
          0.294,
          0.583,
          0.9259999999999999,
          0.961,
          0.57,
          0.649,
          0.557,
          0.7879999999999999,
          0.66,
          0.401,
          0.214,
          0.309,
          0.804,
          0.272,
          0.38299999999999995,
          0.629,
          0.5589999999999999,
          0.7929999999999999,
          0.617,
          0.38299999999999995,
          0.221,
          0.297,
          0.752,
          0.278,
          0.384,
          0.502,
          0.647,
          0.613,
          0.513,
          0.32899999999999996,
          0.348,
          0.337,
          0.327,
          0.43200000000000005,
          0.48100000000000004,
          0.677,
          0.715,
          0.377,
          0.502,
          0.647,
          0.613,
          0.513,
          0.32899999999999996,
          0.348,
          0.337,
          0.327,
          0.43200000000000005,
          0.48100000000000004,
          0.677,
          0.551,
          0.6659999999999999,
          0.614,
          0.508,
          0.321,
          0.345,
          0.335,
          0.32299999999999995,
          0.44,
          0.489,
          0.662,
          0.444,
          0.635,
          0.56,
          0.33299999999999996,
          0.6759999999999999,
          0.365,
          0.48100000000000004,
          0.516,
          0.684,
          0.475,
          0.192,
          0.41,
          0.5670000000000001,
          0.606,
          0.677,
          0.5870000000000001,
          0.539,
          0.271,
          0.5760000000000001,
          0.6759999999999999,
          0.5589999999999999,
          0.45399999999999996,
          0.564,
          0.41,
          0.5670000000000001,
          0.606,
          0.677,
          0.5870000000000001,
          0.539,
          0.271,
          0.5760000000000001,
          0.6759999999999999,
          0.5589999999999999,
          0.449,
          0.41,
          0.5670000000000001,
          0.606,
          0.677,
          0.5870000000000001,
          0.539,
          0.271,
          0.5760000000000001,
          0.6759999999999999,
          0.5589999999999999,
          0.449,
          0.182,
          0.24,
          0.198,
          0.11800000000000001,
          0.256,
          0.38,
          0.46799999999999997,
          0.605,
          0.5379999999999999,
          0.62,
          0.767,
          0.682,
          0.599,
          0.511,
          0.45399999999999996,
          0.732,
          0.54,
          0.44,
          0.0609,
          0.249,
          0.46299999999999997,
          0.348,
          0.513,
          0.235,
          0.391,
          0.617,
          0.82,
          0.193,
          0.354,
          0.315,
          0.716,
          0.445,
          0.348,
          0.807,
          0.062,
          0.225,
          0.434,
          0.369,
          0.49700000000000005,
          0.233,
          0.384,
          0.6990000000000001,
          0.8240000000000001,
          0.175,
          0.379,
          0.33,
          0.732,
          0.446,
          0.32799999999999996,
          0.062,
          0.223,
          0.434,
          0.369,
          0.49700000000000005,
          0.225,
          0.384,
          0.659,
          0.7809999999999999,
          0.192,
          0.38299999999999995,
          0.33,
          0.732,
          0.446,
          0.32799999999999996,
          0.363,
          0.43700000000000006,
          0.632,
          0.593,
          0.535,
          0.774,
          0.34600000000000003,
          0.46799999999999997,
          0.794,
          0.705,
          0.413,
          0.867,
          0.485,
          0.84,
          0.361,
          0.433,
          0.613,
          0.645,
          0.541,
          0.76,
          0.34299999999999997,
          0.45899999999999996,
          0.8109999999999999,
          0.684,
          0.37,
          0.867,
          0.509,
          0.366,
          0.38,
          0.613,
          0.599,
          0.547,
          0.7659999999999999,
          0.337,
          0.46799999999999997,
          0.789,
          0.6940000000000001,
          0.436,
          0.852,
          0.493,
          0.361,
          0.433,
          0.613,
          0.645,
          0.541,
          0.76,
          0.34299999999999997,
          0.45899999999999996,
          0.8109999999999999,
          0.684,
          0.37,
          0.867,
          0.509,
          0.327,
          0.67,
          0.408,
          0.498,
          0.657,
          0.163,
          0.588,
          0.863,
          0.45799999999999996,
          0.599,
          0.69,
          0.647,
          0.534,
          0.4,
          0.327,
          0.67,
          0.408,
          0.498,
          0.657,
          0.163,
          0.588,
          0.863,
          0.45799999999999996,
          0.599,
          0.69,
          0.647,
          0.534,
          0.4,
          0.727,
          0.594,
          0.46399999999999997,
          0.33299999999999996,
          0.175,
          0.5579999999999999,
          0.71,
          0.517,
          0.598,
          0.674,
          0.455,
          0.688,
          0.5670000000000001,
          0.564,
          0.637,
          0.7040000000000001,
          0.431,
          0.374,
          0.424,
          0.466,
          0.5529999999999999,
          0.7509999999999999,
          0.9279999999999999,
          0.575,
          0.7090000000000001,
          0.449,
          0.574,
          0.6509999999999999,
          0.523,
          0.6829999999999999,
          0.557,
          0.511,
          0.644,
          0.696,
          0.485,
          0.423,
          0.418,
          0.494,
          0.72,
          0.624,
          0.379,
          0.597,
          0.539,
          0.753,
          0.669,
          0.501,
          0.6890000000000001,
          0.201
         ],
         "xaxis": "x",
         "y": [
          0.924,
          0.956,
          0.91,
          0.856,
          0.8640000000000001,
          0.8740000000000001,
          0.941,
          0.938,
          0.912,
          0.871,
          0.85,
          0.925,
          0.915,
          0.924,
          0.956,
          0.91,
          0.856,
          0.8640000000000001,
          0.8740000000000001,
          0.941,
          0.938,
          0.912,
          0.871,
          0.852,
          0.924,
          0.9109999999999999,
          0.8690000000000001,
          0.872,
          0.925,
          0.805,
          0.9009999999999999,
          0.586,
          0.905,
          0.731,
          0.8320000000000001,
          0.755,
          0.8859999999999999,
          0.872,
          0.925,
          0.804,
          0.902,
          0.588,
          0.909,
          0.737,
          0.833,
          0.758,
          0.84,
          0.8290000000000001,
          0.8390000000000001,
          0.7979999999999999,
          0.8640000000000001,
          0.691,
          0.853,
          0.852,
          0.8320000000000001,
          0.777,
          0.879,
          0.915,
          0.893,
          0.84,
          0.8290000000000001,
          0.8390000000000001,
          0.7979999999999999,
          0.8640000000000001,
          0.691,
          0.853,
          0.852,
          0.8320000000000001,
          0.777,
          0.879,
          0.8240000000000001,
          0.8220000000000001,
          0.8390000000000001,
          0.797,
          0.8640000000000001,
          0.691,
          0.8390000000000001,
          0.856,
          0.833,
          0.774,
          0.884,
          0.938,
          0.932,
          0.858,
          0.763,
          0.9620000000000001,
          0.889,
          0.9740000000000001,
          0.9740000000000001,
          0.9440000000000001,
          0.868,
          0.9390000000000001,
          0.9640000000000001,
          0.924,
          0.915,
          0.8909999999999999,
          0.907,
          0.95,
          0.851,
          0.9259999999999999,
          0.853,
          0.853,
          0.777,
          0.883,
          0.9640000000000001,
          0.924,
          0.915,
          0.8909999999999999,
          0.907,
          0.95,
          0.851,
          0.9259999999999999,
          0.853,
          0.853,
          0.777,
          0.9640000000000001,
          0.924,
          0.915,
          0.8909999999999999,
          0.907,
          0.95,
          0.851,
          0.9259999999999999,
          0.853,
          0.853,
          0.777,
          0.684,
          0.818,
          0.836,
          0.7909999999999999,
          0.825,
          0.853,
          0.764,
          0.27899999999999997,
          0.39299999999999996,
          0.332,
          0.275,
          0.23,
          0.354,
          0.442,
          0.311,
          0.302,
          0.316,
          0.27699999999999997,
          0.985,
          0.9840000000000001,
          0.895,
          0.9840000000000001,
          0.9570000000000001,
          0.987,
          0.835,
          0.956,
          0.877,
          0.39799999999999996,
          0.9570000000000001,
          0.9329999999999999,
          0.904,
          0.9840000000000001,
          0.981,
          0.93,
          0.9840000000000001,
          0.98,
          0.907,
          0.976,
          0.961,
          0.987,
          0.8390000000000001,
          0.9440000000000001,
          0.9390000000000001,
          0.382,
          0.955,
          0.925,
          0.899,
          0.987,
          0.983,
          0.9840000000000001,
          0.981,
          0.907,
          0.976,
          0.961,
          0.988,
          0.8390000000000001,
          0.95,
          0.878,
          0.38299999999999995,
          0.955,
          0.925,
          0.899,
          0.987,
          0.983,
          0.909,
          0.9390000000000001,
          0.965,
          0.9279999999999999,
          0.772,
          0.755,
          0.953,
          0.696,
          0.941,
          0.883,
          0.8440000000000001,
          0.852,
          0.8109999999999999,
          0.9440000000000001,
          0.9059999999999999,
          0.938,
          0.963,
          0.9309999999999999,
          0.768,
          0.75,
          0.946,
          0.69,
          0.9359999999999999,
          0.8859999999999999,
          0.846,
          0.871,
          0.813,
          0.91,
          0.935,
          0.9620000000000001,
          0.925,
          0.764,
          0.752,
          0.9520000000000001,
          0.695,
          0.935,
          0.888,
          0.8440000000000001,
          0.868,
          0.8,
          0.9059999999999999,
          0.938,
          0.963,
          0.9309999999999999,
          0.768,
          0.75,
          0.946,
          0.69,
          0.9359999999999999,
          0.8859999999999999,
          0.846,
          0.871,
          0.813,
          0.9009999999999999,
          0.917,
          0.887,
          0.8,
          0.9570000000000001,
          0.41100000000000003,
          0.8909999999999999,
          0.9490000000000001,
          0.9109999999999999,
          0.941,
          0.9490000000000001,
          0.9690000000000001,
          0.9490000000000001,
          0.922,
          0.9009999999999999,
          0.917,
          0.887,
          0.8,
          0.9570000000000001,
          0.41100000000000003,
          0.8909999999999999,
          0.9490000000000001,
          0.9109999999999999,
          0.941,
          0.9490000000000001,
          0.9690000000000001,
          0.9490000000000001,
          0.922,
          0.961,
          0.9490000000000001,
          0.922,
          0.904,
          0.9670000000000001,
          0.9359999999999999,
          0.94,
          0.9570000000000001,
          0.825,
          0.9309999999999999,
          0.943,
          0.982,
          0.899,
          0.958,
          0.9570000000000001,
          0.883,
          0.82,
          0.96,
          0.993,
          0.985,
          0.6970000000000001,
          0.878,
          0.757,
          0.9390000000000001,
          0.93,
          0.961,
          0.8420000000000001,
          0.94,
          0.9329999999999999,
          0.981,
          0.907,
          0.9640000000000001,
          0.956,
          0.889,
          0.8340000000000001,
          0.963,
          0.963,
          0.968,
          0.8859999999999999,
          0.929,
          0.899,
          0.966,
          0.946,
          0.958,
          0.9670000000000001,
          0.9179999999999999,
          0.941,
          0.978
         ],
         "yaxis": "y"
        },
        {
         "customdata": [
          [
           "CLOUDS"
          ],
          [
           "THAT'S A JOKE"
          ],
          [
           "JUST LIKE YOU"
          ],
          [
           "STORY"
          ],
          [
           "PRIDEFUL"
          ],
          [
           "LOST"
          ],
          [
           "LAYERS"
          ],
          [
           "DRIFTING"
          ],
          [
           "TRUST"
          ],
          [
           "PAID MY DUES"
          ],
          [
           "CLOUDS - Edit"
          ],
          [
           "The Search"
          ],
          [
           "Leave Me Alone"
          ],
          [
           "Change"
          ],
          [
           "My Stress"
          ],
          [
           "Nate"
          ],
          [
           "Time"
          ],
          [
           "Returns"
          ],
          [
           "When I Grow Up"
          ],
          [
           "Only"
          ],
          [
           "Let Me Go"
          ],
          [
           "-Interlude-"
          ],
          [
           "Hate Myself"
          ],
          [
           "I Miss The Days"
          ],
          [
           "No Excuses"
          ],
          [
           "Like This"
          ],
          [
           "Options"
          ],
          [
           "WHY"
          ],
          [
           "Thinking"
          ],
          [
           "Trauma"
          ],
          [
           "Time - Edit"
          ],
          [
           "Intro III"
          ],
          [
           "Outcast"
          ],
          [
           "10 Feet Down"
          ],
          [
           "Green Lights"
          ],
          [
           "Dreams"
          ],
          [
           "Let You Down"
          ],
          [
           "Destiny"
          ],
          [
           "My Life"
          ],
          [
           "You're Special"
          ],
          [
           "If You Want Love"
          ],
          [
           "Remember This"
          ],
          [
           "Know"
          ],
          [
           "Lie"
          ],
          [
           "3 A.M."
          ],
          [
           "One Hundred"
          ],
          [
           "Outro"
          ],
          [
           "Intro 2"
          ],
          [
           "Therapy Session"
          ],
          [
           "I Just Wanna Know"
          ],
          [
           "How Could You Leave Us"
          ],
          [
           "Breathe"
          ],
          [
           "Real"
          ],
          [
           "Oh Lord"
          ],
          [
           "I Can Feel It"
          ],
          [
           "Got You On My Mind"
          ],
          [
           "Grindin'"
          ],
          [
           "Wish You Wouldn't"
          ],
          [
           "Statement"
          ],
          [
           "All I Do"
          ],
          [
           "Lost In The Moment"
          ],
          [
           "Intro"
          ],
          [
           "Mansion"
          ],
          [
           "All I Have"
          ],
          [
           "Wait"
          ],
          [
           "Wake Up"
          ],
          [
           "Face It"
          ],
          [
           "Motivated"
          ],
          [
           "Notepad"
          ],
          [
           "Turn The Music Up"
          ],
          [
           "Paralyzed"
          ],
          [
           "I'll Keep On"
          ],
          [
           "Can You Hold Me"
          ]
         ],
         "hovertemplate": "Artist(s)=NF<br>Positiveness (valence)=%{x}<br>Energy=%{y}<br>Song Title=%{customdata[0]}<extra></extra>",
         "legendgroup": "NF",
         "marker": {
          "color": "#636efa",
          "symbol": "circle"
         },
         "mode": "markers",
         "name": "NF",
         "showlegend": true,
         "type": "scattergl",
         "x": [
          0.812,
          0.6,
          0.541,
          0.512,
          0.0377,
          0.451,
          0.61,
          0.496,
          0.664,
          0.381,
          0.861,
          0.37,
          0.46,
          0.532,
          0.405,
          0.537,
          0.198,
          0.7090000000000001,
          0.247,
          0.299,
          0.13699999999999998,
          0.831,
          0.361,
          0.0979,
          0.35100000000000003,
          0.3,
          0.32799999999999996,
          0.418,
          0.557,
          0.225,
          0.257,
          0.395,
          0.321,
          0.0535,
          0.619,
          0.301,
          0.46399999999999997,
          0.243,
          0.249,
          0.0421,
          0.245,
          0.278,
          0.253,
          0.179,
          0.139,
          0.2,
          0.359,
          0.433,
          0.465,
          0.0754,
          0.09,
          0.0362,
          0.16,
          0.21899999999999997,
          0.179,
          0.332,
          0.32,
          0.27399999999999997,
          0.174,
          0.342,
          0.0442,
          0.0749,
          0.433,
          0.325,
          0.17600000000000002,
          0.0387,
          0.511,
          0.42200000000000004,
          0.11800000000000001,
          0.373,
          0.0397,
          0.622,
          0.0847
         ],
         "xaxis": "x",
         "y": [
          0.652,
          0.9329999999999999,
          0.757,
          0.8540000000000001,
          0.715,
          0.912,
          0.6890000000000001,
          0.721,
          0.884,
          0.784,
          0.693,
          0.789,
          0.741,
          0.753,
          0.7959999999999999,
          0.852,
          0.688,
          0.828,
          0.8140000000000001,
          0.654,
          0.337,
          0.0734,
          0.84,
          0.768,
          0.642,
          0.563,
          0.768,
          0.8270000000000001,
          0.531,
          0.0861,
          0.703,
          0.625,
          0.7509999999999999,
          0.835,
          0.655,
          0.354,
          0.7140000000000001,
          0.715,
          0.569,
          0.304,
          0.386,
          0.664,
          0.7170000000000001,
          0.6609999999999999,
          0.727,
          0.62,
          0.579,
          0.9359999999999999,
          0.778,
          0.8059999999999999,
          0.708,
          0.363,
          0.861,
          0.738,
          0.7909999999999999,
          0.56,
          0.732,
          0.348,
          0.47600000000000003,
          0.82,
          0.629,
          0.852,
          0.84,
          0.833,
          0.7240000000000001,
          0.7979999999999999,
          0.894,
          0.8190000000000001,
          0.665,
          0.753,
          0.643,
          0.622,
          0.6559999999999999
         ],
         "yaxis": "y"
        },
        {
         "customdata": [
          [
           "Breath"
          ],
          [
           "LAST PIECE"
          ],
          [
           "Born Ready"
          ],
          [
           "SPECIAL"
          ],
          [
           "WAVE"
          ],
          [
           "Waiting For You"
          ],
          [
           "Thank You, Sorry"
          ],
          [
           "1+1"
          ],
          [
           "I Mean It"
          ],
          [
           "We Are Young"
          ],
          [
           "Breath"
          ],
          [
           "LAST PIECE"
          ],
          [
           "Born Ready"
          ],
          [
           "SPECIAL"
          ],
          [
           "WAVE"
          ],
          [
           "Waiting For You"
          ],
          [
           "Thank You, Sorry"
          ],
          [
           "1+1"
          ],
          [
           "I Mean It"
          ],
          [
           "We Are Young"
          ],
          [
           "LOVE LOOP"
          ],
          [
           "YOUR SPACE"
          ],
          [
           "備忘録"
          ],
          [
           "KARMA"
          ],
          [
           "DRUNK"
          ],
          [
           "#SUMMERVIBES"
          ],
          [
           "REMEMBER ME"
          ],
          [
           "SUPERMAN"
          ],
          [
           "LOVE LOOP (Instrumental)"
          ],
          [
           "Miracle"
          ],
          [
           "Take Me To You"
          ],
          [
           "안 보여 Come On"
          ],
          [
           "잘 지내야해 1:31AM"
          ],
          [
           "Higher"
          ],
          [
           "I Love It"
          ],
          [
           "WOLO"
          ],
          [
           "King"
          ],
          [
           "Think About It"
          ],
          [
           "이젠 From Now"
          ],
          [
           "Hunger"
          ],
          [
           "Phoenix"
          ],
          [
           "Lullaby"
          ],
          [
           "Enough"
          ],
          [
           "지켜줄게 Save You"
          ],
          [
           "No One Else"
          ],
          [
           "I Am Me"
          ],
          [
           "Sunrise"
          ],
          [
           "OMW"
          ],
          [
           "Made It"
          ],
          [
           "My Youth"
          ],
          [
           "혼자 Nobody knows"
          ],
          [
           "Party"
          ],
          [
           "Fine"
          ],
          [
           "Lullaby - English.Ver"
          ],
          [
           "Lullaby - Chinese.Ver"
          ],
          [
           "Lullaby - Spanish.Ver"
          ],
          [
           "Lullaby - Inst."
          ],
          [
           "Lullaby"
          ],
          [
           "Enough"
          ],
          [
           "지켜줄게 Save You"
          ],
          [
           "No One Else"
          ],
          [
           "I Am Me"
          ],
          [
           "Sunrise"
          ],
          [
           "OMW"
          ],
          [
           "Made It"
          ],
          [
           "My Youth"
          ],
          [
           "혼자 Nobody knows"
          ],
          [
           "Party"
          ],
          [
           "Fine"
          ],
          [
           "Lullaby - English Ver."
          ],
          [
           "Lullaby - Chinese Ver."
          ],
          [
           "Lullaby - Spanish Ver."
          ],
          [
           "Lullaby - Inst."
          ],
          [
           "Lullaby"
          ],
          [
           "Enough"
          ],
          [
           "지켜줄게"
          ],
          [
           "No One Else"
          ],
          [
           "I Am Me"
          ],
          [
           "Sunrise"
          ],
          [
           "OMW"
          ],
          [
           "Made It"
          ],
          [
           "My Youth"
          ],
          [
           "혼자 (Nobody knows)"
          ],
          [
           "Party"
          ],
          [
           "Fine"
          ],
          [
           "Lullaby (English Ver.)"
          ],
          [
           "Lullaby (Chinese Ver.)"
          ],
          [
           "Lullaby (Spanish Ver.)"
          ],
          [
           "Lullaby (Inst"
          ],
          [
           "TURN UP"
          ],
          [
           "DESSERT"
          ],
          [
           "LION BOY"
          ],
          [
           "FLASH UP"
          ],
          [
           "WHY"
          ],
          [
           "この胸に"
          ],
          [
           "97 YOUNG & RICH"
          ],
          [
           "TURN UP Remix - Remix"
          ],
          [
           "TURN UP (Instrumental)"
          ],
          [
           "Never Ever"
          ],
          [
           "Shopping Mall"
          ],
          [
           "Paradise"
          ],
          [
           "Sign"
          ],
          [
           "Go Higher"
          ],
          [
           "Q"
          ],
          [
           "양심없이 Don’t care"
          ],
          [
           "OUT"
          ],
          [
           "skyway"
          ],
          [
           "하드캐리 Hard Carry"
          ],
          [
           "Boom x3"
          ],
          [
           "Prove It"
          ],
          [
           "노잼 No Jam"
          ],
          [
           "HEY"
          ],
          [
           "Mayday"
          ],
          [
           "My Home"
          ],
          [
           "Who’s That"
          ],
          [
           "만약에 If"
          ],
          [
           "아파 Sick"
          ],
          [
           "니꿈꿔 Dreamin’"
          ],
          [
           "Let Me"
          ],
          [
           "skyway"
          ],
          [
           "하드캐리"
          ],
          [
           "Boom x3"
          ],
          [
           "Prove It"
          ],
          [
           "노잼"
          ],
          [
           "HEY"
          ],
          [
           "Mayday"
          ],
          [
           "My Home"
          ],
          [
           "Who's That"
          ],
          [
           "만약에"
          ],
          [
           "아파"
          ],
          [
           "니꿈꿔"
          ],
          [
           "Let Me"
          ],
          [
           "Fly"
          ],
          [
           "못하겠어 Can't"
          ],
          [
           "빛이나 See The Light"
          ],
          [
           "FISH"
          ],
          [
           "REWIND"
          ],
          [
           "Beggin on my knees"
          ],
          [
           "Something Good"
          ],
          [
           "SHAKING THE WORLD"
          ],
          [
           "Yo モリアガッテ Yo"
          ],
          [
           "GOT ur LUV"
          ],
          [
           "LAUGH LAUGH LAUGH"
          ],
          [
           "BE MY GIRL"
          ],
          [
           "AROUND THE WORLD"
          ],
          [
           "LOVE TRAIN"
          ],
          [
           "JIBBERISH"
          ],
          [
           "O.M.G"
          ],
          [
           "ANGEL"
          ],
          [
           "STAY"
          ],
          [
           "SO LUCKY"
          ],
          [
           "SHAKING THE WORLD"
          ],
          [
           "Yo モリアガッテ Yo"
          ],
          [
           "GOT ur LUV"
          ],
          [
           "LAUGH LAUGH LAUGH"
          ],
          [
           "BE MY GIRL"
          ],
          [
           "AROUND THE WORLD"
          ],
          [
           "LOVE TRAIN"
          ],
          [
           "JIBBERISH"
          ],
          [
           "O.M.G"
          ],
          [
           "ANGEL"
          ],
          [
           "STAY"
          ],
          [
           "SO LUCKY"
          ],
          [
           "Girls Girls Girls -Japanese ver.- - Japanese Version"
          ],
          [
           "A -Japanese ver.- - Japanese Version"
          ],
          [
           "Stop stop it -Japanese ver.- - Japanese Version"
          ],
          [
           "Just right -Japanese ver.- - Japanese Version"
          ],
          [
           "고백송 Confession Song"
          ],
          [
           "매일 Everyday"
          ],
          [
           "이.별 To. Star"
          ],
          [
           "니가 하면 If You Do"
          ],
          [
           "손들어 Put them up"
          ],
          [
           "느낌이 좋아 Feelin' Good"
          ],
          [
           "GOOD"
          ],
          [
           "눈이가요 Eyes On"
          ],
          [
           "Tic Tic Tok"
          ],
          [
           "니가 하면 If You Do (Stage ver.)"
          ],
          [
           "하지하지마 Stop stop it"
          ],
          [
           "Gimme"
          ],
          [
           "손이 가 Take My Hand"
          ],
          [
           "너란 Girl Magnetic"
          ],
          [
           "그냥 오늘 밤 Just Tonight"
          ],
          [
           "볼륨을 올려줘 Turn Up the Music"
          ],
          [
           "그대로 있어도 돼 Stay"
          ],
          [
           "달빛 Moonlight"
          ],
          [
           "She’s a monster"
          ],
          [
           "Girls Girls Girls"
          ],
          [
           "A"
          ],
          [
           "하지하지마"
          ],
          [
           "Gimme"
          ],
          [
           "손이 가"
          ],
          [
           "너란 Girl"
          ],
          [
           "그냥 오늘 밤"
          ],
          [
           "볼륨을 올려줘"
          ],
          [
           "그대로 있어도 돼"
          ],
          [
           "달빛"
          ],
          [
           "She's a monster"
          ],
          [
           "Girls Girls Girls"
          ],
          [
           "A"
          ],
          [
           "U Got Me"
          ],
          [
           "A"
          ],
          [
           "나쁜 짓 Bad Behaviour"
          ],
          [
           "Good Tonight"
          ],
          [
           "Forever Young"
          ],
          [
           "A - `collapsedone` Remix"
          ],
          [
           "A - TOYO Remix"
          ],
          [
           "A - FRANTS Remix"
          ],
          [
           "SHAKING THE WORLD"
          ],
          [
           "Yo モリアガッテ Yo"
          ],
          [
           "GOT ur LUV"
          ],
          [
           "LAUGH LAUGH LAUGH"
          ],
          [
           "BE MY GIRL"
          ],
          [
           "AROUND THE WORLD"
          ],
          [
           "LOVE TRAIN"
          ],
          [
           "JIBBERISH"
          ],
          [
           "O.M.G"
          ],
          [
           "ANGEL"
          ],
          [
           "STAY"
          ],
          [
           "SO LUCKY"
          ],
          [
           "Girls Girls Girls -Japanese ver.- - Japanese Version"
          ],
          [
           "A -Japanese ver.- - Japanese Version"
          ],
          [
           "Stop stop it -Japanese ver.- - Japanese Version"
          ],
          [
           "Just right -Japanese ver.- - Japanese Version"
          ]
         ],
         "hovertemplate": "Artist(s)=GOT7<br>Positiveness (valence)=%{x}<br>Energy=%{y}<br>Song Title=%{customdata[0]}<extra></extra>",
         "legendgroup": "GOT7",
         "marker": {
          "color": "#EF553B",
          "symbol": "circle"
         },
         "mode": "markers",
         "name": "GOT7",
         "showlegend": true,
         "type": "scattergl",
         "x": [
          0.64,
          0.688,
          0.515,
          0.883,
          0.418,
          0.27899999999999997,
          0.496,
          0.82,
          0.667,
          0.7240000000000001,
          0.64,
          0.688,
          0.515,
          0.883,
          0.418,
          0.27899999999999997,
          0.496,
          0.82,
          0.667,
          0.7240000000000001,
          0.22899999999999998,
          0.322,
          0.583,
          0.551,
          0.685,
          0.496,
          0.34,
          0.14400000000000002,
          0.0828,
          0.46399999999999997,
          0.469,
          0.81,
          0.13699999999999998,
          0.517,
          0.456,
          0.667,
          0.42200000000000004,
          0.4,
          0.17600000000000002,
          0.382,
          0.764,
          0.726,
          0.48200000000000004,
          0.524,
          0.35,
          0.332,
          0.465,
          0.53,
          0.336,
          0.43200000000000005,
          0.49,
          0.513,
          0.475,
          0.613,
          0.552,
          0.638,
          0.545,
          0.726,
          0.48200000000000004,
          0.524,
          0.35,
          0.332,
          0.465,
          0.53,
          0.336,
          0.43200000000000005,
          0.49,
          0.513,
          0.475,
          0.613,
          0.552,
          0.638,
          0.545,
          0.713,
          0.483,
          0.524,
          0.355,
          0.331,
          0.46399999999999997,
          0.53,
          0.336,
          0.431,
          0.49,
          0.51,
          0.46399999999999997,
          0.617,
          0.574,
          0.637,
          0.526,
          0.63,
          0.5660000000000001,
          0.45799999999999996,
          0.34700000000000003,
          0.337,
          0.315,
          0.595,
          0.642,
          0.401,
          0.7709999999999999,
          0.82,
          0.6890000000000001,
          0.526,
          0.7859999999999999,
          0.799,
          0.545,
          0.6629999999999999,
          0.484,
          0.612,
          0.451,
          0.385,
          0.501,
          0.753,
          0.364,
          0.898,
          0.585,
          0.579,
          0.517,
          0.535,
          0.331,
          0.47100000000000003,
          0.7040000000000001,
          0.451,
          0.386,
          0.467,
          0.743,
          0.368,
          0.903,
          0.614,
          0.573,
          0.5329999999999999,
          0.546,
          0.327,
          0.718,
          0.855,
          0.425,
          0.631,
          0.512,
          0.7659999999999999,
          0.721,
          0.203,
          0.737,
          0.653,
          0.56,
          0.6679999999999999,
          0.652,
          0.823,
          0.609,
          0.5589999999999999,
          0.445,
          0.384,
          0.7390000000000001,
          0.203,
          0.737,
          0.653,
          0.56,
          0.6679999999999999,
          0.652,
          0.823,
          0.609,
          0.5589999999999999,
          0.445,
          0.384,
          0.7390000000000001,
          0.509,
          0.397,
          0.745,
          0.763,
          0.257,
          0.5660000000000001,
          0.304,
          0.757,
          0.502,
          0.83,
          0.8340000000000001,
          0.655,
          0.687,
          0.716,
          0.6859999999999999,
          0.785,
          0.5760000000000001,
          0.8420000000000001,
          0.8059999999999999,
          0.83,
          0.9279999999999999,
          0.509,
          0.609,
          0.502,
          0.446,
          0.6859999999999999,
          0.7829999999999999,
          0.5760000000000001,
          0.8420000000000001,
          0.8059999999999999,
          0.83,
          0.9279999999999999,
          0.509,
          0.61,
          0.502,
          0.444,
          0.506,
          0.256,
          0.436,
          0.275,
          0.8690000000000001,
          0.93,
          0.151,
          0.256,
          0.205,
          0.736,
          0.653,
          0.561,
          0.6679999999999999,
          0.653,
          0.818,
          0.609,
          0.5529999999999999,
          0.445,
          0.38299999999999995,
          0.738,
          0.506,
          0.397,
          0.745,
          0.763
         ],
         "xaxis": "x",
         "y": [
          0.846,
          0.866,
          0.564,
          0.7240000000000001,
          0.616,
          0.622,
          0.528,
          0.863,
          0.809,
          0.639,
          0.846,
          0.866,
          0.564,
          0.7240000000000001,
          0.616,
          0.622,
          0.528,
          0.863,
          0.809,
          0.639,
          0.695,
          0.727,
          0.6779999999999999,
          0.664,
          0.7659999999999999,
          0.6509999999999999,
          0.618,
          0.449,
          0.6990000000000001,
          0.34,
          0.693,
          0.6729999999999999,
          0.565,
          0.8909999999999999,
          0.605,
          0.85,
          0.616,
          0.579,
          0.493,
          0.836,
          0.902,
          0.888,
          0.87,
          0.953,
          0.769,
          0.721,
          0.541,
          0.7979999999999999,
          0.86,
          0.7609999999999999,
          0.777,
          0.892,
          0.65,
          0.9009999999999999,
          0.907,
          0.92,
          0.861,
          0.888,
          0.87,
          0.953,
          0.769,
          0.721,
          0.541,
          0.7979999999999999,
          0.86,
          0.7609999999999999,
          0.777,
          0.892,
          0.65,
          0.9009999999999999,
          0.907,
          0.92,
          0.861,
          0.889,
          0.87,
          0.953,
          0.769,
          0.7190000000000001,
          0.541,
          0.7979999999999999,
          0.86,
          0.7609999999999999,
          0.777,
          0.892,
          0.65,
          0.902,
          0.907,
          0.92,
          0.861,
          0.873,
          0.977,
          0.9470000000000001,
          0.7759999999999999,
          0.782,
          0.539,
          0.7170000000000001,
          0.929,
          0.84,
          0.835,
          0.754,
          0.8909999999999999,
          0.628,
          0.9540000000000001,
          0.7340000000000001,
          0.591,
          0.948,
          0.903,
          0.873,
          0.8,
          0.687,
          0.8759999999999999,
          0.883,
          0.865,
          0.884,
          0.6859999999999999,
          0.746,
          0.7170000000000001,
          0.79,
          0.659,
          0.9009999999999999,
          0.9209999999999999,
          0.8,
          0.68,
          0.875,
          0.88,
          0.865,
          0.885,
          0.684,
          0.743,
          0.715,
          0.784,
          0.6629999999999999,
          0.905,
          0.846,
          0.643,
          0.672,
          0.802,
          0.873,
          0.7909999999999999,
          0.8909999999999999,
          0.9790000000000001,
          0.8759999999999999,
          0.862,
          0.9229999999999999,
          0.9259999999999999,
          0.981,
          0.823,
          0.7090000000000001,
          0.672,
          0.632,
          0.9540000000000001,
          0.8909999999999999,
          0.9790000000000001,
          0.8759999999999999,
          0.862,
          0.9229999999999999,
          0.9259999999999999,
          0.981,
          0.823,
          0.7090000000000001,
          0.672,
          0.632,
          0.9540000000000001,
          0.809,
          0.728,
          0.581,
          0.716,
          0.701,
          0.649,
          0.708,
          0.8859999999999999,
          0.847,
          0.872,
          0.835,
          0.85,
          0.87,
          0.9420000000000001,
          0.612,
          0.758,
          0.8390000000000001,
          0.87,
          0.664,
          0.8959999999999999,
          0.6829999999999999,
          0.723,
          0.722,
          0.893,
          0.804,
          0.612,
          0.757,
          0.8390000000000001,
          0.87,
          0.6629999999999999,
          0.8959999999999999,
          0.6829999999999999,
          0.723,
          0.722,
          0.893,
          0.8029999999999999,
          0.588,
          0.8690000000000001,
          0.9209999999999999,
          0.7829999999999999,
          0.6629999999999999,
          0.569,
          0.655,
          0.7,
          0.8909999999999999,
          0.9790000000000001,
          0.8759999999999999,
          0.861,
          0.9229999999999999,
          0.9259999999999999,
          0.98,
          0.823,
          0.7090000000000001,
          0.672,
          0.631,
          0.9540000000000001,
          0.809,
          0.728,
          0.581,
          0.716
         ],
         "yaxis": "y"
        },
        {
         "customdata": [
          [
           "Wheels on the Bus"
          ],
          [
           "Class Fight"
          ],
          [
           "The Principal"
          ],
          [
           "Show & Tell"
          ],
          [
           "Nurse's Office"
          ],
          [
           "Drama Club"
          ],
          [
           "Strawberry Shortcake"
          ],
          [
           "Lunchbox Friends"
          ],
          [
           "Orange Juice"
          ],
          [
           "Detention"
          ],
          [
           "Teacher's Pet"
          ],
          [
           "High School Sweethearts"
          ],
          [
           "Recess"
          ],
          [
           "Wheels on the Bus"
          ],
          [
           "Class Fight"
          ],
          [
           "The Principal"
          ],
          [
           "Show & Tell"
          ],
          [
           "Nurse's Office"
          ],
          [
           "Drama Club"
          ],
          [
           "Strawberry Shortcake"
          ],
          [
           "Lunchbox Friends"
          ],
          [
           "Orange Juice"
          ],
          [
           "Detention"
          ],
          [
           "Teacher's Pet"
          ],
          [
           "High School Sweethearts"
          ],
          [
           "Recess"
          ],
          [
           "Cry Baby"
          ],
          [
           "Dollhouse"
          ],
          [
           "Sippy Cup"
          ],
          [
           "Carousel"
          ],
          [
           "Alphabet Boy"
          ],
          [
           "Soap"
          ],
          [
           "Training Wheels"
          ],
          [
           "Pity Party"
          ],
          [
           "Tag, You're It"
          ],
          [
           "Milk and Cookies"
          ],
          [
           "Pacify Her"
          ],
          [
           "Mrs. Potato Head"
          ],
          [
           "Mad Hatter"
          ],
          [
           "Cry Baby"
          ],
          [
           "Dollhouse"
          ],
          [
           "Sippy Cup"
          ],
          [
           "Carousel"
          ],
          [
           "Alphabet Boy"
          ],
          [
           "Soap"
          ],
          [
           "Training Wheels"
          ],
          [
           "Pity Party"
          ],
          [
           "Tag, You're It"
          ],
          [
           "Milk and Cookies"
          ],
          [
           "Pacify Her"
          ],
          [
           "Mrs. Potato Head"
          ],
          [
           "Mad Hatter"
          ]
         ],
         "hovertemplate": "Artist(s)=Melanie Martinez<br>Positiveness (valence)=%{x}<br>Energy=%{y}<br>Song Title=%{customdata[0]}<extra></extra>",
         "legendgroup": "Melanie Martinez",
         "marker": {
          "color": "#00cc96",
          "symbol": "circle"
         },
         "mode": "markers",
         "name": "Melanie Martinez",
         "showlegend": true,
         "type": "scattergl",
         "x": [
          0.563,
          0.772,
          0.6409999999999999,
          0.648,
          0.556,
          0.512,
          0.512,
          0.434,
          0.637,
          0.7829999999999999,
          0.532,
          0.44,
          0.39899999999999997,
          0.5489999999999999,
          0.747,
          0.6859999999999999,
          0.614,
          0.556,
          0.42700000000000005,
          0.515,
          0.41100000000000003,
          0.637,
          0.752,
          0.575,
          0.43,
          0.424,
          0.47700000000000004,
          0.555,
          0.733,
          0.33299999999999996,
          0.52,
          0.213,
          0.0807,
          0.33899999999999997,
          0.382,
          0.426,
          0.373,
          0.46299999999999997,
          0.5770000000000001,
          0.496,
          0.555,
          0.77,
          0.33299999999999996,
          0.503,
          0.213,
          0.0756,
          0.33899999999999997,
          0.382,
          0.405,
          0.373,
          0.46299999999999997,
          0.5770000000000001
         ],
         "xaxis": "x",
         "y": [
          0.618,
          0.7070000000000001,
          0.7240000000000001,
          0.746,
          0.6509999999999999,
          0.655,
          0.62,
          0.574,
          0.665,
          0.655,
          0.794,
          0.639,
          0.41200000000000003,
          0.616,
          0.7020000000000001,
          0.74,
          0.725,
          0.6509999999999999,
          0.6459999999999999,
          0.624,
          0.593,
          0.665,
          0.655,
          0.767,
          0.619,
          0.405,
          0.691,
          0.708,
          0.6509999999999999,
          0.6609999999999999,
          0.85,
          0.6890000000000001,
          0.48100000000000004,
          0.73,
          0.835,
          0.613,
          0.593,
          0.622,
          0.6920000000000001,
          0.6829999999999999,
          0.708,
          0.638,
          0.6609999999999999,
          0.836,
          0.6890000000000001,
          0.46299999999999997,
          0.73,
          0.835,
          0.619,
          0.593,
          0.622,
          0.6920000000000001
         ],
         "yaxis": "y"
        },
        {
         "customdata": [
          [
           "Golden"
          ],
          [
           "Watermelon Sugar"
          ],
          [
           "Adore You"
          ],
          [
           "Lights Up"
          ],
          [
           "Cherry"
          ],
          [
           "Falling"
          ],
          [
           "To Be So Lonely"
          ],
          [
           "She"
          ],
          [
           "Sunflower, Vol. 6"
          ],
          [
           "Canyon Moon"
          ],
          [
           "Treat People With Kindness"
          ],
          [
           "Fine Line"
          ],
          [
           "Meet Me in the Hallway"
          ],
          [
           "Sign of the Times"
          ],
          [
           "Carolina"
          ],
          [
           "Two Ghosts"
          ],
          [
           "Sweet Creature"
          ],
          [
           "Only Angel"
          ],
          [
           "Kiwi"
          ],
          [
           "Ever Since New York"
          ],
          [
           "Woman"
          ],
          [
           "From the Dining Table"
          ]
         ],
         "hovertemplate": "Artist(s)=Harry Styles<br>Positiveness (valence)=%{x}<br>Energy=%{y}<br>Song Title=%{customdata[0]}<extra></extra>",
         "legendgroup": "Harry Styles",
         "marker": {
          "color": "#ab63fa",
          "symbol": "circle"
         },
         "mode": "markers",
         "name": "Harry Styles",
         "showlegend": true,
         "type": "scattergl",
         "x": [
          0.254,
          0.557,
          0.569,
          0.27,
          0.41100000000000003,
          0.0592,
          0.605,
          0.457,
          0.86,
          0.7,
          0.6970000000000001,
          0.0511,
          0.33899999999999997,
          0.222,
          0.45799999999999996,
          0.456,
          0.228,
          0.348,
          0.491,
          0.38299999999999995,
          0.379,
          0.201
         ],
         "xaxis": "x",
         "y": [
          0.838,
          0.816,
          0.7709999999999999,
          0.621,
          0.512,
          0.267,
          0.436,
          0.521,
          0.846,
          0.621,
          0.8690000000000001,
          0.34700000000000003,
          0.38299999999999995,
          0.595,
          0.6729999999999999,
          0.40700000000000003,
          0.262,
          0.8420000000000001,
          0.93,
          0.537,
          0.647,
          0.156
         ],
         "yaxis": "y"
        },
        {
         "customdata": [
          [
           "Consideration"
          ],
          [
           "James Joint"
          ],
          [
           "Kiss It Better"
          ],
          [
           "Work"
          ],
          [
           "Desperado"
          ],
          [
           "Woo"
          ],
          [
           "Needed Me"
          ],
          [
           "Yeah, I Said It"
          ],
          [
           "Same Ol’ Mistakes"
          ],
          [
           "Never Ending"
          ],
          [
           "Love On The Brain"
          ],
          [
           "Higher"
          ],
          [
           "Close To You"
          ],
          [
           "Consideration"
          ],
          [
           "James Joint"
          ],
          [
           "Kiss It Better"
          ],
          [
           "Work"
          ],
          [
           "Desperado"
          ],
          [
           "Woo"
          ],
          [
           "Needed Me"
          ],
          [
           "Yeah, I Said It"
          ],
          [
           "Same Ol’ Mistakes"
          ],
          [
           "Never Ending"
          ],
          [
           "Love On The Brain"
          ],
          [
           "Higher"
          ],
          [
           "Close To You"
          ],
          [
           "Phresh Out The Runway"
          ],
          [
           "Diamonds"
          ],
          [
           "Numb"
          ],
          [
           "Pour It Up"
          ],
          [
           "Loveeeeeee Song"
          ],
          [
           "Jump"
          ],
          [
           "Right Now"
          ],
          [
           "What Now"
          ],
          [
           "Stay"
          ],
          [
           "Nobody's Business"
          ],
          [
           "Love Without Tragedy / Mother Mary"
          ],
          [
           "Get It Over With"
          ],
          [
           "No Love Allowed"
          ],
          [
           "Lost In Paradise"
          ],
          [
           "Phresh Out The Runway"
          ],
          [
           "Diamonds"
          ],
          [
           "Numb"
          ],
          [
           "Pour It Up"
          ],
          [
           "Loveeeeeee Song"
          ],
          [
           "Jump"
          ],
          [
           "Right Now"
          ],
          [
           "What Now"
          ],
          [
           "Stay"
          ],
          [
           "Nobody's Business"
          ],
          [
           "Love Without Tragedy / Mother Mary"
          ],
          [
           "Get It Over With"
          ],
          [
           "No Love Allowed"
          ],
          [
           "Lost In Paradise"
          ],
          [
           "You Da One"
          ],
          [
           "Where Have You Been"
          ],
          [
           "We Found Love"
          ],
          [
           "Talk That Talk"
          ],
          [
           "Cockiness (Love It)"
          ],
          [
           "Birthday Cake"
          ],
          [
           "We All Want Love"
          ],
          [
           "Drunk On Love"
          ],
          [
           "Roc Me Out"
          ],
          [
           "Watch n' Learn"
          ],
          [
           "Farewell"
          ],
          [
           "You Da One - Album Version (Edited)"
          ],
          [
           "Where Have You Been"
          ],
          [
           "We Found Love"
          ],
          [
           "Talk That Talk - Album Version (Edited)"
          ],
          [
           "Cockiness (Love It)"
          ],
          [
           "Birthday Cake - Album Version (Edited)"
          ],
          [
           "We All Want Love"
          ],
          [
           "Drunk On Love"
          ],
          [
           "Roc Me Out"
          ],
          [
           "Watch n' Learn"
          ],
          [
           "Farewell"
          ],
          [
           "You Da One"
          ],
          [
           "Where Have You Been"
          ],
          [
           "We Found Love"
          ],
          [
           "Talk That Talk"
          ],
          [
           "Cockiness (Love It)"
          ],
          [
           "Birthday Cake"
          ],
          [
           "We All Want Love"
          ],
          [
           "Drunk On Love"
          ],
          [
           "Roc Me Out"
          ],
          [
           "Watch n' Learn"
          ],
          [
           "Farewell"
          ],
          [
           "You Da One - Album Version (Edited)"
          ],
          [
           "Where Have You Been"
          ],
          [
           "We Found Love"
          ],
          [
           "Talk That Talk - Album Version (Edited)"
          ],
          [
           "Cockiness (Love It)"
          ],
          [
           "Birthday Cake - Album Version (Edited)"
          ],
          [
           "We All Want Love"
          ],
          [
           "Drunk On Love"
          ],
          [
           "Roc Me Out"
          ],
          [
           "Watch n' Learn"
          ],
          [
           "Farewell"
          ],
          [
           "S&M"
          ],
          [
           "What's My Name?"
          ],
          [
           "Cheers (Drink To That)"
          ],
          [
           "Fading"
          ],
          [
           "Only Girl (In The World)"
          ],
          [
           "California King Bed"
          ],
          [
           "Man Down"
          ],
          [
           "Raining Men"
          ],
          [
           "Complicated"
          ],
          [
           "Skin"
          ],
          [
           "Love The Way You Lie (Part II) - Pt. 2"
          ],
          [
           "Only Girl (In The World) - The Bimbo Jones Club"
          ],
          [
           "S&M"
          ],
          [
           "What's My Name?"
          ],
          [
           "Cheers (Drink To That)"
          ],
          [
           "Fading"
          ],
          [
           "Only Girl (In The World)"
          ],
          [
           "California King Bed"
          ],
          [
           "Man Down"
          ],
          [
           "Raining Men"
          ],
          [
           "Complicated"
          ],
          [
           "Skin"
          ],
          [
           "Love The Way You Lie (Part II) - Pt. 2"
          ],
          [
           "S&M"
          ],
          [
           "What's My Name?"
          ],
          [
           "Cheers (Drink To That)"
          ],
          [
           "Fading"
          ],
          [
           "Only Girl (In The World)"
          ],
          [
           "California King Bed"
          ],
          [
           "Man Down"
          ],
          [
           "Raining Men"
          ],
          [
           "Complicated"
          ],
          [
           "Skin"
          ],
          [
           "Love The Way You Lie (Part II) - Pt. 2"
          ],
          [
           "Mad House - Chew Fu Straight Jacket Fix"
          ],
          [
           "Russian Roulette - Chew Fu Black Russian Fix"
          ],
          [
           "ROCKSTAR 101 - Chew Fu Teachers Pet Fix"
          ],
          [
           "Wait Your Turn - Chew Fu Can't Wait No More Fix"
          ],
          [
           "Photographs - Chew Fu 35mm Fix"
          ],
          [
           "Rude Boy - Chew Fu Vitamin S Fix"
          ],
          [
           "Hard - Chew Fu Granite Fix"
          ],
          [
           "G4L - Chew Fu Guns In The Air Fix"
          ],
          [
           "Fire Bomb - Chew Fu Molotov Fix"
          ],
          [
           "Stupid In Love - Chew Fu Small Room Fix"
          ],
          [
           "Mad House - Chew Fu Straight Jacket Fix"
          ],
          [
           "Russian Roulette - Chew Fu Black Russian Fix"
          ],
          [
           "ROCKSTAR 101 - Chew Fu Teachers Pet Fix"
          ],
          [
           "Wait Your Turn - Chew Fu Can't Wait No More Fix"
          ],
          [
           "Photographs - Chew Fu 35mm Fix"
          ],
          [
           "Rude Boy - Chew Fu Vitamin S Fix"
          ],
          [
           "Hard - Chew Fu Granite Fix"
          ],
          [
           "G4L - Chew Fu Guns In The Air Fix"
          ],
          [
           "Fire Bomb - Chew Fu Molotov Fix"
          ],
          [
           "Stupid In Love - Chew Fu Small Room Fix"
          ],
          [
           "Mad House"
          ],
          [
           "Wait Your Turn"
          ],
          [
           "Hard"
          ],
          [
           "Stupid In Love"
          ],
          [
           "ROCKSTAR 101"
          ],
          [
           "Russian Roulette"
          ],
          [
           "Fire Bomb"
          ],
          [
           "Rude Boy"
          ],
          [
           "Photographs"
          ],
          [
           "G4L"
          ],
          [
           "Te Amo"
          ],
          [
           "Cold Case Love"
          ],
          [
           "The Last Song"
          ],
          [
           "Mad House"
          ],
          [
           "Wait Your Turn"
          ],
          [
           "Hard"
          ],
          [
           "Stupid In Love"
          ],
          [
           "ROCKSTAR 101"
          ],
          [
           "Russian Roulette"
          ],
          [
           "Fire Bomb"
          ],
          [
           "Rude Boy"
          ],
          [
           "Photographs"
          ],
          [
           "G4L"
          ],
          [
           "Te Amo"
          ],
          [
           "Cold Case Love"
          ],
          [
           "The Last Song"
          ],
          [
           "Mad House"
          ],
          [
           "Wait Your Turn"
          ],
          [
           "Hard"
          ],
          [
           "Stupid In Love"
          ],
          [
           "ROCKSTAR 101"
          ],
          [
           "Russian Roulette"
          ],
          [
           "Fire Bomb"
          ],
          [
           "Rude Boy"
          ],
          [
           "Photographs"
          ],
          [
           "G4L"
          ],
          [
           "Te Amo"
          ],
          [
           "Cold Case Love"
          ],
          [
           "The Last Song"
          ],
          [
           "Russian Roulette - Donni Hotwheel Remix"
          ],
          [
           "Hole In My Head"
          ],
          [
           "Umbrella - Seamus Haji & Paul Emanuel"
          ],
          [
           "Disturbia - Jody den Broeder"
          ],
          [
           "Shut Up And Drive - The Wideboys"
          ],
          [
           "Don't Stop The Music - Jody den Broeder"
          ],
          [
           "Take A Bow - Tony Moran & Warren Riggs"
          ],
          [
           "Breakin' Dishes - Soul Seekerz"
          ],
          [
           "Hate That I Love You - K-Klassic"
          ],
          [
           "Question Existing - The Wideboys"
          ],
          [
           "Push Up On Me - Moto Blanco"
          ],
          [
           "Good Girl Gone Bad - Soul Seekerz"
          ],
          [
           "Say It - Soul Seekerz"
          ],
          [
           "Umbrella - Lindbergh Palace"
          ],
          [
           "Umbrella"
          ],
          [
           "Push Up On Me"
          ],
          [
           "Don't Stop The Music"
          ],
          [
           "Breakin' Dishes"
          ],
          [
           "Shut Up And Drive"
          ],
          [
           "Hate That I Love You"
          ],
          [
           "Say It"
          ],
          [
           "Sell Me Candy"
          ],
          [
           "Lemme Get That"
          ],
          [
           "Rehab"
          ],
          [
           "Question Existing"
          ],
          [
           "Good Girl Gone Bad"
          ],
          [
           "Disturbia"
          ],
          [
           "Take A Bow"
          ],
          [
           "If I Never See Your Face Again"
          ],
          [
           "Hate That I Love You - Cantonese version"
          ],
          [
           "Hate That I Love You - Mandarin version"
          ],
          [
           "Umbrella"
          ],
          [
           "Push Up On Me"
          ],
          [
           "Don't Stop The Music"
          ],
          [
           "Breakin' Dishes"
          ],
          [
           "Shut Up And Drive"
          ],
          [
           "Hate That I Love You"
          ],
          [
           "Say It"
          ],
          [
           "Sell Me Candy"
          ],
          [
           "Lemme Get That"
          ],
          [
           "Rehab"
          ],
          [
           "Question Existing"
          ],
          [
           "Good Girl Gone Bad"
          ],
          [
           "Hate That I Love You - Spanglish Version"
          ],
          [
           "Disturbia"
          ],
          [
           "Take A Bow"
          ],
          [
           "If I Never See Your Face Again"
          ],
          [
           "Umbrella"
          ],
          [
           "Push Up On Me"
          ],
          [
           "Don't Stop The Music"
          ],
          [
           "Breakin' Dishes"
          ],
          [
           "Shut Up And Drive"
          ],
          [
           "Hate That I Love You"
          ],
          [
           "Say It"
          ],
          [
           "Sell Me Candy"
          ],
          [
           "Lemme Get That"
          ],
          [
           "Rehab"
          ],
          [
           "Question Existing"
          ],
          [
           "Good Girl Gone Bad"
          ],
          [
           "Disturbia"
          ],
          [
           "Take A Bow"
          ],
          [
           "If I Never See Your Face Again"
          ],
          [
           "Umbrella"
          ],
          [
           "Push Up On Me"
          ],
          [
           "Don't Stop The Music"
          ],
          [
           "Breakin' Dishes"
          ],
          [
           "Shut Up And Drive"
          ],
          [
           "Hate That I Love You"
          ],
          [
           "Say It"
          ],
          [
           "Sell Me Candy"
          ],
          [
           "Lemme Get That"
          ],
          [
           "Rehab"
          ],
          [
           "Question Existing"
          ],
          [
           "Good Girl Gone Bad"
          ],
          [
           "Cry"
          ],
          [
           "Disturbia"
          ],
          [
           "Take A Bow"
          ],
          [
           "If I Never See Your Face Again"
          ],
          [
           "Umbrella"
          ],
          [
           "Push Up On Me"
          ],
          [
           "Don't Stop The Music"
          ],
          [
           "Breakin' Dishes"
          ],
          [
           "Shut Up And Drive"
          ],
          [
           "Hate That I Love You"
          ],
          [
           "Say It"
          ],
          [
           "Sell Me Candy"
          ],
          [
           "Lemme Get That"
          ],
          [
           "Rehab"
          ],
          [
           "Question Existing"
          ],
          [
           "Good Girl Gone Bad"
          ],
          [
           "SOS"
          ],
          [
           "Kisses Don't Lie"
          ],
          [
           "Unfaithful"
          ],
          [
           "We Ride"
          ],
          [
           "Dem Haters - Album Version 2"
          ],
          [
           "Final Goodbye"
          ],
          [
           "Break It Off"
          ],
          [
           "Crazy Little Thing Called Love"
          ],
          [
           "Selfish Girl"
          ],
          [
           "P.S. (I'm Still Not Over You)"
          ],
          [
           "A Girl Like Me"
          ],
          [
           "A Million Miles Away"
          ],
          [
           "If It's Lovin' That You Want - Pt. 2"
          ],
          [
           "Pon de Replay - Full Phatt Remix"
          ],
          [
           "SOS"
          ],
          [
           "Kisses Don't Lie"
          ],
          [
           "Unfaithful"
          ],
          [
           "We Ride"
          ],
          [
           "Dem Haters - Album Version 2"
          ],
          [
           "Final Goodbye"
          ],
          [
           "Break It Off"
          ],
          [
           "Crazy Little Thing Called Love"
          ],
          [
           "Selfish Girl"
          ],
          [
           "P.S. (I'm Still Not Over You)"
          ],
          [
           "A Girl Like Me"
          ],
          [
           "A Million Miles Away"
          ],
          [
           "If It's Lovin' That You Want - Pt. 2"
          ],
          [
           "Pon de Replay - Full Phatt Remix"
          ],
          [
           "SOS"
          ],
          [
           "Kisses Don't Lie"
          ],
          [
           "Unfaithful"
          ],
          [
           "We Ride"
          ],
          [
           "Dem Haters"
          ],
          [
           "Final Goodbye"
          ],
          [
           "Break It Off"
          ],
          [
           "Crazy Little Thing Called Love"
          ],
          [
           "Selfish Girl"
          ],
          [
           "P.S. (I'm Still Not Over You)"
          ],
          [
           "A Girl Like Me"
          ],
          [
           "A Million Miles Away"
          ],
          [
           "If It's Lovin' That You Want - Pt. 2"
          ],
          [
           "Pon de Replay"
          ],
          [
           "Here I Go Again"
          ],
          [
           "If It's Lovin' That You Want"
          ],
          [
           "You Don't Love Me (No, No, No)"
          ],
          [
           "That La, La, La"
          ],
          [
           "The Last Time"
          ],
          [
           "Willing To Wait"
          ],
          [
           "Music Of The Sun"
          ],
          [
           "Let Me"
          ],
          [
           "Rush"
          ],
          [
           "There's A Thug In My Life"
          ],
          [
           "Now I Know"
          ],
          [
           "Pon De Replay - Remix"
          ],
          [
           "Should I - Bonus Track"
          ],
          [
           "Pon de Replay"
          ],
          [
           "Here I Go Again"
          ],
          [
           "If It's Lovin' That You Want"
          ],
          [
           "You Don't Love Me (No, No, No)"
          ],
          [
           "That La, La, La"
          ],
          [
           "The Last Time"
          ],
          [
           "Willing To Wait"
          ],
          [
           "Music Of The Sun"
          ],
          [
           "Let Me"
          ],
          [
           "Rush"
          ],
          [
           "There's A Thug In My Life"
          ],
          [
           "Now I Know"
          ],
          [
           "Pon De Replay - Remix"
          ]
         ],
         "hovertemplate": "Artist(s)=Rihanna<br>Positiveness (valence)=%{x}<br>Energy=%{y}<br>Song Title=%{customdata[0]}<extra></extra>",
         "legendgroup": "Rihanna",
         "marker": {
          "color": "#FFA15A",
          "symbol": "circle"
         },
         "mode": "markers",
         "name": "Rihanna",
         "showlegend": true,
         "type": "scattergl",
         "x": [
          0.784,
          0.405,
          0.877,
          0.5579999999999999,
          0.32299999999999995,
          0.185,
          0.29600000000000004,
          0.249,
          0.501,
          0.521,
          0.37799999999999995,
          0.392,
          0.145,
          0.784,
          0.396,
          0.888,
          0.563,
          0.32299999999999995,
          0.18899999999999997,
          0.295,
          0.293,
          0.52,
          0.521,
          0.39299999999999996,
          0.391,
          0.145,
          0.96,
          0.39299999999999996,
          0.379,
          0.39,
          0.501,
          0.46799999999999997,
          0.259,
          0.22699999999999998,
          0.125,
          0.515,
          0.154,
          0.251,
          0.645,
          0.297,
          0.96,
          0.39299999999999996,
          0.379,
          0.39,
          0.501,
          0.46799999999999997,
          0.259,
          0.22699999999999998,
          0.125,
          0.515,
          0.154,
          0.251,
          0.645,
          0.297,
          0.863,
          0.444,
          0.6,
          0.466,
          0.265,
          0.32899999999999996,
          0.308,
          0.153,
          0.377,
          0.823,
          0.506,
          0.8590000000000001,
          0.444,
          0.6,
          0.375,
          0.261,
          0.39799999999999996,
          0.308,
          0.153,
          0.377,
          0.823,
          0.506,
          0.863,
          0.444,
          0.6,
          0.466,
          0.261,
          0.32899999999999996,
          0.308,
          0.153,
          0.377,
          0.823,
          0.506,
          0.8590000000000001,
          0.444,
          0.6,
          0.375,
          0.261,
          0.39799999999999996,
          0.308,
          0.153,
          0.377,
          0.823,
          0.506,
          0.833,
          0.583,
          0.7240000000000001,
          0.32799999999999996,
          0.611,
          0.318,
          0.557,
          0.845,
          0.33,
          0.114,
          0.402,
          0.747,
          0.833,
          0.583,
          0.727,
          0.282,
          0.632,
          0.319,
          0.536,
          0.841,
          0.348,
          0.127,
          0.39799999999999996,
          0.833,
          0.595,
          0.725,
          0.282,
          0.595,
          0.319,
          0.529,
          0.85,
          0.331,
          0.11800000000000001,
          0.391,
          0.44799999999999995,
          0.5429999999999999,
          0.84,
          0.8240000000000001,
          0.8009999999999999,
          0.228,
          0.746,
          0.755,
          0.659,
          0.698,
          0.423,
          0.5489999999999999,
          0.8959999999999999,
          0.845,
          0.8,
          0.289,
          0.745,
          0.7509999999999999,
          0.67,
          0.754,
          0.293,
          0.451,
          0.163,
          0.47600000000000003,
          0.315,
          0.265,
          0.44299999999999995,
          0.812,
          0.39899999999999997,
          0.21600000000000003,
          0.7509999999999999,
          0.121,
          0.0996,
          0.293,
          0.46799999999999997,
          0.154,
          0.48,
          0.305,
          0.293,
          0.451,
          0.774,
          0.39799999999999996,
          0.18600000000000003,
          0.7509999999999999,
          0.11900000000000001,
          0.0995,
          0.295,
          0.47100000000000003,
          0.156,
          0.461,
          0.308,
          0.268,
          0.446,
          0.812,
          0.39899999999999997,
          0.21600000000000003,
          0.7509999999999999,
          0.12,
          0.0996,
          0.7140000000000001,
          0.8759999999999999,
          0.765,
          0.905,
          0.5710000000000001,
          0.764,
          0.617,
          0.523,
          0.585,
          0.55,
          0.795,
          0.5429999999999999,
          0.872,
          0.45,
          0.597,
          0.615,
          0.578,
          0.9079999999999999,
          0.738,
          0.7559999999999999,
          0.39399999999999996,
          0.6890000000000001,
          0.742,
          0.47200000000000003,
          0.303,
          0.5539999999999999,
          0.7040000000000001,
          0.499,
          0.919,
          0.6509999999999999,
          0.6579999999999999,
          0.579,
          0.603,
          0.536,
          0.894,
          0.7390000000000001,
          0.745,
          0.39399999999999996,
          0.7020000000000001,
          0.741,
          0.475,
          0.29,
          0.588,
          0.613,
          0.7070000000000001,
          0.575,
          0.894,
          0.575,
          0.6409999999999999,
          0.542,
          0.875,
          0.74,
          0.732,
          0.401,
          0.72,
          0.723,
          0.397,
          0.276,
          0.589,
          0.722,
          0.5720000000000001,
          0.914,
          0.5489999999999999,
          0.625,
          0.54,
          0.893,
          0.764,
          0.716,
          0.395,
          0.6970000000000001,
          0.772,
          0.446,
          0.273,
          0.594,
          0.38799999999999996,
          0.7170000000000001,
          0.536,
          0.909,
          0.575,
          0.6409999999999999,
          0.542,
          0.863,
          0.74,
          0.732,
          0.39899999999999997,
          0.7120000000000001,
          0.723,
          0.397,
          0.276,
          0.589,
          0.527,
          0.91,
          0.349,
          0.772,
          0.467,
          0.24,
          0.7979999999999999,
          0.7509999999999999,
          0.737,
          0.496,
          0.633,
          0.0609,
          0.642,
          0.8809999999999999,
          0.527,
          0.91,
          0.349,
          0.772,
          0.467,
          0.24,
          0.7979999999999999,
          0.7509999999999999,
          0.737,
          0.496,
          0.633,
          0.0609,
          0.642,
          0.8809999999999999,
          0.527,
          0.91,
          0.349,
          0.772,
          0.467,
          0.24,
          0.7979999999999999,
          0.7509999999999999,
          0.737,
          0.496,
          0.633,
          0.0609,
          0.642,
          0.505,
          0.643,
          0.757,
          0.61,
          0.9209999999999999,
          0.0918,
          0.282,
          0.64,
          0.72,
          0.7659999999999999,
          0.5379999999999999,
          0.205,
          0.586,
          0.596,
          0.498,
          0.637,
          0.74,
          0.611,
          0.9520000000000001,
          0.114,
          0.281,
          0.632,
          0.743,
          0.8009999999999999,
          0.5720000000000001,
          0.22,
          0.5820000000000001
         ],
         "xaxis": "x",
         "y": [
          0.584,
          0.203,
          0.8059999999999999,
          0.534,
          0.61,
          0.466,
          0.314,
          0.38,
          0.8029999999999999,
          0.391,
          0.637,
          0.5670000000000001,
          0.17,
          0.588,
          0.203,
          0.804,
          0.535,
          0.61,
          0.46299999999999997,
          0.313,
          0.397,
          0.799,
          0.391,
          0.629,
          0.561,
          0.17,
          0.866,
          0.71,
          0.6970000000000001,
          0.478,
          0.598,
          0.8190000000000001,
          0.64,
          0.696,
          0.31,
          0.6,
          0.66,
          0.465,
          0.48200000000000004,
          0.7879999999999999,
          0.866,
          0.71,
          0.6970000000000001,
          0.478,
          0.598,
          0.8190000000000001,
          0.64,
          0.696,
          0.31,
          0.6,
          0.66,
          0.465,
          0.48200000000000004,
          0.7879999999999999,
          0.715,
          0.847,
          0.7659999999999999,
          0.6709999999999999,
          0.773,
          0.826,
          0.575,
          0.873,
          0.826,
          0.7979999999999999,
          0.857,
          0.693,
          0.847,
          0.7659999999999999,
          0.687,
          0.774,
          0.831,
          0.575,
          0.873,
          0.826,
          0.7979999999999999,
          0.857,
          0.715,
          0.847,
          0.7659999999999999,
          0.6709999999999999,
          0.774,
          0.826,
          0.575,
          0.873,
          0.826,
          0.7979999999999999,
          0.857,
          0.693,
          0.847,
          0.7659999999999999,
          0.687,
          0.774,
          0.831,
          0.575,
          0.873,
          0.826,
          0.7979999999999999,
          0.857,
          0.682,
          0.7859999999999999,
          0.9129999999999999,
          0.698,
          0.716,
          0.586,
          0.904,
          0.802,
          0.897,
          0.573,
          0.833,
          0.941,
          0.682,
          0.7859999999999999,
          0.912,
          0.711,
          0.71,
          0.5770000000000001,
          0.9059999999999999,
          0.805,
          0.898,
          0.5579999999999999,
          0.8390000000000001,
          0.682,
          0.782,
          0.9109999999999999,
          0.711,
          0.716,
          0.5770000000000001,
          0.909,
          0.8059999999999999,
          0.884,
          0.5670000000000001,
          0.823,
          0.794,
          0.755,
          0.741,
          0.8170000000000001,
          0.606,
          0.7559999999999999,
          0.883,
          0.773,
          0.7490000000000001,
          0.691,
          0.816,
          0.747,
          0.7659999999999999,
          0.763,
          0.604,
          0.757,
          0.828,
          0.75,
          0.6809999999999999,
          0.652,
          0.591,
          0.7040000000000001,
          0.746,
          0.562,
          0.65,
          0.486,
          0.847,
          0.75,
          0.632,
          0.721,
          0.7070000000000001,
          0.44299999999999995,
          0.595,
          0.59,
          0.711,
          0.75,
          0.561,
          0.657,
          0.473,
          0.847,
          0.747,
          0.632,
          0.735,
          0.7070000000000001,
          0.442,
          0.595,
          0.591,
          0.7,
          0.7490000000000001,
          0.5579999999999999,
          0.657,
          0.47100000000000003,
          0.8440000000000001,
          0.75,
          0.632,
          0.735,
          0.7070000000000001,
          0.44299999999999995,
          0.595,
          0.875,
          0.789,
          0.845,
          0.878,
          0.909,
          0.8859999999999999,
          0.935,
          0.904,
          0.9059999999999999,
          0.909,
          0.953,
          0.919,
          0.932,
          0.8809999999999999,
          0.833,
          0.861,
          0.669,
          0.674,
          0.818,
          0.7190000000000001,
          0.596,
          0.9229999999999999,
          0.8959999999999999,
          0.7929999999999999,
          0.6709999999999999,
          0.546,
          0.813,
          0.461,
          0.789,
          0.7709999999999999,
          0.759,
          0.836,
          0.87,
          0.66,
          0.6559999999999999,
          0.823,
          0.7170000000000001,
          0.595,
          0.919,
          0.898,
          0.784,
          0.674,
          0.5479999999999999,
          0.762,
          0.8190000000000001,
          0.46799999999999997,
          0.79,
          0.8290000000000001,
          0.88,
          0.669,
          0.674,
          0.826,
          0.73,
          0.588,
          0.909,
          0.894,
          0.792,
          0.6559999999999999,
          0.5529999999999999,
          0.813,
          0.467,
          0.7809999999999999,
          0.8270000000000001,
          0.875,
          0.659,
          0.6759999999999999,
          0.833,
          0.722,
          0.594,
          0.91,
          0.9059999999999999,
          0.79,
          0.664,
          0.547,
          0.639,
          0.813,
          0.47,
          0.779,
          0.8290000000000001,
          0.88,
          0.669,
          0.66,
          0.826,
          0.73,
          0.593,
          0.919,
          0.894,
          0.792,
          0.6559999999999999,
          0.5529999999999999,
          0.6709999999999999,
          0.747,
          0.391,
          0.7440000000000001,
          0.594,
          0.46299999999999997,
          0.738,
          0.557,
          0.643,
          0.40700000000000003,
          0.574,
          0.363,
          0.615,
          0.557,
          0.6709999999999999,
          0.747,
          0.391,
          0.7440000000000001,
          0.594,
          0.46299999999999997,
          0.738,
          0.557,
          0.643,
          0.40700000000000003,
          0.574,
          0.363,
          0.615,
          0.557,
          0.6709999999999999,
          0.747,
          0.391,
          0.7440000000000001,
          0.594,
          0.46299999999999997,
          0.738,
          0.557,
          0.643,
          0.40700000000000003,
          0.574,
          0.363,
          0.615,
          0.632,
          0.614,
          0.693,
          0.6779999999999999,
          0.6729999999999999,
          0.49200000000000005,
          0.447,
          0.631,
          0.787,
          0.826,
          0.6409999999999999,
          0.266,
          0.735,
          0.684,
          0.64,
          0.611,
          0.6940000000000001,
          0.667,
          0.672,
          0.494,
          0.44299999999999995,
          0.643,
          0.7709999999999999,
          0.8220000000000001,
          0.632,
          0.267,
          0.737
         ],
         "yaxis": "y"
        },
        {
         "customdata": [
          [
           "SoulFly"
          ],
          [
           "Gone Till November"
          ],
          [
           "Blame On You"
          ],
          [
           "Don't Forget"
          ],
          [
           "Tombstone"
          ],
          [
           "All I Got"
          ],
          [
           "Richer (feat. Polo G)"
          ],
          [
           "Street Runner"
          ],
          [
           "Pills & Billz"
          ],
          [
           "How The Game Go"
          ],
          [
           "Shock Da World"
          ],
          [
           "What's Love??"
          ],
          [
           "OMDB"
          ],
          [
           "Invisible Scar"
          ],
          [
           "Calling"
          ],
          [
           "Sneaky Links"
          ],
          [
           "Believe Me"
          ],
          [
           "Moving On"
          ],
          [
           "Changing"
          ],
          [
           "SoulFly"
          ],
          [
           "Gone Till November"
          ],
          [
           "Blame On You"
          ],
          [
           "Don't Forget"
          ],
          [
           "Tombstone"
          ],
          [
           "All I Got"
          ],
          [
           "Richer (feat. Polo G)"
          ],
          [
           "Street Runner"
          ],
          [
           "Pills & Billz"
          ],
          [
           "How The Game Go"
          ],
          [
           "Shock Da World"
          ],
          [
           "What's Love??"
          ],
          [
           "OMDB"
          ],
          [
           "Invisible Scar"
          ],
          [
           "Calling"
          ],
          [
           "Sneaky Links"
          ],
          [
           "Believe Me"
          ],
          [
           "Moving On"
          ],
          [
           "Changing"
          ],
          [
           "Pray 4 Love"
          ],
          [
           "Fuck The World"
          ],
          [
           "Thief In The Night"
          ],
          [
           "Thug Life"
          ],
          [
           "I Remember"
          ],
          [
           "Rags2Riches (feat. ATR Son Son)"
          ],
          [
           "No Weakness"
          ],
          [
           "Roaming"
          ],
          [
           "The Greatest"
          ],
          [
           "Ribbon In The Sky"
          ],
          [
           "5% Tints"
          ],
          [
           "Girl Of My Dreams"
          ],
          [
           "Thug Motivation"
          ],
          [
           "Dark Clouds"
          ],
          [
           "Pray 4 Love"
          ],
          [
           "F*** The World"
          ],
          [
           "Thief In The Night"
          ],
          [
           "Thug Life"
          ],
          [
           "I Remember"
          ],
          [
           "Rags2Riches (feat. ATR Son Son)"
          ],
          [
           "No Weakness"
          ],
          [
           "Roaming"
          ],
          [
           "The Greatest"
          ],
          [
           "Ribbon In The Sky"
          ],
          [
           "5% Tints"
          ],
          [
           "Girl Of My Dreams"
          ],
          [
           "Thug Motivation"
          ],
          [
           "Dark Clouds"
          ],
          [
           "Sky Priority"
          ],
          [
           "Dark Conversations"
          ],
          [
           "Close Enough to Hurt"
          ],
          [
           "Green Light"
          ],
          [
           "Brace Face"
          ],
          [
           "Poison"
          ],
          [
           "Cuban Links"
          ],
          [
           "Soldier Life"
          ],
          [
           "Counted Steps"
          ],
          [
           "Titanic"
          ],
          [
           "Extra"
          ],
          [
           "Abandoned"
          ],
          [
           "Chip On My Shoulder"
          ],
          [
           "Heart On Ice - Remix"
          ],
          [
           "Sky Priority"
          ],
          [
           "Dark Conversation"
          ],
          [
           "Close Enough To Hurt"
          ],
          [
           "Green Light"
          ],
          [
           "Brace Face"
          ],
          [
           "Poison"
          ],
          [
           "Cuban Links (feat. Kevin Gates)"
          ],
          [
           "Soldier Life"
          ],
          [
           "Counted Steps"
          ],
          [
           "Titanic (feat. Kevin Gates)"
          ],
          [
           "Extra"
          ],
          [
           "Abandoned"
          ],
          [
           "Chip On My Shoulder"
          ],
          [
           "Heart On Ice (Remix) [feat. Lil Durk]"
          ],
          [
           "Popular Loner"
          ],
          [
           "Hard Times"
          ],
          [
           "PTSD"
          ],
          [
           "Heart On Ice"
          ],
          [
           "Paint The Sky Red"
          ],
          [
           "Calabasas (feat. E-40)"
          ],
          [
           "Proud of Me"
          ],
          [
           "No Love"
          ],
          [
           "How Would You Feel"
          ],
          [
           "True Story"
          ],
          [
           "ATR for Life"
          ],
          [
           "Bottom Boy Survivor"
          ],
          [
           "Popular Loner"
          ],
          [
           "Hard Times"
          ],
          [
           "PTSD"
          ],
          [
           "Heart On Ice"
          ],
          [
           "Paint The Sky Red"
          ],
          [
           "Calabasas (feat. E-40)"
          ],
          [
           "Proud Of Me"
          ],
          [
           "No Love"
          ],
          [
           "How Would You Feel"
          ],
          [
           "True Story"
          ],
          [
           "ATR For Life"
          ],
          [
           "Bottom Boy Survivor"
          ],
          [
           "Yessir"
          ],
          [
           "Let Me Down"
          ],
          [
           "My Love"
          ],
          [
           "Feel The Same Way (feat. Moneybagg Yo)"
          ],
          [
           "Heart 4 Sale"
          ],
          [
           "Pressure"
          ],
          [
           "Weight On My Shoulders"
          ],
          [
           "So Many"
          ],
          [
           "Having My Way"
          ],
          [
           "Numb"
          ],
          [
           "Red Light"
          ],
          [
           "Can't Sleep"
          ],
          [
           "Yessir"
          ],
          [
           "Let Me Down"
          ],
          [
           "My Love"
          ],
          [
           "Feel The Same Way (feat. Moneybagg Yo)"
          ],
          [
           "Heart 4 Sale"
          ],
          [
           "Pressure"
          ],
          [
           "Weight On My Shoulders"
          ],
          [
           "So Many"
          ],
          [
           "Having My Way"
          ],
          [
           "Numb"
          ],
          [
           "Red Light"
          ],
          [
           "Can't Sleep"
          ],
          [
           "Tomorrow"
          ],
          [
           "Valid"
          ],
          [
           "Praying Grandmothers"
          ],
          [
           "Way Way Up"
          ],
          [
           "WYB"
          ],
          [
           "Jan2Jan"
          ],
          [
           "Changing On Me"
          ],
          [
           "I Get Around"
          ],
          [
           "Thug Love"
          ],
          [
           "Boom"
          ],
          [
           "Tomorrow"
          ],
          [
           "Valid"
          ],
          [
           "Praying Grandmothers"
          ],
          [
           "Way Way Up"
          ],
          [
           "WYB"
          ],
          [
           "Jan2Jan"
          ],
          [
           "Changing On Me"
          ],
          [
           "I Get Around"
          ],
          [
           "Thug Love"
          ],
          [
           "Boom"
          ]
         ],
         "hovertemplate": "Artist(s)=Rod Wave<br>Positiveness (valence)=%{x}<br>Energy=%{y}<br>Song Title=%{customdata[0]}<extra></extra>",
         "legendgroup": "Rod Wave",
         "marker": {
          "color": "#19d3f3",
          "symbol": "circle"
         },
         "mode": "markers",
         "name": "Rod Wave",
         "showlegend": true,
         "type": "scattergl",
         "x": [
          0.405,
          0.384,
          0.7120000000000001,
          0.882,
          0.535,
          0.682,
          0.7340000000000001,
          0.433,
          0.696,
          0.631,
          0.535,
          0.649,
          0.184,
          0.455,
          0.35100000000000003,
          0.5870000000000001,
          0.42700000000000005,
          0.7440000000000001,
          0.248,
          0.392,
          0.38,
          0.736,
          0.8540000000000001,
          0.528,
          0.7659999999999999,
          0.795,
          0.46,
          0.6679999999999999,
          0.591,
          0.534,
          0.628,
          0.14400000000000002,
          0.521,
          0.327,
          0.5760000000000001,
          0.495,
          0.7959999999999999,
          0.305,
          0.397,
          0.466,
          0.276,
          0.63,
          0.389,
          0.22699999999999998,
          0.55,
          0.325,
          0.586,
          0.39799999999999996,
          0.634,
          0.35,
          0.504,
          0.42,
          0.467,
          0.434,
          0.355,
          0.5539999999999999,
          0.319,
          0.19399999999999998,
          0.505,
          0.41,
          0.539,
          0.35700000000000004,
          0.342,
          0.35,
          0.455,
          0.40299999999999997,
          0.486,
          0.61,
          0.2,
          0.292,
          0.604,
          0.759,
          0.77,
          0.35700000000000004,
          0.799,
          0.17800000000000002,
          0.503,
          0.6729999999999999,
          0.623,
          0.315,
          0.494,
          0.594,
          0.332,
          0.26899999999999996,
          0.617,
          0.7490000000000001,
          0.852,
          0.358,
          0.809,
          0.18600000000000003,
          0.507,
          0.701,
          0.622,
          0.273,
          0.773,
          0.544,
          0.259,
          0.244,
          0.7090000000000001,
          0.6829999999999999,
          0.311,
          0.386,
          0.7390000000000001,
          0.5429999999999999,
          0.239,
          0.39,
          0.773,
          0.544,
          0.259,
          0.244,
          0.7090000000000001,
          0.6829999999999999,
          0.311,
          0.386,
          0.7390000000000001,
          0.5429999999999999,
          0.239,
          0.39,
          0.252,
          0.321,
          0.792,
          0.596,
          0.5660000000000001,
          0.767,
          0.885,
          0.455,
          0.634,
          0.42100000000000004,
          0.6779999999999999,
          0.89,
          0.252,
          0.321,
          0.792,
          0.596,
          0.688,
          0.767,
          0.885,
          0.455,
          0.634,
          0.42100000000000004,
          0.6779999999999999,
          0.89,
          0.753,
          0.6940000000000001,
          0.485,
          0.586,
          0.386,
          0.475,
          0.319,
          0.9259999999999999,
          0.414,
          0.539,
          0.7490000000000001,
          0.695,
          0.48700000000000004,
          0.584,
          0.381,
          0.502,
          0.319,
          0.9229999999999999,
          0.414,
          0.542
         ],
         "xaxis": "x",
         "y": [
          0.517,
          0.537,
          0.684,
          0.6409999999999999,
          0.637,
          0.509,
          0.41100000000000003,
          0.61,
          0.5479999999999999,
          0.727,
          0.53,
          0.359,
          0.523,
          0.586,
          0.585,
          0.561,
          0.5329999999999999,
          0.748,
          0.511,
          0.502,
          0.552,
          0.6829999999999999,
          0.677,
          0.5539999999999999,
          0.532,
          0.43700000000000006,
          0.586,
          0.434,
          0.736,
          0.519,
          0.439,
          0.5329999999999999,
          0.6459999999999999,
          0.5670000000000001,
          0.486,
          0.514,
          0.7609999999999999,
          0.45399999999999996,
          0.529,
          0.69,
          0.657,
          0.327,
          0.621,
          0.252,
          0.532,
          0.41600000000000004,
          0.41,
          0.738,
          0.585,
          0.547,
          0.556,
          0.593,
          0.5379999999999999,
          0.6709999999999999,
          0.518,
          0.45,
          0.6829999999999999,
          0.318,
          0.675,
          0.618,
          0.495,
          0.785,
          0.65,
          0.547,
          0.555,
          0.586,
          0.43700000000000006,
          0.648,
          0.515,
          0.434,
          0.711,
          0.616,
          0.652,
          0.716,
          0.737,
          0.361,
          0.46299999999999997,
          0.517,
          0.365,
          0.37200000000000005,
          0.43700000000000006,
          0.648,
          0.519,
          0.434,
          0.711,
          0.61,
          0.8109999999999999,
          0.7140000000000001,
          0.738,
          0.361,
          0.465,
          0.518,
          0.36700000000000005,
          0.414,
          0.62,
          0.6659999999999999,
          0.589,
          0.389,
          0.512,
          0.693,
          0.527,
          0.6609999999999999,
          0.593,
          0.5429999999999999,
          0.601,
          0.539,
          0.62,
          0.6659999999999999,
          0.589,
          0.389,
          0.512,
          0.693,
          0.527,
          0.6609999999999999,
          0.593,
          0.5429999999999999,
          0.601,
          0.539,
          0.618,
          0.581,
          0.7,
          0.679,
          0.45799999999999996,
          0.7390000000000001,
          0.62,
          0.7090000000000001,
          0.5479999999999999,
          0.444,
          0.6779999999999999,
          0.715,
          0.618,
          0.581,
          0.7,
          0.679,
          0.488,
          0.7390000000000001,
          0.62,
          0.7090000000000001,
          0.5479999999999999,
          0.444,
          0.6779999999999999,
          0.715,
          0.569,
          0.73,
          0.741,
          0.5720000000000001,
          0.6679999999999999,
          0.7040000000000001,
          0.8190000000000001,
          0.89,
          0.517,
          0.54,
          0.569,
          0.728,
          0.74,
          0.5720000000000001,
          0.6679999999999999,
          0.701,
          0.8190000000000001,
          0.89,
          0.517,
          0.539
         ],
         "yaxis": "y"
        },
        {
         "customdata": [
          [
           "Black Panther"
          ],
          [
           "All The Stars (with SZA)"
          ],
          [
           "X (with 2 Chainz & Saudi)"
          ],
          [
           "The Ways (with Swae Lee)"
          ],
          [
           "Opps (with Yugen Blakrok)"
          ],
          [
           "I Am"
          ],
          [
           "Paramedic!"
          ],
          [
           "Bloody Waters (with Anderson .Paak & James Blake)"
          ],
          [
           "King's Dead (with Kendrick Lamar, Future & James Blake)"
          ],
          [
           "Redemption Interlude"
          ],
          [
           "Redemption (with Babes Wodumo)"
          ],
          [
           "Seasons (with Sjava & Reason)"
          ],
          [
           "Big Shot (with Travis Scott)"
          ],
          [
           "Pray For Me (with Kendrick Lamar)"
          ],
          [
           "Black Panther"
          ],
          [
           "All The Stars"
          ],
          [
           "X"
          ],
          [
           "The Ways"
          ],
          [
           "Opps"
          ],
          [
           "I Am"
          ],
          [
           "Paramedic!"
          ],
          [
           "Bloody Waters"
          ],
          [
           "King's Dead"
          ],
          [
           "Redemption Interlude"
          ],
          [
           "Redemption"
          ],
          [
           "Seasons"
          ],
          [
           "Big Shot"
          ],
          [
           "Pray For Me"
          ],
          [
           "Black Panther"
          ],
          [
           "All The Stars (with SZA)"
          ],
          [
           "X (with 2 Chainz & Saudi)"
          ],
          [
           "The Ways (with Swae Lee)"
          ],
          [
           "Opps (with Yugen Blakrok)"
          ],
          [
           "I Am"
          ],
          [
           "Paramedic!"
          ],
          [
           "Bloody Waters (with Anderson .Paak & James Blake)"
          ],
          [
           "King's Dead (with Kendrick Lamar, Future & James Blake)"
          ],
          [
           "Redemption Interlude"
          ],
          [
           "Redemption (with Babes Wodumo)"
          ],
          [
           "Seasons (with Sjava & Reason)"
          ],
          [
           "Big Shot (with Travis Scott)"
          ],
          [
           "Pray For Me (with Kendrick Lamar)"
          ],
          [
           "DUCKWORTH."
          ],
          [
           "GOD."
          ],
          [
           "FEAR."
          ],
          [
           "XXX. FEAT. U2."
          ],
          [
           "LOVE. FEAT. ZACARI."
          ],
          [
           "LUST."
          ],
          [
           "HUMBLE."
          ],
          [
           "PRIDE."
          ],
          [
           "LOYALTY. FEAT. RIHANNA."
          ],
          [
           "FEEL."
          ],
          [
           "ELEMENT."
          ],
          [
           "YAH."
          ],
          [
           "DNA."
          ],
          [
           "BLOOD."
          ],
          [
           "DUCKWORTH."
          ],
          [
           "GOD."
          ],
          [
           "FEAR."
          ],
          [
           "XXX."
          ],
          [
           "LOVE."
          ],
          [
           "LUST."
          ],
          [
           "HUMBLE."
          ],
          [
           "PRIDE."
          ],
          [
           "LOYALTY."
          ],
          [
           "FEEL."
          ],
          [
           "ELEMENT."
          ],
          [
           "YAH."
          ],
          [
           "DNA."
          ],
          [
           "BLOOD."
          ],
          [
           "DUCKWORTH."
          ],
          [
           "GOD."
          ],
          [
           "FEAR."
          ],
          [
           "XXX. FEAT. U2"
          ],
          [
           "LOVE. FEAT. ZACARI."
          ],
          [
           "LUST."
          ],
          [
           "HUMBLE."
          ],
          [
           "PRIDE."
          ],
          [
           "LOYALTY. FEAT. RIHANNA."
          ],
          [
           "FEEL."
          ],
          [
           "ELEMENT."
          ],
          [
           "YAH."
          ],
          [
           "DNA."
          ],
          [
           "BLOOD."
          ],
          [
           "BLOOD."
          ],
          [
           "DNA."
          ],
          [
           "YAH."
          ],
          [
           "ELEMENT."
          ],
          [
           "FEEL."
          ],
          [
           "LOYALTY. FEAT. RIHANNA."
          ],
          [
           "PRIDE."
          ],
          [
           "HUMBLE."
          ],
          [
           "LUST."
          ],
          [
           "LOVE. FEAT. ZACARI."
          ],
          [
           "XXX. FEAT. U2."
          ],
          [
           "FEAR."
          ],
          [
           "GOD."
          ],
          [
           "DUCKWORTH."
          ],
          [
           "BLOOD."
          ],
          [
           "DNA."
          ],
          [
           "YAH."
          ],
          [
           "ELEMENT."
          ],
          [
           "FEEL."
          ],
          [
           "LOYALTY."
          ],
          [
           "PRIDE."
          ],
          [
           "HUMBLE."
          ],
          [
           "LUST."
          ],
          [
           "LOVE."
          ],
          [
           "XXX."
          ],
          [
           "FEAR."
          ],
          [
           "GOD."
          ],
          [
           "DUCKWORTH."
          ],
          [
           "BLOOD."
          ],
          [
           "DNA."
          ],
          [
           "YAH."
          ],
          [
           "ELEMENT."
          ],
          [
           "FEEL."
          ],
          [
           "LOYALTY. FEAT. RIHANNA."
          ],
          [
           "PRIDE."
          ],
          [
           "HUMBLE."
          ],
          [
           "LUST."
          ],
          [
           "LOVE. FEAT. ZACARI."
          ],
          [
           "XXX. FEAT. U2."
          ],
          [
           "FEAR."
          ],
          [
           "GOD."
          ],
          [
           "DUCKWORTH."
          ],
          [
           "untitled 01 | 08.19.2014."
          ],
          [
           "untitled 02 | 06.23.2014."
          ],
          [
           "untitled 03 | 05.28.2013."
          ],
          [
           "untitled 04 | 08.14.2014."
          ],
          [
           "untitled 05 | 09.21.2014."
          ],
          [
           "untitled 06 | 06.30.2014."
          ],
          [
           "untitled 07 | 2014 - 2016"
          ],
          [
           "untitled 08 | 09.06.2014."
          ],
          [
           "untitled 01 | 08.19.2014."
          ],
          [
           "untitled 02 | 06.23.2014."
          ],
          [
           "untitled 03 | 05.28.2013."
          ],
          [
           "untitled 04 | 08.14.2014."
          ],
          [
           "untitled 05 | 09.21.2014."
          ],
          [
           "untitled 06 | 06.30.2014."
          ],
          [
           "untitled 07 | 2014 - 2016"
          ],
          [
           "untitled 08 | 09.06.2014."
          ],
          [
           "Wesley's Theory"
          ],
          [
           "For Free? - Interlude"
          ],
          [
           "King Kunta"
          ],
          [
           "Institutionalized"
          ],
          [
           "These Walls"
          ],
          [
           "u"
          ],
          [
           "Alright"
          ],
          [
           "For Sale? - Interlude"
          ],
          [
           "Momma"
          ],
          [
           "Hood Politics"
          ],
          [
           "How Much A Dollar Cost"
          ],
          [
           "Complexion (A Zulu Love)"
          ],
          [
           "The Blacker The Berry"
          ],
          [
           "You Ain't Gotta Lie (Momma Said)"
          ],
          [
           "i"
          ],
          [
           "Mortal Man"
          ],
          [
           "Wesley's Theory"
          ],
          [
           "For Free? - Interlude"
          ],
          [
           "King Kunta"
          ],
          [
           "Institutionalized"
          ],
          [
           "These Walls"
          ],
          [
           "u"
          ],
          [
           "Alright"
          ],
          [
           "For Sale? - Interlude"
          ],
          [
           "Momma"
          ],
          [
           "Hood Politics"
          ],
          [
           "How Much A Dollar Cost"
          ],
          [
           "Complexion (A Zulu Love)"
          ],
          [
           "The Blacker The Berry"
          ],
          [
           "You Ain't Gotta Lie (Momma Said)"
          ],
          [
           "i"
          ],
          [
           "Mortal Man"
          ],
          [
           "Wesley's Theory"
          ],
          [
           "For Free? - Interlude"
          ],
          [
           "King Kunta"
          ],
          [
           "Institutionalized"
          ],
          [
           "These Walls"
          ],
          [
           "u"
          ],
          [
           "Alright"
          ],
          [
           "For Sale? - Interlude"
          ],
          [
           "Momma"
          ],
          [
           "Hood Politics"
          ],
          [
           "How Much A Dollar Cost"
          ],
          [
           "Complexion (A Zulu Love)"
          ],
          [
           "The Blacker The Berry"
          ],
          [
           "You Ain't Gotta Lie (Momma Said)"
          ],
          [
           "i"
          ],
          [
           "Mortal Man"
          ],
          [
           "Wesley's Theory"
          ],
          [
           "For Free? - Interlude"
          ],
          [
           "King Kunta"
          ],
          [
           "Institutionalized"
          ],
          [
           "These Walls"
          ],
          [
           "u"
          ],
          [
           "Alright"
          ],
          [
           "For Sale? - Interlude"
          ],
          [
           "Momma"
          ],
          [
           "Hood Politics"
          ],
          [
           "How Much A Dollar Cost"
          ],
          [
           "Complexion (A Zulu Love)"
          ],
          [
           "The Blacker The Berry"
          ],
          [
           "You Ain't Gotta Lie (Momma Said)"
          ],
          [
           "i"
          ],
          [
           "Mortal Man"
          ],
          [
           "Sherane a.k.a Master Splinter’s Daughter"
          ],
          [
           "Bitch, Don’t Kill My Vibe"
          ],
          [
           "Backseat Freestyle"
          ],
          [
           "The Art of Peer Pressure"
          ],
          [
           "Money Trees"
          ],
          [
           "Poetic Justice"
          ],
          [
           "good kid"
          ],
          [
           "m.A.A.d city"
          ],
          [
           "Swimming Pools (Drank) - Extended Version"
          ],
          [
           "Sing About Me, I'm Dying Of Thirst"
          ],
          [
           "Real"
          ],
          [
           "Compton"
          ],
          [
           "Bitch, Don’t Kill My Vibe - Remix"
          ],
          [
           "Sherane a.k.a Master Splinter’s Daughter"
          ],
          [
           "Bitch, Don’t Kill My Vibe"
          ],
          [
           "Backseat Freestyle"
          ],
          [
           "The Art of Peer Pressure"
          ],
          [
           "Money Trees"
          ],
          [
           "Poetic Justice"
          ],
          [
           "good kid"
          ],
          [
           "m.A.A.d city"
          ],
          [
           "Swimming Pools (Drank) - Extended Version"
          ],
          [
           "Sing About Me, I'm Dying Of Thirst"
          ],
          [
           "Real"
          ],
          [
           "Compton"
          ],
          [
           "Bitch, Don’t Kill My Vibe - Remix"
          ],
          [
           "Sherane a.k.a Master Splinter’s Daughter"
          ],
          [
           "Bitch, Don’t Kill My Vibe"
          ],
          [
           "Backseat Freestyle"
          ],
          [
           "The Art of Peer Pressure"
          ],
          [
           "Money Trees"
          ],
          [
           "Poetic Justice"
          ],
          [
           "good kid"
          ],
          [
           "m.A.A.d city"
          ],
          [
           "Swimming Pools (Drank) - Extended Version"
          ],
          [
           "Sing About Me, I'm Dying Of Thirst"
          ],
          [
           "Real"
          ],
          [
           "Compton"
          ],
          [
           "Sherane a.k.a Master Splinter’s Daughter"
          ],
          [
           "Bitch, Don’t Kill My Vibe"
          ],
          [
           "Backseat Freestyle"
          ],
          [
           "The Art of Peer Pressure"
          ],
          [
           "Money Trees"
          ],
          [
           "Poetic Justice"
          ],
          [
           "good kid"
          ],
          [
           "m.A.A.d city"
          ],
          [
           "Swimming Pools (Drank) - Extended Version"
          ],
          [
           "Sing About Me, I'm Dying Of Thirst"
          ],
          [
           "Real"
          ],
          [
           "Compton"
          ],
          [
           "Sherane a.k.a Master Splinter’s Daughter"
          ],
          [
           "Bitch, Don’t Kill My Vibe"
          ],
          [
           "Backseat Freestyle"
          ],
          [
           "The Art of Peer Pressure"
          ],
          [
           "Money Trees"
          ],
          [
           "Poetic Justice"
          ],
          [
           "good kid"
          ],
          [
           "m.A.A.d city"
          ],
          [
           "Swimming Pools (Drank) - Extended Version"
          ],
          [
           "Sing About Me, I'm Dying Of Thirst"
          ],
          [
           "Real"
          ],
          [
           "Compton"
          ],
          [
           "Bitch, Don’t Kill My Vibe - Remix"
          ],
          [
           "Bitch, Don’t Kill My Vibe - International Remix / Explicit Version"
          ],
          [
           "Sherane a.k.a Master Splinter’s Daughter"
          ],
          [
           "Bitch, Don’t Kill My Vibe"
          ],
          [
           "Backseat Freestyle"
          ],
          [
           "The Art of Peer Pressure"
          ],
          [
           "Money Trees"
          ],
          [
           "Poetic Justice"
          ],
          [
           "good kid"
          ],
          [
           "m.A.A.d city"
          ],
          [
           "Swimming Pools (Drank) - Extended Version"
          ],
          [
           "Sing About Me, I'm Dying Of Thirst"
          ],
          [
           "Real"
          ],
          [
           "Compton"
          ],
          [
           "Bitch, Don’t Kill My Vibe - Remix"
          ],
          [
           "Sherane a.k.a Master Splinter’s Daughter"
          ],
          [
           "Bitch, Don’t Kill My Vibe"
          ],
          [
           "Backseat Freestyle"
          ],
          [
           "The Art of Peer Pressure"
          ],
          [
           "Money Trees"
          ],
          [
           "Poetic Justice"
          ],
          [
           "good kid"
          ],
          [
           "m.A.A.d city"
          ],
          [
           "Swimming Pools (Drank) - Extended Version"
          ],
          [
           "Sing About Me, I'm Dying Of Thirst"
          ],
          [
           "Real"
          ],
          [
           "Compton"
          ],
          [
           "Bitch, Don’t Kill My Vibe - Remix"
          ],
          [
           "F*ck Your Ethnicity"
          ],
          [
           "Hol' Up"
          ],
          [
           "A.D.H.D"
          ],
          [
           "No Make-Up (Her Vice) (feat. Colin Munroe)"
          ],
          [
           "Tammy's Song (Her Evils)"
          ],
          [
           "Chapter Six"
          ],
          [
           "Ronald Reagan Era"
          ],
          [
           "Poe Mans Dreams (His Vice) (feat. GLC)"
          ],
          [
           "Chapter Ten"
          ],
          [
           "Keisha's Song (Her Pain) (feat. Ashtro Bot)"
          ],
          [
           "Rigamortus"
          ],
          [
           "Kush & Corinthians (feat. BJ The Chicago Kid)"
          ],
          [
           "Blow My High (Members Only)"
          ],
          [
           "Ab-Souls Outro (feat. Ab-Soul)"
          ],
          [
           "HiiiPower"
          ],
          [
           "Growing Apart (To Get Closer)"
          ],
          [
           "Ignorance Is Bliss"
          ],
          [
           "P&P 1.5"
          ],
          [
           "Alien Girl (Today W/ Her)"
          ],
          [
           "Opposites Attract (Tomorrow W/O Her)"
          ],
          [
           "Michael Jordan"
          ],
          [
           "R.O.T.C (Interlude)"
          ],
          [
           "Barbed Wire"
          ],
          [
           "Average Joe"
          ],
          [
           "H.O.C"
          ],
          [
           "Cut You Off (To Grow Closer)"
          ],
          [
           "She Needs Me (Remix)"
          ]
         ],
         "hovertemplate": "Artist(s)=Kendrick Lamar<br>Positiveness (valence)=%{x}<br>Energy=%{y}<br>Song Title=%{customdata[0]}<extra></extra>",
         "legendgroup": "Kendrick Lamar",
         "marker": {
          "color": "#FF6692",
          "symbol": "circle"
         },
         "mode": "markers",
         "name": "Kendrick Lamar",
         "showlegend": true,
         "type": "scattergl",
         "x": [
          0.48,
          0.552,
          0.405,
          0.589,
          0.847,
          0.32,
          0.47100000000000003,
          0.20199999999999999,
          0.40700000000000003,
          0.223,
          0.642,
          0.308,
          0.284,
          0.188,
          0.39399999999999996,
          0.535,
          0.415,
          0.617,
          0.848,
          0.32,
          0.508,
          0.183,
          0.40700000000000003,
          0.223,
          0.644,
          0.311,
          0.249,
          0.188,
          0.39399999999999996,
          0.535,
          0.415,
          0.617,
          0.848,
          0.32,
          0.508,
          0.183,
          0.40700000000000003,
          0.223,
          0.644,
          0.311,
          0.249,
          0.188,
          0.632,
          0.205,
          0.434,
          0.293,
          0.779,
          0.5660000000000001,
          0.42100000000000004,
          0.37,
          0.419,
          0.5529999999999999,
          0.483,
          0.648,
          0.42200000000000004,
          0.494,
          0.636,
          0.171,
          0.452,
          0.27,
          0.78,
          0.56,
          0.374,
          0.386,
          0.392,
          0.5529999999999999,
          0.495,
          0.595,
          0.424,
          0.494,
          0.636,
          0.171,
          0.452,
          0.27,
          0.78,
          0.56,
          0.374,
          0.386,
          0.392,
          0.5529999999999999,
          0.495,
          0.595,
          0.424,
          0.494,
          0.494,
          0.42200000000000004,
          0.648,
          0.483,
          0.5529999999999999,
          0.419,
          0.37,
          0.42100000000000004,
          0.5660000000000001,
          0.779,
          0.293,
          0.434,
          0.205,
          0.632,
          0.494,
          0.424,
          0.595,
          0.495,
          0.5529999999999999,
          0.392,
          0.386,
          0.374,
          0.56,
          0.78,
          0.27,
          0.452,
          0.171,
          0.636,
          0.494,
          0.424,
          0.595,
          0.495,
          0.5529999999999999,
          0.392,
          0.386,
          0.374,
          0.56,
          0.78,
          0.27,
          0.452,
          0.171,
          0.636,
          0.107,
          0.09300000000000001,
          0.562,
          0.21899999999999997,
          0.42200000000000004,
          0.645,
          0.324,
          0.6859999999999999,
          0.111,
          0.126,
          0.5720000000000001,
          0.21,
          0.42200000000000004,
          0.6409999999999999,
          0.35700000000000004,
          0.659,
          0.507,
          0.745,
          0.489,
          0.568,
          0.373,
          0.58,
          0.5579999999999999,
          0.276,
          0.515,
          0.369,
          0.33399999999999996,
          0.37,
          0.27,
          0.672,
          0.753,
          0.41600000000000004,
          0.507,
          0.745,
          0.489,
          0.568,
          0.373,
          0.58,
          0.5579999999999999,
          0.276,
          0.515,
          0.369,
          0.33399999999999996,
          0.37,
          0.27,
          0.672,
          0.753,
          0.41600000000000004,
          0.57,
          0.7170000000000001,
          0.461,
          0.5529999999999999,
          0.375,
          0.56,
          0.5,
          0.276,
          0.505,
          0.358,
          0.336,
          0.39299999999999996,
          0.297,
          0.703,
          0.705,
          0.48,
          0.57,
          0.7170000000000001,
          0.461,
          0.5529999999999999,
          0.375,
          0.56,
          0.5,
          0.276,
          0.505,
          0.358,
          0.336,
          0.39299999999999996,
          0.297,
          0.703,
          0.705,
          0.48,
          0.317,
          0.0985,
          0.6459999999999999,
          0.41100000000000003,
          0.344,
          0.647,
          0.41,
          0.217,
          0.26,
          0.371,
          0.174,
          0.225,
          0.145,
          0.325,
          0.0927,
          0.631,
          0.41600000000000004,
          0.36,
          0.632,
          0.395,
          0.162,
          0.257,
          0.37799999999999995,
          0.155,
          0.201,
          0.136,
          0.317,
          0.0985,
          0.6459999999999999,
          0.41100000000000003,
          0.344,
          0.647,
          0.41,
          0.217,
          0.26,
          0.371,
          0.174,
          0.225,
          0.325,
          0.0927,
          0.631,
          0.41600000000000004,
          0.36,
          0.632,
          0.395,
          0.162,
          0.257,
          0.37799999999999995,
          0.155,
          0.201,
          0.317,
          0.0985,
          0.6459999999999999,
          0.41100000000000003,
          0.344,
          0.647,
          0.41,
          0.217,
          0.26,
          0.371,
          0.174,
          0.225,
          0.145,
          0.102,
          0.317,
          0.0985,
          0.6459999999999999,
          0.41100000000000003,
          0.344,
          0.647,
          0.41,
          0.217,
          0.26,
          0.371,
          0.174,
          0.225,
          0.134,
          0.325,
          0.0927,
          0.631,
          0.41600000000000004,
          0.36,
          0.632,
          0.395,
          0.162,
          0.257,
          0.37799999999999995,
          0.155,
          0.201,
          0.136,
          0.52,
          0.5770000000000001,
          0.5820000000000001,
          0.213,
          0.52,
          0.67,
          0.3,
          0.597,
          0.541,
          0.19899999999999998,
          0.628,
          0.306,
          0.84,
          0.639,
          0.5379999999999999,
          0.59,
          0.764,
          0.593,
          0.259,
          0.5870000000000001,
          0.522,
          0.368,
          0.325,
          0.218,
          0.371,
          0.614,
          0.313
         ],
         "xaxis": "x",
         "y": [
          0.5820000000000001,
          0.633,
          0.47100000000000003,
          0.72,
          0.775,
          0.583,
          0.652,
          0.606,
          0.7240000000000001,
          0.449,
          0.765,
          0.5539999999999999,
          0.478,
          0.677,
          0.591,
          0.627,
          0.46,
          0.687,
          0.777,
          0.583,
          0.639,
          0.605,
          0.7340000000000001,
          0.449,
          0.755,
          0.5660000000000001,
          0.495,
          0.677,
          0.591,
          0.627,
          0.46,
          0.687,
          0.777,
          0.583,
          0.639,
          0.605,
          0.7340000000000001,
          0.449,
          0.755,
          0.5660000000000001,
          0.495,
          0.677,
          0.731,
          0.557,
          0.479,
          0.619,
          0.585,
          0.562,
          0.621,
          0.535,
          0.535,
          0.7979999999999999,
          0.705,
          0.7,
          0.523,
          0.23800000000000002,
          0.728,
          0.561,
          0.473,
          0.617,
          0.585,
          0.545,
          0.5660000000000001,
          0.534,
          0.54,
          0.8009999999999999,
          0.682,
          0.6970000000000001,
          0.49700000000000005,
          0.23800000000000002,
          0.728,
          0.561,
          0.473,
          0.617,
          0.585,
          0.545,
          0.5660000000000001,
          0.534,
          0.54,
          0.8009999999999999,
          0.682,
          0.6970000000000001,
          0.49700000000000005,
          0.23800000000000002,
          0.23800000000000002,
          0.523,
          0.7,
          0.705,
          0.7979999999999999,
          0.535,
          0.535,
          0.621,
          0.562,
          0.585,
          0.619,
          0.479,
          0.557,
          0.731,
          0.23800000000000002,
          0.49700000000000005,
          0.6970000000000001,
          0.682,
          0.8009999999999999,
          0.54,
          0.534,
          0.5660000000000001,
          0.545,
          0.585,
          0.617,
          0.473,
          0.561,
          0.728,
          0.23800000000000002,
          0.49700000000000005,
          0.6970000000000001,
          0.682,
          0.8009999999999999,
          0.54,
          0.534,
          0.5660000000000001,
          0.545,
          0.585,
          0.617,
          0.473,
          0.561,
          0.728,
          0.584,
          0.508,
          0.5489999999999999,
          0.128,
          0.62,
          0.541,
          0.46299999999999997,
          0.524,
          0.5710000000000001,
          0.494,
          0.544,
          0.11,
          0.644,
          0.5479999999999999,
          0.451,
          0.522,
          0.787,
          0.8959999999999999,
          0.657,
          0.731,
          0.489,
          0.7979999999999999,
          0.7659999999999999,
          0.6859999999999999,
          0.743,
          0.6609999999999999,
          0.7290000000000001,
          0.5579999999999999,
          0.852,
          0.635,
          0.809,
          0.525,
          0.787,
          0.8959999999999999,
          0.657,
          0.731,
          0.489,
          0.7979999999999999,
          0.7659999999999999,
          0.6859999999999999,
          0.743,
          0.6609999999999999,
          0.7290000000000001,
          0.5579999999999999,
          0.852,
          0.635,
          0.809,
          0.525,
          0.778,
          0.892,
          0.639,
          0.745,
          0.484,
          0.7829999999999999,
          0.75,
          0.6970000000000001,
          0.737,
          0.627,
          0.732,
          0.5579999999999999,
          0.841,
          0.631,
          0.777,
          0.516,
          0.778,
          0.892,
          0.639,
          0.745,
          0.484,
          0.7829999999999999,
          0.75,
          0.6970000000000001,
          0.737,
          0.627,
          0.732,
          0.5579999999999999,
          0.841,
          0.631,
          0.777,
          0.516,
          0.508,
          0.698,
          0.6509999999999999,
          0.611,
          0.531,
          0.5720000000000001,
          0.831,
          0.7290000000000001,
          0.485,
          0.753,
          0.45799999999999996,
          0.907,
          0.778,
          0.502,
          0.685,
          0.645,
          0.561,
          0.537,
          0.561,
          0.833,
          0.6759999999999999,
          0.474,
          0.748,
          0.457,
          0.9109999999999999,
          0.772,
          0.508,
          0.698,
          0.6509999999999999,
          0.611,
          0.531,
          0.5720000000000001,
          0.831,
          0.7290000000000001,
          0.485,
          0.753,
          0.45799999999999996,
          0.907,
          0.502,
          0.685,
          0.645,
          0.561,
          0.537,
          0.561,
          0.833,
          0.6759999999999999,
          0.474,
          0.748,
          0.457,
          0.9109999999999999,
          0.508,
          0.698,
          0.6509999999999999,
          0.611,
          0.531,
          0.5720000000000001,
          0.831,
          0.7290000000000001,
          0.485,
          0.753,
          0.45799999999999996,
          0.907,
          0.778,
          0.8140000000000001,
          0.508,
          0.698,
          0.6509999999999999,
          0.611,
          0.531,
          0.5720000000000001,
          0.831,
          0.7290000000000001,
          0.485,
          0.753,
          0.45799999999999996,
          0.907,
          0.773,
          0.502,
          0.685,
          0.645,
          0.561,
          0.537,
          0.561,
          0.833,
          0.6759999999999999,
          0.474,
          0.748,
          0.457,
          0.9109999999999999,
          0.772,
          0.883,
          0.8690000000000001,
          0.799,
          0.696,
          0.835,
          0.537,
          0.828,
          0.892,
          0.738,
          0.8540000000000001,
          0.807,
          0.731,
          0.524,
          0.8390000000000001,
          0.8270000000000001,
          0.5329999999999999,
          0.8009999999999999,
          0.6920000000000001,
          0.537,
          0.8140000000000001,
          0.8029999999999999,
          0.779,
          0.843,
          0.733,
          0.591,
          0.6809999999999999,
          0.835
         ],
         "yaxis": "y"
        },
        {
         "customdata": [
          [
           "10/10 - Live at Radio City Music Hall"
          ],
          [
           "Never Enough - Live at Radio City Music Hall"
          ],
          [
           "Pluto Projector - Live at Radio City Music Hall"
          ],
          [
           "Untitled - Live at Radio City Music Hall"
          ],
          [
           "New York State Of Mind - Live at Radio City Music Hall"
          ],
          [
           "Corduroy Dreams - Live at Radio City Music Hall"
          ],
          [
           "Sunflower - Live at Radio City Music Hall"
          ],
          [
           "Best Friend - Live at Radio City Music Hall"
          ],
          [
           "Always - Live at Radio City Music Hall"
          ],
          [
           "10/10"
          ],
          [
           "Always"
          ],
          [
           "Laser Lights"
          ],
          [
           "Face to Face"
          ],
          [
           "Stressed Out"
          ],
          [
           "Never Had The Balls"
          ],
          [
           "Pluto Projector"
          ],
          [
           "Every Way"
          ],
          [
           "It Gets Better"
          ],
          [
           "It's Not The Same Anymore"
          ],
          [
           "Apricot Princess"
          ],
          [
           "Television / So Far So Good"
          ],
          [
           "Nothing"
          ],
          [
           "Sycamore Girl"
          ],
          [
           "Untitled"
          ],
          [
           "4 Seasons"
          ],
          [
           "Waiting Room"
          ],
          [
           "Rain Man"
          ],
          [
           "Never Enough"
          ],
          [
           "Happiness"
          ],
          [
           "Rex (Intro)"
          ],
          [
           "Paradise"
          ],
          [
           "Belly (The Grass Stains)"
          ],
          [
           "Corduroy Dreams"
          ],
          [
           "Japan"
          ],
          [
           "Portrait of Ned"
          ],
          [
           "Green Eyes, Pt. II"
          ],
          [
           "A Song About Being Sad"
          ],
          [
           "Know Love"
          ],
          [
           "Curfew..."
          ]
         ],
         "hovertemplate": "Artist(s)=Rex Orange County<br>Positiveness (valence)=%{x}<br>Energy=%{y}<br>Song Title=%{customdata[0]}<extra></extra>",
         "legendgroup": "Rex Orange County",
         "marker": {
          "color": "#B6E880",
          "symbol": "circle"
         },
         "mode": "markers",
         "name": "Rex Orange County",
         "showlegend": true,
         "type": "scattergl",
         "x": [
          0.266,
          0.40700000000000003,
          0.262,
          0.342,
          0.33399999999999996,
          0.28300000000000003,
          0.27399999999999997,
          0.322,
          0.267,
          0.293,
          0.39399999999999996,
          0.2,
          0.442,
          0.196,
          0.35100000000000003,
          0.188,
          0.428,
          0.521,
          0.359,
          0.249,
          0.318,
          0.37799999999999995,
          0.18899999999999997,
          0.32899999999999996,
          0.17,
          0.17800000000000002,
          0.321,
          0.536,
          0.19699999999999998,
          0.13,
          0.36200000000000004,
          0.08800000000000001,
          0.222,
          0.727,
          0.525,
          0.5870000000000001,
          0.247,
          0.187,
          0.201
         ],
         "xaxis": "x",
         "y": [
          0.691,
          0.9159999999999999,
          0.377,
          0.33299999999999996,
          0.402,
          0.539,
          0.858,
          0.8190000000000001,
          0.767,
          0.909,
          0.373,
          0.40299999999999997,
          0.441,
          0.319,
          0.677,
          0.21899999999999997,
          0.0994,
          0.379,
          0.317,
          0.46799999999999997,
          0.505,
          0.418,
          0.386,
          0.19899999999999998,
          0.45799999999999996,
          0.345,
          0.292,
          0.8909999999999999,
          0.235,
          0.245,
          0.528,
          0.0842,
          0.305,
          0.478,
          0.5479999999999999,
          0.747,
          0.263,
          0.235,
          0.19699999999999998
         ],
         "yaxis": "y"
        },
        {
         "customdata": [
          [
           "Situations"
          ],
          [
           "In The Mood"
          ],
          [
           "West Coast Getaway"
          ],
          [
           "Slow Jam Hour - Interlude"
          ],
          [
           "Come Thru"
          ],
          [
           "Birthday Suit"
          ],
          [
           "Once Upon A Time"
          ],
          [
           "You Could Be - Interlude"
          ],
          [
           "Hypnotized"
          ],
          [
           "Reassurance"
          ],
          [
           "Other Half"
          ],
          [
           "Miles In Between"
          ],
          [
           "Situations"
          ],
          [
           "In the Mood"
          ],
          [
           "West Coast Getaway (Feat. The Cool Kids)"
          ],
          [
           "Slow Jam Hour (Interlude)"
          ],
          [
           "Come Thru (Feat. Asher Roth)"
          ],
          [
           "Birthday Suit"
          ],
          [
           "Once Upon a Time"
          ],
          [
           "You Could Be (Interlude)"
          ],
          [
           "Hypnotized (Feat. Blu)"
          ],
          [
           "Reassurance"
          ],
          [
           "Other Half"
          ],
          [
           "Miles In Between (Feat. Joyce Wrice)"
          ],
          [
           "Situations"
          ],
          [
           "In the Mood"
          ],
          [
           "West Coast Getaway (feat. the Cool Kids)"
          ],
          [
           "Slow Jam Hour (Interlude)"
          ],
          [
           "Come Thru (feat. Asher Roth)"
          ],
          [
           "Birthday Suit"
          ],
          [
           "Once Upon a Time"
          ],
          [
           "You Could Be (Interlude)"
          ],
          [
           "Hypnotized (feat. Blu)"
          ],
          [
           "Reassurance"
          ],
          [
           "Other Half"
          ],
          [
           "Miles in Between (feat. Joyce Wrice)"
          ],
          [
           "For You (Intro)"
          ],
          [
           "This And That"
          ],
          [
           "What` Cha Need"
          ],
          [
           "Lapdance"
          ],
          [
           "No Time For Sleep (Interlude)"
          ],
          [
           "Love Affair"
          ],
          [
           "Back Seat"
          ],
          [
           "If I Could"
          ],
          [
           "Queen"
          ],
          [
           "Think Of The Time"
          ],
          [
           "I Remember When"
          ],
          [
           "Intro"
          ],
          [
           "First Class"
          ],
          [
           "Workflow (feat. Dumbfoundead)"
          ],
          [
           "Higher"
          ],
          [
           "Heaven Sent"
          ],
          [
           "Pillow Talk"
          ],
          [
           "Boogie Down"
          ],
          [
           "Lavish"
          ],
          [
           "Mind vs Heart"
          ],
          [
           "Dream Team"
          ],
          [
           "Plenty of Reasons"
          ],
          [
           "Various Places"
          ],
          [
           "Intro"
          ],
          [
           "First Class"
          ],
          [
           "Workflow (Feat. Dumbfoundead)"
          ],
          [
           "Higher"
          ],
          [
           "Heaven Sent"
          ],
          [
           "Pillow Talk"
          ],
          [
           "Boogie Down"
          ],
          [
           "Lavish"
          ],
          [
           "Mind VS Heart"
          ],
          [
           "Dream Team"
          ],
          [
           "Plenty Of Reasons"
          ],
          [
           "Various Places"
          ],
          [
           "Bonjour (Intro)"
          ],
          [
           "Cool Girls"
          ],
          [
           "Just Vibe"
          ],
          [
           "Doesn`t Matter"
          ],
          [
           "My Dear"
          ],
          [
           "Ms. Seductive"
          ],
          [
           "Girl At The Coffee Shop"
          ],
          [
           "If You Wonder"
          ],
          [
           "Call You Mine (Feat. Geologic Of The Blue Scholars)"
          ],
          [
           "Groovin`"
          ],
          [
           "Moonlight Chemistry"
          ],
          [
           "With Love (Feat. Mosaek)"
          ],
          [
           "Bonjour (Intro)"
          ],
          [
           "Cool Girls"
          ],
          [
           "Just Vibe"
          ],
          [
           "Doesn't Matter"
          ],
          [
           "My Dear"
          ],
          [
           "Ms. Seductive"
          ],
          [
           "Girl At The Coffee Shop"
          ],
          [
           "If You Wonder"
          ],
          [
           "Call You Mine (feat. Geologic Of The Blue Scholars)"
          ],
          [
           "Groovin'"
          ],
          [
           "Moonlight Chemistry"
          ],
          [
           "With Love (feat. Mosaek)"
          ]
         ],
         "hovertemplate": "Artist(s)=Jeff Bernat<br>Positiveness (valence)=%{x}<br>Energy=%{y}<br>Song Title=%{customdata[0]}<extra></extra>",
         "legendgroup": "Jeff Bernat",
         "marker": {
          "color": "#FF97FF",
          "symbol": "circle"
         },
         "mode": "markers",
         "name": "Jeff Bernat",
         "showlegend": true,
         "type": "scattergl",
         "x": [
          0.379,
          0.408,
          0.8340000000000001,
          0.653,
          0.342,
          0.8079999999999999,
          0.614,
          0.828,
          0.863,
          0.573,
          0.39399999999999996,
          0.272,
          0.38299999999999995,
          0.385,
          0.8140000000000001,
          0.6579999999999999,
          0.32899999999999996,
          0.78,
          0.595,
          0.8170000000000001,
          0.8420000000000001,
          0.546,
          0.36200000000000004,
          0.26,
          0.39899999999999997,
          0.385,
          0.8140000000000001,
          0.6579999999999999,
          0.32899999999999996,
          0.78,
          0.594,
          0.821,
          0.8440000000000001,
          0.545,
          0.366,
          0.255,
          0.406,
          0.915,
          0.535,
          0.24,
          0.345,
          0.35,
          0.433,
          0.531,
          0.735,
          0.311,
          0.6729999999999999,
          0.29,
          0.693,
          0.79,
          0.441,
          0.237,
          0.6859999999999999,
          0.65,
          0.789,
          0.5329999999999999,
          0.44,
          0.9129999999999999,
          0.665,
          0.28600000000000003,
          0.6940000000000001,
          0.7659999999999999,
          0.466,
          0.262,
          0.672,
          0.64,
          0.784,
          0.5379999999999999,
          0.43799999999999994,
          0.909,
          0.652,
          0.8190000000000001,
          0.82,
          0.8059999999999999,
          0.507,
          0.35200000000000004,
          0.35,
          0.49700000000000005,
          0.638,
          0.622,
          0.905,
          0.22899999999999998,
          0.585,
          0.888,
          0.809,
          0.8029999999999999,
          0.52,
          0.33299999999999996,
          0.331,
          0.515,
          0.634,
          0.632,
          0.8959999999999999,
          0.223,
          0.556
         ],
         "xaxis": "x",
         "y": [
          0.488,
          0.49200000000000005,
          0.556,
          0.42100000000000004,
          0.24600000000000002,
          0.369,
          0.295,
          0.48,
          0.348,
          0.457,
          0.424,
          0.27,
          0.47700000000000004,
          0.498,
          0.5589999999999999,
          0.401,
          0.239,
          0.36200000000000004,
          0.302,
          0.475,
          0.355,
          0.47,
          0.418,
          0.275,
          0.478,
          0.498,
          0.5589999999999999,
          0.401,
          0.239,
          0.36200000000000004,
          0.302,
          0.475,
          0.355,
          0.47,
          0.42100000000000004,
          0.275,
          0.5670000000000001,
          0.298,
          0.524,
          0.419,
          0.33,
          0.441,
          0.5539999999999999,
          0.478,
          0.381,
          0.46299999999999997,
          0.447,
          0.473,
          0.59,
          0.436,
          0.498,
          0.27899999999999997,
          0.58,
          0.413,
          0.40399999999999997,
          0.424,
          0.379,
          0.6559999999999999,
          0.34,
          0.46799999999999997,
          0.57,
          0.434,
          0.499,
          0.273,
          0.5760000000000001,
          0.41700000000000004,
          0.425,
          0.428,
          0.373,
          0.6409999999999999,
          0.33899999999999997,
          0.452,
          0.603,
          0.40399999999999997,
          0.518,
          0.32299999999999995,
          0.35600000000000004,
          0.677,
          0.516,
          0.574,
          0.49700000000000005,
          0.6409999999999999,
          0.457,
          0.451,
          0.604,
          0.41,
          0.526,
          0.335,
          0.35,
          0.679,
          0.521,
          0.5710000000000001,
          0.498,
          0.634,
          0.452
         ],
         "yaxis": "y"
        },
        {
         "customdata": [
          [
           "Sunny & 62"
          ],
          [
           "Sometimes"
          ],
          [
           "Nothing Else"
          ],
          [
           "Brand New"
          ],
          [
           "Never Let Me Go"
          ],
          [
           "Every Time"
          ],
          [
           "Where U Goin' Tonight?"
          ],
          [
           "Almost Home"
          ],
          [
           "I Wanna Give Up"
          ],
          [
           "Shadows"
          ],
          [
           "I Just Need Love"
          ],
          [
           "Where Do We Go from Here?"
          ],
          [
           "Get Away"
          ],
          [
           "Summertime - Live"
          ],
          [
           "Jumping Off the Moon"
          ],
          [
           "Walking Home"
          ],
          [
           "Shit Covered in Gold"
          ],
          [
           "Saving"
          ],
          [
           "Caught Up"
          ],
          [
           "Fears"
          ],
          [
           "Smiley Boy - Live"
          ],
          [
           "Come Thru"
          ],
          [
           "Better"
          ],
          [
           "Something More"
          ],
          [
           "Next to You"
          ],
          [
           "Roses"
          ],
          [
           "Under"
          ],
          [
           "Soon"
          ],
          [
           "Get to You Again"
          ],
          [
           "I've Always Been"
          ],
          [
           "Waiting"
          ],
          [
           "Pickled Ginger"
          ],
          [
           "Something to Feel"
          ],
          [
           "This Bag"
          ],
          [
           "Stay"
          ],
          [
           "Intro"
          ],
          [
           "Calvin's Joint"
          ],
          [
           "The Devil's in the Details"
          ],
          [
           "Slow Down"
          ],
          [
           "Should We Take The Van?"
          ],
          [
           "Show Me"
          ],
          [
           "Lonely"
          ],
          [
           "Easy"
          ],
          [
           "Change Ya Mind"
          ]
         ],
         "hovertemplate": "Artist(s)=Mac Ayres<br>Positiveness (valence)=%{x}<br>Energy=%{y}<br>Song Title=%{customdata[0]}<extra></extra>",
         "legendgroup": "Mac Ayres",
         "marker": {
          "color": "#FECB52",
          "symbol": "circle"
         },
         "mode": "markers",
         "name": "Mac Ayres",
         "showlegend": true,
         "type": "scattergl",
         "x": [
          0.193,
          0.33799999999999997,
          0.391,
          0.0797,
          0.377,
          0.396,
          0.787,
          0.514,
          0.6629999999999999,
          0.188,
          0.7979999999999999,
          0.794,
          0.322,
          0.179,
          0.48200000000000004,
          0.455,
          0.33299999999999996,
          0.446,
          0.5820000000000001,
          0.27399999999999997,
          0.28,
          0.64,
          0.8140000000000001,
          0.7020000000000001,
          0.0689,
          0.276,
          0.544,
          0.0539,
          0.27699999999999997,
          0.45299999999999996,
          0.382,
          0.284,
          0.57,
          0.32799999999999996,
          0.415,
          0.389,
          0.28300000000000003,
          0.5429999999999999,
          0.184,
          0.665,
          0.455,
          0.35600000000000004,
          0.217,
          0.146
         ],
         "xaxis": "x",
         "y": [
          0.47600000000000003,
          0.46799999999999997,
          0.642,
          0.318,
          0.679,
          0.5579999999999999,
          0.721,
          0.825,
          0.71,
          0.506,
          0.6859999999999999,
          0.618,
          0.672,
          0.595,
          0.6859999999999999,
          0.5820000000000001,
          0.43200000000000005,
          0.595,
          0.612,
          0.387,
          0.242,
          0.738,
          0.5479999999999999,
          0.59,
          0.332,
          0.382,
          0.366,
          0.0396,
          0.429,
          0.38,
          0.47100000000000003,
          0.34700000000000003,
          0.525,
          0.15,
          0.27,
          0.402,
          0.6559999999999999,
          0.507,
          0.33799999999999997,
          0.799,
          0.47100000000000003,
          0.353,
          0.282,
          0.166
         ],
         "yaxis": "y"
        },
        {
         "customdata": [
          [
           "Sinners Prayer"
          ],
          [
           "Walking Again"
          ],
          [
           "Floating"
          ],
          [
           "Right Now"
          ],
          [
           "Euphoria"
          ],
          [
           "Sapiosexual"
          ],
          [
           "Friend Zone"
          ],
          [
           "Blitz"
          ],
          [
           "Nightmares (feat. Lil Durk)"
          ],
          [
           "Psalm 51"
          ],
          [
           "Don’t Tell"
          ],
          [
           "Calls"
          ],
          [
           "Poetic Pain"
          ],
          [
           "Love Cycle (with Summer Walker)"
          ],
          [
           "No Lies"
          ],
          [
           "Telly Telly"
          ],
          [
           "Witchcraft"
          ],
          [
           "Sinners Prayer"
          ],
          [
           "Walking Again"
          ],
          [
           "Floating"
          ],
          [
           "Right Now"
          ],
          [
           "Euphoria"
          ],
          [
           "Sapiosexual"
          ],
          [
           "Friend Zone"
          ],
          [
           "Blitz"
          ],
          [
           "Nightmares"
          ],
          [
           "Psalm 51"
          ],
          [
           "Don't Tell"
          ],
          [
           "Calls"
          ],
          [
           "Poetic Pain"
          ],
          [
           "Love Cycle"
          ],
          [
           "No Lies"
          ],
          [
           "Telly Telly"
          ],
          [
           "Witchcraft"
          ],
          [
           "Why You Think"
          ],
          [
           "Sky Red"
          ],
          [
           "Truth Be Told"
          ],
          [
           "Red Lights"
          ],
          [
           "Back From The Dead"
          ],
          [
           "Pain Killers"
          ],
          [
           "Mercedez"
          ],
          [
           "Love Cycle"
          ],
          [
           "Patek Water"
          ],
          [
           "Down To Ride"
          ],
          [
           "Choir Music"
          ],
          [
           "Not Easy"
          ],
          [
           "Other Side"
          ],
          [
           "Why You Think"
          ],
          [
           "Sky Red"
          ],
          [
           "Truth Be Told"
          ],
          [
           "Red Lights"
          ],
          [
           "Back From The Dead"
          ],
          [
           "Pain Killers"
          ],
          [
           "Mercedez"
          ],
          [
           "Love Cycle"
          ],
          [
           "Patek Water"
          ],
          [
           "Down To Ride"
          ],
          [
           "Choir Music"
          ],
          [
           "Not Easy"
          ],
          [
           "Other Side"
          ],
          [
           "Who Dat"
          ],
          [
           "Turmoil"
          ],
          [
           "Leah"
          ],
          [
           "4ourty"
          ],
          [
           "Leah, Pt. 2"
          ],
          [
           "Pesos"
          ],
          [
           "Wicked Feelings"
          ],
          [
           "Opps"
          ],
          [
           "Life Of Crime"
          ],
          [
           "Russian Roulette"
          ],
          [
           "Who Dat"
          ],
          [
           "Turmoil"
          ],
          [
           "Leah"
          ],
          [
           "4ourty"
          ],
          [
           "Leah, Pt. 2"
          ],
          [
           "Pesos"
          ],
          [
           "Wicked Feelings"
          ],
          [
           "Opps"
          ],
          [
           "Life of Crime"
          ],
          [
           "Russian Roulette"
          ],
          [
           "For the Family"
          ],
          [
           "On My Ass"
          ],
          [
           "My City"
          ],
          [
           "Pain"
          ],
          [
           "Made For"
          ],
          [
           "On Me"
          ],
          [
           "Paparazzi"
          ]
         ],
         "hovertemplate": "Artist(s)=Toosii<br>Positiveness (valence)=%{x}<br>Energy=%{y}<br>Song Title=%{customdata[0]}<extra></extra>",
         "legendgroup": "Toosii",
         "marker": {
          "color": "#636efa",
          "symbol": "circle"
         },
         "mode": "markers",
         "name": "Toosii",
         "showlegend": true,
         "type": "scattergl",
         "x": [
          0.298,
          0.45799999999999996,
          0.596,
          0.353,
          0.36,
          0.377,
          0.322,
          0.5489999999999999,
          0.506,
          0.528,
          0.391,
          0.47,
          0.33399999999999996,
          0.429,
          0.47200000000000003,
          0.273,
          0.5,
          0.253,
          0.48200000000000004,
          0.578,
          0.317,
          0.35700000000000004,
          0.382,
          0.336,
          0.49700000000000005,
          0.501,
          0.5429999999999999,
          0.32799999999999996,
          0.473,
          0.242,
          0.424,
          0.488,
          0.254,
          0.54,
          0.27399999999999997,
          0.536,
          0.425,
          0.447,
          0.264,
          0.209,
          0.375,
          0.498,
          0.282,
          0.276,
          0.5,
          0.248,
          0.21600000000000003,
          0.271,
          0.455,
          0.39399999999999996,
          0.505,
          0.292,
          0.16,
          0.364,
          0.436,
          0.298,
          0.256,
          0.47,
          0.42700000000000005,
          0.212,
          0.631,
          0.36,
          0.21600000000000003,
          0.445,
          0.358,
          0.431,
          0.14800000000000002,
          0.402,
          0.132,
          0.643,
          0.7170000000000001,
          0.369,
          0.203,
          0.447,
          0.37799999999999995,
          0.45899999999999996,
          0.136,
          0.40399999999999997,
          0.13,
          0.5720000000000001,
          0.264,
          0.414,
          0.45899999999999996,
          0.491,
          0.212,
          0.354,
          0.46
         ],
         "xaxis": "x",
         "y": [
          0.34299999999999997,
          0.42,
          0.424,
          0.441,
          0.58,
          0.429,
          0.474,
          0.605,
          0.519,
          0.7240000000000001,
          0.585,
          0.39899999999999997,
          0.632,
          0.451,
          0.513,
          0.35600000000000004,
          0.562,
          0.354,
          0.415,
          0.426,
          0.44299999999999995,
          0.602,
          0.441,
          0.49200000000000005,
          0.634,
          0.518,
          0.723,
          0.609,
          0.39299999999999996,
          0.622,
          0.457,
          0.535,
          0.355,
          0.5720000000000001,
          0.6,
          0.429,
          0.45,
          0.693,
          0.426,
          0.6709999999999999,
          0.6609999999999999,
          0.37799999999999995,
          0.562,
          0.495,
          0.456,
          0.53,
          0.419,
          0.588,
          0.435,
          0.426,
          0.647,
          0.434,
          0.691,
          0.71,
          0.32899999999999996,
          0.561,
          0.493,
          0.457,
          0.519,
          0.429,
          0.607,
          0.563,
          0.669,
          0.461,
          0.58,
          0.563,
          0.563,
          0.607,
          0.562,
          0.72,
          0.596,
          0.565,
          0.6729999999999999,
          0.46299999999999997,
          0.586,
          0.565,
          0.5770000000000001,
          0.615,
          0.563,
          0.616,
          0.5660000000000001,
          0.579,
          0.636,
          0.57,
          0.564,
          0.512,
          0.578
         ],
         "yaxis": "y"
        },
        {
         "customdata": [
          [
           "Destined 2 Win"
          ],
          [
           "Calling My Phone"
          ],
          [
           "Headshot (feat. Polo G & Fivio Foreign)"
          ],
          [
           "Run It Up (feat. Offset & Moneybagg Yo)"
          ],
          [
           "Irregular Love"
          ],
          [
           "Slow Down"
          ],
          [
           "Part of the Plan"
          ],
          [
           "Move (feat. Saweetie)"
          ],
          [
           "Oh Well"
          ],
          [
           "Love Hurts (feat. Toosii)"
          ],
          [
           "Go Crazy"
          ],
          [
           "Nuf Said"
          ],
          [
           "No Cap"
          ],
          [
           "Born 2 Be Great"
          ],
          [
           "Hood Rich"
          ],
          [
           "What You Wanna Do"
          ],
          [
           "Life Changed"
          ],
          [
           "Gang Gang"
          ],
          [
           "Losses - Bonus"
          ],
          [
           "Move On - Bonus"
          ],
          [
           "None of Your Love - Bonus"
          ],
          [
           "Destined 2 Win"
          ],
          [
           "Born 2 Be Great"
          ],
          [
           "Calling My Phone"
          ],
          [
           "What You Wanna Do"
          ],
          [
           "Hood Rich"
          ],
          [
           "Oh Well"
          ],
          [
           "Headshot (feat. Polo G & Fivio Foreign)"
          ],
          [
           "Gang Gang"
          ],
          [
           "Go Crazy"
          ],
          [
           "Irregular Love"
          ],
          [
           "Move (feat. Saweetie)"
          ],
          [
           "Slow Down"
          ],
          [
           "Love Hurts (feat. Toosii)"
          ],
          [
           "Run It Up (feat. Offset & Moneybagg Yo)"
          ],
          [
           "Part of the Plan"
          ],
          [
           "No Cap"
          ],
          [
           "Life Changed"
          ],
          [
           "Nuf Said"
          ],
          [
           "Losses - Bonus"
          ],
          [
           "Move On - Bonus"
          ],
          [
           "None of Your Love - Bonus"
          ],
          [
           "Destined 2 Win"
          ],
          [
           "Born 2 Be Great"
          ],
          [
           "Calling My Phone"
          ],
          [
           "What You Wanna Do"
          ],
          [
           "Hood Rich"
          ],
          [
           "Oh Well"
          ],
          [
           "Headshot (feat. Polo G & Fivio Foreign)"
          ],
          [
           "Gang Gang"
          ],
          [
           "Go Crazy"
          ],
          [
           "Irregular Love"
          ],
          [
           "Move (feat. Saweetie)"
          ],
          [
           "Slow Down"
          ],
          [
           "Love Hurts (feat. Toosii)"
          ],
          [
           "Run It Up (feat. Offset & Moneybagg Yo)"
          ],
          [
           "Part of the Plan"
          ],
          [
           "No Cap"
          ],
          [
           "Life Changed"
          ],
          [
           "Nuf Said"
          ],
          [
           "Losses - Bonus"
          ],
          [
           "Move On - Bonus"
          ],
          [
           "None of Your Love - Bonus"
          ],
          [
           "Ice Cold"
          ],
          [
           "Zoo York (feat. Fivio Foreign & Pop Smoke)"
          ],
          [
           "Shoot for the Stars (feat. Fivio Foreign)"
          ],
          [
           "Wet Em Up Pt. 2"
          ],
          [
           "City on My Back"
          ],
          [
           "My City"
          ],
          [
           "Gettin Lit"
          ],
          [
           "Ice Cold"
          ],
          [
           "Zoo York (feat. Fivio Foreign & Pop Smoke)"
          ],
          [
           "Shoot for the Stars (feat. Fivio Foreign)"
          ],
          [
           "Wet Em Up Pt. 2"
          ],
          [
           "City on My Back"
          ],
          [
           "My City"
          ],
          [
           "Gettin Lit"
          ],
          [
           "One Take"
          ],
          [
           "Hold On"
          ],
          [
           "F.N"
          ],
          [
           "Dream That I Had"
          ],
          [
           "Post To Be (feat. Rileyy Lanez)"
          ],
          [
           "Ruthless (feat. Jay Critch)"
          ],
          [
           "Mixed Emotions"
          ],
          [
           "Decline (feat. Lil Baby)"
          ],
          [
           "Sex Sounds"
          ],
          [
           "Leaked"
          ],
          [
           "Laneswitch"
          ],
          [
           "Brothers"
          ],
          [
           "Goat"
          ],
          [
           "Top of My Game"
          ],
          [
           "No Escape"
          ],
          [
           "Brothers (feat. Lil Durk) - Remix"
          ],
          [
           "Leaked (feat. Lil Wayne) - Remix"
          ]
         ],
         "hovertemplate": "Artist(s)=Lil Tjay<br>Positiveness (valence)=%{x}<br>Energy=%{y}<br>Song Title=%{customdata[0]}<extra></extra>",
         "legendgroup": "Lil Tjay",
         "marker": {
          "color": "#EF553B",
          "symbol": "circle"
         },
         "mode": "markers",
         "name": "Lil Tjay",
         "showlegend": true,
         "type": "scattergl",
         "x": [
          0.48100000000000004,
          0.20199999999999999,
          0.395,
          0.6709999999999999,
          0.57,
          0.254,
          0.248,
          0.447,
          0.539,
          0.5479999999999999,
          0.23399999999999999,
          0.6,
          0.107,
          0.192,
          0.391,
          0.124,
          0.5670000000000001,
          0.5539999999999999,
          0.22699999999999998,
          0.349,
          0.51,
          0.48100000000000004,
          0.192,
          0.20199999999999999,
          0.124,
          0.391,
          0.539,
          0.395,
          0.5539999999999999,
          0.23399999999999999,
          0.57,
          0.447,
          0.254,
          0.5479999999999999,
          0.6709999999999999,
          0.248,
          0.107,
          0.5670000000000001,
          0.6,
          0.22699999999999998,
          0.349,
          0.51,
          0.5529999999999999,
          0.26899999999999996,
          0.19699999999999998,
          0.133,
          0.32899999999999996,
          0.579,
          0.37,
          0.535,
          0.223,
          0.54,
          0.555,
          0.26,
          0.491,
          0.669,
          0.252,
          0.0961,
          0.496,
          0.373,
          0.172,
          0.319,
          0.56,
          0.0717,
          0.303,
          0.501,
          0.5760000000000001,
          0.244,
          0.335,
          0.643,
          0.0744,
          0.27899999999999997,
          0.46799999999999997,
          0.705,
          0.258,
          0.33299999999999996,
          0.669,
          0.35100000000000003,
          0.685,
          0.321,
          0.33,
          0.49,
          0.35600000000000004,
          0.431,
          0.51,
          0.366,
          0.321,
          0.34600000000000003,
          0.57,
          0.469,
          0.5770000000000001,
          0.29,
          0.5589999999999999,
          0.3
         ],
         "xaxis": "x",
         "y": [
          0.304,
          0.39299999999999996,
          0.639,
          0.575,
          0.49700000000000005,
          0.736,
          0.579,
          0.541,
          0.611,
          0.40399999999999997,
          0.591,
          0.434,
          0.495,
          0.512,
          0.667,
          0.56,
          0.597,
          0.489,
          0.457,
          0.722,
          0.722,
          0.304,
          0.512,
          0.39299999999999996,
          0.56,
          0.667,
          0.611,
          0.639,
          0.489,
          0.591,
          0.49700000000000005,
          0.541,
          0.736,
          0.40399999999999997,
          0.575,
          0.579,
          0.495,
          0.597,
          0.434,
          0.457,
          0.722,
          0.722,
          0.303,
          0.465,
          0.38799999999999996,
          0.5720000000000001,
          0.644,
          0.5920000000000001,
          0.622,
          0.489,
          0.5770000000000001,
          0.47600000000000003,
          0.48700000000000004,
          0.7190000000000001,
          0.389,
          0.545,
          0.552,
          0.48700000000000004,
          0.607,
          0.42200000000000004,
          0.478,
          0.7440000000000001,
          0.715,
          0.627,
          0.569,
          0.695,
          0.645,
          0.546,
          0.584,
          0.514,
          0.608,
          0.5670000000000001,
          0.7020000000000001,
          0.568,
          0.528,
          0.5479999999999999,
          0.465,
          0.615,
          0.602,
          0.515,
          0.5429999999999999,
          0.6609999999999999,
          0.5920000000000001,
          0.502,
          0.589,
          0.42700000000000005,
          0.619,
          0.684,
          0.42,
          0.6809999999999999,
          0.405,
          0.525,
          0.489,
          0.611
         ],
         "yaxis": "y"
        },
        {
         "customdata": [
          [
           "Don't Believe The Hype"
          ],
          [
           "Heartless (feat. Mustard)"
          ],
          [
           "Martin & Gina"
          ],
          [
           "Flex (feat. Juice WRLD)"
          ],
          [
           "Go Stupid"
          ],
          [
           "21"
          ],
          [
           "33"
          ],
          [
           "I Know"
          ],
          [
           "Beautiful Pain (Losin My Mind)"
          ],
          [
           "No Matter What"
          ],
          [
           "Be Something (feat. Lil Baby)"
          ],
          [
           "Relentless"
          ],
          [
           "DND"
          ],
          [
           "Chinatown"
          ],
          [
           "Trials & Tribulations"
          ],
          [
           "Wishing For A Hero (feat. BJ The Chicago Kid)"
          ],
          [
           "Don't Believe The Hype"
          ],
          [
           "Heartless (feat. Mustard)"
          ],
          [
           "Martin & Gina"
          ],
          [
           "Flex (feat. Juice WRLD)"
          ],
          [
           "Go Stupid (feat. NLE Choppa & Mike WiLL Made-It)"
          ],
          [
           "21"
          ],
          [
           "33"
          ],
          [
           "I Know"
          ],
          [
           "Beautiful Pain (Losin My Mind)"
          ],
          [
           "No Matter What"
          ],
          [
           "Be Something (feat. Lil Baby)"
          ],
          [
           "Relentless"
          ],
          [
           "DND"
          ],
          [
           "Chinatown"
          ],
          [
           "Trials & Tribulations"
          ],
          [
           "Wishing For A Hero (feat. BJ The Chicago Kid)"
          ],
          [
           "Lost Files"
          ],
          [
           "Dyin Breed"
          ],
          [
           "Through Da Storm"
          ],
          [
           "Effortless"
          ],
          [
           "Pop Out (feat. Lil Tjay)"
          ],
          [
           "Battle Cry"
          ],
          [
           "BST"
          ],
          [
           "Finer Things"
          ],
          [
           "Picture This"
          ],
          [
           "Chosen 1"
          ],
          [
           "Deep Wounds"
          ],
          [
           "Last Strike"
          ],
          [
           "A King's Nightmare"
          ],
          [
           "Pop Out Again (feat. Lil Baby & Gunna)"
          ]
         ],
         "hovertemplate": "Artist(s)=Polo G<br>Positiveness (valence)=%{x}<br>Energy=%{y}<br>Song Title=%{customdata[0]}<extra></extra>",
         "legendgroup": "Polo G",
         "marker": {
          "color": "#00cc96",
          "symbol": "circle"
         },
         "mode": "markers",
         "name": "Polo G",
         "showlegend": true,
         "type": "scattergl",
         "x": [
          0.418,
          0.326,
          0.11599999999999999,
          0.35,
          0.645,
          0.5329999999999999,
          0.11699999999999999,
          0.557,
          0.512,
          0.456,
          0.248,
          0.276,
          0.231,
          0.7290000000000001,
          0.545,
          0.188,
          0.41700000000000004,
          0.361,
          0.156,
          0.419,
          0.7240000000000001,
          0.53,
          0.0958,
          0.527,
          0.446,
          0.478,
          0.297,
          0.3,
          0.20800000000000002,
          0.6729999999999999,
          0.518,
          0.126,
          0.397,
          0.42700000000000005,
          0.621,
          0.39899999999999997,
          0.261,
          0.34700000000000003,
          0.633,
          0.131,
          0.406,
          0.364,
          0.33899999999999997,
          0.47700000000000004,
          0.321,
          0.364
         ],
         "xaxis": "x",
         "y": [
          0.679,
          0.64,
          0.534,
          0.6729999999999999,
          0.833,
          0.479,
          0.462,
          0.665,
          0.47700000000000004,
          0.705,
          0.52,
          0.5579999999999999,
          0.797,
          0.5,
          0.612,
          0.589,
          0.677,
          0.632,
          0.513,
          0.628,
          0.813,
          0.478,
          0.349,
          0.654,
          0.486,
          0.6709999999999999,
          0.698,
          0.475,
          0.789,
          0.509,
          0.556,
          0.588,
          0.723,
          0.599,
          0.49,
          0.445,
          0.639,
          0.597,
          0.603,
          0.45,
          0.604,
          0.5760000000000001,
          0.5720000000000001,
          0.594,
          0.728,
          0.6890000000000001
         ],
         "yaxis": "y"
        },
        {
         "customdata": [
          [
           "6 For 6"
          ],
          [
           "Fraud"
          ],
          [
           "Pinging (6 Figures)"
          ],
          [
           "The Bag"
          ],
          [
           "Day in the Life"
          ],
          [
           "Dun Deal"
          ],
          [
           "Commitment Issues"
          ],
          [
           "Sex Money Drugs"
          ],
          [
           "Ruby"
          ],
          [
           "Hate It Or Luv It"
          ],
          [
           "Xmas Eve"
          ],
          [
           "Loading"
          ],
          [
           "Tension"
          ],
          [
           "Gangbiz"
          ]
         ],
         "hovertemplate": "Artist(s)=Central Cee<br>Positiveness (valence)=%{x}<br>Energy=%{y}<br>Song Title=%{customdata[0]}<extra></extra>",
         "legendgroup": "Central Cee",
         "marker": {
          "color": "#ab63fa",
          "symbol": "circle"
         },
         "mode": "markers",
         "name": "Central Cee",
         "showlegend": true,
         "type": "scattergl",
         "x": [
          0.623,
          0.885,
          0.8370000000000001,
          0.601,
          0.757,
          0.703,
          0.795,
          0.619,
          0.6890000000000001,
          0.966,
          0.486,
          0.6940000000000001,
          0.5489999999999999,
          0.7829999999999999
         ],
         "xaxis": "x",
         "y": [
          0.792,
          0.7,
          0.847,
          0.603,
          0.5710000000000001,
          0.583,
          0.71,
          0.556,
          0.581,
          0.634,
          0.7659999999999999,
          0.68,
          0.619,
          0.679
         ],
         "yaxis": "y"
        },
        {
         "customdata": [
          [
           "Intro"
          ],
          [
           "Bluuwuu"
          ],
          [
           "Chingy (It’s Whatever)"
          ],
          [
           "Bringing It Back"
          ],
          [
           "No Chorus"
          ],
          [
           "Woi"
          ],
          [
           "Clout Is Killing My People"
          ],
          [
           "Folknem"
          ],
          [
           "My Brucky"
          ],
          [
           "Gun Man Sound"
          ],
          [
           "Window"
          ],
          [
           "Trust Issues (I’m Joking I Trust My Mum)"
          ],
          [
           "Toxic"
          ],
          [
           "Intro"
          ],
          [
           "Bluuwuu"
          ],
          [
           "Chingy (It’s Whatever)"
          ],
          [
           "Bringing It Back"
          ],
          [
           "No Chorus"
          ],
          [
           "Woi"
          ],
          [
           "Clout Is Killing My People"
          ],
          [
           "Folknem"
          ],
          [
           "My Brucky"
          ],
          [
           "Gun Man Sound"
          ],
          [
           "Window"
          ],
          [
           "Trust Issues (I’m Joking I Trust My Mum)"
          ],
          [
           "P4DP"
          ],
          [
           "No Diet"
          ],
          [
           "Imagine"
          ],
          [
           "They Wanna Know"
          ],
          [
           "Never Fear"
          ],
          [
           "What's Love?"
          ],
          [
           "I Heard"
          ],
          [
           "Shotty Shane"
          ],
          [
           "Double Tap Days"
          ],
          [
           "6+4"
          ]
         ],
         "hovertemplate": "Artist(s)=Digga D<br>Positiveness (valence)=%{x}<br>Energy=%{y}<br>Song Title=%{customdata[0]}<extra></extra>",
         "legendgroup": "Digga D",
         "marker": {
          "color": "#FFA15A",
          "symbol": "circle"
         },
         "mode": "markers",
         "name": "Digga D",
         "showlegend": true,
         "type": "scattergl",
         "x": [
          0.511,
          0.872,
          0.742,
          0.789,
          0.655,
          0.7140000000000001,
          0.865,
          0.883,
          0.669,
          0.593,
          0.225,
          0.633,
          0.276,
          0.511,
          0.872,
          0.742,
          0.789,
          0.655,
          0.7140000000000001,
          0.865,
          0.883,
          0.669,
          0.593,
          0.225,
          0.633,
          0.447,
          0.43200000000000005,
          0.625,
          0.531,
          0.682,
          0.249,
          0.563,
          0.5539999999999999,
          0.7290000000000001,
          0.7709999999999999
         ],
         "xaxis": "x",
         "y": [
          0.6729999999999999,
          0.6809999999999999,
          0.645,
          0.7609999999999999,
          0.573,
          0.584,
          0.693,
          0.684,
          0.72,
          0.679,
          0.67,
          0.6559999999999999,
          0.62,
          0.6729999999999999,
          0.6809999999999999,
          0.645,
          0.7609999999999999,
          0.573,
          0.584,
          0.693,
          0.684,
          0.72,
          0.679,
          0.67,
          0.6559999999999999,
          0.569,
          0.5920000000000001,
          0.521,
          0.518,
          0.746,
          0.389,
          0.537,
          0.31,
          0.6729999999999999,
          0.579
         ],
         "yaxis": "y"
        },
        {
         "customdata": [
          [
           "Life Goes On"
          ],
          [
           "내 방을 여행하는 법"
          ],
          [
           "Blue & Grey"
          ],
          [
           "Skit"
          ],
          [
           "잠시"
          ],
          [
           "병"
          ],
          [
           "Stay"
          ],
          [
           "Dynamite"
          ],
          [
           "Life Goes On"
          ],
          [
           "Fly To My Room"
          ],
          [
           "Blue & Grey"
          ],
          [
           "Skit"
          ],
          [
           "Telepathy"
          ],
          [
           "Dis-ease"
          ],
          [
           "Stay"
          ],
          [
           "Dynamite"
          ],
          [
           "INTRO : Calling"
          ],
          [
           "Stay Gold"
          ],
          [
           "Boy With Luv - Japanese ver."
          ],
          [
           "Make It Right - Japanese ver."
          ],
          [
           "Dionysus - Japanese ver."
          ],
          [
           "IDOL - Japanese ver."
          ],
          [
           "Airplane pt.2 - Japanese ver."
          ],
          [
           "FAKE LOVE - Japanese ver."
          ],
          [
           "Black Swan - Japanese ver."
          ],
          [
           "ON - Japanese ver."
          ],
          [
           "Lights"
          ],
          [
           "Your eyes tell"
          ],
          [
           "OUTRO : The Journey"
          ],
          [
           "Intro : Persona"
          ],
          [
           "Boy With Luv (Feat. Halsey)"
          ],
          [
           "Make It Right"
          ],
          [
           "Jamais Vu"
          ],
          [
           "Dionysus"
          ],
          [
           "Interlude : Shadow"
          ],
          [
           "Black Swan"
          ],
          [
           "Filter"
          ],
          [
           "My Time"
          ],
          [
           "Louder than bombs"
          ],
          [
           "ON"
          ],
          [
           "UGH!"
          ],
          [
           "00:00 (Zero O’Clock)"
          ],
          [
           "Inner Child"
          ],
          [
           "Friends"
          ],
          [
           "Moon"
          ],
          [
           "Respect"
          ],
          [
           "We are Bulletproof : the Eternal"
          ],
          [
           "Outro : Ego"
          ],
          [
           "ON (Feat. Sia)"
          ],
          [
           "Intro : Persona"
          ],
          [
           "Boy With Luv (Feat. Halsey)"
          ],
          [
           "Make It Right"
          ],
          [
           "Jamais Vu"
          ],
          [
           "Dionysus"
          ],
          [
           "Interlude : Shadow"
          ],
          [
           "Black Swan"
          ],
          [
           "Filter"
          ],
          [
           "My Time"
          ],
          [
           "Louder than bombs"
          ],
          [
           "ON"
          ],
          [
           "UGH!"
          ],
          [
           "00:00 (Zero O’Clock)"
          ],
          [
           "Inner Child"
          ],
          [
           "Friends"
          ],
          [
           "Moon"
          ],
          [
           "Respect"
          ],
          [
           "We are Bulletproof : the Eternal"
          ],
          [
           "Outro : Ego"
          ],
          [
           "ON (Feat. Sia)"
          ],
          [
           "Intro : Persona"
          ],
          [
           "작은 것들을 위한 시 (Boy With Luv) [feat. Halsey]"
          ],
          [
           "Make It Right"
          ],
          [
           "Jamais Vu"
          ],
          [
           "Dionysus"
          ],
          [
           "Interlude : Shadow"
          ],
          [
           "Black Swan"
          ],
          [
           "Filter"
          ],
          [
           "My Time"
          ],
          [
           "Louder than bombs"
          ],
          [
           "ON"
          ],
          [
           "욱 (UGH!)"
          ],
          [
           "00:00 (Zero O’Clock)"
          ],
          [
           "Inner Child"
          ],
          [
           "친구"
          ],
          [
           "Moon"
          ],
          [
           "Respect"
          ],
          [
           "We are Bulletproof : the Eternal"
          ],
          [
           "Outro : Ego"
          ],
          [
           "ON (feat. Sia)"
          ],
          [
           "Intro : Persona"
          ],
          [
           "Boy With Luv (feat. Halsey)"
          ],
          [
           "Mikrokosmos"
          ],
          [
           "Make It Right"
          ],
          [
           "HOME"
          ],
          [
           "Jamais Vu"
          ],
          [
           "Dionysus"
          ],
          [
           "Intro : Persona"
          ],
          [
           "작은 것들을 위한 시 (Boy With Luv) [feat. Halsey]"
          ],
          [
           "소우주 (Mikrokosmos)"
          ],
          [
           "Make It Right"
          ],
          [
           "HOME"
          ],
          [
           "Jamais Vu"
          ],
          [
           "Dionysus"
          ],
          [
           "Intro: Singularity"
          ],
          [
           "FAKE LOVE"
          ],
          [
           "전하지 못한 진심"
          ],
          [
           "134340"
          ],
          [
           "낙원"
          ],
          [
           "Love Maze"
          ],
          [
           "Magic Shop"
          ],
          [
           "Airplane pt.2"
          ],
          [
           "Anpanman"
          ],
          [
           "So What"
          ],
          [
           "Outro: Tear"
          ],
          [
           "INTRO : Ringwanderung"
          ],
          [
           "Best Of Me - Japanese ver."
          ],
          [
           "血、汗、涙 - Japanese ver."
          ],
          [
           "DNA - Japanese ver."
          ],
          [
           "Not Today - Japanese ver."
          ],
          [
           "MIC Drop - Japanese ver."
          ],
          [
           "Don't Leave Me"
          ],
          [
           "Go Go - Japanese ver."
          ],
          [
           "Crystal Snow"
          ],
          [
           "Spring Day - Japanese ver."
          ],
          [
           "Let Go"
          ],
          [
           "OUTRO : Crack"
          ],
          [
           "Intro: Serendipity"
          ],
          [
           "DNA"
          ],
          [
           "Best Of Me"
          ],
          [
           "보조개"
          ],
          [
           "Pied Piper"
          ],
          [
           "Skit: Billboard Music Awards Speech"
          ],
          [
           "MIC Drop"
          ],
          [
           "고민보다 Go"
          ],
          [
           "Outro: Her"
          ],
          [
           "Intro: Boy Meets Evil"
          ],
          [
           "Blood Sweat & Tears"
          ],
          [
           "Begin"
          ],
          [
           "Lie"
          ],
          [
           "Stigma"
          ],
          [
           "First Love"
          ],
          [
           "Reflection"
          ],
          [
           "Mama"
          ],
          [
           "Awake"
          ],
          [
           "Lost"
          ],
          [
           "BTS Cypher 4"
          ],
          [
           "Am I Wrong"
          ],
          [
           "21st Century Girl"
          ],
          [
           "2! 3!"
          ],
          [
           "Spring Day"
          ],
          [
           "Not Today"
          ],
          [
           "Outro: Wings"
          ],
          [
           "A Supplementary Story: You Never Walk Alone"
          ],
          [
           "Intro: Boy Meets Evil"
          ],
          [
           "Blood Sweat & Tears"
          ],
          [
           "Begin"
          ],
          [
           "Lie"
          ],
          [
           "Stigma"
          ],
          [
           "First Love"
          ],
          [
           "Reflection"
          ],
          [
           "MAMA"
          ],
          [
           "Awake"
          ],
          [
           "Lost"
          ],
          [
           "BTS Cypher 4"
          ],
          [
           "Am I Wrong"
          ],
          [
           "21st Century Girl"
          ],
          [
           "2! 3!"
          ],
          [
           "Spring Day"
          ],
          [
           "Not Today"
          ],
          [
           "Outro: Wings"
          ],
          [
           "A Supplementary Story: You Never Walk Alone"
          ],
          [
           "Intro: Boy Meets Evil"
          ],
          [
           "Blood Sweat & Tears"
          ],
          [
           "Begin"
          ],
          [
           "Lie"
          ],
          [
           "Stigma"
          ],
          [
           "First Love"
          ],
          [
           "Reflection"
          ],
          [
           "Mama"
          ],
          [
           "Awake"
          ],
          [
           "Lost"
          ],
          [
           "BTS Cypher 4"
          ],
          [
           "Am I Wrong"
          ],
          [
           "21st Century Girl"
          ],
          [
           "2! 3!"
          ],
          [
           "Interlude: Wings"
          ],
          [
           "Intro: Boy Meets Evil"
          ],
          [
           "피 땀 눈물"
          ],
          [
           "Begin"
          ],
          [
           "Lie"
          ],
          [
           "Stigma"
          ],
          [
           "First Love"
          ],
          [
           "Reflection"
          ],
          [
           "MAMA"
          ],
          [
           "Awake"
          ],
          [
           "Lost"
          ],
          [
           "BTS Cypher 4"
          ],
          [
           "Am I Wrong"
          ],
          [
           "21세기 소녀"
          ],
          [
           "둘! 셋! (그래도 좋은 날이 더 많기를)"
          ],
          [
           "Interlude: Wings"
          ],
          [
           "INTRODUCTION : YOUTH"
          ],
          [
           "RUN‐Japanese Ver.‐"
          ],
          [
           "FIRE‐Japanese Ver.‐"
          ],
          [
           "DOPE‐超ヤベー!‐(Japanese Ver.)"
          ],
          [
           "Good Day"
          ],
          [
           "Save ME‐Japanese Ver.‐"
          ],
          [
           "フンタン少年団(Japanese Ver.)"
          ],
          [
           "ペップセ‐Japanese Ver.‐"
          ],
          [
           "Wishing on a star"
          ],
          [
           "Butterfly‐Japanese Ver.‐"
          ],
          [
           "FOR YOU"
          ],
          [
           "I NEED U(Japanese Ver.)"
          ],
          [
           "EPILOGUE : Young Forever‐Japanese Ver.‐"
          ],
          [
           "Intro : The Most Beautiful Moment In Life"
          ],
          [
           "I Need U"
          ],
          [
           "Hold Me Tight"
          ],
          [
           "Autumn Leaves"
          ],
          [
           "Butterfly - Prologue Mix"
          ],
          [
           "Run"
          ],
          [
           "Ma City"
          ],
          [
           "Silver Spoon"
          ],
          [
           "Dope"
          ],
          [
           "Fire"
          ],
          [
           "Save Me"
          ],
          [
           "Epilogue : Young Forever"
          ],
          [
           "Converse High"
          ],
          [
           "Moving On"
          ],
          [
           "Whalien 52"
          ],
          [
           "Butterfly"
          ],
          [
           "House Of Cards - Full Length Edition"
          ],
          [
           "Love Is Not Over - Full Length Edition"
          ],
          [
           "I Need U - Urban Mix"
          ],
          [
           "I Need U - Remix"
          ],
          [
           "Run - Ballad Mix"
          ],
          [
           "Run - Alternative Mix"
          ],
          [
           "Butterfly - Alternative Mix"
          ],
          [
           "Intro: 화양연화"
          ],
          [
           "I Need U"
          ],
          [
           "잡아줘 (Hold Me Tight)"
          ],
          [
           "고엽"
          ],
          [
           "Butterfly (Prologue Mix)"
          ],
          [
           "Run"
          ],
          [
           "Ma City"
          ],
          [
           "뱁새"
          ],
          [
           "쩔어"
          ],
          [
           "불타오르네 (Fire)"
          ],
          [
           "Save Me"
          ],
          [
           "Epilogue: Young Forever"
          ],
          [
           "Converse High"
          ],
          [
           "이사"
          ],
          [
           "Whalien 52"
          ],
          [
           "Butterfly"
          ],
          [
           "House of Cards (Full Length Edition)"
          ],
          [
           "Love Is Not Over (Full Length Edition)"
          ],
          [
           "I Need U (Urban Mix)"
          ],
          [
           "I Need U (Remix)"
          ],
          [
           "Run (Ballad Mix)"
          ],
          [
           "Run (Alternative Mix)"
          ],
          [
           "Butterfly (Alternative Mix)"
          ],
          [
           "Intro: The Most Beautiful Moment in Life"
          ],
          [
           "I Need U"
          ],
          [
           "Hold Me Tight"
          ],
          [
           "Autumn Leaves"
          ],
          [
           "Butterfly (Prologue Mix)"
          ],
          [
           "Run"
          ],
          [
           "Ma City"
          ],
          [
           "Silver Spoon"
          ],
          [
           "Dope"
          ],
          [
           "Burning Up (Fire)"
          ],
          [
           "Save Me"
          ],
          [
           "Epilogue: Young Forever"
          ],
          [
           "Converse High"
          ],
          [
           "Moving On"
          ],
          [
           "Whalien 52"
          ],
          [
           "Butterfly"
          ],
          [
           "House of Cards (Full Length Edition)"
          ],
          [
           "Love Is Not Over (Full Length Edition)"
          ],
          [
           "I Need U (Urban Mix)"
          ],
          [
           "I Need U (Remix)"
          ],
          [
           "Run (Ballad Mix)"
          ],
          [
           "Run (Alternative Mix)"
          ],
          [
           "Butterfly (Alternative Mix)"
          ],
          [
           "Intro: Never Mind"
          ],
          [
           "Run"
          ],
          [
           "Butterfly"
          ],
          [
           "Whalien 52"
          ],
          [
           "Ma City"
          ],
          [
           "Silver Spoon"
          ],
          [
           "Skit: One Night In A Strange City"
          ],
          [
           "Autumn Leaves"
          ],
          [
           "Outro: House Of Cards"
          ],
          [
           "Intro: Never Mind"
          ],
          [
           "Run"
          ],
          [
           "Butterfly"
          ],
          [
           "Whalien 52"
          ],
          [
           "Ma City"
          ],
          [
           "뱁새"
          ],
          [
           "Skit: One Night in a Strange City"
          ],
          [
           "고엽"
          ],
          [
           "Outro: House of Cards"
          ],
          [
           "Intro: Never Mind"
          ],
          [
           "Run"
          ],
          [
           "Butterfly"
          ],
          [
           "Whalien 52"
          ],
          [
           "Ma City"
          ],
          [
           "Silver Spoon"
          ],
          [
           "Skit: One Night in a Strange City"
          ],
          [
           "Autumn Leaves"
          ],
          [
           "Outro: House of Cards"
          ],
          [
           "Intro: The Most Beautiful Moment In Life"
          ],
          [
           "I Need U"
          ],
          [
           "Hold Me Tight"
          ],
          [
           "Skit: Expectation!"
          ],
          [
           "Dope"
          ],
          [
           "Boyz With Fun"
          ],
          [
           "Converse High"
          ],
          [
           "Moving On"
          ],
          [
           "Outro: Love Is Not Over"
          ],
          [
           "Intro: 화양연화"
          ],
          [
           "I Need U"
          ],
          [
           "잡아줘 (Hold Me Tight)"
          ],
          [
           "Skit: Expectation!"
          ],
          [
           "쩔어"
          ],
          [
           "흥탄소년단"
          ],
          [
           "Converse High"
          ],
          [
           "이사"
          ],
          [
           "Outro: Love Is Not Over"
          ],
          [
           "Intro: The Most Beautiful Moment in Life"
          ],
          [
           "I Need U"
          ],
          [
           "Hold Me Tight"
          ],
          [
           "Skit: Expectation!"
          ],
          [
           "Dope"
          ],
          [
           "Boyz with Fun"
          ],
          [
           "Converse High"
          ],
          [
           "Moving On"
          ],
          [
           "Outro: Love Is Not Over"
          ],
          [
           "Intro: What Am I to You"
          ],
          [
           "Danger"
          ],
          [
           "War of Hormone"
          ],
          [
           "Hip Hop Phile"
          ],
          [
           "Let Me Know"
          ],
          [
           "Rain"
          ],
          [
           "BTS Cypher, Pt. 3: Killer"
          ],
          [
           "Interlude: What Are You Doing Now"
          ],
          [
           "Could You Turn off Your Cell Phone"
          ],
          [
           "Embarrassed"
          ],
          [
           "24/7=Heaven"
          ],
          [
           "Look Here"
          ],
          [
           "So 4 more"
          ],
          [
           "Outro: Do You Think It Makes Sense?"
          ],
          [
           "Intro: Skool Luv Affair"
          ],
          [
           "Boy In Luv"
          ],
          [
           "Skit: Soulmate"
          ],
          [
           "Where You From"
          ],
          [
           "Just One Day"
          ],
          [
           "Tomorrow"
          ],
          [
           "BTS Cypher, Pt. 2: Triptych"
          ],
          [
           "Spine Breaker"
          ],
          [
           "Jump"
          ],
          [
           "Outro: Propose"
          ],
          [
           "INTRO."
          ],
          [
           "THE STARS"
          ],
          [
           "JUMP -Japanese Ver.-"
          ],
          [
           "Danger -Japanese Ver.-"
          ],
          [
           "BOY IN LUV -Japanese Ver.-"
          ],
          [
           "JUST ONE DAY -Japanese Ver. Extended-"
          ],
          [
           "いいね!"
          ],
          [
           "いいね!Pt.2 ~あの場所で~"
          ],
          [
           "NO MORE DREAM -Japanese Ver.-"
          ],
          [
           "進撃の防弾 -Japanese Ver.-"
          ],
          [
           "N.O -Japanese Ver.-"
          ],
          [
           "WAKE UP"
          ],
          [
           "OUTRO."
          ],
          [
           "Intro: What Am I to You"
          ],
          [
           "Danger"
          ],
          [
           "호르몬 전쟁"
          ],
          [
           "힙합성애자"
          ],
          [
           "Let Me Know"
          ],
          [
           "Rain"
          ],
          [
           "BTS Cypher Pt.3: Killer"
          ],
          [
           "Interlude: 뭐해"
          ],
          [
           "핸드폰 좀 꺼줄래"
          ],
          [
           "이불킥"
          ],
          [
           "24/7=Heaven"
          ],
          [
           "여기 봐"
          ],
          [
           "2학년"
          ],
          [
           "Outro: 그게 말이 돼?"
          ],
          [
           "Intro: What Am I to You"
          ],
          [
           "Danger"
          ],
          [
           "War of Hormone"
          ],
          [
           "Hip Hop Phile"
          ],
          [
           "Let Me Know"
          ],
          [
           "Rain"
          ],
          [
           "BTS Cypher Pt.3: Killer"
          ],
          [
           "Interlude: What Are You Doing Now"
          ],
          [
           "Could You Turn off Your Cell Phone"
          ],
          [
           "Embarrassed"
          ],
          [
           "24/7=Heaven"
          ],
          [
           "Look Here"
          ],
          [
           "2nd Grade"
          ],
          [
           "Outro: Do You Think It Makes Sense?"
          ],
          [
           "Intro: Skool Luv Affair"
          ],
          [
           "상남자 (Boy in Luv)"
          ],
          [
           "Skit: Soulmate"
          ],
          [
           "어디에서 왔는지"
          ],
          [
           "하루만"
          ],
          [
           "Tomorrow"
          ],
          [
           "BTS Cypher Pt.2: Triptych"
          ],
          [
           "등골브레이커"
          ],
          [
           "Jump"
          ],
          [
           "Outro: Propose"
          ],
          [
           "Intro: Skool Luv Affair"
          ],
          [
           "Boy in Luv"
          ],
          [
           "Skit: Soulmate"
          ],
          [
           "Where You From"
          ],
          [
           "Just One Day"
          ],
          [
           "Tomorrow"
          ],
          [
           "BTS Cypher Pt.2: Triptych"
          ],
          [
           "Spine Breaker"
          ],
          [
           "Jump"
          ],
          [
           "Outro: Propose"
          ],
          [
           "Intro: O!RUL8,2?"
          ],
          [
           "N.O"
          ],
          [
           "We On"
          ],
          [
           "Skit: R U Happy Now?"
          ],
          [
           "If I Ruled the World"
          ],
          [
           "Coffee"
          ],
          [
           "BTS Cypher, Pt. 1"
          ],
          [
           "Attack on Bangtan"
          ],
          [
           "Paldo Gangsan"
          ],
          [
           "Outro: Luv In Skool"
          ],
          [
           "Intro: O!RUL8,2?"
          ],
          [
           "N.O"
          ],
          [
           "We On"
          ],
          [
           "Skit: R U Happy Now?"
          ],
          [
           "If I Ruled the World"
          ],
          [
           "Coffee"
          ],
          [
           "BTS Cypher Pt.1"
          ],
          [
           "Attack on Bangtan"
          ],
          [
           "Paldogangsan"
          ],
          [
           "Outro: Luv in Skool"
          ],
          [
           "Intro: O!RUL8,2?"
          ],
          [
           "N.O"
          ],
          [
           "We On"
          ],
          [
           "Skit: R U Happy Now?"
          ],
          [
           "If I Ruled the World"
          ],
          [
           "Coffee"
          ],
          [
           "BTS Cypher Pt.1"
          ],
          [
           "진격의 방탄"
          ],
          [
           "팔도강산"
          ],
          [
           "Outro: Luv in Skool"
          ],
          [
           "Intro : 2 COOL 4 SKOOL"
          ],
          [
           "We Are Bulletproof, Pt. 2"
          ],
          [
           "Skit : Circle Room Talk"
          ],
          [
           "No More Dream"
          ],
          [
           "Interlude"
          ],
          [
           "Like"
          ],
          [
           "Outro : Circle room cypher"
          ],
          [
           "Intro: 2 COOL 4 SKOOL"
          ],
          [
           "We Are Bulletproof Pt.2"
          ],
          [
           "Skit: Circle Room Talk"
          ],
          [
           "No More Dream"
          ],
          [
           "Interlude"
          ],
          [
           "좋아요"
          ],
          [
           "Outro: Circle Room Cypher"
          ]
         ],
         "hovertemplate": "Artist(s)=BTS<br>Positiveness (valence)=%{x}<br>Energy=%{y}<br>Song Title=%{customdata[0]}<extra></extra>",
         "legendgroup": "BTS",
         "marker": {
          "color": "#19d3f3",
          "symbol": "circle"
         },
         "mode": "markers",
         "name": "BTS",
         "showlegend": true,
         "type": "scattergl",
         "x": [
          0.45,
          0.588,
          0.364,
          0.544,
          0.57,
          0.484,
          0.341,
          0.737,
          0.45,
          0.588,
          0.364,
          0.544,
          0.57,
          0.484,
          0.341,
          0.737,
          0.0806,
          0.5820000000000001,
          0.78,
          0.23800000000000002,
          0.588,
          0.42200000000000004,
          0.9009999999999999,
          0.433,
          0.536,
          0.428,
          0.431,
          0.258,
          0.165,
          0.652,
          0.7979999999999999,
          0.261,
          0.24100000000000002,
          0.588,
          0.141,
          0.49,
          0.86,
          0.664,
          0.485,
          0.43799999999999994,
          0.33299999999999996,
          0.196,
          0.332,
          0.648,
          0.64,
          0.524,
          0.19,
          0.473,
          0.386,
          0.652,
          0.7979999999999999,
          0.261,
          0.24100000000000002,
          0.588,
          0.141,
          0.49,
          0.86,
          0.664,
          0.485,
          0.43799999999999994,
          0.33299999999999996,
          0.196,
          0.332,
          0.648,
          0.64,
          0.524,
          0.19,
          0.473,
          0.386,
          0.659,
          0.8029999999999999,
          0.259,
          0.24100000000000002,
          0.588,
          0.146,
          0.489,
          0.8590000000000001,
          0.664,
          0.478,
          0.43700000000000006,
          0.33299999999999996,
          0.19899999999999998,
          0.33,
          0.649,
          0.64,
          0.526,
          0.17600000000000002,
          0.473,
          0.385,
          0.652,
          0.7979999999999999,
          0.475,
          0.261,
          0.535,
          0.24100000000000002,
          0.588,
          0.659,
          0.8029999999999999,
          0.475,
          0.259,
          0.534,
          0.24100000000000002,
          0.588,
          0.198,
          0.345,
          0.16899999999999998,
          0.6509999999999999,
          0.9279999999999999,
          0.759,
          0.278,
          0.866,
          0.757,
          0.461,
          0.469,
          0.207,
          0.39799999999999996,
          0.5760000000000001,
          0.597,
          0.672,
          0.622,
          0.386,
          0.847,
          0.44799999999999995,
          0.424,
          0.38799999999999996,
          0.0567,
          0.282,
          0.696,
          0.469,
          0.652,
          0.778,
          0.327,
          0.541,
          0.759,
          0.45,
          0.242,
          0.573,
          0.275,
          0.485,
          0.321,
          0.675,
          0.282,
          0.45,
          0.332,
          0.45399999999999996,
          0.401,
          0.6829999999999999,
          0.7829999999999999,
          0.611,
          0.461,
          0.653,
          0.645,
          0.5539999999999999,
          0.242,
          0.601,
          0.29100000000000004,
          0.503,
          0.332,
          0.672,
          0.27,
          0.467,
          0.33899999999999997,
          0.479,
          0.36200000000000004,
          0.68,
          0.762,
          0.599,
          0.46,
          0.665,
          0.659,
          0.59,
          0.255,
          0.588,
          0.256,
          0.49,
          0.37200000000000005,
          0.71,
          0.317,
          0.43700000000000006,
          0.308,
          0.396,
          0.373,
          0.634,
          0.8290000000000001,
          0.61,
          0.616,
          0.242,
          0.605,
          0.308,
          0.501,
          0.335,
          0.6709999999999999,
          0.273,
          0.466,
          0.34,
          0.47,
          0.361,
          0.679,
          0.763,
          0.601,
          0.6,
          0.547,
          0.551,
          0.508,
          0.545,
          0.665,
          0.39399999999999996,
          0.77,
          0.544,
          0.636,
          0.231,
          0.574,
          0.732,
          0.349,
          0.22899999999999998,
          0.6509999999999999,
          0.396,
          0.313,
          0.13,
          0.508,
          0.799,
          0.557,
          0.657,
          0.507,
          0.518,
          0.37799999999999995,
          0.7979999999999999,
          0.9309999999999999,
          0.745,
          0.27399999999999997,
          0.389,
          0.275,
          0.5579999999999999,
          0.541,
          0.591,
          0.547,
          0.24100000000000002,
          0.23,
          0.649,
          0.376,
          0.316,
          0.134,
          0.514,
          0.7829999999999999,
          0.557,
          0.6779999999999999,
          0.534,
          0.54,
          0.386,
          0.804,
          0.9359999999999999,
          0.7709999999999999,
          0.275,
          0.384,
          0.278,
          0.532,
          0.49,
          0.595,
          0.586,
          0.209,
          0.22899999999999998,
          0.642,
          0.379,
          0.297,
          0.135,
          0.522,
          0.7829999999999999,
          0.557,
          0.6779999999999999,
          0.536,
          0.539,
          0.386,
          0.804,
          0.935,
          0.77,
          0.278,
          0.386,
          0.278,
          0.534,
          0.494,
          0.595,
          0.58,
          0.21100000000000002,
          0.397,
          0.506,
          0.28300000000000003,
          0.7190000000000001,
          0.8079999999999999,
          0.544,
          0.698,
          0.314,
          0.31,
          0.397,
          0.55,
          0.29100000000000004,
          0.735,
          0.807,
          0.536,
          0.667,
          0.314,
          0.265,
          0.397,
          0.55,
          0.294,
          0.735,
          0.807,
          0.536,
          0.667,
          0.307,
          0.264,
          0.262,
          0.713,
          0.353,
          0.677,
          0.623,
          0.779,
          0.797,
          0.9229999999999999,
          0.20600000000000002,
          0.257,
          0.7070000000000001,
          0.39399999999999996,
          0.7120000000000001,
          0.62,
          0.7509999999999999,
          0.8170000000000001,
          0.929,
          0.218,
          0.257,
          0.71,
          0.395,
          0.7120000000000001,
          0.622,
          0.7509999999999999,
          0.815,
          0.929,
          0.21899999999999997,
          0.519,
          0.38799999999999996,
          0.48,
          0.8029999999999999,
          0.165,
          0.327,
          0.684,
          0.516,
          0.897,
          0.5579999999999999,
          0.563,
          0.767,
          0.797,
          0.56,
          0.6559999999999999,
          0.469,
          0.743,
          0.9179999999999999,
          0.326,
          0.6509999999999999,
          0.853,
          0.863,
          0.7140000000000001,
          0.504,
          0.7859999999999999,
          0.574,
          0.698,
          0.408,
          0.542,
          0.368,
          0.769,
          0.861,
          0.639,
          0.5660000000000001,
          0.588,
          0.7340000000000001,
          0.7859999999999999,
          0.568,
          0.377,
          0.488,
          0.795,
          0.156,
          0.315,
          0.665,
          0.55,
          0.917,
          0.551,
          0.573,
          0.784,
          0.7979999999999999,
          0.5529999999999999,
          0.5710000000000001,
          0.37799999999999995,
          0.48700000000000004,
          0.795,
          0.16,
          0.313,
          0.665,
          0.552,
          0.917,
          0.552,
          0.573,
          0.784,
          0.797,
          0.537,
          0.6709999999999999,
          0.474,
          0.7490000000000001,
          0.919,
          0.301,
          0.627,
          0.8370000000000001,
          0.861,
          0.763,
          0.514,
          0.6709999999999999,
          0.473,
          0.7490000000000001,
          0.9179999999999999,
          0.307,
          0.627,
          0.8370000000000001,
          0.862,
          0.763,
          0.514,
          0.183,
          0.516,
          0.833,
          0.655,
          0.6890000000000001,
          0.545,
          0.8420000000000001,
          0.6779999999999999,
          0.851,
          0.425,
          0.188,
          0.5710000000000001,
          0.8009999999999999,
          0.611,
          0.73,
          0.5720000000000001,
          0.858,
          0.669,
          0.871,
          0.473,
          0.188,
          0.5720000000000001,
          0.8009999999999999,
          0.609,
          0.7290000000000001,
          0.573,
          0.858,
          0.667,
          0.871,
          0.47200000000000003,
          0.581,
          0.883,
          0.7659999999999999,
          0.6409999999999999,
          0,
          0.764,
          0.8690000000000001,
          0.5529999999999999,
          0.868,
          0.764,
          0.612,
          0.8390000000000001,
          0.768,
          0.866
         ],
         "xaxis": "x",
         "y": [
          0.716,
          0.526,
          0.605,
          0.321,
          0.669,
          0.845,
          0.693,
          0.765,
          0.716,
          0.526,
          0.605,
          0.321,
          0.669,
          0.845,
          0.693,
          0.765,
          0.61,
          0.634,
          0.855,
          0.703,
          0.893,
          0.754,
          0.782,
          0.682,
          0.736,
          0.821,
          0.644,
          0.491,
          0.455,
          0.87,
          0.862,
          0.703,
          0.47,
          0.91,
          0.7979999999999999,
          0.758,
          0.762,
          0.64,
          0.667,
          0.8170000000000001,
          0.8240000000000001,
          0.5479999999999999,
          0.696,
          0.747,
          0.6459999999999999,
          0.84,
          0.575,
          0.903,
          0.848,
          0.87,
          0.862,
          0.703,
          0.47,
          0.91,
          0.7979999999999999,
          0.758,
          0.762,
          0.64,
          0.667,
          0.8170000000000001,
          0.8240000000000001,
          0.5479999999999999,
          0.696,
          0.747,
          0.6459999999999999,
          0.84,
          0.575,
          0.903,
          0.848,
          0.871,
          0.862,
          0.706,
          0.47,
          0.91,
          0.7979999999999999,
          0.757,
          0.762,
          0.6409999999999999,
          0.667,
          0.8170000000000001,
          0.8240000000000001,
          0.547,
          0.696,
          0.747,
          0.6459999999999999,
          0.838,
          0.574,
          0.903,
          0.848,
          0.87,
          0.862,
          0.858,
          0.703,
          0.799,
          0.47,
          0.91,
          0.871,
          0.862,
          0.858,
          0.706,
          0.799,
          0.47,
          0.91,
          0.272,
          0.7190000000000001,
          0.42200000000000004,
          0.687,
          0.828,
          0.8759999999999999,
          0.6609999999999999,
          0.8170000000000001,
          0.8759999999999999,
          0.883,
          0.903,
          0.8240000000000001,
          0.769,
          0.892,
          0.7609999999999999,
          0.938,
          0.9129999999999999,
          0.778,
          0.69,
          0.7659999999999999,
          0.825,
          0.863,
          0.386,
          0.581,
          0.775,
          0.7559999999999999,
          0.8440000000000001,
          0.7120000000000001,
          0.6940000000000001,
          0.889,
          0.617,
          0.927,
          0.89,
          0.894,
          0.8390000000000001,
          0.784,
          0.483,
          0.732,
          0.615,
          0.738,
          0.48700000000000004,
          0.838,
          0.79,
          0.84,
          0.907,
          0.9279999999999999,
          0.846,
          0.9390000000000001,
          0.9,
          0.9009999999999999,
          0.89,
          0.885,
          0.8440000000000001,
          0.777,
          0.475,
          0.741,
          0.607,
          0.7390000000000001,
          0.498,
          0.84,
          0.797,
          0.8340000000000001,
          0.9059999999999999,
          0.9279999999999999,
          0.846,
          0.946,
          0.903,
          0.903,
          0.905,
          0.89,
          0.851,
          0.797,
          0.484,
          0.745,
          0.621,
          0.7440000000000001,
          0.504,
          0.836,
          0.79,
          0.8340000000000001,
          0.9009999999999999,
          0.929,
          0.85,
          0.89,
          0.885,
          0.8420000000000001,
          0.779,
          0.475,
          0.74,
          0.607,
          0.7390000000000001,
          0.498,
          0.838,
          0.797,
          0.8340000000000001,
          0.9059999999999999,
          0.9279999999999999,
          0.851,
          0.909,
          0.863,
          0.7140000000000001,
          0.897,
          0.89,
          0.804,
          0.9620000000000001,
          0.885,
          0.8320000000000001,
          0.785,
          0.809,
          0.866,
          0.76,
          0.9690000000000001,
          0.897,
          0.794,
          0.799,
          0.542,
          0.875,
          0.97,
          0.877,
          0.892,
          0.718,
          0.797,
          0.8220000000000001,
          0.799,
          0.925,
          0.938,
          0.765,
          0.672,
          0.591,
          0.813,
          0.919,
          0.772,
          0.875,
          0.7140000000000001,
          0.97,
          0.897,
          0.799,
          0.799,
          0.541,
          0.878,
          0.97,
          0.875,
          0.8959999999999999,
          0.706,
          0.8220000000000001,
          0.815,
          0.8029999999999999,
          0.9259999999999999,
          0.937,
          0.747,
          0.6679999999999999,
          0.5760000000000001,
          0.8140000000000001,
          0.9179999999999999,
          0.775,
          0.87,
          0.7170000000000001,
          0.97,
          0.897,
          0.799,
          0.799,
          0.541,
          0.875,
          0.97,
          0.875,
          0.8959999999999999,
          0.706,
          0.823,
          0.815,
          0.8029999999999999,
          0.9259999999999999,
          0.937,
          0.747,
          0.67,
          0.5770000000000001,
          0.8140000000000001,
          0.9179999999999999,
          0.774,
          0.871,
          0.7170000000000001,
          0.9490000000000001,
          0.877,
          0.775,
          0.93,
          0.9690000000000001,
          0.88,
          0.501,
          0.8029999999999999,
          0.653,
          0.9490000000000001,
          0.878,
          0.7759999999999999,
          0.93,
          0.9670000000000001,
          0.879,
          0.499,
          0.804,
          0.652,
          0.9490000000000001,
          0.878,
          0.7759999999999999,
          0.93,
          0.9670000000000001,
          0.879,
          0.499,
          0.802,
          0.652,
          0.97,
          0.879,
          0.726,
          0.155,
          0.8909999999999999,
          0.9590000000000001,
          0.7859999999999999,
          0.9079999999999999,
          0.325,
          0.97,
          0.88,
          0.728,
          0.16699999999999998,
          0.89,
          0.96,
          0.7929999999999999,
          0.914,
          0.335,
          0.97,
          0.88,
          0.728,
          0.16699999999999998,
          0.889,
          0.9590000000000001,
          0.794,
          0.914,
          0.335,
          0.9009999999999999,
          0.866,
          0.992,
          0.872,
          0.8220000000000001,
          0.847,
          0.92,
          0.68,
          0.857,
          0.9009999999999999,
          0.894,
          0.85,
          0.927,
          0.792,
          0.825,
          0.9470000000000001,
          0.282,
          0.8640000000000001,
          0.713,
          0.882,
          0.981,
          0.925,
          0.971,
          0.8440000000000001,
          0.903,
          0.9570000000000001,
          0.9690000000000001,
          0.8370000000000001,
          0.902,
          0.486,
          0.674,
          0.7170000000000001,
          0.866,
          0.9670000000000001,
          0.86,
          0.6859999999999999,
          0.7,
          0.899,
          0.868,
          0.993,
          0.878,
          0.8290000000000001,
          0.851,
          0.924,
          0.6829999999999999,
          0.856,
          0.897,
          0.903,
          0.8540000000000001,
          0.925,
          0.815,
          0.899,
          0.868,
          0.993,
          0.878,
          0.828,
          0.851,
          0.924,
          0.6829999999999999,
          0.856,
          0.898,
          0.903,
          0.8540000000000001,
          0.925,
          0.8140000000000001,
          0.82,
          0.9470000000000001,
          0.285,
          0.867,
          0.713,
          0.887,
          0.98,
          0.927,
          0.9740000000000001,
          0.847,
          0.821,
          0.9470000000000001,
          0.285,
          0.867,
          0.7120000000000001,
          0.887,
          0.98,
          0.927,
          0.973,
          0.847,
          0.904,
          0.9159999999999999,
          0.797,
          0.37200000000000005,
          0.7440000000000001,
          0.794,
          0.903,
          0.961,
          0.9440000000000001,
          0.39299999999999996,
          0.9,
          0.914,
          0.797,
          0.382,
          0.725,
          0.7979999999999999,
          0.903,
          0.9620000000000001,
          0.945,
          0.392,
          0.9,
          0.914,
          0.797,
          0.382,
          0.725,
          0.7979999999999999,
          0.903,
          0.9620000000000001,
          0.945,
          0.392,
          0.821,
          0.956,
          0.358,
          0.8590000000000001,
          0.26,
          0.7290000000000001,
          0.508,
          0.846,
          0.9520000000000001,
          0.36200000000000004,
          0.8690000000000001,
          0.255,
          0.727,
          0.518
         ],
         "yaxis": "y"
        },
        {
         "customdata": [
          [
           "Geyser"
          ],
          [
           "Why Didn't You Stop Me?"
          ],
          [
           "Old Friend"
          ],
          [
           "A Pearl"
          ],
          [
           "Lonesome Love"
          ],
          [
           "Remember My Name"
          ],
          [
           "Me and My Husband"
          ],
          [
           "Come into the Water"
          ],
          [
           "Nobody"
          ],
          [
           "Pink in the Night"
          ],
          [
           "A Horse Named Cold Air"
          ],
          [
           "Washing Machine Heart"
          ],
          [
           "Blue Light"
          ],
          [
           "Two Slow Dancers"
          ],
          [
           "Happy"
          ],
          [
           "Dan the Dancer"
          ],
          [
           "Once More to See You"
          ],
          [
           "Fireworks"
          ],
          [
           "Your Best American Girl"
          ],
          [
           "I Bet on Losing Dogs"
          ],
          [
           "My Body's Made of Crushed Little Stars"
          ],
          [
           "Thursday Girl"
          ],
          [
           "A Loving Feeling"
          ],
          [
           "Crack Baby"
          ],
          [
           "A Burning Hill"
          ],
          [
           "Texas Reznikoff"
          ],
          [
           "Townie"
          ],
          [
           "First Love / Late Spring"
          ],
          [
           "Francis Forever"
          ],
          [
           "I Don't Smoke"
          ],
          [
           "Jobless Monday"
          ],
          [
           "Drunk Walk Home"
          ],
          [
           "I Will"
          ],
          [
           "Carry Me Out"
          ],
          [
           "Last Words of a Shooting Star"
          ],
          [
           "Goodbye, My Danish Sweetheart"
          ],
          [
           "Shame"
          ],
          [
           "Because Dreaming Costs Money, My Dear"
          ],
          [
           "Humpty"
          ],
          [
           "Circle"
          ],
          [
           "I Want You"
          ],
          [
           "Square"
          ],
          [
           "Strawberry Blond"
          ],
          [
           "Class of 2013"
          ],
          [
           "Square (Solo Piano Version)"
          ],
          [
           "Shame (Jammin' Out Solo Version)"
          ],
          [
           "Liquid Smooth"
          ],
          [
           "Eric"
          ],
          [
           "Brand New City"
          ],
          [
           "Real Men"
          ],
          [
           "Wife"
          ],
          [
           "Abbey"
          ],
          [
           "Bag of Bones"
          ],
          [
           "Door"
          ],
          [
           "Pearl Diver"
          ]
         ],
         "hovertemplate": "Artist(s)=Mitski<br>Positiveness (valence)=%{x}<br>Energy=%{y}<br>Song Title=%{customdata[0]}<extra></extra>",
         "legendgroup": "Mitski",
         "marker": {
          "color": "#FF6692",
          "symbol": "circle"
         },
         "mode": "markers",
         "name": "Mitski",
         "showlegend": true,
         "type": "scattergl",
         "x": [
          0.152,
          0.556,
          0.327,
          0.226,
          0.214,
          0.597,
          0.7659999999999999,
          0.353,
          0.494,
          0.11,
          0.11900000000000001,
          0.581,
          0.17300000000000001,
          0.0535,
          0.040999999999999995,
          0.64,
          0.33399999999999996,
          0.135,
          0.13,
          0.386,
          0.316,
          0.0512,
          0.33799999999999997,
          0.0562,
          0.10400000000000001,
          0.37,
          0.276,
          0.10400000000000001,
          0.32,
          0.233,
          0.203,
          0.325,
          0.261,
          0.113,
          0.0961,
          0.473,
          0.0699,
          0.196,
          0.243,
          0.0473,
          0.0635,
          0.106,
          0.943,
          0.122,
          0.498,
          0.0813,
          0.11599999999999999,
          0.0391,
          0.659,
          0.7170000000000001,
          0.231,
          0.254,
          0.32299999999999995,
          0.39,
          0.175
         ],
         "xaxis": "x",
         "y": [
          0.61,
          0.86,
          0.44799999999999995,
          0.639,
          0.7290000000000001,
          0.691,
          0.639,
          0.375,
          0.716,
          0.39799999999999996,
          0.0826,
          0.821,
          0.41700000000000004,
          0.106,
          0.514,
          0.688,
          0.409,
          0.304,
          0.257,
          0.496,
          0.7440000000000001,
          0.4,
          0.748,
          0.552,
          0.19,
          0.263,
          0.884,
          0.545,
          0.44799999999999995,
          0.54,
          0.442,
          0.358,
          0.306,
          0.382,
          0.16699999999999998,
          0.435,
          0.18100000000000002,
          0.16899999999999998,
          0.28600000000000003,
          0.248,
          0.292,
          0.198,
          0.545,
          0.22,
          0.42100000000000004,
          0.5,
          0.342,
          0.239,
          0.831,
          0.41200000000000003,
          0.10099999999999999,
          0.204,
          0.24,
          0.0922,
          0.152
         ],
         "yaxis": "y"
        },
        {
         "customdata": [
          [
           "The Adults Are Talking"
          ],
          [
           "Selfless"
          ],
          [
           "Brooklyn Bridge To Chorus"
          ],
          [
           "Bad Decisions"
          ],
          [
           "Eternal Summer"
          ],
          [
           "At The Door"
          ],
          [
           "Why Are Sundays So Depressing"
          ],
          [
           "Not The Same Anymore"
          ],
          [
           "Ode To The Mets"
          ],
          [
           "Tap Out"
          ],
          [
           "All The Time"
          ],
          [
           "One Way Trigger"
          ],
          [
           "Welcome To Japan"
          ],
          [
           "80's Comedown Machine"
          ],
          [
           "50/50"
          ],
          [
           "Slow Animals"
          ],
          [
           "Partners In Crime"
          ],
          [
           "Chances"
          ],
          [
           "Happy Ending"
          ],
          [
           "Call It Fate, Call It Karma"
          ],
          [
           "Tap Out"
          ],
          [
           "All the Time"
          ],
          [
           "One Way Trigger"
          ],
          [
           "Welcome to Japan"
          ],
          [
           "80's Comedown Machine"
          ],
          [
           "50/50"
          ],
          [
           "Slow Animals"
          ],
          [
           "Partners in Crime"
          ],
          [
           "Chances"
          ],
          [
           "Happy Ending"
          ],
          [
           "Call It Fate, Call It Karma"
          ],
          [
           "Machu Picchu"
          ],
          [
           "Under Cover of Darkness"
          ],
          [
           "Two Kinds of Happiness"
          ],
          [
           "You're So Right"
          ],
          [
           "Taken for a Fool"
          ],
          [
           "Games"
          ],
          [
           "Call Me Back"
          ],
          [
           "Gratisfaction"
          ],
          [
           "Metabolism"
          ],
          [
           "Life Is Simple in the Moonlight"
          ],
          [
           "Machu Picchu"
          ],
          [
           "Under Cover Of Darkness"
          ],
          [
           "Two Kinds Of Happiness"
          ],
          [
           "You're So Right"
          ],
          [
           "Taken For A Fool"
          ],
          [
           "Games"
          ],
          [
           "Call Me Back"
          ],
          [
           "Gratisfaction"
          ],
          [
           "Metabolism"
          ],
          [
           "Life Is Simple In The Moonlight"
          ],
          [
           "You Only Live Once"
          ],
          [
           "Juicebox"
          ],
          [
           "Heart In a Cage"
          ],
          [
           "Razorblade"
          ],
          [
           "On the Other Side"
          ],
          [
           "Vision of Division"
          ],
          [
           "Ask Me Anything"
          ],
          [
           "Electricityscape"
          ],
          [
           "Killing Lies"
          ],
          [
           "Fear of Sleep"
          ],
          [
           "15 Minutes"
          ],
          [
           "Ize of the World"
          ],
          [
           "Evening Sun"
          ],
          [
           "Red Light"
          ],
          [
           "You Only Live Once"
          ],
          [
           "Juicebox"
          ],
          [
           "Heart In a Cage"
          ],
          [
           "Razorblade"
          ],
          [
           "On the Other Side"
          ],
          [
           "Vision of Division"
          ],
          [
           "Ask Me Anything"
          ],
          [
           "Electricityscape"
          ],
          [
           "Killing Lies"
          ],
          [
           "Fear of Sleep"
          ],
          [
           "15 Minutes"
          ],
          [
           "Ize of the World"
          ],
          [
           "Evening Sun"
          ],
          [
           "Red Light"
          ],
          [
           "What Ever Happened?"
          ],
          [
           "Reptilia"
          ],
          [
           "Automatic Stop"
          ],
          [
           "12:51"
          ],
          [
           "You Talk Way Too Much"
          ],
          [
           "Between Love & Hate"
          ],
          [
           "Meet Me in the Bathroom"
          ],
          [
           "Under Control"
          ],
          [
           "The Way It Is"
          ],
          [
           "The End Has No End"
          ],
          [
           "I Can't Win"
          ],
          [
           "What Ever Happened?"
          ],
          [
           "Reptilia"
          ],
          [
           "Automatic Stop"
          ],
          [
           "12:51"
          ],
          [
           "You Talk Way Too Much"
          ],
          [
           "Between Love & Hate"
          ],
          [
           "Meet Me In The Bathroom"
          ],
          [
           "Under Control"
          ],
          [
           "The Way It Is"
          ],
          [
           "The End Has No End"
          ],
          [
           "I Can't Win"
          ],
          [
           "Is This It"
          ],
          [
           "The Modern Age"
          ],
          [
           "Soma"
          ],
          [
           "Barely Legal"
          ],
          [
           "Someday"
          ],
          [
           "Alone, Together"
          ],
          [
           "Last Nite"
          ],
          [
           "Hard To Explain"
          ],
          [
           "New York City Cops"
          ],
          [
           "Trying Your Luck"
          ],
          [
           "Take It Or Leave It"
          ],
          [
           "Is This It"
          ],
          [
           "The Modern Age"
          ],
          [
           "Soma"
          ],
          [
           "Barely Legal"
          ],
          [
           "Someday"
          ],
          [
           "Alone, Together"
          ],
          [
           "Last Nite"
          ],
          [
           "Hard To Explain"
          ],
          [
           "New York City Cops"
          ],
          [
           "Trying Your Luck"
          ],
          [
           "Take It Or Leave It"
          ],
          [
           "Is This It"
          ],
          [
           "The Modern Age"
          ],
          [
           "Soma"
          ],
          [
           "Barely Legal"
          ],
          [
           "Someday"
          ],
          [
           "Alone, Together"
          ],
          [
           "Last Nite"
          ],
          [
           "Hard To Explain"
          ],
          [
           "When It Started"
          ],
          [
           "Trying Your Luck"
          ],
          [
           "Take It Or Leave It"
          ],
          [
           "Is This It"
          ],
          [
           "The Modern Age"
          ],
          [
           "Soma"
          ],
          [
           "Barely Legal"
          ],
          [
           "Someday"
          ],
          [
           "Alone, Together"
          ],
          [
           "Last Nite"
          ],
          [
           "Hard To Explain"
          ],
          [
           "New York City Cops"
          ],
          [
           "Trying Your Luck"
          ],
          [
           "Take It Or Leave It"
          ]
         ],
         "hovertemplate": "Artist(s)=The Strokes<br>Positiveness (valence)=%{x}<br>Energy=%{y}<br>Song Title=%{customdata[0]}<extra></extra>",
         "legendgroup": "The Strokes",
         "marker": {
          "color": "#B6E880",
          "symbol": "circle"
         },
         "mode": "markers",
         "name": "The Strokes",
         "showlegend": true,
         "type": "scattergl",
         "x": [
          0.649,
          0.0888,
          0.467,
          0.39299999999999996,
          0.326,
          0.363,
          0.299,
          0.282,
          0.201,
          0.629,
          0.078,
          0.9640000000000001,
          0.6459999999999999,
          0.38,
          0.623,
          0.5,
          0.551,
          0.53,
          0.255,
          0.359,
          0.637,
          0.0703,
          0.9640000000000001,
          0.657,
          0.37,
          0.555,
          0.537,
          0.56,
          0.55,
          0.264,
          0.39,
          0.8740000000000001,
          0.588,
          0.758,
          0.32799999999999996,
          0.885,
          0.452,
          0.185,
          0.708,
          0.34,
          0.513,
          0.871,
          0.5770000000000001,
          0.6920000000000001,
          0.376,
          0.871,
          0.479,
          0.192,
          0.721,
          0.376,
          0.485,
          0.968,
          0.547,
          0.12,
          0.511,
          0.5479999999999999,
          0.138,
          0.461,
          0.57,
          0.9209999999999999,
          0.272,
          0.39399999999999996,
          0.27699999999999997,
          0.531,
          0.903,
          0.9690000000000001,
          0.59,
          0.121,
          0.54,
          0.564,
          0.157,
          0.45299999999999996,
          0.598,
          0.927,
          0.242,
          0.31,
          0.307,
          0.535,
          0.894,
          0.584,
          0.77,
          0.914,
          0.5920000000000001,
          0.695,
          0.539,
          0.5870000000000001,
          0.6409999999999999,
          0.856,
          0.5329999999999999,
          0.40299999999999997,
          0.6,
          0.789,
          0.961,
          0.578,
          0.828,
          0.527,
          0.657,
          0.698,
          0.904,
          0.6,
          0.536,
          0.804,
          0.868,
          0.502,
          0.857,
          0.6709999999999999,
          0.961,
          0.775,
          0.622,
          0.455,
          0.628,
          0.484,
          0.8140000000000001,
          0.851,
          0.494,
          0.8859999999999999,
          0.691,
          0.965,
          0.769,
          0.6509999999999999,
          0.493,
          0.629,
          0.439,
          0.846,
          0.897,
          0.483,
          0.852,
          0.679,
          0.961,
          0.79,
          0.6659999999999999,
          0.903,
          0.619,
          0.48100000000000004,
          0.804,
          0.868,
          0.502,
          0.857,
          0.6709999999999999,
          0.9620000000000001,
          0.767,
          0.623,
          0.455,
          0.629,
          0.484
         ],
         "xaxis": "x",
         "y": [
          0.7490000000000001,
          0.679,
          0.5710000000000001,
          0.922,
          0.78,
          0.32299999999999995,
          0.7140000000000001,
          0.613,
          0.617,
          0.745,
          0.883,
          0.9420000000000001,
          0.6659999999999999,
          0.503,
          0.93,
          0.6459999999999999,
          0.951,
          0.569,
          0.831,
          0.24100000000000002,
          0.752,
          0.875,
          0.9470000000000001,
          0.647,
          0.499,
          0.93,
          0.637,
          0.953,
          0.574,
          0.8320000000000001,
          0.22899999999999998,
          0.8170000000000001,
          0.775,
          0.778,
          0.863,
          0.89,
          0.708,
          0.297,
          0.7879999999999999,
          0.85,
          0.696,
          0.82,
          0.7829999999999999,
          0.764,
          0.8490000000000001,
          0.897,
          0.7070000000000001,
          0.297,
          0.795,
          0.847,
          0.7,
          0.9079999999999999,
          0.981,
          0.857,
          0.8590000000000001,
          0.8109999999999999,
          0.8109999999999999,
          0.31,
          0.882,
          0.8059999999999999,
          0.9229999999999999,
          0.8809999999999999,
          0.894,
          0.755,
          0.8370000000000001,
          0.905,
          0.983,
          0.867,
          0.863,
          0.818,
          0.816,
          0.322,
          0.8759999999999999,
          0.8029999999999999,
          0.9179999999999999,
          0.879,
          0.889,
          0.7440000000000001,
          0.833,
          0.596,
          0.649,
          0.535,
          0.889,
          0.971,
          0.603,
          0.941,
          0.72,
          0.95,
          0.66,
          0.746,
          0.61,
          0.645,
          0.5429999999999999,
          0.87,
          0.961,
          0.596,
          0.91,
          0.698,
          0.9359999999999999,
          0.649,
          0.7070000000000001,
          0.679,
          0.89,
          0.715,
          0.8859999999999999,
          0.531,
          0.862,
          0.905,
          0.6859999999999999,
          0.853,
          0.691,
          0.924,
          0.6629999999999999,
          0.892,
          0.71,
          0.889,
          0.531,
          0.852,
          0.903,
          0.688,
          0.843,
          0.69,
          0.924,
          0.6920000000000001,
          0.888,
          0.706,
          0.884,
          0.521,
          0.863,
          0.899,
          0.6659999999999999,
          0.654,
          0.687,
          0.9129999999999999,
          0.679,
          0.89,
          0.715,
          0.8859999999999999,
          0.531,
          0.855,
          0.91,
          0.682,
          0.853,
          0.691,
          0.924
         ],
         "yaxis": "y"
        },
        {
         "mode": "text",
         "name": "Text",
         "showlegend": false,
         "text": [
          "Q1"
         ],
         "textfont": {
          "color": "lightslategrey",
          "size": 36
         },
         "textposition": "middle center",
         "type": "scatter",
         "x": [
          0.95
         ],
         "y": [
          0.95
         ]
        },
        {
         "mode": "text",
         "name": "Text",
         "showlegend": false,
         "text": [
          "Q2"
         ],
         "textfont": {
          "color": "lightslategrey",
          "size": 36
         },
         "textposition": "middle center",
         "type": "scatter",
         "x": [
          0.95
         ],
         "y": [
          0.05
         ]
        },
        {
         "mode": "text",
         "name": "Text",
         "showlegend": false,
         "text": [
          "Q3"
         ],
         "textfont": {
          "color": "lightslategrey",
          "size": 36
         },
         "textposition": "middle center",
         "type": "scatter",
         "x": [
          0.05
         ],
         "y": [
          0.05
         ]
        },
        {
         "mode": "text",
         "name": "Text",
         "showlegend": false,
         "text": [
          "Q4"
         ],
         "textfont": {
          "color": "lightslategrey",
          "size": 36
         },
         "textposition": "middle center",
         "type": "scatter",
         "x": [
          0.05
         ],
         "y": [
          0.95
         ]
        }
       ],
       "layout": {
        "height": 700,
        "legend": {
         "title": {
          "text": "Artist(s)"
         },
         "tracegroupgap": 0
        },
        "margin": {
         "t": 60
        },
        "shapes": [
         {
          "line": {
           "width": 3
          },
          "type": "line",
          "x0": 0,
          "x1": 1,
          "xref": "x domain",
          "y0": 0.5,
          "y1": 0.5,
          "yref": "y"
         },
         {
          "line": {
           "width": 3
          },
          "type": "line",
          "x0": 0.5,
          "x1": 0.5,
          "xref": "x",
          "y0": 0,
          "y1": 1,
          "yref": "y domain"
         }
        ],
        "template": {
         "data": {
          "bar": [
           {
            "error_x": {
             "color": "rgb(36,36,36)"
            },
            "error_y": {
             "color": "rgb(36,36,36)"
            },
            "marker": {
             "line": {
              "color": "white",
              "width": 0.5
             },
             "pattern": {
              "fillmode": "overlay",
              "size": 10,
              "solidity": 0.2
             }
            },
            "type": "bar"
           }
          ],
          "barpolar": [
           {
            "marker": {
             "line": {
              "color": "white",
              "width": 0.5
             },
             "pattern": {
              "fillmode": "overlay",
              "size": 10,
              "solidity": 0.2
             }
            },
            "type": "barpolar"
           }
          ],
          "carpet": [
           {
            "aaxis": {
             "endlinecolor": "rgb(36,36,36)",
             "gridcolor": "white",
             "linecolor": "white",
             "minorgridcolor": "white",
             "startlinecolor": "rgb(36,36,36)"
            },
            "baxis": {
             "endlinecolor": "rgb(36,36,36)",
             "gridcolor": "white",
             "linecolor": "white",
             "minorgridcolor": "white",
             "startlinecolor": "rgb(36,36,36)"
            },
            "type": "carpet"
           }
          ],
          "choropleth": [
           {
            "colorbar": {
             "outlinewidth": 1,
             "tickcolor": "rgb(36,36,36)",
             "ticks": "outside"
            },
            "type": "choropleth"
           }
          ],
          "contour": [
           {
            "colorbar": {
             "outlinewidth": 1,
             "tickcolor": "rgb(36,36,36)",
             "ticks": "outside"
            },
            "colorscale": [
             [
              0,
              "#440154"
             ],
             [
              0.1111111111111111,
              "#482878"
             ],
             [
              0.2222222222222222,
              "#3e4989"
             ],
             [
              0.3333333333333333,
              "#31688e"
             ],
             [
              0.4444444444444444,
              "#26828e"
             ],
             [
              0.5555555555555556,
              "#1f9e89"
             ],
             [
              0.6666666666666666,
              "#35b779"
             ],
             [
              0.7777777777777778,
              "#6ece58"
             ],
             [
              0.8888888888888888,
              "#b5de2b"
             ],
             [
              1,
              "#fde725"
             ]
            ],
            "type": "contour"
           }
          ],
          "contourcarpet": [
           {
            "colorbar": {
             "outlinewidth": 1,
             "tickcolor": "rgb(36,36,36)",
             "ticks": "outside"
            },
            "type": "contourcarpet"
           }
          ],
          "heatmap": [
           {
            "colorbar": {
             "outlinewidth": 1,
             "tickcolor": "rgb(36,36,36)",
             "ticks": "outside"
            },
            "colorscale": [
             [
              0,
              "#440154"
             ],
             [
              0.1111111111111111,
              "#482878"
             ],
             [
              0.2222222222222222,
              "#3e4989"
             ],
             [
              0.3333333333333333,
              "#31688e"
             ],
             [
              0.4444444444444444,
              "#26828e"
             ],
             [
              0.5555555555555556,
              "#1f9e89"
             ],
             [
              0.6666666666666666,
              "#35b779"
             ],
             [
              0.7777777777777778,
              "#6ece58"
             ],
             [
              0.8888888888888888,
              "#b5de2b"
             ],
             [
              1,
              "#fde725"
             ]
            ],
            "type": "heatmap"
           }
          ],
          "heatmapgl": [
           {
            "colorbar": {
             "outlinewidth": 1,
             "tickcolor": "rgb(36,36,36)",
             "ticks": "outside"
            },
            "colorscale": [
             [
              0,
              "#440154"
             ],
             [
              0.1111111111111111,
              "#482878"
             ],
             [
              0.2222222222222222,
              "#3e4989"
             ],
             [
              0.3333333333333333,
              "#31688e"
             ],
             [
              0.4444444444444444,
              "#26828e"
             ],
             [
              0.5555555555555556,
              "#1f9e89"
             ],
             [
              0.6666666666666666,
              "#35b779"
             ],
             [
              0.7777777777777778,
              "#6ece58"
             ],
             [
              0.8888888888888888,
              "#b5de2b"
             ],
             [
              1,
              "#fde725"
             ]
            ],
            "type": "heatmapgl"
           }
          ],
          "histogram": [
           {
            "marker": {
             "line": {
              "color": "white",
              "width": 0.6
             }
            },
            "type": "histogram"
           }
          ],
          "histogram2d": [
           {
            "colorbar": {
             "outlinewidth": 1,
             "tickcolor": "rgb(36,36,36)",
             "ticks": "outside"
            },
            "colorscale": [
             [
              0,
              "#440154"
             ],
             [
              0.1111111111111111,
              "#482878"
             ],
             [
              0.2222222222222222,
              "#3e4989"
             ],
             [
              0.3333333333333333,
              "#31688e"
             ],
             [
              0.4444444444444444,
              "#26828e"
             ],
             [
              0.5555555555555556,
              "#1f9e89"
             ],
             [
              0.6666666666666666,
              "#35b779"
             ],
             [
              0.7777777777777778,
              "#6ece58"
             ],
             [
              0.8888888888888888,
              "#b5de2b"
             ],
             [
              1,
              "#fde725"
             ]
            ],
            "type": "histogram2d"
           }
          ],
          "histogram2dcontour": [
           {
            "colorbar": {
             "outlinewidth": 1,
             "tickcolor": "rgb(36,36,36)",
             "ticks": "outside"
            },
            "colorscale": [
             [
              0,
              "#440154"
             ],
             [
              0.1111111111111111,
              "#482878"
             ],
             [
              0.2222222222222222,
              "#3e4989"
             ],
             [
              0.3333333333333333,
              "#31688e"
             ],
             [
              0.4444444444444444,
              "#26828e"
             ],
             [
              0.5555555555555556,
              "#1f9e89"
             ],
             [
              0.6666666666666666,
              "#35b779"
             ],
             [
              0.7777777777777778,
              "#6ece58"
             ],
             [
              0.8888888888888888,
              "#b5de2b"
             ],
             [
              1,
              "#fde725"
             ]
            ],
            "type": "histogram2dcontour"
           }
          ],
          "mesh3d": [
           {
            "colorbar": {
             "outlinewidth": 1,
             "tickcolor": "rgb(36,36,36)",
             "ticks": "outside"
            },
            "type": "mesh3d"
           }
          ],
          "parcoords": [
           {
            "line": {
             "colorbar": {
              "outlinewidth": 1,
              "tickcolor": "rgb(36,36,36)",
              "ticks": "outside"
             }
            },
            "type": "parcoords"
           }
          ],
          "pie": [
           {
            "automargin": true,
            "type": "pie"
           }
          ],
          "scatter": [
           {
            "fillpattern": {
             "fillmode": "overlay",
             "size": 10,
             "solidity": 0.2
            },
            "type": "scatter"
           }
          ],
          "scatter3d": [
           {
            "line": {
             "colorbar": {
              "outlinewidth": 1,
              "tickcolor": "rgb(36,36,36)",
              "ticks": "outside"
             }
            },
            "marker": {
             "colorbar": {
              "outlinewidth": 1,
              "tickcolor": "rgb(36,36,36)",
              "ticks": "outside"
             }
            },
            "type": "scatter3d"
           }
          ],
          "scattercarpet": [
           {
            "marker": {
             "colorbar": {
              "outlinewidth": 1,
              "tickcolor": "rgb(36,36,36)",
              "ticks": "outside"
             }
            },
            "type": "scattercarpet"
           }
          ],
          "scattergeo": [
           {
            "marker": {
             "colorbar": {
              "outlinewidth": 1,
              "tickcolor": "rgb(36,36,36)",
              "ticks": "outside"
             }
            },
            "type": "scattergeo"
           }
          ],
          "scattergl": [
           {
            "marker": {
             "colorbar": {
              "outlinewidth": 1,
              "tickcolor": "rgb(36,36,36)",
              "ticks": "outside"
             }
            },
            "type": "scattergl"
           }
          ],
          "scattermapbox": [
           {
            "marker": {
             "colorbar": {
              "outlinewidth": 1,
              "tickcolor": "rgb(36,36,36)",
              "ticks": "outside"
             }
            },
            "type": "scattermapbox"
           }
          ],
          "scatterpolar": [
           {
            "marker": {
             "colorbar": {
              "outlinewidth": 1,
              "tickcolor": "rgb(36,36,36)",
              "ticks": "outside"
             }
            },
            "type": "scatterpolar"
           }
          ],
          "scatterpolargl": [
           {
            "marker": {
             "colorbar": {
              "outlinewidth": 1,
              "tickcolor": "rgb(36,36,36)",
              "ticks": "outside"
             }
            },
            "type": "scatterpolargl"
           }
          ],
          "scatterternary": [
           {
            "marker": {
             "colorbar": {
              "outlinewidth": 1,
              "tickcolor": "rgb(36,36,36)",
              "ticks": "outside"
             }
            },
            "type": "scatterternary"
           }
          ],
          "surface": [
           {
            "colorbar": {
             "outlinewidth": 1,
             "tickcolor": "rgb(36,36,36)",
             "ticks": "outside"
            },
            "colorscale": [
             [
              0,
              "#440154"
             ],
             [
              0.1111111111111111,
              "#482878"
             ],
             [
              0.2222222222222222,
              "#3e4989"
             ],
             [
              0.3333333333333333,
              "#31688e"
             ],
             [
              0.4444444444444444,
              "#26828e"
             ],
             [
              0.5555555555555556,
              "#1f9e89"
             ],
             [
              0.6666666666666666,
              "#35b779"
             ],
             [
              0.7777777777777778,
              "#6ece58"
             ],
             [
              0.8888888888888888,
              "#b5de2b"
             ],
             [
              1,
              "#fde725"
             ]
            ],
            "type": "surface"
           }
          ],
          "table": [
           {
            "cells": {
             "fill": {
              "color": "rgb(237,237,237)"
             },
             "line": {
              "color": "white"
             }
            },
            "header": {
             "fill": {
              "color": "rgb(217,217,217)"
             },
             "line": {
              "color": "white"
             }
            },
            "type": "table"
           }
          ]
         },
         "layout": {
          "annotationdefaults": {
           "arrowhead": 0,
           "arrowwidth": 1
          },
          "autotypenumbers": "strict",
          "coloraxis": {
           "colorbar": {
            "outlinewidth": 1,
            "tickcolor": "rgb(36,36,36)",
            "ticks": "outside"
           }
          },
          "colorscale": {
           "diverging": [
            [
             0,
             "rgb(103,0,31)"
            ],
            [
             0.1,
             "rgb(178,24,43)"
            ],
            [
             0.2,
             "rgb(214,96,77)"
            ],
            [
             0.3,
             "rgb(244,165,130)"
            ],
            [
             0.4,
             "rgb(253,219,199)"
            ],
            [
             0.5,
             "rgb(247,247,247)"
            ],
            [
             0.6,
             "rgb(209,229,240)"
            ],
            [
             0.7,
             "rgb(146,197,222)"
            ],
            [
             0.8,
             "rgb(67,147,195)"
            ],
            [
             0.9,
             "rgb(33,102,172)"
            ],
            [
             1,
             "rgb(5,48,97)"
            ]
           ],
           "sequential": [
            [
             0,
             "#440154"
            ],
            [
             0.1111111111111111,
             "#482878"
            ],
            [
             0.2222222222222222,
             "#3e4989"
            ],
            [
             0.3333333333333333,
             "#31688e"
            ],
            [
             0.4444444444444444,
             "#26828e"
            ],
            [
             0.5555555555555556,
             "#1f9e89"
            ],
            [
             0.6666666666666666,
             "#35b779"
            ],
            [
             0.7777777777777778,
             "#6ece58"
            ],
            [
             0.8888888888888888,
             "#b5de2b"
            ],
            [
             1,
             "#fde725"
            ]
           ],
           "sequentialminus": [
            [
             0,
             "#440154"
            ],
            [
             0.1111111111111111,
             "#482878"
            ],
            [
             0.2222222222222222,
             "#3e4989"
            ],
            [
             0.3333333333333333,
             "#31688e"
            ],
            [
             0.4444444444444444,
             "#26828e"
            ],
            [
             0.5555555555555556,
             "#1f9e89"
            ],
            [
             0.6666666666666666,
             "#35b779"
            ],
            [
             0.7777777777777778,
             "#6ece58"
            ],
            [
             0.8888888888888888,
             "#b5de2b"
            ],
            [
             1,
             "#fde725"
            ]
           ]
          },
          "colorway": [
           "#1F77B4",
           "#FF7F0E",
           "#2CA02C",
           "#D62728",
           "#9467BD",
           "#8C564B",
           "#E377C2",
           "#7F7F7F",
           "#BCBD22",
           "#17BECF"
          ],
          "font": {
           "color": "rgb(36,36,36)"
          },
          "geo": {
           "bgcolor": "white",
           "lakecolor": "white",
           "landcolor": "white",
           "showlakes": true,
           "showland": true,
           "subunitcolor": "white"
          },
          "hoverlabel": {
           "align": "left"
          },
          "hovermode": "closest",
          "mapbox": {
           "style": "light"
          },
          "paper_bgcolor": "white",
          "plot_bgcolor": "white",
          "polar": {
           "angularaxis": {
            "gridcolor": "rgb(232,232,232)",
            "linecolor": "rgb(36,36,36)",
            "showgrid": false,
            "showline": true,
            "ticks": "outside"
           },
           "bgcolor": "white",
           "radialaxis": {
            "gridcolor": "rgb(232,232,232)",
            "linecolor": "rgb(36,36,36)",
            "showgrid": false,
            "showline": true,
            "ticks": "outside"
           }
          },
          "scene": {
           "xaxis": {
            "backgroundcolor": "white",
            "gridcolor": "rgb(232,232,232)",
            "gridwidth": 2,
            "linecolor": "rgb(36,36,36)",
            "showbackground": true,
            "showgrid": false,
            "showline": true,
            "ticks": "outside",
            "zeroline": false,
            "zerolinecolor": "rgb(36,36,36)"
           },
           "yaxis": {
            "backgroundcolor": "white",
            "gridcolor": "rgb(232,232,232)",
            "gridwidth": 2,
            "linecolor": "rgb(36,36,36)",
            "showbackground": true,
            "showgrid": false,
            "showline": true,
            "ticks": "outside",
            "zeroline": false,
            "zerolinecolor": "rgb(36,36,36)"
           },
           "zaxis": {
            "backgroundcolor": "white",
            "gridcolor": "rgb(232,232,232)",
            "gridwidth": 2,
            "linecolor": "rgb(36,36,36)",
            "showbackground": true,
            "showgrid": false,
            "showline": true,
            "ticks": "outside",
            "zeroline": false,
            "zerolinecolor": "rgb(36,36,36)"
           }
          },
          "shapedefaults": {
           "fillcolor": "black",
           "line": {
            "width": 0
           },
           "opacity": 0.3
          },
          "ternary": {
           "aaxis": {
            "gridcolor": "rgb(232,232,232)",
            "linecolor": "rgb(36,36,36)",
            "showgrid": false,
            "showline": true,
            "ticks": "outside"
           },
           "baxis": {
            "gridcolor": "rgb(232,232,232)",
            "linecolor": "rgb(36,36,36)",
            "showgrid": false,
            "showline": true,
            "ticks": "outside"
           },
           "bgcolor": "white",
           "caxis": {
            "gridcolor": "rgb(232,232,232)",
            "linecolor": "rgb(36,36,36)",
            "showgrid": false,
            "showline": true,
            "ticks": "outside"
           }
          },
          "title": {
           "x": 0.05
          },
          "xaxis": {
           "automargin": true,
           "gridcolor": "rgb(232,232,232)",
           "linecolor": "rgb(36,36,36)",
           "showgrid": false,
           "showline": true,
           "ticks": "outside",
           "title": {
            "standoff": 15
           },
           "zeroline": false,
           "zerolinecolor": "rgb(36,36,36)"
          },
          "yaxis": {
           "automargin": true,
           "gridcolor": "rgb(232,232,232)",
           "linecolor": "rgb(36,36,36)",
           "showgrid": false,
           "showline": true,
           "ticks": "outside",
           "title": {
            "standoff": 15
           },
           "zeroline": false,
           "zerolinecolor": "rgb(36,36,36)"
          }
         }
        },
        "width": 800,
        "xaxis": {
         "anchor": "y",
         "domain": [
          0,
          1
         ],
         "range": [
          -0.01,
          1.01
         ],
         "title": {
          "text": "Positiveness (valence)"
         }
        },
        "yaxis": {
         "anchor": "x",
         "domain": [
          0,
          1
         ],
         "range": [
          -0.01,
          1.01
         ],
         "title": {
          "text": "Energy"
         }
        }
       }
      },
      "text/html": [
       "<div>                            <div id=\"0aa2b979-1741-4408-bbde-6a75ef495483\" class=\"plotly-graph-div\" style=\"height:700px; width:800px;\"></div>            <script type=\"text/javascript\">                require([\"plotly\"], function(Plotly) {                    window.PLOTLYENV=window.PLOTLYENV || {};                                    if (document.getElementById(\"0aa2b979-1741-4408-bbde-6a75ef495483\")) {                    Plotly.newPlot(                        \"0aa2b979-1741-4408-bbde-6a75ef495483\",                        [{\"customdata\":[[\"24K Magic\"],[\"Chunky\"],[\"Perm\"],[\"That's What I Like\"],[\"Versace on the Floor\"],[\"Straight up & Down\"],[\"Calling All My Lovelies\"],[\"Finesse\"],[\"Too Good to Say Goodbye\"],[\"Young Girls\"],[\"Locked out of Heaven\"],[\"Gorilla\"],[\"Treasure\"],[\"Moonshine\"],[\"When I Was Your Man\"],[\"Natalie\"],[\"Show Me\"],[\"Money Make Her Smile\"],[\"If I Knew\"],[\"Young Girls\"],[\"Locked out of Heaven\"],[\"Gorilla\"],[\"Treasure\"],[\"Moonshine\"],[\"When I Was Your Man\"],[\"Natalie\"],[\"Show Me\"],[\"Money Make Her Smile\"],[\"If I Knew\"],[\"Young Girls\"],[\"Locked out of Heaven\"],[\"Gorilla\"],[\"Treasure\"],[\"Moonshine\"],[\"When I Was Your Man\"],[\"Natalie\"],[\"Show Me\"],[\"Money Make Her Smile\"],[\"If I Knew\"],[\"Grenade\"],[\"Just the Way You Are\"],[\"Our First Time\"],[\"Runaway Baby\"],[\"The Lazy Song\"],[\"Marry You\"],[\"Talking to the Moon\"],[\"Liquor Store Blues (feat. Damian Marley)\"],[\"Count on Me\"],[\"The Other Side (feat. CeeLo Green and B.o.B)\"],[\"Somewhere in Brooklyn\"],[\"Talking to the Moon - Acoustic Piano\"],[\"Grenade\"],[\"Just the Way You Are\"],[\"Our First Time\"],[\"Runaway Baby\"],[\"The Lazy Song\"],[\"Marry You\"],[\"Talking to the Moon\"],[\"Liquor Store Blues (feat. Damian Marley)\"],[\"Count on Me\"],[\"The Other Side (feat. CeeLo Green and B.o.B)\"]],\"hovertemplate\":\"Artist(s)=Bruno Mars<br>Positiveness (valence)=%{x}<br>Energy=%{y}<br>Song Title=%{customdata[0]}<extra></extra>\",\"legendgroup\":\"Bruno Mars\",\"marker\":{\"color\":\"#636efa\",\"symbol\":\"circle\"},\"mode\":\"markers\",\"name\":\"Bruno Mars\",\"showlegend\":true,\"x\":[0.632,0.727,0.863,0.86,0.301,0.643,0.865,0.9390000000000001,0.433,0.501,0.867,0.622,0.934,0.418,0.387,0.611,0.514,0.78,0.49,0.501,0.867,0.6409999999999999,0.937,0.418,0.387,0.611,0.514,0.78,0.49,0.56,0.87,0.667,0.92,0.457,0.41100000000000003,0.667,0.539,0.778,0.442,0.22699999999999998,0.434,0.868,0.871,0.9490000000000001,0.48100000000000004,0.065,0.685,0.509,0.5429999999999999,0.349,0.209,0.22699999999999998,0.434,0.868,0.871,0.9490000000000001,0.48100000000000004,0.065,0.685,0.509,0.5429999999999999],\"xaxis\":\"x\",\"y\":[0.8029999999999999,0.539,0.871,0.56,0.574,0.733,0.705,0.7979999999999999,0.63,0.7490000000000001,0.698,0.562,0.6990000000000001,0.784,0.28,0.733,0.706,0.677,0.413,0.7490000000000001,0.698,0.544,0.6920000000000001,0.784,0.28,0.733,0.706,0.677,0.413,0.748,0.6970000000000001,0.547,0.687,0.773,0.271,0.7290000000000001,0.687,0.664,0.43700000000000006,0.5579999999999999,0.843,0.451,0.767,0.804,0.8320000000000001,0.606,0.8240000000000001,0.397,0.807,0.579,0.33299999999999996,0.5579999999999999,0.843,0.451,0.767,0.804,0.8320000000000001,0.606,0.8240000000000001,0.397,0.807],\"yaxis\":\"y\",\"type\":\"scattergl\"},{\"customdata\":[[\"ENTROPY\"],[\"CYANIDE\"],[\"LOVE AGAIN\"],[\"FRONTAL LOBE MUZIK\"],[\"OPEN UP\"],[\"RESTORE THE FEELING\"],[\"SUPERPOSITION\"],[\"TOO DEEP TO TURN BACK\"],[\"COMPLEXITIES\"],[\"ARE YOU OK?\"],[\"Get You (feat. Kali Uchis)\"],[\"Best Part (feat. H.E.R.)\"],[\"Hold Me Down\"],[\"Neu Roses (Transgressor's Song)\"],[\"Loose\"],[\"We Find Love\"],[\"Blessed\"],[\"Take Me Away (feat. Syd)\"],[\"Transform (feat. Charlotte Day Wilson)\"],[\"Freudian\"],[\"Trinity Bellwoods\"],[\"Death & Taxes\"],[\"Paradise (feat. Badbadnotgood & Sean Leon)\"],[\"A Cappella\"],[\"Streetcar\"],[\"Show No Regret\"],[\"Little Rowboat\"],[\"ENTROPY\"],[\"CYANIDE\"],[\"LOVE AGAIN\"],[\"FRONTAL LOBE MUZIK\"],[\"OPEN UP\"],[\"RESTORE THE FEELING\"],[\"SUPERPOSITION\"],[\"TOO DEEP TO TURN BACK\"],[\"COMPLEXITIES\"],[\"ARE YOU OK?\"],[\"Get You (feat. Kali Uchis)\"],[\"Best Part (feat. H.E.R.)\"],[\"Hold Me Down\"],[\"Neu Roses (Transgressor's Song)\"],[\"Loose\"],[\"We Find Love\"],[\"Blessed\"],[\"Take Me Away (feat. Syd)\"],[\"Transform (feat. Charlotte Day Wilson)\"],[\"Freudian\"],[\"Trinity Bellwoods\"],[\"Death & Taxes\"],[\"Paradise (feat. Badbadnotgood & Sean Leon)\"],[\"A Cappella\"],[\"Streetcar\"],[\"Show No Regret\"],[\"Little Rowboat\"]],\"hovertemplate\":\"Artist(s)=Daniel Caesar<br>Positiveness (valence)=%{x}<br>Energy=%{y}<br>Song Title=%{customdata[0]}<extra></extra>\",\"legendgroup\":\"Daniel Caesar\",\"marker\":{\"color\":\"#EF553B\",\"symbol\":\"circle\"},\"mode\":\"markers\",\"name\":\"Daniel Caesar\",\"showlegend\":true,\"x\":[0.5660000000000001,0.486,0.525,0.301,0.31,0.564,0.33299999999999996,0.252,0.247,0.0789,0.358,0.436,0.231,0.29100000000000004,0.0527,0.426,0.451,0.193,0.348,0.0714,0.0318,0.209,0.402,0.121,0.142,0.129,0.374,0.5660000000000001,0.486,0.525,0.301,0.31,0.564,0.33299999999999996,0.252,0.247,0.0789,0.358,0.436,0.231,0.29100000000000004,0.0527,0.426,0.451,0.193,0.348,0.0714,0.0318,0.209,0.402,0.121,0.142,0.129,0.374],\"xaxis\":\"x\",\"y\":[0.527,0.652,0.441,0.568,0.192,0.39299999999999996,0.27899999999999997,0.436,0.204,0.415,0.294,0.364,0.42700000000000005,0.327,0.162,0.363,0.263,0.409,0.292,0.298,0.654,0.32799999999999996,0.792,0.314,0.298,0.679,0.191,0.527,0.652,0.441,0.568,0.192,0.39299999999999996,0.27899999999999997,0.436,0.204,0.415,0.294,0.364,0.42700000000000005,0.327,0.162,0.363,0.263,0.409,0.292,0.298,0.654,0.32799999999999996,0.792,0.314,0.298,0.679,0.191],\"yaxis\":\"y\",\"type\":\"scattergl\"},{\"customdata\":[[\"!!!!!!!\"],[\"bad guy\"],[\"xanny\"],[\"you should see me in a crown\"],[\"all the good girls go to hell\"],[\"wish you were gay\"],[\"when the party's over\"],[\"8\"],[\"my strange addiction\"],[\"bury a friend\"],[\"ilomilo\"],[\"listen before i go\"],[\"i love you\"],[\"goodbye\"],[\"!!!!!!!\"],[\"bad guy\"],[\"xanny\"],[\"you should see me in a crown\"],[\"all the good girls go to hell\"],[\"wish you were gay\"],[\"when the party's over\"],[\"8\"],[\"my strange addiction\"],[\"bury a friend\"],[\"ilomilo\"],[\"listen before i go\"],[\"i love you\"],[\"goodbye\"]],\"hovertemplate\":\"Artist(s)=Billie Eilish<br>Positiveness (valence)=%{x}<br>Energy=%{y}<br>Song Title=%{customdata[0]}<extra></extra>\",\"legendgroup\":\"Billie Eilish\",\"marker\":{\"color\":\"#00cc96\",\"symbol\":\"circle\"},\"mode\":\"markers\",\"name\":\"Billie Eilish\",\"showlegend\":true,\"x\":[0.0,0.562,0.0528,0.32299999999999995,0.569,0.282,0.198,0.462,0.563,0.196,0.5720000000000001,0.08199999999999999,0.12,0.0503,0.0,0.562,0.0528,0.32299999999999995,0.569,0.282,0.198,0.462,0.563,0.196,0.5720000000000001,0.08199999999999999,0.12,0.0503],\"xaxis\":\"x\",\"y\":[0.278,0.425,0.125,0.5329999999999999,0.444,0.35100000000000003,0.111,0.235,0.305,0.389,0.423,0.0561,0.131,0.138,0.278,0.425,0.125,0.5329999999999999,0.444,0.35100000000000003,0.111,0.235,0.305,0.389,0.423,0.0561,0.131,0.138],\"yaxis\":\"y\",\"type\":\"scattergl\"},{\"customdata\":[[\"Ganja Burn\"],[\"Majesty (with Labrinth & feat. Eminem)\"],[\"Barbie Dreams\"],[\"Rich Sex (feat. Lil Wayne)\"],[\"Hard White\"],[\"Bed (feat. Ariana Grande)\"],[\"Thought I Knew You (feat. The Weeknd)\"],[\"Run & Hide\"],[\"Chun Swae (feat. Swae Lee)\"],[\"Chun-Li\"],[\"LLC\"],[\"Good Form\"],[\"Nip Tuck\"],[\"2 Lit 2 Late Interlude\"],[\"Come See About Me\"],[\"Sir (feat. Future)\"],[\"Miami\"],[\"Coco Chanel (feat. Foxy Brown)\"],[\"Inspirations Outro\"],[\"FEFE\"],[\"Ganja Burn\"],[\"Majesty (with Labrinth & feat. Eminem)\"],[\"Barbie Dreams\"],[\"Rich Sex (feat. Lil Wayne)\"],[\"Hard White\"],[\"Bed (feat. Ariana Grande)\"],[\"Thought I Knew You (feat. The Weeknd)\"],[\"Run & Hide\"],[\"Chun Swae (feat. Swae Lee)\"],[\"Chun-Li\"],[\"LLC\"],[\"Good Form\"],[\"Nip Tuck\"],[\"2 Lit 2 Late Interlude\"],[\"Come See About Me\"],[\"Sir (feat. Future)\"],[\"Miami\"],[\"Coco Chanel (feat. Foxy Brown)\"],[\"Inspirations Outro\"],[\"Ganja Burn\"],[\"Majesty (with Labrinth & feat. Eminem)\"],[\"Barbie Dreams\"],[\"Rich Sex (feat. Lil Wayne)\"],[\"Hard White\"],[\"Bed (feat. Ariana Grande)\"],[\"Thought I Knew You (feat. The Weeknd)\"],[\"Run & Hide\"],[\"Chun Swae (feat. Swae Lee)\"],[\"Chun-Li\"],[\"LLC\"],[\"Good Form\"],[\"Nip Tuck\"],[\"2 Lit 2 Late Interlude\"],[\"Come See About Me\"],[\"Sir (feat. Future)\"],[\"Miami\"],[\"Coco Chanel (feat. Foxy Brown)\"],[\"Inspirations Outro\"],[\"FEFE\"],[\"Ganja Burn\"],[\"Majesty (with Labrinth & feat. Eminem)\"],[\"Barbie Dreams\"],[\"Rich Sex (feat. Lil Wayne)\"],[\"Hard White\"],[\"Bed (feat. Ariana Grande)\"],[\"Thought I Knew You (feat. The Weeknd)\"],[\"Run & Hide\"],[\"Chun Swae (feat. Swae Lee)\"],[\"Chun-Li\"],[\"LLC\"],[\"Good Form\"],[\"Nip Tuck\"],[\"2 Lit 2 Late Interlude\"],[\"Come See About Me\"],[\"Sir (feat. Future)\"],[\"Miami\"],[\"Coco Chanel (feat. Foxy Brown)\"],[\"Inspirations Outro\"],[\"All Things Go\"],[\"I Lied\"],[\"The Crying Game\"],[\"Get On Your Knees\"],[\"Feeling Myself\"],[\"Only\"],[\"Want Some More\"],[\"Four Door Aventador\"],[\"Favorite\"],[\"Buy A Heart\"],[\"Trini Dem Girls\"],[\"Anaconda\"],[\"The Night Is Still Young\"],[\"Pills N Potions\"],[\"Bed Of Lies\"],[\"Grand Piano\"],[\"All Things Go\"],[\"I Lied\"],[\"The Crying Game\"],[\"Get On Your Knees\"],[\"Feeling Myself\"],[\"Only\"],[\"Want Some More\"],[\"Four Door Aventador\"],[\"Favorite\"],[\"Buy A Heart\"],[\"Trini Dem Girls\"],[\"Anaconda\"],[\"The Night Is Still Young\"],[\"Pills N Potions\"],[\"Bed Of Lies\"],[\"Grand Piano\"],[\"Up In Flames\"],[\"Freedom\"],[\"Hell Yeah\"],[\"High School\"],[\"I'm Legit\"],[\"I Endorse These Strippers\"],[\"The Boys\"],[\"Va Va Voom\"],[\"Roman Holiday\"],[\"Come On A Cone\"],[\"I Am Your Leader\"],[\"Beez In The Trap\"],[\"HOV Lane\"],[\"Roman Reloaded\"],[\"Champion\"],[\"Right By My Side\"],[\"Sex In The Lounge\"],[\"Starships\"],[\"Pound The Alarm\"],[\"Whip It\"],[\"Automatic\"],[\"Beautiful Sinner\"],[\"Marilyn Monroe\"],[\"Young Forever\"],[\"Fire Burns\"],[\"Gun Shot\"],[\"Stupid Hoe\"],[\"Up In Flames\"],[\"Freedom\"],[\"Hell Yeah\"],[\"High School\"],[\"I'm Legit\"],[\"I Endorse These Strippers\"],[\"The Boys\"],[\"Va Va Voom\"],[\"Roman Holiday\"],[\"Come On A Cone\"],[\"I Am Your Leader\"],[\"Beez In The Trap\"],[\"HOV Lane\"],[\"Roman Reloaded\"],[\"Champion\"],[\"Right By My Side\"],[\"Sex In The Lounge\"],[\"Starships - Edit\"],[\"Pound The Alarm - Edit\"],[\"Whip It\"],[\"Automatic\"],[\"Beautiful Sinner\"],[\"Marilyn Monroe\"],[\"Young Forever - Republic Records, a Division of UMG Recordings, Inc.\"],[\"Fire Burns\"],[\"Gun Shot\"],[\"Stupid Hoe\"],[\"Up In Flames\"],[\"Freedom\"],[\"Hell Yeah\"],[\"High School\"],[\"I'm Legit\"],[\"I Endorse These Strippers\"],[\"The Boys\"],[\"Va Va Voom\"],[\"Roman Holiday\"],[\"Come On A Cone\"],[\"I Am Your Leader\"],[\"Beez In The Trap\"],[\"HOV Lane\"],[\"Roman Reloaded\"],[\"Champion\"],[\"Right By My Side\"],[\"Sex In The Lounge\"],[\"Starships - Edit\"],[\"Pound The Alarm - Edit\"],[\"Whip It\"],[\"Automatic\"],[\"Beautiful Sinner\"],[\"Marilyn Monroe\"],[\"Young Forever - Republic Records, a Division of UMG Recordings, Inc.\"],[\"Fire Burns\"],[\"Gun Shot\"],[\"Stupid Hoe\"],[\"Roman Holiday\"],[\"Come On A Cone\"],[\"I Am Your Leader\"],[\"Beez In The Trap\"],[\"HOV Lane\"],[\"Roman Reloaded\"],[\"Champion\"],[\"Right By My Side\"],[\"Sex In The Lounge\"],[\"Starships\"],[\"Pound The Alarm\"],[\"Whip It\"],[\"Automatic\"],[\"Beautiful Sinner\"],[\"Marilyn Monroe\"],[\"Young Forever\"],[\"Fire Burns\"],[\"Gun Shot\"],[\"Stupid Hoe\"],[\"Roman Holiday\"],[\"Come On A Cone\"],[\"I Am Your Leader\"],[\"Beez In The Trap\"],[\"HOV Lane\"],[\"Roman Reloaded\"],[\"Champion\"],[\"Right By My Side\"],[\"Sex In The Lounge\"],[\"Starships - Edit\"],[\"Pound The Alarm - Edit\"],[\"Whip It\"],[\"Automatic\"],[\"Beautiful Sinner\"],[\"Marilyn Monroe\"],[\"Young Forever - Republic Records, a Division of UMG Recordings, Inc.\"],[\"Fire Burns\"],[\"Gun Shot\"],[\"Stupid Hoe\"],[\"Roman Holiday - Album Version (Edited)\"],[\"Come On A Cone - Album Version (Edited)\"],[\"I Am Your Leader - Album Version (Edited)\"],[\"Beez In The Trap - Album Version (Edited)\"],[\"HOV Lane - Album Version (Edited)\"],[\"Roman Reloaded - Album Version (Edited)\"],[\"Champion - Album Version (Edited)\"],[\"Right By My Side - Album Version (Edited)\"],[\"Sex In The Lounge - Album Version (Edited)\"],[\"Starships - Edit\"],[\"Pound The Alarm - Edit\"],[\"Whip It - Album Version (Edited)\"],[\"Automatic - Album Version (Edited)\"],[\"Beautiful Sinner - Album Version (Edited)\"],[\"Marilyn Monroe - Album Version (Edited)\"],[\"Young Forever - Republic Records, a Division of UMG Recordings, Inc.\"],[\"Fire Burns - Album Version (Edited)\"],[\"Gun Shot - Album Version (Edited)\"],[\"Stupid Hoe - Edited Version\"],[\"Roman Holiday\"],[\"Come On A Cone\"],[\"I Am Your Leader\"],[\"Beez In The Trap\"],[\"HOV Lane\"],[\"Roman Reloaded\"],[\"Champion\"],[\"Right By My Side\"],[\"Sex In The Lounge\"],[\"Starships\"],[\"Pound The Alarm\"],[\"Whip It\"],[\"Automatic\"],[\"Beautiful Sinner\"],[\"Marilyn Monroe\"],[\"Young Forever\"],[\"Fire Burns\"],[\"Gun Shot\"],[\"Stupid Hoe\"],[\"I\\u2019m The Best - Album Version (Edited)\"],[\"Roman's Revenge - Album Version (Edited)\"],[\"Did It On\\u2019em - Album Version (Edited)\"],[\"Right Thru Me - Edited Version\"],[\"Fly - Album Version (Edited)\"],[\"Save Me - Album Version (Edited)\"],[\"Moment 4 Life - Album Version (Edited)\"],[\"Check It Out - Main, Edited Version\"],[\"Blazin - Album Version (Edited)\"],[\"Here I Am - Album Version (Edited)\"],[\"Dear Old Nicki - Album Version (Edited)\"],[\"Your Love - Album Version (Edited)\"],[\"Last Chance - Album Version (Edited)\"],[\"I\\u2019m The Best\"],[\"Roman's Revenge\"],[\"Did It On\\u2019em\"],[\"Right Thru Me\"],[\"Fly\"],[\"Save Me\"],[\"Moment 4 Life\"],[\"Check It Out\"],[\"Blazin\"],[\"Here I Am\"],[\"Dear Old Nicki\"],[\"Your Love\"],[\"Last Chance\"]],\"hovertemplate\":\"Artist(s)=Nicki Minaj<br>Positiveness (valence)=%{x}<br>Energy=%{y}<br>Song Title=%{customdata[0]}<extra></extra>\",\"legendgroup\":\"Nicki Minaj\",\"marker\":{\"color\":\"#ab63fa\",\"symbol\":\"circle\"},\"mode\":\"markers\",\"name\":\"Nicki Minaj\",\"showlegend\":true,\"x\":[0.7609999999999999,0.5660000000000001,0.701,0.5670000000000001,0.273,0.44799999999999995,0.466,0.331,0.212,0.473,0.8140000000000001,0.28600000000000003,0.363,0.127,0.376,0.14800000000000002,0.742,0.595,0.41,0.377,0.76,0.568,0.7,0.568,0.273,0.452,0.46799999999999997,0.317,0.21,0.474,0.8029999999999999,0.284,0.366,0.126,0.37200000000000005,0.146,0.7290000000000001,0.596,0.40399999999999997,0.78,0.5660000000000001,0.688,0.513,0.313,0.474,0.504,0.341,0.214,0.466,0.831,0.28800000000000003,0.34700000000000003,0.126,0.37200000000000005,0.162,0.764,0.521,0.40399999999999997,0.41700000000000004,0.775,0.5710000000000001,0.6940000000000001,0.514,0.312,0.47100000000000003,0.503,0.33299999999999996,0.212,0.456,0.8270000000000001,0.28800000000000003,0.335,0.134,0.38,0.158,0.768,0.5329999999999999,0.41600000000000004,0.276,0.387,0.184,0.17600000000000002,0.47700000000000004,0.255,0.214,0.639,0.0563,0.43200000000000005,0.32299999999999995,0.6459999999999999,0.693,0.168,0.124,0.135,0.251,0.376,0.185,0.141,0.505,0.32299999999999995,0.19699999999999998,0.634,0.0615,0.381,0.327,0.807,0.6729999999999999,0.217,0.10800000000000001,0.146,0.151,0.341,0.662,0.212,0.5429999999999999,0.7440000000000001,0.392,0.696,0.402,0.732,0.7440000000000001,0.6829999999999999,0.45399999999999996,0.77,0.0493,0.495,0.722,0.7509999999999999,0.591,0.7959999999999999,0.685,0.516,0.495,0.41,0.366,0.386,0.7190000000000001,0.154,0.386,0.6629999999999999,0.24100000000000002,0.535,0.73,0.426,0.7020000000000001,0.37200000000000005,0.792,0.718,0.672,0.428,0.7120000000000001,0.044000000000000004,0.5670000000000001,0.731,0.7390000000000001,0.584,0.785,0.626,0.462,0.495,0.41,0.40399999999999997,0.386,0.736,0.154,0.386,0.6629999999999999,0.24100000000000002,0.535,0.73,0.426,0.7020000000000001,0.37200000000000005,0.792,0.718,0.672,0.428,0.7120000000000001,0.044000000000000004,0.5670000000000001,0.731,0.7390000000000001,0.584,0.785,0.626,0.462,0.495,0.41,0.40399999999999997,0.386,0.736,0.402,0.732,0.7440000000000001,0.6829999999999999,0.45399999999999996,0.77,0.0493,0.495,0.722,0.7509999999999999,0.591,0.7959999999999999,0.685,0.516,0.495,0.41,0.366,0.386,0.7190000000000001,0.37200000000000005,0.792,0.718,0.672,0.428,0.7120000000000001,0.044000000000000004,0.5670000000000001,0.731,0.7390000000000001,0.584,0.785,0.626,0.462,0.495,0.41,0.40399999999999997,0.386,0.736,0.37200000000000005,0.7909999999999999,0.718,0.672,0.428,0.7120000000000001,0.044000000000000004,0.5670000000000001,0.682,0.713,0.604,0.773,0.635,0.462,0.495,0.41,0.408,0.40299999999999997,0.732,0.402,0.732,0.7440000000000001,0.6829999999999999,0.45399999999999996,0.77,0.0493,0.495,0.722,0.7509999999999999,0.591,0.7959999999999999,0.685,0.516,0.495,0.41,0.366,0.386,0.7190000000000001,0.34,0.465,0.43799999999999994,0.17800000000000002,0.16699999999999998,0.598,0.37,0.732,0.536,0.37,0.484,0.205,0.426,0.32,0.44299999999999995,0.474,0.168,0.196,0.596,0.369,0.731,0.5589999999999999,0.37200000000000005,0.434,0.184,0.45799999999999996],\"xaxis\":\"x\",\"y\":[0.903,0.731,0.787,0.634,0.737,0.73,0.7140000000000001,0.414,0.42200000000000004,0.728,0.757,0.775,0.619,0.355,0.612,0.494,0.542,0.88,0.9259999999999999,0.382,0.902,0.73,0.787,0.635,0.736,0.73,0.715,0.41600000000000004,0.42100000000000004,0.73,0.7559999999999999,0.775,0.618,0.358,0.611,0.493,0.54,0.8809999999999999,0.9229999999999999,0.907,0.73,0.8079999999999999,0.632,0.74,0.722,0.713,0.4,0.423,0.7240000000000001,0.7559999999999999,0.773,0.633,0.358,0.613,0.48100000000000004,0.529,0.897,0.929,0.374,0.907,0.73,0.8079999999999999,0.631,0.741,0.721,0.7170000000000001,0.4,0.42200000000000004,0.7240000000000001,0.7559999999999999,0.773,0.636,0.355,0.612,0.478,0.529,0.897,0.93,0.46299999999999997,0.38799999999999996,0.505,0.445,0.703,0.495,0.466,0.657,0.5720000000000001,0.434,0.736,0.605,0.6920000000000001,0.604,0.67,0.21,0.423,0.389,0.505,0.46,0.6920000000000001,0.511,0.48100000000000004,0.642,0.59,0.447,0.735,0.605,0.69,0.586,0.675,0.21100000000000002,0.823,0.687,0.9520000000000001,0.6829999999999999,0.746,0.821,0.8059999999999999,0.807,0.742,0.8240000000000001,0.5660000000000001,0.782,0.784,0.7659999999999999,0.69,0.858,0.7120000000000001,0.716,0.858,0.772,0.764,0.6509999999999999,0.9420000000000001,0.8270000000000001,0.7240000000000001,0.805,0.83,0.833,0.675,0.951,0.696,0.746,0.8340000000000001,0.8009999999999999,0.81,0.7440000000000001,0.8390000000000001,0.574,0.769,0.794,0.7979999999999999,0.67,0.8390000000000001,0.6970000000000001,0.723,0.853,0.7759999999999999,0.77,0.6509999999999999,0.9420000000000001,0.8270000000000001,0.726,0.805,0.847,0.833,0.675,0.951,0.696,0.746,0.8340000000000001,0.8009999999999999,0.81,0.7440000000000001,0.8390000000000001,0.574,0.769,0.794,0.7979999999999999,0.67,0.8390000000000001,0.6970000000000001,0.723,0.853,0.7759999999999999,0.77,0.6509999999999999,0.9420000000000001,0.8270000000000001,0.726,0.805,0.847,0.742,0.8240000000000001,0.5660000000000001,0.782,0.784,0.7659999999999999,0.69,0.858,0.7120000000000001,0.716,0.858,0.772,0.764,0.6509999999999999,0.9420000000000001,0.8270000000000001,0.7240000000000001,0.805,0.83,0.7440000000000001,0.8390000000000001,0.574,0.769,0.794,0.7979999999999999,0.67,0.8390000000000001,0.6970000000000001,0.723,0.853,0.7759999999999999,0.77,0.6509999999999999,0.9420000000000001,0.8270000000000001,0.726,0.805,0.847,0.7440000000000001,0.836,0.574,0.769,0.794,0.7979999999999999,0.67,0.8390000000000001,0.7040000000000001,0.721,0.853,0.778,0.767,0.6509999999999999,0.9420000000000001,0.8270000000000001,0.726,0.8109999999999999,0.8540000000000001,0.742,0.8240000000000001,0.5660000000000001,0.782,0.784,0.7659999999999999,0.69,0.858,0.7120000000000001,0.716,0.858,0.772,0.764,0.6509999999999999,0.9420000000000001,0.8270000000000001,0.7240000000000001,0.805,0.83,0.826,0.9470000000000001,0.43,0.687,0.8490000000000001,0.736,0.884,0.6970000000000001,0.903,0.9359999999999999,0.7440000000000001,0.52,0.8,0.835,0.9470000000000001,0.414,0.6829999999999999,0.848,0.7290000000000001,0.882,0.698,0.903,0.9359999999999999,0.738,0.52,0.805],\"yaxis\":\"y\",\"type\":\"scattergl\"},{\"customdata\":[[\"shut up\"],[\"34+35\"],[\"motive (with Doja Cat)\"],[\"just like magic\"],[\"off the table (with The Weeknd)\"],[\"six thirty\"],[\"safety net (feat. Ty Dolla $ign)\"],[\"my hair\"],[\"nasty\"],[\"west side\"],[\"love language\"],[\"positions\"],[\"obvious\"],[\"pov\"],[\"shut up\"],[\"34+35\"],[\"motive (with Doja Cat)\"],[\"just like magic\"],[\"off the table (with The Weeknd)\"],[\"six thirty\"],[\"safety net (feat. Ty Dolla $ign)\"],[\"my hair\"],[\"nasty\"],[\"west side\"],[\"love language\"],[\"positions\"],[\"obvious\"],[\"pov\"],[\"imagine\"],[\"needy\"],[\"NASA\"],[\"bloodline\"],[\"fake smile\"],[\"bad idea\"],[\"make up\"],[\"ghostin\"],[\"in my head\"],[\"7 rings\"],[\"thank u, next\"],[\"break up with your girlfriend, i'm bored\"],[\"raindrops (an angel cried)\"],[\"blazed (feat. Pharrell Williams)\"],[\"the light is coming (feat. Nicki Minaj)\"],[\"R.E.M\"],[\"God is a woman\"],[\"sweetener\"],[\"successful\"],[\"everytime\"],[\"breathin\"],[\"no tears left to cry\"],[\"borderline (feat. Missy Elliott)\"],[\"better off\"],[\"goodnight n go\"],[\"pete davidson\"],[\"get well soon\"],[\"raindrops (an angel cried)\"],[\"blazed (feat. Pharrell Williams)\"],[\"the light is coming (feat. Nicki Minaj)\"],[\"R.E.M\"],[\"God is a woman\"],[\"sweetener\"],[\"successful\"],[\"everytime\"],[\"breathin\"],[\"no tears left to cry\"],[\"borderline (feat. Missy Elliott)\"],[\"better off\"],[\"goodnight n go\"],[\"pete davidson\"],[\"get well soon\"],[\"imagine\"],[\"needy\"],[\"NASA\"],[\"bloodline\"],[\"fake smile\"],[\"bad idea\"],[\"make up\"],[\"ghostin\"],[\"in my head\"],[\"7 rings\"],[\"thank u, next\"],[\"break up with your girlfriend, i'm bored\"],[\"Moonlight\"],[\"Dangerous Woman\"],[\"Be Alright\"],[\"Into You\"],[\"Side To Side\"],[\"Let Me Love You\"],[\"Greedy\"],[\"Leave Me Lonely\"],[\"Everyday\"],[\"Sometimes\"],[\"I Don't Care\"],[\"Bad Decisions\"],[\"Touch It\"],[\"Knew Better / Forever Boy\"],[\"Thinking Bout You\"],[\"Focus\"],[\"Moonlight\"],[\"Dangerous Woman\"],[\"Be Alright\"],[\"Into You\"],[\"Side To Side\"],[\"Let Me Love You\"],[\"Greedy\"],[\"Leave Me Lonely\"],[\"Everyday\"],[\"Sometimes\"],[\"I Don't Care\"],[\"Bad Decisions\"],[\"Touch It\"],[\"Knew Better / Forever Boy\"],[\"Thinking Bout You\"],[\"Moonlight\"],[\"Dangerous Woman\"],[\"Be Alright\"],[\"Into You\"],[\"Side To Side\"],[\"Let Me Love You\"],[\"Greedy\"],[\"Leave Me Lonely\"],[\"Everyday\"],[\"Bad Decisions\"],[\"Thinking Bout You\"],[\"Moonlight\"],[\"Dangerous Woman\"],[\"Be Alright\"],[\"Into You\"],[\"Side To Side\"],[\"Let Me Love You\"],[\"Greedy\"],[\"Leave Me Lonely\"],[\"Everyday\"],[\"Sometimes\"],[\"I Don't Care\"],[\"Bad Decisions\"],[\"Touch It\"],[\"Knew Better / Forever Boy\"],[\"Thinking Bout You\"],[\"Moonlight\"],[\"Dangerous Woman\"],[\"Be Alright\"],[\"Into You\"],[\"Side To Side\"],[\"Let Me Love You\"],[\"Greedy\"],[\"Leave Me Lonely\"],[\"Everyday\"],[\"Sometimes\"],[\"I Don't Care\"],[\"Bad Decisions\"],[\"Touch It\"],[\"Knew Better / Forever Boy\"],[\"Thinking Bout You\"],[\"Moonlight\"],[\"Dangerous Woman\"],[\"Be Alright\"],[\"Into You\"],[\"Side To Side\"],[\"Let Me Love You\"],[\"Greedy\"],[\"Leave Me Lonely\"],[\"Everyday\"],[\"Bad Decisions\"],[\"Thinking Bout You\"],[\"Moonlight\"],[\"Dangerous Woman\"],[\"Be Alright\"],[\"Into You\"],[\"Side To Side\"],[\"Let Me Love You\"],[\"Greedy\"],[\"Leave Me Lonely\"],[\"Everyday\"],[\"Sometimes\"],[\"I Don't Care\"],[\"Bad Decisions\"],[\"Touch It\"],[\"Knew Better / Forever Boy\"],[\"Thinking Bout You\"],[\"The Way - Sidney Samson Remix\"],[\"Right There - 7th Heaven Radio Edit\"],[\"Right There - Ralphi Rosario Radio\"],[\"Baby I - Cosmic Dawn Radio Edit\"],[\"Baby I - A Director\\u2019s Cut Radio Edit\"],[\"Problem - Wayne G Radio Edit\"],[\"Problem - Dave Aude Twerk Edit\"],[\"Problem - Dawin Remix\"],[\"Break Free - Zedd's Extended Mix\"],[\"Bang Bang - Dada Life Remix\"],[\"Bang Bang - 3LAU Remix\"],[\"Love Me Harder - Kassiano Remix\"],[\"Love Me Harder - Gregor Salto Amsterdam Mix\"],[\"Love Me Harder - DJ Class Remix\"],[\"One Last Time - Gazzo Remix\"],[\"Intro\"],[\"Problem\"],[\"One Last Time\"],[\"Why Try\"],[\"Break Free\"],[\"Best Mistake\"],[\"Be My Baby\"],[\"Break Your Heart Right Back\"],[\"Love Me Harder\"],[\"Just A Little Bit Of Your Heart\"],[\"Hands On Me\"],[\"My Everything\"],[\"Bang Bang\"],[\"Only 1\"],[\"You Don't Know Me\"],[\"Cadillac Song\"],[\"Too Close\"],[\"Baby I\"],[\"Intro\"],[\"Problem\"],[\"One Last Time\"],[\"Why Try\"],[\"Break Free\"],[\"Best Mistake\"],[\"Be My Baby\"],[\"Break Your Heart Right Back\"],[\"Love Me Harder\"],[\"Just A Little Bit Of Your Heart\"],[\"Hands On Me\"],[\"My Everything\"],[\"Bang Bang\"],[\"Only 1\"],[\"You Don't Know Me\"],[\"Intro\"],[\"Problem\"],[\"One Last Time\"],[\"Why Try\"],[\"Break Free\"],[\"Best Mistake\"],[\"Be My Baby\"],[\"Break Your Heart Right Back\"],[\"Love Me Harder\"],[\"Just A Little Bit Of Your Heart\"],[\"Hands On Me\"],[\"My Everything\"],[\"Intro\"],[\"Problem\"],[\"One Last Time\"],[\"Why Try\"],[\"Break Free\"],[\"Best Mistake\"],[\"Be My Baby\"],[\"Break Your Heart Right Back\"],[\"Love Me Harder\"],[\"Just A Little Bit Of Your Heart\"],[\"Hands On Me\"],[\"My Everything\"],[\"Honeymoon Avenue\"],[\"Baby I\"],[\"Right There\"],[\"Tattooed Heart\"],[\"Lovin' It\"],[\"Piano\"],[\"Daydreamin'\"],[\"The Way\"],[\"You\\u2019ll Never Know\"],[\"Almost Is Never Enough\"],[\"Popular Song\"],[\"Better Left Unsaid\"],[\"The Way - JdB Radio\"],[\"Baby I - Cosmic Dawn Radio Edit\"],[\"Right There - 7th Heaven Radio Edit\"],[\"Honeymoon Avenue\"],[\"Baby I\"],[\"Right There\"],[\"Tattooed Heart\"],[\"Lovin' It\"],[\"Piano\"],[\"Daydreamin'\"],[\"The Way\"],[\"You\\u2019ll Never Know\"],[\"Almost Is Never Enough\"],[\"Popular Song\"],[\"Better Left Unsaid\"],[\"Honeymoon Avenue\"],[\"Baby I\"],[\"Right There\"],[\"Tattooed Heart\"],[\"Lovin' It\"],[\"Piano\"],[\"Daydreamin'\"],[\"The Way\"],[\"You\\u2019ll Never Know\"],[\"Almost Is Never Enough\"],[\"Popular Song\"],[\"Better Left Unsaid\"]],\"hovertemplate\":\"Artist(s)=Ariana Grande<br>Positiveness (valence)=%{x}<br>Energy=%{y}<br>Song Title=%{customdata[0]}<extra></extra>\",\"legendgroup\":\"Ariana Grande\",\"marker\":{\"color\":\"#FFA15A\",\"symbol\":\"circle\"},\"mode\":\"markers\",\"name\":\"Ariana Grande\",\"showlegend\":true,\"x\":[0.599,0.485,0.6609999999999999,0.46399999999999997,0.382,0.434,0.0916,0.37200000000000005,0.456,0.557,0.5529999999999999,0.682,0.26,0.17300000000000001,0.62,0.496,0.6459999999999999,0.43700000000000006,0.389,0.41600000000000004,0.094,0.345,0.53,0.588,0.562,0.617,0.272,0.165,0.371,0.195,0.47,0.643,0.42700000000000005,0.569,0.47700000000000004,0.11,0.331,0.327,0.41200000000000003,0.335,0.429,0.855,0.687,0.622,0.268,0.46,0.735,0.6579999999999999,0.364,0.354,0.348,0.0549,0.24,0.304,0.528,0.431,0.8540000000000001,0.7020000000000001,0.627,0.28,0.46399999999999997,0.737,0.6579999999999999,0.41700000000000004,0.361,0.34600000000000003,0.0576,0.24,0.304,0.531,0.363,0.20199999999999999,0.48100000000000004,0.633,0.40700000000000003,0.575,0.42700000000000005,0.111,0.354,0.316,0.408,0.32899999999999996,0.209,0.29,0.5870000000000001,0.37200000000000005,0.612,0.0781,0.8440000000000001,0.374,0.43200000000000005,0.561,0.287,0.787,0.293,0.37200000000000005,0.401,0.79,0.214,0.289,0.5870000000000001,0.37,0.613,0.0781,0.8440000000000001,0.389,0.431,0.568,0.28800000000000003,0.7879999999999999,0.29100000000000004,0.37200000000000005,0.406,0.214,0.289,0.5870000000000001,0.37,0.613,0.0781,0.8440000000000001,0.389,0.431,0.794,0.396,0.209,0.29,0.5870000000000001,0.37200000000000005,0.67,0.0781,0.8440000000000001,0.374,0.457,0.561,0.23,0.8170000000000001,0.293,0.37200000000000005,0.434,0.214,0.289,0.5870000000000001,0.37,0.67,0.0781,0.8440000000000001,0.389,0.457,0.568,0.23199999999999998,0.8140000000000001,0.29100000000000004,0.37200000000000005,0.436,0.209,0.29,0.5870000000000001,0.37200000000000005,0.67,0.0781,0.8440000000000001,0.374,0.457,0.809,0.426,0.209,0.29,0.5870000000000001,0.37200000000000005,0.612,0.0781,0.8440000000000001,0.374,0.43200000000000005,0.561,0.287,0.787,0.293,0.37200000000000005,0.401,0.0392,0.66,0.84,0.585,0.43799999999999994,0.741,0.5660000000000001,0.568,0.21,0.258,0.38299999999999995,0.815,0.523,0.56,0.531,0.0955,0.62,0.10300000000000001,0.34,0.284,0.225,0.42,0.599,0.24600000000000002,0.152,0.358,0.41100000000000003,0.777,0.382,0.369,0.336,0.5770000000000001,0.45799999999999996,0.096,0.625,0.10400000000000001,0.331,0.284,0.233,0.434,0.588,0.24,0.16,0.376,0.423,0.7,0.384,0.37,0.096,0.613,0.10300000000000001,0.331,0.284,0.233,0.434,0.588,0.24,0.16,0.376,0.423,0.0959,0.611,0.10400000000000001,0.33799999999999997,0.29,0.233,0.434,0.5870000000000001,0.244,0.158,0.377,0.42100000000000004,0.449,0.517,0.561,0.314,0.449,0.7170000000000001,0.325,0.861,0.8690000000000001,0.335,0.8109999999999999,0.28,0.828,0.588,0.6609999999999999,0.44799999999999995,0.542,0.561,0.32,0.428,0.725,0.322,0.862,0.8690000000000001,0.33399999999999996,0.8109999999999999,0.28300000000000003,0.449,0.517,0.561,0.314,0.449,0.7170000000000001,0.325,0.861,0.8690000000000001,0.335,0.8109999999999999,0.28],\"xaxis\":\"x\",\"y\":[0.462,0.585,0.742,0.607,0.522,0.516,0.599,0.526,0.506,0.455,0.573,0.802,0.672,0.534,0.434,0.5770000000000001,0.7509999999999999,0.605,0.523,0.516,0.596,0.529,0.512,0.46,0.5660000000000001,0.805,0.623,0.5329999999999999,0.475,0.309,0.45799999999999996,0.665,0.619,0.579,0.7140000000000001,0.364,0.6,0.317,0.653,0.5539999999999999,0.231,0.759,0.547,0.485,0.6579999999999999,0.45899999999999996,0.603,0.614,0.6559999999999999,0.713,0.818,0.524,0.45399999999999996,0.31,0.449,0.231,0.759,0.55,0.485,0.6579999999999999,0.461,0.601,0.612,0.6459999999999999,0.713,0.818,0.542,0.45299999999999996,0.312,0.45,0.48,0.315,0.461,0.654,0.629,0.58,0.728,0.358,0.607,0.321,0.662,0.563,0.41200000000000003,0.602,0.456,0.7340000000000001,0.736,0.435,0.705,0.449,0.733,0.6659999999999999,0.40299999999999997,0.6459999999999999,0.6940000000000001,0.38,0.6970000000000001,0.8759999999999999,0.41200000000000003,0.602,0.456,0.7340000000000001,0.736,0.435,0.705,0.446,0.733,0.6659999999999999,0.40299999999999997,0.645,0.6940000000000001,0.381,0.696,0.41200000000000003,0.602,0.456,0.7340000000000001,0.736,0.435,0.705,0.446,0.733,0.653,0.696,0.41200000000000003,0.602,0.456,0.7340000000000001,0.725,0.435,0.705,0.449,0.721,0.6659999999999999,0.4,0.643,0.6940000000000001,0.38,0.7040000000000001,0.41200000000000003,0.602,0.456,0.7340000000000001,0.725,0.435,0.705,0.446,0.721,0.6659999999999999,0.401,0.642,0.6940000000000001,0.381,0.7040000000000001,0.41200000000000003,0.602,0.456,0.7340000000000001,0.725,0.435,0.705,0.449,0.721,0.643,0.6970000000000001,0.41200000000000003,0.602,0.456,0.7340000000000001,0.736,0.435,0.705,0.449,0.733,0.6659999999999999,0.40299999999999997,0.6459999999999999,0.6940000000000001,0.38,0.6970000000000001,0.5770000000000001,0.897,0.927,0.823,0.758,0.924,0.92,0.812,0.72,0.9520000000000001,0.877,0.9309999999999999,0.501,0.643,0.917,0.183,0.8029999999999999,0.6,0.6659999999999999,0.7020000000000001,0.575,0.583,0.605,0.7140000000000001,0.319,0.764,0.264,0.755,0.841,0.631,0.413,0.723,0.738,0.182,0.805,0.593,0.6629999999999999,0.7020000000000001,0.578,0.586,0.605,0.7140000000000001,0.322,0.7659999999999999,0.265,0.747,0.8420000000000001,0.631,0.182,0.805,0.6,0.6629999999999999,0.7020000000000001,0.578,0.586,0.605,0.7140000000000001,0.322,0.7659999999999999,0.265,0.182,0.805,0.601,0.6629999999999999,0.7020000000000001,0.578,0.586,0.605,0.7120000000000001,0.32299999999999995,0.7659999999999999,0.265,0.608,0.7959999999999999,0.8340000000000001,0.521,0.821,0.804,0.643,0.877,0.8420000000000001,0.327,0.809,0.831,0.871,0.821,0.894,0.608,0.7959999999999999,0.8340000000000001,0.519,0.825,0.804,0.648,0.878,0.8420000000000001,0.327,0.81,0.83,0.608,0.7959999999999999,0.8340000000000001,0.521,0.821,0.804,0.643,0.877,0.8420000000000001,0.327,0.809,0.831],\"yaxis\":\"y\",\"type\":\"scattergl\"},{\"customdata\":[[\"willow\"],[\"champagne problems\"],[\"gold rush\"],[\"\\u2018tis the damn season\"],[\"tolerate it\"],[\"no body, no crime (feat. HAIM)\"],[\"happiness\"],[\"dorothea\"],[\"coney island (feat. The National)\"],[\"ivy\"],[\"cowboy like me\"],[\"long story short\"],[\"marjorie\"],[\"closure\"],[\"evermore (feat. Bon Iver)\"],[\"willow\"],[\"champagne problems\"],[\"gold rush\"],[\"\\u2018tis the damn season\"],[\"tolerate it\"],[\"no body, no crime (feat. HAIM)\"],[\"happiness\"],[\"dorothea\"],[\"coney island (feat. The National)\"],[\"ivy\"],[\"cowboy like me\"],[\"long story short\"],[\"marjorie\"],[\"closure\"],[\"evermore (feat. Bon Iver)\"],[\"willow\"],[\"champagne problems\"],[\"gold rush\"],[\"\\u2018tis the damn season\"],[\"tolerate it\"],[\"no body, no crime (feat. HAIM)\"],[\"happiness\"],[\"dorothea\"],[\"coney island (feat. The National)\"],[\"ivy\"],[\"cowboy like me\"],[\"long story short\"],[\"marjorie\"],[\"closure\"],[\"evermore (feat. Bon Iver)\"],[\"the 1\"],[\"cardigan\"],[\"the last great american dynasty\"],[\"exile (feat. Bon Iver)\"],[\"my tears ricochet\"],[\"mirrorball\"],[\"seven\"],[\"august\"],[\"this is me trying\"],[\"illicit affairs\"],[\"invisible string\"],[\"mad woman\"],[\"epiphany\"],[\"betty\"],[\"peace\"],[\"hoax\"],[\"the 1\"],[\"cardigan\"],[\"the last great american dynasty\"],[\"exile (feat. Bon Iver)\"],[\"my tears ricochet\"],[\"mirrorball\"],[\"seven\"],[\"august\"],[\"this is me trying\"],[\"illicit affairs\"],[\"invisible string\"],[\"mad woman\"],[\"epiphany\"],[\"betty\"],[\"peace\"],[\"hoax\"],[\"I Forgot That You Existed\"],[\"Cruel Summer\"],[\"Lover\"],[\"The Man\"],[\"The Archer\"],[\"I Think He Knows\"],[\"Miss Americana & The Heartbreak Prince\"],[\"Paper Rings\"],[\"Cornelia Street\"],[\"Death By A Thousand Cuts\"],[\"London Boy\"],[\"Soon You\\u2019ll Get Better (feat. The Chicks)\"],[\"False God\"],[\"You Need To Calm Down\"],[\"Afterglow\"],[\"ME! (feat. Brendon Urie of Panic! At The Disco)\"],[\"It\\u2019s Nice To Have A Friend\"],[\"Daylight\"],[\"...Ready For It? - Karaoke Version\"],[\"End Game - Karaoke Version\"],[\"I Did Something Bad - Karaoke Version\"],[\"Don't Blame Me - Karaoke Version\"],[\"Delicate - Karaoke Version\"],[\"Look What You Made Me Do - Karaoke Version\"],[\"So It Goes... - Karaoke Version\"],[\"Gorgeous - Karaoke Version\"],[\"Getaway Car - Karaoke Version\"],[\"King Of My Heart - Karaoke Version\"],[\"Dancing With Our Hands Tied - Karaoke Version\"],[\"Dress - Karaoke Version\"],[\"This Is Why We Can't Have Nice Things - Karaoke Version\"],[\"Call It What You Want - Karaoke Version\"],[\"New Year's Day - Karaoke Version\"],[\"...Ready For It?\"],[\"End Game\"],[\"I Did Something Bad\"],[\"Don\\u2019t Blame Me\"],[\"Delicate\"],[\"Look What You Made Me Do\"],[\"So It Goes...\"],[\"Gorgeous\"],[\"Getaway Car\"],[\"King Of My Heart\"],[\"Dancing With Our Hands Tied\"],[\"Dress\"],[\"This Is Why We Can't Have Nice Things\"],[\"Call It What You Want\"],[\"New Year\\u2019s Day\"],[\"\\u2026Ready For It? - Commentary\"],[\"...Ready For It?\"],[\"End Game - Commentary\"],[\"End Game\"],[\"I Did Something Bad - Commentary\"],[\"I Did Something Bad\"],[\"Don't Blame Me - Commentary\"],[\"Don\\u2019t Blame Me\"],[\"Delicate - Commentary\"],[\"Delicate\"],[\"Look What You Made Me Do - Commentary\"],[\"Look What You Made Me Do\"],[\"So It Goes\\u2026 - Commentary\"],[\"So It Goes...\"],[\"Gorgeous - Commentary\"],[\"Gorgeous\"],[\"Getaway Car - Commentary\"],[\"Getaway Car\"],[\"King Of My Heart - Commentary\"],[\"King Of My Heart\"],[\"Dancing With Our Hands Tied - Commentary\"],[\"Dancing With Our Hands Tied\"],[\"Dress - Commentary\"],[\"Dress\"],[\"This Is Why We Can't Have Nice Things - Commentary\"],[\"This Is Why We Can't Have Nice Things\"],[\"Call It What You Want - Commentary\"],[\"Call It What You Want\"],[\"New Year's Day - Commentary\"],[\"New Year\\u2019s Day\"],[\"Radio Outro - Commentary\"],[\"All Too Well\"],[\"Wildest Dreams\"],[\"The Best Day\"],[\"Red\"],[\"Holy Ground\"],[\"Teardrops On My Guitar - Radio Single Remix\"],[\"Our Song\"],[\"22\"],[\"I Knew You Were Trouble.\"],[\"I Don\\u2019t Wanna Live Forever (Fifty Shades Darker)\"],[\"Mean\"],[\"How You Get The Girl\"],[\"So It Goes...\"],[\"Fifteen\"],[\"Mine\"],[\"Sparks Fly\"],[\"State Of Grace\"],[\"Haunted\"],[\"Never Grow Up\"],[\"Treacherous\"],[\"Babe\"],[\"Welcome To New York\"],[\"Fearless\"],[\"Enchanted\"],[\"Change\"],[\"Ours\"],[\"Out Of The Woods\"],[\"Come Back...Be Here\"],[\"A Place in this World\"],[\"This Love\"],[\"The Lucky One\"],[\"Invisible\"],[\"Breathe\"],[\"Better Man\"],[\"Jump Then Fall\"],[\"Begin Again\"],[\"Tied Together with a Smile\"],[\"The Story Of Us\"],[\"Forever & Always\"],[\"Hey Stephen\"],[\"Speak Now\"],[\"Wonderland\"],[\"White Horse\"],[\"I'm Only Me When I'm With You\"],[\"Starlight\"],[\"I Know Places\"],[\"Welcome To New York\"],[\"Blank Space\"],[\"Style\"],[\"Out Of The Woods\"],[\"All You Had To Do Was Stay\"],[\"Shake It Off\"],[\"I Wish You Would\"],[\"Bad Blood\"],[\"Wildest Dreams\"],[\"How You Get The Girl\"],[\"This Love\"],[\"I Know Places\"],[\"Clean\"],[\"Welcome To New York\"],[\"Blank Space\"],[\"Style\"],[\"Out Of The Woods\"],[\"All You Had To Do Was Stay\"],[\"Shake It Off\"],[\"I Wish You Would\"],[\"Bad Blood\"],[\"Wildest Dreams\"],[\"How You Get The Girl\"],[\"This Love\"],[\"I Know Places\"],[\"Clean\"],[\"Welcome to New York - Commentary\"],[\"Welcome To New York\"],[\"Blank Space - Commentary\"],[\"Blank Space\"],[\"Style - Commentary\"],[\"Style\"],[\"Out Of The Woods - Commentary\"],[\"Out Of The Woods\"],[\"All You Had To Do Was Stay - Commentary\"],[\"All You Had To Do Was Stay\"],[\"Shake It Off - Commentary\"],[\"Shake It Off\"],[\"I Wish You Would - Commentary\"],[\"I Wish You Would\"],[\"Bad Blood - Commentary\"],[\"Bad Blood\"],[\"Wildest Dreams - Commentary\"],[\"Wildest Dreams\"],[\"How You Get The Girl - Commentary\"],[\"How You Get The Girl\"],[\"This Love - Commentary\"],[\"This Love\"],[\"I Know Places - Commentary\"],[\"I Know Places\"],[\"Clean - Commentary\"],[\"Clean\"],[\"Welcome To New York - Karaoke Version\"],[\"Blank Space - Karaoke Version\"],[\"Style - Karaoke Version\"],[\"Out Of The Woods - Karaoke Version\"],[\"All You Had To Do Was Stay - Karaoke Version\"],[\"Shake It Off - Karaoke Version\"],[\"I Wish You Would - Karaoke Version\"],[\"Bad Blood - Karaoke Version\"],[\"Wildest Dreams - Karaoke Version\"],[\"How You Get The Girl - Karaoke Version\"],[\"This Love - Karaoke Version\"],[\"I Know Places - Karaoke Version\"],[\"Clean - Karaoke Version\"],[\"Welcome To New York\"],[\"Blank Space\"],[\"Style\"],[\"Out Of The Woods\"],[\"All You Had To Do Was Stay\"],[\"Shake It Off\"],[\"I Wish You Would\"],[\"Bad Blood\"],[\"Wildest Dreams\"],[\"How You Get The Girl\"],[\"This Love\"],[\"I Know Places\"],[\"Clean\"],[\"State Of Grace\"],[\"Red\"],[\"Treacherous\"],[\"I Knew You Were Trouble.\"],[\"All Too Well\"],[\"22\"],[\"I Almost Do\"],[\"We Are Never Ever Getting Back Together\"],[\"Stay Stay Stay\"],[\"The Last Time\"],[\"Holy Ground\"],[\"Sad Beautiful Tragic\"],[\"The Lucky One\"],[\"Everything Has Changed\"],[\"Starlight\"],[\"Begin Again\"],[\"State Of Grace - Commentary\"],[\"State Of Grace\"],[\"Red - Commentary\"],[\"Red\"],[\"Treacherous - Commentary\"],[\"Treacherous\"],[\"I Knew You Were Trouble. - Commentary\"],[\"I Knew You Were Trouble.\"],[\"All Too Well - Commentary\"],[\"All Too Well\"],[\"22 - Commentary\"],[\"22\"],[\"I Almost Do - Commentary\"],[\"I Almost Do\"],[\"We Are Never Ever Getting Back Together - Commentary\"],[\"We Are Never Ever Getting Back Together\"],[\"Stay Stay Stay - Commentary\"],[\"Stay Stay Stay\"],[\"The Last Time - Commentary\"],[\"The Last Time\"],[\"Holy Ground - Commentary\"],[\"Holy Ground\"],[\"Sad Beautiful Tragic - Commentary\"],[\"Sad Beautiful Tragic\"],[\"The Lucky One - Commentary\"],[\"The Lucky One\"],[\"Everything Has Changed - Commentary\"],[\"Everything Has Changed\"],[\"Starlight - Commentary\"],[\"Starlight\"],[\"Begin Again - Commentary\"],[\"Begin Again\"],[\"State Of Grace - Karaoke Version\"],[\"Red - Karaoke Version\"],[\"Treacherous - Karaoke Version\"],[\"I Knew You Were Trouble. - Karaoke Version\"],[\"All Too Well - Karaoke Version\"],[\"22 - Karaoke Version\"],[\"I Almost Do - Karaoke Version\"],[\"We Are Never Ever Getting Back Together - Karaoke Version\"],[\"Stay Stay Stay - Karaoke Version\"],[\"The Last Time - Karaoke Version\"],[\"Holy Ground - Karaoke Version\"],[\"Sad Beautiful Tragic - Karaoke Version\"],[\"The Lucky One - Karaoke Version\"],[\"Everything Has Changed - Karaoke Version\"],[\"Starlight - Karaoke Version\"],[\"Begin Again - Karaoke Version\"],[\"State Of Grace - Instrumental With Background Vocals\"],[\"Red - Instrumental With Background Vocals\"],[\"Treacherous - Instrumental With Background Vocals\"],[\"I Knew You Were Trouble. - Instrumental With Background Vocals\"],[\"All Too Well - Instrumental With Background Vocals\"],[\"22 - Instrumental With Background Vocals\"],[\"I Almost Do - Instrumental With Background Vocals\"],[\"We Are Never Ever Getting Back Together - Instrumental With Background Vocals\"],[\"Stay Stay Stay - Instrumental With Background Vocals\"],[\"The Last Time - Instrumental With Background Vocals\"],[\"Holy Ground - Instrumental With Background Vocals\"],[\"Sad Beautiful Tragic - Instrumental With Background Vocals\"],[\"The Lucky One - Instrumental With Background Vocals\"],[\"Everything Has Changed - Instrumental With Background Vocals\"],[\"Starlight - Instrumental With Background Vocals\"],[\"Begin Again - Instrumental With Background Vocals\"],[\"Sparks Fly - Live/2011\"],[\"Mine - Live/2011\"],[\"The Story Of Us - Live\"],[\"Mean - Live/2011\"],[\"Ours - Live/2011\"],[\"Back To December/Apologize/You're Not Sorry - Live/2011/Medley\"],[\"Better Than Revenge - Live/2011\"],[\"Speak Now - Live/2011\"],[\"Last Kiss - Live/2011\"],[\"Drops Of Jupiter - Live/2011\"],[\"Bette Davis Eyes - Live/2011\"],[\"I Want You Back - Live/2011\"],[\"Dear John - Live/2011\"],[\"Enchanted - Live/2011\"],[\"Haunted - Live/2011\"],[\"Long Live - Live/2011\"],[\"Mine\"],[\"Sparks Fly\"],[\"Back To December\"],[\"Speak Now\"],[\"Dear John\"],[\"Mean\"],[\"The Story Of Us\"],[\"Never Grow Up\"],[\"Enchanted\"],[\"Better Than Revenge\"],[\"Innocent\"],[\"Haunted\"],[\"Last Kiss\"],[\"Long Live\"],[\"Mine - Commentary\"],[\"Mine\"],[\"Sparks Fly - Commentary\"],[\"Sparks Fly\"],[\"Back To December - Commentary\"],[\"Back To December\"],[\"Speak Now - Commentary\"],[\"Speak Now\"],[\"Dear John - Commentary\"],[\"Dear John\"],[\"Mean - Commentary\"],[\"Mean\"],[\"The Story Of Us - Commentary\"],[\"The Story Of Us\"],[\"Never Grow Up - Commentary\"],[\"Never Grow Up\"],[\"Enchanted - Commentary\"],[\"Enchanted\"],[\"Better Than Revenge - Commentary\"],[\"Better Than Revenge\"],[\"Innocent - Commentary\"],[\"Innocent\"],[\"Haunted - Commentary\"],[\"Haunted\"],[\"Last Kiss - Commentary\"],[\"Last Kiss\"],[\"Long Live - Commentary\"],[\"Long Live\"],[\"Mine - Instrumental With Background Vocals\"],[\"Sparks Fly - Instrumental With Background Vocals\"],[\"Back To December - Instrumental With Background Vocals\"],[\"Speak Now - Instrumental With Background Vocals\"],[\"Dear John - Instrumental With Background Vocals\"],[\"Mean - Instrumental With Background Vocals\"],[\"The Story Of Us - Instrumental With Background Vocals\"],[\"Never Grow Up - Instrumental With Background Vocals\"],[\"Enchanted - Instrumental With Background Vocals\"],[\"Better Than Revenge - Instrumental With Background Vocals\"],[\"Innocent - Instrumental With Background Vocals\"],[\"Haunted - Instrumental With Background Vocals\"],[\"Last Kiss - Instrumental With Background Vocals\"],[\"Long Live - Instrumental With Background Vocals\"],[\"Mine - POP Mix\"],[\"Sparks Fly\"],[\"Back To December\"],[\"Speak Now\"],[\"Dear John\"],[\"Mean\"],[\"The Story Of Us\"],[\"Never Grow Up\"],[\"Enchanted\"],[\"Better Than Revenge\"],[\"Innocent\"],[\"Haunted\"],[\"Last Kiss\"],[\"Long Live\"],[\"Fearless\"],[\"Fifteen\"],[\"Love Story\"],[\"Hey Stephen\"],[\"White Horse\"],[\"You Belong With Me\"],[\"Breathe\"],[\"Tell Me Why\"],[\"You're Not Sorry\"],[\"The Way I Loved You\"],[\"Forever & Always\"],[\"The Best Day\"],[\"Change\"],[\"Our Song\"],[\"Teardrops On My Guitar\"],[\"Should've Said No\"],[\"Beautiful Eyes\"],[\"Picture To Burn - Radio Edit\"],[\"I'm Only Me When I'm With You\"],[\"I Heart ?\"],[\"Fearless\"],[\"Fifteen\"],[\"Love Story\"],[\"Hey Stephen\"],[\"White Horse\"],[\"You Belong With Me\"],[\"Breathe\"],[\"Tell Me Why\"],[\"You're Not Sorry\"],[\"The Way I Loved You\"],[\"Forever & Always\"],[\"The Best Day\"],[\"Change\"],[\"Our Song\"],[\"Teardrops On My Guitar\"],[\"Should've Said No\"],[\"Love Story - J Stax Radio Mix\"],[\"Fearless\"],[\"Fifteen\"],[\"Love Story\"],[\"Hey Stephen\"],[\"White Horse\"],[\"You Belong With Me\"],[\"Breathe\"],[\"Tell Me Why\"],[\"You're Not Sorry\"],[\"The Way I Loved You\"],[\"Forever & Always\"],[\"The Best Day\"],[\"Change\"],[\"Fearless - Commentary\"],[\"Fearless\"],[\"Fifteen - Commentary\"],[\"Fifteen\"],[\"Love Story - Commentary\"],[\"Love Story\"],[\"Hey Stephen - Commentary\"],[\"Hey Stephen\"],[\"White Horse - Commentary\"],[\"White Horse\"],[\"You Belong With Me - Commentary\"],[\"You Belong With Me\"],[\"Breathe - Commentary\"],[\"Breathe\"],[\"Tell Me Why - Commentary\"],[\"Tell Me Why\"],[\"You're Not Sorry - Commentary\"],[\"You're Not Sorry\"],[\"The Way I Loved You - Commentary\"],[\"The Way I Loved You\"],[\"Forever & Always - Commentary\"],[\"Forever & Always\"],[\"The Best Day - Commentary\"],[\"The Best Day\"],[\"Change - Commentary\"],[\"Change\"],[\"Fearless - Instrumental with BGV\"],[\"Fifteen - Instrumental with BGV\"],[\"Love Story - Instrumental with BGV\"],[\"Hey Stephen - Instrumental with BGV\"],[\"White Horse - Instrumental with BGV\"],[\"You Belong With Me - Instrumental with BGV\"],[\"Breathe - Instrumental only, no BV\"],[\"Tell Me Why - Instrumental with BGV\"],[\"You're Not Sorry - Instrumental with BGV\"],[\"The Way I Loved You - Instrumental with BGV\"],[\"Forever & Always - Instrumental with BGV\"],[\"The Best Day - Instrumental with BGV\"],[\"Change - Instrumental with BGV\"],[\"Jump Then Fall\"],[\"Untouchable\"],[\"Forever & Always - Piano Version\"],[\"Come In With The Rain\"],[\"SuperStar\"],[\"The Other Side Of The Door\"],[\"Fearless\"],[\"Fifteen\"],[\"Love Story\"],[\"Hey Stephen\"],[\"White Horse\"],[\"You Belong With Me\"],[\"Breathe\"],[\"Tell Me Why\"],[\"You're Not Sorry\"],[\"The Way I Loved You\"],[\"Forever & Always\"],[\"The Best Day\"],[\"Change\"],[\"Love Story - Live From Clear Channel Stripped 2008\"],[\"Fearless - Live From Clear Channel Stripped 2008\"],[\"Beautiful Eyes - Live From Clear Channel Stripped 2008\"],[\"Untouchable - Live From Clear Channel Stripped 2008\"],[\"Teardrops On My Guitar - Live From Clear Channel Stripped 2008\"],[\"Picture To Burn - Live From Clear Channel Stripped 2008\"],[\"Should've Said No - Live From Clear Channel Stripped 2008\"],[\"Change - Live From Clear Channel Stripped 2008\"],[\"Fearless\"],[\"Fifteen\"],[\"Love Story\"],[\"Hey Stephen\"],[\"White Horse\"],[\"You Belong With Me\"],[\"Breathe\"],[\"Tell Me Why\"],[\"You're Not Sorry\"],[\"The Way I Loved You\"],[\"Forever & Always\"],[\"The Best Day\"],[\"Change\"],[\"Tim McGraw\"],[\"Picture To Burn\"],[\"Teardrops On My Guitar - Radio Single Remix\"],[\"A Place in this World\"],[\"Cold As You\"],[\"The Outside\"],[\"Tied Together with a Smile\"],[\"Stay Beautiful\"],[\"Should've Said No\"],[\"Mary's Song (Oh My My My)\"],[\"Our Song\"],[\"I'm Only Me When I'm With You\"],[\"Invisible\"],[\"A Perfectly Good Heart\"],[\"Teardrops on My Guitar - Pop Version\"],[\"Tim McGraw\"],[\"Picture To Burn\"],[\"Teardrops On My Guitar - Radio Single Remix\"],[\"A Place in this World\"],[\"Cold As You\"],[\"The Outside\"],[\"Tied Together with a Smile\"],[\"Stay Beautiful\"],[\"Should've Said No\"],[\"Mary's Song (Oh My My My)\"],[\"Our Song\"],[\"I'm Only Me When I'm With You\"],[\"Invisible\"],[\"A Perfectly Good Heart\"],[\"Teardrops on My Guitar - Pop Version\"],[\"Tim McGraw - Commentary\"],[\"Tim McGraw\"],[\"Picture To Burn - Commentary\"],[\"Picture To Burn\"],[\"Teardrops On My Guitar - Radio Single Remix / Commentary\"],[\"Teardrops On My Guitar - Radio Single Remix\"],[\"A Place In This World - Commentary\"],[\"A Place In This World\"],[\"Cold As You - Commentary\"],[\"Cold As You\"],[\"The Outside - Commentary\"],[\"The Outside\"],[\"Tied Together With A Smile - Commentary\"],[\"Tied Together With A Smile\"],[\"Stay Beautiful - Commentary\"],[\"Stay Beautiful\"],[\"Should\\u2019ve Said No - Commentary\"],[\"Should've Said No\"],[\"Mary's Song (Oh My My My) - Commentary\"],[\"Mary's Song (Oh My My My)\"],[\"Our Song - Commentary\"],[\"Our Song\"],[\"I\\u2019m Only Me When I\\u2019m With You - Commentary\"],[\"I'm Only Me When I'm With You\"],[\"Invisible - Commentary\"],[\"Invisible\"],[\"A Perfectly Good Heart - Commentary\"],[\"A Perfectly Good Heart\"],[\"Teardrops On My Guitar - Pop Version / Commentary\"],[\"Teardrops On My Guitar - Pop Version\"],[\"Tim McGraw - Instrumental w/ BG vocals\"],[\"Picture To Burn - Instrumental w/ BG vocals\"],[\"Teardrops On My Guitar - Instrumental w/ BG vocals\"],[\"A Place In This World - Instrumental w/ BG vocals\"],[\"Cold As You - Instrumental w/ BG vocals\"],[\"The Outside - Instrumental w/ BG vocals\"],[\"Tied Together With A Smile - Instrumental w/ BG vocals\"],[\"Stay Beautiful - Instrumental w/ BG vocals\"],[\"Should've Said No - Instrumental w/ BG vocals\"],[\"Mary's Song (Oh My My My) - Instrumental w/ BG vocals\"],[\"Our Song - Instrumental w/ BG vocals\"],[\"I'm Only Me When I'm With You - Instrumental w/ BG vocals\"],[\"Invisible - Instrumental w/ BG vocals\"],[\"A Perfectly Good Heart - Instrumental w/ BG vocals\"]],\"hovertemplate\":\"Artist(s)=Taylor Swift<br>Positiveness (valence)=%{x}<br>Energy=%{y}<br>Song Title=%{customdata[0]}<extra></extra>\",\"legendgroup\":\"Taylor Swift\",\"marker\":{\"color\":\"#19d3f3\",\"symbol\":\"circle\"},\"mode\":\"markers\",\"name\":\"Taylor Swift\",\"showlegend\":true,\"x\":[0.529,0.32,0.353,0.348,0.221,0.535,0.21100000000000002,0.354,0.292,0.535,0.511,0.573,0.287,0.92,0.32,0.529,0.32,0.353,0.348,0.221,0.535,0.21100000000000002,0.354,0.292,0.535,0.511,0.573,0.287,0.92,0.32,0.5489999999999999,0.325,0.35100000000000003,0.35100000000000003,0.212,0.528,0.201,0.361,0.304,0.522,0.512,0.5710000000000001,0.294,0.919,0.314,0.172,0.551,0.706,0.152,0.111,0.379,0.415,0.40299999999999997,0.41200000000000003,0.46,0.45,0.506,0.113,0.502,0.33899999999999997,0.429,0.171,0.551,0.713,0.152,0.111,0.379,0.415,0.40299999999999997,0.41200000000000003,0.46,0.45,0.5329999999999999,0.113,0.467,0.33399999999999996,0.429,0.541,0.564,0.45299999999999996,0.633,0.166,0.41600000000000004,0.48700000000000004,0.865,0.248,0.313,0.557,0.42100000000000004,0.35100000000000003,0.7140000000000001,0.39899999999999997,0.728,0.545,0.265,0.191,0.0719,0.17800000000000002,0.0764,0.0429,0.0709,0.25,0.335,0.158,0.145,0.217,0.0383,0.214,0.139,0.0767,0.41700000000000004,0.151,0.305,0.193,0.0499,0.506,0.374,0.451,0.35100000000000003,0.314,0.284,0.0851,0.43799999999999994,0.252,0.23,0.7140000000000001,0.41700000000000004,0.565,0.151,0.731,0.305,0.647,0.193,0.48700000000000004,0.0499,0.584,0.506,0.527,0.374,0.7290000000000001,0.451,0.478,0.35100000000000003,0.715,0.314,0.507,0.284,0.535,0.0851,0.54,0.43799999999999994,0.529,0.252,0.424,0.23,0.6679999999999999,0.316,0.465,0.38299999999999995,0.647,0.648,0.263,0.565,0.68,0.665,0.106,0.79,0.545,0.374,0.21100000000000002,0.67,0.39899999999999997,0.38299999999999995,0.37,0.545,0.395,0.643,0.6579999999999999,0.429,0.218,0.23399999999999999,0.228,0.33799999999999997,0.217,0.43799999999999994,0.107,0.561,0.22399999999999998,0.16699999999999998,0.507,0.818,0.32299999999999995,0.23800000000000002,0.65,0.52,0.838,0.7140000000000001,0.19699999999999998,0.218,0.521,0.616,0.495,0.615,0.583,0.456,0.342,0.47200000000000003,0.943,0.503,0.295,0.467,0.525,0.0858,0.507,0.21100000000000002,0.615,0.583,0.456,0.342,0.47200000000000003,0.943,0.503,0.295,0.467,0.525,0.0858,0.507,0.21100000000000002,0.612,0.6579999999999999,0.547,0.57,0.621,0.48700000000000004,0.5770000000000001,0.33799999999999997,0.56,0.539,0.629,0.9420000000000001,0.6459999999999999,0.513,0.5710000000000001,0.287,0.6809999999999999,0.465,0.838,0.545,0.657,0.107,0.629,0.495,0.61,0.21100000000000002,0.33399999999999996,0.598,0.48100000000000004,0.0612,0.579,0.825,0.23600000000000002,0.18100000000000002,0.45399999999999996,0.456,0.0665,0.45799999999999996,0.369,0.615,0.583,0.456,0.342,0.47200000000000003,0.943,0.503,0.295,0.467,0.525,0.0858,0.507,0.21100000000000002,0.397,0.6409999999999999,0.395,0.679,0.337,0.6679999999999999,0.233,0.75,0.9279999999999999,0.12300000000000001,0.648,0.261,0.545,0.436,0.5870000000000001,0.32299999999999995,0.539,0.397,0.48700000000000004,0.6409999999999999,0.49700000000000005,0.395,0.598,0.679,0.75,0.337,0.51,0.6679999999999999,0.648,0.233,0.5379999999999999,0.75,0.6509999999999999,0.9279999999999999,0.49,0.12300000000000001,0.47100000000000003,0.648,0.415,0.261,0.355,0.545,0.5579999999999999,0.436,0.7020000000000001,0.5870000000000001,0.6559999999999999,0.32299999999999995,0.223,0.675,0.406,0.5579999999999999,0.298,0.647,0.183,0.5710000000000001,0.75,0.105,0.675,0.285,0.557,0.28300000000000003,0.452,0.375,0.223,0.695,0.36700000000000005,0.551,0.306,0.684,0.19899999999999998,0.58,0.74,0.11,0.623,0.28300000000000003,0.608,0.26899999999999996,0.41700000000000004,0.381,0.298,0.442,0.47200000000000003,0.43200000000000005,0.267,0.171,0.386,0.373,0.188,0.27,0.363,0.249,0.138,0.214,0.177,0.204,0.6579999999999999,0.374,0.28600000000000003,0.735,0.102,0.789,0.6829999999999999,0.5539999999999999,0.20800000000000002,0.635,0.17,0.35200000000000004,0.196,0.142,0.5429999999999999,0.635,0.655,0.358,0.642,0.272,0.565,0.737,0.59,0.115,0.6940000000000001,0.794,0.66,0.6659999999999999,0.57,0.5379999999999999,0.627,0.195,0.784,0.595,0.597,0.159,0.517,0.358,0.588,0.22699999999999998,0.6809999999999999,0.142,0.62,0.37,0.31,0.56,0.133,0.62,0.6459999999999999,0.39,0.0921,0.425,0.21,0.41,0.156,0.0876,0.6920000000000001,0.376,0.29600000000000004,0.742,0.126,0.8079999999999999,0.84,0.547,0.228,0.652,0.18600000000000003,0.361,0.20800000000000002,0.146,0.433,0.209,0.29100000000000004,0.815,0.247,0.431,0.16,0.512,0.252,0.406,0.501,0.36,0.237,0.63,0.154,0.43700000000000006,0.37200000000000005,0.802,0.5429999999999999,0.64,0.44799999999999995,0.20800000000000002,0.26899999999999996,0.8270000000000001,0.231,0.414,0.156,0.49200000000000005,0.302,0.419,0.529,0.38299999999999995,0.231,0.6509999999999999,0.171,0.444,0.324,0.47600000000000003,0.203,0.29600000000000004,0.831,0.223,0.44299999999999995,0.184,0.51,0.276,0.39799999999999996,0.544,0.396,0.215,0.655,0.474,0.773,0.19699999999999998,0.594,0.306,0.623,0.809,0.8320000000000001,0.212,0.728,0.435,0.7390000000000001,0.174,0.807,0.488,0.6679999999999999,0.285,0.767,0.41,0.715,0.486,0.6970000000000001,0.345,0.54,0.207,0.38299999999999995,0.23,0.155,0.966,0.24,0.2,0.22399999999999998,0.659,0.184,0.33299999999999996,0.475,0.424,0.179,0.82,0.28800000000000003,0.294,0.22399999999999998,0.228,0.469,0.467,0.214,0.307,0.825,0.195,0.445,0.17,0.513,0.281,0.379,0.514,0.364,0.22399999999999998,0.512,0.467,0.457,0.331,0.615,0.684,0.43799999999999994,0.273,0.442,0.204,0.3,0.805,0.212,0.45,0.16899999999999998,0.49,0.273,0.41600000000000004,0.515,0.402,0.21899999999999997,0.425,0.821,0.289,0.428,0.261,0.591,0.192,0.504,0.47200000000000003,0.374,0.539,0.518,0.233,0.268,0.483,0.425,0.821,0.289,0.428,0.261,0.591,0.192,0.504,0.47200000000000003,0.374,0.539,0.518,0.233,0.268,0.483,0.653,0.447,0.512,0.7909999999999999,0.551,0.259,0.774,0.43,0.528,0.29,0.6759999999999999,0.5870000000000001,0.552,0.213,0.503,0.44299999999999995,0.591,0.53,0.705,0.368,0.606,0.575,0.5710000000000001,0.505,0.593,0.204,0.56,0.273,0.705,0.485,0.301,0.892,0.12300000000000001,0.544,0.19699999999999998,0.62,0.183,0.46,0.685,0.301,0.585,0.847,0.11800000000000001,0.31],\"xaxis\":\"x\",\"y\":[0.574,0.24,0.462,0.434,0.361,0.613,0.33399999999999996,0.488,0.537,0.545,0.517,0.73,0.561,0.7040000000000001,0.27,0.574,0.24,0.462,0.434,0.361,0.613,0.33399999999999996,0.488,0.537,0.545,0.517,0.73,0.561,0.7040000000000001,0.27,0.579,0.248,0.47100000000000003,0.435,0.36,0.613,0.331,0.488,0.536,0.547,0.513,0.732,0.562,0.705,0.27,0.35700000000000004,0.581,0.662,0.38,0.263,0.413,0.488,0.623,0.47600000000000003,0.31,0.452,0.6990000000000001,0.267,0.377,0.272,0.18100000000000002,0.348,0.581,0.6609999999999999,0.38,0.263,0.413,0.488,0.623,0.47600000000000003,0.31,0.452,0.7090000000000001,0.267,0.379,0.26899999999999996,0.18100000000000002,0.316,0.7020000000000001,0.5429999999999999,0.6579999999999999,0.574,0.366,0.747,0.7190000000000001,0.624,0.732,0.71,0.182,0.32,0.6709999999999999,0.449,0.83,0.175,0.496,0.8140000000000001,0.528,0.517,0.456,0.332,0.373,0.53,0.462,0.682,0.622,0.529,0.457,0.757,0.45399999999999996,0.0639,0.764,0.589,0.602,0.534,0.40399999999999997,0.7090000000000001,0.61,0.535,0.6890000000000001,0.703,0.691,0.469,0.789,0.504,0.151,0.34700000000000003,0.764,0.245,0.589,0.327,0.602,0.287,0.534,0.23600000000000002,0.40399999999999997,0.37799999999999995,0.7090000000000001,0.318,0.61,0.242,0.535,0.177,0.6890000000000001,0.34600000000000003,0.703,0.281,0.691,0.312,0.469,0.207,0.789,0.33899999999999997,0.504,0.158,0.151,0.298,0.605,0.688,0.44799999999999995,0.899,0.816,0.42700000000000005,0.6629999999999999,0.733,0.46399999999999997,0.445,0.754,0.6559999999999999,0.61,0.628,0.779,0.782,0.828,0.9490000000000001,0.309,0.621,0.784,0.634,0.718,0.626,0.763,0.56,0.841,0.5479999999999999,0.767,0.435,0.505,0.38299999999999995,0.48,0.843,0.6990000000000001,0.526,0.547,0.8079999999999999,0.8290000000000001,0.541,0.603,0.6920000000000001,0.348,0.9329999999999999,0.777,0.755,0.634,0.6779999999999999,0.7859999999999999,0.841,0.735,0.785,0.898,0.802,0.664,0.659,0.45899999999999996,0.763,0.38,0.634,0.6779999999999999,0.7859999999999999,0.841,0.735,0.785,0.898,0.802,0.664,0.659,0.45899999999999996,0.763,0.38,0.226,0.634,0.272,0.703,0.337,0.7909999999999999,0.24,0.841,0.223,0.725,0.278,0.8,0.266,0.893,0.312,0.794,0.247,0.688,0.368,0.6559999999999999,0.32299999999999995,0.435,0.29,0.755,0.28,0.377,0.68,0.708,0.845,0.93,0.731,0.835,0.94,0.8490000000000001,0.609,0.648,0.4,0.732,0.385,0.634,0.6779999999999999,0.7859999999999999,0.841,0.735,0.785,0.898,0.802,0.664,0.659,0.45899999999999996,0.763,0.38,0.825,0.8959999999999999,0.621,0.469,0.609,0.7290000000000001,0.48100000000000004,0.6759999999999999,0.748,0.44299999999999995,0.816,0.34,0.499,0.45799999999999996,0.777,0.526,0.364,0.825,0.266,0.8959999999999999,0.35700000000000004,0.621,0.35,0.469,0.36200000000000004,0.609,0.36700000000000005,0.7290000000000001,0.23199999999999998,0.48100000000000004,0.312,0.6759999999999999,0.281,0.748,0.371,0.44299999999999995,0.297,0.816,0.413,0.34,0.32899999999999996,0.499,0.306,0.45799999999999996,0.315,0.777,0.28600000000000003,0.526,0.8859999999999999,0.871,0.645,0.353,0.64,0.693,0.493,0.574,0.823,0.418,0.767,0.359,0.39899999999999997,0.47600000000000003,0.6679999999999999,0.537,0.8859999999999999,0.871,0.631,0.353,0.64,0.691,0.495,0.589,0.825,0.409,0.757,0.35600000000000004,0.4,0.469,0.652,0.526,0.7829999999999999,0.852,0.9079999999999999,0.915,0.355,0.516,0.887,0.6940000000000001,0.395,0.504,0.488,0.512,0.386,0.6629999999999999,0.818,0.728,0.757,0.787,0.67,0.599,0.47,0.7609999999999999,0.818,0.305,0.623,0.917,0.608,0.95,0.341,0.68,0.242,0.78,0.264,0.7909999999999999,0.185,0.67,0.21,0.62,0.196,0.466,0.16399999999999998,0.746,0.18,0.8079999999999999,0.182,0.301,0.25,0.624,0.317,0.9179999999999999,0.23199999999999998,0.595,0.28300000000000003,0.946,0.243,0.33299999999999996,0.272,0.6920000000000001,0.657,0.687,0.609,0.505,0.374,0.665,0.797,0.265,0.523,0.872,0.564,0.904,0.261,0.61,0.768,0.785,0.606,0.601,0.46799999999999997,0.747,0.855,0.308,0.618,0.917,0.604,0.9440000000000001,0.32899999999999996,0.682,0.705,0.636,0.637,0.555,0.349,0.765,0.479,0.85,0.456,0.723,0.826,0.447,0.768,0.7,0.547,0.762,0.7,0.8590000000000001,0.935,0.818,0.6990000000000001,0.634,0.637,0.5429999999999999,0.33399999999999996,0.774,0.47600000000000003,0.8540000000000001,0.46,0.7190000000000001,0.8109999999999999,0.44799999999999995,0.763,0.691,0.5539999999999999,0.758,0.8270000000000001,0.7120000000000001,0.6509999999999999,0.741,0.544,0.34,0.7829999999999999,0.48200000000000004,0.855,0.452,0.7,0.821,0.434,0.77,0.275,0.7090000000000001,0.17800000000000002,0.64,0.26,0.741,0.28,0.556,0.237,0.35700000000000004,0.263,0.745,0.20199999999999999,0.475,0.267,0.851,0.27,0.449,0.25,0.727,0.251,0.826,0.304,0.449,0.33399999999999996,0.757,0.657,0.643,0.735,0.57,0.35200000000000004,0.741,0.469,0.848,0.41700000000000004,0.7040000000000001,0.762,0.625,0.706,0.687,0.45399999999999996,0.16,0.475,0.531,0.816,0.7140000000000001,0.636,0.736,0.5529999999999999,0.34600000000000003,0.7709999999999999,0.486,0.852,0.45899999999999996,0.7120000000000001,0.8290000000000001,0.447,0.7559999999999999,0.444,0.266,0.7040000000000001,0.184,0.8009999999999999,0.872,0.8079999999999999,0.7120000000000001,0.703,0.627,0.738,0.5539999999999999,0.342,0.755,0.48,0.8390000000000001,0.45,0.705,0.828,0.445,0.753,0.491,0.877,0.41700000000000004,0.777,0.48200000000000004,0.805,0.578,0.629,0.777,0.627,0.672,0.934,0.39399999999999996,0.7509999999999999,0.753,0.491,0.877,0.41700000000000004,0.777,0.48200000000000004,0.805,0.578,0.629,0.777,0.627,0.672,0.934,0.39399999999999996,0.7509999999999999,0.753,0.278,0.499,0.28600000000000003,0.8640000000000001,0.299,0.44,0.278,0.77,0.28,0.49200000000000005,0.29,0.807,0.325,0.556,0.28600000000000003,0.631,0.28,0.758,0.303,0.612,0.27899999999999997,0.659,0.27,0.934,0.222,0.384,0.248,0.76,0.32,0.742,0.42700000000000005,0.742,0.369,0.66,0.469,0.7120000000000001,0.469,0.532,0.563,0.529,0.484,0.7959999999999999,0.27899999999999997,0.6579999999999999],\"yaxis\":\"y\",\"type\":\"scattergl\"},{\"customdata\":[[\"Green Light\"],[\"Sober\"],[\"Homemade Dynamite\"],[\"The Louvre\"],[\"Liability\"],[\"Hard Feelings/Loveless\"],[\"Sober II (Melodrama)\"],[\"Writer In The Dark\"],[\"Supercut\"],[\"Liability (Reprise)\"],[\"Perfect Places\"],[\"Homemade Dynamite - REMIX\"],[\"Green Light\"],[\"Sober\"],[\"Homemade Dynamite\"],[\"The Louvre\"],[\"Liability\"],[\"Hard Feelings/Loveless\"],[\"Sober II (Melodrama)\"],[\"Writer In The Dark\"],[\"Supercut\"],[\"Liability (Reprise)\"],[\"Perfect Places\"],[\"Homemade Dynamite - REMIX\"],[\"Green Light\"],[\"Sober\"],[\"Homemade Dynamite\"],[\"The Louvre\"],[\"Liability\"],[\"Hard Feelings/Loveless\"],[\"Sober II (Melodrama)\"],[\"Writer In The Dark\"],[\"Supercut\"],[\"Liability (Reprise)\"],[\"Perfect Places\"],[\"Green Light\"],[\"Sober\"],[\"Homemade Dynamite\"],[\"The Louvre\"],[\"Liability\"],[\"Hard Feelings/Loveless\"],[\"Sober II (Melodrama)\"],[\"Writer In The Dark\"],[\"Supercut\"],[\"Liability (Reprise)\"],[\"Perfect Places\"],[\"Tennis Court\"],[\"400 Lux\"],[\"Royals\"],[\"Ribs\"],[\"Buzzcut Season\"],[\"Team\"],[\"Glory And Gore\"],[\"Still Sane\"],[\"White Teeth Teens\"],[\"A World Alone\"],[\"Tennis Court\"],[\"400 Lux\"],[\"Royals\"],[\"Ribs\"],[\"Buzzcut Season\"],[\"Team\"],[\"Glory And Gore\"],[\"Still Sane\"],[\"White Teeth Teens\"],[\"A World Alone\"],[\"Bravado\"],[\"Swingin Party\"],[\"Bravado - Fffrrannno Remix\"],[\"Tennis Court\"],[\"400 Lux\"],[\"Royals\"],[\"Ribs\"],[\"Buzzcut Season\"],[\"Team\"],[\"Glory And Gore\"],[\"Still Sane\"],[\"White Teeth Teens\"],[\"A World Alone\"],[\"Bravado\"],[\"Million Dollar Bills\"],[\"The Love Club\"],[\"Biting Down\"],[\"Swingin Party\"]],\"hovertemplate\":\"Artist(s)=Lorde<br>Positiveness (valence)=%{x}<br>Energy=%{y}<br>Song Title=%{customdata[0]}<extra></extra>\",\"legendgroup\":\"Lorde\",\"marker\":{\"color\":\"#FF6692\",\"symbol\":\"circle\"},\"mode\":\"markers\",\"name\":\"Lorde\",\"showlegend\":true,\"x\":[0.253,0.516,0.268,0.126,0.379,0.18,0.10099999999999999,0.27899999999999997,0.15,0.26,0.512,0.175,0.253,0.462,0.242,0.126,0.379,0.18100000000000002,0.10300000000000001,0.27899999999999997,0.15,0.285,0.525,0.18600000000000003,0.253,0.516,0.268,0.126,0.379,0.18,0.10099999999999999,0.27899999999999997,0.15,0.26,0.512,0.253,0.462,0.242,0.126,0.379,0.18100000000000002,0.10300000000000001,0.27899999999999997,0.15,0.285,0.525,0.428,0.19399999999999998,0.337,0.0399,0.247,0.41600000000000004,0.294,0.0958,0.102,0.0663,0.40399999999999997,0.19399999999999998,0.355,0.0399,0.247,0.41600000000000004,0.294,0.0958,0.102,0.0663,0.04,0.107,0.205,0.40399999999999997,0.19399999999999998,0.337,0.0399,0.247,0.41600000000000004,0.294,0.0958,0.102,0.0663,0.04,0.43700000000000006,0.626,0.33399999999999996,0.107],\"xaxis\":\"x\",\"y\":[0.721,0.467,0.431,0.382,0.22899999999999998,0.445,0.312,0.271,0.43700000000000006,0.27699999999999997,0.58,0.5479999999999999,0.721,0.485,0.436,0.382,0.22899999999999998,0.442,0.32,0.271,0.43700000000000006,0.281,0.574,0.5489999999999999,0.721,0.467,0.431,0.382,0.22899999999999998,0.445,0.312,0.271,0.43700000000000006,0.27699999999999997,0.58,0.721,0.485,0.436,0.382,0.22899999999999998,0.442,0.32,0.271,0.43700000000000006,0.281,0.574,0.5670000000000001,0.474,0.428,0.47200000000000003,0.62,0.578,0.377,0.361,0.304,0.485,0.546,0.474,0.42,0.47200000000000003,0.62,0.578,0.377,0.361,0.304,0.485,0.535,0.245,0.61,0.546,0.474,0.428,0.47200000000000003,0.62,0.578,0.377,0.361,0.304,0.485,0.535,0.555,0.493,0.375,0.245],\"yaxis\":\"y\",\"type\":\"scattergl\"},{\"customdata\":[[\"Tear It Up - Live At The O2, London, UK, 02/07/2018\"],[\"Now I'm Here - Live At Summer Sonic, Tokyo, Japan, 2014\"],[\"Another One Bites The Dust - Live At Summer Sonic, Tokyo, Japan, 2014\"],[\"Fat Bottomed Girls - Live At The American Airlines Center, Dallas, USA, 2019\"],[\"Don't Stop Me Now - Live At Rock In Rio, Lisbon, Portugal, 2016\"],[\"I Want To Break Free - Live At Rock In Rio, Lisbon, Portugal, 2016\"],[\"Somebody To Love - Live At The Isle Of Wight Festival, UK, 2016\"],[\"Love Kills - The Ballad - Live At The iHeart Radio Theater, Los Angeles, USA, 2014\"],[\"I Was Born To Love You - Live At Summer Sonic, Tokyo, Japan, 2014\"],[\"Under Pressure - Live At Global Citizen Festival, New York, USA, 2019\"],[\"Who Wants To Live Forever - Live At The Isle Of Wight Festival, UK, 2016\"],[\"The Show Must Go On - Live At The O2, London, UK, 04/07/2018\"],[\"Love Of My Life - Live At The O2, London, UK, 02/07/2018\"],[\"Bohemian Rhapsody - Live At Fire Fight Australia, ANZ Stadium, Sydney, Australia, 2020\"],[\"Radio Ga Ga - Live At Fire Fight Australia, ANZ Stadium, Sydney, Australia, 2020\"],[\"Ay-Ohs - Live At Fire Fight Australia, ANZ Stadium, Sydney, Australia, 2020\"],[\"Hammer To Fall - Live At Fire Fight Australia, ANZ Stadium, Sydney, Australia, 2020\"],[\"Crazy Little Thing Called Love - Live At Fire Fight Australia, ANZ Stadium, Sydney, Australia, 2020\"],[\"We Will Rock You - Live At Fire Fight Australia, ANZ Stadium, Sydney, Australia, 2020\"],[\"We Are The Champions - Live At Fire Fight Australia, ANZ Stadium, Sydney, Australia, 2020\"],[\"Bohemian Rhapsody - Live At Fire Fight Australia, ANZ Stadium, Sydney, Australia, 2020\"],[\"Radio Ga Ga - Live At Fire Fight Australia, ANZ Stadium, Sydney, Australia, 2020\"],[\"Ay-Ohs - Live At Fire Fight Australia, ANZ Stadium, Sydney, Australia, 2020\"],[\"Hammer To Fall - Live At Fire Fight Australia, ANZ Stadium, Sydney, Australia, 2020\"],[\"Crazy Little Thing Called Love - Live At Fire Fight Australia, ANZ Stadium, Sydney, Australia, 2020\"],[\"We Will Rock You - Live At Fire Fight Australia, ANZ Stadium, Sydney, Australia, 2020\"],[\"We Are The Champions - Live At Fire Fight Australia, ANZ Stadium, Sydney, Australia, 2020\"],[\"20th Century Fox Fanfare\"],[\"Somebody To Love - 2011 Remaster\"],[\"Doing All Right - \\u2026revisited\"],[\"Keep Yourself Alive - Live at The Rainbow\"],[\"Killer Queen - 2011 Remaster\"],[\"Fat Bottomed Girls - Live in Paris\"],[\"Bohemian Rhapsody - 2011 Remaster\"],[\"Now I'm Here - Live at The Hammersmith Odeon\"],[\"Crazy Little Thing Called Love - 2011 Remaster\"],[\"Love Of My Life - Live at Rock in Rio Festival\"],[\"We Will Rock You - Movie Mix\"],[\"Another One Bites The Dust - 2011 Remaster\"],[\"I Want To Break Free\"],[\"Under Pressure\"],[\"Who Wants To Live Forever - 2011 Remaster\"],[\"Bohemian Rhapsody - Live Aid\"],[\"Radio Ga Ga - Live Aid\"],[\"Ay-Oh - Live Aid\"],[\"Hammer To Fall - Live Aid\"],[\"We Are The Champions - Live Aid\"],[\"Don't Stop Me Now - \\u2026revisited\"],[\"The Show Must Go On - 2011 Remaster\"],[\"20th Century Fox Fanfare\"],[\"Somebody To Love\"],[\"Doing All Right - ...Revisited\"],[\"Keep Yourself Alive - Live At The Rainbow\"],[\"Killer Queen\"],[\"Fat Bottomed Girls - Live In Paris\"],[\"Bohemian Rhapsody\"],[\"Now I'm Here - Live At The Hammersmith Odeon\"],[\"Crazy Little Thing Called Love\"],[\"Love Of My Life - Live At Rock In Rio\"],[\"We Will Rock You - Movie Mix\"],[\"Another One Bites The Dust\"],[\"I Want To Break Free\"],[\"Under Pressure\"],[\"Who Wants To Live Forever\"],[\"Bohemian Rhapsody - Live Aid\"],[\"Radio Ga Ga - Live Aid\"],[\"Ay-Oh - Live Aid\"],[\"Hammer To Fall - Live Aid\"],[\"We Are The Champions - Live Aid\"],[\"Don't Stop Me Now - ...Revisited\"],[\"The Show Must Go On\"],[\"My Fairy King - BBC Session / February 5th 1973, Langham 1 Studio\"],[\"Keep Yourself Alive - BBC Session / February 5th 1973, Langham 1 Studio\"],[\"Doing All Right - BBC Session / February 5th 1973, Langham 1 Studio\"],[\"Liar - BBC Session / February 5th 1973, Langham 1 Studio\"],[\"See What A Fool I've Been - BBC Session / July 25th 1973, Langham 1 Studio\"],[\"Keep Yourself Alive - BBC Session / July 25th 1973, Langham 1 Studio\"],[\"Liar - BBC Session / July 25th 1973, Langham 1 Studio\"],[\"Son And Daughter - BBC Session / July 25th 1973, Langham 1 Studio\"],[\"Ogre Battle - BBC Session / December 3rd 1973, Langham 1 Studio\"],[\"Modern Times Rock 'n' Roll - BBC Session / December 3rd 1973, Langham 1 Studio\"],[\"Great King Rat - BBC Session / December 3rd 1973, Langham 1 Studio\"],[\"Son And Daughter - BBC Session / December 3rd 1973, Langham 1 Studio\"],[\"Modern Times Rock 'n' Roll - BBC Session / April 3rd 1974, Langham 1 Studio\"],[\"Nevermore - BBC Session / April 3rd 1974, Langham 1 Studio\"],[\"White Queen (As It Began) - BBC Session / April 3rd 1974, Langham 1 Studio\"],[\"Now I'm Here - BBC Session / October 16th 1974, Maida Vale 4 Studio\"],[\"Stone Cold Crazy - BBC Session / October 16th 1974, Maida Vale 4 Studio\"],[\"Flick Of The Wrist - BBC Session / October 16th 1974, Maida Vale 4 Studio\"],[\"Tenement Funster - BBC Session / October 16th 1974, Maida Vale 4 Studio\"],[\"We Will Rock You - BBC Session / October 28th 1977, Maida Vale 4 Studio\"],[\"We Will Rock You (Fast) - BBC Session / October 28th 1977, Maida Vale 4 Studio\"],[\"Spread Your Wings - BBC Session / October 28th 1977, Maida Vale 4 Studio\"],[\"It's Late - BBC Session / October 28th 1977, Maida Vale 4 Studio\"],[\"My Melancholy Blues - BBC Session / October 28th 1977, Maida Vale 4 Studio\"],[\"My Fairy King - BBC Session / February 5th 1973, Langham 1 Studio\"],[\"Keep Yourself Alive - BBC Session / February 5th 1973, Langham 1 Studio\"],[\"Doing All Right - BBC Session / February 5th 1973, Langham 1 Studio\"],[\"Liar - BBC Session / February 5th 1973, Langham 1 Studio\"],[\"See What A Fool I've Been - BBC Session / July 25th 1973, Langham 1 Studio\"],[\"Keep Yourself Alive - BBC Session / July 25th 1973, Langham 1 Studio\"],[\"Liar - BBC Session / July 25th 1973, Langham 1 Studio\"],[\"Son And Daughter - BBC Session / July 25th 1973, Langham 1 Studio\"],[\"Ogre Battle - BBC Session / December 3rd 1973, Langham 1 Studio\"],[\"Modern Times Rock 'n' Roll - BBC Session / December 3rd 1973, Langham 1 Studio\"],[\"Great King Rat - BBC Session / December 3rd 1973, Langham 1 Studio\"],[\"Son And Daughter - BBC Session / December 3rd 1973, Langham 1 Studio\"],[\"Modern Times Rock 'n' Roll - BBC Session / April 3rd 1974, Langham 1 Studio\"],[\"Nevermore - BBC Session / April 3rd 1974, Langham 1 Studio\"],[\"White Queen (As It Began) - BBC Session / April 3rd 1974, Langham 1 Studio\"],[\"Now I'm Here - BBC Session / October 16th 1974, Maida Vale 4 Studio\"],[\"Stone Cold Crazy - BBC Session / October 16th 1974, Maida Vale 4 Studio\"],[\"Flick Of The Wrist - BBC Session / October 16th 1974, Maida Vale 4 Studio\"],[\"Tenement Funster - BBC Session / October 16th 1974, Maida Vale 4 Studio\"],[\"We Will Rock You - BBC Session / October 28th 1977, Maida Vale 4 Studio\"],[\"We Will Rock You (Fast) - BBC Session / October 28th 1977, Maida Vale 4 Studio\"],[\"Spread Your Wings - BBC Session / October 28th 1977, Maida Vale 4 Studio\"],[\"It's Late - BBC Session / October 28th 1977, Maida Vale 4 Studio\"],[\"My Melancholy Blues - BBC Session / October 28th 1977, Maida Vale 4 Studio\"],[\"Now I'm Here - Live At The Hammersmith Odeon, London / 1975\"],[\"Ogre Battle - Live At The Hammersmith Odeon, London / 1975\"],[\"White Queen (As It Began) - Live At The Hammersmith Odeon, London / 1975\"],[\"Bohemian Rhapsody - Live At The Hammersmith Odeon, London / 1975\"],[\"Killer Queen - Live At The Hammersmith Odeon, London / 1975\"],[\"The March of the Black Queen - Live At The Hammersmith Odeon, London / 1975\"],[\"Bohemian Rhapsody - Reprise / Live At The Hammersmith Odeon, London / 1975\"],[\"Bring Back That Leroy Brown - Live At The Hammersmith Odeon, London / 1975\"],[\"Brighton Rock - Live At The Hammersmith Odeon, London / 1975\"],[\"Guitar Solo - Live At The Hammersmith Odeon, London / 1975\"],[\"Son and Daughter - Live At The Hammersmith Odeon, London / 1975\"],[\"Keep Yourself Alive - Live At The Hammersmith Odeon, London / 1975\"],[\"Liar - Live At The Hammersmith Odeon, London / 1975\"],[\"In the Lap of the Gods... Revisited - Live At The Hammersmith Odeon, London / 1975\"],[\"Big Spender - Live At The Hammersmith Odeon, London / 1975\"],[\"Jailhouse Rock Medley - Live At The Hammersmith Odeon, London / 1975\"],[\"Seven Seas of Rhye - Live At The Hammersmith Odeon, London / 1975\"],[\"See What a Fool I've Been - Live At The Hammersmith Odeon, London / 1975\"],[\"God Save The Queen - Live At The Hammersmith Odeon, London / 1975\"],[\"Procession - Live At The Rainbow, London / November 1974\"],[\"Now I'm Here - Live At The Rainbow, London / November 1974\"],[\"Ogre Battle - Live At The Rainbow, London / November 1974\"],[\"Father To Son - Live At The Rainbow, London / November 1974\"],[\"White Queen (As It Began) - Live At The Rainbow, London / November 1974\"],[\"Flick Of The Wrist - Live At The Rainbow, London / November 1974\"],[\"In The Lap Of The Gods - Live At The Rainbow, London / November 1974\"],[\"Killer Queen - Live At The Rainbow, London / November 1974\"],[\"The March Of The Black Queen - Live At The Rainbow, London / November 1974\"],[\"Bring Back That Leroy Brown - Live At The Rainbow, London / November 1974\"],[\"Son And Daughter - Live At The Rainbow, London / November 1974\"],[\"Guitar Solo - Live At The Rainbow, London / November 1974\"],[\"Son And Daughter (Reprise) - Live At The Rainbow, London / November 1974\"],[\"Keep Yourself Alive - Live At The Rainbow, London / November 1974\"],[\"Drum Solo - Live At The Rainbow, London / November 1974\"],[\"Keep Yourself Alive (Reprise) - Live At The Rainbow, London / November 1974\"],[\"Seven Seas Of Rhye - Live At The Rainbow, London / November 1974\"],[\"Stone Cold Crazy - Live At The Rainbow, London / November 1974\"],[\"Liar - Live At The Rainbow, London / November 1974\"],[\"In The Lap Of The Gods...Revisited - Live At The Rainbow, London / November 1974\"],[\"Big Spender - Live At The Rainbow, London / November 1974\"],[\"Modern Times Rock 'n' Roll - Live At The Rainbow, London / November 1974\"],[\"Jailhouse Rock - Live At The Rainbow, London / November 1974\"],[\"God Save The Queen - Live At The Rainbow, London / November 1974\"],[\"Procession - Live At The Rainbow, London / March 1974\"],[\"Father To Son - Live At The Rainbow, London / March 1974\"],[\"Ogre Battle - Live At The Rainbow, London / March 1974\"],[\"Son And Daughter - Live At The Rainbow, London / March 1974\"],[\"Guitar Solo - Live At The Rainbow, London / March 1974\"],[\"Son And Daughter (Reprise) - Live At The Rainbow, London / March 1974\"],[\"White Queen (As It Began) - Live At The Rainbow, London / March 1974\"],[\"Great King Rat - Live At The Rainbow, London / March 1974\"],[\"The Fairy Feller's Master-Stroke - Live At The Rainbow, London / March 1974\"],[\"Keep Yourself Alive - Live At The Rainbow, London / March 1974\"],[\"Drum Solo - Live At The Rainbow, London / March 1974\"],[\"Keep Yourself Alive (Reprise) - Live At The Rainbow, London / March 1974\"],[\"Seven Seas Of Rhye - Live At The Rainbow, London / March 1974\"],[\"Modern Times Rock 'n' Roll - Live At The Rainbow, London / March 1974\"],[\"Jailhouse Rock / Stupid Cupid / Be Bop A Lula - Live At The Rainbow, London / March 1974\"],[\"Liar - Live At The Rainbow, London / March 1974\"],[\"See What A Fool I've Been - Live At The Rainbow, London / March 1974\"],[\"Procession - Live At The Rainbow, London / November 1974\"],[\"Now I'm Here - Live At The Rainbow, London / November 1974\"],[\"Ogre Battle - Live At The Rainbow, London / November 1974\"],[\"Father To Son - Live At The Rainbow, London / November 1974\"],[\"White Queen (As It Began) - Live At The Rainbow, London / November 1974\"],[\"Flick Of The Wrist - Live At The Rainbow, London / November 1974\"],[\"In The Lap Of The Gods - Live At The Rainbow, London / November 1974\"],[\"Killer Queen - Live At The Rainbow, London / November 1974\"],[\"The March Of The Black Queen - Live At The Rainbow, London / November 1974\"],[\"Bring Back That Leroy Brown - Live At The Rainbow, London / November 1974\"],[\"Son And Daughter - Live At The Rainbow, London / November 1974\"],[\"Guitar Solo - Live At The Rainbow, London / November 1974\"],[\"Son And Daughter (Reprise) - Live At The Rainbow, London / November 1974\"],[\"Keep Yourself Alive - Live At The Rainbow, London / November 1974\"],[\"Drum Solo - Live At The Rainbow, London / November 1974\"],[\"Keep Yourself Alive (Reprise) - Live At The Rainbow, London / November 1974\"],[\"Seven Seas Of Rhye - Live At The Rainbow, London / November 1974\"],[\"Stone Cold Crazy - Live At The Rainbow, London / November 1974\"],[\"Liar - Live At The Rainbow, London / November 1974\"],[\"In The Lap Of The Gods...Revisited - Live At The Rainbow, London / November 1974\"],[\"Big Spender - Live At The Rainbow, London / November 1974\"],[\"Modern Times Rock 'n' Roll - Live At The Rainbow, London / November 1974\"],[\"Jailhouse Rock - Live At The Rainbow, London / November 1974\"],[\"God Save The Queen - Live At The Rainbow, London / November 1974\"],[\"Cosmos Rockin'\"],[\"Time To Shine\"],[\"Still Burnin'\"],[\"Small\"],[\"Warboys\"],[\"We Believe\"],[\"Call Me\"],[\"Voodoo\"],[\"Some Things That Glitter\"],[\"C-lebrity\"],[\"Through The Night\"],[\"Say It's Not True\"],[\"Surf's Up...School's Out\"],[\"small reprise\"],[\"Intro - Live\"],[\"We Will Rock You (Fast) - Live\"],[\"Let Me Entertain You - Live\"],[\"Play The Game - Live\"],[\"Somebody To Love - Live\"],[\"Killer Queen - Live\"],[\"I'm In Love With My Car - Live\"],[\"Get Down, Make Love - Live\"],[\"Save Me - Live\"],[\"Now I'm Here - Live\"],[\"Dragon Attack - Live\"],[\"Now I'm Here (Reprise) - Live\"],[\"Love Of My Life - Live\"],[\"Under Pressure - Live\"],[\"Keep Yourself Alive - Live\"],[\"Drum And Tympani Solo - Live\"],[\"Guitar Solo - Live\"],[\"Flash - Live\"],[\"The Hero - Live\"],[\"Crazy Little Thing Called Love - Live\"],[\"Jailhouse Rock - Live\"],[\"Bohemian Rhapsody - Live\"],[\"Tie Your Mother Down - Live\"],[\"Another One Bites The Dust - Live\"],[\"Sheer Heart Attack - Live\"],[\"We Will Rock You - Live\"],[\"We Are The Champions - Live\"],[\"God Save The Queen - Live\"],[\"Intro - Live At The Montreal Forum / November 1981\"],[\"We Will Rock You (Fast) - Live At The Montreal Forum / November 1981\"],[\"Let Me Entertain You - Live At The Montreal Forum / November 1981\"],[\"Play The Game - Live At The Montreal Forum / November 1981\"],[\"Somebody To Love - Live At The Montreal Forum / November 1981\"],[\"Killer Queen - Live At The Montreal Forum / November 1981\"],[\"I'm In Love With My Car - Live At The Montreal Forum / November 1981\"],[\"Get Down, Make Love - Live At The Montreal Forum / November 1981\"],[\"Save Me - Live At The Montreal Forum / November 1981\"],[\"Now I'm Here - Live At The Montreal Forum / November 1981\"],[\"Dragon Attack - Live At The Montreal Forum / November 1981\"],[\"Now I'm Here (Reprise) - Live At The Montreal Forum / November 1981\"],[\"Under Pressure - Live At The Montreal Forum / November 1981\"],[\"Keep Yourself Alive - Live At The Montreal Forum / November 1981\"],[\"Drum And Tympani Solo - Live At The Montreal Forum / November 1981\"],[\"Guitar Solo - Live At The Montreal Forum / November 1981\"],[\"Flash - Live At The Montreal Forum / November 1981\"],[\"The Hero - Live At The Montreal Forum / November 1981\"],[\"Crazy Little Thing Called Love - Live At The Montreal Forum / November 1981\"],[\"Jailhouse Rock - Live At The Montreal Forum / November 1981\"],[\"Bohemian Rhapsody - Live At The Montreal Forum / November 1981\"],[\"Tie Your Mother Down - Live At The Montreal Forum / November 1981\"],[\"Another One Bites The Dust - Live At The Montreal Forum / November 1981\"],[\"Sheer Heart Attack - Live At The Montreal Forum / November 1981\"],[\"We Will Rock You - Live At The Montreal Forum / November 1981\"],[\"We Are The Champions - Live At The Montreal Forum / November 1981\"],[\"God Save The Queen - Live At The Montreal Forum / November 1981\"],[\"Intro - Live\"],[\"We Will Rock You (Fast) - Live\"],[\"Let Me Entertain You - Live\"],[\"Play The Game - Live\"],[\"Somebody To Love - Live\"],[\"Killer Queen - Live\"],[\"I'm In Love With My Car - Live\"],[\"Get Down, Make Love - Live\"],[\"Save Me - Live\"],[\"Now I'm Here - Live\"],[\"Dragon Attack - Live\"],[\"Now I'm Here (Reprise) - Live\"],[\"Love Of My Life - Live\"],[\"Under Pressure - Live\"],[\"Keep Yourself Alive - Live\"],[\"Drum And Tympani Solo - Live\"],[\"Guitar Solo - Live\"],[\"Flash - Live\"],[\"The Hero - Live\"],[\"Crazy Little Thing Called Love - Live\"],[\"Jailhouse Rock - Live\"],[\"Bohemian Rhapsody - Live\"],[\"Tie Your Mother Down - Live\"],[\"Another One Bites The Dust - Live\"],[\"Sheer Heart Attack - Live\"],[\"We Will Rock You - Live\"],[\"We Are The Champions - Live\"],[\"God Save The Queen - Live\"],[\"Reaching Out - Live In Sheffield / 2005\"],[\"Tie Your Mother Down - Live In Sheffield / 2005\"],[\"I Want To Break Free - Live In Sheffield / 2005\"],[\"Fat Bottomed Girls - Live In Sheffield / 2005\"],[\"Wishing Well - Live In Sheffield / 2005\"],[\"Another One Bites The Dust - Live In Sheffield / 2005\"],[\"Crazy Little Thing Called Love - Live In Sheffield / 2005\"],[\"Say It's Not True - Live In Sheffield / 2005\"],[\"'39 - Live In Sheffield / 2005\"],[\"Love Of My Life - Live In Sheffield / 2005\"],[\"Hammer To Fall - Live In Sheffield / 2005\"],[\"Feel Like Makin' Love - Live In Sheffield / 2005\"],[\"Let There Be Drums - Live In Sheffield / 2005\"],[\"I'm In Love With My Car - Live In Sheffield / 2005\"],[\"Guitar Solo - Live In Sheffield / 2005\"],[\"Last Horizon - Live In Sheffield / 2005\"],[\"These Are The Days Of Our Lives - Live In Sheffield / 2005\"],[\"Radio Ga Ga - Live In Sheffield / 2005\"],[\"Can't Get Enough - Live In Sheffield / 2005\"],[\"A Kind Of Magic - Live In Sheffield / 2005\"],[\"I Want It All - Live In Sheffield / 2005\"],[\"Bohemian Rhapsody - Live In Sheffield / 2005\"],[\"The Show Must Go On - Live In Sheffield / 2005\"],[\"All Right Now - Live In Sheffield / 2005\"],[\"We Will Rock You - Live In Sheffield / 2005\"],[\"We Are The Champions - Live In Sheffield / 2005\"],[\"God Save The Queen - Live In Sheffield / 2005\"],[\"It's A Beautiful Day\"],[\"Made In Heaven\"],[\"Let Me Live\"],[\"Mother Love\"],[\"My Life Has Been Saved\"],[\"I Was Born To Love You\"],[\"Heaven For Everyone\"],[\"Too Much Love Will Kill You\"],[\"You Don't Fool Me\"],[\"A Winter's Tale\"],[\"It's A Beautiful Day (Reprise)\"],[\"Yeah\"],[\"Untitled\"],[\"It's A Beautiful Day\"],[\"Made In Heaven\"],[\"Let Me Live\"],[\"Mother Love\"],[\"My Life Has Been Saved\"],[\"I Was Born To Love You\"],[\"Heaven For Everyone\"],[\"Too Much Love Will Kill You\"],[\"You Don't Fool Me\"],[\"A Winter's Tale\"],[\"It's A Beautiful Day (Reprise)\"],[\"Yeah\"],[\"Track 13\"],[\"One Vision - Live at Wembley '86\"],[\"Tie Your Mother Down - Live at Wembley '86\"],[\"In The Lap Of The Gods - Live at Wembley '86\"],[\"Seven Seas Of Rhye - Live at Wembley '86\"],[\"Tear It Up - Live at Wembley '86\"],[\"A Kind Of Magic - Live at Wembley '86\"],[\"Under Pressure - Live at Wembley '86\"],[\"Another One Bites The Dust - Live at Wembley '86\"],[\"Who Wants To Live Forever - Live at Wembley '86\"],[\"I Want To Break Free - Live at Wembley '86\"],[\"Impromptu - Live at Wembley '86\"],[\"Brighton Rock Solo - Live at Wembley '86\"],[\"Now I'm Here - Live at Wembley '86\"],[\"Love Of My Life - Live at Wembley\"],[\"Is This The World We Created - Live at Wembley '86\"],[\"(You're So Square) Baby I Don't Care - Live at Wembley '86\"],[\"Hello Mary Lou (Goodbye Heart) - Live at Wembley '86\"],[\"Tutti Frutti - Live at Wembley '86\"],[\"Gimme Some Lovin' - Live at Wembley '86\"],[\"Bohemian Rhapsody - Live at Wembley '86\"],[\"Hammer To Fall - Live at Wembley '86\"],[\"Crazy Little Thing Called Love - Live at Wembley '86\"],[\"Big Spender - Live at Wembley '86\"],[\"Radio Ga Ga - Live at Wembley '86\"],[\"We Will Rock You - Live at Wembley '86\"],[\"Friends Will Be Friends - Live at Wembley '86\"],[\"We Are The Champions - Live at Wembley '86\"],[\"God Save The Queen - Live at Wembley '86\"],[\"A Kind Of Magic - Live at Wembley '86 (July 11)\"],[\"Another One Bites The Dust - Live at Wembley '86 (July 11)\"],[\"Crazy Little Thing Called Love - Live at Wembley '86 (July 11)\"],[\"Tavaski Szel Vizet Araszt - Live\"],[\"One Vision - Live At Wembley Stadium / July 1986\"],[\"Tie Your Mother Down - Live At Wembley Stadium / July 1986\"],[\"In the Lap of the Gods...Revisited - Live, Wembley Stadium, July 1986\"],[\"Seven Seas of Rhye - Live At Wembley Stadium / July 1986\"],[\"Tear It Up - Live At Wembley Stadium / July 1986\"],[\"A Kind of Magic - Live At Wembley Stadium / July 1986\"],[\"Under Pressure - Live At Wembley Stadium / July 1986\"],[\"Another One Bites the Dust - Live At Wembley Stadium / July 1986\"],[\"Who Wants to Live Forever - Live At Wembley Stadium / July 1986\"],[\"I Want to Break Free - Live At Wembley Stadium / July 1986\"],[\"Impromptu - Live At Wembley Stadium / July 1986\"],[\"Brighton Rock Solo - Live At Wembley Stadium / July 1986\"],[\"Now I'm Here - Live At Wembley Stadium / July 1986\"],[\"Love of My Life - Live At Wembley Stadium / July 1986\"],[\"Is This the World We Created? - Live At Wembley Stadium / July 1986\"],[\"(You're So Square) Baby I Don't Care - Live At Wembley Stadium / July 1986\"],[\"Hello Mary Lou (Goodbye Heart) - Live At Wembley Stadium / July 1986\"],[\"Tutti Frutti - Live At Wembley Stadium / July 1986\"],[\"Gimme Some Lovin' - Live At Wembley Stadium / July 1986\"],[\"Bohemian Rhapsody - Live At Wembley Stadium / July 1986\"],[\"Hammer to Fall - Live At Wembley Stadium / July 1986\"],[\"Crazy Little Thing Called Love - Live At Wembley Stadium / July 1986\"],[\"Big Spender - Live At Wembley Stadium / July 1986\"],[\"Radio Ga Ga - Live At Wembley Stadium / July 1986\"],[\"We Will Rock You - Live At Wembley Stadium / July 1986\"],[\"Friends Will Be Friends - Live At Wembley Stadium / July 1986\"],[\"We Are the Champions - Live At Wembley Stadium / July 1986\"],[\"God Save the Queen - Live At Wembley Stadium / July 1986\"],[\"Innuendo\"],[\"I'm Going Slightly Mad\"],[\"Headlong\"],[\"I Can't Live With You\"],[\"Don't Try So Hard\"],[\"Ride The Wild Wind\"],[\"All God's People\"],[\"These Are The Days Of Our Lives\"],[\"Delilah\"],[\"The Hitman\"],[\"Bijou\"],[\"The Show Must Go On\"],[\"Innuendo\"],[\"I'm Going Slightly Mad\"],[\"Headlong\"],[\"I Can't Live With You\"],[\"Don't Try So Hard\"],[\"Ride The Wild Wind\"],[\"All God's People\"],[\"These Are The Days Of Our Lives\"],[\"Delilah\"],[\"The Hitman\"],[\"Bijou\"],[\"The Show Must Go On\"],[\"Party\"],[\"Khashoggi's Ship\"],[\"The Miracle\"],[\"I Want It All\"],[\"The Invisible Man\"],[\"Breakthru\"],[\"Rain Must Fall\"],[\"Scandal\"],[\"My Baby Does Me\"],[\"Was It All Worth It\"],[\"Hang On In There\"],[\"Chinese Torture\"],[\"The Invisible Man - 12\\\" Version (Extended Mix)\"],[\"Scandal - 12\\\" Mix (Album Version)\"],[\"Party\"],[\"Khashoggi's Ship\"],[\"The Miracle\"],[\"I Want It All\"],[\"The Invisible Man\"],[\"Breakthru\"],[\"Rain Must Fall\"],[\"Scandal\"],[\"My Baby Does Me\"],[\"Was It All Worth It\"],[\"Hang On In There\"],[\"Chinese Torture\"],[\"The Invisible Man - Extended Version\"],[\"One Vision\"],[\"A Kind Of Magic\"],[\"One Year Of Love\"],[\"Pain Is So Close To Pleasure\"],[\"Friends Will Be Friends\"],[\"Who Wants To Live Forever\"],[\"Gimme The Prize\"],[\"Don't Lose Your Head\"],[\"Princes Of The Universe\"],[\"A Kind Of 'A Kind Of Magic'\"],[\"Friends Will Be Friends Will Be Friends\"],[\"Forever\"],[\"One Vision\"],[\"A Kind Of Magic\"],[\"One Year Of Love\"],[\"Pain Is So Close To Pleasure\"],[\"Friends Will Be Friends\"],[\"Who Wants To Live Forever\"],[\"Gimme The Prize (Kurgan's Theme)\"],[\"Don't Lose Your Head\"],[\"Princes Of The Universe\"],[\"Forever - Remix\"],[\"One Vision\"],[\"Radio Ga Ga\"],[\"Tear It Up\"],[\"It's A Hard Life\"],[\"Man On The Prowl\"],[\"Machines (Back To Humans)\"],[\"I Want To Break Free\"],[\"Keep Passing The Open Windows\"],[\"Hammer To Fall\"],[\"Is This The World We Created\"],[\"I Go Crazy\"],[\"Radio Ga Ga - Extended Remix\"],[\"I Want To Break Free - Extended Mix\"],[\"Radio Ga Ga\"],[\"Tear It Up\"],[\"It's A Hard Life\"],[\"Man On The Prowl\"],[\"Machines (Or Back To Humans)\"],[\"I Want To Break Free\"],[\"Keep Passing The Open Windows\"],[\"Hammer To Fall\"],[\"Is This The World We Created...?\"],[\"Staying Power\"],[\"Dancer\"],[\"Back Chat\"],[\"Body Language\"],[\"Action This Day\"],[\"Put Out The Fire\"],[\"Life Is Real (Song For Lennon)\"],[\"Calling All Girls\"],[\"Las Palabras De Amor\"],[\"Cool Cat\"],[\"Under Pressure\"],[\"Body Language - 1991 Bonus Remix\"],[\"Staying Power\"],[\"Dancer\"],[\"Back Chat\"],[\"Body Language\"],[\"Action This Day\"],[\"Put Out The Fire\"],[\"Life Is Real (Song For Lennon)\"],[\"Calling All Girls\"],[\"Las Palabras De Amor (The Words Of Love)\"],[\"Cool Cat\"],[\"Under Pressure\"],[\"Flash's Theme\"],[\"In The Space Capsule (The Love Theme)\"],[\"Ming's Theme (In The Court Of Ming The Merciless)\"],[\"The Ring (Hypnotic Seduction Of Dale)\"],[\"Football Fight\"],[\"In The Death Cell (Love Theme Reprise)\"],[\"Execution Of Flash\"],[\"The Kiss (Aura Resurrects Flash)\"],[\"Arboria (Planet Of The Tree Men)\"],[\"Escape From The Swamp\"],[\"Flash To The Rescue\"],[\"Vultan's Theme (Attack Of The Hawk Men)\"],[\"Battle Theme\"],[\"The Wedding March\"],[\"Marriage Of Dale And Ming (And Flash Approaching)\"],[\"Crash Dive On Mingo City\"],[\"Flash's Theme Reprise (Victory Celebrations)\"],[\"The Hero\"],[\"Flash's Theme - 1991 Bonus Remix\"],[\"Flash's Theme\"],[\"In The Space Capsule (The Love Theme)\"],[\"Ming's Theme (In The Court Of Ming The Merciless)\"],[\"The Ring (Hypnotic Seduction Of Dale)\"],[\"Football Fight\"],[\"In The Death Cell (Love Theme Reprise)\"],[\"Execution Of Flash\"],[\"The Kiss (Aura Resurrects Flash)\"],[\"Arboria (Planet Of The Tree Men)\"],[\"Escape From The Swamp\"],[\"Flash To The Rescue\"],[\"Vultan's Theme (Attack Of The Hawk Men)\"],[\"Battle Theme\"],[\"The Wedding March\"],[\"Marriage Of Dale And Ming (And Flash Approaching)\"],[\"Crash Dive On Mingo City\"],[\"Flash's Theme Reprise (Victory Celebrations)\"],[\"The Hero\"],[\"Play The Game\"],[\"Dragon Attack\"],[\"Another One Bites The Dust\"],[\"Need Your Loving Tonight\"],[\"Crazy Little Thing Called Love\"],[\"Rock It (Prime Jive)\"],[\"Don't Try Suicide\"],[\"Sail Away Sweet Sister\"],[\"Coming Soon\"],[\"Save Me\"],[\"Dragon Attack - 1991 Bonus Remix\"],[\"Play The Game\"],[\"Dragon Attack\"],[\"Another One Bites The Dust\"],[\"Need Your Loving Tonight\"],[\"Crazy Little Thing Called Love\"],[\"Rock It (Prime Jive)\"],[\"Don't Try Suicide\"],[\"Sail Away Sweet Sister\"],[\"Coming Soon\"],[\"Save Me\"],[\"We Will Rock You - Live\"],[\"Let Me Entertain You - Live\"],[\"Death On Two Legs\"],[\"Killer Queen - Live\"],[\"Bicycle Race - Live\"],[\"I'm In Love With My Car - Live\"],[\"Get Down, Make Love - Live\"],[\"You're My Best Friend - Live\"],[\"Now I'm Here - Live\"],[\"Dreamers Ball - Live\"],[\"Love Of My Life - Live\"],[\"'39 - Live\"],[\"Keep Yourself Alive - Live\"],[\"Don't Stop Me Now - Live\"],[\"Spread Your Wings - Live\"],[\"Brighton Rock - Live\"],[\"Bohemian Rhapsody - Live\"],[\"Tie Your Mother Down - Live\"],[\"Sheer Heart Attack - Live\"],[\"We Will Rock You - Live\"],[\"We Are The Champions - Live\"],[\"God Save The Queen - Live\"],[\"We Will Rock You - Live, European Tour / 1979\"],[\"Let Me Entertain You - Live, European Tour / 1979\"],[\"Death On Two Legs - Live, European Tour / 1979\"],[\"Killer Queen - Live, European Tour / 1979\"],[\"Bicycle Race - Live, European Tour / 1979\"],[\"I'm In Love With My Car - Live, European Tour / 1979\"],[\"Get Down, Make Love - Live, European Tour / 1979\"],[\"You're My Best Friend - Live, European Tour / 1979\"],[\"Now I'm Here - Live, European Tour / 1979\"],[\"Dreamer's Ball - Live, European Tour / 1979\"],[\"Love Of My Life - Live, European Tour / 1979\"],[\"'39 - Live, European Tour / 1979\"],[\"Keep Yourself Alive - Live, European Tour / 1979\"],[\"Don't Stop Me Now - Live, European Tour / 1979\"],[\"Spread Your Wings - Live, European Tour / 1979\"],[\"Brighton Rock - Live, European Tour / 1979\"],[\"Bohemian Rhapsody - Live, European Tour / 1979\"],[\"Tie Your Mother Down - Live, European Tour / 1979\"],[\"Sheer Heart Attack - Live, European Tour / 1979\"],[\"We Will Rock You - Live, European Tour / 1979\"],[\"We Are The Champions - Live, European Tour / 1979\"],[\"God Save The Queen - Live, European Tour / 1979\"],[\"Mustapha\"],[\"Fat Bottomed Girls\"],[\"Jealousy\"],[\"Bicycle Race\"],[\"If You Can't Beat Them\"],[\"Let Me Entertain You\"],[\"Dead On Time\"],[\"In Only Seven Days\"],[\"Dreamers Ball\"],[\"Fun It\"],[\"Leaving Home Ain't Easy\"],[\"Don't Stop Me Now\"],[\"More Of That Jazz\"],[\"Fat Bottomed Girls - 1991 Bonus Remix\"],[\"Bicycle Race - 1991 Bonus Remix\"],[\"Mustapha\"],[\"Fat Bottomed Girls\"],[\"Jealousy\"],[\"Bicycle Race\"],[\"If You Can't Beat Them\"],[\"Let Me Entertain You\"],[\"Dead On Time\"],[\"In Only Seven Days\"],[\"Dreamer's Ball\"],[\"Fun It\"],[\"Leaving Home Ain't Easy\"],[\"Don't Stop Me Now\"],[\"More Of That Jazz\"],[\"We Will Rock You\"],[\"We Are The Champions\"],[\"Sheer Heart Attack\"],[\"All Dead, All Dead\"],[\"Spread Your Wings\"],[\"Fight From The Inside\"],[\"Get Down, Make Love\"],[\"Sleeping On The Sidewalk\"],[\"Who Needs You\"],[\"It's Late\"],[\"My Melancholy Blues\"],[\"We Will Rock You - 1991 Bonus Remix Ruined By Rick Rubin\"],[\"We Will Rock You\"],[\"We Are The Champions\"],[\"Sheer Heart Attack\"],[\"All Dead, All Dead\"],[\"Spread Your Wings\"],[\"Fight From The Inside\"],[\"Get Down, Make Love\"],[\"Sleeping On The Sidewalk\"],[\"Who Needs You\"],[\"It's Late\"],[\"My Melancholy Blues\"],[\"Tie Your Mother Down\"],[\"You Take My Breath Away\"],[\"Long Away\"],[\"The Millionaire Waltz\"],[\"You And I\"],[\"Somebody To Love\"],[\"White Man\"],[\"Good Old-Fashioned Lover Boy\"],[\"Drowse\"],[\"Teo Torriatte (Let Us Cling Together)\"],[\"Tie Your Mother Down - Remastered 2011\"],[\"You Take My Breath Away - Remastered 2011\"],[\"Long Away - Remastered 2011\"],[\"The Millionaire Waltz - Remastered 2011\"],[\"You And I - Remastered 2011\"],[\"Somebody To Love - Remastered 2011\"],[\"White Man - Remastered 2011\"],[\"Good Old-Fashioned Lover Boy - Remastered 2011\"],[\"Drowse - Remastered 2011\"],[\"Teo Torriatte (Let Us Cling Together) - Remastered 2011\"],[\"Death On Two Legs (Dedicated To...) - Remastered 2011\"],[\"Lazing On A Sunday Afternoon - Remastered 2011\"],[\"I'm In Love With My Car - Remastered 2011\"],[\"You're My Best Friend - Remastered 2011\"],[\"'39 - Remastered 2011\"],[\"Sweet Lady - Remastered 2011\"],[\"Seaside Rendezvous - Remastered 2011\"],[\"The Prophet's Song - Remastered 2011\"],[\"Love Of My Life - Remastered 2011\"],[\"Good Company - Remastered 2011\"],[\"Bohemian Rhapsody - Remastered 2011\"],[\"God Save The Queen - Remastered 2011\"],[\"Brighton Rock - Remastered 2011\"],[\"Killer Queen - Remastered 2011\"],[\"Tenement Funster - Remastered 2011\"],[\"Flick Of The Wrist - Remastered 2011\"],[\"Lily Of The Valley - Remastered 2011\"],[\"Now I'm Here - Remastered 2011\"],[\"In The Lap Of The Gods - Remastered 2011\"],[\"Stone Cold Crazy - Remastered 2011\"],[\"Dear Friends - Remastered 2011\"],[\"Misfire - Remastered 2011\"],[\"Bring Back That Leroy Brown - Remastered 2011\"],[\"She Makes Me (Stormtrooper In Stilettos) - Remastered 2011\"],[\"In The Lap Of The Gods... Revisited - Remastered 2011\"],[\"Brighton Rock\"],[\"Killer Queen\"],[\"Tenement Funster\"],[\"Flick Of The Wrist\"],[\"Lily Of The Valley\"],[\"Now I'm Here\"],[\"In The Lap Of The Gods\"],[\"Stone Cold Crazy\"],[\"Dear Friends\"],[\"Misfire\"],[\"Bring Back That Leroy Brown\"],[\"She Makes Me (Stormtrooper In Stilettos)\"],[\"In The Lap Of The Gods... Revisited\"],[\"Procession - Remastered 2011\"],[\"Father To Son - Remastered 2011\"],[\"White Queen (As It Began) - Remastered 2011\"],[\"Some Day One Day - Remastered 2011\"],[\"The Loser In The End - Remastered 2011\"],[\"Ogre Battle - Remastered 2011\"],[\"The Fairy Feller's Master-Stroke - Remastered 2011\"],[\"Nevermore - Remastered 2011\"],[\"The March Of The Black Queen - Remastered 2011\"],[\"Funny How Love Is - Remastered 2011\"],[\"Seven Seas Of Rhye - Remastered 2011\"],[\"Procession\"],[\"Father To Son\"],[\"White Queen (As It Began)\"],[\"Some Day One Day\"],[\"The Loser In The End\"],[\"Ogre Battle\"],[\"The Fairy Feller's Master-Stroke\"],[\"Nevermore\"],[\"The March Of The Black Queen\"],[\"Funny How Love Is\"],[\"Seven Seas Of Rhye\"],[\"Keep Yourself Alive\"],[\"Doing Alright\"],[\"Great King Rat\"],[\"My Fairy King\"],[\"Liar\"],[\"The Night Comes Down\"],[\"Modern Times Rock'n'Roll\"],[\"Son And Daughter\"],[\"Jesus\"],[\"Seven Seas Of Rhye...\"],[\"Keep Yourself Alive - 2011 Mix\"],[\"Doing Alright - Remastered 2011\"],[\"Great King Rat - Remastered 2011\"],[\"My Fairy King - Remastered 2011\"],[\"Liar - Remastered 2011\"],[\"The Night Comes Down - Remastered 2011\"],[\"Modern Times Rock 'N Roll - Remastered 2011\"],[\"Son And Daughter - Remastered 2011\"],[\"Jesus - Remastered 2011\"],[\"Seven Seas Of Rhye - Remastered 2011\"],[\"My Fairy King\"],[\"Keep Yourself Alive\"],[\"Doing All Right\"],[\"Liar (At The BBC)\"],[\"Ogre Battle\"],[\"Great King Rat\"],[\"Modern Times Rock 'N' Roll\"],[\"Son And Daughter\"]],\"hovertemplate\":\"Artist(s)=Queen<br>Positiveness (valence)=%{x}<br>Energy=%{y}<br>Song Title=%{customdata[0]}<extra></extra>\",\"legendgroup\":\"Queen\",\"marker\":{\"color\":\"#B6E880\",\"symbol\":\"circle\"},\"mode\":\"markers\",\"name\":\"Queen\",\"showlegend\":true,\"x\":[0.455,0.12,0.45799999999999996,0.298,0.42100000000000004,0.47200000000000003,0.43799999999999994,0.185,0.292,0.41700000000000004,0.105,0.299,0.141,0.4,0.37,0.0696,0.27899999999999997,0.441,0.158,0.275,0.4,0.37,0.0696,0.27899999999999997,0.441,0.158,0.275,0.556,0.349,0.418,0.295,0.622,0.34600000000000003,0.24600000000000002,0.13,0.7659999999999999,0.0713,0.40700000000000003,0.753,0.502,0.46,0.0388,0.327,0.395,0.462,0.153,0.195,0.39,0.0671,0.556,0.349,0.418,0.295,0.622,0.34600000000000003,0.24600000000000002,0.13,0.7659999999999999,0.0713,0.40700000000000003,0.753,0.502,0.46,0.0388,0.327,0.395,0.462,0.153,0.195,0.39,0.0671,0.259,0.42200000000000004,0.353,0.363,0.41600000000000004,0.504,0.33899999999999997,0.484,0.243,0.49,0.379,0.52,0.38799999999999996,0.5329999999999999,0.145,0.44799999999999995,0.46299999999999997,0.5660000000000001,0.45299999999999996,0.368,0.253,0.505,0.23800000000000002,0.132,0.285,0.41100000000000003,0.34600000000000003,0.368,0.373,0.516,0.34600000000000003,0.498,0.315,0.524,0.395,0.531,0.379,0.541,0.138,0.449,0.446,0.616,0.489,0.374,0.22399999999999998,0.486,0.242,0.127,0.135,0.0651,0.363,0.35,0.42,0.0471,0.107,0.35600000000000004,0.171,0.45799999999999996,0.20800000000000002,0.205,0.11599999999999999,0.0349,0.073,0.0344,0.158,0.312,0.528,0.298,0.0906,0.156,0.16899999999999998,0.19899999999999998,0.281,0.322,0.773,0.309,0.503,0.526,0.39799999999999996,0.161,0.294,0.74,0.196,0.175,0.168,0.24600000000000002,0.428,0.11699999999999999,0.0839,0.276,0.08199999999999999,0.295,0.209,0.14800000000000002,0.536,0.34600000000000003,0.0584,0.172,0.157,0.348,0.14300000000000002,0.7440000000000001,0.228,0.275,0.0939,0.282,0.16399999999999998,0.36700000000000005,0.255,0.099,0.149,0.221,0.19399999999999998,0.315,0.35,0.733,0.265,0.49700000000000005,0.525,0.426,0.18600000000000003,0.26899999999999996,0.589,0.18600000000000003,0.171,0.16399999999999998,0.21600000000000003,0.413,0.13699999999999998,0.087,0.23,0.126,0.363,0.24100000000000002,0.711,0.24600000000000002,0.267,0.278,0.7290000000000001,0.517,0.414,0.5429999999999999,0.382,0.223,0.14,0.0905,0.133,0.0932,0.18600000000000003,0.218,0.28300000000000003,0.695,0.44799999999999995,0.127,0.25,0.182,0.522,0.147,0.19699999999999998,0.225,0.52,0.34,0.205,0.308,0.35600000000000004,0.342,0.18600000000000003,0.255,0.225,0.373,0.0716,0.209,0.14,0.294,0.12300000000000001,0.105,0.255,0.19899999999999998,0.306,0.637,0.494,0.141,0.258,0.192,0.48700000000000004,0.185,0.204,0.506,0.342,0.205,0.313,0.38299999999999995,0.358,0.245,0.23600000000000002,0.268,0.405,0.0644,0.188,0.157,0.292,0.135,0.0804,0.201,0.21600000000000003,0.302,0.6709999999999999,0.46799999999999997,0.113,0.26899999999999996,0.22,0.452,0.128,0.188,0.207,0.517,0.33399999999999996,0.205,0.249,0.39899999999999997,0.348,0.22699999999999998,0.235,0.249,0.371,0.0615,0.187,0.142,0.247,0.424,0.162,0.268,0.402,0.48700000000000004,0.473,0.486,0.405,0.441,0.21899999999999997,0.46,0.267,0.195,0.336,0.05,0.207,0.444,0.408,0.547,0.281,0.461,0.28300000000000003,0.299,0.275,0.172,0.245,0.191,0.0363,0.379,0.435,0.17,0.316,0.522,0.258,0.2,0.569,0.147,0.045,0.0,0.0306,0.0355,0.41,0.45899999999999996,0.156,0.29100000000000004,0.518,0.23399999999999999,0.195,0.599,0.14400000000000002,0.0397,0.0,0.0311,0.0885,0.0395,0.16899999999999998,0.21,0.182,0.154,0.294,0.114,0.0934,0.281,0.34700000000000003,0.159,0.23199999999999998,0.109,0.107,0.365,0.247,0.14,0.122,0.27699999999999997,0.0609,0.182,0.0981,0.32299999999999995,0.0372,0.40700000000000003,0.19899999999999998,0.109,0.207,0.249,0.348,0.172,0.0885,0.0395,0.16899999999999998,0.21,0.182,0.154,0.294,0.114,0.0934,0.281,0.34700000000000003,0.159,0.23199999999999998,0.111,0.1,0.377,0.262,0.149,0.13,0.276,0.057999999999999996,0.19699999999999998,0.10400000000000001,0.342,0.0375,0.47,0.214,0.17,0.254,0.364,0.445,0.45799999999999996,0.114,0.40299999999999997,0.244,0.5479999999999999,0.529,0.23800000000000002,0.0549,0.109,0.272,0.35600000000000004,0.444,0.47200000000000003,0.111,0.408,0.24600000000000002,0.5710000000000001,0.5870000000000001,0.22399999999999998,0.0446,0.18899999999999997,0.797,0.579,0.503,0.41200000000000003,0.632,0.32799999999999996,0.966,0.581,0.664,0.177,0.374,0.10400000000000001,0.523,0.62,0.847,0.5379999999999999,0.522,0.455,0.614,0.33399999999999996,0.9620000000000001,0.595,0.706,0.18899999999999997,0.46399999999999997,0.188,0.66,0.34700000000000003,0.693,0.0967,0.634,0.322,0.0396,0.14300000000000002,0.359,0.335,0.9570000000000001,0.258,0.0393,0.322,0.705,0.147,0.68,0.377,0.0398,0.14,0.371,0.32,0.0388,0.14300000000000002,0.632,0.313,0.293,0.932,0.47,0.742,0.5539999999999999,0.5660000000000001,0.165,0.36200000000000004,0.66,0.545,0.693,0.355,0.317,0.9159999999999999,0.381,0.812,0.617,0.544,0.222,0.439,0.625,0.7509999999999999,0.38,0.873,0.528,0.361,0.632,0.128,0.9,0.406,0.6,0.439,0.573,0.742,0.379,0.878,0.525,0.326,0.606,0.133,0.9059999999999999,0.452,0.182,0.109,0.0294,0.0371,0.423,0.0478,0.135,0.0,0.064,0.109,0.11199999999999999,0.475,0.46299999999999997,0.6729999999999999,0.365,0.12,0.466,0.369,0.39899999999999997,0.213,0.122,0.0311,0.036000000000000004,0.375,0.0397,0.157,0.0411,0.0601,0.122,0.113,0.595,0.503,0.6,0.425,0.133,0.518,0.361,0.33399999999999996,0.629,0.784,0.802,0.743,0.62,0.659,0.245,0.893,0.429,0.768,0.306,0.679,0.778,0.782,0.693,0.557,0.65,0.21899999999999997,0.795,0.311,0.318,0.297,0.355,0.748,0.616,0.43,0.102,0.684,0.125,0.363,0.302,0.725,0.377,0.23,0.486,0.28300000000000003,0.242,0.10300000000000001,0.0551,0.0744,0.207,0.423,0.316,0.299,0.35,0.769,0.6459999999999999,0.326,0.10099999999999999,0.6709999999999999,0.129,0.371,0.285,0.605,0.373,0.196,0.494,0.22,0.235,0.0886,0.0993,0.0691,0.235,0.316,0.595,0.41,0.23800000000000002,0.69,0.677,0.662,0.486,0.519,0.45299999999999996,0.86,0.24,0.64,0.526,0.37200000000000005,0.617,0.5720000000000001,0.423,0.23199999999999998,0.71,0.7,0.522,0.444,0.428,0.444,0.87,0.22699999999999998,0.6,0.49700000000000005,0.544,0.18899999999999997,0.46399999999999997,0.272,0.431,0.324,0.484,0.6920000000000001,0.93,0.5870000000000001,0.111,0.231,0.537,0.163,0.402,0.28,0.419,0.34,0.479,0.713,0.9209999999999999,0.597,0.149,0.165,0.0785,0.256,0.364,0.488,0.377,0.244,0.34600000000000003,0.313,0.11800000000000001,0.16,0.0751,0.29600000000000004,0.373,0.54,0.358,0.264,0.39299999999999996,0.405,0.111,0.455,0.7120000000000001,0.34,0.5760000000000001,0.336,0.593,0.7609999999999999,0.17800000000000002,0.26,0.51,0.228,0.23,0.35100000000000003,0.61,0.511,0.552,0.41600000000000004,0.537,0.235,0.504,0.5670000000000001,0.961,0.887,0.37,0.502,0.359,0.597,0.446,0.591,0.44299999999999995,0.551,0.22899999999999998,0.445,0.542,0.948,0.904,0.344,0.496,0.384,0.22399999999999998,0.16699999999999998,0.705,0.682,0.266,0.696,0.18600000000000003,0.141,0.431,0.42700000000000005,0.325,0.223,0.171,0.6679999999999999,0.821,0.319,0.667,0.17,0.2,0.608,0.371,0.635,0.185,0.447,0.247,0.316,0.6609999999999999,0.579,0.7709999999999999,0.583,0.28800000000000003,0.593,0.17800000000000002,0.428,0.276,0.267,0.67,0.513,0.7440000000000001,0.531,0.0451,0.267,0.45299999999999996,0.294,0.377,0.434,0.355,0.48700000000000004,0.47600000000000003],\"xaxis\":\"x\",\"y\":[0.953,0.9359999999999999,0.914,0.878,0.9009999999999999,0.8029999999999999,0.7979999999999999,0.522,0.807,0.882,0.474,0.802,0.379,0.83,0.9359999999999999,0.805,0.9259999999999999,0.909,0.976,0.889,0.83,0.9359999999999999,0.805,0.9259999999999999,0.909,0.976,0.889,0.705,0.698,0.45299999999999996,0.975,0.64,0.914,0.397,0.919,0.762,0.563,0.593,0.526,0.414,0.6990000000000001,0.371,0.7809999999999999,0.934,0.87,0.981,0.86,0.917,0.675,0.705,0.698,0.45299999999999996,0.975,0.64,0.914,0.397,0.919,0.762,0.563,0.593,0.526,0.414,0.6990000000000001,0.371,0.7809999999999999,0.934,0.87,0.981,0.86,0.917,0.675,0.52,0.713,0.309,0.617,0.767,0.715,0.617,0.922,0.723,0.8340000000000001,0.7559999999999999,0.794,0.9740000000000001,0.289,0.617,0.7040000000000001,0.8390000000000001,0.723,0.515,0.461,0.9840000000000001,0.868,0.7140000000000001,0.235,0.506,0.722,0.303,0.613,0.7559999999999999,0.706,0.617,0.9209999999999999,0.743,0.8420000000000001,0.7609999999999999,0.797,0.9740000000000001,0.282,0.62,0.72,0.835,0.738,0.526,0.44,0.988,0.868,0.7020000000000001,0.23600000000000002,0.899,0.9059999999999999,0.807,0.6709999999999999,0.816,0.965,0.7190000000000001,0.899,0.948,0.77,0.9309999999999999,0.948,0.877,0.91,0.9209999999999999,0.966,0.948,0.8640000000000001,0.5710000000000001,0.386,0.9059999999999999,0.9209999999999999,0.873,0.7040000000000001,0.904,0.802,0.821,0.95,0.935,0.9259999999999999,0.815,0.884,0.956,0.871,0.836,0.9229999999999999,0.9229999999999999,0.8759999999999999,0.672,0.9209999999999999,0.963,0.9390000000000001,0.5820000000000001,0.40700000000000003,0.904,0.941,0.935,0.9279999999999999,0.9179999999999999,0.73,0.965,0.951,0.982,0.9740000000000001,0.904,0.9390000000000001,0.991,0.9279999999999999,0.9440000000000001,0.868,0.366,0.9059999999999999,0.925,0.866,0.7070000000000001,0.904,0.797,0.8220000000000001,0.95,0.932,0.925,0.8270000000000001,0.87,0.9620000000000001,0.8859999999999999,0.83,0.9329999999999999,0.919,0.875,0.6990000000000001,0.919,0.9590000000000001,0.9440000000000001,0.575,0.903,0.627,0.858,0.514,0.948,0.5760000000000001,0.826,0.493,0.494,0.893,0.679,0.46,0.754,0.499,0.63,0.983,0.987,0.8220000000000001,0.885,0.884,0.9620000000000001,0.7959999999999999,0.698,0.9590000000000001,0.937,0.858,0.28600000000000003,0.941,0.951,0.562,0.693,0.861,0.919,0.873,0.972,0.8340000000000001,0.9670000000000001,0.9159999999999999,0.996,0.958,0.8740000000000001,0.8440000000000001,0.68,0.983,0.982,0.826,0.8859999999999999,0.875,0.971,0.797,0.6940000000000001,0.958,0.9440000000000001,0.861,0.946,0.9520000000000001,0.545,0.705,0.855,0.935,0.867,0.973,0.846,0.968,0.909,0.995,0.9640000000000001,0.88,0.861,0.733,0.983,0.9840000000000001,0.82,0.888,0.885,0.9670000000000001,0.794,0.695,0.9570000000000001,0.9440000000000001,0.857,0.28,0.941,0.95,0.539,0.6970000000000001,0.861,0.929,0.868,0.972,0.841,0.9740000000000001,0.912,0.996,0.958,0.86,0.812,0.36,0.9520000000000001,0.8370000000000001,0.852,0.9059999999999999,0.924,0.9079999999999999,0.5529999999999999,0.609,0.392,0.653,0.684,0.8420000000000001,0.9329999999999999,0.757,0.602,0.532,0.885,0.937,0.8909999999999999,0.89,0.8,0.82,0.94,0.91,0.6990000000000001,0.871,0.128,0.743,0.7240000000000001,0.446,0.606,0.91,0.441,0.36,0.77,0.531,0.602,0.0017399999999999998,0.007540000000000001,0.13,0.769,0.723,0.445,0.617,0.92,0.43700000000000006,0.35600000000000004,0.77,0.516,0.593,0.00199,0.00748,0.99,0.995,0.7170000000000001,0.973,0.985,0.953,0.983,0.9840000000000001,0.708,0.9520000000000001,0.917,0.9,0.992,0.63,0.504,0.93,0.9590000000000001,0.993,0.9840000000000001,0.934,0.987,0.9890000000000001,0.988,0.9670000000000001,0.9840000000000001,0.897,0.861,0.7929999999999999,0.9259999999999999,0.924,0.951,0.425,0.99,0.995,0.7170000000000001,0.973,0.985,0.953,0.983,0.9840000000000001,0.708,0.9520000000000001,0.917,0.9,0.992,0.632,0.505,0.935,0.96,0.993,0.981,0.94,0.985,0.987,0.9890000000000001,0.968,0.988,0.8959999999999999,0.865,0.7879999999999999,0.449,0.5760000000000001,0.747,0.642,0.276,0.691,0.627,0.261,0.301,0.87,0.218,0.517,0.42700000000000005,0.5429999999999999,0.738,0.633,0.233,0.6970000000000001,0.605,0.24600000000000002,0.275,0.8590000000000001,0.2,0.491,0.778,0.757,0.5529999999999999,0.708,0.64,0.731,0.6609999999999999,0.631,0.322,0.722,0.655,0.557,0.591,0.845,0.71,0.685,0.483,0.688,0.631,0.649,0.5329999999999999,0.565,0.259,0.652,0.511,0.48700000000000004,0.619,0.746,0.514,0.26899999999999996,0.441,0.35100000000000003,0.174,0.809,0.685,0.617,0.41700000000000004,0.348,0.0779,0.8590000000000001,0.594,0.26899999999999996,0.48700000000000004,0.409,0.19399999999999998,0.8590000000000001,0.715,0.71,0.0899,0.863,0.375,0.6679999999999999,0.401,0.73,0.7929999999999999,0.292,0.627,0.675,0.11,0.915,0.446,0.414,0.40700000000000003,0.679,0.4,0.6990000000000001,0.792,0.402,0.6609999999999999,0.748,0.11800000000000001,0.6829999999999999,0.336,0.648,0.354,0.32,0.72,0.325,0.5579999999999999,0.401,0.335,0.545,0.565,0.6940000000000001,0.32799999999999996,0.6629999999999999,0.345,0.33299999999999996,0.708,0.32299999999999995,0.555,0.406,0.337,0.526,0.408,0.307,0.00922,0.0227,0.726,0.18,0.0456,0.14800000000000002,0.0415,0.17600000000000002,0.35600000000000004,0.706,0.795,0.312,0.345,0.763,0.5820000000000001,0.701,0.868,0.414,0.3,0.0137,0.0233,0.687,0.172,0.0591,0.14300000000000002,0.0393,0.17,0.33799999999999997,0.698,0.7709999999999999,0.331,0.355,0.775,0.556,0.69,0.493,0.701,0.366,0.7140000000000001,0.569,0.804,0.35600000000000004,0.377,0.78,0.348,0.846,0.6459999999999999,0.841,0.46299999999999997,0.8240000000000001,0.667,0.8640000000000001,0.42700000000000005,0.446,0.9109999999999999,0.435,0.914,0.919,0.642,0.405,0.5,0.831,0.58,0.603,0.767,0.27399999999999997,0.5539999999999999,0.5720000000000001,0.8490000000000001,0.863,0.578,0.6779999999999999,0.5710000000000001,0.895,0.9570000000000001,0.8340000000000001,0.5579999999999999,0.473,0.93,0.951,0.7609999999999999,0.531,0.6679999999999999,0.855,0.6629999999999999,0.7090000000000001,0.85,0.384,0.616,0.705,0.919,0.893,0.677,0.6920000000000001,0.605,0.902,0.905,0.86,0.627,0.632,0.743,0.635,0.244,0.555,0.648,0.813,0.885,0.34700000000000003,0.295,0.47600000000000003,0.315,0.757,0.58,0.629,0.652,0.789,0.649,0.321,0.638,0.758,0.879,0.929,0.45,0.366,0.5660000000000001,0.413,0.861,0.69,0.384,0.455,0.868,0.0568,0.455,0.695,0.555,0.636,0.33899999999999997,0.555,0.145,0.746,0.401,0.46,0.866,0.0566,0.456,0.698,0.56,0.6409999999999999,0.33399999999999996,0.552,0.139,0.77,0.14,0.59,0.242,0.708,0.544,0.5660000000000001,0.34700000000000003,0.395,0.152,0.8859999999999999,0.21600000000000003,0.741,0.34299999999999997,0.868,0.693,0.6809999999999999,0.45399999999999996,0.568,0.24100000000000002,0.698,0.579,0.818,0.7609999999999999,0.584,0.8590000000000001,0.7,0.451,0.183,0.418,0.402,0.293,0.8420000000000001,0.65,0.69,0.8340000000000001,0.26899999999999996,0.757,0.551,0.919,0.0453,0.84,0.642,0.534,0.583,0.7559999999999999,0.498,0.57,0.6890000000000001,0.191,0.5710000000000001,0.467,0.7709999999999999,0.0324,0.6940000000000001,0.509,0.406,0.498,0.0689,0.6459999999999999,0.297,0.574,0.8109999999999999,0.8220000000000001,0.899,0.39799999999999996,0.6920000000000001,0.945,0.893,0.0552,0.551,0.273,0.53,0.647,0.721,0.805,0.34,0.552,0.914,0.76,0.6409999999999999,0.24600000000000002,0.782,0.40299999999999997,0.627,0.429,0.841,0.625,0.584,0.304,0.721,0.293,0.851,0.536,0.787,0.569,0.934,0.716,0.74,0.485,0.529,0.7290000000000001,0.32,0.65,0.8109999999999999,0.7609999999999999,0.821,0.8079999999999999],\"yaxis\":\"y\",\"type\":\"scattergl\"},{\"customdata\":[[\"IGOR'S THEME\"],[\"EARFQUAKE\"],[\"I THINK\"],[\"EXACTLY WHAT YOU RUN FROM YOU END UP CHASING\"],[\"RUNNING OUT OF TIME\"],[\"NEW MAGIC WAND\"],[\"A BOY IS A GUN*\"],[\"PUPPET\"],[\"WHAT'S GOOD\"],[\"GONE, GONE / THANK YOU\"],[\"I DON'T LOVE YOU ANYMORE\"],[\"ARE WE STILL FRIENDS?\"],[\"Foreword (feat. Rex Orange County)\"],[\"Where This Flower Blooms (feat. Frank Ocean)\"],[\"Sometimes...\"],[\"See You Again (feat. Kali Uchis)\"],[\"Who Dat Boy (feat. A$AP Rocky)\"],[\"Pothole (feat. Jaden Smith)\"],[\"Garden Shed (feat. Estelle)\"],[\"Boredom (feat. Rex Orange County & Anna of the North)\"],[\"I Ain't Got Time!\"],[\"911 / Mr. Lonely (feat. Frank Ocean & Steve Lacy)\"],[\"Droppin' Seeds (feat. Lil' Wayne)\"],[\"November\"],[\"Glitter\"],[\"Enjoy Right Now, Today\"],[\"DEATHCAMP (feat. Cole Alexander)\"],[\"BUFFALO (feat. Shane Powers)\"],[\"PILOT (feat. Sydney Bennett)\"],[\"RUN (feat. Chaz Bundick & ScHoolboy Q)\"],[\"FIND YOUR WINGS (feat. Roy Ayers, Sydney Bennett & Kali Uchis)\"],[\"CHERRY BOMB\"],[\"BLOW MY LOAD (feat. Wanya Morris, D\\u00e2m-Funk, Austin Feinstein & Sydney Bennett)\"],[\"2SEATER (feat. Aaron Shaw, Samantha Nelson & Austin Feinstein)\"],[\"THE BROWN STAINS OF DARKEESE LATIFAH PART 6-12 (REMIX) (feat. ScHoolboy Q)\"],[\"FUCKING YOUNG / PERFECT (feat. Charlie Wilson, Chaz Bundick, Sydney Bennett & Kali Uchis)\"],[\"SMUCKERS (feat. Lil Wayne & Kanye West)\"],[\"KEEP DA O'S (feat. Pharrell Williams & Coco O.)\"],[\"OKAGA, CA (feat. Alice Smith, Leon Ware & Clem Creevy)\"],[\"DEATHCAMP (feat. Cole Alexander)\"],[\"BUFFALO (feat. Shane Powers)\"],[\"PILOT (feat. Sydney Bennett)\"],[\"RUN (feat. Chaz Bundick & ScHoolboy Q)\"],[\"FIND YOUR WINGS (feat. Roy Ayers, Sydney Bennett & Kali Uchis)\"],[\"CHERRY BOMB\"],[\"BLOW MY LOAD (feat. Wanya Morris, D\\u00e2m-Funk, Austin Feinstein & Sydney Bennett)\"],[\"2SEATER (feat. Aaron Shaw, Samantha Nelson & Austin Feinstein)\"],[\"THE BROWN STAINS OF DARKEESE LATIFAH PART 6-12 (REMIX) (feat. ScHoolboy Q)\"],[\"FUCKING YOUNG / PERFECT (feat. Charlie Wilson, Chaz Bundick, Sydney Bennett & Kali Uchis)\"],[\"SMUCKERS (feat. Lil Wayne & Kanye West)\"],[\"KEEP DA O'S (feat. Pharrell Williams & Coco O.)\"],[\"OKAGA, CA (feat. Alice Smith, Leon Ware & Clem Creevy)\"],[\"DEATHCAMP - Instrumental\"],[\"BUFFALO - Instrumental\"],[\"PILOT - Instrumental\"],[\"RUN - Instrumental\"],[\"FIND YOUR WINGS - Instrumental\"],[\"CHERRY BOMB - Instrumental\"],[\"BLOW MY LOAD - Instrumental\"],[\"2SEATER - Instrumental\"],[\"THE BROWN STAINS OF DARKEESE LATIFAH PART 6-12 (REMIX) - Instrumental\"],[\"FUCKING YOUNG / PERFECT - Instrumental\"],[\"SMUCKERS - Instrumental\"],[\"KEEP DA O'S - Instrumental\"],[\"OKAGA, CA - Instrumental\"],[\"Intro\"],[\"French\"],[\"Interlude\"],[\"Sam (Is Dead)\"],[\"Tron Cat\"],[\"Nightmare\"],[\"We Got B*tches\"],[\"Dick Banana Hat Interlude\"],[\"Bimmer\"],[\"Jamba\"],[\"Interlude\"],[\"Cowboy\"],[\"Interlude\"],[\"IFHY\"],[\"Domo\"],[\"Interlude\"],[\"Fish\"],[\"Blow\"],[\"Bastard\"],[\"Yonkers\"],[\"Interlude\"],[\"B*tch Suck D*ck\"],[\"Interlude\"],[\"Oldie\"],[\"48\"],[\"Interlude\"],[\"Tamale\"],[\"Interlude\"],[\"Burger\"],[\"Interlude\"],[\"Sandwitches\"],[\"WOLF\"],[\"Jamba (feat. Hodgy)\"],[\"Cowboy\"],[\"Awkward\"],[\"Domo23\"],[\"Answer\"],[\"Slater (feat. Frank Ocean)\"],[\"48\"],[\"Colossus\"],[\"PartyIsntOver/Campfire/Bimmer (feat. Frank Ocean, feat. Laetitia Sadier, feat. Laetitia Sadier & Frank Ocean)\"],[\"IFHY (feat. Pharrell)\"],[\"Pigs\"],[\"Parking Lot (feat. Casey Veggies & Mike G)\"],[\"Rusty (feat. Domo Genesis & Earl Sweatshirt)\"],[\"Trashwang (feat. Na' kel, Jasper Dolphin, Lucas, L-Boy, Taco, Left Brain & Lee Spielman)\"],[\"Treehome95 (feat. Coco O. & Erykah Badu)\"],[\"Tamale\"],[\"Lone\"],[\"Goblin\"],[\"Yonkers\"],[\"Radicals\"],[\"She\"],[\"Transylvania\"],[\"Nightmare\"],[\"Tron Cat\"],[\"Her\"],[\"Sandwitches\"],[\"Fish\"],[\"Analog\"],[\"B.S.D.\"],[\"Window\"],[\"AU79\"],[\"Golden\"],[\"Burger\"],[\"Untitled 63\"],[\"Steak Sauce\"],[\"Goblin\"],[\"Yonkers\"],[\"Radicals\"],[\"She\"],[\"Transylvania\"],[\"Nightmare\"],[\"Tron Cat\"],[\"Her\"],[\"Sandwitches\"],[\"Fish\"],[\"Analog\"],[\"B.S.D.\"],[\"Window\"],[\"AU79\"],[\"Golden\"],[\"Burger\"],[\"Untitled 63\"],[\"Steak Sauce\"],[\"Goblin\"],[\"Yonkers\"],[\"Radicals\"],[\"She\"],[\"Transylvania\"],[\"Nightmare\"],[\"Tron Cat\"],[\"Her\"],[\"Sandwitches\"],[\"Fish\"],[\"Analog\"],[\"B.S.D.\"],[\"Window\"],[\"AU79\"],[\"Golden\"],[\"Goblin\"],[\"Yonkers\"],[\"Radicals\"],[\"She\"],[\"Transylvania\"],[\"Nightmare\"],[\"Tron Cat\"],[\"Her\"],[\"Sandwitches\"],[\"Fish\"],[\"Analog\"],[\"B.S.D.\"],[\"Window\"],[\"AU79\"],[\"Golden\"]],\"hovertemplate\":\"Artist(s)=Tyler, The Creator<br>Positiveness (valence)=%{x}<br>Energy=%{y}<br>Song Title=%{customdata[0]}<extra></extra>\",\"legendgroup\":\"Tyler, The Creator\",\"marker\":{\"color\":\"#FF97FF\",\"symbol\":\"circle\"},\"mode\":\"markers\",\"name\":\"Tyler, The Creator\",\"showlegend\":true,\"x\":[0.0648,0.413,0.431,0.0,0.162,0.46399999999999997,0.505,0.19899999999999998,0.449,0.47100000000000003,0.584,0.313,0.113,0.27,0.36,0.62,0.14400000000000002,0.569,0.14800000000000002,0.239,0.547,0.297,0.413,0.575,0.371,0.654,0.455,0.11599999999999999,0.545,0.473,0.195,0.151,0.179,0.348,0.634,0.35200000000000004,0.55,0.204,0.205,0.455,0.11599999999999999,0.545,0.473,0.195,0.151,0.179,0.348,0.634,0.35200000000000004,0.55,0.204,0.205,0.563,0.19,0.526,0.504,0.20600000000000002,0.22399999999999998,0.21,0.146,0.0881,0.106,0.23199999999999998,0.106,0.151,0.125,0.368,0.212,0.358,0.595,0.37200000000000005,0.47,0.132,0.44,0.5870000000000001,0.31,0.436,0.0482,0.38299999999999995,0.45799999999999996,0.145,0.765,0.531,0.358,0.552,0.465,0.158,0.461,0.353,0.22,0.313,0.782,0.0312,0.434,0.235,0.35,0.38299999999999995,0.6609999999999999,0.65,0.6729999999999999,0.597,0.475,0.273,0.537,0.725,0.127,0.275,0.488,0.483,0.364,0.149,0.377,0.9670000000000001,0.586,0.444,0.738,0.22399999999999998,0.45899999999999996,0.19699999999999998,0.636,0.39,0.494,0.373,0.212,0.42700000000000005,0.271,0.20600000000000002,0.52,0.43799999999999994,0.324,0.142,0.28,0.444,0.738,0.22399999999999998,0.45899999999999996,0.19699999999999998,0.636,0.39,0.494,0.373,0.212,0.42700000000000005,0.271,0.20600000000000002,0.52,0.43799999999999994,0.324,0.142,0.28,0.444,0.738,0.22399999999999998,0.45899999999999996,0.19699999999999998,0.636,0.39,0.494,0.373,0.212,0.42700000000000005,0.271,0.20600000000000002,0.52,0.43799999999999994,0.444,0.738,0.22399999999999998,0.45899999999999996,0.19699999999999998,0.636,0.39,0.494,0.373,0.212,0.42700000000000005,0.271,0.20600000000000002,0.52,0.43799999999999994],\"xaxis\":\"x\",\"y\":[0.672,0.498,0.579,0.478,0.391,0.73,0.6890000000000001,0.557,0.909,0.49200000000000005,0.522,0.49700000000000005,0.6709999999999999,0.429,0.415,0.5589999999999999,0.485,0.5720000000000001,0.456,0.578,0.725,0.61,0.532,0.759,0.434,0.675,0.746,0.8240000000000001,0.8690000000000001,0.909,0.42700000000000005,0.8170000000000001,0.701,0.693,0.8420000000000001,0.705,0.8490000000000001,0.596,0.64,0.746,0.8240000000000001,0.8690000000000001,0.909,0.42700000000000005,0.8170000000000001,0.701,0.693,0.8420000000000001,0.705,0.8490000000000001,0.596,0.64,0.537,0.606,0.821,0.846,0.32799999999999996,0.861,0.628,0.562,0.789,0.531,0.634,0.435,0.534,0.452,0.857,0.6890000000000001,0.809,0.594,0.77,0.622,0.8,0.7170000000000001,0.647,0.778,0.733,0.8220000000000001,0.628,0.655,0.828,0.522,0.599,0.62,0.6809999999999999,0.6,0.52,0.583,0.748,0.846,0.65,0.816,0.851,0.715,0.7140000000000001,0.7090000000000001,0.303,0.488,0.662,0.777,0.565,0.838,0.624,0.887,0.6,0.5760000000000001,0.715,0.7340000000000001,0.511,0.677,0.609,0.539,0.93,0.7609999999999999,0.529,0.759,0.68,0.621,0.638,0.627,0.634,0.369,0.5870000000000001,0.505,0.6990000000000001,0.47,0.508,0.344,0.76,0.563,0.509,0.636,0.529,0.759,0.68,0.621,0.638,0.627,0.634,0.369,0.5870000000000001,0.505,0.6990000000000001,0.47,0.508,0.344,0.76,0.563,0.509,0.636,0.529,0.759,0.68,0.621,0.638,0.627,0.634,0.369,0.5870000000000001,0.505,0.6990000000000001,0.47,0.508,0.344,0.76,0.529,0.759,0.68,0.621,0.638,0.627,0.634,0.369,0.5870000000000001,0.505,0.6990000000000001,0.47,0.508,0.344,0.76],\"yaxis\":\"y\",\"type\":\"scattergl\"},{\"customdata\":[[\"My Songs Know What You Did In The Dark (Light Em Up)\"],[\"The Phoenix\"],[\"Alone Together\"],[\"Young Volcanoes\"],[\"Centuries\"],[\"Immortals\"],[\"Uma Thurman\"],[\"Irresistible\"],[\"Champion\"],[\"The Last Of The Real Ones\"],[\"I've Been Waiting\"],[\"Dear Future Self (Hands Up)\"],[\"Bob Dylan\"],[\"My Songs Know What You Did In The Dark (Light Em Up)\"],[\"The Phoenix\"],[\"Alone Together\"],[\"Young Volcanoes\"],[\"Centuries\"],[\"Immortals\"],[\"Uma Thurman\"],[\"Irresistible\"],[\"Champion\"],[\"The Last Of The Real Ones\"],[\"I've Been Waiting\"],[\"Dear Future Self (Hands Up)\"],[\"Bob Dylan\"],[\"Stay Frosty Royal Milk Tea\"],[\"The Last Of The Real Ones\"],[\"HOLD ME TIGHT OR DON\\u2019T\"],[\"Wilson (Expensive Mistakes)\"],[\"Church\"],[\"Heaven\\u2019s Gate\"],[\"Champion\"],[\"Sunshine Riptide\"],[\"Young And Menace\"],[\"Bishops Knife Trick\"],[\"Stay Frosty Royal Milk Tea\"],[\"The Last Of The Real Ones\"],[\"HOLD ME TIGHT OR DON\\u2019T\"],[\"Wilson (Expensive Mistakes)\"],[\"Church\"],[\"Heaven\\u2019s Gate\"],[\"Champion\"],[\"Sunshine Riptide\"],[\"Young And Menace\"],[\"Bishops Knife Trick\"],[\"Irresistible - Remix\"],[\"American Beauty/American Psycho - Remix\"],[\"Centuries - Remix\"],[\"The Kids Aren't Alright - Remix\"],[\"Uma Thurman - Remix\"],[\"Jet Pack Blues - Remix\"],[\"Novocaine - Remix\"],[\"Fourth Of July - Remix\"],[\"Favorite Record - Remix\"],[\"Immortals - Remix\"],[\"Twin Skeleton's (Hotel In NYC) - Remix\"],[\"Uma Thurman - Fall Out Boy vs. Didrick\"],[\"Irresistible - Revised Audio\"],[\"Irresistible - Remix\"],[\"American Beauty/American Psycho - Remix\"],[\"Centuries - Remix\"],[\"The Kids Aren't Alright - Remix\"],[\"Uma Thurman - Remix\"],[\"Jet Pack Blues - Remix\"],[\"Novocaine - Remix\"],[\"Fourth Of July - Remix\"],[\"Favorite Record - Remix\"],[\"Immortals - Remix\"],[\"Twin Skeleton's (Hotel In NYC) - Remix\"],[\"Irresistible - Remix\"],[\"American Beauty/American Psycho - Remix\"],[\"Centuries - Remix\"],[\"The Kids Aren't Alright - Remix\"],[\"Uma Thurman - Remix\"],[\"Jet Pack Blues - Remix\"],[\"Novocaine - Remix\"],[\"Fourth Of July - Remix\"],[\"Favorite Record - Remix\"],[\"Immortals - Remix\"],[\"Twin Skeleton's (Hotel In NYC) - Remix\"],[\"Irresistible\"],[\"American Beauty/American Psycho\"],[\"Centuries\"],[\"The Kids Aren't Alright\"],[\"Uma Thurman\"],[\"Jet Pack Blues\"],[\"Novocaine\"],[\"Fourth Of July\"],[\"Favorite Record\"],[\"Immortals\"],[\"Twin Skeleton's (Hotel In NYC)\"],[\"The Phoenix\"],[\"My Songs Know What You Did In The Dark (Light Em Up)\"],[\"Alone Together\"],[\"Where Did The Party Go\"],[\"Just One Yesterday\"],[\"The Mighty Fall\"],[\"Miss Missing You\"],[\"Death Valley\"],[\"Young Volcanoes\"],[\"Rat A Tat\"],[\"Save Rock And Roll\"],[\"My Songs Know What You Did In The Dark (Light Em Up) - 2 Chainz Remix\"],[\"The Phoenix\"],[\"My Songs Know What You Did In The Dark (Light Em Up)\"],[\"Alone Together\"],[\"Where Did The Party Go\"],[\"Just One Yesterday\"],[\"The Mighty Fall\"],[\"Miss Missing You\"],[\"Death Valley\"],[\"Young Volcanoes\"],[\"Rat A Tat\"],[\"Save Rock And Roll\"],[\"The Phoenix\"],[\"My Songs Know What You Did In The Dark (Light Em Up)\"],[\"Alone Together\"],[\"Where Did The Party Go\"],[\"Just One Yesterday\"],[\"The Mighty Fall\"],[\"Miss Missing You\"],[\"Death Valley\"],[\"Young Volcanoes\"],[\"Rat A Tat\"],[\"Save Rock And Roll\"],[\"Thriller - Live In Tokyo / 2013\"],[\"This Ain't A Scene, It's An Arms Race - Live In Tokyo / 2013\"],[\"Grand Theft Autumn / Where Is Your Boy - Live In Tokyo / 2013\"],[\"Dance, Dance - Live In Tokyo / 2013\"],[\"I Don't Care - Live In Tokyo / 2013\"],[\"My Songs Know What You Did In The Dark (Light Em Up) - Live In Tokyo / 2013\"],[\"Beat It - Live In Tokyo / 2013\"],[\"The Phoenix - Commentary\"],[\"My Songs Know What You Did In The Dark (Light Em Up) - Commentary\"],[\"Alone Together - Commentary\"],[\"Where Did The Party Go - Commentary\"],[\"Just One Yesterday - Commentary\"],[\"The Mighty Fall - Commentary\"],[\"Miss Missing You - Commentary\"],[\"Death Valley - Commentary\"],[\"Young Volcanoes - Commentary\"],[\"Rat A Tat - Commentary\"],[\"Save Rock And Roll - Commentary\"],[\"Thriller - Live At The Cricket Pavillion /2007\"],[\"Grand Theft Autumn / Where Is Your Boy - Live At The Cricket Pavillion /2007\"],[\"Sugar, We're Goin Down - Live At The Cricket Pavillion /2007\"],[\"Our Lawyer Made Us Change The Name Of This Song So We Wouldn't Get Sued - Live At The Cricket Pavillion /2007\"],[\"Hum Hallelujah - Live At The Cricket Pavillion /2007\"],[\"Tell That Mick He Just Made My List Of Things To Do Today - Live At The Cricket Pavillion /2007\"],[\"I'm Like A Lawyer With The Way I'm Always Trying To Get You Off (Me & You) - Live At The Cricket Pavillion /2007\"],[\"A Little Less Sixteen Candles, A Little More \\\"Touch Me\\\" - Live At The Cricket Pavillion /2007\"],[\"Beat It - Live At The Cricket Pavillion /2007\"],[\"Golden - Live At The Cricket Pavillion /2007\"],[\"This Ain't A Scene, It's An Arms Race - Live At The Cricket Pavillion /2007\"],[\"Thnks fr th Mmrs - Live At The Cricket Pavillion /2007\"],[\"\\\"The Take Over, The Breaks Over\\\" - Live At The Cricket Pavillion /2007\"],[\"Dance, Dance - Live At The Cricket Pavillion /2007\"],[\"Saturday - Live At The Cricket Pavillion /2007\"],[\"Beat It - Studio Version\"],[\"Thriller\"],[\"Grand Theft Autumn / Where Is Your Boy\"],[\"Sugar, We're Goin Down\"],[\"Our Lawyer Made Us Change The Name Of This Song So We Wouldn't Get Sued\"],[\"Hum Hallelujah\"],[\"Tell That Mick He Just Made My List Of Things To Do Today\"],[\"I'm Like A Lawyer With The Way I'm Always Trying To Get You Off (Me & You)\"],[\"A Little Less Sixteen Candles, A Little More \\\"Touch Me\\\"\"],[\"Beat It - Studio Version Featuring John Mayer\"],[\"Golden\"],[\"This Ain't A Scene, It's An Arms Race\"],[\"Thnks fr th Mmrs\"],[\"\\\"The Take Over, The Breaks Over\\\"\"],[\"Dance, Dance\"],[\"Saturday\"],[\"Thriller - Live At The Cricket Pavillion /2007\"],[\"Grand Theft Autumn / Where Is Your Boy - Live At The Cricket Pavillion /2007\"],[\"Sugar, We're Goin Down - Live At The Cricket Pavillion /2007\"],[\"Our Lawyer Made Us Change The Name Of This Song So We Wouldn't Get Sued - Live At The Cricket Pavillion /2007\"],[\"Hum Hallelujah - Live At The Cricket Pavillion /2007\"],[\"Tell That Mick He Just Made My List Of Things To Do Today - Live At The Cricket Pavillion /2007\"],[\"I'm Like A Lawyer With The Way I'm Always Trying To Get You Off (Me & You) - Live At The Cricket Pavillion /2007\"],[\"A Little Less Sixteen Candles, A Little More \\\"Touch Me\\\" - Live At The Cricket Pavillion /2007\"],[\"Beat It - Live At The Cricket Pavillion /2007\"],[\"Golden - Live At The Cricket Pavillion /2007\"],[\"This Ain't A Scene, It's An Arms Race - Live At The Cricket Pavillion /2007\"],[\"Thnks fr th Mmrs - Live At The Cricket Pavillion /2007\"],[\"\\\"The Take Over, The Breaks Over\\\" - Live At The Cricket Pavillion /2007\"],[\"Dance, Dance - Live At The Cricket Pavillion /2007\"],[\"Saturday - Live At The Cricket Pavillion /2007\"],[\"Disloyal Order Of Water Buffaloes\"],[\"I Don't Care\"],[\"She's My Winona\"],[\"America's Suitehearts\"],[\"Headfirst Slide Into Cooperstown On A Bad Bet\"],[\"The (Shipped) Gold Standard\"],[\"(Coffee's For Closers)\"],[\"What A Catch, Donnie\"],[\"27\"],[\"Tiffany Blews\"],[\"w.a.m.s.\"],[\"20 Dollar Nose Bleed\"],[\"West Coast Smoker\"],[\"Beat It - Studio Version\"],[\"Disloyal Order Of Water Buffaloes\"],[\"I Don't Care - Single Version\"],[\"She's My Winona\"],[\"America's Suitehearts\"],[\"Headfirst Slide Into Cooperstown On A Bad Bet\"],[\"The (Shipped) Gold Standard\"],[\"(Coffee's For Closers)\"],[\"What A Catch, Donnie\"],[\"27\"],[\"Tiffany Blews\"],[\"w.a.m.s.\"],[\"20 Dollar Nose Bleed\"],[\"West Coast Smoker\"],[\"Disloyal Order Of Water Buffaloes\"],[\"I Don't Care\"],[\"She's My Winona\"],[\"America's Suitehearts\"],[\"Headfirst Slide Into Cooperstown On A Bad Bet\"],[\"The (Shipped) Gold Standard\"],[\"(Coffee's For Closers)\"],[\"What A Catch, Donnie\"],[\"27\"],[\"Tiffany Blews\"],[\"w.a.m.s.\"],[\"20 Dollar Nose Bleed\"],[\"West Coast Smoker\"],[\"Disloyal Order Of Water Buffaloes\"],[\"I Don't Care\"],[\"She's My Winona\"],[\"America's Suitehearts\"],[\"Headfirst Slide Into Cooperstown On A Bad Bet\"],[\"The (Shipped) Gold Standard\"],[\"(Coffee's For Closers)\"],[\"What A Catch, Donnie\"],[\"27\"],[\"Tiffany Blews\"],[\"w.a.m.s.\"],[\"20 Dollar Nose Bleed\"],[\"West Coast Smoker\"],[\"Thriller\"],[\"\\\"The Take Over, The Breaks Over\\\"\"],[\"This Ain't A Scene, It's An Arms Race\"],[\"I'm Like A Lawyer With The Way I'm Always Trying To Get You Off (Me & You)\"],[\"Hum Hallelujah\"],[\"Golden\"],[\"Thnks fr th Mmrs\"],[\"Don't You Know Who I Think I Am?\"],[\"The (After) Life Of The Party\"],[\"The Carpal Tunnel Of Love\"],[\"Bang The Doldrums\"],[\"Fame < Infamy\"],[\"You're Crashing, But You're No Wave\"],[\"I've Got All This Ringing In My Ears And None On My Fingers\"],[\"Thriller\"],[\"\\\"The Take Over, The Breaks Over\\\"\"],[\"This Ain't A Scene, It's An Arms Race\"],[\"I'm Like A Lawyer With The Way I'm Always Trying To Get You Off (Me & You)\"],[\"Hum Hallelujah\"],[\"Golden\"],[\"Thnks fr th Mmrs\"],[\"Don't You Know Who I Think I Am?\"],[\"The (After) Life Of The Party\"],[\"The Carpal Tunnel Of Love\"],[\"Bang The Doldrums\"],[\"Fame < Infamy\"],[\"You're Crashing, But You're No Wave\"],[\"I've Got All This Ringing In My Ears And None On My Fingers\"],[\"G.I.N.A.S.F.S.\"],[\"It's Hard To Say \\\"I Do\\\", When I Don't\"],[\"Dance, Dance - Live From Hammersmith Palais\"],[\"This Ain't A Scene, It's An Arms Race - Live From Hammersmith Palais\"],[\"Thriller - Live From Hammersmith Palais\"],[\"Our Lawyer Made Us Change The Name Of This Song So We Wouldn't Get Sued\"],[\"Of All The Gin Joints In All The World\"],[\"Dance, Dance\"],[\"Sugar, We're Goin Down\"],[\"Nobody Puts Baby In The Corner\"],[\"I've Got A Dark Alley And A Bad Idea That Says You Should Shut Your Mouth (Summer Song)\"],[\"7 Minutes In Heaven (Atavan Halen)\"],[\"Sophomore Slump Or Comeback Of The Year\"],[\"Champagne For My Real Friends, Real Pain For My Sham Friends\"],[\"I Slept With Someone In Fall Out Boy And All I Got Was This Stupid Song Written About Me\"],[\"A Little Less Sixteen Candles, A Little More \\\"Touch Me\\\"\"],[\"Get Busy Living Or Get Busy Dying (Do Your Part To Save The Scene And Stop Going To Shows)\"],[\"XO\"],[\"Snitches And Talkers Get Stitches And Walkers\"],[\"The Music Or The Misery\"],[\"My Heart Is The Worst Kind Of Weapon - Demo\"],[\"Sugar, We're Goin Down - Patrick Stump Remix\"],[\"Dance, Dance - The Lindbergh Palace Remix\"],[\"Our Lawyer Made Us Change The Name Of This Song So We Wouldn't Get Sued\"],[\"Of All The Gin Joints In All The World\"],[\"Dance, Dance\"],[\"Sugar, We're Goin Down\"],[\"Nobody Puts Baby In The Corner\"],[\"I've Got A Dark Alley And A Bad Idea That Says You Should Shut Your Mouth (Summer Song)\"],[\"7 Minutes In Heaven (Atavan Halen)\"],[\"Sophomore Slump Or Comeback Of The Year\"],[\"Champagne For My Real Friends, Real Pain For My Sham Friends\"],[\"I Slept With Someone In Fall Out Boy And All I Got Was This Stupid Song Written About Me\"],[\"A Little Less Sixteen Candles, A Little More \\\"Touch Me\\\"\"],[\"Get Busy Living Or Get Busy Dying (Do Your Part To Save The Scene And Stop Going To Shows)\"],[\"XO\"],[\"Tell That Mick He Just Made My List of Things to Do Today\"],[\"Dead on Arrival\"],[\"Grand Theft Autumn / Where Is Your Boy\"],[\"Saturday\"],[\"Homesick at Space Camp\"],[\"Sending Postcards from a Plane Crash (Wish You Were Here)\"],[\"Chicago Is so Two Years Ago\"],[\"The Pros and Cons of Breathing\"],[\"Grenade Jumper\"],[\"Calm Before the Storm\"],[\"Reinventing the Wheel to Run Myself Over\"],[\"The Patron Saint of Liars and Fakes\"]],\"hovertemplate\":\"Artist(s)=Fall Out Boy<br>Positiveness (valence)=%{x}<br>Energy=%{y}<br>Song Title=%{customdata[0]}<extra></extra>\",\"legendgroup\":\"Fall Out Boy\",\"marker\":{\"color\":\"#FECB52\",\"symbol\":\"circle\"},\"mode\":\"markers\",\"name\":\"Fall Out Boy\",\"showlegend\":true,\"x\":[0.56,0.39,0.662,0.6729999999999999,0.523,0.478,0.841,0.397,0.294,0.583,0.9420000000000001,0.9490000000000001,0.522,0.56,0.39,0.662,0.6729999999999999,0.523,0.478,0.841,0.397,0.294,0.583,0.9259999999999999,0.961,0.57,0.649,0.557,0.7879999999999999,0.66,0.401,0.214,0.309,0.804,0.272,0.38299999999999995,0.629,0.5589999999999999,0.7929999999999999,0.617,0.38299999999999995,0.221,0.297,0.752,0.278,0.384,0.502,0.647,0.613,0.513,0.32899999999999996,0.348,0.337,0.327,0.43200000000000005,0.48100000000000004,0.677,0.715,0.377,0.502,0.647,0.613,0.513,0.32899999999999996,0.348,0.337,0.327,0.43200000000000005,0.48100000000000004,0.677,0.551,0.6659999999999999,0.614,0.508,0.321,0.345,0.335,0.32299999999999995,0.44,0.489,0.662,0.444,0.635,0.56,0.33299999999999996,0.6759999999999999,0.365,0.48100000000000004,0.516,0.684,0.475,0.192,0.41,0.5670000000000001,0.606,0.677,0.5870000000000001,0.539,0.271,0.5760000000000001,0.6759999999999999,0.5589999999999999,0.45399999999999996,0.564,0.41,0.5670000000000001,0.606,0.677,0.5870000000000001,0.539,0.271,0.5760000000000001,0.6759999999999999,0.5589999999999999,0.449,0.41,0.5670000000000001,0.606,0.677,0.5870000000000001,0.539,0.271,0.5760000000000001,0.6759999999999999,0.5589999999999999,0.449,0.182,0.24,0.198,0.11800000000000001,0.256,0.38,0.46799999999999997,0.605,0.5379999999999999,0.62,0.767,0.682,0.599,0.511,0.45399999999999996,0.732,0.54,0.44,0.0609,0.249,0.46299999999999997,0.348,0.513,0.235,0.391,0.617,0.82,0.193,0.354,0.315,0.716,0.445,0.348,0.807,0.062,0.225,0.434,0.369,0.49700000000000005,0.233,0.384,0.6990000000000001,0.8240000000000001,0.175,0.379,0.33,0.732,0.446,0.32799999999999996,0.062,0.223,0.434,0.369,0.49700000000000005,0.225,0.384,0.659,0.7809999999999999,0.192,0.38299999999999995,0.33,0.732,0.446,0.32799999999999996,0.363,0.43700000000000006,0.632,0.593,0.535,0.774,0.34600000000000003,0.46799999999999997,0.794,0.705,0.413,0.867,0.485,0.84,0.361,0.433,0.613,0.645,0.541,0.76,0.34299999999999997,0.45899999999999996,0.8109999999999999,0.684,0.37,0.867,0.509,0.366,0.38,0.613,0.599,0.547,0.7659999999999999,0.337,0.46799999999999997,0.789,0.6940000000000001,0.436,0.852,0.493,0.361,0.433,0.613,0.645,0.541,0.76,0.34299999999999997,0.45899999999999996,0.8109999999999999,0.684,0.37,0.867,0.509,0.327,0.67,0.408,0.498,0.657,0.163,0.588,0.863,0.45799999999999996,0.599,0.69,0.647,0.534,0.4,0.327,0.67,0.408,0.498,0.657,0.163,0.588,0.863,0.45799999999999996,0.599,0.69,0.647,0.534,0.4,0.727,0.594,0.46399999999999997,0.33299999999999996,0.175,0.5579999999999999,0.71,0.517,0.598,0.674,0.455,0.688,0.5670000000000001,0.564,0.637,0.7040000000000001,0.431,0.374,0.424,0.466,0.5529999999999999,0.7509999999999999,0.9279999999999999,0.575,0.7090000000000001,0.449,0.574,0.6509999999999999,0.523,0.6829999999999999,0.557,0.511,0.644,0.696,0.485,0.423,0.418,0.494,0.72,0.624,0.379,0.597,0.539,0.753,0.669,0.501,0.6890000000000001,0.201],\"xaxis\":\"x\",\"y\":[0.924,0.956,0.91,0.856,0.8640000000000001,0.8740000000000001,0.941,0.938,0.912,0.871,0.85,0.925,0.915,0.924,0.956,0.91,0.856,0.8640000000000001,0.8740000000000001,0.941,0.938,0.912,0.871,0.852,0.924,0.9109999999999999,0.8690000000000001,0.872,0.925,0.805,0.9009999999999999,0.586,0.905,0.731,0.8320000000000001,0.755,0.8859999999999999,0.872,0.925,0.804,0.902,0.588,0.909,0.737,0.833,0.758,0.84,0.8290000000000001,0.8390000000000001,0.7979999999999999,0.8640000000000001,0.691,0.853,0.852,0.8320000000000001,0.777,0.879,0.915,0.893,0.84,0.8290000000000001,0.8390000000000001,0.7979999999999999,0.8640000000000001,0.691,0.853,0.852,0.8320000000000001,0.777,0.879,0.8240000000000001,0.8220000000000001,0.8390000000000001,0.797,0.8640000000000001,0.691,0.8390000000000001,0.856,0.833,0.774,0.884,0.938,0.932,0.858,0.763,0.9620000000000001,0.889,0.9740000000000001,0.9740000000000001,0.9440000000000001,0.868,0.9390000000000001,0.9640000000000001,0.924,0.915,0.8909999999999999,0.907,0.95,0.851,0.9259999999999999,0.853,0.853,0.777,0.883,0.9640000000000001,0.924,0.915,0.8909999999999999,0.907,0.95,0.851,0.9259999999999999,0.853,0.853,0.777,0.9640000000000001,0.924,0.915,0.8909999999999999,0.907,0.95,0.851,0.9259999999999999,0.853,0.853,0.777,0.684,0.818,0.836,0.7909999999999999,0.825,0.853,0.764,0.27899999999999997,0.39299999999999996,0.332,0.275,0.23,0.354,0.442,0.311,0.302,0.316,0.27699999999999997,0.985,0.9840000000000001,0.895,0.9840000000000001,0.9570000000000001,0.987,0.835,0.956,0.877,0.39799999999999996,0.9570000000000001,0.9329999999999999,0.904,0.9840000000000001,0.981,0.93,0.9840000000000001,0.98,0.907,0.976,0.961,0.987,0.8390000000000001,0.9440000000000001,0.9390000000000001,0.382,0.955,0.925,0.899,0.987,0.983,0.9840000000000001,0.981,0.907,0.976,0.961,0.988,0.8390000000000001,0.95,0.878,0.38299999999999995,0.955,0.925,0.899,0.987,0.983,0.909,0.9390000000000001,0.965,0.9279999999999999,0.772,0.755,0.953,0.696,0.941,0.883,0.8440000000000001,0.852,0.8109999999999999,0.9440000000000001,0.9059999999999999,0.938,0.963,0.9309999999999999,0.768,0.75,0.946,0.69,0.9359999999999999,0.8859999999999999,0.846,0.871,0.813,0.91,0.935,0.9620000000000001,0.925,0.764,0.752,0.9520000000000001,0.695,0.935,0.888,0.8440000000000001,0.868,0.8,0.9059999999999999,0.938,0.963,0.9309999999999999,0.768,0.75,0.946,0.69,0.9359999999999999,0.8859999999999999,0.846,0.871,0.813,0.9009999999999999,0.917,0.887,0.8,0.9570000000000001,0.41100000000000003,0.8909999999999999,0.9490000000000001,0.9109999999999999,0.941,0.9490000000000001,0.9690000000000001,0.9490000000000001,0.922,0.9009999999999999,0.917,0.887,0.8,0.9570000000000001,0.41100000000000003,0.8909999999999999,0.9490000000000001,0.9109999999999999,0.941,0.9490000000000001,0.9690000000000001,0.9490000000000001,0.922,0.961,0.9490000000000001,0.922,0.904,0.9670000000000001,0.9359999999999999,0.94,0.9570000000000001,0.825,0.9309999999999999,0.943,0.982,0.899,0.958,0.9570000000000001,0.883,0.82,0.96,0.993,0.985,0.6970000000000001,0.878,0.757,0.9390000000000001,0.93,0.961,0.8420000000000001,0.94,0.9329999999999999,0.981,0.907,0.9640000000000001,0.956,0.889,0.8340000000000001,0.963,0.963,0.968,0.8859999999999999,0.929,0.899,0.966,0.946,0.958,0.9670000000000001,0.9179999999999999,0.941,0.978],\"yaxis\":\"y\",\"type\":\"scattergl\"},{\"customdata\":[[\"CLOUDS\"],[\"THAT'S A JOKE\"],[\"JUST LIKE YOU\"],[\"STORY\"],[\"PRIDEFUL\"],[\"LOST\"],[\"LAYERS\"],[\"DRIFTING\"],[\"TRUST\"],[\"PAID MY DUES\"],[\"CLOUDS - Edit\"],[\"The Search\"],[\"Leave Me Alone\"],[\"Change\"],[\"My Stress\"],[\"Nate\"],[\"Time\"],[\"Returns\"],[\"When I Grow Up\"],[\"Only\"],[\"Let Me Go\"],[\"-Interlude-\"],[\"Hate Myself\"],[\"I Miss The Days\"],[\"No Excuses\"],[\"Like This\"],[\"Options\"],[\"WHY\"],[\"Thinking\"],[\"Trauma\"],[\"Time - Edit\"],[\"Intro III\"],[\"Outcast\"],[\"10 Feet Down\"],[\"Green Lights\"],[\"Dreams\"],[\"Let You Down\"],[\"Destiny\"],[\"My Life\"],[\"You're Special\"],[\"If You Want Love\"],[\"Remember This\"],[\"Know\"],[\"Lie\"],[\"3 A.M.\"],[\"One Hundred\"],[\"Outro\"],[\"Intro 2\"],[\"Therapy Session\"],[\"I Just Wanna Know\"],[\"How Could You Leave Us\"],[\"Breathe\"],[\"Real\"],[\"Oh Lord\"],[\"I Can Feel It\"],[\"Got You On My Mind\"],[\"Grindin'\"],[\"Wish You Wouldn't\"],[\"Statement\"],[\"All I Do\"],[\"Lost In The Moment\"],[\"Intro\"],[\"Mansion\"],[\"All I Have\"],[\"Wait\"],[\"Wake Up\"],[\"Face It\"],[\"Motivated\"],[\"Notepad\"],[\"Turn The Music Up\"],[\"Paralyzed\"],[\"I'll Keep On\"],[\"Can You Hold Me\"]],\"hovertemplate\":\"Artist(s)=NF<br>Positiveness (valence)=%{x}<br>Energy=%{y}<br>Song Title=%{customdata[0]}<extra></extra>\",\"legendgroup\":\"NF\",\"marker\":{\"color\":\"#636efa\",\"symbol\":\"circle\"},\"mode\":\"markers\",\"name\":\"NF\",\"showlegend\":true,\"x\":[0.812,0.6,0.541,0.512,0.0377,0.451,0.61,0.496,0.664,0.381,0.861,0.37,0.46,0.532,0.405,0.537,0.198,0.7090000000000001,0.247,0.299,0.13699999999999998,0.831,0.361,0.0979,0.35100000000000003,0.3,0.32799999999999996,0.418,0.557,0.225,0.257,0.395,0.321,0.0535,0.619,0.301,0.46399999999999997,0.243,0.249,0.0421,0.245,0.278,0.253,0.179,0.139,0.2,0.359,0.433,0.465,0.0754,0.09,0.0362,0.16,0.21899999999999997,0.179,0.332,0.32,0.27399999999999997,0.174,0.342,0.0442,0.0749,0.433,0.325,0.17600000000000002,0.0387,0.511,0.42200000000000004,0.11800000000000001,0.373,0.0397,0.622,0.0847],\"xaxis\":\"x\",\"y\":[0.652,0.9329999999999999,0.757,0.8540000000000001,0.715,0.912,0.6890000000000001,0.721,0.884,0.784,0.693,0.789,0.741,0.753,0.7959999999999999,0.852,0.688,0.828,0.8140000000000001,0.654,0.337,0.0734,0.84,0.768,0.642,0.563,0.768,0.8270000000000001,0.531,0.0861,0.703,0.625,0.7509999999999999,0.835,0.655,0.354,0.7140000000000001,0.715,0.569,0.304,0.386,0.664,0.7170000000000001,0.6609999999999999,0.727,0.62,0.579,0.9359999999999999,0.778,0.8059999999999999,0.708,0.363,0.861,0.738,0.7909999999999999,0.56,0.732,0.348,0.47600000000000003,0.82,0.629,0.852,0.84,0.833,0.7240000000000001,0.7979999999999999,0.894,0.8190000000000001,0.665,0.753,0.643,0.622,0.6559999999999999],\"yaxis\":\"y\",\"type\":\"scattergl\"},{\"customdata\":[[\"Breath\"],[\"LAST PIECE\"],[\"Born Ready\"],[\"SPECIAL\"],[\"WAVE\"],[\"Waiting For You\"],[\"Thank You, Sorry\"],[\"1+1\"],[\"I Mean It\"],[\"We Are Young\"],[\"Breath\"],[\"LAST PIECE\"],[\"Born Ready\"],[\"SPECIAL\"],[\"WAVE\"],[\"Waiting For You\"],[\"Thank You, Sorry\"],[\"1+1\"],[\"I Mean It\"],[\"We Are Young\"],[\"LOVE LOOP\"],[\"YOUR SPACE\"],[\"\\u5099\\u5fd8\\u9332\"],[\"KARMA\"],[\"DRUNK\"],[\"#SUMMERVIBES\"],[\"REMEMBER ME\"],[\"SUPERMAN\"],[\"LOVE LOOP (Instrumental)\"],[\"Miracle\"],[\"Take Me To You\"],[\"\\uc548 \\ubcf4\\uc5ec Come On\"],[\"\\uc798 \\uc9c0\\ub0b4\\uc57c\\ud574 1:31AM\"],[\"Higher\"],[\"I Love It\"],[\"WOLO\"],[\"King\"],[\"Think About It\"],[\"\\uc774\\uc820 From Now\"],[\"Hunger\"],[\"Phoenix\"],[\"Lullaby\"],[\"Enough\"],[\"\\uc9c0\\ucf1c\\uc904\\uac8c Save You\"],[\"No One Else\"],[\"I Am Me\"],[\"Sunrise\"],[\"OMW\"],[\"Made It\"],[\"My Youth\"],[\"\\ud63c\\uc790 Nobody knows\"],[\"Party\"],[\"Fine\"],[\"Lullaby - English.Ver\"],[\"Lullaby - Chinese.Ver\"],[\"Lullaby - Spanish.Ver\"],[\"Lullaby - Inst.\"],[\"Lullaby\"],[\"Enough\"],[\"\\uc9c0\\ucf1c\\uc904\\uac8c Save You\"],[\"No One Else\"],[\"I Am Me\"],[\"Sunrise\"],[\"OMW\"],[\"Made It\"],[\"My Youth\"],[\"\\ud63c\\uc790 Nobody knows\"],[\"Party\"],[\"Fine\"],[\"Lullaby - English Ver.\"],[\"Lullaby - Chinese Ver.\"],[\"Lullaby - Spanish Ver.\"],[\"Lullaby - Inst.\"],[\"Lullaby\"],[\"Enough\"],[\"\\uc9c0\\ucf1c\\uc904\\uac8c\"],[\"No One Else\"],[\"I Am Me\"],[\"Sunrise\"],[\"OMW\"],[\"Made It\"],[\"My Youth\"],[\"\\ud63c\\uc790 (Nobody knows)\"],[\"Party\"],[\"Fine\"],[\"Lullaby (English Ver.)\"],[\"Lullaby (Chinese Ver.)\"],[\"Lullaby (Spanish Ver.)\"],[\"Lullaby (Inst\"],[\"TURN UP\"],[\"DESSERT\"],[\"LION BOY\"],[\"FLASH UP\"],[\"WHY\"],[\"\\u3053\\u306e\\u80f8\\u306b\"],[\"97 YOUNG & RICH\"],[\"TURN UP Remix - Remix\"],[\"TURN UP (Instrumental)\"],[\"Never Ever\"],[\"Shopping Mall\"],[\"Paradise\"],[\"Sign\"],[\"Go Higher\"],[\"Q\"],[\"\\uc591\\uc2ec\\uc5c6\\uc774 Don\\u2019t care\"],[\"OUT\"],[\"skyway\"],[\"\\ud558\\ub4dc\\uce90\\ub9ac Hard Carry\"],[\"Boom x3\"],[\"Prove It\"],[\"\\ub178\\uc7bc No Jam\"],[\"HEY\"],[\"Mayday\"],[\"My Home\"],[\"Who\\u2019s That\"],[\"\\ub9cc\\uc57d\\uc5d0 If\"],[\"\\uc544\\ud30c Sick\"],[\"\\ub2c8\\uafc8\\uafd4 Dreamin\\u2019\"],[\"Let Me\"],[\"skyway\"],[\"\\ud558\\ub4dc\\uce90\\ub9ac\"],[\"Boom x3\"],[\"Prove It\"],[\"\\ub178\\uc7bc\"],[\"HEY\"],[\"Mayday\"],[\"My Home\"],[\"Who's That\"],[\"\\ub9cc\\uc57d\\uc5d0\"],[\"\\uc544\\ud30c\"],[\"\\ub2c8\\uafc8\\uafd4\"],[\"Let Me\"],[\"Fly\"],[\"\\ubabb\\ud558\\uaca0\\uc5b4 Can't\"],[\"\\ube5b\\uc774\\ub098 See The Light\"],[\"FISH\"],[\"REWIND\"],[\"Beggin on my knees\"],[\"Something Good\"],[\"SHAKING THE WORLD\"],[\"Yo \\u30e2\\u30ea\\u30a2\\u30ac\\u30c3\\u30c6 Yo\"],[\"GOT ur LUV\"],[\"LAUGH LAUGH LAUGH\"],[\"BE MY GIRL\"],[\"AROUND THE WORLD\"],[\"LOVE TRAIN\"],[\"JIBBERISH\"],[\"O.M.G\"],[\"ANGEL\"],[\"STAY\"],[\"SO LUCKY\"],[\"SHAKING THE WORLD\"],[\"Yo \\u30e2\\u30ea\\u30a2\\u30ac\\u30c3\\u30c6 Yo\"],[\"GOT ur LUV\"],[\"LAUGH LAUGH LAUGH\"],[\"BE MY GIRL\"],[\"AROUND THE WORLD\"],[\"LOVE TRAIN\"],[\"JIBBERISH\"],[\"O.M.G\"],[\"ANGEL\"],[\"STAY\"],[\"SO LUCKY\"],[\"Girls Girls Girls -Japanese ver.- - Japanese Version\"],[\"A -Japanese ver.- - Japanese Version\"],[\"Stop stop it -Japanese ver.- - Japanese Version\"],[\"Just right -Japanese ver.- - Japanese Version\"],[\"\\uace0\\ubc31\\uc1a1 Confession Song\"],[\"\\ub9e4\\uc77c Everyday\"],[\"\\uc774.\\ubcc4 To. Star\"],[\"\\ub2c8\\uac00 \\ud558\\uba74 If You Do\"],[\"\\uc190\\ub4e4\\uc5b4 Put them up\"],[\"\\ub290\\ub08c\\uc774 \\uc88b\\uc544 Feelin' Good\"],[\"GOOD\"],[\"\\ub208\\uc774\\uac00\\uc694 Eyes On\"],[\"Tic Tic Tok\"],[\"\\ub2c8\\uac00 \\ud558\\uba74 If You Do (Stage ver.)\"],[\"\\ud558\\uc9c0\\ud558\\uc9c0\\ub9c8 Stop stop it\"],[\"Gimme\"],[\"\\uc190\\uc774 \\uac00 Take My Hand\"],[\"\\ub108\\ub780 Girl Magnetic\"],[\"\\uadf8\\ub0e5 \\uc624\\ub298 \\ubc24 Just Tonight\"],[\"\\ubcfc\\ub968\\uc744 \\uc62c\\ub824\\uc918 Turn Up the Music\"],[\"\\uadf8\\ub300\\ub85c \\uc788\\uc5b4\\ub3c4 \\ub3fc Stay\"],[\"\\ub2ec\\ube5b Moonlight\"],[\"She\\u2019s a monster\"],[\"Girls Girls Girls\"],[\"A\"],[\"\\ud558\\uc9c0\\ud558\\uc9c0\\ub9c8\"],[\"Gimme\"],[\"\\uc190\\uc774 \\uac00\"],[\"\\ub108\\ub780 Girl\"],[\"\\uadf8\\ub0e5 \\uc624\\ub298 \\ubc24\"],[\"\\ubcfc\\ub968\\uc744 \\uc62c\\ub824\\uc918\"],[\"\\uadf8\\ub300\\ub85c \\uc788\\uc5b4\\ub3c4 \\ub3fc\"],[\"\\ub2ec\\ube5b\"],[\"She's a monster\"],[\"Girls Girls Girls\"],[\"A\"],[\"U Got Me\"],[\"A\"],[\"\\ub098\\uc05c \\uc9d3 Bad Behaviour\"],[\"Good Tonight\"],[\"Forever Young\"],[\"A - `collapsedone` Remix\"],[\"A - TOYO Remix\"],[\"A - FRANTS Remix\"],[\"SHAKING THE WORLD\"],[\"Yo \\u30e2\\u30ea\\u30a2\\u30ac\\u30c3\\u30c6 Yo\"],[\"GOT ur LUV\"],[\"LAUGH LAUGH LAUGH\"],[\"BE MY GIRL\"],[\"AROUND THE WORLD\"],[\"LOVE TRAIN\"],[\"JIBBERISH\"],[\"O.M.G\"],[\"ANGEL\"],[\"STAY\"],[\"SO LUCKY\"],[\"Girls Girls Girls -Japanese ver.- - Japanese Version\"],[\"A -Japanese ver.- - Japanese Version\"],[\"Stop stop it -Japanese ver.- - Japanese Version\"],[\"Just right -Japanese ver.- - Japanese Version\"]],\"hovertemplate\":\"Artist(s)=GOT7<br>Positiveness (valence)=%{x}<br>Energy=%{y}<br>Song Title=%{customdata[0]}<extra></extra>\",\"legendgroup\":\"GOT7\",\"marker\":{\"color\":\"#EF553B\",\"symbol\":\"circle\"},\"mode\":\"markers\",\"name\":\"GOT7\",\"showlegend\":true,\"x\":[0.64,0.688,0.515,0.883,0.418,0.27899999999999997,0.496,0.82,0.667,0.7240000000000001,0.64,0.688,0.515,0.883,0.418,0.27899999999999997,0.496,0.82,0.667,0.7240000000000001,0.22899999999999998,0.322,0.583,0.551,0.685,0.496,0.34,0.14400000000000002,0.0828,0.46399999999999997,0.469,0.81,0.13699999999999998,0.517,0.456,0.667,0.42200000000000004,0.4,0.17600000000000002,0.382,0.764,0.726,0.48200000000000004,0.524,0.35,0.332,0.465,0.53,0.336,0.43200000000000005,0.49,0.513,0.475,0.613,0.552,0.638,0.545,0.726,0.48200000000000004,0.524,0.35,0.332,0.465,0.53,0.336,0.43200000000000005,0.49,0.513,0.475,0.613,0.552,0.638,0.545,0.713,0.483,0.524,0.355,0.331,0.46399999999999997,0.53,0.336,0.431,0.49,0.51,0.46399999999999997,0.617,0.574,0.637,0.526,0.63,0.5660000000000001,0.45799999999999996,0.34700000000000003,0.337,0.315,0.595,0.642,0.401,0.7709999999999999,0.82,0.6890000000000001,0.526,0.7859999999999999,0.799,0.545,0.6629999999999999,0.484,0.612,0.451,0.385,0.501,0.753,0.364,0.898,0.585,0.579,0.517,0.535,0.331,0.47100000000000003,0.7040000000000001,0.451,0.386,0.467,0.743,0.368,0.903,0.614,0.573,0.5329999999999999,0.546,0.327,0.718,0.855,0.425,0.631,0.512,0.7659999999999999,0.721,0.203,0.737,0.653,0.56,0.6679999999999999,0.652,0.823,0.609,0.5589999999999999,0.445,0.384,0.7390000000000001,0.203,0.737,0.653,0.56,0.6679999999999999,0.652,0.823,0.609,0.5589999999999999,0.445,0.384,0.7390000000000001,0.509,0.397,0.745,0.763,0.257,0.5660000000000001,0.304,0.757,0.502,0.83,0.8340000000000001,0.655,0.687,0.716,0.6859999999999999,0.785,0.5760000000000001,0.8420000000000001,0.8059999999999999,0.83,0.9279999999999999,0.509,0.609,0.502,0.446,0.6859999999999999,0.7829999999999999,0.5760000000000001,0.8420000000000001,0.8059999999999999,0.83,0.9279999999999999,0.509,0.61,0.502,0.444,0.506,0.256,0.436,0.275,0.8690000000000001,0.93,0.151,0.256,0.205,0.736,0.653,0.561,0.6679999999999999,0.653,0.818,0.609,0.5529999999999999,0.445,0.38299999999999995,0.738,0.506,0.397,0.745,0.763],\"xaxis\":\"x\",\"y\":[0.846,0.866,0.564,0.7240000000000001,0.616,0.622,0.528,0.863,0.809,0.639,0.846,0.866,0.564,0.7240000000000001,0.616,0.622,0.528,0.863,0.809,0.639,0.695,0.727,0.6779999999999999,0.664,0.7659999999999999,0.6509999999999999,0.618,0.449,0.6990000000000001,0.34,0.693,0.6729999999999999,0.565,0.8909999999999999,0.605,0.85,0.616,0.579,0.493,0.836,0.902,0.888,0.87,0.953,0.769,0.721,0.541,0.7979999999999999,0.86,0.7609999999999999,0.777,0.892,0.65,0.9009999999999999,0.907,0.92,0.861,0.888,0.87,0.953,0.769,0.721,0.541,0.7979999999999999,0.86,0.7609999999999999,0.777,0.892,0.65,0.9009999999999999,0.907,0.92,0.861,0.889,0.87,0.953,0.769,0.7190000000000001,0.541,0.7979999999999999,0.86,0.7609999999999999,0.777,0.892,0.65,0.902,0.907,0.92,0.861,0.873,0.977,0.9470000000000001,0.7759999999999999,0.782,0.539,0.7170000000000001,0.929,0.84,0.835,0.754,0.8909999999999999,0.628,0.9540000000000001,0.7340000000000001,0.591,0.948,0.903,0.873,0.8,0.687,0.8759999999999999,0.883,0.865,0.884,0.6859999999999999,0.746,0.7170000000000001,0.79,0.659,0.9009999999999999,0.9209999999999999,0.8,0.68,0.875,0.88,0.865,0.885,0.684,0.743,0.715,0.784,0.6629999999999999,0.905,0.846,0.643,0.672,0.802,0.873,0.7909999999999999,0.8909999999999999,0.9790000000000001,0.8759999999999999,0.862,0.9229999999999999,0.9259999999999999,0.981,0.823,0.7090000000000001,0.672,0.632,0.9540000000000001,0.8909999999999999,0.9790000000000001,0.8759999999999999,0.862,0.9229999999999999,0.9259999999999999,0.981,0.823,0.7090000000000001,0.672,0.632,0.9540000000000001,0.809,0.728,0.581,0.716,0.701,0.649,0.708,0.8859999999999999,0.847,0.872,0.835,0.85,0.87,0.9420000000000001,0.612,0.758,0.8390000000000001,0.87,0.664,0.8959999999999999,0.6829999999999999,0.723,0.722,0.893,0.804,0.612,0.757,0.8390000000000001,0.87,0.6629999999999999,0.8959999999999999,0.6829999999999999,0.723,0.722,0.893,0.8029999999999999,0.588,0.8690000000000001,0.9209999999999999,0.7829999999999999,0.6629999999999999,0.569,0.655,0.7,0.8909999999999999,0.9790000000000001,0.8759999999999999,0.861,0.9229999999999999,0.9259999999999999,0.98,0.823,0.7090000000000001,0.672,0.631,0.9540000000000001,0.809,0.728,0.581,0.716],\"yaxis\":\"y\",\"type\":\"scattergl\"},{\"customdata\":[[\"Wheels on the Bus\"],[\"Class Fight\"],[\"The Principal\"],[\"Show & Tell\"],[\"Nurse's Office\"],[\"Drama Club\"],[\"Strawberry Shortcake\"],[\"Lunchbox Friends\"],[\"Orange Juice\"],[\"Detention\"],[\"Teacher's Pet\"],[\"High School Sweethearts\"],[\"Recess\"],[\"Wheels on the Bus\"],[\"Class Fight\"],[\"The Principal\"],[\"Show & Tell\"],[\"Nurse's Office\"],[\"Drama Club\"],[\"Strawberry Shortcake\"],[\"Lunchbox Friends\"],[\"Orange Juice\"],[\"Detention\"],[\"Teacher's Pet\"],[\"High School Sweethearts\"],[\"Recess\"],[\"Cry Baby\"],[\"Dollhouse\"],[\"Sippy Cup\"],[\"Carousel\"],[\"Alphabet Boy\"],[\"Soap\"],[\"Training Wheels\"],[\"Pity Party\"],[\"Tag, You're It\"],[\"Milk and Cookies\"],[\"Pacify Her\"],[\"Mrs. Potato Head\"],[\"Mad Hatter\"],[\"Cry Baby\"],[\"Dollhouse\"],[\"Sippy Cup\"],[\"Carousel\"],[\"Alphabet Boy\"],[\"Soap\"],[\"Training Wheels\"],[\"Pity Party\"],[\"Tag, You're It\"],[\"Milk and Cookies\"],[\"Pacify Her\"],[\"Mrs. Potato Head\"],[\"Mad Hatter\"]],\"hovertemplate\":\"Artist(s)=Melanie Martinez<br>Positiveness (valence)=%{x}<br>Energy=%{y}<br>Song Title=%{customdata[0]}<extra></extra>\",\"legendgroup\":\"Melanie Martinez\",\"marker\":{\"color\":\"#00cc96\",\"symbol\":\"circle\"},\"mode\":\"markers\",\"name\":\"Melanie Martinez\",\"showlegend\":true,\"x\":[0.563,0.772,0.6409999999999999,0.648,0.556,0.512,0.512,0.434,0.637,0.7829999999999999,0.532,0.44,0.39899999999999997,0.5489999999999999,0.747,0.6859999999999999,0.614,0.556,0.42700000000000005,0.515,0.41100000000000003,0.637,0.752,0.575,0.43,0.424,0.47700000000000004,0.555,0.733,0.33299999999999996,0.52,0.213,0.0807,0.33899999999999997,0.382,0.426,0.373,0.46299999999999997,0.5770000000000001,0.496,0.555,0.77,0.33299999999999996,0.503,0.213,0.0756,0.33899999999999997,0.382,0.405,0.373,0.46299999999999997,0.5770000000000001],\"xaxis\":\"x\",\"y\":[0.618,0.7070000000000001,0.7240000000000001,0.746,0.6509999999999999,0.655,0.62,0.574,0.665,0.655,0.794,0.639,0.41200000000000003,0.616,0.7020000000000001,0.74,0.725,0.6509999999999999,0.6459999999999999,0.624,0.593,0.665,0.655,0.767,0.619,0.405,0.691,0.708,0.6509999999999999,0.6609999999999999,0.85,0.6890000000000001,0.48100000000000004,0.73,0.835,0.613,0.593,0.622,0.6920000000000001,0.6829999999999999,0.708,0.638,0.6609999999999999,0.836,0.6890000000000001,0.46299999999999997,0.73,0.835,0.619,0.593,0.622,0.6920000000000001],\"yaxis\":\"y\",\"type\":\"scattergl\"},{\"customdata\":[[\"Golden\"],[\"Watermelon Sugar\"],[\"Adore You\"],[\"Lights Up\"],[\"Cherry\"],[\"Falling\"],[\"To Be So Lonely\"],[\"She\"],[\"Sunflower, Vol. 6\"],[\"Canyon Moon\"],[\"Treat People With Kindness\"],[\"Fine Line\"],[\"Meet Me in the Hallway\"],[\"Sign of the Times\"],[\"Carolina\"],[\"Two Ghosts\"],[\"Sweet Creature\"],[\"Only Angel\"],[\"Kiwi\"],[\"Ever Since New York\"],[\"Woman\"],[\"From the Dining Table\"]],\"hovertemplate\":\"Artist(s)=Harry Styles<br>Positiveness (valence)=%{x}<br>Energy=%{y}<br>Song Title=%{customdata[0]}<extra></extra>\",\"legendgroup\":\"Harry Styles\",\"marker\":{\"color\":\"#ab63fa\",\"symbol\":\"circle\"},\"mode\":\"markers\",\"name\":\"Harry Styles\",\"showlegend\":true,\"x\":[0.254,0.557,0.569,0.27,0.41100000000000003,0.0592,0.605,0.457,0.86,0.7,0.6970000000000001,0.0511,0.33899999999999997,0.222,0.45799999999999996,0.456,0.228,0.348,0.491,0.38299999999999995,0.379,0.201],\"xaxis\":\"x\",\"y\":[0.838,0.816,0.7709999999999999,0.621,0.512,0.267,0.436,0.521,0.846,0.621,0.8690000000000001,0.34700000000000003,0.38299999999999995,0.595,0.6729999999999999,0.40700000000000003,0.262,0.8420000000000001,0.93,0.537,0.647,0.156],\"yaxis\":\"y\",\"type\":\"scattergl\"},{\"customdata\":[[\"Consideration\"],[\"James Joint\"],[\"Kiss It Better\"],[\"Work\"],[\"Desperado\"],[\"Woo\"],[\"Needed Me\"],[\"Yeah, I Said It\"],[\"Same Ol\\u2019 Mistakes\"],[\"Never Ending\"],[\"Love On The Brain\"],[\"Higher\"],[\"Close To You\"],[\"Consideration\"],[\"James Joint\"],[\"Kiss It Better\"],[\"Work\"],[\"Desperado\"],[\"Woo\"],[\"Needed Me\"],[\"Yeah, I Said It\"],[\"Same Ol\\u2019 Mistakes\"],[\"Never Ending\"],[\"Love On The Brain\"],[\"Higher\"],[\"Close To You\"],[\"Phresh Out The Runway\"],[\"Diamonds\"],[\"Numb\"],[\"Pour It Up\"],[\"Loveeeeeee Song\"],[\"Jump\"],[\"Right Now\"],[\"What Now\"],[\"Stay\"],[\"Nobody's Business\"],[\"Love Without Tragedy / Mother Mary\"],[\"Get It Over With\"],[\"No Love Allowed\"],[\"Lost In Paradise\"],[\"Phresh Out The Runway\"],[\"Diamonds\"],[\"Numb\"],[\"Pour It Up\"],[\"Loveeeeeee Song\"],[\"Jump\"],[\"Right Now\"],[\"What Now\"],[\"Stay\"],[\"Nobody's Business\"],[\"Love Without Tragedy / Mother Mary\"],[\"Get It Over With\"],[\"No Love Allowed\"],[\"Lost In Paradise\"],[\"You Da One\"],[\"Where Have You Been\"],[\"We Found Love\"],[\"Talk That Talk\"],[\"Cockiness (Love It)\"],[\"Birthday Cake\"],[\"We All Want Love\"],[\"Drunk On Love\"],[\"Roc Me Out\"],[\"Watch n' Learn\"],[\"Farewell\"],[\"You Da One - Album Version (Edited)\"],[\"Where Have You Been\"],[\"We Found Love\"],[\"Talk That Talk - Album Version (Edited)\"],[\"Cockiness (Love It)\"],[\"Birthday Cake - Album Version (Edited)\"],[\"We All Want Love\"],[\"Drunk On Love\"],[\"Roc Me Out\"],[\"Watch n' Learn\"],[\"Farewell\"],[\"You Da One\"],[\"Where Have You Been\"],[\"We Found Love\"],[\"Talk That Talk\"],[\"Cockiness (Love It)\"],[\"Birthday Cake\"],[\"We All Want Love\"],[\"Drunk On Love\"],[\"Roc Me Out\"],[\"Watch n' Learn\"],[\"Farewell\"],[\"You Da One - Album Version (Edited)\"],[\"Where Have You Been\"],[\"We Found Love\"],[\"Talk That Talk - Album Version (Edited)\"],[\"Cockiness (Love It)\"],[\"Birthday Cake - Album Version (Edited)\"],[\"We All Want Love\"],[\"Drunk On Love\"],[\"Roc Me Out\"],[\"Watch n' Learn\"],[\"Farewell\"],[\"S&M\"],[\"What's My Name?\"],[\"Cheers (Drink To That)\"],[\"Fading\"],[\"Only Girl (In The World)\"],[\"California King Bed\"],[\"Man Down\"],[\"Raining Men\"],[\"Complicated\"],[\"Skin\"],[\"Love The Way You Lie (Part II) - Pt. 2\"],[\"Only Girl (In The World) - The Bimbo Jones Club\"],[\"S&M\"],[\"What's My Name?\"],[\"Cheers (Drink To That)\"],[\"Fading\"],[\"Only Girl (In The World)\"],[\"California King Bed\"],[\"Man Down\"],[\"Raining Men\"],[\"Complicated\"],[\"Skin\"],[\"Love The Way You Lie (Part II) - Pt. 2\"],[\"S&M\"],[\"What's My Name?\"],[\"Cheers (Drink To That)\"],[\"Fading\"],[\"Only Girl (In The World)\"],[\"California King Bed\"],[\"Man Down\"],[\"Raining Men\"],[\"Complicated\"],[\"Skin\"],[\"Love The Way You Lie (Part II) - Pt. 2\"],[\"Mad House - Chew Fu Straight Jacket Fix\"],[\"Russian Roulette - Chew Fu Black Russian Fix\"],[\"ROCKSTAR 101 - Chew Fu Teachers Pet Fix\"],[\"Wait Your Turn - Chew Fu Can't Wait No More Fix\"],[\"Photographs - Chew Fu 35mm Fix\"],[\"Rude Boy - Chew Fu Vitamin S Fix\"],[\"Hard - Chew Fu Granite Fix\"],[\"G4L - Chew Fu Guns In The Air Fix\"],[\"Fire Bomb - Chew Fu Molotov Fix\"],[\"Stupid In Love - Chew Fu Small Room Fix\"],[\"Mad House - Chew Fu Straight Jacket Fix\"],[\"Russian Roulette - Chew Fu Black Russian Fix\"],[\"ROCKSTAR 101 - Chew Fu Teachers Pet Fix\"],[\"Wait Your Turn - Chew Fu Can't Wait No More Fix\"],[\"Photographs - Chew Fu 35mm Fix\"],[\"Rude Boy - Chew Fu Vitamin S Fix\"],[\"Hard - Chew Fu Granite Fix\"],[\"G4L - Chew Fu Guns In The Air Fix\"],[\"Fire Bomb - Chew Fu Molotov Fix\"],[\"Stupid In Love - Chew Fu Small Room Fix\"],[\"Mad House\"],[\"Wait Your Turn\"],[\"Hard\"],[\"Stupid In Love\"],[\"ROCKSTAR 101\"],[\"Russian Roulette\"],[\"Fire Bomb\"],[\"Rude Boy\"],[\"Photographs\"],[\"G4L\"],[\"Te Amo\"],[\"Cold Case Love\"],[\"The Last Song\"],[\"Mad House\"],[\"Wait Your Turn\"],[\"Hard\"],[\"Stupid In Love\"],[\"ROCKSTAR 101\"],[\"Russian Roulette\"],[\"Fire Bomb\"],[\"Rude Boy\"],[\"Photographs\"],[\"G4L\"],[\"Te Amo\"],[\"Cold Case Love\"],[\"The Last Song\"],[\"Mad House\"],[\"Wait Your Turn\"],[\"Hard\"],[\"Stupid In Love\"],[\"ROCKSTAR 101\"],[\"Russian Roulette\"],[\"Fire Bomb\"],[\"Rude Boy\"],[\"Photographs\"],[\"G4L\"],[\"Te Amo\"],[\"Cold Case Love\"],[\"The Last Song\"],[\"Russian Roulette - Donni Hotwheel Remix\"],[\"Hole In My Head\"],[\"Umbrella - Seamus Haji & Paul Emanuel\"],[\"Disturbia - Jody den Broeder\"],[\"Shut Up And Drive - The Wideboys\"],[\"Don't Stop The Music - Jody den Broeder\"],[\"Take A Bow - Tony Moran & Warren Riggs\"],[\"Breakin' Dishes - Soul Seekerz\"],[\"Hate That I Love You - K-Klassic\"],[\"Question Existing - The Wideboys\"],[\"Push Up On Me - Moto Blanco\"],[\"Good Girl Gone Bad - Soul Seekerz\"],[\"Say It - Soul Seekerz\"],[\"Umbrella - Lindbergh Palace\"],[\"Umbrella\"],[\"Push Up On Me\"],[\"Don't Stop The Music\"],[\"Breakin' Dishes\"],[\"Shut Up And Drive\"],[\"Hate That I Love You\"],[\"Say It\"],[\"Sell Me Candy\"],[\"Lemme Get That\"],[\"Rehab\"],[\"Question Existing\"],[\"Good Girl Gone Bad\"],[\"Disturbia\"],[\"Take A Bow\"],[\"If I Never See Your Face Again\"],[\"Hate That I Love You - Cantonese version\"],[\"Hate That I Love You - Mandarin version\"],[\"Umbrella\"],[\"Push Up On Me\"],[\"Don't Stop The Music\"],[\"Breakin' Dishes\"],[\"Shut Up And Drive\"],[\"Hate That I Love You\"],[\"Say It\"],[\"Sell Me Candy\"],[\"Lemme Get That\"],[\"Rehab\"],[\"Question Existing\"],[\"Good Girl Gone Bad\"],[\"Hate That I Love You - Spanglish Version\"],[\"Disturbia\"],[\"Take A Bow\"],[\"If I Never See Your Face Again\"],[\"Umbrella\"],[\"Push Up On Me\"],[\"Don't Stop The Music\"],[\"Breakin' Dishes\"],[\"Shut Up And Drive\"],[\"Hate That I Love You\"],[\"Say It\"],[\"Sell Me Candy\"],[\"Lemme Get That\"],[\"Rehab\"],[\"Question Existing\"],[\"Good Girl Gone Bad\"],[\"Disturbia\"],[\"Take A Bow\"],[\"If I Never See Your Face Again\"],[\"Umbrella\"],[\"Push Up On Me\"],[\"Don't Stop The Music\"],[\"Breakin' Dishes\"],[\"Shut Up And Drive\"],[\"Hate That I Love You\"],[\"Say It\"],[\"Sell Me Candy\"],[\"Lemme Get That\"],[\"Rehab\"],[\"Question Existing\"],[\"Good Girl Gone Bad\"],[\"Cry\"],[\"Disturbia\"],[\"Take A Bow\"],[\"If I Never See Your Face Again\"],[\"Umbrella\"],[\"Push Up On Me\"],[\"Don't Stop The Music\"],[\"Breakin' Dishes\"],[\"Shut Up And Drive\"],[\"Hate That I Love You\"],[\"Say It\"],[\"Sell Me Candy\"],[\"Lemme Get That\"],[\"Rehab\"],[\"Question Existing\"],[\"Good Girl Gone Bad\"],[\"SOS\"],[\"Kisses Don't Lie\"],[\"Unfaithful\"],[\"We Ride\"],[\"Dem Haters - Album Version 2\"],[\"Final Goodbye\"],[\"Break It Off\"],[\"Crazy Little Thing Called Love\"],[\"Selfish Girl\"],[\"P.S. (I'm Still Not Over You)\"],[\"A Girl Like Me\"],[\"A Million Miles Away\"],[\"If It's Lovin' That You Want - Pt. 2\"],[\"Pon de Replay - Full Phatt Remix\"],[\"SOS\"],[\"Kisses Don't Lie\"],[\"Unfaithful\"],[\"We Ride\"],[\"Dem Haters - Album Version 2\"],[\"Final Goodbye\"],[\"Break It Off\"],[\"Crazy Little Thing Called Love\"],[\"Selfish Girl\"],[\"P.S. (I'm Still Not Over You)\"],[\"A Girl Like Me\"],[\"A Million Miles Away\"],[\"If It's Lovin' That You Want - Pt. 2\"],[\"Pon de Replay - Full Phatt Remix\"],[\"SOS\"],[\"Kisses Don't Lie\"],[\"Unfaithful\"],[\"We Ride\"],[\"Dem Haters\"],[\"Final Goodbye\"],[\"Break It Off\"],[\"Crazy Little Thing Called Love\"],[\"Selfish Girl\"],[\"P.S. (I'm Still Not Over You)\"],[\"A Girl Like Me\"],[\"A Million Miles Away\"],[\"If It's Lovin' That You Want - Pt. 2\"],[\"Pon de Replay\"],[\"Here I Go Again\"],[\"If It's Lovin' That You Want\"],[\"You Don't Love Me (No, No, No)\"],[\"That La, La, La\"],[\"The Last Time\"],[\"Willing To Wait\"],[\"Music Of The Sun\"],[\"Let Me\"],[\"Rush\"],[\"There's A Thug In My Life\"],[\"Now I Know\"],[\"Pon De Replay - Remix\"],[\"Should I - Bonus Track\"],[\"Pon de Replay\"],[\"Here I Go Again\"],[\"If It's Lovin' That You Want\"],[\"You Don't Love Me (No, No, No)\"],[\"That La, La, La\"],[\"The Last Time\"],[\"Willing To Wait\"],[\"Music Of The Sun\"],[\"Let Me\"],[\"Rush\"],[\"There's A Thug In My Life\"],[\"Now I Know\"],[\"Pon De Replay - Remix\"]],\"hovertemplate\":\"Artist(s)=Rihanna<br>Positiveness (valence)=%{x}<br>Energy=%{y}<br>Song Title=%{customdata[0]}<extra></extra>\",\"legendgroup\":\"Rihanna\",\"marker\":{\"color\":\"#FFA15A\",\"symbol\":\"circle\"},\"mode\":\"markers\",\"name\":\"Rihanna\",\"showlegend\":true,\"x\":[0.784,0.405,0.877,0.5579999999999999,0.32299999999999995,0.185,0.29600000000000004,0.249,0.501,0.521,0.37799999999999995,0.392,0.145,0.784,0.396,0.888,0.563,0.32299999999999995,0.18899999999999997,0.295,0.293,0.52,0.521,0.39299999999999996,0.391,0.145,0.96,0.39299999999999996,0.379,0.39,0.501,0.46799999999999997,0.259,0.22699999999999998,0.125,0.515,0.154,0.251,0.645,0.297,0.96,0.39299999999999996,0.379,0.39,0.501,0.46799999999999997,0.259,0.22699999999999998,0.125,0.515,0.154,0.251,0.645,0.297,0.863,0.444,0.6,0.466,0.265,0.32899999999999996,0.308,0.153,0.377,0.823,0.506,0.8590000000000001,0.444,0.6,0.375,0.261,0.39799999999999996,0.308,0.153,0.377,0.823,0.506,0.863,0.444,0.6,0.466,0.261,0.32899999999999996,0.308,0.153,0.377,0.823,0.506,0.8590000000000001,0.444,0.6,0.375,0.261,0.39799999999999996,0.308,0.153,0.377,0.823,0.506,0.833,0.583,0.7240000000000001,0.32799999999999996,0.611,0.318,0.557,0.845,0.33,0.114,0.402,0.747,0.833,0.583,0.727,0.282,0.632,0.319,0.536,0.841,0.348,0.127,0.39799999999999996,0.833,0.595,0.725,0.282,0.595,0.319,0.529,0.85,0.331,0.11800000000000001,0.391,0.44799999999999995,0.5429999999999999,0.84,0.8240000000000001,0.8009999999999999,0.228,0.746,0.755,0.659,0.698,0.423,0.5489999999999999,0.8959999999999999,0.845,0.8,0.289,0.745,0.7509999999999999,0.67,0.754,0.293,0.451,0.163,0.47600000000000003,0.315,0.265,0.44299999999999995,0.812,0.39899999999999997,0.21600000000000003,0.7509999999999999,0.121,0.0996,0.293,0.46799999999999997,0.154,0.48,0.305,0.293,0.451,0.774,0.39799999999999996,0.18600000000000003,0.7509999999999999,0.11900000000000001,0.0995,0.295,0.47100000000000003,0.156,0.461,0.308,0.268,0.446,0.812,0.39899999999999997,0.21600000000000003,0.7509999999999999,0.12,0.0996,0.7140000000000001,0.8759999999999999,0.765,0.905,0.5710000000000001,0.764,0.617,0.523,0.585,0.55,0.795,0.5429999999999999,0.872,0.45,0.597,0.615,0.578,0.9079999999999999,0.738,0.7559999999999999,0.39399999999999996,0.6890000000000001,0.742,0.47200000000000003,0.303,0.5539999999999999,0.7040000000000001,0.499,0.919,0.6509999999999999,0.6579999999999999,0.579,0.603,0.536,0.894,0.7390000000000001,0.745,0.39399999999999996,0.7020000000000001,0.741,0.475,0.29,0.588,0.613,0.7070000000000001,0.575,0.894,0.575,0.6409999999999999,0.542,0.875,0.74,0.732,0.401,0.72,0.723,0.397,0.276,0.589,0.722,0.5720000000000001,0.914,0.5489999999999999,0.625,0.54,0.893,0.764,0.716,0.395,0.6970000000000001,0.772,0.446,0.273,0.594,0.38799999999999996,0.7170000000000001,0.536,0.909,0.575,0.6409999999999999,0.542,0.863,0.74,0.732,0.39899999999999997,0.7120000000000001,0.723,0.397,0.276,0.589,0.527,0.91,0.349,0.772,0.467,0.24,0.7979999999999999,0.7509999999999999,0.737,0.496,0.633,0.0609,0.642,0.8809999999999999,0.527,0.91,0.349,0.772,0.467,0.24,0.7979999999999999,0.7509999999999999,0.737,0.496,0.633,0.0609,0.642,0.8809999999999999,0.527,0.91,0.349,0.772,0.467,0.24,0.7979999999999999,0.7509999999999999,0.737,0.496,0.633,0.0609,0.642,0.505,0.643,0.757,0.61,0.9209999999999999,0.0918,0.282,0.64,0.72,0.7659999999999999,0.5379999999999999,0.205,0.586,0.596,0.498,0.637,0.74,0.611,0.9520000000000001,0.114,0.281,0.632,0.743,0.8009999999999999,0.5720000000000001,0.22,0.5820000000000001],\"xaxis\":\"x\",\"y\":[0.584,0.203,0.8059999999999999,0.534,0.61,0.466,0.314,0.38,0.8029999999999999,0.391,0.637,0.5670000000000001,0.17,0.588,0.203,0.804,0.535,0.61,0.46299999999999997,0.313,0.397,0.799,0.391,0.629,0.561,0.17,0.866,0.71,0.6970000000000001,0.478,0.598,0.8190000000000001,0.64,0.696,0.31,0.6,0.66,0.465,0.48200000000000004,0.7879999999999999,0.866,0.71,0.6970000000000001,0.478,0.598,0.8190000000000001,0.64,0.696,0.31,0.6,0.66,0.465,0.48200000000000004,0.7879999999999999,0.715,0.847,0.7659999999999999,0.6709999999999999,0.773,0.826,0.575,0.873,0.826,0.7979999999999999,0.857,0.693,0.847,0.7659999999999999,0.687,0.774,0.831,0.575,0.873,0.826,0.7979999999999999,0.857,0.715,0.847,0.7659999999999999,0.6709999999999999,0.774,0.826,0.575,0.873,0.826,0.7979999999999999,0.857,0.693,0.847,0.7659999999999999,0.687,0.774,0.831,0.575,0.873,0.826,0.7979999999999999,0.857,0.682,0.7859999999999999,0.9129999999999999,0.698,0.716,0.586,0.904,0.802,0.897,0.573,0.833,0.941,0.682,0.7859999999999999,0.912,0.711,0.71,0.5770000000000001,0.9059999999999999,0.805,0.898,0.5579999999999999,0.8390000000000001,0.682,0.782,0.9109999999999999,0.711,0.716,0.5770000000000001,0.909,0.8059999999999999,0.884,0.5670000000000001,0.823,0.794,0.755,0.741,0.8170000000000001,0.606,0.7559999999999999,0.883,0.773,0.7490000000000001,0.691,0.816,0.747,0.7659999999999999,0.763,0.604,0.757,0.828,0.75,0.6809999999999999,0.652,0.591,0.7040000000000001,0.746,0.562,0.65,0.486,0.847,0.75,0.632,0.721,0.7070000000000001,0.44299999999999995,0.595,0.59,0.711,0.75,0.561,0.657,0.473,0.847,0.747,0.632,0.735,0.7070000000000001,0.442,0.595,0.591,0.7,0.7490000000000001,0.5579999999999999,0.657,0.47100000000000003,0.8440000000000001,0.75,0.632,0.735,0.7070000000000001,0.44299999999999995,0.595,0.875,0.789,0.845,0.878,0.909,0.8859999999999999,0.935,0.904,0.9059999999999999,0.909,0.953,0.919,0.932,0.8809999999999999,0.833,0.861,0.669,0.674,0.818,0.7190000000000001,0.596,0.9229999999999999,0.8959999999999999,0.7929999999999999,0.6709999999999999,0.546,0.813,0.461,0.789,0.7709999999999999,0.759,0.836,0.87,0.66,0.6559999999999999,0.823,0.7170000000000001,0.595,0.919,0.898,0.784,0.674,0.5479999999999999,0.762,0.8190000000000001,0.46799999999999997,0.79,0.8290000000000001,0.88,0.669,0.674,0.826,0.73,0.588,0.909,0.894,0.792,0.6559999999999999,0.5529999999999999,0.813,0.467,0.7809999999999999,0.8270000000000001,0.875,0.659,0.6759999999999999,0.833,0.722,0.594,0.91,0.9059999999999999,0.79,0.664,0.547,0.639,0.813,0.47,0.779,0.8290000000000001,0.88,0.669,0.66,0.826,0.73,0.593,0.919,0.894,0.792,0.6559999999999999,0.5529999999999999,0.6709999999999999,0.747,0.391,0.7440000000000001,0.594,0.46299999999999997,0.738,0.557,0.643,0.40700000000000003,0.574,0.363,0.615,0.557,0.6709999999999999,0.747,0.391,0.7440000000000001,0.594,0.46299999999999997,0.738,0.557,0.643,0.40700000000000003,0.574,0.363,0.615,0.557,0.6709999999999999,0.747,0.391,0.7440000000000001,0.594,0.46299999999999997,0.738,0.557,0.643,0.40700000000000003,0.574,0.363,0.615,0.632,0.614,0.693,0.6779999999999999,0.6729999999999999,0.49200000000000005,0.447,0.631,0.787,0.826,0.6409999999999999,0.266,0.735,0.684,0.64,0.611,0.6940000000000001,0.667,0.672,0.494,0.44299999999999995,0.643,0.7709999999999999,0.8220000000000001,0.632,0.267,0.737],\"yaxis\":\"y\",\"type\":\"scattergl\"},{\"customdata\":[[\"SoulFly\"],[\"Gone Till November\"],[\"Blame On You\"],[\"Don't Forget\"],[\"Tombstone\"],[\"All I Got\"],[\"Richer (feat. Polo G)\"],[\"Street Runner\"],[\"Pills & Billz\"],[\"How The Game Go\"],[\"Shock Da World\"],[\"What's Love??\"],[\"OMDB\"],[\"Invisible Scar\"],[\"Calling\"],[\"Sneaky Links\"],[\"Believe Me\"],[\"Moving On\"],[\"Changing\"],[\"SoulFly\"],[\"Gone Till November\"],[\"Blame On You\"],[\"Don't Forget\"],[\"Tombstone\"],[\"All I Got\"],[\"Richer (feat. Polo G)\"],[\"Street Runner\"],[\"Pills & Billz\"],[\"How The Game Go\"],[\"Shock Da World\"],[\"What's Love??\"],[\"OMDB\"],[\"Invisible Scar\"],[\"Calling\"],[\"Sneaky Links\"],[\"Believe Me\"],[\"Moving On\"],[\"Changing\"],[\"Pray 4 Love\"],[\"Fuck The World\"],[\"Thief In The Night\"],[\"Thug Life\"],[\"I Remember\"],[\"Rags2Riches (feat. ATR Son Son)\"],[\"No Weakness\"],[\"Roaming\"],[\"The Greatest\"],[\"Ribbon In The Sky\"],[\"5% Tints\"],[\"Girl Of My Dreams\"],[\"Thug Motivation\"],[\"Dark Clouds\"],[\"Pray 4 Love\"],[\"F*** The World\"],[\"Thief In The Night\"],[\"Thug Life\"],[\"I Remember\"],[\"Rags2Riches (feat. ATR Son Son)\"],[\"No Weakness\"],[\"Roaming\"],[\"The Greatest\"],[\"Ribbon In The Sky\"],[\"5% Tints\"],[\"Girl Of My Dreams\"],[\"Thug Motivation\"],[\"Dark Clouds\"],[\"Sky Priority\"],[\"Dark Conversations\"],[\"Close Enough to Hurt\"],[\"Green Light\"],[\"Brace Face\"],[\"Poison\"],[\"Cuban Links\"],[\"Soldier Life\"],[\"Counted Steps\"],[\"Titanic\"],[\"Extra\"],[\"Abandoned\"],[\"Chip On My Shoulder\"],[\"Heart On Ice - Remix\"],[\"Sky Priority\"],[\"Dark Conversation\"],[\"Close Enough To Hurt\"],[\"Green Light\"],[\"Brace Face\"],[\"Poison\"],[\"Cuban Links (feat. Kevin Gates)\"],[\"Soldier Life\"],[\"Counted Steps\"],[\"Titanic (feat. Kevin Gates)\"],[\"Extra\"],[\"Abandoned\"],[\"Chip On My Shoulder\"],[\"Heart On Ice (Remix) [feat. Lil Durk]\"],[\"Popular Loner\"],[\"Hard Times\"],[\"PTSD\"],[\"Heart On Ice\"],[\"Paint The Sky Red\"],[\"Calabasas (feat. E-40)\"],[\"Proud of Me\"],[\"No Love\"],[\"How Would You Feel\"],[\"True Story\"],[\"ATR for Life\"],[\"Bottom Boy Survivor\"],[\"Popular Loner\"],[\"Hard Times\"],[\"PTSD\"],[\"Heart On Ice\"],[\"Paint The Sky Red\"],[\"Calabasas (feat. E-40)\"],[\"Proud Of Me\"],[\"No Love\"],[\"How Would You Feel\"],[\"True Story\"],[\"ATR For Life\"],[\"Bottom Boy Survivor\"],[\"Yessir\"],[\"Let Me Down\"],[\"My Love\"],[\"Feel The Same Way (feat. Moneybagg Yo)\"],[\"Heart 4 Sale\"],[\"Pressure\"],[\"Weight On My Shoulders\"],[\"So Many\"],[\"Having My Way\"],[\"Numb\"],[\"Red Light\"],[\"Can't Sleep\"],[\"Yessir\"],[\"Let Me Down\"],[\"My Love\"],[\"Feel The Same Way (feat. Moneybagg Yo)\"],[\"Heart 4 Sale\"],[\"Pressure\"],[\"Weight On My Shoulders\"],[\"So Many\"],[\"Having My Way\"],[\"Numb\"],[\"Red Light\"],[\"Can't Sleep\"],[\"Tomorrow\"],[\"Valid\"],[\"Praying Grandmothers\"],[\"Way Way Up\"],[\"WYB\"],[\"Jan2Jan\"],[\"Changing On Me\"],[\"I Get Around\"],[\"Thug Love\"],[\"Boom\"],[\"Tomorrow\"],[\"Valid\"],[\"Praying Grandmothers\"],[\"Way Way Up\"],[\"WYB\"],[\"Jan2Jan\"],[\"Changing On Me\"],[\"I Get Around\"],[\"Thug Love\"],[\"Boom\"]],\"hovertemplate\":\"Artist(s)=Rod Wave<br>Positiveness (valence)=%{x}<br>Energy=%{y}<br>Song Title=%{customdata[0]}<extra></extra>\",\"legendgroup\":\"Rod Wave\",\"marker\":{\"color\":\"#19d3f3\",\"symbol\":\"circle\"},\"mode\":\"markers\",\"name\":\"Rod Wave\",\"showlegend\":true,\"x\":[0.405,0.384,0.7120000000000001,0.882,0.535,0.682,0.7340000000000001,0.433,0.696,0.631,0.535,0.649,0.184,0.455,0.35100000000000003,0.5870000000000001,0.42700000000000005,0.7440000000000001,0.248,0.392,0.38,0.736,0.8540000000000001,0.528,0.7659999999999999,0.795,0.46,0.6679999999999999,0.591,0.534,0.628,0.14400000000000002,0.521,0.327,0.5760000000000001,0.495,0.7959999999999999,0.305,0.397,0.466,0.276,0.63,0.389,0.22699999999999998,0.55,0.325,0.586,0.39799999999999996,0.634,0.35,0.504,0.42,0.467,0.434,0.355,0.5539999999999999,0.319,0.19399999999999998,0.505,0.41,0.539,0.35700000000000004,0.342,0.35,0.455,0.40299999999999997,0.486,0.61,0.2,0.292,0.604,0.759,0.77,0.35700000000000004,0.799,0.17800000000000002,0.503,0.6729999999999999,0.623,0.315,0.494,0.594,0.332,0.26899999999999996,0.617,0.7490000000000001,0.852,0.358,0.809,0.18600000000000003,0.507,0.701,0.622,0.273,0.773,0.544,0.259,0.244,0.7090000000000001,0.6829999999999999,0.311,0.386,0.7390000000000001,0.5429999999999999,0.239,0.39,0.773,0.544,0.259,0.244,0.7090000000000001,0.6829999999999999,0.311,0.386,0.7390000000000001,0.5429999999999999,0.239,0.39,0.252,0.321,0.792,0.596,0.5660000000000001,0.767,0.885,0.455,0.634,0.42100000000000004,0.6779999999999999,0.89,0.252,0.321,0.792,0.596,0.688,0.767,0.885,0.455,0.634,0.42100000000000004,0.6779999999999999,0.89,0.753,0.6940000000000001,0.485,0.586,0.386,0.475,0.319,0.9259999999999999,0.414,0.539,0.7490000000000001,0.695,0.48700000000000004,0.584,0.381,0.502,0.319,0.9229999999999999,0.414,0.542],\"xaxis\":\"x\",\"y\":[0.517,0.537,0.684,0.6409999999999999,0.637,0.509,0.41100000000000003,0.61,0.5479999999999999,0.727,0.53,0.359,0.523,0.586,0.585,0.561,0.5329999999999999,0.748,0.511,0.502,0.552,0.6829999999999999,0.677,0.5539999999999999,0.532,0.43700000000000006,0.586,0.434,0.736,0.519,0.439,0.5329999999999999,0.6459999999999999,0.5670000000000001,0.486,0.514,0.7609999999999999,0.45399999999999996,0.529,0.69,0.657,0.327,0.621,0.252,0.532,0.41600000000000004,0.41,0.738,0.585,0.547,0.556,0.593,0.5379999999999999,0.6709999999999999,0.518,0.45,0.6829999999999999,0.318,0.675,0.618,0.495,0.785,0.65,0.547,0.555,0.586,0.43700000000000006,0.648,0.515,0.434,0.711,0.616,0.652,0.716,0.737,0.361,0.46299999999999997,0.517,0.365,0.37200000000000005,0.43700000000000006,0.648,0.519,0.434,0.711,0.61,0.8109999999999999,0.7140000000000001,0.738,0.361,0.465,0.518,0.36700000000000005,0.414,0.62,0.6659999999999999,0.589,0.389,0.512,0.693,0.527,0.6609999999999999,0.593,0.5429999999999999,0.601,0.539,0.62,0.6659999999999999,0.589,0.389,0.512,0.693,0.527,0.6609999999999999,0.593,0.5429999999999999,0.601,0.539,0.618,0.581,0.7,0.679,0.45799999999999996,0.7390000000000001,0.62,0.7090000000000001,0.5479999999999999,0.444,0.6779999999999999,0.715,0.618,0.581,0.7,0.679,0.488,0.7390000000000001,0.62,0.7090000000000001,0.5479999999999999,0.444,0.6779999999999999,0.715,0.569,0.73,0.741,0.5720000000000001,0.6679999999999999,0.7040000000000001,0.8190000000000001,0.89,0.517,0.54,0.569,0.728,0.74,0.5720000000000001,0.6679999999999999,0.701,0.8190000000000001,0.89,0.517,0.539],\"yaxis\":\"y\",\"type\":\"scattergl\"},{\"customdata\":[[\"Black Panther\"],[\"All The Stars (with SZA)\"],[\"X (with 2 Chainz & Saudi)\"],[\"The Ways (with Swae Lee)\"],[\"Opps (with Yugen Blakrok)\"],[\"I Am\"],[\"Paramedic!\"],[\"Bloody Waters (with Anderson .Paak & James Blake)\"],[\"King's Dead (with Kendrick Lamar, Future & James Blake)\"],[\"Redemption Interlude\"],[\"Redemption (with Babes Wodumo)\"],[\"Seasons (with Sjava & Reason)\"],[\"Big Shot (with Travis Scott)\"],[\"Pray For Me (with Kendrick Lamar)\"],[\"Black Panther\"],[\"All The Stars\"],[\"X\"],[\"The Ways\"],[\"Opps\"],[\"I Am\"],[\"Paramedic!\"],[\"Bloody Waters\"],[\"King's Dead\"],[\"Redemption Interlude\"],[\"Redemption\"],[\"Seasons\"],[\"Big Shot\"],[\"Pray For Me\"],[\"Black Panther\"],[\"All The Stars (with SZA)\"],[\"X (with 2 Chainz & Saudi)\"],[\"The Ways (with Swae Lee)\"],[\"Opps (with Yugen Blakrok)\"],[\"I Am\"],[\"Paramedic!\"],[\"Bloody Waters (with Anderson .Paak & James Blake)\"],[\"King's Dead (with Kendrick Lamar, Future & James Blake)\"],[\"Redemption Interlude\"],[\"Redemption (with Babes Wodumo)\"],[\"Seasons (with Sjava & Reason)\"],[\"Big Shot (with Travis Scott)\"],[\"Pray For Me (with Kendrick Lamar)\"],[\"DUCKWORTH.\"],[\"GOD.\"],[\"FEAR.\"],[\"XXX. FEAT. U2.\"],[\"LOVE. FEAT. ZACARI.\"],[\"LUST.\"],[\"HUMBLE.\"],[\"PRIDE.\"],[\"LOYALTY. FEAT. RIHANNA.\"],[\"FEEL.\"],[\"ELEMENT.\"],[\"YAH.\"],[\"DNA.\"],[\"BLOOD.\"],[\"DUCKWORTH.\"],[\"GOD.\"],[\"FEAR.\"],[\"XXX.\"],[\"LOVE.\"],[\"LUST.\"],[\"HUMBLE.\"],[\"PRIDE.\"],[\"LOYALTY.\"],[\"FEEL.\"],[\"ELEMENT.\"],[\"YAH.\"],[\"DNA.\"],[\"BLOOD.\"],[\"DUCKWORTH.\"],[\"GOD.\"],[\"FEAR.\"],[\"XXX. FEAT. U2\"],[\"LOVE. FEAT. ZACARI.\"],[\"LUST.\"],[\"HUMBLE.\"],[\"PRIDE.\"],[\"LOYALTY. FEAT. RIHANNA.\"],[\"FEEL.\"],[\"ELEMENT.\"],[\"YAH.\"],[\"DNA.\"],[\"BLOOD.\"],[\"BLOOD.\"],[\"DNA.\"],[\"YAH.\"],[\"ELEMENT.\"],[\"FEEL.\"],[\"LOYALTY. FEAT. RIHANNA.\"],[\"PRIDE.\"],[\"HUMBLE.\"],[\"LUST.\"],[\"LOVE. FEAT. ZACARI.\"],[\"XXX. FEAT. U2.\"],[\"FEAR.\"],[\"GOD.\"],[\"DUCKWORTH.\"],[\"BLOOD.\"],[\"DNA.\"],[\"YAH.\"],[\"ELEMENT.\"],[\"FEEL.\"],[\"LOYALTY.\"],[\"PRIDE.\"],[\"HUMBLE.\"],[\"LUST.\"],[\"LOVE.\"],[\"XXX.\"],[\"FEAR.\"],[\"GOD.\"],[\"DUCKWORTH.\"],[\"BLOOD.\"],[\"DNA.\"],[\"YAH.\"],[\"ELEMENT.\"],[\"FEEL.\"],[\"LOYALTY. FEAT. RIHANNA.\"],[\"PRIDE.\"],[\"HUMBLE.\"],[\"LUST.\"],[\"LOVE. FEAT. ZACARI.\"],[\"XXX. FEAT. U2.\"],[\"FEAR.\"],[\"GOD.\"],[\"DUCKWORTH.\"],[\"untitled 01 | 08.19.2014.\"],[\"untitled 02 | 06.23.2014.\"],[\"untitled 03 | 05.28.2013.\"],[\"untitled 04 | 08.14.2014.\"],[\"untitled 05 | 09.21.2014.\"],[\"untitled 06 | 06.30.2014.\"],[\"untitled 07 | 2014 - 2016\"],[\"untitled 08 | 09.06.2014.\"],[\"untitled 01 | 08.19.2014.\"],[\"untitled 02 | 06.23.2014.\"],[\"untitled 03 | 05.28.2013.\"],[\"untitled 04 | 08.14.2014.\"],[\"untitled 05 | 09.21.2014.\"],[\"untitled 06 | 06.30.2014.\"],[\"untitled 07 | 2014 - 2016\"],[\"untitled 08 | 09.06.2014.\"],[\"Wesley's Theory\"],[\"For Free? - Interlude\"],[\"King Kunta\"],[\"Institutionalized\"],[\"These Walls\"],[\"u\"],[\"Alright\"],[\"For Sale? - Interlude\"],[\"Momma\"],[\"Hood Politics\"],[\"How Much A Dollar Cost\"],[\"Complexion (A Zulu Love)\"],[\"The Blacker The Berry\"],[\"You Ain't Gotta Lie (Momma Said)\"],[\"i\"],[\"Mortal Man\"],[\"Wesley's Theory\"],[\"For Free? - Interlude\"],[\"King Kunta\"],[\"Institutionalized\"],[\"These Walls\"],[\"u\"],[\"Alright\"],[\"For Sale? - Interlude\"],[\"Momma\"],[\"Hood Politics\"],[\"How Much A Dollar Cost\"],[\"Complexion (A Zulu Love)\"],[\"The Blacker The Berry\"],[\"You Ain't Gotta Lie (Momma Said)\"],[\"i\"],[\"Mortal Man\"],[\"Wesley's Theory\"],[\"For Free? - Interlude\"],[\"King Kunta\"],[\"Institutionalized\"],[\"These Walls\"],[\"u\"],[\"Alright\"],[\"For Sale? - Interlude\"],[\"Momma\"],[\"Hood Politics\"],[\"How Much A Dollar Cost\"],[\"Complexion (A Zulu Love)\"],[\"The Blacker The Berry\"],[\"You Ain't Gotta Lie (Momma Said)\"],[\"i\"],[\"Mortal Man\"],[\"Wesley's Theory\"],[\"For Free? - Interlude\"],[\"King Kunta\"],[\"Institutionalized\"],[\"These Walls\"],[\"u\"],[\"Alright\"],[\"For Sale? - Interlude\"],[\"Momma\"],[\"Hood Politics\"],[\"How Much A Dollar Cost\"],[\"Complexion (A Zulu Love)\"],[\"The Blacker The Berry\"],[\"You Ain't Gotta Lie (Momma Said)\"],[\"i\"],[\"Mortal Man\"],[\"Sherane a.k.a Master Splinter\\u2019s Daughter\"],[\"Bitch, Don\\u2019t Kill My Vibe\"],[\"Backseat Freestyle\"],[\"The Art of Peer Pressure\"],[\"Money Trees\"],[\"Poetic Justice\"],[\"good kid\"],[\"m.A.A.d city\"],[\"Swimming Pools (Drank) - Extended Version\"],[\"Sing About Me, I'm Dying Of Thirst\"],[\"Real\"],[\"Compton\"],[\"Bitch, Don\\u2019t Kill My Vibe - Remix\"],[\"Sherane a.k.a Master Splinter\\u2019s Daughter\"],[\"Bitch, Don\\u2019t Kill My Vibe\"],[\"Backseat Freestyle\"],[\"The Art of Peer Pressure\"],[\"Money Trees\"],[\"Poetic Justice\"],[\"good kid\"],[\"m.A.A.d city\"],[\"Swimming Pools (Drank) - Extended Version\"],[\"Sing About Me, I'm Dying Of Thirst\"],[\"Real\"],[\"Compton\"],[\"Bitch, Don\\u2019t Kill My Vibe - Remix\"],[\"Sherane a.k.a Master Splinter\\u2019s Daughter\"],[\"Bitch, Don\\u2019t Kill My Vibe\"],[\"Backseat Freestyle\"],[\"The Art of Peer Pressure\"],[\"Money Trees\"],[\"Poetic Justice\"],[\"good kid\"],[\"m.A.A.d city\"],[\"Swimming Pools (Drank) - Extended Version\"],[\"Sing About Me, I'm Dying Of Thirst\"],[\"Real\"],[\"Compton\"],[\"Sherane a.k.a Master Splinter\\u2019s Daughter\"],[\"Bitch, Don\\u2019t Kill My Vibe\"],[\"Backseat Freestyle\"],[\"The Art of Peer Pressure\"],[\"Money Trees\"],[\"Poetic Justice\"],[\"good kid\"],[\"m.A.A.d city\"],[\"Swimming Pools (Drank) - Extended Version\"],[\"Sing About Me, I'm Dying Of Thirst\"],[\"Real\"],[\"Compton\"],[\"Sherane a.k.a Master Splinter\\u2019s Daughter\"],[\"Bitch, Don\\u2019t Kill My Vibe\"],[\"Backseat Freestyle\"],[\"The Art of Peer Pressure\"],[\"Money Trees\"],[\"Poetic Justice\"],[\"good kid\"],[\"m.A.A.d city\"],[\"Swimming Pools (Drank) - Extended Version\"],[\"Sing About Me, I'm Dying Of Thirst\"],[\"Real\"],[\"Compton\"],[\"Bitch, Don\\u2019t Kill My Vibe - Remix\"],[\"Bitch, Don\\u2019t Kill My Vibe - International Remix / Explicit Version\"],[\"Sherane a.k.a Master Splinter\\u2019s Daughter\"],[\"Bitch, Don\\u2019t Kill My Vibe\"],[\"Backseat Freestyle\"],[\"The Art of Peer Pressure\"],[\"Money Trees\"],[\"Poetic Justice\"],[\"good kid\"],[\"m.A.A.d city\"],[\"Swimming Pools (Drank) - Extended Version\"],[\"Sing About Me, I'm Dying Of Thirst\"],[\"Real\"],[\"Compton\"],[\"Bitch, Don\\u2019t Kill My Vibe - Remix\"],[\"Sherane a.k.a Master Splinter\\u2019s Daughter\"],[\"Bitch, Don\\u2019t Kill My Vibe\"],[\"Backseat Freestyle\"],[\"The Art of Peer Pressure\"],[\"Money Trees\"],[\"Poetic Justice\"],[\"good kid\"],[\"m.A.A.d city\"],[\"Swimming Pools (Drank) - Extended Version\"],[\"Sing About Me, I'm Dying Of Thirst\"],[\"Real\"],[\"Compton\"],[\"Bitch, Don\\u2019t Kill My Vibe - Remix\"],[\"F*ck Your Ethnicity\"],[\"Hol' Up\"],[\"A.D.H.D\"],[\"No Make-Up (Her Vice) (feat. Colin Munroe)\"],[\"Tammy's Song (Her Evils)\"],[\"Chapter Six\"],[\"Ronald Reagan Era\"],[\"Poe Mans Dreams (His Vice) (feat. GLC)\"],[\"Chapter Ten\"],[\"Keisha's Song (Her Pain) (feat. Ashtro Bot)\"],[\"Rigamortus\"],[\"Kush & Corinthians (feat. BJ The Chicago Kid)\"],[\"Blow My High (Members Only)\"],[\"Ab-Souls Outro (feat. Ab-Soul)\"],[\"HiiiPower\"],[\"Growing Apart (To Get Closer)\"],[\"Ignorance Is Bliss\"],[\"P&P 1.5\"],[\"Alien Girl (Today W/ Her)\"],[\"Opposites Attract (Tomorrow W/O Her)\"],[\"Michael Jordan\"],[\"R.O.T.C (Interlude)\"],[\"Barbed Wire\"],[\"Average Joe\"],[\"H.O.C\"],[\"Cut You Off (To Grow Closer)\"],[\"She Needs Me (Remix)\"]],\"hovertemplate\":\"Artist(s)=Kendrick Lamar<br>Positiveness (valence)=%{x}<br>Energy=%{y}<br>Song Title=%{customdata[0]}<extra></extra>\",\"legendgroup\":\"Kendrick Lamar\",\"marker\":{\"color\":\"#FF6692\",\"symbol\":\"circle\"},\"mode\":\"markers\",\"name\":\"Kendrick Lamar\",\"showlegend\":true,\"x\":[0.48,0.552,0.405,0.589,0.847,0.32,0.47100000000000003,0.20199999999999999,0.40700000000000003,0.223,0.642,0.308,0.284,0.188,0.39399999999999996,0.535,0.415,0.617,0.848,0.32,0.508,0.183,0.40700000000000003,0.223,0.644,0.311,0.249,0.188,0.39399999999999996,0.535,0.415,0.617,0.848,0.32,0.508,0.183,0.40700000000000003,0.223,0.644,0.311,0.249,0.188,0.632,0.205,0.434,0.293,0.779,0.5660000000000001,0.42100000000000004,0.37,0.419,0.5529999999999999,0.483,0.648,0.42200000000000004,0.494,0.636,0.171,0.452,0.27,0.78,0.56,0.374,0.386,0.392,0.5529999999999999,0.495,0.595,0.424,0.494,0.636,0.171,0.452,0.27,0.78,0.56,0.374,0.386,0.392,0.5529999999999999,0.495,0.595,0.424,0.494,0.494,0.42200000000000004,0.648,0.483,0.5529999999999999,0.419,0.37,0.42100000000000004,0.5660000000000001,0.779,0.293,0.434,0.205,0.632,0.494,0.424,0.595,0.495,0.5529999999999999,0.392,0.386,0.374,0.56,0.78,0.27,0.452,0.171,0.636,0.494,0.424,0.595,0.495,0.5529999999999999,0.392,0.386,0.374,0.56,0.78,0.27,0.452,0.171,0.636,0.107,0.09300000000000001,0.562,0.21899999999999997,0.42200000000000004,0.645,0.324,0.6859999999999999,0.111,0.126,0.5720000000000001,0.21,0.42200000000000004,0.6409999999999999,0.35700000000000004,0.659,0.507,0.745,0.489,0.568,0.373,0.58,0.5579999999999999,0.276,0.515,0.369,0.33399999999999996,0.37,0.27,0.672,0.753,0.41600000000000004,0.507,0.745,0.489,0.568,0.373,0.58,0.5579999999999999,0.276,0.515,0.369,0.33399999999999996,0.37,0.27,0.672,0.753,0.41600000000000004,0.57,0.7170000000000001,0.461,0.5529999999999999,0.375,0.56,0.5,0.276,0.505,0.358,0.336,0.39299999999999996,0.297,0.703,0.705,0.48,0.57,0.7170000000000001,0.461,0.5529999999999999,0.375,0.56,0.5,0.276,0.505,0.358,0.336,0.39299999999999996,0.297,0.703,0.705,0.48,0.317,0.0985,0.6459999999999999,0.41100000000000003,0.344,0.647,0.41,0.217,0.26,0.371,0.174,0.225,0.145,0.325,0.0927,0.631,0.41600000000000004,0.36,0.632,0.395,0.162,0.257,0.37799999999999995,0.155,0.201,0.136,0.317,0.0985,0.6459999999999999,0.41100000000000003,0.344,0.647,0.41,0.217,0.26,0.371,0.174,0.225,0.325,0.0927,0.631,0.41600000000000004,0.36,0.632,0.395,0.162,0.257,0.37799999999999995,0.155,0.201,0.317,0.0985,0.6459999999999999,0.41100000000000003,0.344,0.647,0.41,0.217,0.26,0.371,0.174,0.225,0.145,0.102,0.317,0.0985,0.6459999999999999,0.41100000000000003,0.344,0.647,0.41,0.217,0.26,0.371,0.174,0.225,0.134,0.325,0.0927,0.631,0.41600000000000004,0.36,0.632,0.395,0.162,0.257,0.37799999999999995,0.155,0.201,0.136,0.52,0.5770000000000001,0.5820000000000001,0.213,0.52,0.67,0.3,0.597,0.541,0.19899999999999998,0.628,0.306,0.84,0.639,0.5379999999999999,0.59,0.764,0.593,0.259,0.5870000000000001,0.522,0.368,0.325,0.218,0.371,0.614,0.313],\"xaxis\":\"x\",\"y\":[0.5820000000000001,0.633,0.47100000000000003,0.72,0.775,0.583,0.652,0.606,0.7240000000000001,0.449,0.765,0.5539999999999999,0.478,0.677,0.591,0.627,0.46,0.687,0.777,0.583,0.639,0.605,0.7340000000000001,0.449,0.755,0.5660000000000001,0.495,0.677,0.591,0.627,0.46,0.687,0.777,0.583,0.639,0.605,0.7340000000000001,0.449,0.755,0.5660000000000001,0.495,0.677,0.731,0.557,0.479,0.619,0.585,0.562,0.621,0.535,0.535,0.7979999999999999,0.705,0.7,0.523,0.23800000000000002,0.728,0.561,0.473,0.617,0.585,0.545,0.5660000000000001,0.534,0.54,0.8009999999999999,0.682,0.6970000000000001,0.49700000000000005,0.23800000000000002,0.728,0.561,0.473,0.617,0.585,0.545,0.5660000000000001,0.534,0.54,0.8009999999999999,0.682,0.6970000000000001,0.49700000000000005,0.23800000000000002,0.23800000000000002,0.523,0.7,0.705,0.7979999999999999,0.535,0.535,0.621,0.562,0.585,0.619,0.479,0.557,0.731,0.23800000000000002,0.49700000000000005,0.6970000000000001,0.682,0.8009999999999999,0.54,0.534,0.5660000000000001,0.545,0.585,0.617,0.473,0.561,0.728,0.23800000000000002,0.49700000000000005,0.6970000000000001,0.682,0.8009999999999999,0.54,0.534,0.5660000000000001,0.545,0.585,0.617,0.473,0.561,0.728,0.584,0.508,0.5489999999999999,0.128,0.62,0.541,0.46299999999999997,0.524,0.5710000000000001,0.494,0.544,0.11,0.644,0.5479999999999999,0.451,0.522,0.787,0.8959999999999999,0.657,0.731,0.489,0.7979999999999999,0.7659999999999999,0.6859999999999999,0.743,0.6609999999999999,0.7290000000000001,0.5579999999999999,0.852,0.635,0.809,0.525,0.787,0.8959999999999999,0.657,0.731,0.489,0.7979999999999999,0.7659999999999999,0.6859999999999999,0.743,0.6609999999999999,0.7290000000000001,0.5579999999999999,0.852,0.635,0.809,0.525,0.778,0.892,0.639,0.745,0.484,0.7829999999999999,0.75,0.6970000000000001,0.737,0.627,0.732,0.5579999999999999,0.841,0.631,0.777,0.516,0.778,0.892,0.639,0.745,0.484,0.7829999999999999,0.75,0.6970000000000001,0.737,0.627,0.732,0.5579999999999999,0.841,0.631,0.777,0.516,0.508,0.698,0.6509999999999999,0.611,0.531,0.5720000000000001,0.831,0.7290000000000001,0.485,0.753,0.45799999999999996,0.907,0.778,0.502,0.685,0.645,0.561,0.537,0.561,0.833,0.6759999999999999,0.474,0.748,0.457,0.9109999999999999,0.772,0.508,0.698,0.6509999999999999,0.611,0.531,0.5720000000000001,0.831,0.7290000000000001,0.485,0.753,0.45799999999999996,0.907,0.502,0.685,0.645,0.561,0.537,0.561,0.833,0.6759999999999999,0.474,0.748,0.457,0.9109999999999999,0.508,0.698,0.6509999999999999,0.611,0.531,0.5720000000000001,0.831,0.7290000000000001,0.485,0.753,0.45799999999999996,0.907,0.778,0.8140000000000001,0.508,0.698,0.6509999999999999,0.611,0.531,0.5720000000000001,0.831,0.7290000000000001,0.485,0.753,0.45799999999999996,0.907,0.773,0.502,0.685,0.645,0.561,0.537,0.561,0.833,0.6759999999999999,0.474,0.748,0.457,0.9109999999999999,0.772,0.883,0.8690000000000001,0.799,0.696,0.835,0.537,0.828,0.892,0.738,0.8540000000000001,0.807,0.731,0.524,0.8390000000000001,0.8270000000000001,0.5329999999999999,0.8009999999999999,0.6920000000000001,0.537,0.8140000000000001,0.8029999999999999,0.779,0.843,0.733,0.591,0.6809999999999999,0.835],\"yaxis\":\"y\",\"type\":\"scattergl\"},{\"customdata\":[[\"10/10 - Live at Radio City Music Hall\"],[\"Never Enough - Live at Radio City Music Hall\"],[\"Pluto Projector - Live at Radio City Music Hall\"],[\"Untitled - Live at Radio City Music Hall\"],[\"New York State Of Mind - Live at Radio City Music Hall\"],[\"Corduroy Dreams - Live at Radio City Music Hall\"],[\"Sunflower - Live at Radio City Music Hall\"],[\"Best Friend - Live at Radio City Music Hall\"],[\"Always - Live at Radio City Music Hall\"],[\"10/10\"],[\"Always\"],[\"Laser Lights\"],[\"Face to Face\"],[\"Stressed Out\"],[\"Never Had The Balls\"],[\"Pluto Projector\"],[\"Every Way\"],[\"It Gets Better\"],[\"It's Not The Same Anymore\"],[\"Apricot Princess\"],[\"Television / So Far So Good\"],[\"Nothing\"],[\"Sycamore Girl\"],[\"Untitled\"],[\"4 Seasons\"],[\"Waiting Room\"],[\"Rain Man\"],[\"Never Enough\"],[\"Happiness\"],[\"Rex (Intro)\"],[\"Paradise\"],[\"Belly (The Grass Stains)\"],[\"Corduroy Dreams\"],[\"Japan\"],[\"Portrait of Ned\"],[\"Green Eyes, Pt. II\"],[\"A Song About Being Sad\"],[\"Know Love\"],[\"Curfew...\"]],\"hovertemplate\":\"Artist(s)=Rex Orange County<br>Positiveness (valence)=%{x}<br>Energy=%{y}<br>Song Title=%{customdata[0]}<extra></extra>\",\"legendgroup\":\"Rex Orange County\",\"marker\":{\"color\":\"#B6E880\",\"symbol\":\"circle\"},\"mode\":\"markers\",\"name\":\"Rex Orange County\",\"showlegend\":true,\"x\":[0.266,0.40700000000000003,0.262,0.342,0.33399999999999996,0.28300000000000003,0.27399999999999997,0.322,0.267,0.293,0.39399999999999996,0.2,0.442,0.196,0.35100000000000003,0.188,0.428,0.521,0.359,0.249,0.318,0.37799999999999995,0.18899999999999997,0.32899999999999996,0.17,0.17800000000000002,0.321,0.536,0.19699999999999998,0.13,0.36200000000000004,0.08800000000000001,0.222,0.727,0.525,0.5870000000000001,0.247,0.187,0.201],\"xaxis\":\"x\",\"y\":[0.691,0.9159999999999999,0.377,0.33299999999999996,0.402,0.539,0.858,0.8190000000000001,0.767,0.909,0.373,0.40299999999999997,0.441,0.319,0.677,0.21899999999999997,0.0994,0.379,0.317,0.46799999999999997,0.505,0.418,0.386,0.19899999999999998,0.45799999999999996,0.345,0.292,0.8909999999999999,0.235,0.245,0.528,0.0842,0.305,0.478,0.5479999999999999,0.747,0.263,0.235,0.19699999999999998],\"yaxis\":\"y\",\"type\":\"scattergl\"},{\"customdata\":[[\"Situations\"],[\"In The Mood\"],[\"West Coast Getaway\"],[\"Slow Jam Hour - Interlude\"],[\"Come Thru\"],[\"Birthday Suit\"],[\"Once Upon A Time\"],[\"You Could Be - Interlude\"],[\"Hypnotized\"],[\"Reassurance\"],[\"Other Half\"],[\"Miles In Between\"],[\"Situations\"],[\"In the Mood\"],[\"West Coast Getaway (Feat. The Cool Kids)\"],[\"Slow Jam Hour (Interlude)\"],[\"Come Thru (Feat. Asher Roth)\"],[\"Birthday Suit\"],[\"Once Upon a Time\"],[\"You Could Be (Interlude)\"],[\"Hypnotized (Feat. Blu)\"],[\"Reassurance\"],[\"Other Half\"],[\"Miles In Between (Feat. Joyce Wrice)\"],[\"Situations\"],[\"In the Mood\"],[\"West Coast Getaway (feat. the Cool Kids)\"],[\"Slow Jam Hour (Interlude)\"],[\"Come Thru (feat. Asher Roth)\"],[\"Birthday Suit\"],[\"Once Upon a Time\"],[\"You Could Be (Interlude)\"],[\"Hypnotized (feat. Blu)\"],[\"Reassurance\"],[\"Other Half\"],[\"Miles in Between (feat. Joyce Wrice)\"],[\"For You (Intro)\"],[\"This And That\"],[\"What` Cha Need\"],[\"Lapdance\"],[\"No Time For Sleep (Interlude)\"],[\"Love Affair\"],[\"Back Seat\"],[\"If I Could\"],[\"Queen\"],[\"Think Of The Time\"],[\"I Remember When\"],[\"Intro\"],[\"First Class\"],[\"Workflow (feat. Dumbfoundead)\"],[\"Higher\"],[\"Heaven Sent\"],[\"Pillow Talk\"],[\"Boogie Down\"],[\"Lavish\"],[\"Mind vs Heart\"],[\"Dream Team\"],[\"Plenty of Reasons\"],[\"Various Places\"],[\"Intro\"],[\"First Class\"],[\"Workflow (Feat. Dumbfoundead)\"],[\"Higher\"],[\"Heaven Sent\"],[\"Pillow Talk\"],[\"Boogie Down\"],[\"Lavish\"],[\"Mind VS Heart\"],[\"Dream Team\"],[\"Plenty Of Reasons\"],[\"Various Places\"],[\"Bonjour (Intro)\"],[\"Cool Girls\"],[\"Just Vibe\"],[\"Doesn`t Matter\"],[\"My Dear\"],[\"Ms. Seductive\"],[\"Girl At The Coffee Shop\"],[\"If You Wonder\"],[\"Call You Mine (Feat. Geologic Of The Blue Scholars)\"],[\"Groovin`\"],[\"Moonlight Chemistry\"],[\"With Love (Feat. Mosaek)\"],[\"Bonjour (Intro)\"],[\"Cool Girls\"],[\"Just Vibe\"],[\"Doesn't Matter\"],[\"My Dear\"],[\"Ms. Seductive\"],[\"Girl At The Coffee Shop\"],[\"If You Wonder\"],[\"Call You Mine (feat. Geologic Of The Blue Scholars)\"],[\"Groovin'\"],[\"Moonlight Chemistry\"],[\"With Love (feat. Mosaek)\"]],\"hovertemplate\":\"Artist(s)=Jeff Bernat<br>Positiveness (valence)=%{x}<br>Energy=%{y}<br>Song Title=%{customdata[0]}<extra></extra>\",\"legendgroup\":\"Jeff Bernat\",\"marker\":{\"color\":\"#FF97FF\",\"symbol\":\"circle\"},\"mode\":\"markers\",\"name\":\"Jeff Bernat\",\"showlegend\":true,\"x\":[0.379,0.408,0.8340000000000001,0.653,0.342,0.8079999999999999,0.614,0.828,0.863,0.573,0.39399999999999996,0.272,0.38299999999999995,0.385,0.8140000000000001,0.6579999999999999,0.32899999999999996,0.78,0.595,0.8170000000000001,0.8420000000000001,0.546,0.36200000000000004,0.26,0.39899999999999997,0.385,0.8140000000000001,0.6579999999999999,0.32899999999999996,0.78,0.594,0.821,0.8440000000000001,0.545,0.366,0.255,0.406,0.915,0.535,0.24,0.345,0.35,0.433,0.531,0.735,0.311,0.6729999999999999,0.29,0.693,0.79,0.441,0.237,0.6859999999999999,0.65,0.789,0.5329999999999999,0.44,0.9129999999999999,0.665,0.28600000000000003,0.6940000000000001,0.7659999999999999,0.466,0.262,0.672,0.64,0.784,0.5379999999999999,0.43799999999999994,0.909,0.652,0.8190000000000001,0.82,0.8059999999999999,0.507,0.35200000000000004,0.35,0.49700000000000005,0.638,0.622,0.905,0.22899999999999998,0.585,0.888,0.809,0.8029999999999999,0.52,0.33299999999999996,0.331,0.515,0.634,0.632,0.8959999999999999,0.223,0.556],\"xaxis\":\"x\",\"y\":[0.488,0.49200000000000005,0.556,0.42100000000000004,0.24600000000000002,0.369,0.295,0.48,0.348,0.457,0.424,0.27,0.47700000000000004,0.498,0.5589999999999999,0.401,0.239,0.36200000000000004,0.302,0.475,0.355,0.47,0.418,0.275,0.478,0.498,0.5589999999999999,0.401,0.239,0.36200000000000004,0.302,0.475,0.355,0.47,0.42100000000000004,0.275,0.5670000000000001,0.298,0.524,0.419,0.33,0.441,0.5539999999999999,0.478,0.381,0.46299999999999997,0.447,0.473,0.59,0.436,0.498,0.27899999999999997,0.58,0.413,0.40399999999999997,0.424,0.379,0.6559999999999999,0.34,0.46799999999999997,0.57,0.434,0.499,0.273,0.5760000000000001,0.41700000000000004,0.425,0.428,0.373,0.6409999999999999,0.33899999999999997,0.452,0.603,0.40399999999999997,0.518,0.32299999999999995,0.35600000000000004,0.677,0.516,0.574,0.49700000000000005,0.6409999999999999,0.457,0.451,0.604,0.41,0.526,0.335,0.35,0.679,0.521,0.5710000000000001,0.498,0.634,0.452],\"yaxis\":\"y\",\"type\":\"scattergl\"},{\"customdata\":[[\"Sunny & 62\"],[\"Sometimes\"],[\"Nothing Else\"],[\"Brand New\"],[\"Never Let Me Go\"],[\"Every Time\"],[\"Where U Goin' Tonight?\"],[\"Almost Home\"],[\"I Wanna Give Up\"],[\"Shadows\"],[\"I Just Need Love\"],[\"Where Do We Go from Here?\"],[\"Get Away\"],[\"Summertime - Live\"],[\"Jumping Off the Moon\"],[\"Walking Home\"],[\"Shit Covered in Gold\"],[\"Saving\"],[\"Caught Up\"],[\"Fears\"],[\"Smiley Boy - Live\"],[\"Come Thru\"],[\"Better\"],[\"Something More\"],[\"Next to You\"],[\"Roses\"],[\"Under\"],[\"Soon\"],[\"Get to You Again\"],[\"I've Always Been\"],[\"Waiting\"],[\"Pickled Ginger\"],[\"Something to Feel\"],[\"This Bag\"],[\"Stay\"],[\"Intro\"],[\"Calvin's Joint\"],[\"The Devil's in the Details\"],[\"Slow Down\"],[\"Should We Take The Van?\"],[\"Show Me\"],[\"Lonely\"],[\"Easy\"],[\"Change Ya Mind\"]],\"hovertemplate\":\"Artist(s)=Mac Ayres<br>Positiveness (valence)=%{x}<br>Energy=%{y}<br>Song Title=%{customdata[0]}<extra></extra>\",\"legendgroup\":\"Mac Ayres\",\"marker\":{\"color\":\"#FECB52\",\"symbol\":\"circle\"},\"mode\":\"markers\",\"name\":\"Mac Ayres\",\"showlegend\":true,\"x\":[0.193,0.33799999999999997,0.391,0.0797,0.377,0.396,0.787,0.514,0.6629999999999999,0.188,0.7979999999999999,0.794,0.322,0.179,0.48200000000000004,0.455,0.33299999999999996,0.446,0.5820000000000001,0.27399999999999997,0.28,0.64,0.8140000000000001,0.7020000000000001,0.0689,0.276,0.544,0.0539,0.27699999999999997,0.45299999999999996,0.382,0.284,0.57,0.32799999999999996,0.415,0.389,0.28300000000000003,0.5429999999999999,0.184,0.665,0.455,0.35600000000000004,0.217,0.146],\"xaxis\":\"x\",\"y\":[0.47600000000000003,0.46799999999999997,0.642,0.318,0.679,0.5579999999999999,0.721,0.825,0.71,0.506,0.6859999999999999,0.618,0.672,0.595,0.6859999999999999,0.5820000000000001,0.43200000000000005,0.595,0.612,0.387,0.242,0.738,0.5479999999999999,0.59,0.332,0.382,0.366,0.0396,0.429,0.38,0.47100000000000003,0.34700000000000003,0.525,0.15,0.27,0.402,0.6559999999999999,0.507,0.33799999999999997,0.799,0.47100000000000003,0.353,0.282,0.166],\"yaxis\":\"y\",\"type\":\"scattergl\"},{\"customdata\":[[\"Sinners Prayer\"],[\"Walking Again\"],[\"Floating\"],[\"Right Now\"],[\"Euphoria\"],[\"Sapiosexual\"],[\"Friend Zone\"],[\"Blitz\"],[\"Nightmares (feat. Lil Durk)\"],[\"Psalm 51\"],[\"Don\\u2019t Tell\"],[\"Calls\"],[\"Poetic Pain\"],[\"Love Cycle (with Summer Walker)\"],[\"No Lies\"],[\"Telly Telly\"],[\"Witchcraft\"],[\"Sinners Prayer\"],[\"Walking Again\"],[\"Floating\"],[\"Right Now\"],[\"Euphoria\"],[\"Sapiosexual\"],[\"Friend Zone\"],[\"Blitz\"],[\"Nightmares\"],[\"Psalm 51\"],[\"Don't Tell\"],[\"Calls\"],[\"Poetic Pain\"],[\"Love Cycle\"],[\"No Lies\"],[\"Telly Telly\"],[\"Witchcraft\"],[\"Why You Think\"],[\"Sky Red\"],[\"Truth Be Told\"],[\"Red Lights\"],[\"Back From The Dead\"],[\"Pain Killers\"],[\"Mercedez\"],[\"Love Cycle\"],[\"Patek Water\"],[\"Down To Ride\"],[\"Choir Music\"],[\"Not Easy\"],[\"Other Side\"],[\"Why You Think\"],[\"Sky Red\"],[\"Truth Be Told\"],[\"Red Lights\"],[\"Back From The Dead\"],[\"Pain Killers\"],[\"Mercedez\"],[\"Love Cycle\"],[\"Patek Water\"],[\"Down To Ride\"],[\"Choir Music\"],[\"Not Easy\"],[\"Other Side\"],[\"Who Dat\"],[\"Turmoil\"],[\"Leah\"],[\"4ourty\"],[\"Leah, Pt. 2\"],[\"Pesos\"],[\"Wicked Feelings\"],[\"Opps\"],[\"Life Of Crime\"],[\"Russian Roulette\"],[\"Who Dat\"],[\"Turmoil\"],[\"Leah\"],[\"4ourty\"],[\"Leah, Pt. 2\"],[\"Pesos\"],[\"Wicked Feelings\"],[\"Opps\"],[\"Life of Crime\"],[\"Russian Roulette\"],[\"For the Family\"],[\"On My Ass\"],[\"My City\"],[\"Pain\"],[\"Made For\"],[\"On Me\"],[\"Paparazzi\"]],\"hovertemplate\":\"Artist(s)=Toosii<br>Positiveness (valence)=%{x}<br>Energy=%{y}<br>Song Title=%{customdata[0]}<extra></extra>\",\"legendgroup\":\"Toosii\",\"marker\":{\"color\":\"#636efa\",\"symbol\":\"circle\"},\"mode\":\"markers\",\"name\":\"Toosii\",\"showlegend\":true,\"x\":[0.298,0.45799999999999996,0.596,0.353,0.36,0.377,0.322,0.5489999999999999,0.506,0.528,0.391,0.47,0.33399999999999996,0.429,0.47200000000000003,0.273,0.5,0.253,0.48200000000000004,0.578,0.317,0.35700000000000004,0.382,0.336,0.49700000000000005,0.501,0.5429999999999999,0.32799999999999996,0.473,0.242,0.424,0.488,0.254,0.54,0.27399999999999997,0.536,0.425,0.447,0.264,0.209,0.375,0.498,0.282,0.276,0.5,0.248,0.21600000000000003,0.271,0.455,0.39399999999999996,0.505,0.292,0.16,0.364,0.436,0.298,0.256,0.47,0.42700000000000005,0.212,0.631,0.36,0.21600000000000003,0.445,0.358,0.431,0.14800000000000002,0.402,0.132,0.643,0.7170000000000001,0.369,0.203,0.447,0.37799999999999995,0.45899999999999996,0.136,0.40399999999999997,0.13,0.5720000000000001,0.264,0.414,0.45899999999999996,0.491,0.212,0.354,0.46],\"xaxis\":\"x\",\"y\":[0.34299999999999997,0.42,0.424,0.441,0.58,0.429,0.474,0.605,0.519,0.7240000000000001,0.585,0.39899999999999997,0.632,0.451,0.513,0.35600000000000004,0.562,0.354,0.415,0.426,0.44299999999999995,0.602,0.441,0.49200000000000005,0.634,0.518,0.723,0.609,0.39299999999999996,0.622,0.457,0.535,0.355,0.5720000000000001,0.6,0.429,0.45,0.693,0.426,0.6709999999999999,0.6609999999999999,0.37799999999999995,0.562,0.495,0.456,0.53,0.419,0.588,0.435,0.426,0.647,0.434,0.691,0.71,0.32899999999999996,0.561,0.493,0.457,0.519,0.429,0.607,0.563,0.669,0.461,0.58,0.563,0.563,0.607,0.562,0.72,0.596,0.565,0.6729999999999999,0.46299999999999997,0.586,0.565,0.5770000000000001,0.615,0.563,0.616,0.5660000000000001,0.579,0.636,0.57,0.564,0.512,0.578],\"yaxis\":\"y\",\"type\":\"scattergl\"},{\"customdata\":[[\"Destined 2 Win\"],[\"Calling My Phone\"],[\"Headshot (feat. Polo G & Fivio Foreign)\"],[\"Run It Up (feat. Offset & Moneybagg Yo)\"],[\"Irregular Love\"],[\"Slow Down\"],[\"Part of the Plan\"],[\"Move (feat. Saweetie)\"],[\"Oh Well\"],[\"Love Hurts (feat. Toosii)\"],[\"Go Crazy\"],[\"Nuf Said\"],[\"No Cap\"],[\"Born 2 Be Great\"],[\"Hood Rich\"],[\"What You Wanna Do\"],[\"Life Changed\"],[\"Gang Gang\"],[\"Losses - Bonus\"],[\"Move On - Bonus\"],[\"None of Your Love - Bonus\"],[\"Destined 2 Win\"],[\"Born 2 Be Great\"],[\"Calling My Phone\"],[\"What You Wanna Do\"],[\"Hood Rich\"],[\"Oh Well\"],[\"Headshot (feat. Polo G & Fivio Foreign)\"],[\"Gang Gang\"],[\"Go Crazy\"],[\"Irregular Love\"],[\"Move (feat. Saweetie)\"],[\"Slow Down\"],[\"Love Hurts (feat. Toosii)\"],[\"Run It Up (feat. Offset & Moneybagg Yo)\"],[\"Part of the Plan\"],[\"No Cap\"],[\"Life Changed\"],[\"Nuf Said\"],[\"Losses - Bonus\"],[\"Move On - Bonus\"],[\"None of Your Love - Bonus\"],[\"Destined 2 Win\"],[\"Born 2 Be Great\"],[\"Calling My Phone\"],[\"What You Wanna Do\"],[\"Hood Rich\"],[\"Oh Well\"],[\"Headshot (feat. Polo G & Fivio Foreign)\"],[\"Gang Gang\"],[\"Go Crazy\"],[\"Irregular Love\"],[\"Move (feat. Saweetie)\"],[\"Slow Down\"],[\"Love Hurts (feat. Toosii)\"],[\"Run It Up (feat. Offset & Moneybagg Yo)\"],[\"Part of the Plan\"],[\"No Cap\"],[\"Life Changed\"],[\"Nuf Said\"],[\"Losses - Bonus\"],[\"Move On - Bonus\"],[\"None of Your Love - Bonus\"],[\"Ice Cold\"],[\"Zoo York (feat. Fivio Foreign & Pop Smoke)\"],[\"Shoot for the Stars (feat. Fivio Foreign)\"],[\"Wet Em Up Pt. 2\"],[\"City on My Back\"],[\"My City\"],[\"Gettin Lit\"],[\"Ice Cold\"],[\"Zoo York (feat. Fivio Foreign & Pop Smoke)\"],[\"Shoot for the Stars (feat. Fivio Foreign)\"],[\"Wet Em Up Pt. 2\"],[\"City on My Back\"],[\"My City\"],[\"Gettin Lit\"],[\"One Take\"],[\"Hold On\"],[\"F.N\"],[\"Dream That I Had\"],[\"Post To Be (feat. Rileyy Lanez)\"],[\"Ruthless (feat. Jay Critch)\"],[\"Mixed Emotions\"],[\"Decline (feat. Lil Baby)\"],[\"Sex Sounds\"],[\"Leaked\"],[\"Laneswitch\"],[\"Brothers\"],[\"Goat\"],[\"Top of My Game\"],[\"No Escape\"],[\"Brothers (feat. Lil Durk) - Remix\"],[\"Leaked (feat. Lil Wayne) - Remix\"]],\"hovertemplate\":\"Artist(s)=Lil Tjay<br>Positiveness (valence)=%{x}<br>Energy=%{y}<br>Song Title=%{customdata[0]}<extra></extra>\",\"legendgroup\":\"Lil Tjay\",\"marker\":{\"color\":\"#EF553B\",\"symbol\":\"circle\"},\"mode\":\"markers\",\"name\":\"Lil Tjay\",\"showlegend\":true,\"x\":[0.48100000000000004,0.20199999999999999,0.395,0.6709999999999999,0.57,0.254,0.248,0.447,0.539,0.5479999999999999,0.23399999999999999,0.6,0.107,0.192,0.391,0.124,0.5670000000000001,0.5539999999999999,0.22699999999999998,0.349,0.51,0.48100000000000004,0.192,0.20199999999999999,0.124,0.391,0.539,0.395,0.5539999999999999,0.23399999999999999,0.57,0.447,0.254,0.5479999999999999,0.6709999999999999,0.248,0.107,0.5670000000000001,0.6,0.22699999999999998,0.349,0.51,0.5529999999999999,0.26899999999999996,0.19699999999999998,0.133,0.32899999999999996,0.579,0.37,0.535,0.223,0.54,0.555,0.26,0.491,0.669,0.252,0.0961,0.496,0.373,0.172,0.319,0.56,0.0717,0.303,0.501,0.5760000000000001,0.244,0.335,0.643,0.0744,0.27899999999999997,0.46799999999999997,0.705,0.258,0.33299999999999996,0.669,0.35100000000000003,0.685,0.321,0.33,0.49,0.35600000000000004,0.431,0.51,0.366,0.321,0.34600000000000003,0.57,0.469,0.5770000000000001,0.29,0.5589999999999999,0.3],\"xaxis\":\"x\",\"y\":[0.304,0.39299999999999996,0.639,0.575,0.49700000000000005,0.736,0.579,0.541,0.611,0.40399999999999997,0.591,0.434,0.495,0.512,0.667,0.56,0.597,0.489,0.457,0.722,0.722,0.304,0.512,0.39299999999999996,0.56,0.667,0.611,0.639,0.489,0.591,0.49700000000000005,0.541,0.736,0.40399999999999997,0.575,0.579,0.495,0.597,0.434,0.457,0.722,0.722,0.303,0.465,0.38799999999999996,0.5720000000000001,0.644,0.5920000000000001,0.622,0.489,0.5770000000000001,0.47600000000000003,0.48700000000000004,0.7190000000000001,0.389,0.545,0.552,0.48700000000000004,0.607,0.42200000000000004,0.478,0.7440000000000001,0.715,0.627,0.569,0.695,0.645,0.546,0.584,0.514,0.608,0.5670000000000001,0.7020000000000001,0.568,0.528,0.5479999999999999,0.465,0.615,0.602,0.515,0.5429999999999999,0.6609999999999999,0.5920000000000001,0.502,0.589,0.42700000000000005,0.619,0.684,0.42,0.6809999999999999,0.405,0.525,0.489,0.611],\"yaxis\":\"y\",\"type\":\"scattergl\"},{\"customdata\":[[\"Don't Believe The Hype\"],[\"Heartless (feat. Mustard)\"],[\"Martin & Gina\"],[\"Flex (feat. Juice WRLD)\"],[\"Go Stupid\"],[\"21\"],[\"33\"],[\"I Know\"],[\"Beautiful Pain (Losin My Mind)\"],[\"No Matter What\"],[\"Be Something (feat. Lil Baby)\"],[\"Relentless\"],[\"DND\"],[\"Chinatown\"],[\"Trials & Tribulations\"],[\"Wishing For A Hero (feat. BJ The Chicago Kid)\"],[\"Don't Believe The Hype\"],[\"Heartless (feat. Mustard)\"],[\"Martin & Gina\"],[\"Flex (feat. Juice WRLD)\"],[\"Go Stupid (feat. NLE Choppa & Mike WiLL Made-It)\"],[\"21\"],[\"33\"],[\"I Know\"],[\"Beautiful Pain (Losin My Mind)\"],[\"No Matter What\"],[\"Be Something (feat. Lil Baby)\"],[\"Relentless\"],[\"DND\"],[\"Chinatown\"],[\"Trials & Tribulations\"],[\"Wishing For A Hero (feat. BJ The Chicago Kid)\"],[\"Lost Files\"],[\"Dyin Breed\"],[\"Through Da Storm\"],[\"Effortless\"],[\"Pop Out (feat. Lil Tjay)\"],[\"Battle Cry\"],[\"BST\"],[\"Finer Things\"],[\"Picture This\"],[\"Chosen 1\"],[\"Deep Wounds\"],[\"Last Strike\"],[\"A King's Nightmare\"],[\"Pop Out Again (feat. Lil Baby & Gunna)\"]],\"hovertemplate\":\"Artist(s)=Polo G<br>Positiveness (valence)=%{x}<br>Energy=%{y}<br>Song Title=%{customdata[0]}<extra></extra>\",\"legendgroup\":\"Polo G\",\"marker\":{\"color\":\"#00cc96\",\"symbol\":\"circle\"},\"mode\":\"markers\",\"name\":\"Polo G\",\"showlegend\":true,\"x\":[0.418,0.326,0.11599999999999999,0.35,0.645,0.5329999999999999,0.11699999999999999,0.557,0.512,0.456,0.248,0.276,0.231,0.7290000000000001,0.545,0.188,0.41700000000000004,0.361,0.156,0.419,0.7240000000000001,0.53,0.0958,0.527,0.446,0.478,0.297,0.3,0.20800000000000002,0.6729999999999999,0.518,0.126,0.397,0.42700000000000005,0.621,0.39899999999999997,0.261,0.34700000000000003,0.633,0.131,0.406,0.364,0.33899999999999997,0.47700000000000004,0.321,0.364],\"xaxis\":\"x\",\"y\":[0.679,0.64,0.534,0.6729999999999999,0.833,0.479,0.462,0.665,0.47700000000000004,0.705,0.52,0.5579999999999999,0.797,0.5,0.612,0.589,0.677,0.632,0.513,0.628,0.813,0.478,0.349,0.654,0.486,0.6709999999999999,0.698,0.475,0.789,0.509,0.556,0.588,0.723,0.599,0.49,0.445,0.639,0.597,0.603,0.45,0.604,0.5760000000000001,0.5720000000000001,0.594,0.728,0.6890000000000001],\"yaxis\":\"y\",\"type\":\"scattergl\"},{\"customdata\":[[\"6 For 6\"],[\"Fraud\"],[\"Pinging (6 Figures)\"],[\"The Bag\"],[\"Day in the Life\"],[\"Dun Deal\"],[\"Commitment Issues\"],[\"Sex Money Drugs\"],[\"Ruby\"],[\"Hate It Or Luv It\"],[\"Xmas Eve\"],[\"Loading\"],[\"Tension\"],[\"Gangbiz\"]],\"hovertemplate\":\"Artist(s)=Central Cee<br>Positiveness (valence)=%{x}<br>Energy=%{y}<br>Song Title=%{customdata[0]}<extra></extra>\",\"legendgroup\":\"Central Cee\",\"marker\":{\"color\":\"#ab63fa\",\"symbol\":\"circle\"},\"mode\":\"markers\",\"name\":\"Central Cee\",\"showlegend\":true,\"x\":[0.623,0.885,0.8370000000000001,0.601,0.757,0.703,0.795,0.619,0.6890000000000001,0.966,0.486,0.6940000000000001,0.5489999999999999,0.7829999999999999],\"xaxis\":\"x\",\"y\":[0.792,0.7,0.847,0.603,0.5710000000000001,0.583,0.71,0.556,0.581,0.634,0.7659999999999999,0.68,0.619,0.679],\"yaxis\":\"y\",\"type\":\"scattergl\"},{\"customdata\":[[\"Intro\"],[\"Bluuwuu\"],[\"Chingy (It\\u2019s Whatever)\"],[\"Bringing It Back\"],[\"No Chorus\"],[\"Woi\"],[\"Clout Is Killing My People\"],[\"Folknem\"],[\"My Brucky\"],[\"Gun Man Sound\"],[\"Window\"],[\"Trust Issues (I\\u2019m Joking I Trust My Mum)\"],[\"Toxic\"],[\"Intro\"],[\"Bluuwuu\"],[\"Chingy (It\\u2019s Whatever)\"],[\"Bringing It Back\"],[\"No Chorus\"],[\"Woi\"],[\"Clout Is Killing My People\"],[\"Folknem\"],[\"My Brucky\"],[\"Gun Man Sound\"],[\"Window\"],[\"Trust Issues (I\\u2019m Joking I Trust My Mum)\"],[\"P4DP\"],[\"No Diet\"],[\"Imagine\"],[\"They Wanna Know\"],[\"Never Fear\"],[\"What's Love?\"],[\"I Heard\"],[\"Shotty Shane\"],[\"Double Tap Days\"],[\"6+4\"]],\"hovertemplate\":\"Artist(s)=Digga D<br>Positiveness (valence)=%{x}<br>Energy=%{y}<br>Song Title=%{customdata[0]}<extra></extra>\",\"legendgroup\":\"Digga D\",\"marker\":{\"color\":\"#FFA15A\",\"symbol\":\"circle\"},\"mode\":\"markers\",\"name\":\"Digga D\",\"showlegend\":true,\"x\":[0.511,0.872,0.742,0.789,0.655,0.7140000000000001,0.865,0.883,0.669,0.593,0.225,0.633,0.276,0.511,0.872,0.742,0.789,0.655,0.7140000000000001,0.865,0.883,0.669,0.593,0.225,0.633,0.447,0.43200000000000005,0.625,0.531,0.682,0.249,0.563,0.5539999999999999,0.7290000000000001,0.7709999999999999],\"xaxis\":\"x\",\"y\":[0.6729999999999999,0.6809999999999999,0.645,0.7609999999999999,0.573,0.584,0.693,0.684,0.72,0.679,0.67,0.6559999999999999,0.62,0.6729999999999999,0.6809999999999999,0.645,0.7609999999999999,0.573,0.584,0.693,0.684,0.72,0.679,0.67,0.6559999999999999,0.569,0.5920000000000001,0.521,0.518,0.746,0.389,0.537,0.31,0.6729999999999999,0.579],\"yaxis\":\"y\",\"type\":\"scattergl\"},{\"customdata\":[[\"Life Goes On\"],[\"\\ub0b4 \\ubc29\\uc744 \\uc5ec\\ud589\\ud558\\ub294 \\ubc95\"],[\"Blue & Grey\"],[\"Skit\"],[\"\\uc7a0\\uc2dc\"],[\"\\ubcd1\"],[\"Stay\"],[\"Dynamite\"],[\"Life Goes On\"],[\"Fly To My Room\"],[\"Blue & Grey\"],[\"Skit\"],[\"Telepathy\"],[\"Dis-ease\"],[\"Stay\"],[\"Dynamite\"],[\"INTRO : Calling\"],[\"Stay Gold\"],[\"Boy With Luv - Japanese ver.\"],[\"Make It Right - Japanese ver.\"],[\"Dionysus - Japanese ver.\"],[\"IDOL - Japanese ver.\"],[\"Airplane pt.2 - Japanese ver.\"],[\"FAKE LOVE - Japanese ver.\"],[\"Black Swan - Japanese ver.\"],[\"ON - Japanese ver.\"],[\"Lights\"],[\"Your eyes tell\"],[\"OUTRO : The Journey\"],[\"Intro : Persona\"],[\"Boy With Luv (Feat. Halsey)\"],[\"Make It Right\"],[\"Jamais Vu\"],[\"Dionysus\"],[\"Interlude : Shadow\"],[\"Black Swan\"],[\"Filter\"],[\"My Time\"],[\"Louder than bombs\"],[\"ON\"],[\"UGH!\"],[\"00:00 (Zero O\\u2019Clock)\"],[\"Inner Child\"],[\"Friends\"],[\"Moon\"],[\"Respect\"],[\"We are Bulletproof : the Eternal\"],[\"Outro : Ego\"],[\"ON (Feat. Sia)\"],[\"Intro : Persona\"],[\"Boy With Luv (Feat. Halsey)\"],[\"Make It Right\"],[\"Jamais Vu\"],[\"Dionysus\"],[\"Interlude : Shadow\"],[\"Black Swan\"],[\"Filter\"],[\"My Time\"],[\"Louder than bombs\"],[\"ON\"],[\"UGH!\"],[\"00:00 (Zero O\\u2019Clock)\"],[\"Inner Child\"],[\"Friends\"],[\"Moon\"],[\"Respect\"],[\"We are Bulletproof : the Eternal\"],[\"Outro : Ego\"],[\"ON (Feat. Sia)\"],[\"Intro : Persona\"],[\"\\uc791\\uc740 \\uac83\\ub4e4\\uc744 \\uc704\\ud55c \\uc2dc (Boy With Luv) [feat. Halsey]\"],[\"Make It Right\"],[\"Jamais Vu\"],[\"Dionysus\"],[\"Interlude : Shadow\"],[\"Black Swan\"],[\"Filter\"],[\"My Time\"],[\"Louder than bombs\"],[\"ON\"],[\"\\uc6b1 (UGH!)\"],[\"00:00 (Zero O\\u2019Clock)\"],[\"Inner Child\"],[\"\\uce5c\\uad6c\"],[\"Moon\"],[\"Respect\"],[\"We are Bulletproof : the Eternal\"],[\"Outro : Ego\"],[\"ON (feat. Sia)\"],[\"Intro : Persona\"],[\"Boy With Luv (feat. Halsey)\"],[\"Mikrokosmos\"],[\"Make It Right\"],[\"HOME\"],[\"Jamais Vu\"],[\"Dionysus\"],[\"Intro : Persona\"],[\"\\uc791\\uc740 \\uac83\\ub4e4\\uc744 \\uc704\\ud55c \\uc2dc (Boy With Luv) [feat. Halsey]\"],[\"\\uc18c\\uc6b0\\uc8fc (Mikrokosmos)\"],[\"Make It Right\"],[\"HOME\"],[\"Jamais Vu\"],[\"Dionysus\"],[\"Intro: Singularity\"],[\"FAKE LOVE\"],[\"\\uc804\\ud558\\uc9c0 \\ubabb\\ud55c \\uc9c4\\uc2ec\"],[\"134340\"],[\"\\ub099\\uc6d0\"],[\"Love Maze\"],[\"Magic Shop\"],[\"Airplane pt.2\"],[\"Anpanman\"],[\"So What\"],[\"Outro: Tear\"],[\"INTRO : Ringwanderung\"],[\"Best Of Me - Japanese ver.\"],[\"\\u8840\\u3001\\u6c57\\u3001\\u6d99 - Japanese ver.\"],[\"DNA - Japanese ver.\"],[\"Not Today - Japanese ver.\"],[\"MIC Drop - Japanese ver.\"],[\"Don't Leave Me\"],[\"Go Go - Japanese ver.\"],[\"Crystal Snow\"],[\"Spring Day - Japanese ver.\"],[\"Let Go\"],[\"OUTRO : Crack\"],[\"Intro: Serendipity\"],[\"DNA\"],[\"Best Of Me\"],[\"\\ubcf4\\uc870\\uac1c\"],[\"Pied Piper\"],[\"Skit: Billboard Music Awards Speech\"],[\"MIC Drop\"],[\"\\uace0\\ubbfc\\ubcf4\\ub2e4 Go\"],[\"Outro: Her\"],[\"Intro: Boy Meets Evil\"],[\"Blood Sweat & Tears\"],[\"Begin\"],[\"Lie\"],[\"Stigma\"],[\"First Love\"],[\"Reflection\"],[\"Mama\"],[\"Awake\"],[\"Lost\"],[\"BTS Cypher 4\"],[\"Am I Wrong\"],[\"21st Century Girl\"],[\"2! 3!\"],[\"Spring Day\"],[\"Not Today\"],[\"Outro: Wings\"],[\"A Supplementary Story: You Never Walk Alone\"],[\"Intro: Boy Meets Evil\"],[\"Blood Sweat & Tears\"],[\"Begin\"],[\"Lie\"],[\"Stigma\"],[\"First Love\"],[\"Reflection\"],[\"MAMA\"],[\"Awake\"],[\"Lost\"],[\"BTS Cypher 4\"],[\"Am I Wrong\"],[\"21st Century Girl\"],[\"2! 3!\"],[\"Spring Day\"],[\"Not Today\"],[\"Outro: Wings\"],[\"A Supplementary Story: You Never Walk Alone\"],[\"Intro: Boy Meets Evil\"],[\"Blood Sweat & Tears\"],[\"Begin\"],[\"Lie\"],[\"Stigma\"],[\"First Love\"],[\"Reflection\"],[\"Mama\"],[\"Awake\"],[\"Lost\"],[\"BTS Cypher 4\"],[\"Am I Wrong\"],[\"21st Century Girl\"],[\"2! 3!\"],[\"Interlude: Wings\"],[\"Intro: Boy Meets Evil\"],[\"\\ud53c \\ub540 \\ub208\\ubb3c\"],[\"Begin\"],[\"Lie\"],[\"Stigma\"],[\"First Love\"],[\"Reflection\"],[\"MAMA\"],[\"Awake\"],[\"Lost\"],[\"BTS Cypher 4\"],[\"Am I Wrong\"],[\"21\\uc138\\uae30 \\uc18c\\ub140\"],[\"\\ub458! \\uc14b! (\\uadf8\\ub798\\ub3c4 \\uc88b\\uc740 \\ub0a0\\uc774 \\ub354 \\ub9ce\\uae30\\ub97c)\"],[\"Interlude: Wings\"],[\"INTRODUCTION : YOUTH\"],[\"RUN\\u2010Japanese Ver.\\u2010\"],[\"FIRE\\u2010Japanese Ver.\\u2010\"],[\"DOPE\\u2010\\u8d85\\u30e4\\u30d9\\u30fc!\\u2010(Japanese Ver.)\"],[\"Good Day\"],[\"Save ME\\u2010Japanese Ver.\\u2010\"],[\"\\u30d5\\u30f3\\u30bf\\u30f3\\u5c11\\u5e74\\u56e3(Japanese Ver.)\"],[\"\\u30da\\u30c3\\u30d7\\u30bb\\u2010Japanese Ver.\\u2010\"],[\"Wishing on a star\"],[\"Butterfly\\u2010Japanese Ver.\\u2010\"],[\"FOR YOU\"],[\"I NEED U(Japanese Ver.)\"],[\"EPILOGUE : Young Forever\\u2010Japanese Ver.\\u2010\"],[\"Intro : The Most Beautiful Moment In Life\"],[\"I Need U\"],[\"Hold Me Tight\"],[\"Autumn Leaves\"],[\"Butterfly - Prologue Mix\"],[\"Run\"],[\"Ma City\"],[\"Silver Spoon\"],[\"Dope\"],[\"Fire\"],[\"Save Me\"],[\"Epilogue : Young Forever\"],[\"Converse High\"],[\"Moving On\"],[\"Whalien 52\"],[\"Butterfly\"],[\"House Of Cards - Full Length Edition\"],[\"Love Is Not Over - Full Length Edition\"],[\"I Need U - Urban Mix\"],[\"I Need U - Remix\"],[\"Run - Ballad Mix\"],[\"Run - Alternative Mix\"],[\"Butterfly - Alternative Mix\"],[\"Intro: \\ud654\\uc591\\uc5f0\\ud654\"],[\"I Need U\"],[\"\\uc7a1\\uc544\\uc918 (Hold Me Tight)\"],[\"\\uace0\\uc5fd\"],[\"Butterfly (Prologue Mix)\"],[\"Run\"],[\"Ma City\"],[\"\\ubc41\\uc0c8\"],[\"\\uca54\\uc5b4\"],[\"\\ubd88\\ud0c0\\uc624\\ub974\\ub124 (Fire)\"],[\"Save Me\"],[\"Epilogue: Young Forever\"],[\"Converse High\"],[\"\\uc774\\uc0ac\"],[\"Whalien 52\"],[\"Butterfly\"],[\"House of Cards (Full Length Edition)\"],[\"Love Is Not Over (Full Length Edition)\"],[\"I Need U (Urban Mix)\"],[\"I Need U (Remix)\"],[\"Run (Ballad Mix)\"],[\"Run (Alternative Mix)\"],[\"Butterfly (Alternative Mix)\"],[\"Intro: The Most Beautiful Moment in Life\"],[\"I Need U\"],[\"Hold Me Tight\"],[\"Autumn Leaves\"],[\"Butterfly (Prologue Mix)\"],[\"Run\"],[\"Ma City\"],[\"Silver Spoon\"],[\"Dope\"],[\"Burning Up (Fire)\"],[\"Save Me\"],[\"Epilogue: Young Forever\"],[\"Converse High\"],[\"Moving On\"],[\"Whalien 52\"],[\"Butterfly\"],[\"House of Cards (Full Length Edition)\"],[\"Love Is Not Over (Full Length Edition)\"],[\"I Need U (Urban Mix)\"],[\"I Need U (Remix)\"],[\"Run (Ballad Mix)\"],[\"Run (Alternative Mix)\"],[\"Butterfly (Alternative Mix)\"],[\"Intro: Never Mind\"],[\"Run\"],[\"Butterfly\"],[\"Whalien 52\"],[\"Ma City\"],[\"Silver Spoon\"],[\"Skit: One Night In A Strange City\"],[\"Autumn Leaves\"],[\"Outro: House Of Cards\"],[\"Intro: Never Mind\"],[\"Run\"],[\"Butterfly\"],[\"Whalien 52\"],[\"Ma City\"],[\"\\ubc41\\uc0c8\"],[\"Skit: One Night in a Strange City\"],[\"\\uace0\\uc5fd\"],[\"Outro: House of Cards\"],[\"Intro: Never Mind\"],[\"Run\"],[\"Butterfly\"],[\"Whalien 52\"],[\"Ma City\"],[\"Silver Spoon\"],[\"Skit: One Night in a Strange City\"],[\"Autumn Leaves\"],[\"Outro: House of Cards\"],[\"Intro: The Most Beautiful Moment In Life\"],[\"I Need U\"],[\"Hold Me Tight\"],[\"Skit: Expectation!\"],[\"Dope\"],[\"Boyz With Fun\"],[\"Converse High\"],[\"Moving On\"],[\"Outro: Love Is Not Over\"],[\"Intro: \\ud654\\uc591\\uc5f0\\ud654\"],[\"I Need U\"],[\"\\uc7a1\\uc544\\uc918 (Hold Me Tight)\"],[\"Skit: Expectation!\"],[\"\\uca54\\uc5b4\"],[\"\\ud765\\ud0c4\\uc18c\\ub144\\ub2e8\"],[\"Converse High\"],[\"\\uc774\\uc0ac\"],[\"Outro: Love Is Not Over\"],[\"Intro: The Most Beautiful Moment in Life\"],[\"I Need U\"],[\"Hold Me Tight\"],[\"Skit: Expectation!\"],[\"Dope\"],[\"Boyz with Fun\"],[\"Converse High\"],[\"Moving On\"],[\"Outro: Love Is Not Over\"],[\"Intro: What Am I to You\"],[\"Danger\"],[\"War of Hormone\"],[\"Hip Hop Phile\"],[\"Let Me Know\"],[\"Rain\"],[\"BTS Cypher, Pt. 3: Killer\"],[\"Interlude: What Are You Doing Now\"],[\"Could You Turn off Your Cell Phone\"],[\"Embarrassed\"],[\"24/7=Heaven\"],[\"Look Here\"],[\"So 4 more\"],[\"Outro: Do You Think It Makes Sense?\"],[\"Intro: Skool Luv Affair\"],[\"Boy In Luv\"],[\"Skit: Soulmate\"],[\"Where You From\"],[\"Just One Day\"],[\"Tomorrow\"],[\"BTS Cypher, Pt. 2: Triptych\"],[\"Spine Breaker\"],[\"Jump\"],[\"Outro: Propose\"],[\"INTRO.\"],[\"THE STARS\"],[\"JUMP -Japanese Ver.-\"],[\"Danger -Japanese Ver.-\"],[\"BOY IN LUV -Japanese Ver.-\"],[\"JUST ONE DAY -Japanese Ver. Extended-\"],[\"\\u3044\\u3044\\u306d!\"],[\"\\u3044\\u3044\\u306d!Pt.2 ~\\u3042\\u306e\\u5834\\u6240\\u3067~\"],[\"NO MORE DREAM -Japanese Ver.-\"],[\"\\u9032\\u6483\\u306e\\u9632\\u5f3e -Japanese Ver.-\"],[\"N.O -Japanese Ver.-\"],[\"WAKE UP\"],[\"OUTRO.\"],[\"Intro: What Am I to You\"],[\"Danger\"],[\"\\ud638\\ub974\\ubaac \\uc804\\uc7c1\"],[\"\\ud799\\ud569\\uc131\\uc560\\uc790\"],[\"Let Me Know\"],[\"Rain\"],[\"BTS Cypher Pt.3: Killer\"],[\"Interlude: \\ubb50\\ud574\"],[\"\\ud578\\ub4dc\\ud3f0 \\uc880 \\uaebc\\uc904\\ub798\"],[\"\\uc774\\ubd88\\ud0a5\"],[\"24/7=Heaven\"],[\"\\uc5ec\\uae30 \\ubd10\"],[\"2\\ud559\\ub144\"],[\"Outro: \\uadf8\\uac8c \\ub9d0\\uc774 \\ub3fc?\"],[\"Intro: What Am I to You\"],[\"Danger\"],[\"War of Hormone\"],[\"Hip Hop Phile\"],[\"Let Me Know\"],[\"Rain\"],[\"BTS Cypher Pt.3: Killer\"],[\"Interlude: What Are You Doing Now\"],[\"Could You Turn off Your Cell Phone\"],[\"Embarrassed\"],[\"24/7=Heaven\"],[\"Look Here\"],[\"2nd Grade\"],[\"Outro: Do You Think It Makes Sense?\"],[\"Intro: Skool Luv Affair\"],[\"\\uc0c1\\ub0a8\\uc790 (Boy in Luv)\"],[\"Skit: Soulmate\"],[\"\\uc5b4\\ub514\\uc5d0\\uc11c \\uc654\\ub294\\uc9c0\"],[\"\\ud558\\ub8e8\\ub9cc\"],[\"Tomorrow\"],[\"BTS Cypher Pt.2: Triptych\"],[\"\\ub4f1\\uace8\\ube0c\\ub808\\uc774\\ucee4\"],[\"Jump\"],[\"Outro: Propose\"],[\"Intro: Skool Luv Affair\"],[\"Boy in Luv\"],[\"Skit: Soulmate\"],[\"Where You From\"],[\"Just One Day\"],[\"Tomorrow\"],[\"BTS Cypher Pt.2: Triptych\"],[\"Spine Breaker\"],[\"Jump\"],[\"Outro: Propose\"],[\"Intro: O!RUL8,2?\"],[\"N.O\"],[\"We On\"],[\"Skit: R U Happy Now?\"],[\"If I Ruled the World\"],[\"Coffee\"],[\"BTS Cypher, Pt. 1\"],[\"Attack on Bangtan\"],[\"Paldo Gangsan\"],[\"Outro: Luv In Skool\"],[\"Intro: O!RUL8,2?\"],[\"N.O\"],[\"We On\"],[\"Skit: R U Happy Now?\"],[\"If I Ruled the World\"],[\"Coffee\"],[\"BTS Cypher Pt.1\"],[\"Attack on Bangtan\"],[\"Paldogangsan\"],[\"Outro: Luv in Skool\"],[\"Intro: O!RUL8,2?\"],[\"N.O\"],[\"We On\"],[\"Skit: R U Happy Now?\"],[\"If I Ruled the World\"],[\"Coffee\"],[\"BTS Cypher Pt.1\"],[\"\\uc9c4\\uaca9\\uc758 \\ubc29\\ud0c4\"],[\"\\ud314\\ub3c4\\uac15\\uc0b0\"],[\"Outro: Luv in Skool\"],[\"Intro : 2 COOL 4 SKOOL\"],[\"We Are Bulletproof, Pt. 2\"],[\"Skit : Circle Room Talk\"],[\"No More Dream\"],[\"Interlude\"],[\"Like\"],[\"Outro : Circle room cypher\"],[\"Intro: 2 COOL 4 SKOOL\"],[\"We Are Bulletproof Pt.2\"],[\"Skit: Circle Room Talk\"],[\"No More Dream\"],[\"Interlude\"],[\"\\uc88b\\uc544\\uc694\"],[\"Outro: Circle Room Cypher\"]],\"hovertemplate\":\"Artist(s)=BTS<br>Positiveness (valence)=%{x}<br>Energy=%{y}<br>Song Title=%{customdata[0]}<extra></extra>\",\"legendgroup\":\"BTS\",\"marker\":{\"color\":\"#19d3f3\",\"symbol\":\"circle\"},\"mode\":\"markers\",\"name\":\"BTS\",\"showlegend\":true,\"x\":[0.45,0.588,0.364,0.544,0.57,0.484,0.341,0.737,0.45,0.588,0.364,0.544,0.57,0.484,0.341,0.737,0.0806,0.5820000000000001,0.78,0.23800000000000002,0.588,0.42200000000000004,0.9009999999999999,0.433,0.536,0.428,0.431,0.258,0.165,0.652,0.7979999999999999,0.261,0.24100000000000002,0.588,0.141,0.49,0.86,0.664,0.485,0.43799999999999994,0.33299999999999996,0.196,0.332,0.648,0.64,0.524,0.19,0.473,0.386,0.652,0.7979999999999999,0.261,0.24100000000000002,0.588,0.141,0.49,0.86,0.664,0.485,0.43799999999999994,0.33299999999999996,0.196,0.332,0.648,0.64,0.524,0.19,0.473,0.386,0.659,0.8029999999999999,0.259,0.24100000000000002,0.588,0.146,0.489,0.8590000000000001,0.664,0.478,0.43700000000000006,0.33299999999999996,0.19899999999999998,0.33,0.649,0.64,0.526,0.17600000000000002,0.473,0.385,0.652,0.7979999999999999,0.475,0.261,0.535,0.24100000000000002,0.588,0.659,0.8029999999999999,0.475,0.259,0.534,0.24100000000000002,0.588,0.198,0.345,0.16899999999999998,0.6509999999999999,0.9279999999999999,0.759,0.278,0.866,0.757,0.461,0.469,0.207,0.39799999999999996,0.5760000000000001,0.597,0.672,0.622,0.386,0.847,0.44799999999999995,0.424,0.38799999999999996,0.0567,0.282,0.696,0.469,0.652,0.778,0.327,0.541,0.759,0.45,0.242,0.573,0.275,0.485,0.321,0.675,0.282,0.45,0.332,0.45399999999999996,0.401,0.6829999999999999,0.7829999999999999,0.611,0.461,0.653,0.645,0.5539999999999999,0.242,0.601,0.29100000000000004,0.503,0.332,0.672,0.27,0.467,0.33899999999999997,0.479,0.36200000000000004,0.68,0.762,0.599,0.46,0.665,0.659,0.59,0.255,0.588,0.256,0.49,0.37200000000000005,0.71,0.317,0.43700000000000006,0.308,0.396,0.373,0.634,0.8290000000000001,0.61,0.616,0.242,0.605,0.308,0.501,0.335,0.6709999999999999,0.273,0.466,0.34,0.47,0.361,0.679,0.763,0.601,0.6,0.547,0.551,0.508,0.545,0.665,0.39399999999999996,0.77,0.544,0.636,0.231,0.574,0.732,0.349,0.22899999999999998,0.6509999999999999,0.396,0.313,0.13,0.508,0.799,0.557,0.657,0.507,0.518,0.37799999999999995,0.7979999999999999,0.9309999999999999,0.745,0.27399999999999997,0.389,0.275,0.5579999999999999,0.541,0.591,0.547,0.24100000000000002,0.23,0.649,0.376,0.316,0.134,0.514,0.7829999999999999,0.557,0.6779999999999999,0.534,0.54,0.386,0.804,0.9359999999999999,0.7709999999999999,0.275,0.384,0.278,0.532,0.49,0.595,0.586,0.209,0.22899999999999998,0.642,0.379,0.297,0.135,0.522,0.7829999999999999,0.557,0.6779999999999999,0.536,0.539,0.386,0.804,0.935,0.77,0.278,0.386,0.278,0.534,0.494,0.595,0.58,0.21100000000000002,0.397,0.506,0.28300000000000003,0.7190000000000001,0.8079999999999999,0.544,0.698,0.314,0.31,0.397,0.55,0.29100000000000004,0.735,0.807,0.536,0.667,0.314,0.265,0.397,0.55,0.294,0.735,0.807,0.536,0.667,0.307,0.264,0.262,0.713,0.353,0.677,0.623,0.779,0.797,0.9229999999999999,0.20600000000000002,0.257,0.7070000000000001,0.39399999999999996,0.7120000000000001,0.62,0.7509999999999999,0.8170000000000001,0.929,0.218,0.257,0.71,0.395,0.7120000000000001,0.622,0.7509999999999999,0.815,0.929,0.21899999999999997,0.519,0.38799999999999996,0.48,0.8029999999999999,0.165,0.327,0.684,0.516,0.897,0.5579999999999999,0.563,0.767,0.797,0.56,0.6559999999999999,0.469,0.743,0.9179999999999999,0.326,0.6509999999999999,0.853,0.863,0.7140000000000001,0.504,0.7859999999999999,0.574,0.698,0.408,0.542,0.368,0.769,0.861,0.639,0.5660000000000001,0.588,0.7340000000000001,0.7859999999999999,0.568,0.377,0.488,0.795,0.156,0.315,0.665,0.55,0.917,0.551,0.573,0.784,0.7979999999999999,0.5529999999999999,0.5710000000000001,0.37799999999999995,0.48700000000000004,0.795,0.16,0.313,0.665,0.552,0.917,0.552,0.573,0.784,0.797,0.537,0.6709999999999999,0.474,0.7490000000000001,0.919,0.301,0.627,0.8370000000000001,0.861,0.763,0.514,0.6709999999999999,0.473,0.7490000000000001,0.9179999999999999,0.307,0.627,0.8370000000000001,0.862,0.763,0.514,0.183,0.516,0.833,0.655,0.6890000000000001,0.545,0.8420000000000001,0.6779999999999999,0.851,0.425,0.188,0.5710000000000001,0.8009999999999999,0.611,0.73,0.5720000000000001,0.858,0.669,0.871,0.473,0.188,0.5720000000000001,0.8009999999999999,0.609,0.7290000000000001,0.573,0.858,0.667,0.871,0.47200000000000003,0.581,0.883,0.7659999999999999,0.6409999999999999,0.0,0.764,0.8690000000000001,0.5529999999999999,0.868,0.764,0.612,0.8390000000000001,0.768,0.866],\"xaxis\":\"x\",\"y\":[0.716,0.526,0.605,0.321,0.669,0.845,0.693,0.765,0.716,0.526,0.605,0.321,0.669,0.845,0.693,0.765,0.61,0.634,0.855,0.703,0.893,0.754,0.782,0.682,0.736,0.821,0.644,0.491,0.455,0.87,0.862,0.703,0.47,0.91,0.7979999999999999,0.758,0.762,0.64,0.667,0.8170000000000001,0.8240000000000001,0.5479999999999999,0.696,0.747,0.6459999999999999,0.84,0.575,0.903,0.848,0.87,0.862,0.703,0.47,0.91,0.7979999999999999,0.758,0.762,0.64,0.667,0.8170000000000001,0.8240000000000001,0.5479999999999999,0.696,0.747,0.6459999999999999,0.84,0.575,0.903,0.848,0.871,0.862,0.706,0.47,0.91,0.7979999999999999,0.757,0.762,0.6409999999999999,0.667,0.8170000000000001,0.8240000000000001,0.547,0.696,0.747,0.6459999999999999,0.838,0.574,0.903,0.848,0.87,0.862,0.858,0.703,0.799,0.47,0.91,0.871,0.862,0.858,0.706,0.799,0.47,0.91,0.272,0.7190000000000001,0.42200000000000004,0.687,0.828,0.8759999999999999,0.6609999999999999,0.8170000000000001,0.8759999999999999,0.883,0.903,0.8240000000000001,0.769,0.892,0.7609999999999999,0.938,0.9129999999999999,0.778,0.69,0.7659999999999999,0.825,0.863,0.386,0.581,0.775,0.7559999999999999,0.8440000000000001,0.7120000000000001,0.6940000000000001,0.889,0.617,0.927,0.89,0.894,0.8390000000000001,0.784,0.483,0.732,0.615,0.738,0.48700000000000004,0.838,0.79,0.84,0.907,0.9279999999999999,0.846,0.9390000000000001,0.9,0.9009999999999999,0.89,0.885,0.8440000000000001,0.777,0.475,0.741,0.607,0.7390000000000001,0.498,0.84,0.797,0.8340000000000001,0.9059999999999999,0.9279999999999999,0.846,0.946,0.903,0.903,0.905,0.89,0.851,0.797,0.484,0.745,0.621,0.7440000000000001,0.504,0.836,0.79,0.8340000000000001,0.9009999999999999,0.929,0.85,0.89,0.885,0.8420000000000001,0.779,0.475,0.74,0.607,0.7390000000000001,0.498,0.838,0.797,0.8340000000000001,0.9059999999999999,0.9279999999999999,0.851,0.909,0.863,0.7140000000000001,0.897,0.89,0.804,0.9620000000000001,0.885,0.8320000000000001,0.785,0.809,0.866,0.76,0.9690000000000001,0.897,0.794,0.799,0.542,0.875,0.97,0.877,0.892,0.718,0.797,0.8220000000000001,0.799,0.925,0.938,0.765,0.672,0.591,0.813,0.919,0.772,0.875,0.7140000000000001,0.97,0.897,0.799,0.799,0.541,0.878,0.97,0.875,0.8959999999999999,0.706,0.8220000000000001,0.815,0.8029999999999999,0.9259999999999999,0.937,0.747,0.6679999999999999,0.5760000000000001,0.8140000000000001,0.9179999999999999,0.775,0.87,0.7170000000000001,0.97,0.897,0.799,0.799,0.541,0.875,0.97,0.875,0.8959999999999999,0.706,0.823,0.815,0.8029999999999999,0.9259999999999999,0.937,0.747,0.67,0.5770000000000001,0.8140000000000001,0.9179999999999999,0.774,0.871,0.7170000000000001,0.9490000000000001,0.877,0.775,0.93,0.9690000000000001,0.88,0.501,0.8029999999999999,0.653,0.9490000000000001,0.878,0.7759999999999999,0.93,0.9670000000000001,0.879,0.499,0.804,0.652,0.9490000000000001,0.878,0.7759999999999999,0.93,0.9670000000000001,0.879,0.499,0.802,0.652,0.97,0.879,0.726,0.155,0.8909999999999999,0.9590000000000001,0.7859999999999999,0.9079999999999999,0.325,0.97,0.88,0.728,0.16699999999999998,0.89,0.96,0.7929999999999999,0.914,0.335,0.97,0.88,0.728,0.16699999999999998,0.889,0.9590000000000001,0.794,0.914,0.335,0.9009999999999999,0.866,0.992,0.872,0.8220000000000001,0.847,0.92,0.68,0.857,0.9009999999999999,0.894,0.85,0.927,0.792,0.825,0.9470000000000001,0.282,0.8640000000000001,0.713,0.882,0.981,0.925,0.971,0.8440000000000001,0.903,0.9570000000000001,0.9690000000000001,0.8370000000000001,0.902,0.486,0.674,0.7170000000000001,0.866,0.9670000000000001,0.86,0.6859999999999999,0.7,0.899,0.868,0.993,0.878,0.8290000000000001,0.851,0.924,0.6829999999999999,0.856,0.897,0.903,0.8540000000000001,0.925,0.815,0.899,0.868,0.993,0.878,0.828,0.851,0.924,0.6829999999999999,0.856,0.898,0.903,0.8540000000000001,0.925,0.8140000000000001,0.82,0.9470000000000001,0.285,0.867,0.713,0.887,0.98,0.927,0.9740000000000001,0.847,0.821,0.9470000000000001,0.285,0.867,0.7120000000000001,0.887,0.98,0.927,0.973,0.847,0.904,0.9159999999999999,0.797,0.37200000000000005,0.7440000000000001,0.794,0.903,0.961,0.9440000000000001,0.39299999999999996,0.9,0.914,0.797,0.382,0.725,0.7979999999999999,0.903,0.9620000000000001,0.945,0.392,0.9,0.914,0.797,0.382,0.725,0.7979999999999999,0.903,0.9620000000000001,0.945,0.392,0.821,0.956,0.358,0.8590000000000001,0.26,0.7290000000000001,0.508,0.846,0.9520000000000001,0.36200000000000004,0.8690000000000001,0.255,0.727,0.518],\"yaxis\":\"y\",\"type\":\"scattergl\"},{\"customdata\":[[\"Geyser\"],[\"Why Didn't You Stop Me?\"],[\"Old Friend\"],[\"A Pearl\"],[\"Lonesome Love\"],[\"Remember My Name\"],[\"Me and My Husband\"],[\"Come into the Water\"],[\"Nobody\"],[\"Pink in the Night\"],[\"A Horse Named Cold Air\"],[\"Washing Machine Heart\"],[\"Blue Light\"],[\"Two Slow Dancers\"],[\"Happy\"],[\"Dan the Dancer\"],[\"Once More to See You\"],[\"Fireworks\"],[\"Your Best American Girl\"],[\"I Bet on Losing Dogs\"],[\"My Body's Made of Crushed Little Stars\"],[\"Thursday Girl\"],[\"A Loving Feeling\"],[\"Crack Baby\"],[\"A Burning Hill\"],[\"Texas Reznikoff\"],[\"Townie\"],[\"First Love / Late Spring\"],[\"Francis Forever\"],[\"I Don't Smoke\"],[\"Jobless Monday\"],[\"Drunk Walk Home\"],[\"I Will\"],[\"Carry Me Out\"],[\"Last Words of a Shooting Star\"],[\"Goodbye, My Danish Sweetheart\"],[\"Shame\"],[\"Because Dreaming Costs Money, My Dear\"],[\"Humpty\"],[\"Circle\"],[\"I Want You\"],[\"Square\"],[\"Strawberry Blond\"],[\"Class of 2013\"],[\"Square (Solo Piano Version)\"],[\"Shame (Jammin' Out Solo Version)\"],[\"Liquid Smooth\"],[\"Eric\"],[\"Brand New City\"],[\"Real Men\"],[\"Wife\"],[\"Abbey\"],[\"Bag of Bones\"],[\"Door\"],[\"Pearl Diver\"]],\"hovertemplate\":\"Artist(s)=Mitski<br>Positiveness (valence)=%{x}<br>Energy=%{y}<br>Song Title=%{customdata[0]}<extra></extra>\",\"legendgroup\":\"Mitski\",\"marker\":{\"color\":\"#FF6692\",\"symbol\":\"circle\"},\"mode\":\"markers\",\"name\":\"Mitski\",\"showlegend\":true,\"x\":[0.152,0.556,0.327,0.226,0.214,0.597,0.7659999999999999,0.353,0.494,0.11,0.11900000000000001,0.581,0.17300000000000001,0.0535,0.040999999999999995,0.64,0.33399999999999996,0.135,0.13,0.386,0.316,0.0512,0.33799999999999997,0.0562,0.10400000000000001,0.37,0.276,0.10400000000000001,0.32,0.233,0.203,0.325,0.261,0.113,0.0961,0.473,0.0699,0.196,0.243,0.0473,0.0635,0.106,0.943,0.122,0.498,0.0813,0.11599999999999999,0.0391,0.659,0.7170000000000001,0.231,0.254,0.32299999999999995,0.39,0.175],\"xaxis\":\"x\",\"y\":[0.61,0.86,0.44799999999999995,0.639,0.7290000000000001,0.691,0.639,0.375,0.716,0.39799999999999996,0.0826,0.821,0.41700000000000004,0.106,0.514,0.688,0.409,0.304,0.257,0.496,0.7440000000000001,0.4,0.748,0.552,0.19,0.263,0.884,0.545,0.44799999999999995,0.54,0.442,0.358,0.306,0.382,0.16699999999999998,0.435,0.18100000000000002,0.16899999999999998,0.28600000000000003,0.248,0.292,0.198,0.545,0.22,0.42100000000000004,0.5,0.342,0.239,0.831,0.41200000000000003,0.10099999999999999,0.204,0.24,0.0922,0.152],\"yaxis\":\"y\",\"type\":\"scattergl\"},{\"customdata\":[[\"The Adults Are Talking\"],[\"Selfless\"],[\"Brooklyn Bridge To Chorus\"],[\"Bad Decisions\"],[\"Eternal Summer\"],[\"At The Door\"],[\"Why Are Sundays So Depressing\"],[\"Not The Same Anymore\"],[\"Ode To The Mets\"],[\"Tap Out\"],[\"All The Time\"],[\"One Way Trigger\"],[\"Welcome To Japan\"],[\"80's Comedown Machine\"],[\"50/50\"],[\"Slow Animals\"],[\"Partners In Crime\"],[\"Chances\"],[\"Happy Ending\"],[\"Call It Fate, Call It Karma\"],[\"Tap Out\"],[\"All the Time\"],[\"One Way Trigger\"],[\"Welcome to Japan\"],[\"80's Comedown Machine\"],[\"50/50\"],[\"Slow Animals\"],[\"Partners in Crime\"],[\"Chances\"],[\"Happy Ending\"],[\"Call It Fate, Call It Karma\"],[\"Machu Picchu\"],[\"Under Cover of Darkness\"],[\"Two Kinds of Happiness\"],[\"You're So Right\"],[\"Taken for a Fool\"],[\"Games\"],[\"Call Me Back\"],[\"Gratisfaction\"],[\"Metabolism\"],[\"Life Is Simple in the Moonlight\"],[\"Machu Picchu\"],[\"Under Cover Of Darkness\"],[\"Two Kinds Of Happiness\"],[\"You're So Right\"],[\"Taken For A Fool\"],[\"Games\"],[\"Call Me Back\"],[\"Gratisfaction\"],[\"Metabolism\"],[\"Life Is Simple In The Moonlight\"],[\"You Only Live Once\"],[\"Juicebox\"],[\"Heart In a Cage\"],[\"Razorblade\"],[\"On the Other Side\"],[\"Vision of Division\"],[\"Ask Me Anything\"],[\"Electricityscape\"],[\"Killing Lies\"],[\"Fear of Sleep\"],[\"15 Minutes\"],[\"Ize of the World\"],[\"Evening Sun\"],[\"Red Light\"],[\"You Only Live Once\"],[\"Juicebox\"],[\"Heart In a Cage\"],[\"Razorblade\"],[\"On the Other Side\"],[\"Vision of Division\"],[\"Ask Me Anything\"],[\"Electricityscape\"],[\"Killing Lies\"],[\"Fear of Sleep\"],[\"15 Minutes\"],[\"Ize of the World\"],[\"Evening Sun\"],[\"Red Light\"],[\"What Ever Happened?\"],[\"Reptilia\"],[\"Automatic Stop\"],[\"12:51\"],[\"You Talk Way Too Much\"],[\"Between Love & Hate\"],[\"Meet Me in the Bathroom\"],[\"Under Control\"],[\"The Way It Is\"],[\"The End Has No End\"],[\"I Can't Win\"],[\"What Ever Happened?\"],[\"Reptilia\"],[\"Automatic Stop\"],[\"12:51\"],[\"You Talk Way Too Much\"],[\"Between Love & Hate\"],[\"Meet Me In The Bathroom\"],[\"Under Control\"],[\"The Way It Is\"],[\"The End Has No End\"],[\"I Can't Win\"],[\"Is This It\"],[\"The Modern Age\"],[\"Soma\"],[\"Barely Legal\"],[\"Someday\"],[\"Alone, Together\"],[\"Last Nite\"],[\"Hard To Explain\"],[\"New York City Cops\"],[\"Trying Your Luck\"],[\"Take It Or Leave It\"],[\"Is This It\"],[\"The Modern Age\"],[\"Soma\"],[\"Barely Legal\"],[\"Someday\"],[\"Alone, Together\"],[\"Last Nite\"],[\"Hard To Explain\"],[\"New York City Cops\"],[\"Trying Your Luck\"],[\"Take It Or Leave It\"],[\"Is This It\"],[\"The Modern Age\"],[\"Soma\"],[\"Barely Legal\"],[\"Someday\"],[\"Alone, Together\"],[\"Last Nite\"],[\"Hard To Explain\"],[\"When It Started\"],[\"Trying Your Luck\"],[\"Take It Or Leave It\"],[\"Is This It\"],[\"The Modern Age\"],[\"Soma\"],[\"Barely Legal\"],[\"Someday\"],[\"Alone, Together\"],[\"Last Nite\"],[\"Hard To Explain\"],[\"New York City Cops\"],[\"Trying Your Luck\"],[\"Take It Or Leave It\"]],\"hovertemplate\":\"Artist(s)=The Strokes<br>Positiveness (valence)=%{x}<br>Energy=%{y}<br>Song Title=%{customdata[0]}<extra></extra>\",\"legendgroup\":\"The Strokes\",\"marker\":{\"color\":\"#B6E880\",\"symbol\":\"circle\"},\"mode\":\"markers\",\"name\":\"The Strokes\",\"showlegend\":true,\"x\":[0.649,0.0888,0.467,0.39299999999999996,0.326,0.363,0.299,0.282,0.201,0.629,0.078,0.9640000000000001,0.6459999999999999,0.38,0.623,0.5,0.551,0.53,0.255,0.359,0.637,0.0703,0.9640000000000001,0.657,0.37,0.555,0.537,0.56,0.55,0.264,0.39,0.8740000000000001,0.588,0.758,0.32799999999999996,0.885,0.452,0.185,0.708,0.34,0.513,0.871,0.5770000000000001,0.6920000000000001,0.376,0.871,0.479,0.192,0.721,0.376,0.485,0.968,0.547,0.12,0.511,0.5479999999999999,0.138,0.461,0.57,0.9209999999999999,0.272,0.39399999999999996,0.27699999999999997,0.531,0.903,0.9690000000000001,0.59,0.121,0.54,0.564,0.157,0.45299999999999996,0.598,0.927,0.242,0.31,0.307,0.535,0.894,0.584,0.77,0.914,0.5920000000000001,0.695,0.539,0.5870000000000001,0.6409999999999999,0.856,0.5329999999999999,0.40299999999999997,0.6,0.789,0.961,0.578,0.828,0.527,0.657,0.698,0.904,0.6,0.536,0.804,0.868,0.502,0.857,0.6709999999999999,0.961,0.775,0.622,0.455,0.628,0.484,0.8140000000000001,0.851,0.494,0.8859999999999999,0.691,0.965,0.769,0.6509999999999999,0.493,0.629,0.439,0.846,0.897,0.483,0.852,0.679,0.961,0.79,0.6659999999999999,0.903,0.619,0.48100000000000004,0.804,0.868,0.502,0.857,0.6709999999999999,0.9620000000000001,0.767,0.623,0.455,0.629,0.484],\"xaxis\":\"x\",\"y\":[0.7490000000000001,0.679,0.5710000000000001,0.922,0.78,0.32299999999999995,0.7140000000000001,0.613,0.617,0.745,0.883,0.9420000000000001,0.6659999999999999,0.503,0.93,0.6459999999999999,0.951,0.569,0.831,0.24100000000000002,0.752,0.875,0.9470000000000001,0.647,0.499,0.93,0.637,0.953,0.574,0.8320000000000001,0.22899999999999998,0.8170000000000001,0.775,0.778,0.863,0.89,0.708,0.297,0.7879999999999999,0.85,0.696,0.82,0.7829999999999999,0.764,0.8490000000000001,0.897,0.7070000000000001,0.297,0.795,0.847,0.7,0.9079999999999999,0.981,0.857,0.8590000000000001,0.8109999999999999,0.8109999999999999,0.31,0.882,0.8059999999999999,0.9229999999999999,0.8809999999999999,0.894,0.755,0.8370000000000001,0.905,0.983,0.867,0.863,0.818,0.816,0.322,0.8759999999999999,0.8029999999999999,0.9179999999999999,0.879,0.889,0.7440000000000001,0.833,0.596,0.649,0.535,0.889,0.971,0.603,0.941,0.72,0.95,0.66,0.746,0.61,0.645,0.5429999999999999,0.87,0.961,0.596,0.91,0.698,0.9359999999999999,0.649,0.7070000000000001,0.679,0.89,0.715,0.8859999999999999,0.531,0.862,0.905,0.6859999999999999,0.853,0.691,0.924,0.6629999999999999,0.892,0.71,0.889,0.531,0.852,0.903,0.688,0.843,0.69,0.924,0.6920000000000001,0.888,0.706,0.884,0.521,0.863,0.899,0.6659999999999999,0.654,0.687,0.9129999999999999,0.679,0.89,0.715,0.8859999999999999,0.531,0.855,0.91,0.682,0.853,0.691,0.924],\"yaxis\":\"y\",\"type\":\"scattergl\"},{\"mode\":\"text\",\"name\":\"Text\",\"showlegend\":false,\"text\":[\"Q1\"],\"textfont\":{\"color\":\"lightslategrey\",\"size\":36},\"textposition\":\"middle center\",\"x\":[0.95],\"y\":[0.95],\"type\":\"scatter\"},{\"mode\":\"text\",\"name\":\"Text\",\"showlegend\":false,\"text\":[\"Q2\"],\"textfont\":{\"color\":\"lightslategrey\",\"size\":36},\"textposition\":\"middle center\",\"x\":[0.95],\"y\":[0.05],\"type\":\"scatter\"},{\"mode\":\"text\",\"name\":\"Text\",\"showlegend\":false,\"text\":[\"Q3\"],\"textfont\":{\"color\":\"lightslategrey\",\"size\":36},\"textposition\":\"middle center\",\"x\":[0.05],\"y\":[0.05],\"type\":\"scatter\"},{\"mode\":\"text\",\"name\":\"Text\",\"showlegend\":false,\"text\":[\"Q4\"],\"textfont\":{\"color\":\"lightslategrey\",\"size\":36},\"textposition\":\"middle center\",\"x\":[0.05],\"y\":[0.95],\"type\":\"scatter\"}],                        {\"template\":{\"data\":{\"barpolar\":[{\"marker\":{\"line\":{\"color\":\"white\",\"width\":0.5},\"pattern\":{\"fillmode\":\"overlay\",\"size\":10,\"solidity\":0.2}},\"type\":\"barpolar\"}],\"bar\":[{\"error_x\":{\"color\":\"rgb(36,36,36)\"},\"error_y\":{\"color\":\"rgb(36,36,36)\"},\"marker\":{\"line\":{\"color\":\"white\",\"width\":0.5},\"pattern\":{\"fillmode\":\"overlay\",\"size\":10,\"solidity\":0.2}},\"type\":\"bar\"}],\"carpet\":[{\"aaxis\":{\"endlinecolor\":\"rgb(36,36,36)\",\"gridcolor\":\"white\",\"linecolor\":\"white\",\"minorgridcolor\":\"white\",\"startlinecolor\":\"rgb(36,36,36)\"},\"baxis\":{\"endlinecolor\":\"rgb(36,36,36)\",\"gridcolor\":\"white\",\"linecolor\":\"white\",\"minorgridcolor\":\"white\",\"startlinecolor\":\"rgb(36,36,36)\"},\"type\":\"carpet\"}],\"choropleth\":[{\"colorbar\":{\"outlinewidth\":1,\"tickcolor\":\"rgb(36,36,36)\",\"ticks\":\"outside\"},\"type\":\"choropleth\"}],\"contourcarpet\":[{\"colorbar\":{\"outlinewidth\":1,\"tickcolor\":\"rgb(36,36,36)\",\"ticks\":\"outside\"},\"type\":\"contourcarpet\"}],\"contour\":[{\"colorbar\":{\"outlinewidth\":1,\"tickcolor\":\"rgb(36,36,36)\",\"ticks\":\"outside\"},\"colorscale\":[[0.0,\"#440154\"],[0.1111111111111111,\"#482878\"],[0.2222222222222222,\"#3e4989\"],[0.3333333333333333,\"#31688e\"],[0.4444444444444444,\"#26828e\"],[0.5555555555555556,\"#1f9e89\"],[0.6666666666666666,\"#35b779\"],[0.7777777777777778,\"#6ece58\"],[0.8888888888888888,\"#b5de2b\"],[1.0,\"#fde725\"]],\"type\":\"contour\"}],\"heatmapgl\":[{\"colorbar\":{\"outlinewidth\":1,\"tickcolor\":\"rgb(36,36,36)\",\"ticks\":\"outside\"},\"colorscale\":[[0.0,\"#440154\"],[0.1111111111111111,\"#482878\"],[0.2222222222222222,\"#3e4989\"],[0.3333333333333333,\"#31688e\"],[0.4444444444444444,\"#26828e\"],[0.5555555555555556,\"#1f9e89\"],[0.6666666666666666,\"#35b779\"],[0.7777777777777778,\"#6ece58\"],[0.8888888888888888,\"#b5de2b\"],[1.0,\"#fde725\"]],\"type\":\"heatmapgl\"}],\"heatmap\":[{\"colorbar\":{\"outlinewidth\":1,\"tickcolor\":\"rgb(36,36,36)\",\"ticks\":\"outside\"},\"colorscale\":[[0.0,\"#440154\"],[0.1111111111111111,\"#482878\"],[0.2222222222222222,\"#3e4989\"],[0.3333333333333333,\"#31688e\"],[0.4444444444444444,\"#26828e\"],[0.5555555555555556,\"#1f9e89\"],[0.6666666666666666,\"#35b779\"],[0.7777777777777778,\"#6ece58\"],[0.8888888888888888,\"#b5de2b\"],[1.0,\"#fde725\"]],\"type\":\"heatmap\"}],\"histogram2dcontour\":[{\"colorbar\":{\"outlinewidth\":1,\"tickcolor\":\"rgb(36,36,36)\",\"ticks\":\"outside\"},\"colorscale\":[[0.0,\"#440154\"],[0.1111111111111111,\"#482878\"],[0.2222222222222222,\"#3e4989\"],[0.3333333333333333,\"#31688e\"],[0.4444444444444444,\"#26828e\"],[0.5555555555555556,\"#1f9e89\"],[0.6666666666666666,\"#35b779\"],[0.7777777777777778,\"#6ece58\"],[0.8888888888888888,\"#b5de2b\"],[1.0,\"#fde725\"]],\"type\":\"histogram2dcontour\"}],\"histogram2d\":[{\"colorbar\":{\"outlinewidth\":1,\"tickcolor\":\"rgb(36,36,36)\",\"ticks\":\"outside\"},\"colorscale\":[[0.0,\"#440154\"],[0.1111111111111111,\"#482878\"],[0.2222222222222222,\"#3e4989\"],[0.3333333333333333,\"#31688e\"],[0.4444444444444444,\"#26828e\"],[0.5555555555555556,\"#1f9e89\"],[0.6666666666666666,\"#35b779\"],[0.7777777777777778,\"#6ece58\"],[0.8888888888888888,\"#b5de2b\"],[1.0,\"#fde725\"]],\"type\":\"histogram2d\"}],\"histogram\":[{\"marker\":{\"line\":{\"color\":\"white\",\"width\":0.6}},\"type\":\"histogram\"}],\"mesh3d\":[{\"colorbar\":{\"outlinewidth\":1,\"tickcolor\":\"rgb(36,36,36)\",\"ticks\":\"outside\"},\"type\":\"mesh3d\"}],\"parcoords\":[{\"line\":{\"colorbar\":{\"outlinewidth\":1,\"tickcolor\":\"rgb(36,36,36)\",\"ticks\":\"outside\"}},\"type\":\"parcoords\"}],\"pie\":[{\"automargin\":true,\"type\":\"pie\"}],\"scatter3d\":[{\"line\":{\"colorbar\":{\"outlinewidth\":1,\"tickcolor\":\"rgb(36,36,36)\",\"ticks\":\"outside\"}},\"marker\":{\"colorbar\":{\"outlinewidth\":1,\"tickcolor\":\"rgb(36,36,36)\",\"ticks\":\"outside\"}},\"type\":\"scatter3d\"}],\"scattercarpet\":[{\"marker\":{\"colorbar\":{\"outlinewidth\":1,\"tickcolor\":\"rgb(36,36,36)\",\"ticks\":\"outside\"}},\"type\":\"scattercarpet\"}],\"scattergeo\":[{\"marker\":{\"colorbar\":{\"outlinewidth\":1,\"tickcolor\":\"rgb(36,36,36)\",\"ticks\":\"outside\"}},\"type\":\"scattergeo\"}],\"scattergl\":[{\"marker\":{\"colorbar\":{\"outlinewidth\":1,\"tickcolor\":\"rgb(36,36,36)\",\"ticks\":\"outside\"}},\"type\":\"scattergl\"}],\"scattermapbox\":[{\"marker\":{\"colorbar\":{\"outlinewidth\":1,\"tickcolor\":\"rgb(36,36,36)\",\"ticks\":\"outside\"}},\"type\":\"scattermapbox\"}],\"scatterpolargl\":[{\"marker\":{\"colorbar\":{\"outlinewidth\":1,\"tickcolor\":\"rgb(36,36,36)\",\"ticks\":\"outside\"}},\"type\":\"scatterpolargl\"}],\"scatterpolar\":[{\"marker\":{\"colorbar\":{\"outlinewidth\":1,\"tickcolor\":\"rgb(36,36,36)\",\"ticks\":\"outside\"}},\"type\":\"scatterpolar\"}],\"scatter\":[{\"fillpattern\":{\"fillmode\":\"overlay\",\"size\":10,\"solidity\":0.2},\"type\":\"scatter\"}],\"scatterternary\":[{\"marker\":{\"colorbar\":{\"outlinewidth\":1,\"tickcolor\":\"rgb(36,36,36)\",\"ticks\":\"outside\"}},\"type\":\"scatterternary\"}],\"surface\":[{\"colorbar\":{\"outlinewidth\":1,\"tickcolor\":\"rgb(36,36,36)\",\"ticks\":\"outside\"},\"colorscale\":[[0.0,\"#440154\"],[0.1111111111111111,\"#482878\"],[0.2222222222222222,\"#3e4989\"],[0.3333333333333333,\"#31688e\"],[0.4444444444444444,\"#26828e\"],[0.5555555555555556,\"#1f9e89\"],[0.6666666666666666,\"#35b779\"],[0.7777777777777778,\"#6ece58\"],[0.8888888888888888,\"#b5de2b\"],[1.0,\"#fde725\"]],\"type\":\"surface\"}],\"table\":[{\"cells\":{\"fill\":{\"color\":\"rgb(237,237,237)\"},\"line\":{\"color\":\"white\"}},\"header\":{\"fill\":{\"color\":\"rgb(217,217,217)\"},\"line\":{\"color\":\"white\"}},\"type\":\"table\"}]},\"layout\":{\"annotationdefaults\":{\"arrowhead\":0,\"arrowwidth\":1},\"autotypenumbers\":\"strict\",\"coloraxis\":{\"colorbar\":{\"outlinewidth\":1,\"tickcolor\":\"rgb(36,36,36)\",\"ticks\":\"outside\"}},\"colorscale\":{\"diverging\":[[0.0,\"rgb(103,0,31)\"],[0.1,\"rgb(178,24,43)\"],[0.2,\"rgb(214,96,77)\"],[0.3,\"rgb(244,165,130)\"],[0.4,\"rgb(253,219,199)\"],[0.5,\"rgb(247,247,247)\"],[0.6,\"rgb(209,229,240)\"],[0.7,\"rgb(146,197,222)\"],[0.8,\"rgb(67,147,195)\"],[0.9,\"rgb(33,102,172)\"],[1.0,\"rgb(5,48,97)\"]],\"sequential\":[[0.0,\"#440154\"],[0.1111111111111111,\"#482878\"],[0.2222222222222222,\"#3e4989\"],[0.3333333333333333,\"#31688e\"],[0.4444444444444444,\"#26828e\"],[0.5555555555555556,\"#1f9e89\"],[0.6666666666666666,\"#35b779\"],[0.7777777777777778,\"#6ece58\"],[0.8888888888888888,\"#b5de2b\"],[1.0,\"#fde725\"]],\"sequentialminus\":[[0.0,\"#440154\"],[0.1111111111111111,\"#482878\"],[0.2222222222222222,\"#3e4989\"],[0.3333333333333333,\"#31688e\"],[0.4444444444444444,\"#26828e\"],[0.5555555555555556,\"#1f9e89\"],[0.6666666666666666,\"#35b779\"],[0.7777777777777778,\"#6ece58\"],[0.8888888888888888,\"#b5de2b\"],[1.0,\"#fde725\"]]},\"colorway\":[\"#1F77B4\",\"#FF7F0E\",\"#2CA02C\",\"#D62728\",\"#9467BD\",\"#8C564B\",\"#E377C2\",\"#7F7F7F\",\"#BCBD22\",\"#17BECF\"],\"font\":{\"color\":\"rgb(36,36,36)\"},\"geo\":{\"bgcolor\":\"white\",\"lakecolor\":\"white\",\"landcolor\":\"white\",\"showlakes\":true,\"showland\":true,\"subunitcolor\":\"white\"},\"hoverlabel\":{\"align\":\"left\"},\"hovermode\":\"closest\",\"mapbox\":{\"style\":\"light\"},\"paper_bgcolor\":\"white\",\"plot_bgcolor\":\"white\",\"polar\":{\"angularaxis\":{\"gridcolor\":\"rgb(232,232,232)\",\"linecolor\":\"rgb(36,36,36)\",\"showgrid\":false,\"showline\":true,\"ticks\":\"outside\"},\"bgcolor\":\"white\",\"radialaxis\":{\"gridcolor\":\"rgb(232,232,232)\",\"linecolor\":\"rgb(36,36,36)\",\"showgrid\":false,\"showline\":true,\"ticks\":\"outside\"}},\"scene\":{\"xaxis\":{\"backgroundcolor\":\"white\",\"gridcolor\":\"rgb(232,232,232)\",\"gridwidth\":2,\"linecolor\":\"rgb(36,36,36)\",\"showbackground\":true,\"showgrid\":false,\"showline\":true,\"ticks\":\"outside\",\"zeroline\":false,\"zerolinecolor\":\"rgb(36,36,36)\"},\"yaxis\":{\"backgroundcolor\":\"white\",\"gridcolor\":\"rgb(232,232,232)\",\"gridwidth\":2,\"linecolor\":\"rgb(36,36,36)\",\"showbackground\":true,\"showgrid\":false,\"showline\":true,\"ticks\":\"outside\",\"zeroline\":false,\"zerolinecolor\":\"rgb(36,36,36)\"},\"zaxis\":{\"backgroundcolor\":\"white\",\"gridcolor\":\"rgb(232,232,232)\",\"gridwidth\":2,\"linecolor\":\"rgb(36,36,36)\",\"showbackground\":true,\"showgrid\":false,\"showline\":true,\"ticks\":\"outside\",\"zeroline\":false,\"zerolinecolor\":\"rgb(36,36,36)\"}},\"shapedefaults\":{\"fillcolor\":\"black\",\"line\":{\"width\":0},\"opacity\":0.3},\"ternary\":{\"aaxis\":{\"gridcolor\":\"rgb(232,232,232)\",\"linecolor\":\"rgb(36,36,36)\",\"showgrid\":false,\"showline\":true,\"ticks\":\"outside\"},\"baxis\":{\"gridcolor\":\"rgb(232,232,232)\",\"linecolor\":\"rgb(36,36,36)\",\"showgrid\":false,\"showline\":true,\"ticks\":\"outside\"},\"bgcolor\":\"white\",\"caxis\":{\"gridcolor\":\"rgb(232,232,232)\",\"linecolor\":\"rgb(36,36,36)\",\"showgrid\":false,\"showline\":true,\"ticks\":\"outside\"}},\"title\":{\"x\":0.05},\"xaxis\":{\"automargin\":true,\"gridcolor\":\"rgb(232,232,232)\",\"linecolor\":\"rgb(36,36,36)\",\"showgrid\":false,\"showline\":true,\"ticks\":\"outside\",\"title\":{\"standoff\":15},\"zeroline\":false,\"zerolinecolor\":\"rgb(36,36,36)\"},\"yaxis\":{\"automargin\":true,\"gridcolor\":\"rgb(232,232,232)\",\"linecolor\":\"rgb(36,36,36)\",\"showgrid\":false,\"showline\":true,\"ticks\":\"outside\",\"title\":{\"standoff\":15},\"zeroline\":false,\"zerolinecolor\":\"rgb(36,36,36)\"}}},\"xaxis\":{\"anchor\":\"y\",\"domain\":[0.0,1.0],\"title\":{\"text\":\"Positiveness (valence)\"},\"range\":[-0.01,1.01]},\"yaxis\":{\"anchor\":\"x\",\"domain\":[0.0,1.0],\"title\":{\"text\":\"Energy\"},\"range\":[-0.01,1.01]},\"legend\":{\"title\":{\"text\":\"Artist(s)\"},\"tracegroupgap\":0},\"margin\":{\"t\":60},\"height\":700,\"width\":800,\"shapes\":[{\"line\":{\"width\":3},\"type\":\"line\",\"x0\":0,\"x1\":1,\"xref\":\"x domain\",\"y0\":0.5,\"y1\":0.5,\"yref\":\"y\"},{\"line\":{\"width\":3},\"type\":\"line\",\"x0\":0.5,\"x1\":0.5,\"xref\":\"x\",\"y0\":0,\"y1\":1,\"yref\":\"y domain\"}]},                        {\"responsive\": true}                    ).then(function(){\n",
       "                            \n",
       "var gd = document.getElementById('0aa2b979-1741-4408-bbde-6a75ef495483');\n",
       "var x = new MutationObserver(function (mutations, observer) {{\n",
       "        var display = window.getComputedStyle(gd).display;\n",
       "        if (!display || display === 'none') {{\n",
       "            console.log([gd, 'removed!']);\n",
       "            Plotly.purge(gd);\n",
       "            observer.disconnect();\n",
       "        }}\n",
       "}});\n",
       "\n",
       "// Listen for the removal of the full notebook cells\n",
       "var notebookContainer = gd.closest('#notebook-container');\n",
       "if (notebookContainer) {{\n",
       "    x.observe(notebookContainer, {childList: true});\n",
       "}}\n",
       "\n",
       "// Listen for the clearing of the current output cell\n",
       "var outputEl = gd.closest('.output');\n",
       "if (outputEl) {{\n",
       "    x.observe(outputEl, {childList: true});\n",
       "}}\n",
       "\n",
       "                        })                };                });            </script>        </div>"
      ]
     },
     "metadata": {},
     "output_type": "display_data"
    }
   ],
   "source": [
    "##Decide whether you want the plot to have \n",
    "# all of the artists,\n",
    "# two random artists from the list, or \n",
    "# particular artists you name.\n",
    "\n",
    "# Choose your option by making that variable = 1 and the others = 0\n",
    "random=0\n",
    "all=1\n",
    "particular=0\n",
    "\n",
    "#RANDOM artist comparison\n",
    "if random==1:\n",
    "    all=0\n",
    "    particular=0\n",
    "    random1=allnames.sample()\n",
    "    random2=allnames.sample()\n",
    "    artist_names=[random1.iloc[0],random2.iloc[0]]\n",
    "\n",
    "#ALL artists\n",
    "if all==1:\n",
    "    random=0\n",
    "    particular=0\n",
    "    artist_names=uniquenames\n",
    "\n",
    "##If you want to choose PARTICULAR artists, enter those artist names here\n",
    "# in single quotes and separated by commas, spelling counts!\n",
    "if particular==1:\n",
    "    all=0\n",
    "    random=0\n",
    "    #artist_names=[]\n",
    "    artist_names=['Toosii','Fall Out Boy', 'Mitski','Jeff Bernat','Taylor Swift']\n",
    "\n",
    "#Here, we filter the data based on your selections above.\n",
    "datafilter=dataset.loc[dataset['artist_name'].isin(artist_names)]\n",
    "\n",
    "#Now that you've selected which data we want to plot, let's work on the plot itself.    \n",
    "    \n",
    "#This section plots the data using a software called plotly, from the pandas dataframe \"dataset\".\n",
    "fig = px.scatter(datafilter,x=\"valence\", y=\"energy\",hover_data=['track_name'],color=\"artist_name\", \n",
    "                 labels={\"track_name\":\"Song Title\",\"valence\":\"Positiveness (valence)\",\n",
    "                         \"energy\":\"Energy\",\"artist_name\":\"Artist(s)\"},\n",
    "                width=800,height=700)\n",
    "\n",
    "#Set axes and labels for axes\n",
    "fig.update_yaxes(range=[-0.01, 1.01])\n",
    "fig.update_xaxes(range=[-0.01, 1.01])\n",
    "fig.update_xaxes(title_text='Positiveness (valence)')\n",
    "fig.update_yaxes(title_text='Energy')\n",
    "#Add quadrant dividing lines\n",
    "fig.add_hline(y=0.5, line_width=3)\n",
    "fig.add_vline(x=0.5, line_width=3)\n",
    "#Label the quadrants\n",
    "#If you want to label your quadrants with your own descriptions, add them \n",
    "# here in the text=[\"Q1\", \"Q2\", \"Q3\",\"Q4\"] lines, \n",
    "# replacing the Q1 or Q2 or Q3 or Q4 with what you want that quadrant to say on it.\n",
    "fig.add_trace(go.Scatter(\n",
    "    x=[0.95],#These x-coordinates tell you where the text will be. \n",
    "    y=[0.95],#These y-coordinates tell you where the text will be. \n",
    "    mode=\"text\",\n",
    "    name=\"Text\",\n",
    "    text=[\"Q1\"],#This is the line which says what text to print on the graph.\n",
    "    textfont=dict(size=36,color=\"lightslategrey\"),\n",
    "    textposition=\"middle center\",showlegend=False\n",
    "))\n",
    "\n",
    "fig.add_trace(go.Scatter(\n",
    "    x=[0.95],#These x-coordinates tell you where the text will be. \n",
    "    y=[0.05],#These y-coordinates tell you where the text will be. \n",
    "    mode=\"text\",\n",
    "    name=\"Text\",\n",
    "    text=[\"Q2\"],#This is the line which says what text to print on the graph.\n",
    "    textfont=dict(size=36,color=\"lightslategrey\"),\n",
    "    textposition=\"middle center\",showlegend=False\n",
    "))\n",
    "fig.add_trace(go.Scatter(\n",
    "    x=[0.05],#These x-coordinates tell you where the text will be. \n",
    "    y=[0.05],#These y-coordinates tell you where the text will be. \n",
    "    mode=\"text\",\n",
    "    name=\"Text\",\n",
    "    text=[\"Q3\"],#This is the line which says what text to print on the graph.\n",
    "    textfont=dict(size=36,color=\"lightslategrey\"),\n",
    "    textposition=\"middle center\",showlegend=False\n",
    "))\n",
    "fig.add_trace(go.Scatter(\n",
    "    x=[0.05],#These x-coordinates tell you where the text will be. \n",
    "    y=[0.95],#These y-coordinates tell you where the text will be. \n",
    "    mode=\"text\",\n",
    "    name=\"Text\",\n",
    "    text=[\"Q4\"],#This is the line which says what text to print on the graph.\n",
    "    textfont=dict(size=36,color=\"lightslategrey\"),\n",
    "    textposition=\"middle center\",showlegend=False\n",
    "))\n",
    "\n",
    "\n",
    "#There are several default layouts you can choose from\n",
    "fig.update_layout(template=\"simple_white\")\n",
    "\n",
    "#Save plot as html file and open in browser.\n",
    "if all==1:\n",
    "    fig.write_html('all'+'.html', auto_open=True)\n",
    "if random==1:\n",
    "    fig.write_html(''.join(artist_names)+'.html', auto_open=True)\n",
    "if particular==1:\n",
    "    fig.write_html(''.join(artist_names)+'.html', auto_open=True)\n",
    "#Show plot below in python.\n",
    "fig.show()"
   ]
  },
  {
   "cell_type": "code",
   "execution_count": null,
   "metadata": {},
   "outputs": [],
   "source": []
  }
 ],
 "metadata": {
  "kernelspec": {
   "display_name": "Python 3",
   "language": "python",
   "name": "python3"
  },
  "language_info": {
   "codemirror_mode": {
    "name": "ipython",
    "version": 3
   },
   "file_extension": ".py",
   "mimetype": "text/x-python",
   "name": "python",
   "nbconvert_exporter": "python",
   "pygments_lexer": "ipython3",
   "version": "3.8.3"
  }
 },
 "nbformat": 4,
 "nbformat_minor": 4
}
