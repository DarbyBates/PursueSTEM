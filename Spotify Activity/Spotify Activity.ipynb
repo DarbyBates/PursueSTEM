{
 "cells": [
  {
   "cell_type": "markdown",
   "metadata": {},
   "source": [
    "Visualizing Spotify Data\n",
    "Python script by Darby Bates\n",
    "Based on script from https://github.com/elb0/florence-nightingale-uoft-22/blob/master/plotting.Rmd\n",
    "\n",
    "Output: HTML files"
   ]
  },
  {
   "cell_type": "code",
   "execution_count": 87,
   "metadata": {},
   "outputs": [],
   "source": [
    "#Header\n",
    "import pandas as pd #for dataframes\n",
    "import plotly.express as px #for plotly\n",
    "import plotly.graph_objects as go"
   ]
  },
  {
   "cell_type": "code",
   "execution_count": 88,
   "metadata": {},
   "outputs": [
    {
     "name": "stdout",
     "output_type": "stream",
     "text": [
      "['Bruno Mars' 'Daniel Caesar' 'Billie Eilish' 'Nicki Minaj'\n",
      " 'Ariana Grande' 'Taylor Swift' 'Lorde' 'Queen' 'Tyler, The Creator'\n",
      " 'Fall Out Boy' 'NF' 'GOT7' 'Melanie Martinez' 'Harry Styles' 'Rihanna'\n",
      " 'Rod Wave' 'Kendrick Lamar' 'Rex Orange County' 'Jeff Bernat' 'Mac Ayres'\n",
      " 'Toosii' 'Lil Tjay' 'Polo G' 'Central Cee' 'Digga D' 'BTS' 'Mitski'\n",
      " 'The Strokes']\n"
     ]
    }
   ],
   "source": [
    "#Load CSV File into a pandas dataframe, make sure .csv file is in the same folder as this notebook.\n",
    "dataset=pd.read_csv(\"for_students.csv\")\n",
    "allnames=dataset['artist_name']\n",
    "uniquenames=allnames.unique()\n",
    "print(uniquenames) #Print the artist names included in the dataset"
   ]
  },
  {
   "cell_type": "code",
   "execution_count": 130,
   "metadata": {},
   "outputs": [
    {
     "data": {
      "application/vnd.plotly.v1+json": {
       "config": {
        "plotlyServerURL": "https://plot.ly"
       },
       "data": [
        {
         "customdata": [
          [
           "willow"
          ],
          [
           "champagne problems"
          ],
          [
           "gold rush"
          ],
          [
           "‘tis the damn season"
          ],
          [
           "tolerate it"
          ],
          [
           "no body, no crime (feat. HAIM)"
          ],
          [
           "happiness"
          ],
          [
           "dorothea"
          ],
          [
           "coney island (feat. The National)"
          ],
          [
           "ivy"
          ],
          [
           "cowboy like me"
          ],
          [
           "long story short"
          ],
          [
           "marjorie"
          ],
          [
           "closure"
          ],
          [
           "evermore (feat. Bon Iver)"
          ],
          [
           "willow"
          ],
          [
           "champagne problems"
          ],
          [
           "gold rush"
          ],
          [
           "‘tis the damn season"
          ],
          [
           "tolerate it"
          ],
          [
           "no body, no crime (feat. HAIM)"
          ],
          [
           "happiness"
          ],
          [
           "dorothea"
          ],
          [
           "coney island (feat. The National)"
          ],
          [
           "ivy"
          ],
          [
           "cowboy like me"
          ],
          [
           "long story short"
          ],
          [
           "marjorie"
          ],
          [
           "closure"
          ],
          [
           "evermore (feat. Bon Iver)"
          ],
          [
           "willow"
          ],
          [
           "champagne problems"
          ],
          [
           "gold rush"
          ],
          [
           "‘tis the damn season"
          ],
          [
           "tolerate it"
          ],
          [
           "no body, no crime (feat. HAIM)"
          ],
          [
           "happiness"
          ],
          [
           "dorothea"
          ],
          [
           "coney island (feat. The National)"
          ],
          [
           "ivy"
          ],
          [
           "cowboy like me"
          ],
          [
           "long story short"
          ],
          [
           "marjorie"
          ],
          [
           "closure"
          ],
          [
           "evermore (feat. Bon Iver)"
          ],
          [
           "the 1"
          ],
          [
           "cardigan"
          ],
          [
           "the last great american dynasty"
          ],
          [
           "exile (feat. Bon Iver)"
          ],
          [
           "my tears ricochet"
          ],
          [
           "mirrorball"
          ],
          [
           "seven"
          ],
          [
           "august"
          ],
          [
           "this is me trying"
          ],
          [
           "illicit affairs"
          ],
          [
           "invisible string"
          ],
          [
           "mad woman"
          ],
          [
           "epiphany"
          ],
          [
           "betty"
          ],
          [
           "peace"
          ],
          [
           "hoax"
          ],
          [
           "the 1"
          ],
          [
           "cardigan"
          ],
          [
           "the last great american dynasty"
          ],
          [
           "exile (feat. Bon Iver)"
          ],
          [
           "my tears ricochet"
          ],
          [
           "mirrorball"
          ],
          [
           "seven"
          ],
          [
           "august"
          ],
          [
           "this is me trying"
          ],
          [
           "illicit affairs"
          ],
          [
           "invisible string"
          ],
          [
           "mad woman"
          ],
          [
           "epiphany"
          ],
          [
           "betty"
          ],
          [
           "peace"
          ],
          [
           "hoax"
          ],
          [
           "I Forgot That You Existed"
          ],
          [
           "Cruel Summer"
          ],
          [
           "Lover"
          ],
          [
           "The Man"
          ],
          [
           "The Archer"
          ],
          [
           "I Think He Knows"
          ],
          [
           "Miss Americana & The Heartbreak Prince"
          ],
          [
           "Paper Rings"
          ],
          [
           "Cornelia Street"
          ],
          [
           "Death By A Thousand Cuts"
          ],
          [
           "London Boy"
          ],
          [
           "Soon You’ll Get Better (feat. The Chicks)"
          ],
          [
           "False God"
          ],
          [
           "You Need To Calm Down"
          ],
          [
           "Afterglow"
          ],
          [
           "ME! (feat. Brendon Urie of Panic! At The Disco)"
          ],
          [
           "It’s Nice To Have A Friend"
          ],
          [
           "Daylight"
          ],
          [
           "...Ready For It? - Karaoke Version"
          ],
          [
           "End Game - Karaoke Version"
          ],
          [
           "I Did Something Bad - Karaoke Version"
          ],
          [
           "Don't Blame Me - Karaoke Version"
          ],
          [
           "Delicate - Karaoke Version"
          ],
          [
           "Look What You Made Me Do - Karaoke Version"
          ],
          [
           "So It Goes... - Karaoke Version"
          ],
          [
           "Gorgeous - Karaoke Version"
          ],
          [
           "Getaway Car - Karaoke Version"
          ],
          [
           "King Of My Heart - Karaoke Version"
          ],
          [
           "Dancing With Our Hands Tied - Karaoke Version"
          ],
          [
           "Dress - Karaoke Version"
          ],
          [
           "This Is Why We Can't Have Nice Things - Karaoke Version"
          ],
          [
           "Call It What You Want - Karaoke Version"
          ],
          [
           "New Year's Day - Karaoke Version"
          ],
          [
           "...Ready For It?"
          ],
          [
           "End Game"
          ],
          [
           "I Did Something Bad"
          ],
          [
           "Don’t Blame Me"
          ],
          [
           "Delicate"
          ],
          [
           "Look What You Made Me Do"
          ],
          [
           "So It Goes..."
          ],
          [
           "Gorgeous"
          ],
          [
           "Getaway Car"
          ],
          [
           "King Of My Heart"
          ],
          [
           "Dancing With Our Hands Tied"
          ],
          [
           "Dress"
          ],
          [
           "This Is Why We Can't Have Nice Things"
          ],
          [
           "Call It What You Want"
          ],
          [
           "New Year’s Day"
          ],
          [
           "…Ready For It? - Commentary"
          ],
          [
           "...Ready For It?"
          ],
          [
           "End Game - Commentary"
          ],
          [
           "End Game"
          ],
          [
           "I Did Something Bad - Commentary"
          ],
          [
           "I Did Something Bad"
          ],
          [
           "Don't Blame Me - Commentary"
          ],
          [
           "Don’t Blame Me"
          ],
          [
           "Delicate - Commentary"
          ],
          [
           "Delicate"
          ],
          [
           "Look What You Made Me Do - Commentary"
          ],
          [
           "Look What You Made Me Do"
          ],
          [
           "So It Goes… - Commentary"
          ],
          [
           "So It Goes..."
          ],
          [
           "Gorgeous - Commentary"
          ],
          [
           "Gorgeous"
          ],
          [
           "Getaway Car - Commentary"
          ],
          [
           "Getaway Car"
          ],
          [
           "King Of My Heart - Commentary"
          ],
          [
           "King Of My Heart"
          ],
          [
           "Dancing With Our Hands Tied - Commentary"
          ],
          [
           "Dancing With Our Hands Tied"
          ],
          [
           "Dress - Commentary"
          ],
          [
           "Dress"
          ],
          [
           "This Is Why We Can't Have Nice Things - Commentary"
          ],
          [
           "This Is Why We Can't Have Nice Things"
          ],
          [
           "Call It What You Want - Commentary"
          ],
          [
           "Call It What You Want"
          ],
          [
           "New Year's Day - Commentary"
          ],
          [
           "New Year’s Day"
          ],
          [
           "Radio Outro - Commentary"
          ],
          [
           "All Too Well"
          ],
          [
           "Wildest Dreams"
          ],
          [
           "The Best Day"
          ],
          [
           "Red"
          ],
          [
           "Holy Ground"
          ],
          [
           "Teardrops On My Guitar - Radio Single Remix"
          ],
          [
           "Our Song"
          ],
          [
           "22"
          ],
          [
           "I Knew You Were Trouble."
          ],
          [
           "I Don’t Wanna Live Forever (Fifty Shades Darker)"
          ],
          [
           "Mean"
          ],
          [
           "How You Get The Girl"
          ],
          [
           "So It Goes..."
          ],
          [
           "Fifteen"
          ],
          [
           "Mine"
          ],
          [
           "Sparks Fly"
          ],
          [
           "State Of Grace"
          ],
          [
           "Haunted"
          ],
          [
           "Never Grow Up"
          ],
          [
           "Treacherous"
          ],
          [
           "Babe"
          ],
          [
           "Welcome To New York"
          ],
          [
           "Fearless"
          ],
          [
           "Enchanted"
          ],
          [
           "Change"
          ],
          [
           "Ours"
          ],
          [
           "Out Of The Woods"
          ],
          [
           "Come Back...Be Here"
          ],
          [
           "A Place in this World"
          ],
          [
           "This Love"
          ],
          [
           "The Lucky One"
          ],
          [
           "Invisible"
          ],
          [
           "Breathe"
          ],
          [
           "Better Man"
          ],
          [
           "Jump Then Fall"
          ],
          [
           "Begin Again"
          ],
          [
           "Tied Together with a Smile"
          ],
          [
           "The Story Of Us"
          ],
          [
           "Forever & Always"
          ],
          [
           "Hey Stephen"
          ],
          [
           "Speak Now"
          ],
          [
           "Wonderland"
          ],
          [
           "White Horse"
          ],
          [
           "I'm Only Me When I'm With You"
          ],
          [
           "Starlight"
          ],
          [
           "I Know Places"
          ],
          [
           "Welcome To New York"
          ],
          [
           "Blank Space"
          ],
          [
           "Style"
          ],
          [
           "Out Of The Woods"
          ],
          [
           "All You Had To Do Was Stay"
          ],
          [
           "Shake It Off"
          ],
          [
           "I Wish You Would"
          ],
          [
           "Bad Blood"
          ],
          [
           "Wildest Dreams"
          ],
          [
           "How You Get The Girl"
          ],
          [
           "This Love"
          ],
          [
           "I Know Places"
          ],
          [
           "Clean"
          ],
          [
           "Welcome To New York"
          ],
          [
           "Blank Space"
          ],
          [
           "Style"
          ],
          [
           "Out Of The Woods"
          ],
          [
           "All You Had To Do Was Stay"
          ],
          [
           "Shake It Off"
          ],
          [
           "I Wish You Would"
          ],
          [
           "Bad Blood"
          ],
          [
           "Wildest Dreams"
          ],
          [
           "How You Get The Girl"
          ],
          [
           "This Love"
          ],
          [
           "I Know Places"
          ],
          [
           "Clean"
          ],
          [
           "Welcome to New York - Commentary"
          ],
          [
           "Welcome To New York"
          ],
          [
           "Blank Space - Commentary"
          ],
          [
           "Blank Space"
          ],
          [
           "Style - Commentary"
          ],
          [
           "Style"
          ],
          [
           "Out Of The Woods - Commentary"
          ],
          [
           "Out Of The Woods"
          ],
          [
           "All You Had To Do Was Stay - Commentary"
          ],
          [
           "All You Had To Do Was Stay"
          ],
          [
           "Shake It Off - Commentary"
          ],
          [
           "Shake It Off"
          ],
          [
           "I Wish You Would - Commentary"
          ],
          [
           "I Wish You Would"
          ],
          [
           "Bad Blood - Commentary"
          ],
          [
           "Bad Blood"
          ],
          [
           "Wildest Dreams - Commentary"
          ],
          [
           "Wildest Dreams"
          ],
          [
           "How You Get The Girl - Commentary"
          ],
          [
           "How You Get The Girl"
          ],
          [
           "This Love - Commentary"
          ],
          [
           "This Love"
          ],
          [
           "I Know Places - Commentary"
          ],
          [
           "I Know Places"
          ],
          [
           "Clean - Commentary"
          ],
          [
           "Clean"
          ],
          [
           "Welcome To New York - Karaoke Version"
          ],
          [
           "Blank Space - Karaoke Version"
          ],
          [
           "Style - Karaoke Version"
          ],
          [
           "Out Of The Woods - Karaoke Version"
          ],
          [
           "All You Had To Do Was Stay - Karaoke Version"
          ],
          [
           "Shake It Off - Karaoke Version"
          ],
          [
           "I Wish You Would - Karaoke Version"
          ],
          [
           "Bad Blood - Karaoke Version"
          ],
          [
           "Wildest Dreams - Karaoke Version"
          ],
          [
           "How You Get The Girl - Karaoke Version"
          ],
          [
           "This Love - Karaoke Version"
          ],
          [
           "I Know Places - Karaoke Version"
          ],
          [
           "Clean - Karaoke Version"
          ],
          [
           "Welcome To New York"
          ],
          [
           "Blank Space"
          ],
          [
           "Style"
          ],
          [
           "Out Of The Woods"
          ],
          [
           "All You Had To Do Was Stay"
          ],
          [
           "Shake It Off"
          ],
          [
           "I Wish You Would"
          ],
          [
           "Bad Blood"
          ],
          [
           "Wildest Dreams"
          ],
          [
           "How You Get The Girl"
          ],
          [
           "This Love"
          ],
          [
           "I Know Places"
          ],
          [
           "Clean"
          ],
          [
           "State Of Grace"
          ],
          [
           "Red"
          ],
          [
           "Treacherous"
          ],
          [
           "I Knew You Were Trouble."
          ],
          [
           "All Too Well"
          ],
          [
           "22"
          ],
          [
           "I Almost Do"
          ],
          [
           "We Are Never Ever Getting Back Together"
          ],
          [
           "Stay Stay Stay"
          ],
          [
           "The Last Time"
          ],
          [
           "Holy Ground"
          ],
          [
           "Sad Beautiful Tragic"
          ],
          [
           "The Lucky One"
          ],
          [
           "Everything Has Changed"
          ],
          [
           "Starlight"
          ],
          [
           "Begin Again"
          ],
          [
           "State Of Grace - Commentary"
          ],
          [
           "State Of Grace"
          ],
          [
           "Red - Commentary"
          ],
          [
           "Red"
          ],
          [
           "Treacherous - Commentary"
          ],
          [
           "Treacherous"
          ],
          [
           "I Knew You Were Trouble. - Commentary"
          ],
          [
           "I Knew You Were Trouble."
          ],
          [
           "All Too Well - Commentary"
          ],
          [
           "All Too Well"
          ],
          [
           "22 - Commentary"
          ],
          [
           "22"
          ],
          [
           "I Almost Do - Commentary"
          ],
          [
           "I Almost Do"
          ],
          [
           "We Are Never Ever Getting Back Together - Commentary"
          ],
          [
           "We Are Never Ever Getting Back Together"
          ],
          [
           "Stay Stay Stay - Commentary"
          ],
          [
           "Stay Stay Stay"
          ],
          [
           "The Last Time - Commentary"
          ],
          [
           "The Last Time"
          ],
          [
           "Holy Ground - Commentary"
          ],
          [
           "Holy Ground"
          ],
          [
           "Sad Beautiful Tragic - Commentary"
          ],
          [
           "Sad Beautiful Tragic"
          ],
          [
           "The Lucky One - Commentary"
          ],
          [
           "The Lucky One"
          ],
          [
           "Everything Has Changed - Commentary"
          ],
          [
           "Everything Has Changed"
          ],
          [
           "Starlight - Commentary"
          ],
          [
           "Starlight"
          ],
          [
           "Begin Again - Commentary"
          ],
          [
           "Begin Again"
          ],
          [
           "State Of Grace - Karaoke Version"
          ],
          [
           "Red - Karaoke Version"
          ],
          [
           "Treacherous - Karaoke Version"
          ],
          [
           "I Knew You Were Trouble. - Karaoke Version"
          ],
          [
           "All Too Well - Karaoke Version"
          ],
          [
           "22 - Karaoke Version"
          ],
          [
           "I Almost Do - Karaoke Version"
          ],
          [
           "We Are Never Ever Getting Back Together - Karaoke Version"
          ],
          [
           "Stay Stay Stay - Karaoke Version"
          ],
          [
           "The Last Time - Karaoke Version"
          ],
          [
           "Holy Ground - Karaoke Version"
          ],
          [
           "Sad Beautiful Tragic - Karaoke Version"
          ],
          [
           "The Lucky One - Karaoke Version"
          ],
          [
           "Everything Has Changed - Karaoke Version"
          ],
          [
           "Starlight - Karaoke Version"
          ],
          [
           "Begin Again - Karaoke Version"
          ],
          [
           "State Of Grace - Instrumental With Background Vocals"
          ],
          [
           "Red - Instrumental With Background Vocals"
          ],
          [
           "Treacherous - Instrumental With Background Vocals"
          ],
          [
           "I Knew You Were Trouble. - Instrumental With Background Vocals"
          ],
          [
           "All Too Well - Instrumental With Background Vocals"
          ],
          [
           "22 - Instrumental With Background Vocals"
          ],
          [
           "I Almost Do - Instrumental With Background Vocals"
          ],
          [
           "We Are Never Ever Getting Back Together - Instrumental With Background Vocals"
          ],
          [
           "Stay Stay Stay - Instrumental With Background Vocals"
          ],
          [
           "The Last Time - Instrumental With Background Vocals"
          ],
          [
           "Holy Ground - Instrumental With Background Vocals"
          ],
          [
           "Sad Beautiful Tragic - Instrumental With Background Vocals"
          ],
          [
           "The Lucky One - Instrumental With Background Vocals"
          ],
          [
           "Everything Has Changed - Instrumental With Background Vocals"
          ],
          [
           "Starlight - Instrumental With Background Vocals"
          ],
          [
           "Begin Again - Instrumental With Background Vocals"
          ],
          [
           "Sparks Fly - Live/2011"
          ],
          [
           "Mine - Live/2011"
          ],
          [
           "The Story Of Us - Live"
          ],
          [
           "Mean - Live/2011"
          ],
          [
           "Ours - Live/2011"
          ],
          [
           "Back To December/Apologize/You're Not Sorry - Live/2011/Medley"
          ],
          [
           "Better Than Revenge - Live/2011"
          ],
          [
           "Speak Now - Live/2011"
          ],
          [
           "Last Kiss - Live/2011"
          ],
          [
           "Drops Of Jupiter - Live/2011"
          ],
          [
           "Bette Davis Eyes - Live/2011"
          ],
          [
           "I Want You Back - Live/2011"
          ],
          [
           "Dear John - Live/2011"
          ],
          [
           "Enchanted - Live/2011"
          ],
          [
           "Haunted - Live/2011"
          ],
          [
           "Long Live - Live/2011"
          ],
          [
           "Mine"
          ],
          [
           "Sparks Fly"
          ],
          [
           "Back To December"
          ],
          [
           "Speak Now"
          ],
          [
           "Dear John"
          ],
          [
           "Mean"
          ],
          [
           "The Story Of Us"
          ],
          [
           "Never Grow Up"
          ],
          [
           "Enchanted"
          ],
          [
           "Better Than Revenge"
          ],
          [
           "Innocent"
          ],
          [
           "Haunted"
          ],
          [
           "Last Kiss"
          ],
          [
           "Long Live"
          ],
          [
           "Mine - Commentary"
          ],
          [
           "Mine"
          ],
          [
           "Sparks Fly - Commentary"
          ],
          [
           "Sparks Fly"
          ],
          [
           "Back To December - Commentary"
          ],
          [
           "Back To December"
          ],
          [
           "Speak Now - Commentary"
          ],
          [
           "Speak Now"
          ],
          [
           "Dear John - Commentary"
          ],
          [
           "Dear John"
          ],
          [
           "Mean - Commentary"
          ],
          [
           "Mean"
          ],
          [
           "The Story Of Us - Commentary"
          ],
          [
           "The Story Of Us"
          ],
          [
           "Never Grow Up - Commentary"
          ],
          [
           "Never Grow Up"
          ],
          [
           "Enchanted - Commentary"
          ],
          [
           "Enchanted"
          ],
          [
           "Better Than Revenge - Commentary"
          ],
          [
           "Better Than Revenge"
          ],
          [
           "Innocent - Commentary"
          ],
          [
           "Innocent"
          ],
          [
           "Haunted - Commentary"
          ],
          [
           "Haunted"
          ],
          [
           "Last Kiss - Commentary"
          ],
          [
           "Last Kiss"
          ],
          [
           "Long Live - Commentary"
          ],
          [
           "Long Live"
          ],
          [
           "Mine - Instrumental With Background Vocals"
          ],
          [
           "Sparks Fly - Instrumental With Background Vocals"
          ],
          [
           "Back To December - Instrumental With Background Vocals"
          ],
          [
           "Speak Now - Instrumental With Background Vocals"
          ],
          [
           "Dear John - Instrumental With Background Vocals"
          ],
          [
           "Mean - Instrumental With Background Vocals"
          ],
          [
           "The Story Of Us - Instrumental With Background Vocals"
          ],
          [
           "Never Grow Up - Instrumental With Background Vocals"
          ],
          [
           "Enchanted - Instrumental With Background Vocals"
          ],
          [
           "Better Than Revenge - Instrumental With Background Vocals"
          ],
          [
           "Innocent - Instrumental With Background Vocals"
          ],
          [
           "Haunted - Instrumental With Background Vocals"
          ],
          [
           "Last Kiss - Instrumental With Background Vocals"
          ],
          [
           "Long Live - Instrumental With Background Vocals"
          ],
          [
           "Mine - POP Mix"
          ],
          [
           "Sparks Fly"
          ],
          [
           "Back To December"
          ],
          [
           "Speak Now"
          ],
          [
           "Dear John"
          ],
          [
           "Mean"
          ],
          [
           "The Story Of Us"
          ],
          [
           "Never Grow Up"
          ],
          [
           "Enchanted"
          ],
          [
           "Better Than Revenge"
          ],
          [
           "Innocent"
          ],
          [
           "Haunted"
          ],
          [
           "Last Kiss"
          ],
          [
           "Long Live"
          ],
          [
           "Fearless"
          ],
          [
           "Fifteen"
          ],
          [
           "Love Story"
          ],
          [
           "Hey Stephen"
          ],
          [
           "White Horse"
          ],
          [
           "You Belong With Me"
          ],
          [
           "Breathe"
          ],
          [
           "Tell Me Why"
          ],
          [
           "You're Not Sorry"
          ],
          [
           "The Way I Loved You"
          ],
          [
           "Forever & Always"
          ],
          [
           "The Best Day"
          ],
          [
           "Change"
          ],
          [
           "Our Song"
          ],
          [
           "Teardrops On My Guitar"
          ],
          [
           "Should've Said No"
          ],
          [
           "Beautiful Eyes"
          ],
          [
           "Picture To Burn - Radio Edit"
          ],
          [
           "I'm Only Me When I'm With You"
          ],
          [
           "I Heart ?"
          ],
          [
           "Fearless"
          ],
          [
           "Fifteen"
          ],
          [
           "Love Story"
          ],
          [
           "Hey Stephen"
          ],
          [
           "White Horse"
          ],
          [
           "You Belong With Me"
          ],
          [
           "Breathe"
          ],
          [
           "Tell Me Why"
          ],
          [
           "You're Not Sorry"
          ],
          [
           "The Way I Loved You"
          ],
          [
           "Forever & Always"
          ],
          [
           "The Best Day"
          ],
          [
           "Change"
          ],
          [
           "Our Song"
          ],
          [
           "Teardrops On My Guitar"
          ],
          [
           "Should've Said No"
          ],
          [
           "Love Story - J Stax Radio Mix"
          ],
          [
           "Fearless"
          ],
          [
           "Fifteen"
          ],
          [
           "Love Story"
          ],
          [
           "Hey Stephen"
          ],
          [
           "White Horse"
          ],
          [
           "You Belong With Me"
          ],
          [
           "Breathe"
          ],
          [
           "Tell Me Why"
          ],
          [
           "You're Not Sorry"
          ],
          [
           "The Way I Loved You"
          ],
          [
           "Forever & Always"
          ],
          [
           "The Best Day"
          ],
          [
           "Change"
          ],
          [
           "Fearless - Commentary"
          ],
          [
           "Fearless"
          ],
          [
           "Fifteen - Commentary"
          ],
          [
           "Fifteen"
          ],
          [
           "Love Story - Commentary"
          ],
          [
           "Love Story"
          ],
          [
           "Hey Stephen - Commentary"
          ],
          [
           "Hey Stephen"
          ],
          [
           "White Horse - Commentary"
          ],
          [
           "White Horse"
          ],
          [
           "You Belong With Me - Commentary"
          ],
          [
           "You Belong With Me"
          ],
          [
           "Breathe - Commentary"
          ],
          [
           "Breathe"
          ],
          [
           "Tell Me Why - Commentary"
          ],
          [
           "Tell Me Why"
          ],
          [
           "You're Not Sorry - Commentary"
          ],
          [
           "You're Not Sorry"
          ],
          [
           "The Way I Loved You - Commentary"
          ],
          [
           "The Way I Loved You"
          ],
          [
           "Forever & Always - Commentary"
          ],
          [
           "Forever & Always"
          ],
          [
           "The Best Day - Commentary"
          ],
          [
           "The Best Day"
          ],
          [
           "Change - Commentary"
          ],
          [
           "Change"
          ],
          [
           "Fearless - Instrumental with BGV"
          ],
          [
           "Fifteen - Instrumental with BGV"
          ],
          [
           "Love Story - Instrumental with BGV"
          ],
          [
           "Hey Stephen - Instrumental with BGV"
          ],
          [
           "White Horse - Instrumental with BGV"
          ],
          [
           "You Belong With Me - Instrumental with BGV"
          ],
          [
           "Breathe - Instrumental only, no BV"
          ],
          [
           "Tell Me Why - Instrumental with BGV"
          ],
          [
           "You're Not Sorry - Instrumental with BGV"
          ],
          [
           "The Way I Loved You - Instrumental with BGV"
          ],
          [
           "Forever & Always - Instrumental with BGV"
          ],
          [
           "The Best Day - Instrumental with BGV"
          ],
          [
           "Change - Instrumental with BGV"
          ],
          [
           "Jump Then Fall"
          ],
          [
           "Untouchable"
          ],
          [
           "Forever & Always - Piano Version"
          ],
          [
           "Come In With The Rain"
          ],
          [
           "SuperStar"
          ],
          [
           "The Other Side Of The Door"
          ],
          [
           "Fearless"
          ],
          [
           "Fifteen"
          ],
          [
           "Love Story"
          ],
          [
           "Hey Stephen"
          ],
          [
           "White Horse"
          ],
          [
           "You Belong With Me"
          ],
          [
           "Breathe"
          ],
          [
           "Tell Me Why"
          ],
          [
           "You're Not Sorry"
          ],
          [
           "The Way I Loved You"
          ],
          [
           "Forever & Always"
          ],
          [
           "The Best Day"
          ],
          [
           "Change"
          ],
          [
           "Love Story - Live From Clear Channel Stripped 2008"
          ],
          [
           "Fearless - Live From Clear Channel Stripped 2008"
          ],
          [
           "Beautiful Eyes - Live From Clear Channel Stripped 2008"
          ],
          [
           "Untouchable - Live From Clear Channel Stripped 2008"
          ],
          [
           "Teardrops On My Guitar - Live From Clear Channel Stripped 2008"
          ],
          [
           "Picture To Burn - Live From Clear Channel Stripped 2008"
          ],
          [
           "Should've Said No - Live From Clear Channel Stripped 2008"
          ],
          [
           "Change - Live From Clear Channel Stripped 2008"
          ],
          [
           "Fearless"
          ],
          [
           "Fifteen"
          ],
          [
           "Love Story"
          ],
          [
           "Hey Stephen"
          ],
          [
           "White Horse"
          ],
          [
           "You Belong With Me"
          ],
          [
           "Breathe"
          ],
          [
           "Tell Me Why"
          ],
          [
           "You're Not Sorry"
          ],
          [
           "The Way I Loved You"
          ],
          [
           "Forever & Always"
          ],
          [
           "The Best Day"
          ],
          [
           "Change"
          ],
          [
           "Tim McGraw"
          ],
          [
           "Picture To Burn"
          ],
          [
           "Teardrops On My Guitar - Radio Single Remix"
          ],
          [
           "A Place in this World"
          ],
          [
           "Cold As You"
          ],
          [
           "The Outside"
          ],
          [
           "Tied Together with a Smile"
          ],
          [
           "Stay Beautiful"
          ],
          [
           "Should've Said No"
          ],
          [
           "Mary's Song (Oh My My My)"
          ],
          [
           "Our Song"
          ],
          [
           "I'm Only Me When I'm With You"
          ],
          [
           "Invisible"
          ],
          [
           "A Perfectly Good Heart"
          ],
          [
           "Teardrops on My Guitar - Pop Version"
          ],
          [
           "Tim McGraw"
          ],
          [
           "Picture To Burn"
          ],
          [
           "Teardrops On My Guitar - Radio Single Remix"
          ],
          [
           "A Place in this World"
          ],
          [
           "Cold As You"
          ],
          [
           "The Outside"
          ],
          [
           "Tied Together with a Smile"
          ],
          [
           "Stay Beautiful"
          ],
          [
           "Should've Said No"
          ],
          [
           "Mary's Song (Oh My My My)"
          ],
          [
           "Our Song"
          ],
          [
           "I'm Only Me When I'm With You"
          ],
          [
           "Invisible"
          ],
          [
           "A Perfectly Good Heart"
          ],
          [
           "Teardrops on My Guitar - Pop Version"
          ],
          [
           "Tim McGraw - Commentary"
          ],
          [
           "Tim McGraw"
          ],
          [
           "Picture To Burn - Commentary"
          ],
          [
           "Picture To Burn"
          ],
          [
           "Teardrops On My Guitar - Radio Single Remix / Commentary"
          ],
          [
           "Teardrops On My Guitar - Radio Single Remix"
          ],
          [
           "A Place In This World - Commentary"
          ],
          [
           "A Place In This World"
          ],
          [
           "Cold As You - Commentary"
          ],
          [
           "Cold As You"
          ],
          [
           "The Outside - Commentary"
          ],
          [
           "The Outside"
          ],
          [
           "Tied Together With A Smile - Commentary"
          ],
          [
           "Tied Together With A Smile"
          ],
          [
           "Stay Beautiful - Commentary"
          ],
          [
           "Stay Beautiful"
          ],
          [
           "Should’ve Said No - Commentary"
          ],
          [
           "Should've Said No"
          ],
          [
           "Mary's Song (Oh My My My) - Commentary"
          ],
          [
           "Mary's Song (Oh My My My)"
          ],
          [
           "Our Song - Commentary"
          ],
          [
           "Our Song"
          ],
          [
           "I’m Only Me When I’m With You - Commentary"
          ],
          [
           "I'm Only Me When I'm With You"
          ],
          [
           "Invisible - Commentary"
          ],
          [
           "Invisible"
          ],
          [
           "A Perfectly Good Heart - Commentary"
          ],
          [
           "A Perfectly Good Heart"
          ],
          [
           "Teardrops On My Guitar - Pop Version / Commentary"
          ],
          [
           "Teardrops On My Guitar - Pop Version"
          ],
          [
           "Tim McGraw - Instrumental w/ BG vocals"
          ],
          [
           "Picture To Burn - Instrumental w/ BG vocals"
          ],
          [
           "Teardrops On My Guitar - Instrumental w/ BG vocals"
          ],
          [
           "A Place In This World - Instrumental w/ BG vocals"
          ],
          [
           "Cold As You - Instrumental w/ BG vocals"
          ],
          [
           "The Outside - Instrumental w/ BG vocals"
          ],
          [
           "Tied Together With A Smile - Instrumental w/ BG vocals"
          ],
          [
           "Stay Beautiful - Instrumental w/ BG vocals"
          ],
          [
           "Should've Said No - Instrumental w/ BG vocals"
          ],
          [
           "Mary's Song (Oh My My My) - Instrumental w/ BG vocals"
          ],
          [
           "Our Song - Instrumental w/ BG vocals"
          ],
          [
           "I'm Only Me When I'm With You - Instrumental w/ BG vocals"
          ],
          [
           "Invisible - Instrumental w/ BG vocals"
          ],
          [
           "A Perfectly Good Heart - Instrumental w/ BG vocals"
          ]
         ],
         "hovertemplate": "Artist(s)=Taylor Swift<br>Positiveness (valence)=%{x}<br>Energy=%{y}<br>Song Title=%{customdata[0]}<extra></extra>",
         "legendgroup": "Taylor Swift",
         "marker": {
          "color": "#636efa",
          "symbol": "circle"
         },
         "mode": "markers",
         "name": "Taylor Swift",
         "showlegend": true,
         "type": "scattergl",
         "x": [
          0.529,
          0.32,
          0.353,
          0.348,
          0.221,
          0.535,
          0.21100000000000002,
          0.354,
          0.292,
          0.535,
          0.511,
          0.573,
          0.287,
          0.92,
          0.32,
          0.529,
          0.32,
          0.353,
          0.348,
          0.221,
          0.535,
          0.21100000000000002,
          0.354,
          0.292,
          0.535,
          0.511,
          0.573,
          0.287,
          0.92,
          0.32,
          0.5489999999999999,
          0.325,
          0.35100000000000003,
          0.35100000000000003,
          0.212,
          0.528,
          0.201,
          0.361,
          0.304,
          0.522,
          0.512,
          0.5710000000000001,
          0.294,
          0.919,
          0.314,
          0.172,
          0.551,
          0.706,
          0.152,
          0.111,
          0.379,
          0.415,
          0.40299999999999997,
          0.41200000000000003,
          0.46,
          0.45,
          0.506,
          0.113,
          0.502,
          0.33899999999999997,
          0.429,
          0.171,
          0.551,
          0.713,
          0.152,
          0.111,
          0.379,
          0.415,
          0.40299999999999997,
          0.41200000000000003,
          0.46,
          0.45,
          0.5329999999999999,
          0.113,
          0.467,
          0.33399999999999996,
          0.429,
          0.541,
          0.564,
          0.45299999999999996,
          0.633,
          0.166,
          0.41600000000000004,
          0.48700000000000004,
          0.865,
          0.248,
          0.313,
          0.557,
          0.42100000000000004,
          0.35100000000000003,
          0.7140000000000001,
          0.39899999999999997,
          0.728,
          0.545,
          0.265,
          0.191,
          0.0719,
          0.17800000000000002,
          0.0764,
          0.0429,
          0.0709,
          0.25,
          0.335,
          0.158,
          0.145,
          0.217,
          0.0383,
          0.214,
          0.139,
          0.0767,
          0.41700000000000004,
          0.151,
          0.305,
          0.193,
          0.0499,
          0.506,
          0.374,
          0.451,
          0.35100000000000003,
          0.314,
          0.284,
          0.0851,
          0.43799999999999994,
          0.252,
          0.23,
          0.7140000000000001,
          0.41700000000000004,
          0.565,
          0.151,
          0.731,
          0.305,
          0.647,
          0.193,
          0.48700000000000004,
          0.0499,
          0.584,
          0.506,
          0.527,
          0.374,
          0.7290000000000001,
          0.451,
          0.478,
          0.35100000000000003,
          0.715,
          0.314,
          0.507,
          0.284,
          0.535,
          0.0851,
          0.54,
          0.43799999999999994,
          0.529,
          0.252,
          0.424,
          0.23,
          0.6679999999999999,
          0.316,
          0.465,
          0.38299999999999995,
          0.647,
          0.648,
          0.263,
          0.565,
          0.68,
          0.665,
          0.106,
          0.79,
          0.545,
          0.374,
          0.21100000000000002,
          0.67,
          0.39899999999999997,
          0.38299999999999995,
          0.37,
          0.545,
          0.395,
          0.643,
          0.6579999999999999,
          0.429,
          0.218,
          0.23399999999999999,
          0.228,
          0.33799999999999997,
          0.217,
          0.43799999999999994,
          0.107,
          0.561,
          0.22399999999999998,
          0.16699999999999998,
          0.507,
          0.818,
          0.32299999999999995,
          0.23800000000000002,
          0.65,
          0.52,
          0.838,
          0.7140000000000001,
          0.19699999999999998,
          0.218,
          0.521,
          0.616,
          0.495,
          0.615,
          0.583,
          0.456,
          0.342,
          0.47200000000000003,
          0.943,
          0.503,
          0.295,
          0.467,
          0.525,
          0.0858,
          0.507,
          0.21100000000000002,
          0.615,
          0.583,
          0.456,
          0.342,
          0.47200000000000003,
          0.943,
          0.503,
          0.295,
          0.467,
          0.525,
          0.0858,
          0.507,
          0.21100000000000002,
          0.612,
          0.6579999999999999,
          0.547,
          0.57,
          0.621,
          0.48700000000000004,
          0.5770000000000001,
          0.33799999999999997,
          0.56,
          0.539,
          0.629,
          0.9420000000000001,
          0.6459999999999999,
          0.513,
          0.5710000000000001,
          0.287,
          0.6809999999999999,
          0.465,
          0.838,
          0.545,
          0.657,
          0.107,
          0.629,
          0.495,
          0.61,
          0.21100000000000002,
          0.33399999999999996,
          0.598,
          0.48100000000000004,
          0.0612,
          0.579,
          0.825,
          0.23600000000000002,
          0.18100000000000002,
          0.45399999999999996,
          0.456,
          0.0665,
          0.45799999999999996,
          0.369,
          0.615,
          0.583,
          0.456,
          0.342,
          0.47200000000000003,
          0.943,
          0.503,
          0.295,
          0.467,
          0.525,
          0.0858,
          0.507,
          0.21100000000000002,
          0.397,
          0.6409999999999999,
          0.395,
          0.679,
          0.337,
          0.6679999999999999,
          0.233,
          0.75,
          0.9279999999999999,
          0.12300000000000001,
          0.648,
          0.261,
          0.545,
          0.436,
          0.5870000000000001,
          0.32299999999999995,
          0.539,
          0.397,
          0.48700000000000004,
          0.6409999999999999,
          0.49700000000000005,
          0.395,
          0.598,
          0.679,
          0.75,
          0.337,
          0.51,
          0.6679999999999999,
          0.648,
          0.233,
          0.5379999999999999,
          0.75,
          0.6509999999999999,
          0.9279999999999999,
          0.49,
          0.12300000000000001,
          0.47100000000000003,
          0.648,
          0.415,
          0.261,
          0.355,
          0.545,
          0.5579999999999999,
          0.436,
          0.7020000000000001,
          0.5870000000000001,
          0.6559999999999999,
          0.32299999999999995,
          0.223,
          0.675,
          0.406,
          0.5579999999999999,
          0.298,
          0.647,
          0.183,
          0.5710000000000001,
          0.75,
          0.105,
          0.675,
          0.285,
          0.557,
          0.28300000000000003,
          0.452,
          0.375,
          0.223,
          0.695,
          0.36700000000000005,
          0.551,
          0.306,
          0.684,
          0.19899999999999998,
          0.58,
          0.74,
          0.11,
          0.623,
          0.28300000000000003,
          0.608,
          0.26899999999999996,
          0.41700000000000004,
          0.381,
          0.298,
          0.442,
          0.47200000000000003,
          0.43200000000000005,
          0.267,
          0.171,
          0.386,
          0.373,
          0.188,
          0.27,
          0.363,
          0.249,
          0.138,
          0.214,
          0.177,
          0.204,
          0.6579999999999999,
          0.374,
          0.28600000000000003,
          0.735,
          0.102,
          0.789,
          0.6829999999999999,
          0.5539999999999999,
          0.20800000000000002,
          0.635,
          0.17,
          0.35200000000000004,
          0.196,
          0.142,
          0.5429999999999999,
          0.635,
          0.655,
          0.358,
          0.642,
          0.272,
          0.565,
          0.737,
          0.59,
          0.115,
          0.6940000000000001,
          0.794,
          0.66,
          0.6659999999999999,
          0.57,
          0.5379999999999999,
          0.627,
          0.195,
          0.784,
          0.595,
          0.597,
          0.159,
          0.517,
          0.358,
          0.588,
          0.22699999999999998,
          0.6809999999999999,
          0.142,
          0.62,
          0.37,
          0.31,
          0.56,
          0.133,
          0.62,
          0.6459999999999999,
          0.39,
          0.0921,
          0.425,
          0.21,
          0.41,
          0.156,
          0.0876,
          0.6920000000000001,
          0.376,
          0.29600000000000004,
          0.742,
          0.126,
          0.8079999999999999,
          0.84,
          0.547,
          0.228,
          0.652,
          0.18600000000000003,
          0.361,
          0.20800000000000002,
          0.146,
          0.433,
          0.209,
          0.29100000000000004,
          0.815,
          0.247,
          0.431,
          0.16,
          0.512,
          0.252,
          0.406,
          0.501,
          0.36,
          0.237,
          0.63,
          0.154,
          0.43700000000000006,
          0.37200000000000005,
          0.802,
          0.5429999999999999,
          0.64,
          0.44799999999999995,
          0.20800000000000002,
          0.26899999999999996,
          0.8270000000000001,
          0.231,
          0.414,
          0.156,
          0.49200000000000005,
          0.302,
          0.419,
          0.529,
          0.38299999999999995,
          0.231,
          0.6509999999999999,
          0.171,
          0.444,
          0.324,
          0.47600000000000003,
          0.203,
          0.29600000000000004,
          0.831,
          0.223,
          0.44299999999999995,
          0.184,
          0.51,
          0.276,
          0.39799999999999996,
          0.544,
          0.396,
          0.215,
          0.655,
          0.474,
          0.773,
          0.19699999999999998,
          0.594,
          0.306,
          0.623,
          0.809,
          0.8320000000000001,
          0.212,
          0.728,
          0.435,
          0.7390000000000001,
          0.174,
          0.807,
          0.488,
          0.6679999999999999,
          0.285,
          0.767,
          0.41,
          0.715,
          0.486,
          0.6970000000000001,
          0.345,
          0.54,
          0.207,
          0.38299999999999995,
          0.23,
          0.155,
          0.966,
          0.24,
          0.2,
          0.22399999999999998,
          0.659,
          0.184,
          0.33299999999999996,
          0.475,
          0.424,
          0.179,
          0.82,
          0.28800000000000003,
          0.294,
          0.22399999999999998,
          0.228,
          0.469,
          0.467,
          0.214,
          0.307,
          0.825,
          0.195,
          0.445,
          0.17,
          0.513,
          0.281,
          0.379,
          0.514,
          0.364,
          0.22399999999999998,
          0.512,
          0.467,
          0.457,
          0.331,
          0.615,
          0.684,
          0.43799999999999994,
          0.273,
          0.442,
          0.204,
          0.3,
          0.805,
          0.212,
          0.45,
          0.16899999999999998,
          0.49,
          0.273,
          0.41600000000000004,
          0.515,
          0.402,
          0.21899999999999997,
          0.425,
          0.821,
          0.289,
          0.428,
          0.261,
          0.591,
          0.192,
          0.504,
          0.47200000000000003,
          0.374,
          0.539,
          0.518,
          0.233,
          0.268,
          0.483,
          0.425,
          0.821,
          0.289,
          0.428,
          0.261,
          0.591,
          0.192,
          0.504,
          0.47200000000000003,
          0.374,
          0.539,
          0.518,
          0.233,
          0.268,
          0.483,
          0.653,
          0.447,
          0.512,
          0.7909999999999999,
          0.551,
          0.259,
          0.774,
          0.43,
          0.528,
          0.29,
          0.6759999999999999,
          0.5870000000000001,
          0.552,
          0.213,
          0.503,
          0.44299999999999995,
          0.591,
          0.53,
          0.705,
          0.368,
          0.606,
          0.575,
          0.5710000000000001,
          0.505,
          0.593,
          0.204,
          0.56,
          0.273,
          0.705,
          0.485,
          0.301,
          0.892,
          0.12300000000000001,
          0.544,
          0.19699999999999998,
          0.62,
          0.183,
          0.46,
          0.685,
          0.301,
          0.585,
          0.847,
          0.11800000000000001,
          0.31
         ],
         "xaxis": "x",
         "y": [
          0.574,
          0.24,
          0.462,
          0.434,
          0.361,
          0.613,
          0.33399999999999996,
          0.488,
          0.537,
          0.545,
          0.517,
          0.73,
          0.561,
          0.7040000000000001,
          0.27,
          0.574,
          0.24,
          0.462,
          0.434,
          0.361,
          0.613,
          0.33399999999999996,
          0.488,
          0.537,
          0.545,
          0.517,
          0.73,
          0.561,
          0.7040000000000001,
          0.27,
          0.579,
          0.248,
          0.47100000000000003,
          0.435,
          0.36,
          0.613,
          0.331,
          0.488,
          0.536,
          0.547,
          0.513,
          0.732,
          0.562,
          0.705,
          0.27,
          0.35700000000000004,
          0.581,
          0.662,
          0.38,
          0.263,
          0.413,
          0.488,
          0.623,
          0.47600000000000003,
          0.31,
          0.452,
          0.6990000000000001,
          0.267,
          0.377,
          0.272,
          0.18100000000000002,
          0.348,
          0.581,
          0.6609999999999999,
          0.38,
          0.263,
          0.413,
          0.488,
          0.623,
          0.47600000000000003,
          0.31,
          0.452,
          0.7090000000000001,
          0.267,
          0.379,
          0.26899999999999996,
          0.18100000000000002,
          0.316,
          0.7020000000000001,
          0.5429999999999999,
          0.6579999999999999,
          0.574,
          0.366,
          0.747,
          0.7190000000000001,
          0.624,
          0.732,
          0.71,
          0.182,
          0.32,
          0.6709999999999999,
          0.449,
          0.83,
          0.175,
          0.496,
          0.8140000000000001,
          0.528,
          0.517,
          0.456,
          0.332,
          0.373,
          0.53,
          0.462,
          0.682,
          0.622,
          0.529,
          0.457,
          0.757,
          0.45399999999999996,
          0.0639,
          0.764,
          0.589,
          0.602,
          0.534,
          0.40399999999999997,
          0.7090000000000001,
          0.61,
          0.535,
          0.6890000000000001,
          0.703,
          0.691,
          0.469,
          0.789,
          0.504,
          0.151,
          0.34700000000000003,
          0.764,
          0.245,
          0.589,
          0.327,
          0.602,
          0.287,
          0.534,
          0.23600000000000002,
          0.40399999999999997,
          0.37799999999999995,
          0.7090000000000001,
          0.318,
          0.61,
          0.242,
          0.535,
          0.177,
          0.6890000000000001,
          0.34600000000000003,
          0.703,
          0.281,
          0.691,
          0.312,
          0.469,
          0.207,
          0.789,
          0.33899999999999997,
          0.504,
          0.158,
          0.151,
          0.298,
          0.605,
          0.688,
          0.44799999999999995,
          0.899,
          0.816,
          0.42700000000000005,
          0.6629999999999999,
          0.733,
          0.46399999999999997,
          0.445,
          0.754,
          0.6559999999999999,
          0.61,
          0.628,
          0.779,
          0.782,
          0.828,
          0.9490000000000001,
          0.309,
          0.621,
          0.784,
          0.634,
          0.718,
          0.626,
          0.763,
          0.56,
          0.841,
          0.5479999999999999,
          0.767,
          0.435,
          0.505,
          0.38299999999999995,
          0.48,
          0.843,
          0.6990000000000001,
          0.526,
          0.547,
          0.8079999999999999,
          0.8290000000000001,
          0.541,
          0.603,
          0.6920000000000001,
          0.348,
          0.9329999999999999,
          0.777,
          0.755,
          0.634,
          0.6779999999999999,
          0.7859999999999999,
          0.841,
          0.735,
          0.785,
          0.898,
          0.802,
          0.664,
          0.659,
          0.45899999999999996,
          0.763,
          0.38,
          0.634,
          0.6779999999999999,
          0.7859999999999999,
          0.841,
          0.735,
          0.785,
          0.898,
          0.802,
          0.664,
          0.659,
          0.45899999999999996,
          0.763,
          0.38,
          0.226,
          0.634,
          0.272,
          0.703,
          0.337,
          0.7909999999999999,
          0.24,
          0.841,
          0.223,
          0.725,
          0.278,
          0.8,
          0.266,
          0.893,
          0.312,
          0.794,
          0.247,
          0.688,
          0.368,
          0.6559999999999999,
          0.32299999999999995,
          0.435,
          0.29,
          0.755,
          0.28,
          0.377,
          0.68,
          0.708,
          0.845,
          0.93,
          0.731,
          0.835,
          0.94,
          0.8490000000000001,
          0.609,
          0.648,
          0.4,
          0.732,
          0.385,
          0.634,
          0.6779999999999999,
          0.7859999999999999,
          0.841,
          0.735,
          0.785,
          0.898,
          0.802,
          0.664,
          0.659,
          0.45899999999999996,
          0.763,
          0.38,
          0.825,
          0.8959999999999999,
          0.621,
          0.469,
          0.609,
          0.7290000000000001,
          0.48100000000000004,
          0.6759999999999999,
          0.748,
          0.44299999999999995,
          0.816,
          0.34,
          0.499,
          0.45799999999999996,
          0.777,
          0.526,
          0.364,
          0.825,
          0.266,
          0.8959999999999999,
          0.35700000000000004,
          0.621,
          0.35,
          0.469,
          0.36200000000000004,
          0.609,
          0.36700000000000005,
          0.7290000000000001,
          0.23199999999999998,
          0.48100000000000004,
          0.312,
          0.6759999999999999,
          0.281,
          0.748,
          0.371,
          0.44299999999999995,
          0.297,
          0.816,
          0.413,
          0.34,
          0.32899999999999996,
          0.499,
          0.306,
          0.45799999999999996,
          0.315,
          0.777,
          0.28600000000000003,
          0.526,
          0.8859999999999999,
          0.871,
          0.645,
          0.353,
          0.64,
          0.693,
          0.493,
          0.574,
          0.823,
          0.418,
          0.767,
          0.359,
          0.39899999999999997,
          0.47600000000000003,
          0.6679999999999999,
          0.537,
          0.8859999999999999,
          0.871,
          0.631,
          0.353,
          0.64,
          0.691,
          0.495,
          0.589,
          0.825,
          0.409,
          0.757,
          0.35600000000000004,
          0.4,
          0.469,
          0.652,
          0.526,
          0.7829999999999999,
          0.852,
          0.9079999999999999,
          0.915,
          0.355,
          0.516,
          0.887,
          0.6940000000000001,
          0.395,
          0.504,
          0.488,
          0.512,
          0.386,
          0.6629999999999999,
          0.818,
          0.728,
          0.757,
          0.787,
          0.67,
          0.599,
          0.47,
          0.7609999999999999,
          0.818,
          0.305,
          0.623,
          0.917,
          0.608,
          0.95,
          0.341,
          0.68,
          0.242,
          0.78,
          0.264,
          0.7909999999999999,
          0.185,
          0.67,
          0.21,
          0.62,
          0.196,
          0.466,
          0.16399999999999998,
          0.746,
          0.18,
          0.8079999999999999,
          0.182,
          0.301,
          0.25,
          0.624,
          0.317,
          0.9179999999999999,
          0.23199999999999998,
          0.595,
          0.28300000000000003,
          0.946,
          0.243,
          0.33299999999999996,
          0.272,
          0.6920000000000001,
          0.657,
          0.687,
          0.609,
          0.505,
          0.374,
          0.665,
          0.797,
          0.265,
          0.523,
          0.872,
          0.564,
          0.904,
          0.261,
          0.61,
          0.768,
          0.785,
          0.606,
          0.601,
          0.46799999999999997,
          0.747,
          0.855,
          0.308,
          0.618,
          0.917,
          0.604,
          0.9440000000000001,
          0.32899999999999996,
          0.682,
          0.705,
          0.636,
          0.637,
          0.555,
          0.349,
          0.765,
          0.479,
          0.85,
          0.456,
          0.723,
          0.826,
          0.447,
          0.768,
          0.7,
          0.547,
          0.762,
          0.7,
          0.8590000000000001,
          0.935,
          0.818,
          0.6990000000000001,
          0.634,
          0.637,
          0.5429999999999999,
          0.33399999999999996,
          0.774,
          0.47600000000000003,
          0.8540000000000001,
          0.46,
          0.7190000000000001,
          0.8109999999999999,
          0.44799999999999995,
          0.763,
          0.691,
          0.5539999999999999,
          0.758,
          0.8270000000000001,
          0.7120000000000001,
          0.6509999999999999,
          0.741,
          0.544,
          0.34,
          0.7829999999999999,
          0.48200000000000004,
          0.855,
          0.452,
          0.7,
          0.821,
          0.434,
          0.77,
          0.275,
          0.7090000000000001,
          0.17800000000000002,
          0.64,
          0.26,
          0.741,
          0.28,
          0.556,
          0.237,
          0.35700000000000004,
          0.263,
          0.745,
          0.20199999999999999,
          0.475,
          0.267,
          0.851,
          0.27,
          0.449,
          0.25,
          0.727,
          0.251,
          0.826,
          0.304,
          0.449,
          0.33399999999999996,
          0.757,
          0.657,
          0.643,
          0.735,
          0.57,
          0.35200000000000004,
          0.741,
          0.469,
          0.848,
          0.41700000000000004,
          0.7040000000000001,
          0.762,
          0.625,
          0.706,
          0.687,
          0.45399999999999996,
          0.16,
          0.475,
          0.531,
          0.816,
          0.7140000000000001,
          0.636,
          0.736,
          0.5529999999999999,
          0.34600000000000003,
          0.7709999999999999,
          0.486,
          0.852,
          0.45899999999999996,
          0.7120000000000001,
          0.8290000000000001,
          0.447,
          0.7559999999999999,
          0.444,
          0.266,
          0.7040000000000001,
          0.184,
          0.8009999999999999,
          0.872,
          0.8079999999999999,
          0.7120000000000001,
          0.703,
          0.627,
          0.738,
          0.5539999999999999,
          0.342,
          0.755,
          0.48,
          0.8390000000000001,
          0.45,
          0.705,
          0.828,
          0.445,
          0.753,
          0.491,
          0.877,
          0.41700000000000004,
          0.777,
          0.48200000000000004,
          0.805,
          0.578,
          0.629,
          0.777,
          0.627,
          0.672,
          0.934,
          0.39399999999999996,
          0.7509999999999999,
          0.753,
          0.491,
          0.877,
          0.41700000000000004,
          0.777,
          0.48200000000000004,
          0.805,
          0.578,
          0.629,
          0.777,
          0.627,
          0.672,
          0.934,
          0.39399999999999996,
          0.7509999999999999,
          0.753,
          0.278,
          0.499,
          0.28600000000000003,
          0.8640000000000001,
          0.299,
          0.44,
          0.278,
          0.77,
          0.28,
          0.49200000000000005,
          0.29,
          0.807,
          0.325,
          0.556,
          0.28600000000000003,
          0.631,
          0.28,
          0.758,
          0.303,
          0.612,
          0.27899999999999997,
          0.659,
          0.27,
          0.934,
          0.222,
          0.384,
          0.248,
          0.76,
          0.32,
          0.742,
          0.42700000000000005,
          0.742,
          0.369,
          0.66,
          0.469,
          0.7120000000000001,
          0.469,
          0.532,
          0.563,
          0.529,
          0.484,
          0.7959999999999999,
          0.27899999999999997,
          0.6579999999999999
         ],
         "yaxis": "y"
        },
        {
         "customdata": [
          [
           "My Songs Know What You Did In The Dark (Light Em Up)"
          ],
          [
           "The Phoenix"
          ],
          [
           "Alone Together"
          ],
          [
           "Young Volcanoes"
          ],
          [
           "Centuries"
          ],
          [
           "Immortals"
          ],
          [
           "Uma Thurman"
          ],
          [
           "Irresistible"
          ],
          [
           "Champion"
          ],
          [
           "The Last Of The Real Ones"
          ],
          [
           "I've Been Waiting"
          ],
          [
           "Dear Future Self (Hands Up)"
          ],
          [
           "Bob Dylan"
          ],
          [
           "My Songs Know What You Did In The Dark (Light Em Up)"
          ],
          [
           "The Phoenix"
          ],
          [
           "Alone Together"
          ],
          [
           "Young Volcanoes"
          ],
          [
           "Centuries"
          ],
          [
           "Immortals"
          ],
          [
           "Uma Thurman"
          ],
          [
           "Irresistible"
          ],
          [
           "Champion"
          ],
          [
           "The Last Of The Real Ones"
          ],
          [
           "I've Been Waiting"
          ],
          [
           "Dear Future Self (Hands Up)"
          ],
          [
           "Bob Dylan"
          ],
          [
           "Stay Frosty Royal Milk Tea"
          ],
          [
           "The Last Of The Real Ones"
          ],
          [
           "HOLD ME TIGHT OR DON’T"
          ],
          [
           "Wilson (Expensive Mistakes)"
          ],
          [
           "Church"
          ],
          [
           "Heaven’s Gate"
          ],
          [
           "Champion"
          ],
          [
           "Sunshine Riptide"
          ],
          [
           "Young And Menace"
          ],
          [
           "Bishops Knife Trick"
          ],
          [
           "Stay Frosty Royal Milk Tea"
          ],
          [
           "The Last Of The Real Ones"
          ],
          [
           "HOLD ME TIGHT OR DON’T"
          ],
          [
           "Wilson (Expensive Mistakes)"
          ],
          [
           "Church"
          ],
          [
           "Heaven’s Gate"
          ],
          [
           "Champion"
          ],
          [
           "Sunshine Riptide"
          ],
          [
           "Young And Menace"
          ],
          [
           "Bishops Knife Trick"
          ],
          [
           "Irresistible - Remix"
          ],
          [
           "American Beauty/American Psycho - Remix"
          ],
          [
           "Centuries - Remix"
          ],
          [
           "The Kids Aren't Alright - Remix"
          ],
          [
           "Uma Thurman - Remix"
          ],
          [
           "Jet Pack Blues - Remix"
          ],
          [
           "Novocaine - Remix"
          ],
          [
           "Fourth Of July - Remix"
          ],
          [
           "Favorite Record - Remix"
          ],
          [
           "Immortals - Remix"
          ],
          [
           "Twin Skeleton's (Hotel In NYC) - Remix"
          ],
          [
           "Uma Thurman - Fall Out Boy vs. Didrick"
          ],
          [
           "Irresistible - Revised Audio"
          ],
          [
           "Irresistible - Remix"
          ],
          [
           "American Beauty/American Psycho - Remix"
          ],
          [
           "Centuries - Remix"
          ],
          [
           "The Kids Aren't Alright - Remix"
          ],
          [
           "Uma Thurman - Remix"
          ],
          [
           "Jet Pack Blues - Remix"
          ],
          [
           "Novocaine - Remix"
          ],
          [
           "Fourth Of July - Remix"
          ],
          [
           "Favorite Record - Remix"
          ],
          [
           "Immortals - Remix"
          ],
          [
           "Twin Skeleton's (Hotel In NYC) - Remix"
          ],
          [
           "Irresistible - Remix"
          ],
          [
           "American Beauty/American Psycho - Remix"
          ],
          [
           "Centuries - Remix"
          ],
          [
           "The Kids Aren't Alright - Remix"
          ],
          [
           "Uma Thurman - Remix"
          ],
          [
           "Jet Pack Blues - Remix"
          ],
          [
           "Novocaine - Remix"
          ],
          [
           "Fourth Of July - Remix"
          ],
          [
           "Favorite Record - Remix"
          ],
          [
           "Immortals - Remix"
          ],
          [
           "Twin Skeleton's (Hotel In NYC) - Remix"
          ],
          [
           "Irresistible"
          ],
          [
           "American Beauty/American Psycho"
          ],
          [
           "Centuries"
          ],
          [
           "The Kids Aren't Alright"
          ],
          [
           "Uma Thurman"
          ],
          [
           "Jet Pack Blues"
          ],
          [
           "Novocaine"
          ],
          [
           "Fourth Of July"
          ],
          [
           "Favorite Record"
          ],
          [
           "Immortals"
          ],
          [
           "Twin Skeleton's (Hotel In NYC)"
          ],
          [
           "The Phoenix"
          ],
          [
           "My Songs Know What You Did In The Dark (Light Em Up)"
          ],
          [
           "Alone Together"
          ],
          [
           "Where Did The Party Go"
          ],
          [
           "Just One Yesterday"
          ],
          [
           "The Mighty Fall"
          ],
          [
           "Miss Missing You"
          ],
          [
           "Death Valley"
          ],
          [
           "Young Volcanoes"
          ],
          [
           "Rat A Tat"
          ],
          [
           "Save Rock And Roll"
          ],
          [
           "My Songs Know What You Did In The Dark (Light Em Up) - 2 Chainz Remix"
          ],
          [
           "The Phoenix"
          ],
          [
           "My Songs Know What You Did In The Dark (Light Em Up)"
          ],
          [
           "Alone Together"
          ],
          [
           "Where Did The Party Go"
          ],
          [
           "Just One Yesterday"
          ],
          [
           "The Mighty Fall"
          ],
          [
           "Miss Missing You"
          ],
          [
           "Death Valley"
          ],
          [
           "Young Volcanoes"
          ],
          [
           "Rat A Tat"
          ],
          [
           "Save Rock And Roll"
          ],
          [
           "The Phoenix"
          ],
          [
           "My Songs Know What You Did In The Dark (Light Em Up)"
          ],
          [
           "Alone Together"
          ],
          [
           "Where Did The Party Go"
          ],
          [
           "Just One Yesterday"
          ],
          [
           "The Mighty Fall"
          ],
          [
           "Miss Missing You"
          ],
          [
           "Death Valley"
          ],
          [
           "Young Volcanoes"
          ],
          [
           "Rat A Tat"
          ],
          [
           "Save Rock And Roll"
          ],
          [
           "Thriller - Live In Tokyo / 2013"
          ],
          [
           "This Ain't A Scene, It's An Arms Race - Live In Tokyo / 2013"
          ],
          [
           "Grand Theft Autumn / Where Is Your Boy - Live In Tokyo / 2013"
          ],
          [
           "Dance, Dance - Live In Tokyo / 2013"
          ],
          [
           "I Don't Care - Live In Tokyo / 2013"
          ],
          [
           "My Songs Know What You Did In The Dark (Light Em Up) - Live In Tokyo / 2013"
          ],
          [
           "Beat It - Live In Tokyo / 2013"
          ],
          [
           "The Phoenix - Commentary"
          ],
          [
           "My Songs Know What You Did In The Dark (Light Em Up) - Commentary"
          ],
          [
           "Alone Together - Commentary"
          ],
          [
           "Where Did The Party Go - Commentary"
          ],
          [
           "Just One Yesterday - Commentary"
          ],
          [
           "The Mighty Fall - Commentary"
          ],
          [
           "Miss Missing You - Commentary"
          ],
          [
           "Death Valley - Commentary"
          ],
          [
           "Young Volcanoes - Commentary"
          ],
          [
           "Rat A Tat - Commentary"
          ],
          [
           "Save Rock And Roll - Commentary"
          ],
          [
           "Thriller - Live At The Cricket Pavillion /2007"
          ],
          [
           "Grand Theft Autumn / Where Is Your Boy - Live At The Cricket Pavillion /2007"
          ],
          [
           "Sugar, We're Goin Down - Live At The Cricket Pavillion /2007"
          ],
          [
           "Our Lawyer Made Us Change The Name Of This Song So We Wouldn't Get Sued - Live At The Cricket Pavillion /2007"
          ],
          [
           "Hum Hallelujah - Live At The Cricket Pavillion /2007"
          ],
          [
           "Tell That Mick He Just Made My List Of Things To Do Today - Live At The Cricket Pavillion /2007"
          ],
          [
           "I'm Like A Lawyer With The Way I'm Always Trying To Get You Off (Me & You) - Live At The Cricket Pavillion /2007"
          ],
          [
           "A Little Less Sixteen Candles, A Little More \"Touch Me\" - Live At The Cricket Pavillion /2007"
          ],
          [
           "Beat It - Live At The Cricket Pavillion /2007"
          ],
          [
           "Golden - Live At The Cricket Pavillion /2007"
          ],
          [
           "This Ain't A Scene, It's An Arms Race - Live At The Cricket Pavillion /2007"
          ],
          [
           "Thnks fr th Mmrs - Live At The Cricket Pavillion /2007"
          ],
          [
           "\"The Take Over, The Breaks Over\" - Live At The Cricket Pavillion /2007"
          ],
          [
           "Dance, Dance - Live At The Cricket Pavillion /2007"
          ],
          [
           "Saturday - Live At The Cricket Pavillion /2007"
          ],
          [
           "Beat It - Studio Version"
          ],
          [
           "Thriller"
          ],
          [
           "Grand Theft Autumn / Where Is Your Boy"
          ],
          [
           "Sugar, We're Goin Down"
          ],
          [
           "Our Lawyer Made Us Change The Name Of This Song So We Wouldn't Get Sued"
          ],
          [
           "Hum Hallelujah"
          ],
          [
           "Tell That Mick He Just Made My List Of Things To Do Today"
          ],
          [
           "I'm Like A Lawyer With The Way I'm Always Trying To Get You Off (Me & You)"
          ],
          [
           "A Little Less Sixteen Candles, A Little More \"Touch Me\""
          ],
          [
           "Beat It - Studio Version Featuring John Mayer"
          ],
          [
           "Golden"
          ],
          [
           "This Ain't A Scene, It's An Arms Race"
          ],
          [
           "Thnks fr th Mmrs"
          ],
          [
           "\"The Take Over, The Breaks Over\""
          ],
          [
           "Dance, Dance"
          ],
          [
           "Saturday"
          ],
          [
           "Thriller - Live At The Cricket Pavillion /2007"
          ],
          [
           "Grand Theft Autumn / Where Is Your Boy - Live At The Cricket Pavillion /2007"
          ],
          [
           "Sugar, We're Goin Down - Live At The Cricket Pavillion /2007"
          ],
          [
           "Our Lawyer Made Us Change The Name Of This Song So We Wouldn't Get Sued - Live At The Cricket Pavillion /2007"
          ],
          [
           "Hum Hallelujah - Live At The Cricket Pavillion /2007"
          ],
          [
           "Tell That Mick He Just Made My List Of Things To Do Today - Live At The Cricket Pavillion /2007"
          ],
          [
           "I'm Like A Lawyer With The Way I'm Always Trying To Get You Off (Me & You) - Live At The Cricket Pavillion /2007"
          ],
          [
           "A Little Less Sixteen Candles, A Little More \"Touch Me\" - Live At The Cricket Pavillion /2007"
          ],
          [
           "Beat It - Live At The Cricket Pavillion /2007"
          ],
          [
           "Golden - Live At The Cricket Pavillion /2007"
          ],
          [
           "This Ain't A Scene, It's An Arms Race - Live At The Cricket Pavillion /2007"
          ],
          [
           "Thnks fr th Mmrs - Live At The Cricket Pavillion /2007"
          ],
          [
           "\"The Take Over, The Breaks Over\" - Live At The Cricket Pavillion /2007"
          ],
          [
           "Dance, Dance - Live At The Cricket Pavillion /2007"
          ],
          [
           "Saturday - Live At The Cricket Pavillion /2007"
          ],
          [
           "Disloyal Order Of Water Buffaloes"
          ],
          [
           "I Don't Care"
          ],
          [
           "She's My Winona"
          ],
          [
           "America's Suitehearts"
          ],
          [
           "Headfirst Slide Into Cooperstown On A Bad Bet"
          ],
          [
           "The (Shipped) Gold Standard"
          ],
          [
           "(Coffee's For Closers)"
          ],
          [
           "What A Catch, Donnie"
          ],
          [
           "27"
          ],
          [
           "Tiffany Blews"
          ],
          [
           "w.a.m.s."
          ],
          [
           "20 Dollar Nose Bleed"
          ],
          [
           "West Coast Smoker"
          ],
          [
           "Beat It - Studio Version"
          ],
          [
           "Disloyal Order Of Water Buffaloes"
          ],
          [
           "I Don't Care - Single Version"
          ],
          [
           "She's My Winona"
          ],
          [
           "America's Suitehearts"
          ],
          [
           "Headfirst Slide Into Cooperstown On A Bad Bet"
          ],
          [
           "The (Shipped) Gold Standard"
          ],
          [
           "(Coffee's For Closers)"
          ],
          [
           "What A Catch, Donnie"
          ],
          [
           "27"
          ],
          [
           "Tiffany Blews"
          ],
          [
           "w.a.m.s."
          ],
          [
           "20 Dollar Nose Bleed"
          ],
          [
           "West Coast Smoker"
          ],
          [
           "Disloyal Order Of Water Buffaloes"
          ],
          [
           "I Don't Care"
          ],
          [
           "She's My Winona"
          ],
          [
           "America's Suitehearts"
          ],
          [
           "Headfirst Slide Into Cooperstown On A Bad Bet"
          ],
          [
           "The (Shipped) Gold Standard"
          ],
          [
           "(Coffee's For Closers)"
          ],
          [
           "What A Catch, Donnie"
          ],
          [
           "27"
          ],
          [
           "Tiffany Blews"
          ],
          [
           "w.a.m.s."
          ],
          [
           "20 Dollar Nose Bleed"
          ],
          [
           "West Coast Smoker"
          ],
          [
           "Disloyal Order Of Water Buffaloes"
          ],
          [
           "I Don't Care"
          ],
          [
           "She's My Winona"
          ],
          [
           "America's Suitehearts"
          ],
          [
           "Headfirst Slide Into Cooperstown On A Bad Bet"
          ],
          [
           "The (Shipped) Gold Standard"
          ],
          [
           "(Coffee's For Closers)"
          ],
          [
           "What A Catch, Donnie"
          ],
          [
           "27"
          ],
          [
           "Tiffany Blews"
          ],
          [
           "w.a.m.s."
          ],
          [
           "20 Dollar Nose Bleed"
          ],
          [
           "West Coast Smoker"
          ],
          [
           "Thriller"
          ],
          [
           "\"The Take Over, The Breaks Over\""
          ],
          [
           "This Ain't A Scene, It's An Arms Race"
          ],
          [
           "I'm Like A Lawyer With The Way I'm Always Trying To Get You Off (Me & You)"
          ],
          [
           "Hum Hallelujah"
          ],
          [
           "Golden"
          ],
          [
           "Thnks fr th Mmrs"
          ],
          [
           "Don't You Know Who I Think I Am?"
          ],
          [
           "The (After) Life Of The Party"
          ],
          [
           "The Carpal Tunnel Of Love"
          ],
          [
           "Bang The Doldrums"
          ],
          [
           "Fame < Infamy"
          ],
          [
           "You're Crashing, But You're No Wave"
          ],
          [
           "I've Got All This Ringing In My Ears And None On My Fingers"
          ],
          [
           "Thriller"
          ],
          [
           "\"The Take Over, The Breaks Over\""
          ],
          [
           "This Ain't A Scene, It's An Arms Race"
          ],
          [
           "I'm Like A Lawyer With The Way I'm Always Trying To Get You Off (Me & You)"
          ],
          [
           "Hum Hallelujah"
          ],
          [
           "Golden"
          ],
          [
           "Thnks fr th Mmrs"
          ],
          [
           "Don't You Know Who I Think I Am?"
          ],
          [
           "The (After) Life Of The Party"
          ],
          [
           "The Carpal Tunnel Of Love"
          ],
          [
           "Bang The Doldrums"
          ],
          [
           "Fame < Infamy"
          ],
          [
           "You're Crashing, But You're No Wave"
          ],
          [
           "I've Got All This Ringing In My Ears And None On My Fingers"
          ],
          [
           "G.I.N.A.S.F.S."
          ],
          [
           "It's Hard To Say \"I Do\", When I Don't"
          ],
          [
           "Dance, Dance - Live From Hammersmith Palais"
          ],
          [
           "This Ain't A Scene, It's An Arms Race - Live From Hammersmith Palais"
          ],
          [
           "Thriller - Live From Hammersmith Palais"
          ],
          [
           "Our Lawyer Made Us Change The Name Of This Song So We Wouldn't Get Sued"
          ],
          [
           "Of All The Gin Joints In All The World"
          ],
          [
           "Dance, Dance"
          ],
          [
           "Sugar, We're Goin Down"
          ],
          [
           "Nobody Puts Baby In The Corner"
          ],
          [
           "I've Got A Dark Alley And A Bad Idea That Says You Should Shut Your Mouth (Summer Song)"
          ],
          [
           "7 Minutes In Heaven (Atavan Halen)"
          ],
          [
           "Sophomore Slump Or Comeback Of The Year"
          ],
          [
           "Champagne For My Real Friends, Real Pain For My Sham Friends"
          ],
          [
           "I Slept With Someone In Fall Out Boy And All I Got Was This Stupid Song Written About Me"
          ],
          [
           "A Little Less Sixteen Candles, A Little More \"Touch Me\""
          ],
          [
           "Get Busy Living Or Get Busy Dying (Do Your Part To Save The Scene And Stop Going To Shows)"
          ],
          [
           "XO"
          ],
          [
           "Snitches And Talkers Get Stitches And Walkers"
          ],
          [
           "The Music Or The Misery"
          ],
          [
           "My Heart Is The Worst Kind Of Weapon - Demo"
          ],
          [
           "Sugar, We're Goin Down - Patrick Stump Remix"
          ],
          [
           "Dance, Dance - The Lindbergh Palace Remix"
          ],
          [
           "Our Lawyer Made Us Change The Name Of This Song So We Wouldn't Get Sued"
          ],
          [
           "Of All The Gin Joints In All The World"
          ],
          [
           "Dance, Dance"
          ],
          [
           "Sugar, We're Goin Down"
          ],
          [
           "Nobody Puts Baby In The Corner"
          ],
          [
           "I've Got A Dark Alley And A Bad Idea That Says You Should Shut Your Mouth (Summer Song)"
          ],
          [
           "7 Minutes In Heaven (Atavan Halen)"
          ],
          [
           "Sophomore Slump Or Comeback Of The Year"
          ],
          [
           "Champagne For My Real Friends, Real Pain For My Sham Friends"
          ],
          [
           "I Slept With Someone In Fall Out Boy And All I Got Was This Stupid Song Written About Me"
          ],
          [
           "A Little Less Sixteen Candles, A Little More \"Touch Me\""
          ],
          [
           "Get Busy Living Or Get Busy Dying (Do Your Part To Save The Scene And Stop Going To Shows)"
          ],
          [
           "XO"
          ],
          [
           "Tell That Mick He Just Made My List of Things to Do Today"
          ],
          [
           "Dead on Arrival"
          ],
          [
           "Grand Theft Autumn / Where Is Your Boy"
          ],
          [
           "Saturday"
          ],
          [
           "Homesick at Space Camp"
          ],
          [
           "Sending Postcards from a Plane Crash (Wish You Were Here)"
          ],
          [
           "Chicago Is so Two Years Ago"
          ],
          [
           "The Pros and Cons of Breathing"
          ],
          [
           "Grenade Jumper"
          ],
          [
           "Calm Before the Storm"
          ],
          [
           "Reinventing the Wheel to Run Myself Over"
          ],
          [
           "The Patron Saint of Liars and Fakes"
          ]
         ],
         "hovertemplate": "Artist(s)=Fall Out Boy<br>Positiveness (valence)=%{x}<br>Energy=%{y}<br>Song Title=%{customdata[0]}<extra></extra>",
         "legendgroup": "Fall Out Boy",
         "marker": {
          "color": "#EF553B",
          "symbol": "circle"
         },
         "mode": "markers",
         "name": "Fall Out Boy",
         "showlegend": true,
         "type": "scattergl",
         "x": [
          0.56,
          0.39,
          0.662,
          0.6729999999999999,
          0.523,
          0.478,
          0.841,
          0.397,
          0.294,
          0.583,
          0.9420000000000001,
          0.9490000000000001,
          0.522,
          0.56,
          0.39,
          0.662,
          0.6729999999999999,
          0.523,
          0.478,
          0.841,
          0.397,
          0.294,
          0.583,
          0.9259999999999999,
          0.961,
          0.57,
          0.649,
          0.557,
          0.7879999999999999,
          0.66,
          0.401,
          0.214,
          0.309,
          0.804,
          0.272,
          0.38299999999999995,
          0.629,
          0.5589999999999999,
          0.7929999999999999,
          0.617,
          0.38299999999999995,
          0.221,
          0.297,
          0.752,
          0.278,
          0.384,
          0.502,
          0.647,
          0.613,
          0.513,
          0.32899999999999996,
          0.348,
          0.337,
          0.327,
          0.43200000000000005,
          0.48100000000000004,
          0.677,
          0.715,
          0.377,
          0.502,
          0.647,
          0.613,
          0.513,
          0.32899999999999996,
          0.348,
          0.337,
          0.327,
          0.43200000000000005,
          0.48100000000000004,
          0.677,
          0.551,
          0.6659999999999999,
          0.614,
          0.508,
          0.321,
          0.345,
          0.335,
          0.32299999999999995,
          0.44,
          0.489,
          0.662,
          0.444,
          0.635,
          0.56,
          0.33299999999999996,
          0.6759999999999999,
          0.365,
          0.48100000000000004,
          0.516,
          0.684,
          0.475,
          0.192,
          0.41,
          0.5670000000000001,
          0.606,
          0.677,
          0.5870000000000001,
          0.539,
          0.271,
          0.5760000000000001,
          0.6759999999999999,
          0.5589999999999999,
          0.45399999999999996,
          0.564,
          0.41,
          0.5670000000000001,
          0.606,
          0.677,
          0.5870000000000001,
          0.539,
          0.271,
          0.5760000000000001,
          0.6759999999999999,
          0.5589999999999999,
          0.449,
          0.41,
          0.5670000000000001,
          0.606,
          0.677,
          0.5870000000000001,
          0.539,
          0.271,
          0.5760000000000001,
          0.6759999999999999,
          0.5589999999999999,
          0.449,
          0.182,
          0.24,
          0.198,
          0.11800000000000001,
          0.256,
          0.38,
          0.46799999999999997,
          0.605,
          0.5379999999999999,
          0.62,
          0.767,
          0.682,
          0.599,
          0.511,
          0.45399999999999996,
          0.732,
          0.54,
          0.44,
          0.0609,
          0.249,
          0.46299999999999997,
          0.348,
          0.513,
          0.235,
          0.391,
          0.617,
          0.82,
          0.193,
          0.354,
          0.315,
          0.716,
          0.445,
          0.348,
          0.807,
          0.062,
          0.225,
          0.434,
          0.369,
          0.49700000000000005,
          0.233,
          0.384,
          0.6990000000000001,
          0.8240000000000001,
          0.175,
          0.379,
          0.33,
          0.732,
          0.446,
          0.32799999999999996,
          0.062,
          0.223,
          0.434,
          0.369,
          0.49700000000000005,
          0.225,
          0.384,
          0.659,
          0.7809999999999999,
          0.192,
          0.38299999999999995,
          0.33,
          0.732,
          0.446,
          0.32799999999999996,
          0.363,
          0.43700000000000006,
          0.632,
          0.593,
          0.535,
          0.774,
          0.34600000000000003,
          0.46799999999999997,
          0.794,
          0.705,
          0.413,
          0.867,
          0.485,
          0.84,
          0.361,
          0.433,
          0.613,
          0.645,
          0.541,
          0.76,
          0.34299999999999997,
          0.45899999999999996,
          0.8109999999999999,
          0.684,
          0.37,
          0.867,
          0.509,
          0.366,
          0.38,
          0.613,
          0.599,
          0.547,
          0.7659999999999999,
          0.337,
          0.46799999999999997,
          0.789,
          0.6940000000000001,
          0.436,
          0.852,
          0.493,
          0.361,
          0.433,
          0.613,
          0.645,
          0.541,
          0.76,
          0.34299999999999997,
          0.45899999999999996,
          0.8109999999999999,
          0.684,
          0.37,
          0.867,
          0.509,
          0.327,
          0.67,
          0.408,
          0.498,
          0.657,
          0.163,
          0.588,
          0.863,
          0.45799999999999996,
          0.599,
          0.69,
          0.647,
          0.534,
          0.4,
          0.327,
          0.67,
          0.408,
          0.498,
          0.657,
          0.163,
          0.588,
          0.863,
          0.45799999999999996,
          0.599,
          0.69,
          0.647,
          0.534,
          0.4,
          0.727,
          0.594,
          0.46399999999999997,
          0.33299999999999996,
          0.175,
          0.5579999999999999,
          0.71,
          0.517,
          0.598,
          0.674,
          0.455,
          0.688,
          0.5670000000000001,
          0.564,
          0.637,
          0.7040000000000001,
          0.431,
          0.374,
          0.424,
          0.466,
          0.5529999999999999,
          0.7509999999999999,
          0.9279999999999999,
          0.575,
          0.7090000000000001,
          0.449,
          0.574,
          0.6509999999999999,
          0.523,
          0.6829999999999999,
          0.557,
          0.511,
          0.644,
          0.696,
          0.485,
          0.423,
          0.418,
          0.494,
          0.72,
          0.624,
          0.379,
          0.597,
          0.539,
          0.753,
          0.669,
          0.501,
          0.6890000000000001,
          0.201
         ],
         "xaxis": "x",
         "y": [
          0.924,
          0.956,
          0.91,
          0.856,
          0.8640000000000001,
          0.8740000000000001,
          0.941,
          0.938,
          0.912,
          0.871,
          0.85,
          0.925,
          0.915,
          0.924,
          0.956,
          0.91,
          0.856,
          0.8640000000000001,
          0.8740000000000001,
          0.941,
          0.938,
          0.912,
          0.871,
          0.852,
          0.924,
          0.9109999999999999,
          0.8690000000000001,
          0.872,
          0.925,
          0.805,
          0.9009999999999999,
          0.586,
          0.905,
          0.731,
          0.8320000000000001,
          0.755,
          0.8859999999999999,
          0.872,
          0.925,
          0.804,
          0.902,
          0.588,
          0.909,
          0.737,
          0.833,
          0.758,
          0.84,
          0.8290000000000001,
          0.8390000000000001,
          0.7979999999999999,
          0.8640000000000001,
          0.691,
          0.853,
          0.852,
          0.8320000000000001,
          0.777,
          0.879,
          0.915,
          0.893,
          0.84,
          0.8290000000000001,
          0.8390000000000001,
          0.7979999999999999,
          0.8640000000000001,
          0.691,
          0.853,
          0.852,
          0.8320000000000001,
          0.777,
          0.879,
          0.8240000000000001,
          0.8220000000000001,
          0.8390000000000001,
          0.797,
          0.8640000000000001,
          0.691,
          0.8390000000000001,
          0.856,
          0.833,
          0.774,
          0.884,
          0.938,
          0.932,
          0.858,
          0.763,
          0.9620000000000001,
          0.889,
          0.9740000000000001,
          0.9740000000000001,
          0.9440000000000001,
          0.868,
          0.9390000000000001,
          0.9640000000000001,
          0.924,
          0.915,
          0.8909999999999999,
          0.907,
          0.95,
          0.851,
          0.9259999999999999,
          0.853,
          0.853,
          0.777,
          0.883,
          0.9640000000000001,
          0.924,
          0.915,
          0.8909999999999999,
          0.907,
          0.95,
          0.851,
          0.9259999999999999,
          0.853,
          0.853,
          0.777,
          0.9640000000000001,
          0.924,
          0.915,
          0.8909999999999999,
          0.907,
          0.95,
          0.851,
          0.9259999999999999,
          0.853,
          0.853,
          0.777,
          0.684,
          0.818,
          0.836,
          0.7909999999999999,
          0.825,
          0.853,
          0.764,
          0.27899999999999997,
          0.39299999999999996,
          0.332,
          0.275,
          0.23,
          0.354,
          0.442,
          0.311,
          0.302,
          0.316,
          0.27699999999999997,
          0.985,
          0.9840000000000001,
          0.895,
          0.9840000000000001,
          0.9570000000000001,
          0.987,
          0.835,
          0.956,
          0.877,
          0.39799999999999996,
          0.9570000000000001,
          0.9329999999999999,
          0.904,
          0.9840000000000001,
          0.981,
          0.93,
          0.9840000000000001,
          0.98,
          0.907,
          0.976,
          0.961,
          0.987,
          0.8390000000000001,
          0.9440000000000001,
          0.9390000000000001,
          0.382,
          0.955,
          0.925,
          0.899,
          0.987,
          0.983,
          0.9840000000000001,
          0.981,
          0.907,
          0.976,
          0.961,
          0.988,
          0.8390000000000001,
          0.95,
          0.878,
          0.38299999999999995,
          0.955,
          0.925,
          0.899,
          0.987,
          0.983,
          0.909,
          0.9390000000000001,
          0.965,
          0.9279999999999999,
          0.772,
          0.755,
          0.953,
          0.696,
          0.941,
          0.883,
          0.8440000000000001,
          0.852,
          0.8109999999999999,
          0.9440000000000001,
          0.9059999999999999,
          0.938,
          0.963,
          0.9309999999999999,
          0.768,
          0.75,
          0.946,
          0.69,
          0.9359999999999999,
          0.8859999999999999,
          0.846,
          0.871,
          0.813,
          0.91,
          0.935,
          0.9620000000000001,
          0.925,
          0.764,
          0.752,
          0.9520000000000001,
          0.695,
          0.935,
          0.888,
          0.8440000000000001,
          0.868,
          0.8,
          0.9059999999999999,
          0.938,
          0.963,
          0.9309999999999999,
          0.768,
          0.75,
          0.946,
          0.69,
          0.9359999999999999,
          0.8859999999999999,
          0.846,
          0.871,
          0.813,
          0.9009999999999999,
          0.917,
          0.887,
          0.8,
          0.9570000000000001,
          0.41100000000000003,
          0.8909999999999999,
          0.9490000000000001,
          0.9109999999999999,
          0.941,
          0.9490000000000001,
          0.9690000000000001,
          0.9490000000000001,
          0.922,
          0.9009999999999999,
          0.917,
          0.887,
          0.8,
          0.9570000000000001,
          0.41100000000000003,
          0.8909999999999999,
          0.9490000000000001,
          0.9109999999999999,
          0.941,
          0.9490000000000001,
          0.9690000000000001,
          0.9490000000000001,
          0.922,
          0.961,
          0.9490000000000001,
          0.922,
          0.904,
          0.9670000000000001,
          0.9359999999999999,
          0.94,
          0.9570000000000001,
          0.825,
          0.9309999999999999,
          0.943,
          0.982,
          0.899,
          0.958,
          0.9570000000000001,
          0.883,
          0.82,
          0.96,
          0.993,
          0.985,
          0.6970000000000001,
          0.878,
          0.757,
          0.9390000000000001,
          0.93,
          0.961,
          0.8420000000000001,
          0.94,
          0.9329999999999999,
          0.981,
          0.907,
          0.9640000000000001,
          0.956,
          0.889,
          0.8340000000000001,
          0.963,
          0.963,
          0.968,
          0.8859999999999999,
          0.929,
          0.899,
          0.966,
          0.946,
          0.958,
          0.9670000000000001,
          0.9179999999999999,
          0.941,
          0.978
         ],
         "yaxis": "y"
        },
        {
         "customdata": [
          [
           "Situations"
          ],
          [
           "In The Mood"
          ],
          [
           "West Coast Getaway"
          ],
          [
           "Slow Jam Hour - Interlude"
          ],
          [
           "Come Thru"
          ],
          [
           "Birthday Suit"
          ],
          [
           "Once Upon A Time"
          ],
          [
           "You Could Be - Interlude"
          ],
          [
           "Hypnotized"
          ],
          [
           "Reassurance"
          ],
          [
           "Other Half"
          ],
          [
           "Miles In Between"
          ],
          [
           "Situations"
          ],
          [
           "In the Mood"
          ],
          [
           "West Coast Getaway (Feat. The Cool Kids)"
          ],
          [
           "Slow Jam Hour (Interlude)"
          ],
          [
           "Come Thru (Feat. Asher Roth)"
          ],
          [
           "Birthday Suit"
          ],
          [
           "Once Upon a Time"
          ],
          [
           "You Could Be (Interlude)"
          ],
          [
           "Hypnotized (Feat. Blu)"
          ],
          [
           "Reassurance"
          ],
          [
           "Other Half"
          ],
          [
           "Miles In Between (Feat. Joyce Wrice)"
          ],
          [
           "Situations"
          ],
          [
           "In the Mood"
          ],
          [
           "West Coast Getaway (feat. the Cool Kids)"
          ],
          [
           "Slow Jam Hour (Interlude)"
          ],
          [
           "Come Thru (feat. Asher Roth)"
          ],
          [
           "Birthday Suit"
          ],
          [
           "Once Upon a Time"
          ],
          [
           "You Could Be (Interlude)"
          ],
          [
           "Hypnotized (feat. Blu)"
          ],
          [
           "Reassurance"
          ],
          [
           "Other Half"
          ],
          [
           "Miles in Between (feat. Joyce Wrice)"
          ],
          [
           "For You (Intro)"
          ],
          [
           "This And That"
          ],
          [
           "What` Cha Need"
          ],
          [
           "Lapdance"
          ],
          [
           "No Time For Sleep (Interlude)"
          ],
          [
           "Love Affair"
          ],
          [
           "Back Seat"
          ],
          [
           "If I Could"
          ],
          [
           "Queen"
          ],
          [
           "Think Of The Time"
          ],
          [
           "I Remember When"
          ],
          [
           "Intro"
          ],
          [
           "First Class"
          ],
          [
           "Workflow (feat. Dumbfoundead)"
          ],
          [
           "Higher"
          ],
          [
           "Heaven Sent"
          ],
          [
           "Pillow Talk"
          ],
          [
           "Boogie Down"
          ],
          [
           "Lavish"
          ],
          [
           "Mind vs Heart"
          ],
          [
           "Dream Team"
          ],
          [
           "Plenty of Reasons"
          ],
          [
           "Various Places"
          ],
          [
           "Intro"
          ],
          [
           "First Class"
          ],
          [
           "Workflow (Feat. Dumbfoundead)"
          ],
          [
           "Higher"
          ],
          [
           "Heaven Sent"
          ],
          [
           "Pillow Talk"
          ],
          [
           "Boogie Down"
          ],
          [
           "Lavish"
          ],
          [
           "Mind VS Heart"
          ],
          [
           "Dream Team"
          ],
          [
           "Plenty Of Reasons"
          ],
          [
           "Various Places"
          ],
          [
           "Bonjour (Intro)"
          ],
          [
           "Cool Girls"
          ],
          [
           "Just Vibe"
          ],
          [
           "Doesn`t Matter"
          ],
          [
           "My Dear"
          ],
          [
           "Ms. Seductive"
          ],
          [
           "Girl At The Coffee Shop"
          ],
          [
           "If You Wonder"
          ],
          [
           "Call You Mine (Feat. Geologic Of The Blue Scholars)"
          ],
          [
           "Groovin`"
          ],
          [
           "Moonlight Chemistry"
          ],
          [
           "With Love (Feat. Mosaek)"
          ],
          [
           "Bonjour (Intro)"
          ],
          [
           "Cool Girls"
          ],
          [
           "Just Vibe"
          ],
          [
           "Doesn't Matter"
          ],
          [
           "My Dear"
          ],
          [
           "Ms. Seductive"
          ],
          [
           "Girl At The Coffee Shop"
          ],
          [
           "If You Wonder"
          ],
          [
           "Call You Mine (feat. Geologic Of The Blue Scholars)"
          ],
          [
           "Groovin'"
          ],
          [
           "Moonlight Chemistry"
          ],
          [
           "With Love (feat. Mosaek)"
          ]
         ],
         "hovertemplate": "Artist(s)=Jeff Bernat<br>Positiveness (valence)=%{x}<br>Energy=%{y}<br>Song Title=%{customdata[0]}<extra></extra>",
         "legendgroup": "Jeff Bernat",
         "marker": {
          "color": "#00cc96",
          "symbol": "circle"
         },
         "mode": "markers",
         "name": "Jeff Bernat",
         "showlegend": true,
         "type": "scattergl",
         "x": [
          0.379,
          0.408,
          0.8340000000000001,
          0.653,
          0.342,
          0.8079999999999999,
          0.614,
          0.828,
          0.863,
          0.573,
          0.39399999999999996,
          0.272,
          0.38299999999999995,
          0.385,
          0.8140000000000001,
          0.6579999999999999,
          0.32899999999999996,
          0.78,
          0.595,
          0.8170000000000001,
          0.8420000000000001,
          0.546,
          0.36200000000000004,
          0.26,
          0.39899999999999997,
          0.385,
          0.8140000000000001,
          0.6579999999999999,
          0.32899999999999996,
          0.78,
          0.594,
          0.821,
          0.8440000000000001,
          0.545,
          0.366,
          0.255,
          0.406,
          0.915,
          0.535,
          0.24,
          0.345,
          0.35,
          0.433,
          0.531,
          0.735,
          0.311,
          0.6729999999999999,
          0.29,
          0.693,
          0.79,
          0.441,
          0.237,
          0.6859999999999999,
          0.65,
          0.789,
          0.5329999999999999,
          0.44,
          0.9129999999999999,
          0.665,
          0.28600000000000003,
          0.6940000000000001,
          0.7659999999999999,
          0.466,
          0.262,
          0.672,
          0.64,
          0.784,
          0.5379999999999999,
          0.43799999999999994,
          0.909,
          0.652,
          0.8190000000000001,
          0.82,
          0.8059999999999999,
          0.507,
          0.35200000000000004,
          0.35,
          0.49700000000000005,
          0.638,
          0.622,
          0.905,
          0.22899999999999998,
          0.585,
          0.888,
          0.809,
          0.8029999999999999,
          0.52,
          0.33299999999999996,
          0.331,
          0.515,
          0.634,
          0.632,
          0.8959999999999999,
          0.223,
          0.556
         ],
         "xaxis": "x",
         "y": [
          0.488,
          0.49200000000000005,
          0.556,
          0.42100000000000004,
          0.24600000000000002,
          0.369,
          0.295,
          0.48,
          0.348,
          0.457,
          0.424,
          0.27,
          0.47700000000000004,
          0.498,
          0.5589999999999999,
          0.401,
          0.239,
          0.36200000000000004,
          0.302,
          0.475,
          0.355,
          0.47,
          0.418,
          0.275,
          0.478,
          0.498,
          0.5589999999999999,
          0.401,
          0.239,
          0.36200000000000004,
          0.302,
          0.475,
          0.355,
          0.47,
          0.42100000000000004,
          0.275,
          0.5670000000000001,
          0.298,
          0.524,
          0.419,
          0.33,
          0.441,
          0.5539999999999999,
          0.478,
          0.381,
          0.46299999999999997,
          0.447,
          0.473,
          0.59,
          0.436,
          0.498,
          0.27899999999999997,
          0.58,
          0.413,
          0.40399999999999997,
          0.424,
          0.379,
          0.6559999999999999,
          0.34,
          0.46799999999999997,
          0.57,
          0.434,
          0.499,
          0.273,
          0.5760000000000001,
          0.41700000000000004,
          0.425,
          0.428,
          0.373,
          0.6409999999999999,
          0.33899999999999997,
          0.452,
          0.603,
          0.40399999999999997,
          0.518,
          0.32299999999999995,
          0.35600000000000004,
          0.677,
          0.516,
          0.574,
          0.49700000000000005,
          0.6409999999999999,
          0.457,
          0.451,
          0.604,
          0.41,
          0.526,
          0.335,
          0.35,
          0.679,
          0.521,
          0.5710000000000001,
          0.498,
          0.634,
          0.452
         ],
         "yaxis": "y"
        },
        {
         "customdata": [
          [
           "Sinners Prayer"
          ],
          [
           "Walking Again"
          ],
          [
           "Floating"
          ],
          [
           "Right Now"
          ],
          [
           "Euphoria"
          ],
          [
           "Sapiosexual"
          ],
          [
           "Friend Zone"
          ],
          [
           "Blitz"
          ],
          [
           "Nightmares (feat. Lil Durk)"
          ],
          [
           "Psalm 51"
          ],
          [
           "Don’t Tell"
          ],
          [
           "Calls"
          ],
          [
           "Poetic Pain"
          ],
          [
           "Love Cycle (with Summer Walker)"
          ],
          [
           "No Lies"
          ],
          [
           "Telly Telly"
          ],
          [
           "Witchcraft"
          ],
          [
           "Sinners Prayer"
          ],
          [
           "Walking Again"
          ],
          [
           "Floating"
          ],
          [
           "Right Now"
          ],
          [
           "Euphoria"
          ],
          [
           "Sapiosexual"
          ],
          [
           "Friend Zone"
          ],
          [
           "Blitz"
          ],
          [
           "Nightmares"
          ],
          [
           "Psalm 51"
          ],
          [
           "Don't Tell"
          ],
          [
           "Calls"
          ],
          [
           "Poetic Pain"
          ],
          [
           "Love Cycle"
          ],
          [
           "No Lies"
          ],
          [
           "Telly Telly"
          ],
          [
           "Witchcraft"
          ],
          [
           "Why You Think"
          ],
          [
           "Sky Red"
          ],
          [
           "Truth Be Told"
          ],
          [
           "Red Lights"
          ],
          [
           "Back From The Dead"
          ],
          [
           "Pain Killers"
          ],
          [
           "Mercedez"
          ],
          [
           "Love Cycle"
          ],
          [
           "Patek Water"
          ],
          [
           "Down To Ride"
          ],
          [
           "Choir Music"
          ],
          [
           "Not Easy"
          ],
          [
           "Other Side"
          ],
          [
           "Why You Think"
          ],
          [
           "Sky Red"
          ],
          [
           "Truth Be Told"
          ],
          [
           "Red Lights"
          ],
          [
           "Back From The Dead"
          ],
          [
           "Pain Killers"
          ],
          [
           "Mercedez"
          ],
          [
           "Love Cycle"
          ],
          [
           "Patek Water"
          ],
          [
           "Down To Ride"
          ],
          [
           "Choir Music"
          ],
          [
           "Not Easy"
          ],
          [
           "Other Side"
          ],
          [
           "Who Dat"
          ],
          [
           "Turmoil"
          ],
          [
           "Leah"
          ],
          [
           "4ourty"
          ],
          [
           "Leah, Pt. 2"
          ],
          [
           "Pesos"
          ],
          [
           "Wicked Feelings"
          ],
          [
           "Opps"
          ],
          [
           "Life Of Crime"
          ],
          [
           "Russian Roulette"
          ],
          [
           "Who Dat"
          ],
          [
           "Turmoil"
          ],
          [
           "Leah"
          ],
          [
           "4ourty"
          ],
          [
           "Leah, Pt. 2"
          ],
          [
           "Pesos"
          ],
          [
           "Wicked Feelings"
          ],
          [
           "Opps"
          ],
          [
           "Life of Crime"
          ],
          [
           "Russian Roulette"
          ],
          [
           "For the Family"
          ],
          [
           "On My Ass"
          ],
          [
           "My City"
          ],
          [
           "Pain"
          ],
          [
           "Made For"
          ],
          [
           "On Me"
          ],
          [
           "Paparazzi"
          ]
         ],
         "hovertemplate": "Artist(s)=Toosii<br>Positiveness (valence)=%{x}<br>Energy=%{y}<br>Song Title=%{customdata[0]}<extra></extra>",
         "legendgroup": "Toosii",
         "marker": {
          "color": "#ab63fa",
          "symbol": "circle"
         },
         "mode": "markers",
         "name": "Toosii",
         "showlegend": true,
         "type": "scattergl",
         "x": [
          0.298,
          0.45799999999999996,
          0.596,
          0.353,
          0.36,
          0.377,
          0.322,
          0.5489999999999999,
          0.506,
          0.528,
          0.391,
          0.47,
          0.33399999999999996,
          0.429,
          0.47200000000000003,
          0.273,
          0.5,
          0.253,
          0.48200000000000004,
          0.578,
          0.317,
          0.35700000000000004,
          0.382,
          0.336,
          0.49700000000000005,
          0.501,
          0.5429999999999999,
          0.32799999999999996,
          0.473,
          0.242,
          0.424,
          0.488,
          0.254,
          0.54,
          0.27399999999999997,
          0.536,
          0.425,
          0.447,
          0.264,
          0.209,
          0.375,
          0.498,
          0.282,
          0.276,
          0.5,
          0.248,
          0.21600000000000003,
          0.271,
          0.455,
          0.39399999999999996,
          0.505,
          0.292,
          0.16,
          0.364,
          0.436,
          0.298,
          0.256,
          0.47,
          0.42700000000000005,
          0.212,
          0.631,
          0.36,
          0.21600000000000003,
          0.445,
          0.358,
          0.431,
          0.14800000000000002,
          0.402,
          0.132,
          0.643,
          0.7170000000000001,
          0.369,
          0.203,
          0.447,
          0.37799999999999995,
          0.45899999999999996,
          0.136,
          0.40399999999999997,
          0.13,
          0.5720000000000001,
          0.264,
          0.414,
          0.45899999999999996,
          0.491,
          0.212,
          0.354,
          0.46
         ],
         "xaxis": "x",
         "y": [
          0.34299999999999997,
          0.42,
          0.424,
          0.441,
          0.58,
          0.429,
          0.474,
          0.605,
          0.519,
          0.7240000000000001,
          0.585,
          0.39899999999999997,
          0.632,
          0.451,
          0.513,
          0.35600000000000004,
          0.562,
          0.354,
          0.415,
          0.426,
          0.44299999999999995,
          0.602,
          0.441,
          0.49200000000000005,
          0.634,
          0.518,
          0.723,
          0.609,
          0.39299999999999996,
          0.622,
          0.457,
          0.535,
          0.355,
          0.5720000000000001,
          0.6,
          0.429,
          0.45,
          0.693,
          0.426,
          0.6709999999999999,
          0.6609999999999999,
          0.37799999999999995,
          0.562,
          0.495,
          0.456,
          0.53,
          0.419,
          0.588,
          0.435,
          0.426,
          0.647,
          0.434,
          0.691,
          0.71,
          0.32899999999999996,
          0.561,
          0.493,
          0.457,
          0.519,
          0.429,
          0.607,
          0.563,
          0.669,
          0.461,
          0.58,
          0.563,
          0.563,
          0.607,
          0.562,
          0.72,
          0.596,
          0.565,
          0.6729999999999999,
          0.46299999999999997,
          0.586,
          0.565,
          0.5770000000000001,
          0.615,
          0.563,
          0.616,
          0.5660000000000001,
          0.579,
          0.636,
          0.57,
          0.564,
          0.512,
          0.578
         ],
         "yaxis": "y"
        },
        {
         "customdata": [
          [
           "Geyser"
          ],
          [
           "Why Didn't You Stop Me?"
          ],
          [
           "Old Friend"
          ],
          [
           "A Pearl"
          ],
          [
           "Lonesome Love"
          ],
          [
           "Remember My Name"
          ],
          [
           "Me and My Husband"
          ],
          [
           "Come into the Water"
          ],
          [
           "Nobody"
          ],
          [
           "Pink in the Night"
          ],
          [
           "A Horse Named Cold Air"
          ],
          [
           "Washing Machine Heart"
          ],
          [
           "Blue Light"
          ],
          [
           "Two Slow Dancers"
          ],
          [
           "Happy"
          ],
          [
           "Dan the Dancer"
          ],
          [
           "Once More to See You"
          ],
          [
           "Fireworks"
          ],
          [
           "Your Best American Girl"
          ],
          [
           "I Bet on Losing Dogs"
          ],
          [
           "My Body's Made of Crushed Little Stars"
          ],
          [
           "Thursday Girl"
          ],
          [
           "A Loving Feeling"
          ],
          [
           "Crack Baby"
          ],
          [
           "A Burning Hill"
          ],
          [
           "Texas Reznikoff"
          ],
          [
           "Townie"
          ],
          [
           "First Love / Late Spring"
          ],
          [
           "Francis Forever"
          ],
          [
           "I Don't Smoke"
          ],
          [
           "Jobless Monday"
          ],
          [
           "Drunk Walk Home"
          ],
          [
           "I Will"
          ],
          [
           "Carry Me Out"
          ],
          [
           "Last Words of a Shooting Star"
          ],
          [
           "Goodbye, My Danish Sweetheart"
          ],
          [
           "Shame"
          ],
          [
           "Because Dreaming Costs Money, My Dear"
          ],
          [
           "Humpty"
          ],
          [
           "Circle"
          ],
          [
           "I Want You"
          ],
          [
           "Square"
          ],
          [
           "Strawberry Blond"
          ],
          [
           "Class of 2013"
          ],
          [
           "Square (Solo Piano Version)"
          ],
          [
           "Shame (Jammin' Out Solo Version)"
          ],
          [
           "Liquid Smooth"
          ],
          [
           "Eric"
          ],
          [
           "Brand New City"
          ],
          [
           "Real Men"
          ],
          [
           "Wife"
          ],
          [
           "Abbey"
          ],
          [
           "Bag of Bones"
          ],
          [
           "Door"
          ],
          [
           "Pearl Diver"
          ]
         ],
         "hovertemplate": "Artist(s)=Mitski<br>Positiveness (valence)=%{x}<br>Energy=%{y}<br>Song Title=%{customdata[0]}<extra></extra>",
         "legendgroup": "Mitski",
         "marker": {
          "color": "#FFA15A",
          "symbol": "circle"
         },
         "mode": "markers",
         "name": "Mitski",
         "showlegend": true,
         "type": "scattergl",
         "x": [
          0.152,
          0.556,
          0.327,
          0.226,
          0.214,
          0.597,
          0.7659999999999999,
          0.353,
          0.494,
          0.11,
          0.11900000000000001,
          0.581,
          0.17300000000000001,
          0.0535,
          0.040999999999999995,
          0.64,
          0.33399999999999996,
          0.135,
          0.13,
          0.386,
          0.316,
          0.0512,
          0.33799999999999997,
          0.0562,
          0.10400000000000001,
          0.37,
          0.276,
          0.10400000000000001,
          0.32,
          0.233,
          0.203,
          0.325,
          0.261,
          0.113,
          0.0961,
          0.473,
          0.0699,
          0.196,
          0.243,
          0.0473,
          0.0635,
          0.106,
          0.943,
          0.122,
          0.498,
          0.0813,
          0.11599999999999999,
          0.0391,
          0.659,
          0.7170000000000001,
          0.231,
          0.254,
          0.32299999999999995,
          0.39,
          0.175
         ],
         "xaxis": "x",
         "y": [
          0.61,
          0.86,
          0.44799999999999995,
          0.639,
          0.7290000000000001,
          0.691,
          0.639,
          0.375,
          0.716,
          0.39799999999999996,
          0.0826,
          0.821,
          0.41700000000000004,
          0.106,
          0.514,
          0.688,
          0.409,
          0.304,
          0.257,
          0.496,
          0.7440000000000001,
          0.4,
          0.748,
          0.552,
          0.19,
          0.263,
          0.884,
          0.545,
          0.44799999999999995,
          0.54,
          0.442,
          0.358,
          0.306,
          0.382,
          0.16699999999999998,
          0.435,
          0.18100000000000002,
          0.16899999999999998,
          0.28600000000000003,
          0.248,
          0.292,
          0.198,
          0.545,
          0.22,
          0.42100000000000004,
          0.5,
          0.342,
          0.239,
          0.831,
          0.41200000000000003,
          0.10099999999999999,
          0.204,
          0.24,
          0.0922,
          0.152
         ],
         "yaxis": "y"
        },
        {
         "mode": "text",
         "name": "Text",
         "showlegend": false,
         "text": [
          "Q3",
          "Q4",
          "Q2",
          "Q1"
         ],
         "textfont": {
          "color": "lightslategrey",
          "size": 36
         },
         "textposition": "middle center",
         "type": "scatter",
         "x": [
          0.05,
          0.05,
          0.95,
          0.95
         ],
         "y": [
          0.05,
          0.95,
          0.05,
          0.95
         ]
        }
       ],
       "layout": {
        "height": 700,
        "legend": {
         "title": {
          "text": "Artist(s)"
         },
         "tracegroupgap": 0
        },
        "margin": {
         "t": 60
        },
        "shapes": [
         {
          "line": {
           "width": 3
          },
          "type": "line",
          "x0": 0,
          "x1": 1,
          "xref": "x domain",
          "y0": 0.5,
          "y1": 0.5,
          "yref": "y"
         },
         {
          "line": {
           "width": 3
          },
          "type": "line",
          "x0": 0.5,
          "x1": 0.5,
          "xref": "x",
          "y0": 0,
          "y1": 1,
          "yref": "y domain"
         }
        ],
        "template": {
         "data": {
          "bar": [
           {
            "error_x": {
             "color": "rgb(36,36,36)"
            },
            "error_y": {
             "color": "rgb(36,36,36)"
            },
            "marker": {
             "line": {
              "color": "white",
              "width": 0.5
             },
             "pattern": {
              "fillmode": "overlay",
              "size": 10,
              "solidity": 0.2
             }
            },
            "type": "bar"
           }
          ],
          "barpolar": [
           {
            "marker": {
             "line": {
              "color": "white",
              "width": 0.5
             },
             "pattern": {
              "fillmode": "overlay",
              "size": 10,
              "solidity": 0.2
             }
            },
            "type": "barpolar"
           }
          ],
          "carpet": [
           {
            "aaxis": {
             "endlinecolor": "rgb(36,36,36)",
             "gridcolor": "white",
             "linecolor": "white",
             "minorgridcolor": "white",
             "startlinecolor": "rgb(36,36,36)"
            },
            "baxis": {
             "endlinecolor": "rgb(36,36,36)",
             "gridcolor": "white",
             "linecolor": "white",
             "minorgridcolor": "white",
             "startlinecolor": "rgb(36,36,36)"
            },
            "type": "carpet"
           }
          ],
          "choropleth": [
           {
            "colorbar": {
             "outlinewidth": 1,
             "tickcolor": "rgb(36,36,36)",
             "ticks": "outside"
            },
            "type": "choropleth"
           }
          ],
          "contour": [
           {
            "colorbar": {
             "outlinewidth": 1,
             "tickcolor": "rgb(36,36,36)",
             "ticks": "outside"
            },
            "colorscale": [
             [
              0,
              "#440154"
             ],
             [
              0.1111111111111111,
              "#482878"
             ],
             [
              0.2222222222222222,
              "#3e4989"
             ],
             [
              0.3333333333333333,
              "#31688e"
             ],
             [
              0.4444444444444444,
              "#26828e"
             ],
             [
              0.5555555555555556,
              "#1f9e89"
             ],
             [
              0.6666666666666666,
              "#35b779"
             ],
             [
              0.7777777777777778,
              "#6ece58"
             ],
             [
              0.8888888888888888,
              "#b5de2b"
             ],
             [
              1,
              "#fde725"
             ]
            ],
            "type": "contour"
           }
          ],
          "contourcarpet": [
           {
            "colorbar": {
             "outlinewidth": 1,
             "tickcolor": "rgb(36,36,36)",
             "ticks": "outside"
            },
            "type": "contourcarpet"
           }
          ],
          "heatmap": [
           {
            "colorbar": {
             "outlinewidth": 1,
             "tickcolor": "rgb(36,36,36)",
             "ticks": "outside"
            },
            "colorscale": [
             [
              0,
              "#440154"
             ],
             [
              0.1111111111111111,
              "#482878"
             ],
             [
              0.2222222222222222,
              "#3e4989"
             ],
             [
              0.3333333333333333,
              "#31688e"
             ],
             [
              0.4444444444444444,
              "#26828e"
             ],
             [
              0.5555555555555556,
              "#1f9e89"
             ],
             [
              0.6666666666666666,
              "#35b779"
             ],
             [
              0.7777777777777778,
              "#6ece58"
             ],
             [
              0.8888888888888888,
              "#b5de2b"
             ],
             [
              1,
              "#fde725"
             ]
            ],
            "type": "heatmap"
           }
          ],
          "heatmapgl": [
           {
            "colorbar": {
             "outlinewidth": 1,
             "tickcolor": "rgb(36,36,36)",
             "ticks": "outside"
            },
            "colorscale": [
             [
              0,
              "#440154"
             ],
             [
              0.1111111111111111,
              "#482878"
             ],
             [
              0.2222222222222222,
              "#3e4989"
             ],
             [
              0.3333333333333333,
              "#31688e"
             ],
             [
              0.4444444444444444,
              "#26828e"
             ],
             [
              0.5555555555555556,
              "#1f9e89"
             ],
             [
              0.6666666666666666,
              "#35b779"
             ],
             [
              0.7777777777777778,
              "#6ece58"
             ],
             [
              0.8888888888888888,
              "#b5de2b"
             ],
             [
              1,
              "#fde725"
             ]
            ],
            "type": "heatmapgl"
           }
          ],
          "histogram": [
           {
            "marker": {
             "line": {
              "color": "white",
              "width": 0.6
             }
            },
            "type": "histogram"
           }
          ],
          "histogram2d": [
           {
            "colorbar": {
             "outlinewidth": 1,
             "tickcolor": "rgb(36,36,36)",
             "ticks": "outside"
            },
            "colorscale": [
             [
              0,
              "#440154"
             ],
             [
              0.1111111111111111,
              "#482878"
             ],
             [
              0.2222222222222222,
              "#3e4989"
             ],
             [
              0.3333333333333333,
              "#31688e"
             ],
             [
              0.4444444444444444,
              "#26828e"
             ],
             [
              0.5555555555555556,
              "#1f9e89"
             ],
             [
              0.6666666666666666,
              "#35b779"
             ],
             [
              0.7777777777777778,
              "#6ece58"
             ],
             [
              0.8888888888888888,
              "#b5de2b"
             ],
             [
              1,
              "#fde725"
             ]
            ],
            "type": "histogram2d"
           }
          ],
          "histogram2dcontour": [
           {
            "colorbar": {
             "outlinewidth": 1,
             "tickcolor": "rgb(36,36,36)",
             "ticks": "outside"
            },
            "colorscale": [
             [
              0,
              "#440154"
             ],
             [
              0.1111111111111111,
              "#482878"
             ],
             [
              0.2222222222222222,
              "#3e4989"
             ],
             [
              0.3333333333333333,
              "#31688e"
             ],
             [
              0.4444444444444444,
              "#26828e"
             ],
             [
              0.5555555555555556,
              "#1f9e89"
             ],
             [
              0.6666666666666666,
              "#35b779"
             ],
             [
              0.7777777777777778,
              "#6ece58"
             ],
             [
              0.8888888888888888,
              "#b5de2b"
             ],
             [
              1,
              "#fde725"
             ]
            ],
            "type": "histogram2dcontour"
           }
          ],
          "mesh3d": [
           {
            "colorbar": {
             "outlinewidth": 1,
             "tickcolor": "rgb(36,36,36)",
             "ticks": "outside"
            },
            "type": "mesh3d"
           }
          ],
          "parcoords": [
           {
            "line": {
             "colorbar": {
              "outlinewidth": 1,
              "tickcolor": "rgb(36,36,36)",
              "ticks": "outside"
             }
            },
            "type": "parcoords"
           }
          ],
          "pie": [
           {
            "automargin": true,
            "type": "pie"
           }
          ],
          "scatter": [
           {
            "fillpattern": {
             "fillmode": "overlay",
             "size": 10,
             "solidity": 0.2
            },
            "type": "scatter"
           }
          ],
          "scatter3d": [
           {
            "line": {
             "colorbar": {
              "outlinewidth": 1,
              "tickcolor": "rgb(36,36,36)",
              "ticks": "outside"
             }
            },
            "marker": {
             "colorbar": {
              "outlinewidth": 1,
              "tickcolor": "rgb(36,36,36)",
              "ticks": "outside"
             }
            },
            "type": "scatter3d"
           }
          ],
          "scattercarpet": [
           {
            "marker": {
             "colorbar": {
              "outlinewidth": 1,
              "tickcolor": "rgb(36,36,36)",
              "ticks": "outside"
             }
            },
            "type": "scattercarpet"
           }
          ],
          "scattergeo": [
           {
            "marker": {
             "colorbar": {
              "outlinewidth": 1,
              "tickcolor": "rgb(36,36,36)",
              "ticks": "outside"
             }
            },
            "type": "scattergeo"
           }
          ],
          "scattergl": [
           {
            "marker": {
             "colorbar": {
              "outlinewidth": 1,
              "tickcolor": "rgb(36,36,36)",
              "ticks": "outside"
             }
            },
            "type": "scattergl"
           }
          ],
          "scattermapbox": [
           {
            "marker": {
             "colorbar": {
              "outlinewidth": 1,
              "tickcolor": "rgb(36,36,36)",
              "ticks": "outside"
             }
            },
            "type": "scattermapbox"
           }
          ],
          "scatterpolar": [
           {
            "marker": {
             "colorbar": {
              "outlinewidth": 1,
              "tickcolor": "rgb(36,36,36)",
              "ticks": "outside"
             }
            },
            "type": "scatterpolar"
           }
          ],
          "scatterpolargl": [
           {
            "marker": {
             "colorbar": {
              "outlinewidth": 1,
              "tickcolor": "rgb(36,36,36)",
              "ticks": "outside"
             }
            },
            "type": "scatterpolargl"
           }
          ],
          "scatterternary": [
           {
            "marker": {
             "colorbar": {
              "outlinewidth": 1,
              "tickcolor": "rgb(36,36,36)",
              "ticks": "outside"
             }
            },
            "type": "scatterternary"
           }
          ],
          "surface": [
           {
            "colorbar": {
             "outlinewidth": 1,
             "tickcolor": "rgb(36,36,36)",
             "ticks": "outside"
            },
            "colorscale": [
             [
              0,
              "#440154"
             ],
             [
              0.1111111111111111,
              "#482878"
             ],
             [
              0.2222222222222222,
              "#3e4989"
             ],
             [
              0.3333333333333333,
              "#31688e"
             ],
             [
              0.4444444444444444,
              "#26828e"
             ],
             [
              0.5555555555555556,
              "#1f9e89"
             ],
             [
              0.6666666666666666,
              "#35b779"
             ],
             [
              0.7777777777777778,
              "#6ece58"
             ],
             [
              0.8888888888888888,
              "#b5de2b"
             ],
             [
              1,
              "#fde725"
             ]
            ],
            "type": "surface"
           }
          ],
          "table": [
           {
            "cells": {
             "fill": {
              "color": "rgb(237,237,237)"
             },
             "line": {
              "color": "white"
             }
            },
            "header": {
             "fill": {
              "color": "rgb(217,217,217)"
             },
             "line": {
              "color": "white"
             }
            },
            "type": "table"
           }
          ]
         },
         "layout": {
          "annotationdefaults": {
           "arrowhead": 0,
           "arrowwidth": 1
          },
          "autotypenumbers": "strict",
          "coloraxis": {
           "colorbar": {
            "outlinewidth": 1,
            "tickcolor": "rgb(36,36,36)",
            "ticks": "outside"
           }
          },
          "colorscale": {
           "diverging": [
            [
             0,
             "rgb(103,0,31)"
            ],
            [
             0.1,
             "rgb(178,24,43)"
            ],
            [
             0.2,
             "rgb(214,96,77)"
            ],
            [
             0.3,
             "rgb(244,165,130)"
            ],
            [
             0.4,
             "rgb(253,219,199)"
            ],
            [
             0.5,
             "rgb(247,247,247)"
            ],
            [
             0.6,
             "rgb(209,229,240)"
            ],
            [
             0.7,
             "rgb(146,197,222)"
            ],
            [
             0.8,
             "rgb(67,147,195)"
            ],
            [
             0.9,
             "rgb(33,102,172)"
            ],
            [
             1,
             "rgb(5,48,97)"
            ]
           ],
           "sequential": [
            [
             0,
             "#440154"
            ],
            [
             0.1111111111111111,
             "#482878"
            ],
            [
             0.2222222222222222,
             "#3e4989"
            ],
            [
             0.3333333333333333,
             "#31688e"
            ],
            [
             0.4444444444444444,
             "#26828e"
            ],
            [
             0.5555555555555556,
             "#1f9e89"
            ],
            [
             0.6666666666666666,
             "#35b779"
            ],
            [
             0.7777777777777778,
             "#6ece58"
            ],
            [
             0.8888888888888888,
             "#b5de2b"
            ],
            [
             1,
             "#fde725"
            ]
           ],
           "sequentialminus": [
            [
             0,
             "#440154"
            ],
            [
             0.1111111111111111,
             "#482878"
            ],
            [
             0.2222222222222222,
             "#3e4989"
            ],
            [
             0.3333333333333333,
             "#31688e"
            ],
            [
             0.4444444444444444,
             "#26828e"
            ],
            [
             0.5555555555555556,
             "#1f9e89"
            ],
            [
             0.6666666666666666,
             "#35b779"
            ],
            [
             0.7777777777777778,
             "#6ece58"
            ],
            [
             0.8888888888888888,
             "#b5de2b"
            ],
            [
             1,
             "#fde725"
            ]
           ]
          },
          "colorway": [
           "#1F77B4",
           "#FF7F0E",
           "#2CA02C",
           "#D62728",
           "#9467BD",
           "#8C564B",
           "#E377C2",
           "#7F7F7F",
           "#BCBD22",
           "#17BECF"
          ],
          "font": {
           "color": "rgb(36,36,36)"
          },
          "geo": {
           "bgcolor": "white",
           "lakecolor": "white",
           "landcolor": "white",
           "showlakes": true,
           "showland": true,
           "subunitcolor": "white"
          },
          "hoverlabel": {
           "align": "left"
          },
          "hovermode": "closest",
          "mapbox": {
           "style": "light"
          },
          "paper_bgcolor": "white",
          "plot_bgcolor": "white",
          "polar": {
           "angularaxis": {
            "gridcolor": "rgb(232,232,232)",
            "linecolor": "rgb(36,36,36)",
            "showgrid": false,
            "showline": true,
            "ticks": "outside"
           },
           "bgcolor": "white",
           "radialaxis": {
            "gridcolor": "rgb(232,232,232)",
            "linecolor": "rgb(36,36,36)",
            "showgrid": false,
            "showline": true,
            "ticks": "outside"
           }
          },
          "scene": {
           "xaxis": {
            "backgroundcolor": "white",
            "gridcolor": "rgb(232,232,232)",
            "gridwidth": 2,
            "linecolor": "rgb(36,36,36)",
            "showbackground": true,
            "showgrid": false,
            "showline": true,
            "ticks": "outside",
            "zeroline": false,
            "zerolinecolor": "rgb(36,36,36)"
           },
           "yaxis": {
            "backgroundcolor": "white",
            "gridcolor": "rgb(232,232,232)",
            "gridwidth": 2,
            "linecolor": "rgb(36,36,36)",
            "showbackground": true,
            "showgrid": false,
            "showline": true,
            "ticks": "outside",
            "zeroline": false,
            "zerolinecolor": "rgb(36,36,36)"
           },
           "zaxis": {
            "backgroundcolor": "white",
            "gridcolor": "rgb(232,232,232)",
            "gridwidth": 2,
            "linecolor": "rgb(36,36,36)",
            "showbackground": true,
            "showgrid": false,
            "showline": true,
            "ticks": "outside",
            "zeroline": false,
            "zerolinecolor": "rgb(36,36,36)"
           }
          },
          "shapedefaults": {
           "fillcolor": "black",
           "line": {
            "width": 0
           },
           "opacity": 0.3
          },
          "ternary": {
           "aaxis": {
            "gridcolor": "rgb(232,232,232)",
            "linecolor": "rgb(36,36,36)",
            "showgrid": false,
            "showline": true,
            "ticks": "outside"
           },
           "baxis": {
            "gridcolor": "rgb(232,232,232)",
            "linecolor": "rgb(36,36,36)",
            "showgrid": false,
            "showline": true,
            "ticks": "outside"
           },
           "bgcolor": "white",
           "caxis": {
            "gridcolor": "rgb(232,232,232)",
            "linecolor": "rgb(36,36,36)",
            "showgrid": false,
            "showline": true,
            "ticks": "outside"
           }
          },
          "title": {
           "x": 0.05
          },
          "xaxis": {
           "automargin": true,
           "gridcolor": "rgb(232,232,232)",
           "linecolor": "rgb(36,36,36)",
           "showgrid": false,
           "showline": true,
           "ticks": "outside",
           "title": {
            "standoff": 15
           },
           "zeroline": false,
           "zerolinecolor": "rgb(36,36,36)"
          },
          "yaxis": {
           "automargin": true,
           "gridcolor": "rgb(232,232,232)",
           "linecolor": "rgb(36,36,36)",
           "showgrid": false,
           "showline": true,
           "ticks": "outside",
           "title": {
            "standoff": 15
           },
           "zeroline": false,
           "zerolinecolor": "rgb(36,36,36)"
          }
         }
        },
        "width": 800,
        "xaxis": {
         "anchor": "y",
         "domain": [
          0,
          1
         ],
         "range": [
          -0.01,
          1.01
         ],
         "title": {
          "text": "Positiveness (valence)"
         }
        },
        "yaxis": {
         "anchor": "x",
         "domain": [
          0,
          1
         ],
         "range": [
          -0.01,
          1.01
         ],
         "title": {
          "text": "Energy"
         }
        }
       }
      },
      "text/html": [
       "<div>                            <div id=\"2cce8df1-1433-4777-a414-f26a084e0aa8\" class=\"plotly-graph-div\" style=\"height:700px; width:800px;\"></div>            <script type=\"text/javascript\">                require([\"plotly\"], function(Plotly) {                    window.PLOTLYENV=window.PLOTLYENV || {};                                    if (document.getElementById(\"2cce8df1-1433-4777-a414-f26a084e0aa8\")) {                    Plotly.newPlot(                        \"2cce8df1-1433-4777-a414-f26a084e0aa8\",                        [{\"customdata\":[[\"willow\"],[\"champagne problems\"],[\"gold rush\"],[\"\\u2018tis the damn season\"],[\"tolerate it\"],[\"no body, no crime (feat. HAIM)\"],[\"happiness\"],[\"dorothea\"],[\"coney island (feat. The National)\"],[\"ivy\"],[\"cowboy like me\"],[\"long story short\"],[\"marjorie\"],[\"closure\"],[\"evermore (feat. Bon Iver)\"],[\"willow\"],[\"champagne problems\"],[\"gold rush\"],[\"\\u2018tis the damn season\"],[\"tolerate it\"],[\"no body, no crime (feat. HAIM)\"],[\"happiness\"],[\"dorothea\"],[\"coney island (feat. The National)\"],[\"ivy\"],[\"cowboy like me\"],[\"long story short\"],[\"marjorie\"],[\"closure\"],[\"evermore (feat. Bon Iver)\"],[\"willow\"],[\"champagne problems\"],[\"gold rush\"],[\"\\u2018tis the damn season\"],[\"tolerate it\"],[\"no body, no crime (feat. HAIM)\"],[\"happiness\"],[\"dorothea\"],[\"coney island (feat. The National)\"],[\"ivy\"],[\"cowboy like me\"],[\"long story short\"],[\"marjorie\"],[\"closure\"],[\"evermore (feat. Bon Iver)\"],[\"the 1\"],[\"cardigan\"],[\"the last great american dynasty\"],[\"exile (feat. Bon Iver)\"],[\"my tears ricochet\"],[\"mirrorball\"],[\"seven\"],[\"august\"],[\"this is me trying\"],[\"illicit affairs\"],[\"invisible string\"],[\"mad woman\"],[\"epiphany\"],[\"betty\"],[\"peace\"],[\"hoax\"],[\"the 1\"],[\"cardigan\"],[\"the last great american dynasty\"],[\"exile (feat. Bon Iver)\"],[\"my tears ricochet\"],[\"mirrorball\"],[\"seven\"],[\"august\"],[\"this is me trying\"],[\"illicit affairs\"],[\"invisible string\"],[\"mad woman\"],[\"epiphany\"],[\"betty\"],[\"peace\"],[\"hoax\"],[\"I Forgot That You Existed\"],[\"Cruel Summer\"],[\"Lover\"],[\"The Man\"],[\"The Archer\"],[\"I Think He Knows\"],[\"Miss Americana & The Heartbreak Prince\"],[\"Paper Rings\"],[\"Cornelia Street\"],[\"Death By A Thousand Cuts\"],[\"London Boy\"],[\"Soon You\\u2019ll Get Better (feat. The Chicks)\"],[\"False God\"],[\"You Need To Calm Down\"],[\"Afterglow\"],[\"ME! (feat. Brendon Urie of Panic! At The Disco)\"],[\"It\\u2019s Nice To Have A Friend\"],[\"Daylight\"],[\"...Ready For It? - Karaoke Version\"],[\"End Game - Karaoke Version\"],[\"I Did Something Bad - Karaoke Version\"],[\"Don't Blame Me - Karaoke Version\"],[\"Delicate - Karaoke Version\"],[\"Look What You Made Me Do - Karaoke Version\"],[\"So It Goes... - Karaoke Version\"],[\"Gorgeous - Karaoke Version\"],[\"Getaway Car - Karaoke Version\"],[\"King Of My Heart - Karaoke Version\"],[\"Dancing With Our Hands Tied - Karaoke Version\"],[\"Dress - Karaoke Version\"],[\"This Is Why We Can't Have Nice Things - Karaoke Version\"],[\"Call It What You Want - Karaoke Version\"],[\"New Year's Day - Karaoke Version\"],[\"...Ready For It?\"],[\"End Game\"],[\"I Did Something Bad\"],[\"Don\\u2019t Blame Me\"],[\"Delicate\"],[\"Look What You Made Me Do\"],[\"So It Goes...\"],[\"Gorgeous\"],[\"Getaway Car\"],[\"King Of My Heart\"],[\"Dancing With Our Hands Tied\"],[\"Dress\"],[\"This Is Why We Can't Have Nice Things\"],[\"Call It What You Want\"],[\"New Year\\u2019s Day\"],[\"\\u2026Ready For It? - Commentary\"],[\"...Ready For It?\"],[\"End Game - Commentary\"],[\"End Game\"],[\"I Did Something Bad - Commentary\"],[\"I Did Something Bad\"],[\"Don't Blame Me - Commentary\"],[\"Don\\u2019t Blame Me\"],[\"Delicate - Commentary\"],[\"Delicate\"],[\"Look What You Made Me Do - Commentary\"],[\"Look What You Made Me Do\"],[\"So It Goes\\u2026 - Commentary\"],[\"So It Goes...\"],[\"Gorgeous - Commentary\"],[\"Gorgeous\"],[\"Getaway Car - Commentary\"],[\"Getaway Car\"],[\"King Of My Heart - Commentary\"],[\"King Of My Heart\"],[\"Dancing With Our Hands Tied - Commentary\"],[\"Dancing With Our Hands Tied\"],[\"Dress - Commentary\"],[\"Dress\"],[\"This Is Why We Can't Have Nice Things - Commentary\"],[\"This Is Why We Can't Have Nice Things\"],[\"Call It What You Want - Commentary\"],[\"Call It What You Want\"],[\"New Year's Day - Commentary\"],[\"New Year\\u2019s Day\"],[\"Radio Outro - Commentary\"],[\"All Too Well\"],[\"Wildest Dreams\"],[\"The Best Day\"],[\"Red\"],[\"Holy Ground\"],[\"Teardrops On My Guitar - Radio Single Remix\"],[\"Our Song\"],[\"22\"],[\"I Knew You Were Trouble.\"],[\"I Don\\u2019t Wanna Live Forever (Fifty Shades Darker)\"],[\"Mean\"],[\"How You Get The Girl\"],[\"So It Goes...\"],[\"Fifteen\"],[\"Mine\"],[\"Sparks Fly\"],[\"State Of Grace\"],[\"Haunted\"],[\"Never Grow Up\"],[\"Treacherous\"],[\"Babe\"],[\"Welcome To New York\"],[\"Fearless\"],[\"Enchanted\"],[\"Change\"],[\"Ours\"],[\"Out Of The Woods\"],[\"Come Back...Be Here\"],[\"A Place in this World\"],[\"This Love\"],[\"The Lucky One\"],[\"Invisible\"],[\"Breathe\"],[\"Better Man\"],[\"Jump Then Fall\"],[\"Begin Again\"],[\"Tied Together with a Smile\"],[\"The Story Of Us\"],[\"Forever & Always\"],[\"Hey Stephen\"],[\"Speak Now\"],[\"Wonderland\"],[\"White Horse\"],[\"I'm Only Me When I'm With You\"],[\"Starlight\"],[\"I Know Places\"],[\"Welcome To New York\"],[\"Blank Space\"],[\"Style\"],[\"Out Of The Woods\"],[\"All You Had To Do Was Stay\"],[\"Shake It Off\"],[\"I Wish You Would\"],[\"Bad Blood\"],[\"Wildest Dreams\"],[\"How You Get The Girl\"],[\"This Love\"],[\"I Know Places\"],[\"Clean\"],[\"Welcome To New York\"],[\"Blank Space\"],[\"Style\"],[\"Out Of The Woods\"],[\"All You Had To Do Was Stay\"],[\"Shake It Off\"],[\"I Wish You Would\"],[\"Bad Blood\"],[\"Wildest Dreams\"],[\"How You Get The Girl\"],[\"This Love\"],[\"I Know Places\"],[\"Clean\"],[\"Welcome to New York - Commentary\"],[\"Welcome To New York\"],[\"Blank Space - Commentary\"],[\"Blank Space\"],[\"Style - Commentary\"],[\"Style\"],[\"Out Of The Woods - Commentary\"],[\"Out Of The Woods\"],[\"All You Had To Do Was Stay - Commentary\"],[\"All You Had To Do Was Stay\"],[\"Shake It Off - Commentary\"],[\"Shake It Off\"],[\"I Wish You Would - Commentary\"],[\"I Wish You Would\"],[\"Bad Blood - Commentary\"],[\"Bad Blood\"],[\"Wildest Dreams - Commentary\"],[\"Wildest Dreams\"],[\"How You Get The Girl - Commentary\"],[\"How You Get The Girl\"],[\"This Love - Commentary\"],[\"This Love\"],[\"I Know Places - Commentary\"],[\"I Know Places\"],[\"Clean - Commentary\"],[\"Clean\"],[\"Welcome To New York - Karaoke Version\"],[\"Blank Space - Karaoke Version\"],[\"Style - Karaoke Version\"],[\"Out Of The Woods - Karaoke Version\"],[\"All You Had To Do Was Stay - Karaoke Version\"],[\"Shake It Off - Karaoke Version\"],[\"I Wish You Would - Karaoke Version\"],[\"Bad Blood - Karaoke Version\"],[\"Wildest Dreams - Karaoke Version\"],[\"How You Get The Girl - Karaoke Version\"],[\"This Love - Karaoke Version\"],[\"I Know Places - Karaoke Version\"],[\"Clean - Karaoke Version\"],[\"Welcome To New York\"],[\"Blank Space\"],[\"Style\"],[\"Out Of The Woods\"],[\"All You Had To Do Was Stay\"],[\"Shake It Off\"],[\"I Wish You Would\"],[\"Bad Blood\"],[\"Wildest Dreams\"],[\"How You Get The Girl\"],[\"This Love\"],[\"I Know Places\"],[\"Clean\"],[\"State Of Grace\"],[\"Red\"],[\"Treacherous\"],[\"I Knew You Were Trouble.\"],[\"All Too Well\"],[\"22\"],[\"I Almost Do\"],[\"We Are Never Ever Getting Back Together\"],[\"Stay Stay Stay\"],[\"The Last Time\"],[\"Holy Ground\"],[\"Sad Beautiful Tragic\"],[\"The Lucky One\"],[\"Everything Has Changed\"],[\"Starlight\"],[\"Begin Again\"],[\"State Of Grace - Commentary\"],[\"State Of Grace\"],[\"Red - Commentary\"],[\"Red\"],[\"Treacherous - Commentary\"],[\"Treacherous\"],[\"I Knew You Were Trouble. - Commentary\"],[\"I Knew You Were Trouble.\"],[\"All Too Well - Commentary\"],[\"All Too Well\"],[\"22 - Commentary\"],[\"22\"],[\"I Almost Do - Commentary\"],[\"I Almost Do\"],[\"We Are Never Ever Getting Back Together - Commentary\"],[\"We Are Never Ever Getting Back Together\"],[\"Stay Stay Stay - Commentary\"],[\"Stay Stay Stay\"],[\"The Last Time - Commentary\"],[\"The Last Time\"],[\"Holy Ground - Commentary\"],[\"Holy Ground\"],[\"Sad Beautiful Tragic - Commentary\"],[\"Sad Beautiful Tragic\"],[\"The Lucky One - Commentary\"],[\"The Lucky One\"],[\"Everything Has Changed - Commentary\"],[\"Everything Has Changed\"],[\"Starlight - Commentary\"],[\"Starlight\"],[\"Begin Again - Commentary\"],[\"Begin Again\"],[\"State Of Grace - Karaoke Version\"],[\"Red - Karaoke Version\"],[\"Treacherous - Karaoke Version\"],[\"I Knew You Were Trouble. - Karaoke Version\"],[\"All Too Well - Karaoke Version\"],[\"22 - Karaoke Version\"],[\"I Almost Do - Karaoke Version\"],[\"We Are Never Ever Getting Back Together - Karaoke Version\"],[\"Stay Stay Stay - Karaoke Version\"],[\"The Last Time - Karaoke Version\"],[\"Holy Ground - Karaoke Version\"],[\"Sad Beautiful Tragic - Karaoke Version\"],[\"The Lucky One - Karaoke Version\"],[\"Everything Has Changed - Karaoke Version\"],[\"Starlight - Karaoke Version\"],[\"Begin Again - Karaoke Version\"],[\"State Of Grace - Instrumental With Background Vocals\"],[\"Red - Instrumental With Background Vocals\"],[\"Treacherous - Instrumental With Background Vocals\"],[\"I Knew You Were Trouble. - Instrumental With Background Vocals\"],[\"All Too Well - Instrumental With Background Vocals\"],[\"22 - Instrumental With Background Vocals\"],[\"I Almost Do - Instrumental With Background Vocals\"],[\"We Are Never Ever Getting Back Together - Instrumental With Background Vocals\"],[\"Stay Stay Stay - Instrumental With Background Vocals\"],[\"The Last Time - Instrumental With Background Vocals\"],[\"Holy Ground - Instrumental With Background Vocals\"],[\"Sad Beautiful Tragic - Instrumental With Background Vocals\"],[\"The Lucky One - Instrumental With Background Vocals\"],[\"Everything Has Changed - Instrumental With Background Vocals\"],[\"Starlight - Instrumental With Background Vocals\"],[\"Begin Again - Instrumental With Background Vocals\"],[\"Sparks Fly - Live/2011\"],[\"Mine - Live/2011\"],[\"The Story Of Us - Live\"],[\"Mean - Live/2011\"],[\"Ours - Live/2011\"],[\"Back To December/Apologize/You're Not Sorry - Live/2011/Medley\"],[\"Better Than Revenge - Live/2011\"],[\"Speak Now - Live/2011\"],[\"Last Kiss - Live/2011\"],[\"Drops Of Jupiter - Live/2011\"],[\"Bette Davis Eyes - Live/2011\"],[\"I Want You Back - Live/2011\"],[\"Dear John - Live/2011\"],[\"Enchanted - Live/2011\"],[\"Haunted - Live/2011\"],[\"Long Live - Live/2011\"],[\"Mine\"],[\"Sparks Fly\"],[\"Back To December\"],[\"Speak Now\"],[\"Dear John\"],[\"Mean\"],[\"The Story Of Us\"],[\"Never Grow Up\"],[\"Enchanted\"],[\"Better Than Revenge\"],[\"Innocent\"],[\"Haunted\"],[\"Last Kiss\"],[\"Long Live\"],[\"Mine - Commentary\"],[\"Mine\"],[\"Sparks Fly - Commentary\"],[\"Sparks Fly\"],[\"Back To December - Commentary\"],[\"Back To December\"],[\"Speak Now - Commentary\"],[\"Speak Now\"],[\"Dear John - Commentary\"],[\"Dear John\"],[\"Mean - Commentary\"],[\"Mean\"],[\"The Story Of Us - Commentary\"],[\"The Story Of Us\"],[\"Never Grow Up - Commentary\"],[\"Never Grow Up\"],[\"Enchanted - Commentary\"],[\"Enchanted\"],[\"Better Than Revenge - Commentary\"],[\"Better Than Revenge\"],[\"Innocent - Commentary\"],[\"Innocent\"],[\"Haunted - Commentary\"],[\"Haunted\"],[\"Last Kiss - Commentary\"],[\"Last Kiss\"],[\"Long Live - Commentary\"],[\"Long Live\"],[\"Mine - Instrumental With Background Vocals\"],[\"Sparks Fly - Instrumental With Background Vocals\"],[\"Back To December - Instrumental With Background Vocals\"],[\"Speak Now - Instrumental With Background Vocals\"],[\"Dear John - Instrumental With Background Vocals\"],[\"Mean - Instrumental With Background Vocals\"],[\"The Story Of Us - Instrumental With Background Vocals\"],[\"Never Grow Up - Instrumental With Background Vocals\"],[\"Enchanted - Instrumental With Background Vocals\"],[\"Better Than Revenge - Instrumental With Background Vocals\"],[\"Innocent - Instrumental With Background Vocals\"],[\"Haunted - Instrumental With Background Vocals\"],[\"Last Kiss - Instrumental With Background Vocals\"],[\"Long Live - Instrumental With Background Vocals\"],[\"Mine - POP Mix\"],[\"Sparks Fly\"],[\"Back To December\"],[\"Speak Now\"],[\"Dear John\"],[\"Mean\"],[\"The Story Of Us\"],[\"Never Grow Up\"],[\"Enchanted\"],[\"Better Than Revenge\"],[\"Innocent\"],[\"Haunted\"],[\"Last Kiss\"],[\"Long Live\"],[\"Fearless\"],[\"Fifteen\"],[\"Love Story\"],[\"Hey Stephen\"],[\"White Horse\"],[\"You Belong With Me\"],[\"Breathe\"],[\"Tell Me Why\"],[\"You're Not Sorry\"],[\"The Way I Loved You\"],[\"Forever & Always\"],[\"The Best Day\"],[\"Change\"],[\"Our Song\"],[\"Teardrops On My Guitar\"],[\"Should've Said No\"],[\"Beautiful Eyes\"],[\"Picture To Burn - Radio Edit\"],[\"I'm Only Me When I'm With You\"],[\"I Heart ?\"],[\"Fearless\"],[\"Fifteen\"],[\"Love Story\"],[\"Hey Stephen\"],[\"White Horse\"],[\"You Belong With Me\"],[\"Breathe\"],[\"Tell Me Why\"],[\"You're Not Sorry\"],[\"The Way I Loved You\"],[\"Forever & Always\"],[\"The Best Day\"],[\"Change\"],[\"Our Song\"],[\"Teardrops On My Guitar\"],[\"Should've Said No\"],[\"Love Story - J Stax Radio Mix\"],[\"Fearless\"],[\"Fifteen\"],[\"Love Story\"],[\"Hey Stephen\"],[\"White Horse\"],[\"You Belong With Me\"],[\"Breathe\"],[\"Tell Me Why\"],[\"You're Not Sorry\"],[\"The Way I Loved You\"],[\"Forever & Always\"],[\"The Best Day\"],[\"Change\"],[\"Fearless - Commentary\"],[\"Fearless\"],[\"Fifteen - Commentary\"],[\"Fifteen\"],[\"Love Story - Commentary\"],[\"Love Story\"],[\"Hey Stephen - Commentary\"],[\"Hey Stephen\"],[\"White Horse - Commentary\"],[\"White Horse\"],[\"You Belong With Me - Commentary\"],[\"You Belong With Me\"],[\"Breathe - Commentary\"],[\"Breathe\"],[\"Tell Me Why - Commentary\"],[\"Tell Me Why\"],[\"You're Not Sorry - Commentary\"],[\"You're Not Sorry\"],[\"The Way I Loved You - Commentary\"],[\"The Way I Loved You\"],[\"Forever & Always - Commentary\"],[\"Forever & Always\"],[\"The Best Day - Commentary\"],[\"The Best Day\"],[\"Change - Commentary\"],[\"Change\"],[\"Fearless - Instrumental with BGV\"],[\"Fifteen - Instrumental with BGV\"],[\"Love Story - Instrumental with BGV\"],[\"Hey Stephen - Instrumental with BGV\"],[\"White Horse - Instrumental with BGV\"],[\"You Belong With Me - Instrumental with BGV\"],[\"Breathe - Instrumental only, no BV\"],[\"Tell Me Why - Instrumental with BGV\"],[\"You're Not Sorry - Instrumental with BGV\"],[\"The Way I Loved You - Instrumental with BGV\"],[\"Forever & Always - Instrumental with BGV\"],[\"The Best Day - Instrumental with BGV\"],[\"Change - Instrumental with BGV\"],[\"Jump Then Fall\"],[\"Untouchable\"],[\"Forever & Always - Piano Version\"],[\"Come In With The Rain\"],[\"SuperStar\"],[\"The Other Side Of The Door\"],[\"Fearless\"],[\"Fifteen\"],[\"Love Story\"],[\"Hey Stephen\"],[\"White Horse\"],[\"You Belong With Me\"],[\"Breathe\"],[\"Tell Me Why\"],[\"You're Not Sorry\"],[\"The Way I Loved You\"],[\"Forever & Always\"],[\"The Best Day\"],[\"Change\"],[\"Love Story - Live From Clear Channel Stripped 2008\"],[\"Fearless - Live From Clear Channel Stripped 2008\"],[\"Beautiful Eyes - Live From Clear Channel Stripped 2008\"],[\"Untouchable - Live From Clear Channel Stripped 2008\"],[\"Teardrops On My Guitar - Live From Clear Channel Stripped 2008\"],[\"Picture To Burn - Live From Clear Channel Stripped 2008\"],[\"Should've Said No - Live From Clear Channel Stripped 2008\"],[\"Change - Live From Clear Channel Stripped 2008\"],[\"Fearless\"],[\"Fifteen\"],[\"Love Story\"],[\"Hey Stephen\"],[\"White Horse\"],[\"You Belong With Me\"],[\"Breathe\"],[\"Tell Me Why\"],[\"You're Not Sorry\"],[\"The Way I Loved You\"],[\"Forever & Always\"],[\"The Best Day\"],[\"Change\"],[\"Tim McGraw\"],[\"Picture To Burn\"],[\"Teardrops On My Guitar - Radio Single Remix\"],[\"A Place in this World\"],[\"Cold As You\"],[\"The Outside\"],[\"Tied Together with a Smile\"],[\"Stay Beautiful\"],[\"Should've Said No\"],[\"Mary's Song (Oh My My My)\"],[\"Our Song\"],[\"I'm Only Me When I'm With You\"],[\"Invisible\"],[\"A Perfectly Good Heart\"],[\"Teardrops on My Guitar - Pop Version\"],[\"Tim McGraw\"],[\"Picture To Burn\"],[\"Teardrops On My Guitar - Radio Single Remix\"],[\"A Place in this World\"],[\"Cold As You\"],[\"The Outside\"],[\"Tied Together with a Smile\"],[\"Stay Beautiful\"],[\"Should've Said No\"],[\"Mary's Song (Oh My My My)\"],[\"Our Song\"],[\"I'm Only Me When I'm With You\"],[\"Invisible\"],[\"A Perfectly Good Heart\"],[\"Teardrops on My Guitar - Pop Version\"],[\"Tim McGraw - Commentary\"],[\"Tim McGraw\"],[\"Picture To Burn - Commentary\"],[\"Picture To Burn\"],[\"Teardrops On My Guitar - Radio Single Remix / Commentary\"],[\"Teardrops On My Guitar - Radio Single Remix\"],[\"A Place In This World - Commentary\"],[\"A Place In This World\"],[\"Cold As You - Commentary\"],[\"Cold As You\"],[\"The Outside - Commentary\"],[\"The Outside\"],[\"Tied Together With A Smile - Commentary\"],[\"Tied Together With A Smile\"],[\"Stay Beautiful - Commentary\"],[\"Stay Beautiful\"],[\"Should\\u2019ve Said No - Commentary\"],[\"Should've Said No\"],[\"Mary's Song (Oh My My My) - Commentary\"],[\"Mary's Song (Oh My My My)\"],[\"Our Song - Commentary\"],[\"Our Song\"],[\"I\\u2019m Only Me When I\\u2019m With You - Commentary\"],[\"I'm Only Me When I'm With You\"],[\"Invisible - Commentary\"],[\"Invisible\"],[\"A Perfectly Good Heart - Commentary\"],[\"A Perfectly Good Heart\"],[\"Teardrops On My Guitar - Pop Version / Commentary\"],[\"Teardrops On My Guitar - Pop Version\"],[\"Tim McGraw - Instrumental w/ BG vocals\"],[\"Picture To Burn - Instrumental w/ BG vocals\"],[\"Teardrops On My Guitar - Instrumental w/ BG vocals\"],[\"A Place In This World - Instrumental w/ BG vocals\"],[\"Cold As You - Instrumental w/ BG vocals\"],[\"The Outside - Instrumental w/ BG vocals\"],[\"Tied Together With A Smile - Instrumental w/ BG vocals\"],[\"Stay Beautiful - Instrumental w/ BG vocals\"],[\"Should've Said No - Instrumental w/ BG vocals\"],[\"Mary's Song (Oh My My My) - Instrumental w/ BG vocals\"],[\"Our Song - Instrumental w/ BG vocals\"],[\"I'm Only Me When I'm With You - Instrumental w/ BG vocals\"],[\"Invisible - Instrumental w/ BG vocals\"],[\"A Perfectly Good Heart - Instrumental w/ BG vocals\"]],\"hovertemplate\":\"Artist(s)=Taylor Swift<br>Positiveness (valence)=%{x}<br>Energy=%{y}<br>Song Title=%{customdata[0]}<extra></extra>\",\"legendgroup\":\"Taylor Swift\",\"marker\":{\"color\":\"#636efa\",\"symbol\":\"circle\"},\"mode\":\"markers\",\"name\":\"Taylor Swift\",\"showlegend\":true,\"x\":[0.529,0.32,0.353,0.348,0.221,0.535,0.21100000000000002,0.354,0.292,0.535,0.511,0.573,0.287,0.92,0.32,0.529,0.32,0.353,0.348,0.221,0.535,0.21100000000000002,0.354,0.292,0.535,0.511,0.573,0.287,0.92,0.32,0.5489999999999999,0.325,0.35100000000000003,0.35100000000000003,0.212,0.528,0.201,0.361,0.304,0.522,0.512,0.5710000000000001,0.294,0.919,0.314,0.172,0.551,0.706,0.152,0.111,0.379,0.415,0.40299999999999997,0.41200000000000003,0.46,0.45,0.506,0.113,0.502,0.33899999999999997,0.429,0.171,0.551,0.713,0.152,0.111,0.379,0.415,0.40299999999999997,0.41200000000000003,0.46,0.45,0.5329999999999999,0.113,0.467,0.33399999999999996,0.429,0.541,0.564,0.45299999999999996,0.633,0.166,0.41600000000000004,0.48700000000000004,0.865,0.248,0.313,0.557,0.42100000000000004,0.35100000000000003,0.7140000000000001,0.39899999999999997,0.728,0.545,0.265,0.191,0.0719,0.17800000000000002,0.0764,0.0429,0.0709,0.25,0.335,0.158,0.145,0.217,0.0383,0.214,0.139,0.0767,0.41700000000000004,0.151,0.305,0.193,0.0499,0.506,0.374,0.451,0.35100000000000003,0.314,0.284,0.0851,0.43799999999999994,0.252,0.23,0.7140000000000001,0.41700000000000004,0.565,0.151,0.731,0.305,0.647,0.193,0.48700000000000004,0.0499,0.584,0.506,0.527,0.374,0.7290000000000001,0.451,0.478,0.35100000000000003,0.715,0.314,0.507,0.284,0.535,0.0851,0.54,0.43799999999999994,0.529,0.252,0.424,0.23,0.6679999999999999,0.316,0.465,0.38299999999999995,0.647,0.648,0.263,0.565,0.68,0.665,0.106,0.79,0.545,0.374,0.21100000000000002,0.67,0.39899999999999997,0.38299999999999995,0.37,0.545,0.395,0.643,0.6579999999999999,0.429,0.218,0.23399999999999999,0.228,0.33799999999999997,0.217,0.43799999999999994,0.107,0.561,0.22399999999999998,0.16699999999999998,0.507,0.818,0.32299999999999995,0.23800000000000002,0.65,0.52,0.838,0.7140000000000001,0.19699999999999998,0.218,0.521,0.616,0.495,0.615,0.583,0.456,0.342,0.47200000000000003,0.943,0.503,0.295,0.467,0.525,0.0858,0.507,0.21100000000000002,0.615,0.583,0.456,0.342,0.47200000000000003,0.943,0.503,0.295,0.467,0.525,0.0858,0.507,0.21100000000000002,0.612,0.6579999999999999,0.547,0.57,0.621,0.48700000000000004,0.5770000000000001,0.33799999999999997,0.56,0.539,0.629,0.9420000000000001,0.6459999999999999,0.513,0.5710000000000001,0.287,0.6809999999999999,0.465,0.838,0.545,0.657,0.107,0.629,0.495,0.61,0.21100000000000002,0.33399999999999996,0.598,0.48100000000000004,0.0612,0.579,0.825,0.23600000000000002,0.18100000000000002,0.45399999999999996,0.456,0.0665,0.45799999999999996,0.369,0.615,0.583,0.456,0.342,0.47200000000000003,0.943,0.503,0.295,0.467,0.525,0.0858,0.507,0.21100000000000002,0.397,0.6409999999999999,0.395,0.679,0.337,0.6679999999999999,0.233,0.75,0.9279999999999999,0.12300000000000001,0.648,0.261,0.545,0.436,0.5870000000000001,0.32299999999999995,0.539,0.397,0.48700000000000004,0.6409999999999999,0.49700000000000005,0.395,0.598,0.679,0.75,0.337,0.51,0.6679999999999999,0.648,0.233,0.5379999999999999,0.75,0.6509999999999999,0.9279999999999999,0.49,0.12300000000000001,0.47100000000000003,0.648,0.415,0.261,0.355,0.545,0.5579999999999999,0.436,0.7020000000000001,0.5870000000000001,0.6559999999999999,0.32299999999999995,0.223,0.675,0.406,0.5579999999999999,0.298,0.647,0.183,0.5710000000000001,0.75,0.105,0.675,0.285,0.557,0.28300000000000003,0.452,0.375,0.223,0.695,0.36700000000000005,0.551,0.306,0.684,0.19899999999999998,0.58,0.74,0.11,0.623,0.28300000000000003,0.608,0.26899999999999996,0.41700000000000004,0.381,0.298,0.442,0.47200000000000003,0.43200000000000005,0.267,0.171,0.386,0.373,0.188,0.27,0.363,0.249,0.138,0.214,0.177,0.204,0.6579999999999999,0.374,0.28600000000000003,0.735,0.102,0.789,0.6829999999999999,0.5539999999999999,0.20800000000000002,0.635,0.17,0.35200000000000004,0.196,0.142,0.5429999999999999,0.635,0.655,0.358,0.642,0.272,0.565,0.737,0.59,0.115,0.6940000000000001,0.794,0.66,0.6659999999999999,0.57,0.5379999999999999,0.627,0.195,0.784,0.595,0.597,0.159,0.517,0.358,0.588,0.22699999999999998,0.6809999999999999,0.142,0.62,0.37,0.31,0.56,0.133,0.62,0.6459999999999999,0.39,0.0921,0.425,0.21,0.41,0.156,0.0876,0.6920000000000001,0.376,0.29600000000000004,0.742,0.126,0.8079999999999999,0.84,0.547,0.228,0.652,0.18600000000000003,0.361,0.20800000000000002,0.146,0.433,0.209,0.29100000000000004,0.815,0.247,0.431,0.16,0.512,0.252,0.406,0.501,0.36,0.237,0.63,0.154,0.43700000000000006,0.37200000000000005,0.802,0.5429999999999999,0.64,0.44799999999999995,0.20800000000000002,0.26899999999999996,0.8270000000000001,0.231,0.414,0.156,0.49200000000000005,0.302,0.419,0.529,0.38299999999999995,0.231,0.6509999999999999,0.171,0.444,0.324,0.47600000000000003,0.203,0.29600000000000004,0.831,0.223,0.44299999999999995,0.184,0.51,0.276,0.39799999999999996,0.544,0.396,0.215,0.655,0.474,0.773,0.19699999999999998,0.594,0.306,0.623,0.809,0.8320000000000001,0.212,0.728,0.435,0.7390000000000001,0.174,0.807,0.488,0.6679999999999999,0.285,0.767,0.41,0.715,0.486,0.6970000000000001,0.345,0.54,0.207,0.38299999999999995,0.23,0.155,0.966,0.24,0.2,0.22399999999999998,0.659,0.184,0.33299999999999996,0.475,0.424,0.179,0.82,0.28800000000000003,0.294,0.22399999999999998,0.228,0.469,0.467,0.214,0.307,0.825,0.195,0.445,0.17,0.513,0.281,0.379,0.514,0.364,0.22399999999999998,0.512,0.467,0.457,0.331,0.615,0.684,0.43799999999999994,0.273,0.442,0.204,0.3,0.805,0.212,0.45,0.16899999999999998,0.49,0.273,0.41600000000000004,0.515,0.402,0.21899999999999997,0.425,0.821,0.289,0.428,0.261,0.591,0.192,0.504,0.47200000000000003,0.374,0.539,0.518,0.233,0.268,0.483,0.425,0.821,0.289,0.428,0.261,0.591,0.192,0.504,0.47200000000000003,0.374,0.539,0.518,0.233,0.268,0.483,0.653,0.447,0.512,0.7909999999999999,0.551,0.259,0.774,0.43,0.528,0.29,0.6759999999999999,0.5870000000000001,0.552,0.213,0.503,0.44299999999999995,0.591,0.53,0.705,0.368,0.606,0.575,0.5710000000000001,0.505,0.593,0.204,0.56,0.273,0.705,0.485,0.301,0.892,0.12300000000000001,0.544,0.19699999999999998,0.62,0.183,0.46,0.685,0.301,0.585,0.847,0.11800000000000001,0.31],\"xaxis\":\"x\",\"y\":[0.574,0.24,0.462,0.434,0.361,0.613,0.33399999999999996,0.488,0.537,0.545,0.517,0.73,0.561,0.7040000000000001,0.27,0.574,0.24,0.462,0.434,0.361,0.613,0.33399999999999996,0.488,0.537,0.545,0.517,0.73,0.561,0.7040000000000001,0.27,0.579,0.248,0.47100000000000003,0.435,0.36,0.613,0.331,0.488,0.536,0.547,0.513,0.732,0.562,0.705,0.27,0.35700000000000004,0.581,0.662,0.38,0.263,0.413,0.488,0.623,0.47600000000000003,0.31,0.452,0.6990000000000001,0.267,0.377,0.272,0.18100000000000002,0.348,0.581,0.6609999999999999,0.38,0.263,0.413,0.488,0.623,0.47600000000000003,0.31,0.452,0.7090000000000001,0.267,0.379,0.26899999999999996,0.18100000000000002,0.316,0.7020000000000001,0.5429999999999999,0.6579999999999999,0.574,0.366,0.747,0.7190000000000001,0.624,0.732,0.71,0.182,0.32,0.6709999999999999,0.449,0.83,0.175,0.496,0.8140000000000001,0.528,0.517,0.456,0.332,0.373,0.53,0.462,0.682,0.622,0.529,0.457,0.757,0.45399999999999996,0.0639,0.764,0.589,0.602,0.534,0.40399999999999997,0.7090000000000001,0.61,0.535,0.6890000000000001,0.703,0.691,0.469,0.789,0.504,0.151,0.34700000000000003,0.764,0.245,0.589,0.327,0.602,0.287,0.534,0.23600000000000002,0.40399999999999997,0.37799999999999995,0.7090000000000001,0.318,0.61,0.242,0.535,0.177,0.6890000000000001,0.34600000000000003,0.703,0.281,0.691,0.312,0.469,0.207,0.789,0.33899999999999997,0.504,0.158,0.151,0.298,0.605,0.688,0.44799999999999995,0.899,0.816,0.42700000000000005,0.6629999999999999,0.733,0.46399999999999997,0.445,0.754,0.6559999999999999,0.61,0.628,0.779,0.782,0.828,0.9490000000000001,0.309,0.621,0.784,0.634,0.718,0.626,0.763,0.56,0.841,0.5479999999999999,0.767,0.435,0.505,0.38299999999999995,0.48,0.843,0.6990000000000001,0.526,0.547,0.8079999999999999,0.8290000000000001,0.541,0.603,0.6920000000000001,0.348,0.9329999999999999,0.777,0.755,0.634,0.6779999999999999,0.7859999999999999,0.841,0.735,0.785,0.898,0.802,0.664,0.659,0.45899999999999996,0.763,0.38,0.634,0.6779999999999999,0.7859999999999999,0.841,0.735,0.785,0.898,0.802,0.664,0.659,0.45899999999999996,0.763,0.38,0.226,0.634,0.272,0.703,0.337,0.7909999999999999,0.24,0.841,0.223,0.725,0.278,0.8,0.266,0.893,0.312,0.794,0.247,0.688,0.368,0.6559999999999999,0.32299999999999995,0.435,0.29,0.755,0.28,0.377,0.68,0.708,0.845,0.93,0.731,0.835,0.94,0.8490000000000001,0.609,0.648,0.4,0.732,0.385,0.634,0.6779999999999999,0.7859999999999999,0.841,0.735,0.785,0.898,0.802,0.664,0.659,0.45899999999999996,0.763,0.38,0.825,0.8959999999999999,0.621,0.469,0.609,0.7290000000000001,0.48100000000000004,0.6759999999999999,0.748,0.44299999999999995,0.816,0.34,0.499,0.45799999999999996,0.777,0.526,0.364,0.825,0.266,0.8959999999999999,0.35700000000000004,0.621,0.35,0.469,0.36200000000000004,0.609,0.36700000000000005,0.7290000000000001,0.23199999999999998,0.48100000000000004,0.312,0.6759999999999999,0.281,0.748,0.371,0.44299999999999995,0.297,0.816,0.413,0.34,0.32899999999999996,0.499,0.306,0.45799999999999996,0.315,0.777,0.28600000000000003,0.526,0.8859999999999999,0.871,0.645,0.353,0.64,0.693,0.493,0.574,0.823,0.418,0.767,0.359,0.39899999999999997,0.47600000000000003,0.6679999999999999,0.537,0.8859999999999999,0.871,0.631,0.353,0.64,0.691,0.495,0.589,0.825,0.409,0.757,0.35600000000000004,0.4,0.469,0.652,0.526,0.7829999999999999,0.852,0.9079999999999999,0.915,0.355,0.516,0.887,0.6940000000000001,0.395,0.504,0.488,0.512,0.386,0.6629999999999999,0.818,0.728,0.757,0.787,0.67,0.599,0.47,0.7609999999999999,0.818,0.305,0.623,0.917,0.608,0.95,0.341,0.68,0.242,0.78,0.264,0.7909999999999999,0.185,0.67,0.21,0.62,0.196,0.466,0.16399999999999998,0.746,0.18,0.8079999999999999,0.182,0.301,0.25,0.624,0.317,0.9179999999999999,0.23199999999999998,0.595,0.28300000000000003,0.946,0.243,0.33299999999999996,0.272,0.6920000000000001,0.657,0.687,0.609,0.505,0.374,0.665,0.797,0.265,0.523,0.872,0.564,0.904,0.261,0.61,0.768,0.785,0.606,0.601,0.46799999999999997,0.747,0.855,0.308,0.618,0.917,0.604,0.9440000000000001,0.32899999999999996,0.682,0.705,0.636,0.637,0.555,0.349,0.765,0.479,0.85,0.456,0.723,0.826,0.447,0.768,0.7,0.547,0.762,0.7,0.8590000000000001,0.935,0.818,0.6990000000000001,0.634,0.637,0.5429999999999999,0.33399999999999996,0.774,0.47600000000000003,0.8540000000000001,0.46,0.7190000000000001,0.8109999999999999,0.44799999999999995,0.763,0.691,0.5539999999999999,0.758,0.8270000000000001,0.7120000000000001,0.6509999999999999,0.741,0.544,0.34,0.7829999999999999,0.48200000000000004,0.855,0.452,0.7,0.821,0.434,0.77,0.275,0.7090000000000001,0.17800000000000002,0.64,0.26,0.741,0.28,0.556,0.237,0.35700000000000004,0.263,0.745,0.20199999999999999,0.475,0.267,0.851,0.27,0.449,0.25,0.727,0.251,0.826,0.304,0.449,0.33399999999999996,0.757,0.657,0.643,0.735,0.57,0.35200000000000004,0.741,0.469,0.848,0.41700000000000004,0.7040000000000001,0.762,0.625,0.706,0.687,0.45399999999999996,0.16,0.475,0.531,0.816,0.7140000000000001,0.636,0.736,0.5529999999999999,0.34600000000000003,0.7709999999999999,0.486,0.852,0.45899999999999996,0.7120000000000001,0.8290000000000001,0.447,0.7559999999999999,0.444,0.266,0.7040000000000001,0.184,0.8009999999999999,0.872,0.8079999999999999,0.7120000000000001,0.703,0.627,0.738,0.5539999999999999,0.342,0.755,0.48,0.8390000000000001,0.45,0.705,0.828,0.445,0.753,0.491,0.877,0.41700000000000004,0.777,0.48200000000000004,0.805,0.578,0.629,0.777,0.627,0.672,0.934,0.39399999999999996,0.7509999999999999,0.753,0.491,0.877,0.41700000000000004,0.777,0.48200000000000004,0.805,0.578,0.629,0.777,0.627,0.672,0.934,0.39399999999999996,0.7509999999999999,0.753,0.278,0.499,0.28600000000000003,0.8640000000000001,0.299,0.44,0.278,0.77,0.28,0.49200000000000005,0.29,0.807,0.325,0.556,0.28600000000000003,0.631,0.28,0.758,0.303,0.612,0.27899999999999997,0.659,0.27,0.934,0.222,0.384,0.248,0.76,0.32,0.742,0.42700000000000005,0.742,0.369,0.66,0.469,0.7120000000000001,0.469,0.532,0.563,0.529,0.484,0.7959999999999999,0.27899999999999997,0.6579999999999999],\"yaxis\":\"y\",\"type\":\"scattergl\"},{\"customdata\":[[\"My Songs Know What You Did In The Dark (Light Em Up)\"],[\"The Phoenix\"],[\"Alone Together\"],[\"Young Volcanoes\"],[\"Centuries\"],[\"Immortals\"],[\"Uma Thurman\"],[\"Irresistible\"],[\"Champion\"],[\"The Last Of The Real Ones\"],[\"I've Been Waiting\"],[\"Dear Future Self (Hands Up)\"],[\"Bob Dylan\"],[\"My Songs Know What You Did In The Dark (Light Em Up)\"],[\"The Phoenix\"],[\"Alone Together\"],[\"Young Volcanoes\"],[\"Centuries\"],[\"Immortals\"],[\"Uma Thurman\"],[\"Irresistible\"],[\"Champion\"],[\"The Last Of The Real Ones\"],[\"I've Been Waiting\"],[\"Dear Future Self (Hands Up)\"],[\"Bob Dylan\"],[\"Stay Frosty Royal Milk Tea\"],[\"The Last Of The Real Ones\"],[\"HOLD ME TIGHT OR DON\\u2019T\"],[\"Wilson (Expensive Mistakes)\"],[\"Church\"],[\"Heaven\\u2019s Gate\"],[\"Champion\"],[\"Sunshine Riptide\"],[\"Young And Menace\"],[\"Bishops Knife Trick\"],[\"Stay Frosty Royal Milk Tea\"],[\"The Last Of The Real Ones\"],[\"HOLD ME TIGHT OR DON\\u2019T\"],[\"Wilson (Expensive Mistakes)\"],[\"Church\"],[\"Heaven\\u2019s Gate\"],[\"Champion\"],[\"Sunshine Riptide\"],[\"Young And Menace\"],[\"Bishops Knife Trick\"],[\"Irresistible - Remix\"],[\"American Beauty/American Psycho - Remix\"],[\"Centuries - Remix\"],[\"The Kids Aren't Alright - Remix\"],[\"Uma Thurman - Remix\"],[\"Jet Pack Blues - Remix\"],[\"Novocaine - Remix\"],[\"Fourth Of July - Remix\"],[\"Favorite Record - Remix\"],[\"Immortals - Remix\"],[\"Twin Skeleton's (Hotel In NYC) - Remix\"],[\"Uma Thurman - Fall Out Boy vs. Didrick\"],[\"Irresistible - Revised Audio\"],[\"Irresistible - Remix\"],[\"American Beauty/American Psycho - Remix\"],[\"Centuries - Remix\"],[\"The Kids Aren't Alright - Remix\"],[\"Uma Thurman - Remix\"],[\"Jet Pack Blues - Remix\"],[\"Novocaine - Remix\"],[\"Fourth Of July - Remix\"],[\"Favorite Record - Remix\"],[\"Immortals - Remix\"],[\"Twin Skeleton's (Hotel In NYC) - Remix\"],[\"Irresistible - Remix\"],[\"American Beauty/American Psycho - Remix\"],[\"Centuries - Remix\"],[\"The Kids Aren't Alright - Remix\"],[\"Uma Thurman - Remix\"],[\"Jet Pack Blues - Remix\"],[\"Novocaine - Remix\"],[\"Fourth Of July - Remix\"],[\"Favorite Record - Remix\"],[\"Immortals - Remix\"],[\"Twin Skeleton's (Hotel In NYC) - Remix\"],[\"Irresistible\"],[\"American Beauty/American Psycho\"],[\"Centuries\"],[\"The Kids Aren't Alright\"],[\"Uma Thurman\"],[\"Jet Pack Blues\"],[\"Novocaine\"],[\"Fourth Of July\"],[\"Favorite Record\"],[\"Immortals\"],[\"Twin Skeleton's (Hotel In NYC)\"],[\"The Phoenix\"],[\"My Songs Know What You Did In The Dark (Light Em Up)\"],[\"Alone Together\"],[\"Where Did The Party Go\"],[\"Just One Yesterday\"],[\"The Mighty Fall\"],[\"Miss Missing You\"],[\"Death Valley\"],[\"Young Volcanoes\"],[\"Rat A Tat\"],[\"Save Rock And Roll\"],[\"My Songs Know What You Did In The Dark (Light Em Up) - 2 Chainz Remix\"],[\"The Phoenix\"],[\"My Songs Know What You Did In The Dark (Light Em Up)\"],[\"Alone Together\"],[\"Where Did The Party Go\"],[\"Just One Yesterday\"],[\"The Mighty Fall\"],[\"Miss Missing You\"],[\"Death Valley\"],[\"Young Volcanoes\"],[\"Rat A Tat\"],[\"Save Rock And Roll\"],[\"The Phoenix\"],[\"My Songs Know What You Did In The Dark (Light Em Up)\"],[\"Alone Together\"],[\"Where Did The Party Go\"],[\"Just One Yesterday\"],[\"The Mighty Fall\"],[\"Miss Missing You\"],[\"Death Valley\"],[\"Young Volcanoes\"],[\"Rat A Tat\"],[\"Save Rock And Roll\"],[\"Thriller - Live In Tokyo / 2013\"],[\"This Ain't A Scene, It's An Arms Race - Live In Tokyo / 2013\"],[\"Grand Theft Autumn / Where Is Your Boy - Live In Tokyo / 2013\"],[\"Dance, Dance - Live In Tokyo / 2013\"],[\"I Don't Care - Live In Tokyo / 2013\"],[\"My Songs Know What You Did In The Dark (Light Em Up) - Live In Tokyo / 2013\"],[\"Beat It - Live In Tokyo / 2013\"],[\"The Phoenix - Commentary\"],[\"My Songs Know What You Did In The Dark (Light Em Up) - Commentary\"],[\"Alone Together - Commentary\"],[\"Where Did The Party Go - Commentary\"],[\"Just One Yesterday - Commentary\"],[\"The Mighty Fall - Commentary\"],[\"Miss Missing You - Commentary\"],[\"Death Valley - Commentary\"],[\"Young Volcanoes - Commentary\"],[\"Rat A Tat - Commentary\"],[\"Save Rock And Roll - Commentary\"],[\"Thriller - Live At The Cricket Pavillion /2007\"],[\"Grand Theft Autumn / Where Is Your Boy - Live At The Cricket Pavillion /2007\"],[\"Sugar, We're Goin Down - Live At The Cricket Pavillion /2007\"],[\"Our Lawyer Made Us Change The Name Of This Song So We Wouldn't Get Sued - Live At The Cricket Pavillion /2007\"],[\"Hum Hallelujah - Live At The Cricket Pavillion /2007\"],[\"Tell That Mick He Just Made My List Of Things To Do Today - Live At The Cricket Pavillion /2007\"],[\"I'm Like A Lawyer With The Way I'm Always Trying To Get You Off (Me & You) - Live At The Cricket Pavillion /2007\"],[\"A Little Less Sixteen Candles, A Little More \\\"Touch Me\\\" - Live At The Cricket Pavillion /2007\"],[\"Beat It - Live At The Cricket Pavillion /2007\"],[\"Golden - Live At The Cricket Pavillion /2007\"],[\"This Ain't A Scene, It's An Arms Race - Live At The Cricket Pavillion /2007\"],[\"Thnks fr th Mmrs - Live At The Cricket Pavillion /2007\"],[\"\\\"The Take Over, The Breaks Over\\\" - Live At The Cricket Pavillion /2007\"],[\"Dance, Dance - Live At The Cricket Pavillion /2007\"],[\"Saturday - Live At The Cricket Pavillion /2007\"],[\"Beat It - Studio Version\"],[\"Thriller\"],[\"Grand Theft Autumn / Where Is Your Boy\"],[\"Sugar, We're Goin Down\"],[\"Our Lawyer Made Us Change The Name Of This Song So We Wouldn't Get Sued\"],[\"Hum Hallelujah\"],[\"Tell That Mick He Just Made My List Of Things To Do Today\"],[\"I'm Like A Lawyer With The Way I'm Always Trying To Get You Off (Me & You)\"],[\"A Little Less Sixteen Candles, A Little More \\\"Touch Me\\\"\"],[\"Beat It - Studio Version Featuring John Mayer\"],[\"Golden\"],[\"This Ain't A Scene, It's An Arms Race\"],[\"Thnks fr th Mmrs\"],[\"\\\"The Take Over, The Breaks Over\\\"\"],[\"Dance, Dance\"],[\"Saturday\"],[\"Thriller - Live At The Cricket Pavillion /2007\"],[\"Grand Theft Autumn / Where Is Your Boy - Live At The Cricket Pavillion /2007\"],[\"Sugar, We're Goin Down - Live At The Cricket Pavillion /2007\"],[\"Our Lawyer Made Us Change The Name Of This Song So We Wouldn't Get Sued - Live At The Cricket Pavillion /2007\"],[\"Hum Hallelujah - Live At The Cricket Pavillion /2007\"],[\"Tell That Mick He Just Made My List Of Things To Do Today - Live At The Cricket Pavillion /2007\"],[\"I'm Like A Lawyer With The Way I'm Always Trying To Get You Off (Me & You) - Live At The Cricket Pavillion /2007\"],[\"A Little Less Sixteen Candles, A Little More \\\"Touch Me\\\" - Live At The Cricket Pavillion /2007\"],[\"Beat It - Live At The Cricket Pavillion /2007\"],[\"Golden - Live At The Cricket Pavillion /2007\"],[\"This Ain't A Scene, It's An Arms Race - Live At The Cricket Pavillion /2007\"],[\"Thnks fr th Mmrs - Live At The Cricket Pavillion /2007\"],[\"\\\"The Take Over, The Breaks Over\\\" - Live At The Cricket Pavillion /2007\"],[\"Dance, Dance - Live At The Cricket Pavillion /2007\"],[\"Saturday - Live At The Cricket Pavillion /2007\"],[\"Disloyal Order Of Water Buffaloes\"],[\"I Don't Care\"],[\"She's My Winona\"],[\"America's Suitehearts\"],[\"Headfirst Slide Into Cooperstown On A Bad Bet\"],[\"The (Shipped) Gold Standard\"],[\"(Coffee's For Closers)\"],[\"What A Catch, Donnie\"],[\"27\"],[\"Tiffany Blews\"],[\"w.a.m.s.\"],[\"20 Dollar Nose Bleed\"],[\"West Coast Smoker\"],[\"Beat It - Studio Version\"],[\"Disloyal Order Of Water Buffaloes\"],[\"I Don't Care - Single Version\"],[\"She's My Winona\"],[\"America's Suitehearts\"],[\"Headfirst Slide Into Cooperstown On A Bad Bet\"],[\"The (Shipped) Gold Standard\"],[\"(Coffee's For Closers)\"],[\"What A Catch, Donnie\"],[\"27\"],[\"Tiffany Blews\"],[\"w.a.m.s.\"],[\"20 Dollar Nose Bleed\"],[\"West Coast Smoker\"],[\"Disloyal Order Of Water Buffaloes\"],[\"I Don't Care\"],[\"She's My Winona\"],[\"America's Suitehearts\"],[\"Headfirst Slide Into Cooperstown On A Bad Bet\"],[\"The (Shipped) Gold Standard\"],[\"(Coffee's For Closers)\"],[\"What A Catch, Donnie\"],[\"27\"],[\"Tiffany Blews\"],[\"w.a.m.s.\"],[\"20 Dollar Nose Bleed\"],[\"West Coast Smoker\"],[\"Disloyal Order Of Water Buffaloes\"],[\"I Don't Care\"],[\"She's My Winona\"],[\"America's Suitehearts\"],[\"Headfirst Slide Into Cooperstown On A Bad Bet\"],[\"The (Shipped) Gold Standard\"],[\"(Coffee's For Closers)\"],[\"What A Catch, Donnie\"],[\"27\"],[\"Tiffany Blews\"],[\"w.a.m.s.\"],[\"20 Dollar Nose Bleed\"],[\"West Coast Smoker\"],[\"Thriller\"],[\"\\\"The Take Over, The Breaks Over\\\"\"],[\"This Ain't A Scene, It's An Arms Race\"],[\"I'm Like A Lawyer With The Way I'm Always Trying To Get You Off (Me & You)\"],[\"Hum Hallelujah\"],[\"Golden\"],[\"Thnks fr th Mmrs\"],[\"Don't You Know Who I Think I Am?\"],[\"The (After) Life Of The Party\"],[\"The Carpal Tunnel Of Love\"],[\"Bang The Doldrums\"],[\"Fame < Infamy\"],[\"You're Crashing, But You're No Wave\"],[\"I've Got All This Ringing In My Ears And None On My Fingers\"],[\"Thriller\"],[\"\\\"The Take Over, The Breaks Over\\\"\"],[\"This Ain't A Scene, It's An Arms Race\"],[\"I'm Like A Lawyer With The Way I'm Always Trying To Get You Off (Me & You)\"],[\"Hum Hallelujah\"],[\"Golden\"],[\"Thnks fr th Mmrs\"],[\"Don't You Know Who I Think I Am?\"],[\"The (After) Life Of The Party\"],[\"The Carpal Tunnel Of Love\"],[\"Bang The Doldrums\"],[\"Fame < Infamy\"],[\"You're Crashing, But You're No Wave\"],[\"I've Got All This Ringing In My Ears And None On My Fingers\"],[\"G.I.N.A.S.F.S.\"],[\"It's Hard To Say \\\"I Do\\\", When I Don't\"],[\"Dance, Dance - Live From Hammersmith Palais\"],[\"This Ain't A Scene, It's An Arms Race - Live From Hammersmith Palais\"],[\"Thriller - Live From Hammersmith Palais\"],[\"Our Lawyer Made Us Change The Name Of This Song So We Wouldn't Get Sued\"],[\"Of All The Gin Joints In All The World\"],[\"Dance, Dance\"],[\"Sugar, We're Goin Down\"],[\"Nobody Puts Baby In The Corner\"],[\"I've Got A Dark Alley And A Bad Idea That Says You Should Shut Your Mouth (Summer Song)\"],[\"7 Minutes In Heaven (Atavan Halen)\"],[\"Sophomore Slump Or Comeback Of The Year\"],[\"Champagne For My Real Friends, Real Pain For My Sham Friends\"],[\"I Slept With Someone In Fall Out Boy And All I Got Was This Stupid Song Written About Me\"],[\"A Little Less Sixteen Candles, A Little More \\\"Touch Me\\\"\"],[\"Get Busy Living Or Get Busy Dying (Do Your Part To Save The Scene And Stop Going To Shows)\"],[\"XO\"],[\"Snitches And Talkers Get Stitches And Walkers\"],[\"The Music Or The Misery\"],[\"My Heart Is The Worst Kind Of Weapon - Demo\"],[\"Sugar, We're Goin Down - Patrick Stump Remix\"],[\"Dance, Dance - The Lindbergh Palace Remix\"],[\"Our Lawyer Made Us Change The Name Of This Song So We Wouldn't Get Sued\"],[\"Of All The Gin Joints In All The World\"],[\"Dance, Dance\"],[\"Sugar, We're Goin Down\"],[\"Nobody Puts Baby In The Corner\"],[\"I've Got A Dark Alley And A Bad Idea That Says You Should Shut Your Mouth (Summer Song)\"],[\"7 Minutes In Heaven (Atavan Halen)\"],[\"Sophomore Slump Or Comeback Of The Year\"],[\"Champagne For My Real Friends, Real Pain For My Sham Friends\"],[\"I Slept With Someone In Fall Out Boy And All I Got Was This Stupid Song Written About Me\"],[\"A Little Less Sixteen Candles, A Little More \\\"Touch Me\\\"\"],[\"Get Busy Living Or Get Busy Dying (Do Your Part To Save The Scene And Stop Going To Shows)\"],[\"XO\"],[\"Tell That Mick He Just Made My List of Things to Do Today\"],[\"Dead on Arrival\"],[\"Grand Theft Autumn / Where Is Your Boy\"],[\"Saturday\"],[\"Homesick at Space Camp\"],[\"Sending Postcards from a Plane Crash (Wish You Were Here)\"],[\"Chicago Is so Two Years Ago\"],[\"The Pros and Cons of Breathing\"],[\"Grenade Jumper\"],[\"Calm Before the Storm\"],[\"Reinventing the Wheel to Run Myself Over\"],[\"The Patron Saint of Liars and Fakes\"]],\"hovertemplate\":\"Artist(s)=Fall Out Boy<br>Positiveness (valence)=%{x}<br>Energy=%{y}<br>Song Title=%{customdata[0]}<extra></extra>\",\"legendgroup\":\"Fall Out Boy\",\"marker\":{\"color\":\"#EF553B\",\"symbol\":\"circle\"},\"mode\":\"markers\",\"name\":\"Fall Out Boy\",\"showlegend\":true,\"x\":[0.56,0.39,0.662,0.6729999999999999,0.523,0.478,0.841,0.397,0.294,0.583,0.9420000000000001,0.9490000000000001,0.522,0.56,0.39,0.662,0.6729999999999999,0.523,0.478,0.841,0.397,0.294,0.583,0.9259999999999999,0.961,0.57,0.649,0.557,0.7879999999999999,0.66,0.401,0.214,0.309,0.804,0.272,0.38299999999999995,0.629,0.5589999999999999,0.7929999999999999,0.617,0.38299999999999995,0.221,0.297,0.752,0.278,0.384,0.502,0.647,0.613,0.513,0.32899999999999996,0.348,0.337,0.327,0.43200000000000005,0.48100000000000004,0.677,0.715,0.377,0.502,0.647,0.613,0.513,0.32899999999999996,0.348,0.337,0.327,0.43200000000000005,0.48100000000000004,0.677,0.551,0.6659999999999999,0.614,0.508,0.321,0.345,0.335,0.32299999999999995,0.44,0.489,0.662,0.444,0.635,0.56,0.33299999999999996,0.6759999999999999,0.365,0.48100000000000004,0.516,0.684,0.475,0.192,0.41,0.5670000000000001,0.606,0.677,0.5870000000000001,0.539,0.271,0.5760000000000001,0.6759999999999999,0.5589999999999999,0.45399999999999996,0.564,0.41,0.5670000000000001,0.606,0.677,0.5870000000000001,0.539,0.271,0.5760000000000001,0.6759999999999999,0.5589999999999999,0.449,0.41,0.5670000000000001,0.606,0.677,0.5870000000000001,0.539,0.271,0.5760000000000001,0.6759999999999999,0.5589999999999999,0.449,0.182,0.24,0.198,0.11800000000000001,0.256,0.38,0.46799999999999997,0.605,0.5379999999999999,0.62,0.767,0.682,0.599,0.511,0.45399999999999996,0.732,0.54,0.44,0.0609,0.249,0.46299999999999997,0.348,0.513,0.235,0.391,0.617,0.82,0.193,0.354,0.315,0.716,0.445,0.348,0.807,0.062,0.225,0.434,0.369,0.49700000000000005,0.233,0.384,0.6990000000000001,0.8240000000000001,0.175,0.379,0.33,0.732,0.446,0.32799999999999996,0.062,0.223,0.434,0.369,0.49700000000000005,0.225,0.384,0.659,0.7809999999999999,0.192,0.38299999999999995,0.33,0.732,0.446,0.32799999999999996,0.363,0.43700000000000006,0.632,0.593,0.535,0.774,0.34600000000000003,0.46799999999999997,0.794,0.705,0.413,0.867,0.485,0.84,0.361,0.433,0.613,0.645,0.541,0.76,0.34299999999999997,0.45899999999999996,0.8109999999999999,0.684,0.37,0.867,0.509,0.366,0.38,0.613,0.599,0.547,0.7659999999999999,0.337,0.46799999999999997,0.789,0.6940000000000001,0.436,0.852,0.493,0.361,0.433,0.613,0.645,0.541,0.76,0.34299999999999997,0.45899999999999996,0.8109999999999999,0.684,0.37,0.867,0.509,0.327,0.67,0.408,0.498,0.657,0.163,0.588,0.863,0.45799999999999996,0.599,0.69,0.647,0.534,0.4,0.327,0.67,0.408,0.498,0.657,0.163,0.588,0.863,0.45799999999999996,0.599,0.69,0.647,0.534,0.4,0.727,0.594,0.46399999999999997,0.33299999999999996,0.175,0.5579999999999999,0.71,0.517,0.598,0.674,0.455,0.688,0.5670000000000001,0.564,0.637,0.7040000000000001,0.431,0.374,0.424,0.466,0.5529999999999999,0.7509999999999999,0.9279999999999999,0.575,0.7090000000000001,0.449,0.574,0.6509999999999999,0.523,0.6829999999999999,0.557,0.511,0.644,0.696,0.485,0.423,0.418,0.494,0.72,0.624,0.379,0.597,0.539,0.753,0.669,0.501,0.6890000000000001,0.201],\"xaxis\":\"x\",\"y\":[0.924,0.956,0.91,0.856,0.8640000000000001,0.8740000000000001,0.941,0.938,0.912,0.871,0.85,0.925,0.915,0.924,0.956,0.91,0.856,0.8640000000000001,0.8740000000000001,0.941,0.938,0.912,0.871,0.852,0.924,0.9109999999999999,0.8690000000000001,0.872,0.925,0.805,0.9009999999999999,0.586,0.905,0.731,0.8320000000000001,0.755,0.8859999999999999,0.872,0.925,0.804,0.902,0.588,0.909,0.737,0.833,0.758,0.84,0.8290000000000001,0.8390000000000001,0.7979999999999999,0.8640000000000001,0.691,0.853,0.852,0.8320000000000001,0.777,0.879,0.915,0.893,0.84,0.8290000000000001,0.8390000000000001,0.7979999999999999,0.8640000000000001,0.691,0.853,0.852,0.8320000000000001,0.777,0.879,0.8240000000000001,0.8220000000000001,0.8390000000000001,0.797,0.8640000000000001,0.691,0.8390000000000001,0.856,0.833,0.774,0.884,0.938,0.932,0.858,0.763,0.9620000000000001,0.889,0.9740000000000001,0.9740000000000001,0.9440000000000001,0.868,0.9390000000000001,0.9640000000000001,0.924,0.915,0.8909999999999999,0.907,0.95,0.851,0.9259999999999999,0.853,0.853,0.777,0.883,0.9640000000000001,0.924,0.915,0.8909999999999999,0.907,0.95,0.851,0.9259999999999999,0.853,0.853,0.777,0.9640000000000001,0.924,0.915,0.8909999999999999,0.907,0.95,0.851,0.9259999999999999,0.853,0.853,0.777,0.684,0.818,0.836,0.7909999999999999,0.825,0.853,0.764,0.27899999999999997,0.39299999999999996,0.332,0.275,0.23,0.354,0.442,0.311,0.302,0.316,0.27699999999999997,0.985,0.9840000000000001,0.895,0.9840000000000001,0.9570000000000001,0.987,0.835,0.956,0.877,0.39799999999999996,0.9570000000000001,0.9329999999999999,0.904,0.9840000000000001,0.981,0.93,0.9840000000000001,0.98,0.907,0.976,0.961,0.987,0.8390000000000001,0.9440000000000001,0.9390000000000001,0.382,0.955,0.925,0.899,0.987,0.983,0.9840000000000001,0.981,0.907,0.976,0.961,0.988,0.8390000000000001,0.95,0.878,0.38299999999999995,0.955,0.925,0.899,0.987,0.983,0.909,0.9390000000000001,0.965,0.9279999999999999,0.772,0.755,0.953,0.696,0.941,0.883,0.8440000000000001,0.852,0.8109999999999999,0.9440000000000001,0.9059999999999999,0.938,0.963,0.9309999999999999,0.768,0.75,0.946,0.69,0.9359999999999999,0.8859999999999999,0.846,0.871,0.813,0.91,0.935,0.9620000000000001,0.925,0.764,0.752,0.9520000000000001,0.695,0.935,0.888,0.8440000000000001,0.868,0.8,0.9059999999999999,0.938,0.963,0.9309999999999999,0.768,0.75,0.946,0.69,0.9359999999999999,0.8859999999999999,0.846,0.871,0.813,0.9009999999999999,0.917,0.887,0.8,0.9570000000000001,0.41100000000000003,0.8909999999999999,0.9490000000000001,0.9109999999999999,0.941,0.9490000000000001,0.9690000000000001,0.9490000000000001,0.922,0.9009999999999999,0.917,0.887,0.8,0.9570000000000001,0.41100000000000003,0.8909999999999999,0.9490000000000001,0.9109999999999999,0.941,0.9490000000000001,0.9690000000000001,0.9490000000000001,0.922,0.961,0.9490000000000001,0.922,0.904,0.9670000000000001,0.9359999999999999,0.94,0.9570000000000001,0.825,0.9309999999999999,0.943,0.982,0.899,0.958,0.9570000000000001,0.883,0.82,0.96,0.993,0.985,0.6970000000000001,0.878,0.757,0.9390000000000001,0.93,0.961,0.8420000000000001,0.94,0.9329999999999999,0.981,0.907,0.9640000000000001,0.956,0.889,0.8340000000000001,0.963,0.963,0.968,0.8859999999999999,0.929,0.899,0.966,0.946,0.958,0.9670000000000001,0.9179999999999999,0.941,0.978],\"yaxis\":\"y\",\"type\":\"scattergl\"},{\"customdata\":[[\"Situations\"],[\"In The Mood\"],[\"West Coast Getaway\"],[\"Slow Jam Hour - Interlude\"],[\"Come Thru\"],[\"Birthday Suit\"],[\"Once Upon A Time\"],[\"You Could Be - Interlude\"],[\"Hypnotized\"],[\"Reassurance\"],[\"Other Half\"],[\"Miles In Between\"],[\"Situations\"],[\"In the Mood\"],[\"West Coast Getaway (Feat. The Cool Kids)\"],[\"Slow Jam Hour (Interlude)\"],[\"Come Thru (Feat. Asher Roth)\"],[\"Birthday Suit\"],[\"Once Upon a Time\"],[\"You Could Be (Interlude)\"],[\"Hypnotized (Feat. Blu)\"],[\"Reassurance\"],[\"Other Half\"],[\"Miles In Between (Feat. Joyce Wrice)\"],[\"Situations\"],[\"In the Mood\"],[\"West Coast Getaway (feat. the Cool Kids)\"],[\"Slow Jam Hour (Interlude)\"],[\"Come Thru (feat. Asher Roth)\"],[\"Birthday Suit\"],[\"Once Upon a Time\"],[\"You Could Be (Interlude)\"],[\"Hypnotized (feat. Blu)\"],[\"Reassurance\"],[\"Other Half\"],[\"Miles in Between (feat. Joyce Wrice)\"],[\"For You (Intro)\"],[\"This And That\"],[\"What` Cha Need\"],[\"Lapdance\"],[\"No Time For Sleep (Interlude)\"],[\"Love Affair\"],[\"Back Seat\"],[\"If I Could\"],[\"Queen\"],[\"Think Of The Time\"],[\"I Remember When\"],[\"Intro\"],[\"First Class\"],[\"Workflow (feat. Dumbfoundead)\"],[\"Higher\"],[\"Heaven Sent\"],[\"Pillow Talk\"],[\"Boogie Down\"],[\"Lavish\"],[\"Mind vs Heart\"],[\"Dream Team\"],[\"Plenty of Reasons\"],[\"Various Places\"],[\"Intro\"],[\"First Class\"],[\"Workflow (Feat. Dumbfoundead)\"],[\"Higher\"],[\"Heaven Sent\"],[\"Pillow Talk\"],[\"Boogie Down\"],[\"Lavish\"],[\"Mind VS Heart\"],[\"Dream Team\"],[\"Plenty Of Reasons\"],[\"Various Places\"],[\"Bonjour (Intro)\"],[\"Cool Girls\"],[\"Just Vibe\"],[\"Doesn`t Matter\"],[\"My Dear\"],[\"Ms. Seductive\"],[\"Girl At The Coffee Shop\"],[\"If You Wonder\"],[\"Call You Mine (Feat. Geologic Of The Blue Scholars)\"],[\"Groovin`\"],[\"Moonlight Chemistry\"],[\"With Love (Feat. Mosaek)\"],[\"Bonjour (Intro)\"],[\"Cool Girls\"],[\"Just Vibe\"],[\"Doesn't Matter\"],[\"My Dear\"],[\"Ms. Seductive\"],[\"Girl At The Coffee Shop\"],[\"If You Wonder\"],[\"Call You Mine (feat. Geologic Of The Blue Scholars)\"],[\"Groovin'\"],[\"Moonlight Chemistry\"],[\"With Love (feat. Mosaek)\"]],\"hovertemplate\":\"Artist(s)=Jeff Bernat<br>Positiveness (valence)=%{x}<br>Energy=%{y}<br>Song Title=%{customdata[0]}<extra></extra>\",\"legendgroup\":\"Jeff Bernat\",\"marker\":{\"color\":\"#00cc96\",\"symbol\":\"circle\"},\"mode\":\"markers\",\"name\":\"Jeff Bernat\",\"showlegend\":true,\"x\":[0.379,0.408,0.8340000000000001,0.653,0.342,0.8079999999999999,0.614,0.828,0.863,0.573,0.39399999999999996,0.272,0.38299999999999995,0.385,0.8140000000000001,0.6579999999999999,0.32899999999999996,0.78,0.595,0.8170000000000001,0.8420000000000001,0.546,0.36200000000000004,0.26,0.39899999999999997,0.385,0.8140000000000001,0.6579999999999999,0.32899999999999996,0.78,0.594,0.821,0.8440000000000001,0.545,0.366,0.255,0.406,0.915,0.535,0.24,0.345,0.35,0.433,0.531,0.735,0.311,0.6729999999999999,0.29,0.693,0.79,0.441,0.237,0.6859999999999999,0.65,0.789,0.5329999999999999,0.44,0.9129999999999999,0.665,0.28600000000000003,0.6940000000000001,0.7659999999999999,0.466,0.262,0.672,0.64,0.784,0.5379999999999999,0.43799999999999994,0.909,0.652,0.8190000000000001,0.82,0.8059999999999999,0.507,0.35200000000000004,0.35,0.49700000000000005,0.638,0.622,0.905,0.22899999999999998,0.585,0.888,0.809,0.8029999999999999,0.52,0.33299999999999996,0.331,0.515,0.634,0.632,0.8959999999999999,0.223,0.556],\"xaxis\":\"x\",\"y\":[0.488,0.49200000000000005,0.556,0.42100000000000004,0.24600000000000002,0.369,0.295,0.48,0.348,0.457,0.424,0.27,0.47700000000000004,0.498,0.5589999999999999,0.401,0.239,0.36200000000000004,0.302,0.475,0.355,0.47,0.418,0.275,0.478,0.498,0.5589999999999999,0.401,0.239,0.36200000000000004,0.302,0.475,0.355,0.47,0.42100000000000004,0.275,0.5670000000000001,0.298,0.524,0.419,0.33,0.441,0.5539999999999999,0.478,0.381,0.46299999999999997,0.447,0.473,0.59,0.436,0.498,0.27899999999999997,0.58,0.413,0.40399999999999997,0.424,0.379,0.6559999999999999,0.34,0.46799999999999997,0.57,0.434,0.499,0.273,0.5760000000000001,0.41700000000000004,0.425,0.428,0.373,0.6409999999999999,0.33899999999999997,0.452,0.603,0.40399999999999997,0.518,0.32299999999999995,0.35600000000000004,0.677,0.516,0.574,0.49700000000000005,0.6409999999999999,0.457,0.451,0.604,0.41,0.526,0.335,0.35,0.679,0.521,0.5710000000000001,0.498,0.634,0.452],\"yaxis\":\"y\",\"type\":\"scattergl\"},{\"customdata\":[[\"Sinners Prayer\"],[\"Walking Again\"],[\"Floating\"],[\"Right Now\"],[\"Euphoria\"],[\"Sapiosexual\"],[\"Friend Zone\"],[\"Blitz\"],[\"Nightmares (feat. Lil Durk)\"],[\"Psalm 51\"],[\"Don\\u2019t Tell\"],[\"Calls\"],[\"Poetic Pain\"],[\"Love Cycle (with Summer Walker)\"],[\"No Lies\"],[\"Telly Telly\"],[\"Witchcraft\"],[\"Sinners Prayer\"],[\"Walking Again\"],[\"Floating\"],[\"Right Now\"],[\"Euphoria\"],[\"Sapiosexual\"],[\"Friend Zone\"],[\"Blitz\"],[\"Nightmares\"],[\"Psalm 51\"],[\"Don't Tell\"],[\"Calls\"],[\"Poetic Pain\"],[\"Love Cycle\"],[\"No Lies\"],[\"Telly Telly\"],[\"Witchcraft\"],[\"Why You Think\"],[\"Sky Red\"],[\"Truth Be Told\"],[\"Red Lights\"],[\"Back From The Dead\"],[\"Pain Killers\"],[\"Mercedez\"],[\"Love Cycle\"],[\"Patek Water\"],[\"Down To Ride\"],[\"Choir Music\"],[\"Not Easy\"],[\"Other Side\"],[\"Why You Think\"],[\"Sky Red\"],[\"Truth Be Told\"],[\"Red Lights\"],[\"Back From The Dead\"],[\"Pain Killers\"],[\"Mercedez\"],[\"Love Cycle\"],[\"Patek Water\"],[\"Down To Ride\"],[\"Choir Music\"],[\"Not Easy\"],[\"Other Side\"],[\"Who Dat\"],[\"Turmoil\"],[\"Leah\"],[\"4ourty\"],[\"Leah, Pt. 2\"],[\"Pesos\"],[\"Wicked Feelings\"],[\"Opps\"],[\"Life Of Crime\"],[\"Russian Roulette\"],[\"Who Dat\"],[\"Turmoil\"],[\"Leah\"],[\"4ourty\"],[\"Leah, Pt. 2\"],[\"Pesos\"],[\"Wicked Feelings\"],[\"Opps\"],[\"Life of Crime\"],[\"Russian Roulette\"],[\"For the Family\"],[\"On My Ass\"],[\"My City\"],[\"Pain\"],[\"Made For\"],[\"On Me\"],[\"Paparazzi\"]],\"hovertemplate\":\"Artist(s)=Toosii<br>Positiveness (valence)=%{x}<br>Energy=%{y}<br>Song Title=%{customdata[0]}<extra></extra>\",\"legendgroup\":\"Toosii\",\"marker\":{\"color\":\"#ab63fa\",\"symbol\":\"circle\"},\"mode\":\"markers\",\"name\":\"Toosii\",\"showlegend\":true,\"x\":[0.298,0.45799999999999996,0.596,0.353,0.36,0.377,0.322,0.5489999999999999,0.506,0.528,0.391,0.47,0.33399999999999996,0.429,0.47200000000000003,0.273,0.5,0.253,0.48200000000000004,0.578,0.317,0.35700000000000004,0.382,0.336,0.49700000000000005,0.501,0.5429999999999999,0.32799999999999996,0.473,0.242,0.424,0.488,0.254,0.54,0.27399999999999997,0.536,0.425,0.447,0.264,0.209,0.375,0.498,0.282,0.276,0.5,0.248,0.21600000000000003,0.271,0.455,0.39399999999999996,0.505,0.292,0.16,0.364,0.436,0.298,0.256,0.47,0.42700000000000005,0.212,0.631,0.36,0.21600000000000003,0.445,0.358,0.431,0.14800000000000002,0.402,0.132,0.643,0.7170000000000001,0.369,0.203,0.447,0.37799999999999995,0.45899999999999996,0.136,0.40399999999999997,0.13,0.5720000000000001,0.264,0.414,0.45899999999999996,0.491,0.212,0.354,0.46],\"xaxis\":\"x\",\"y\":[0.34299999999999997,0.42,0.424,0.441,0.58,0.429,0.474,0.605,0.519,0.7240000000000001,0.585,0.39899999999999997,0.632,0.451,0.513,0.35600000000000004,0.562,0.354,0.415,0.426,0.44299999999999995,0.602,0.441,0.49200000000000005,0.634,0.518,0.723,0.609,0.39299999999999996,0.622,0.457,0.535,0.355,0.5720000000000001,0.6,0.429,0.45,0.693,0.426,0.6709999999999999,0.6609999999999999,0.37799999999999995,0.562,0.495,0.456,0.53,0.419,0.588,0.435,0.426,0.647,0.434,0.691,0.71,0.32899999999999996,0.561,0.493,0.457,0.519,0.429,0.607,0.563,0.669,0.461,0.58,0.563,0.563,0.607,0.562,0.72,0.596,0.565,0.6729999999999999,0.46299999999999997,0.586,0.565,0.5770000000000001,0.615,0.563,0.616,0.5660000000000001,0.579,0.636,0.57,0.564,0.512,0.578],\"yaxis\":\"y\",\"type\":\"scattergl\"},{\"customdata\":[[\"Geyser\"],[\"Why Didn't You Stop Me?\"],[\"Old Friend\"],[\"A Pearl\"],[\"Lonesome Love\"],[\"Remember My Name\"],[\"Me and My Husband\"],[\"Come into the Water\"],[\"Nobody\"],[\"Pink in the Night\"],[\"A Horse Named Cold Air\"],[\"Washing Machine Heart\"],[\"Blue Light\"],[\"Two Slow Dancers\"],[\"Happy\"],[\"Dan the Dancer\"],[\"Once More to See You\"],[\"Fireworks\"],[\"Your Best American Girl\"],[\"I Bet on Losing Dogs\"],[\"My Body's Made of Crushed Little Stars\"],[\"Thursday Girl\"],[\"A Loving Feeling\"],[\"Crack Baby\"],[\"A Burning Hill\"],[\"Texas Reznikoff\"],[\"Townie\"],[\"First Love / Late Spring\"],[\"Francis Forever\"],[\"I Don't Smoke\"],[\"Jobless Monday\"],[\"Drunk Walk Home\"],[\"I Will\"],[\"Carry Me Out\"],[\"Last Words of a Shooting Star\"],[\"Goodbye, My Danish Sweetheart\"],[\"Shame\"],[\"Because Dreaming Costs Money, My Dear\"],[\"Humpty\"],[\"Circle\"],[\"I Want You\"],[\"Square\"],[\"Strawberry Blond\"],[\"Class of 2013\"],[\"Square (Solo Piano Version)\"],[\"Shame (Jammin' Out Solo Version)\"],[\"Liquid Smooth\"],[\"Eric\"],[\"Brand New City\"],[\"Real Men\"],[\"Wife\"],[\"Abbey\"],[\"Bag of Bones\"],[\"Door\"],[\"Pearl Diver\"]],\"hovertemplate\":\"Artist(s)=Mitski<br>Positiveness (valence)=%{x}<br>Energy=%{y}<br>Song Title=%{customdata[0]}<extra></extra>\",\"legendgroup\":\"Mitski\",\"marker\":{\"color\":\"#FFA15A\",\"symbol\":\"circle\"},\"mode\":\"markers\",\"name\":\"Mitski\",\"showlegend\":true,\"x\":[0.152,0.556,0.327,0.226,0.214,0.597,0.7659999999999999,0.353,0.494,0.11,0.11900000000000001,0.581,0.17300000000000001,0.0535,0.040999999999999995,0.64,0.33399999999999996,0.135,0.13,0.386,0.316,0.0512,0.33799999999999997,0.0562,0.10400000000000001,0.37,0.276,0.10400000000000001,0.32,0.233,0.203,0.325,0.261,0.113,0.0961,0.473,0.0699,0.196,0.243,0.0473,0.0635,0.106,0.943,0.122,0.498,0.0813,0.11599999999999999,0.0391,0.659,0.7170000000000001,0.231,0.254,0.32299999999999995,0.39,0.175],\"xaxis\":\"x\",\"y\":[0.61,0.86,0.44799999999999995,0.639,0.7290000000000001,0.691,0.639,0.375,0.716,0.39799999999999996,0.0826,0.821,0.41700000000000004,0.106,0.514,0.688,0.409,0.304,0.257,0.496,0.7440000000000001,0.4,0.748,0.552,0.19,0.263,0.884,0.545,0.44799999999999995,0.54,0.442,0.358,0.306,0.382,0.16699999999999998,0.435,0.18100000000000002,0.16899999999999998,0.28600000000000003,0.248,0.292,0.198,0.545,0.22,0.42100000000000004,0.5,0.342,0.239,0.831,0.41200000000000003,0.10099999999999999,0.204,0.24,0.0922,0.152],\"yaxis\":\"y\",\"type\":\"scattergl\"},{\"mode\":\"text\",\"name\":\"Text\",\"showlegend\":false,\"text\":[\"Q3\",\"Q4\",\"Q2\",\"Q1\"],\"textfont\":{\"color\":\"lightslategrey\",\"size\":36},\"textposition\":\"middle center\",\"x\":[0.05,0.05,0.95,0.95],\"y\":[0.05,0.95,0.05,0.95],\"type\":\"scatter\"}],                        {\"template\":{\"data\":{\"barpolar\":[{\"marker\":{\"line\":{\"color\":\"white\",\"width\":0.5},\"pattern\":{\"fillmode\":\"overlay\",\"size\":10,\"solidity\":0.2}},\"type\":\"barpolar\"}],\"bar\":[{\"error_x\":{\"color\":\"rgb(36,36,36)\"},\"error_y\":{\"color\":\"rgb(36,36,36)\"},\"marker\":{\"line\":{\"color\":\"white\",\"width\":0.5},\"pattern\":{\"fillmode\":\"overlay\",\"size\":10,\"solidity\":0.2}},\"type\":\"bar\"}],\"carpet\":[{\"aaxis\":{\"endlinecolor\":\"rgb(36,36,36)\",\"gridcolor\":\"white\",\"linecolor\":\"white\",\"minorgridcolor\":\"white\",\"startlinecolor\":\"rgb(36,36,36)\"},\"baxis\":{\"endlinecolor\":\"rgb(36,36,36)\",\"gridcolor\":\"white\",\"linecolor\":\"white\",\"minorgridcolor\":\"white\",\"startlinecolor\":\"rgb(36,36,36)\"},\"type\":\"carpet\"}],\"choropleth\":[{\"colorbar\":{\"outlinewidth\":1,\"tickcolor\":\"rgb(36,36,36)\",\"ticks\":\"outside\"},\"type\":\"choropleth\"}],\"contourcarpet\":[{\"colorbar\":{\"outlinewidth\":1,\"tickcolor\":\"rgb(36,36,36)\",\"ticks\":\"outside\"},\"type\":\"contourcarpet\"}],\"contour\":[{\"colorbar\":{\"outlinewidth\":1,\"tickcolor\":\"rgb(36,36,36)\",\"ticks\":\"outside\"},\"colorscale\":[[0.0,\"#440154\"],[0.1111111111111111,\"#482878\"],[0.2222222222222222,\"#3e4989\"],[0.3333333333333333,\"#31688e\"],[0.4444444444444444,\"#26828e\"],[0.5555555555555556,\"#1f9e89\"],[0.6666666666666666,\"#35b779\"],[0.7777777777777778,\"#6ece58\"],[0.8888888888888888,\"#b5de2b\"],[1.0,\"#fde725\"]],\"type\":\"contour\"}],\"heatmapgl\":[{\"colorbar\":{\"outlinewidth\":1,\"tickcolor\":\"rgb(36,36,36)\",\"ticks\":\"outside\"},\"colorscale\":[[0.0,\"#440154\"],[0.1111111111111111,\"#482878\"],[0.2222222222222222,\"#3e4989\"],[0.3333333333333333,\"#31688e\"],[0.4444444444444444,\"#26828e\"],[0.5555555555555556,\"#1f9e89\"],[0.6666666666666666,\"#35b779\"],[0.7777777777777778,\"#6ece58\"],[0.8888888888888888,\"#b5de2b\"],[1.0,\"#fde725\"]],\"type\":\"heatmapgl\"}],\"heatmap\":[{\"colorbar\":{\"outlinewidth\":1,\"tickcolor\":\"rgb(36,36,36)\",\"ticks\":\"outside\"},\"colorscale\":[[0.0,\"#440154\"],[0.1111111111111111,\"#482878\"],[0.2222222222222222,\"#3e4989\"],[0.3333333333333333,\"#31688e\"],[0.4444444444444444,\"#26828e\"],[0.5555555555555556,\"#1f9e89\"],[0.6666666666666666,\"#35b779\"],[0.7777777777777778,\"#6ece58\"],[0.8888888888888888,\"#b5de2b\"],[1.0,\"#fde725\"]],\"type\":\"heatmap\"}],\"histogram2dcontour\":[{\"colorbar\":{\"outlinewidth\":1,\"tickcolor\":\"rgb(36,36,36)\",\"ticks\":\"outside\"},\"colorscale\":[[0.0,\"#440154\"],[0.1111111111111111,\"#482878\"],[0.2222222222222222,\"#3e4989\"],[0.3333333333333333,\"#31688e\"],[0.4444444444444444,\"#26828e\"],[0.5555555555555556,\"#1f9e89\"],[0.6666666666666666,\"#35b779\"],[0.7777777777777778,\"#6ece58\"],[0.8888888888888888,\"#b5de2b\"],[1.0,\"#fde725\"]],\"type\":\"histogram2dcontour\"}],\"histogram2d\":[{\"colorbar\":{\"outlinewidth\":1,\"tickcolor\":\"rgb(36,36,36)\",\"ticks\":\"outside\"},\"colorscale\":[[0.0,\"#440154\"],[0.1111111111111111,\"#482878\"],[0.2222222222222222,\"#3e4989\"],[0.3333333333333333,\"#31688e\"],[0.4444444444444444,\"#26828e\"],[0.5555555555555556,\"#1f9e89\"],[0.6666666666666666,\"#35b779\"],[0.7777777777777778,\"#6ece58\"],[0.8888888888888888,\"#b5de2b\"],[1.0,\"#fde725\"]],\"type\":\"histogram2d\"}],\"histogram\":[{\"marker\":{\"line\":{\"color\":\"white\",\"width\":0.6}},\"type\":\"histogram\"}],\"mesh3d\":[{\"colorbar\":{\"outlinewidth\":1,\"tickcolor\":\"rgb(36,36,36)\",\"ticks\":\"outside\"},\"type\":\"mesh3d\"}],\"parcoords\":[{\"line\":{\"colorbar\":{\"outlinewidth\":1,\"tickcolor\":\"rgb(36,36,36)\",\"ticks\":\"outside\"}},\"type\":\"parcoords\"}],\"pie\":[{\"automargin\":true,\"type\":\"pie\"}],\"scatter3d\":[{\"line\":{\"colorbar\":{\"outlinewidth\":1,\"tickcolor\":\"rgb(36,36,36)\",\"ticks\":\"outside\"}},\"marker\":{\"colorbar\":{\"outlinewidth\":1,\"tickcolor\":\"rgb(36,36,36)\",\"ticks\":\"outside\"}},\"type\":\"scatter3d\"}],\"scattercarpet\":[{\"marker\":{\"colorbar\":{\"outlinewidth\":1,\"tickcolor\":\"rgb(36,36,36)\",\"ticks\":\"outside\"}},\"type\":\"scattercarpet\"}],\"scattergeo\":[{\"marker\":{\"colorbar\":{\"outlinewidth\":1,\"tickcolor\":\"rgb(36,36,36)\",\"ticks\":\"outside\"}},\"type\":\"scattergeo\"}],\"scattergl\":[{\"marker\":{\"colorbar\":{\"outlinewidth\":1,\"tickcolor\":\"rgb(36,36,36)\",\"ticks\":\"outside\"}},\"type\":\"scattergl\"}],\"scattermapbox\":[{\"marker\":{\"colorbar\":{\"outlinewidth\":1,\"tickcolor\":\"rgb(36,36,36)\",\"ticks\":\"outside\"}},\"type\":\"scattermapbox\"}],\"scatterpolargl\":[{\"marker\":{\"colorbar\":{\"outlinewidth\":1,\"tickcolor\":\"rgb(36,36,36)\",\"ticks\":\"outside\"}},\"type\":\"scatterpolargl\"}],\"scatterpolar\":[{\"marker\":{\"colorbar\":{\"outlinewidth\":1,\"tickcolor\":\"rgb(36,36,36)\",\"ticks\":\"outside\"}},\"type\":\"scatterpolar\"}],\"scatter\":[{\"fillpattern\":{\"fillmode\":\"overlay\",\"size\":10,\"solidity\":0.2},\"type\":\"scatter\"}],\"scatterternary\":[{\"marker\":{\"colorbar\":{\"outlinewidth\":1,\"tickcolor\":\"rgb(36,36,36)\",\"ticks\":\"outside\"}},\"type\":\"scatterternary\"}],\"surface\":[{\"colorbar\":{\"outlinewidth\":1,\"tickcolor\":\"rgb(36,36,36)\",\"ticks\":\"outside\"},\"colorscale\":[[0.0,\"#440154\"],[0.1111111111111111,\"#482878\"],[0.2222222222222222,\"#3e4989\"],[0.3333333333333333,\"#31688e\"],[0.4444444444444444,\"#26828e\"],[0.5555555555555556,\"#1f9e89\"],[0.6666666666666666,\"#35b779\"],[0.7777777777777778,\"#6ece58\"],[0.8888888888888888,\"#b5de2b\"],[1.0,\"#fde725\"]],\"type\":\"surface\"}],\"table\":[{\"cells\":{\"fill\":{\"color\":\"rgb(237,237,237)\"},\"line\":{\"color\":\"white\"}},\"header\":{\"fill\":{\"color\":\"rgb(217,217,217)\"},\"line\":{\"color\":\"white\"}},\"type\":\"table\"}]},\"layout\":{\"annotationdefaults\":{\"arrowhead\":0,\"arrowwidth\":1},\"autotypenumbers\":\"strict\",\"coloraxis\":{\"colorbar\":{\"outlinewidth\":1,\"tickcolor\":\"rgb(36,36,36)\",\"ticks\":\"outside\"}},\"colorscale\":{\"diverging\":[[0.0,\"rgb(103,0,31)\"],[0.1,\"rgb(178,24,43)\"],[0.2,\"rgb(214,96,77)\"],[0.3,\"rgb(244,165,130)\"],[0.4,\"rgb(253,219,199)\"],[0.5,\"rgb(247,247,247)\"],[0.6,\"rgb(209,229,240)\"],[0.7,\"rgb(146,197,222)\"],[0.8,\"rgb(67,147,195)\"],[0.9,\"rgb(33,102,172)\"],[1.0,\"rgb(5,48,97)\"]],\"sequential\":[[0.0,\"#440154\"],[0.1111111111111111,\"#482878\"],[0.2222222222222222,\"#3e4989\"],[0.3333333333333333,\"#31688e\"],[0.4444444444444444,\"#26828e\"],[0.5555555555555556,\"#1f9e89\"],[0.6666666666666666,\"#35b779\"],[0.7777777777777778,\"#6ece58\"],[0.8888888888888888,\"#b5de2b\"],[1.0,\"#fde725\"]],\"sequentialminus\":[[0.0,\"#440154\"],[0.1111111111111111,\"#482878\"],[0.2222222222222222,\"#3e4989\"],[0.3333333333333333,\"#31688e\"],[0.4444444444444444,\"#26828e\"],[0.5555555555555556,\"#1f9e89\"],[0.6666666666666666,\"#35b779\"],[0.7777777777777778,\"#6ece58\"],[0.8888888888888888,\"#b5de2b\"],[1.0,\"#fde725\"]]},\"colorway\":[\"#1F77B4\",\"#FF7F0E\",\"#2CA02C\",\"#D62728\",\"#9467BD\",\"#8C564B\",\"#E377C2\",\"#7F7F7F\",\"#BCBD22\",\"#17BECF\"],\"font\":{\"color\":\"rgb(36,36,36)\"},\"geo\":{\"bgcolor\":\"white\",\"lakecolor\":\"white\",\"landcolor\":\"white\",\"showlakes\":true,\"showland\":true,\"subunitcolor\":\"white\"},\"hoverlabel\":{\"align\":\"left\"},\"hovermode\":\"closest\",\"mapbox\":{\"style\":\"light\"},\"paper_bgcolor\":\"white\",\"plot_bgcolor\":\"white\",\"polar\":{\"angularaxis\":{\"gridcolor\":\"rgb(232,232,232)\",\"linecolor\":\"rgb(36,36,36)\",\"showgrid\":false,\"showline\":true,\"ticks\":\"outside\"},\"bgcolor\":\"white\",\"radialaxis\":{\"gridcolor\":\"rgb(232,232,232)\",\"linecolor\":\"rgb(36,36,36)\",\"showgrid\":false,\"showline\":true,\"ticks\":\"outside\"}},\"scene\":{\"xaxis\":{\"backgroundcolor\":\"white\",\"gridcolor\":\"rgb(232,232,232)\",\"gridwidth\":2,\"linecolor\":\"rgb(36,36,36)\",\"showbackground\":true,\"showgrid\":false,\"showline\":true,\"ticks\":\"outside\",\"zeroline\":false,\"zerolinecolor\":\"rgb(36,36,36)\"},\"yaxis\":{\"backgroundcolor\":\"white\",\"gridcolor\":\"rgb(232,232,232)\",\"gridwidth\":2,\"linecolor\":\"rgb(36,36,36)\",\"showbackground\":true,\"showgrid\":false,\"showline\":true,\"ticks\":\"outside\",\"zeroline\":false,\"zerolinecolor\":\"rgb(36,36,36)\"},\"zaxis\":{\"backgroundcolor\":\"white\",\"gridcolor\":\"rgb(232,232,232)\",\"gridwidth\":2,\"linecolor\":\"rgb(36,36,36)\",\"showbackground\":true,\"showgrid\":false,\"showline\":true,\"ticks\":\"outside\",\"zeroline\":false,\"zerolinecolor\":\"rgb(36,36,36)\"}},\"shapedefaults\":{\"fillcolor\":\"black\",\"line\":{\"width\":0},\"opacity\":0.3},\"ternary\":{\"aaxis\":{\"gridcolor\":\"rgb(232,232,232)\",\"linecolor\":\"rgb(36,36,36)\",\"showgrid\":false,\"showline\":true,\"ticks\":\"outside\"},\"baxis\":{\"gridcolor\":\"rgb(232,232,232)\",\"linecolor\":\"rgb(36,36,36)\",\"showgrid\":false,\"showline\":true,\"ticks\":\"outside\"},\"bgcolor\":\"white\",\"caxis\":{\"gridcolor\":\"rgb(232,232,232)\",\"linecolor\":\"rgb(36,36,36)\",\"showgrid\":false,\"showline\":true,\"ticks\":\"outside\"}},\"title\":{\"x\":0.05},\"xaxis\":{\"automargin\":true,\"gridcolor\":\"rgb(232,232,232)\",\"linecolor\":\"rgb(36,36,36)\",\"showgrid\":false,\"showline\":true,\"ticks\":\"outside\",\"title\":{\"standoff\":15},\"zeroline\":false,\"zerolinecolor\":\"rgb(36,36,36)\"},\"yaxis\":{\"automargin\":true,\"gridcolor\":\"rgb(232,232,232)\",\"linecolor\":\"rgb(36,36,36)\",\"showgrid\":false,\"showline\":true,\"ticks\":\"outside\",\"title\":{\"standoff\":15},\"zeroline\":false,\"zerolinecolor\":\"rgb(36,36,36)\"}}},\"xaxis\":{\"anchor\":\"y\",\"domain\":[0.0,1.0],\"title\":{\"text\":\"Positiveness (valence)\"},\"range\":[-0.01,1.01]},\"yaxis\":{\"anchor\":\"x\",\"domain\":[0.0,1.0],\"title\":{\"text\":\"Energy\"},\"range\":[-0.01,1.01]},\"legend\":{\"title\":{\"text\":\"Artist(s)\"},\"tracegroupgap\":0},\"margin\":{\"t\":60},\"height\":700,\"width\":800,\"shapes\":[{\"line\":{\"width\":3},\"type\":\"line\",\"x0\":0,\"x1\":1,\"xref\":\"x domain\",\"y0\":0.5,\"y1\":0.5,\"yref\":\"y\"},{\"line\":{\"width\":3},\"type\":\"line\",\"x0\":0.5,\"x1\":0.5,\"xref\":\"x\",\"y0\":0,\"y1\":1,\"yref\":\"y domain\"}]},                        {\"responsive\": true}                    ).then(function(){\n",
       "                            \n",
       "var gd = document.getElementById('2cce8df1-1433-4777-a414-f26a084e0aa8');\n",
       "var x = new MutationObserver(function (mutations, observer) {{\n",
       "        var display = window.getComputedStyle(gd).display;\n",
       "        if (!display || display === 'none') {{\n",
       "            console.log([gd, 'removed!']);\n",
       "            Plotly.purge(gd);\n",
       "            observer.disconnect();\n",
       "        }}\n",
       "}});\n",
       "\n",
       "// Listen for the removal of the full notebook cells\n",
       "var notebookContainer = gd.closest('#notebook-container');\n",
       "if (notebookContainer) {{\n",
       "    x.observe(notebookContainer, {childList: true});\n",
       "}}\n",
       "\n",
       "// Listen for the clearing of the current output cell\n",
       "var outputEl = gd.closest('.output');\n",
       "if (outputEl) {{\n",
       "    x.observe(outputEl, {childList: true});\n",
       "}}\n",
       "\n",
       "                        })                };                });            </script>        </div>"
      ]
     },
     "metadata": {},
     "output_type": "display_data"
    }
   ],
   "source": [
    "random=0\n",
    "all=0\n",
    "particular=1\n",
    "\n",
    "\n",
    "#Random artist comparison\n",
    "if random==1:\n",
    "    all=0\n",
    "    particular=0\n",
    "    random1=allnames.sample()\n",
    "    random2=allnames.sample()\n",
    "    artist_names=[random1.iloc[0],random2.iloc[0]]\n",
    "\n",
    "#All artists\n",
    "if all==1:\n",
    "    random=0\n",
    "    particular=0\n",
    "    artist_names=['Bruno Mars','Daniel Caesar','Billie Eilish','Nicki Minaj','Ariana Grande','Taylor Swift',\n",
    "                  'Lorde','Queen','Tyler, The Creator','Fall Out Boy','NF','GOT7','Melanie Martinez','Harry Styles',\n",
    "                  'Rihanna','Rod Wave','Kendrick Lamar','Rex Orange County','Jeff Bernat','Mac Ayres','Toosii',\n",
    "                  'Lil Tjay','Polo G','Central Cee','Digga D','BTS','Mitski','The Strokes']\n",
    "\n",
    "#Enter artist names here, spelling counts.\n",
    "if particular==1:\n",
    "    all=0\n",
    "    random=0\n",
    "    #artist_names=[]\n",
    "    artist_names=['Toosii','Fall Out Boy', 'Mitski','Jeff Bernat','Taylor Swift']\n",
    "\n",
    "#This section plots the data in plotly, from the pandas dataframe \"dataset\".\n",
    "datafilter=dataset.loc[dataset['artist_name'].isin(artist_names)]\n",
    "fig = px.scatter(datafilter,x=\"valence\", y=\"energy\",hover_data=['track_name'],color=\"artist_name\", \n",
    "                 labels={\"track_name\":\"Song Title\",\"valence\":\"Positiveness (valence)\",\n",
    "                         \"energy\":\"Energy\",\"artist_name\":\"Artist(s)\"},\n",
    "                width=800,height=700)\n",
    "#Set axes and labels for axes\n",
    "fig.update_yaxes(range=[-0.01, 1.01])\n",
    "fig.update_xaxes(range=[-0.01, 1.01])\n",
    "fig.update_xaxes(title_text='Positiveness (valence)')\n",
    "fig.update_yaxes(title_text='Energy')\n",
    "#Add quadrant dividing lines\n",
    "fig.add_hline(y=0.5, line_width=3)\n",
    "fig.add_vline(x=0.5, line_width=3)\n",
    "#Label the quadrants\n",
    "fig.add_trace(go.Scatter(\n",
    "    x=[0.05, 0.05, 0.95, 0.95],\n",
    "    y=[0.05, 0.95, 0.05, 0.95],\n",
    "    mode=\"text\",\n",
    "    name=\"Text\",\n",
    "    text=[\"Q3\", \"Q4\", \"Q2\",\"Q1\"],\n",
    "    textfont=dict(size=36,color=\"lightslategrey\"),\n",
    "    textposition=\"middle center\",showlegend=False\n",
    "))\n",
    "fig.update_layout(template=\"simple_white\")\n",
    "\n",
    "#Save plot as html file and open in browser.\n",
    "if all==1:\n",
    "    fig.write_html('all'+'.html', auto_open=True)\n",
    "if random==1:\n",
    "    fig.write_html(''.join(artist_names)+'.html', auto_open=True)\n",
    "if particular==1:\n",
    "    fig.write_html(''.join(artist_names)+'.html', auto_open=True)\n",
    "#Show plot below in python.\n",
    "fig.show()"
   ]
  },
  {
   "cell_type": "code",
   "execution_count": null,
   "metadata": {},
   "outputs": [],
   "source": []
  }
 ],
 "metadata": {
  "kernelspec": {
   "display_name": "Python 3",
   "language": "python",
   "name": "python3"
  },
  "language_info": {
   "codemirror_mode": {
    "name": "ipython",
    "version": 3
   },
   "file_extension": ".py",
   "mimetype": "text/x-python",
   "name": "python",
   "nbconvert_exporter": "python",
   "pygments_lexer": "ipython3",
   "version": "3.8.3"
  }
 },
 "nbformat": 4,
 "nbformat_minor": 4
}
