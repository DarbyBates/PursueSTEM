{
 "cells": [
  {
   "cell_type": "markdown",
   "metadata": {},
   "source": [
    "Visualizing Spotify Data\n",
    "Python script by Darby Bates\n",
    "Based on script from https://github.com/elb0/florence-nightingale-uoft-22/blob/master/plotting.Rmd"
   ]
  },
  {
   "cell_type": "code",
   "execution_count": 1,
   "metadata": {},
   "outputs": [],
   "source": [
    "#Header\n",
    "import pandas as pd #for dataframes\n",
    "import plotly.express as px #for plotly"
   ]
  },
  {
   "cell_type": "code",
   "execution_count": 2,
   "metadata": {},
   "outputs": [],
   "source": [
    "#Load CSV File into a pandas dataframe, make sure .csv file is in the same folder as this notebook.\n",
    "dataset=pd.read_csv(\"for_students.csv\")"
   ]
  },
  {
   "cell_type": "code",
   "execution_count": 6,
   "metadata": {},
   "outputs": [
    {
     "data": {
      "application/vnd.plotly.v1+json": {
       "config": {
        "plotlyServerURL": "https://plot.ly"
       },
       "data": [
        {
         "customdata": [
          [
           "24K Magic"
          ],
          [
           "Chunky"
          ],
          [
           "Perm"
          ],
          [
           "That's What I Like"
          ],
          [
           "Versace on the Floor"
          ],
          [
           "Straight up & Down"
          ],
          [
           "Calling All My Lovelies"
          ],
          [
           "Finesse"
          ],
          [
           "Too Good to Say Goodbye"
          ],
          [
           "Young Girls"
          ],
          [
           "Locked out of Heaven"
          ],
          [
           "Gorilla"
          ],
          [
           "Treasure"
          ],
          [
           "Moonshine"
          ],
          [
           "When I Was Your Man"
          ],
          [
           "Natalie"
          ],
          [
           "Show Me"
          ],
          [
           "Money Make Her Smile"
          ],
          [
           "If I Knew"
          ],
          [
           "Young Girls"
          ],
          [
           "Locked out of Heaven"
          ],
          [
           "Gorilla"
          ],
          [
           "Treasure"
          ],
          [
           "Moonshine"
          ],
          [
           "When I Was Your Man"
          ],
          [
           "Natalie"
          ],
          [
           "Show Me"
          ],
          [
           "Money Make Her Smile"
          ],
          [
           "If I Knew"
          ],
          [
           "Young Girls"
          ],
          [
           "Locked out of Heaven"
          ],
          [
           "Gorilla"
          ],
          [
           "Treasure"
          ],
          [
           "Moonshine"
          ],
          [
           "When I Was Your Man"
          ],
          [
           "Natalie"
          ],
          [
           "Show Me"
          ],
          [
           "Money Make Her Smile"
          ],
          [
           "If I Knew"
          ],
          [
           "Grenade"
          ],
          [
           "Just the Way You Are"
          ],
          [
           "Our First Time"
          ],
          [
           "Runaway Baby"
          ],
          [
           "The Lazy Song"
          ],
          [
           "Marry You"
          ],
          [
           "Talking to the Moon"
          ],
          [
           "Liquor Store Blues (feat. Damian Marley)"
          ],
          [
           "Count on Me"
          ],
          [
           "The Other Side (feat. CeeLo Green and B.o.B)"
          ],
          [
           "Somewhere in Brooklyn"
          ],
          [
           "Talking to the Moon - Acoustic Piano"
          ],
          [
           "Grenade"
          ],
          [
           "Just the Way You Are"
          ],
          [
           "Our First Time"
          ],
          [
           "Runaway Baby"
          ],
          [
           "The Lazy Song"
          ],
          [
           "Marry You"
          ],
          [
           "Talking to the Moon"
          ],
          [
           "Liquor Store Blues (feat. Damian Marley)"
          ],
          [
           "Count on Me"
          ],
          [
           "The Other Side (feat. CeeLo Green and B.o.B)"
          ]
         ],
         "hovertemplate": "Artist(s)=Bruno Mars<br>Positiveness (valence)=%{x}<br>Energy=%{y}<br>Song Title=%{customdata[0]}<extra></extra>",
         "legendgroup": "Bruno Mars",
         "marker": {
          "color": "#636efa",
          "symbol": "circle"
         },
         "mode": "markers",
         "name": "Bruno Mars",
         "orientation": "v",
         "showlegend": true,
         "type": "scatter",
         "x": [
          0.632,
          0.727,
          0.863,
          0.86,
          0.301,
          0.643,
          0.865,
          0.9390000000000001,
          0.433,
          0.501,
          0.867,
          0.622,
          0.934,
          0.418,
          0.387,
          0.611,
          0.514,
          0.78,
          0.49,
          0.501,
          0.867,
          0.6409999999999999,
          0.937,
          0.418,
          0.387,
          0.611,
          0.514,
          0.78,
          0.49,
          0.56,
          0.87,
          0.667,
          0.92,
          0.457,
          0.41100000000000003,
          0.667,
          0.539,
          0.778,
          0.442,
          0.22699999999999998,
          0.434,
          0.868,
          0.871,
          0.9490000000000001,
          0.48100000000000004,
          0.065,
          0.685,
          0.509,
          0.5429999999999999,
          0.349,
          0.209,
          0.22699999999999998,
          0.434,
          0.868,
          0.871,
          0.9490000000000001,
          0.48100000000000004,
          0.065,
          0.685,
          0.509,
          0.5429999999999999
         ],
         "xaxis": "x",
         "y": [
          0.8029999999999999,
          0.539,
          0.871,
          0.56,
          0.574,
          0.733,
          0.705,
          0.7979999999999999,
          0.63,
          0.7490000000000001,
          0.698,
          0.562,
          0.6990000000000001,
          0.784,
          0.28,
          0.733,
          0.706,
          0.677,
          0.413,
          0.7490000000000001,
          0.698,
          0.544,
          0.6920000000000001,
          0.784,
          0.28,
          0.733,
          0.706,
          0.677,
          0.413,
          0.748,
          0.6970000000000001,
          0.547,
          0.687,
          0.773,
          0.271,
          0.7290000000000001,
          0.687,
          0.664,
          0.43700000000000006,
          0.5579999999999999,
          0.843,
          0.451,
          0.767,
          0.804,
          0.8320000000000001,
          0.606,
          0.8240000000000001,
          0.397,
          0.807,
          0.579,
          0.33299999999999996,
          0.5579999999999999,
          0.843,
          0.451,
          0.767,
          0.804,
          0.8320000000000001,
          0.606,
          0.8240000000000001,
          0.397,
          0.807
         ],
         "yaxis": "y"
        },
        {
         "customdata": [
          [
           "Green Light"
          ],
          [
           "Sober"
          ],
          [
           "Homemade Dynamite"
          ],
          [
           "The Louvre"
          ],
          [
           "Liability"
          ],
          [
           "Hard Feelings/Loveless"
          ],
          [
           "Sober II (Melodrama)"
          ],
          [
           "Writer In The Dark"
          ],
          [
           "Supercut"
          ],
          [
           "Liability (Reprise)"
          ],
          [
           "Perfect Places"
          ],
          [
           "Homemade Dynamite - REMIX"
          ],
          [
           "Green Light"
          ],
          [
           "Sober"
          ],
          [
           "Homemade Dynamite"
          ],
          [
           "The Louvre"
          ],
          [
           "Liability"
          ],
          [
           "Hard Feelings/Loveless"
          ],
          [
           "Sober II (Melodrama)"
          ],
          [
           "Writer In The Dark"
          ],
          [
           "Supercut"
          ],
          [
           "Liability (Reprise)"
          ],
          [
           "Perfect Places"
          ],
          [
           "Homemade Dynamite - REMIX"
          ],
          [
           "Green Light"
          ],
          [
           "Sober"
          ],
          [
           "Homemade Dynamite"
          ],
          [
           "The Louvre"
          ],
          [
           "Liability"
          ],
          [
           "Hard Feelings/Loveless"
          ],
          [
           "Sober II (Melodrama)"
          ],
          [
           "Writer In The Dark"
          ],
          [
           "Supercut"
          ],
          [
           "Liability (Reprise)"
          ],
          [
           "Perfect Places"
          ],
          [
           "Green Light"
          ],
          [
           "Sober"
          ],
          [
           "Homemade Dynamite"
          ],
          [
           "The Louvre"
          ],
          [
           "Liability"
          ],
          [
           "Hard Feelings/Loveless"
          ],
          [
           "Sober II (Melodrama)"
          ],
          [
           "Writer In The Dark"
          ],
          [
           "Supercut"
          ],
          [
           "Liability (Reprise)"
          ],
          [
           "Perfect Places"
          ],
          [
           "Tennis Court"
          ],
          [
           "400 Lux"
          ],
          [
           "Royals"
          ],
          [
           "Ribs"
          ],
          [
           "Buzzcut Season"
          ],
          [
           "Team"
          ],
          [
           "Glory And Gore"
          ],
          [
           "Still Sane"
          ],
          [
           "White Teeth Teens"
          ],
          [
           "A World Alone"
          ],
          [
           "Tennis Court"
          ],
          [
           "400 Lux"
          ],
          [
           "Royals"
          ],
          [
           "Ribs"
          ],
          [
           "Buzzcut Season"
          ],
          [
           "Team"
          ],
          [
           "Glory And Gore"
          ],
          [
           "Still Sane"
          ],
          [
           "White Teeth Teens"
          ],
          [
           "A World Alone"
          ],
          [
           "Bravado"
          ],
          [
           "Swingin Party"
          ],
          [
           "Bravado - Fffrrannno Remix"
          ],
          [
           "Tennis Court"
          ],
          [
           "400 Lux"
          ],
          [
           "Royals"
          ],
          [
           "Ribs"
          ],
          [
           "Buzzcut Season"
          ],
          [
           "Team"
          ],
          [
           "Glory And Gore"
          ],
          [
           "Still Sane"
          ],
          [
           "White Teeth Teens"
          ],
          [
           "A World Alone"
          ],
          [
           "Bravado"
          ],
          [
           "Million Dollar Bills"
          ],
          [
           "The Love Club"
          ],
          [
           "Biting Down"
          ],
          [
           "Swingin Party"
          ]
         ],
         "hovertemplate": "Artist(s)=Lorde<br>Positiveness (valence)=%{x}<br>Energy=%{y}<br>Song Title=%{customdata[0]}<extra></extra>",
         "legendgroup": "Lorde",
         "marker": {
          "color": "#EF553B",
          "symbol": "circle"
         },
         "mode": "markers",
         "name": "Lorde",
         "orientation": "v",
         "showlegend": true,
         "type": "scatter",
         "x": [
          0.253,
          0.516,
          0.268,
          0.126,
          0.379,
          0.18,
          0.10099999999999999,
          0.27899999999999997,
          0.15,
          0.26,
          0.512,
          0.175,
          0.253,
          0.462,
          0.242,
          0.126,
          0.379,
          0.18100000000000002,
          0.10300000000000001,
          0.27899999999999997,
          0.15,
          0.285,
          0.525,
          0.18600000000000003,
          0.253,
          0.516,
          0.268,
          0.126,
          0.379,
          0.18,
          0.10099999999999999,
          0.27899999999999997,
          0.15,
          0.26,
          0.512,
          0.253,
          0.462,
          0.242,
          0.126,
          0.379,
          0.18100000000000002,
          0.10300000000000001,
          0.27899999999999997,
          0.15,
          0.285,
          0.525,
          0.428,
          0.19399999999999998,
          0.337,
          0.0399,
          0.247,
          0.41600000000000004,
          0.294,
          0.0958,
          0.102,
          0.0663,
          0.40399999999999997,
          0.19399999999999998,
          0.355,
          0.0399,
          0.247,
          0.41600000000000004,
          0.294,
          0.0958,
          0.102,
          0.0663,
          0.04,
          0.107,
          0.205,
          0.40399999999999997,
          0.19399999999999998,
          0.337,
          0.0399,
          0.247,
          0.41600000000000004,
          0.294,
          0.0958,
          0.102,
          0.0663,
          0.04,
          0.43700000000000006,
          0.626,
          0.33399999999999996,
          0.107
         ],
         "xaxis": "x",
         "y": [
          0.721,
          0.467,
          0.431,
          0.382,
          0.22899999999999998,
          0.445,
          0.312,
          0.271,
          0.43700000000000006,
          0.27699999999999997,
          0.58,
          0.5479999999999999,
          0.721,
          0.485,
          0.436,
          0.382,
          0.22899999999999998,
          0.442,
          0.32,
          0.271,
          0.43700000000000006,
          0.281,
          0.574,
          0.5489999999999999,
          0.721,
          0.467,
          0.431,
          0.382,
          0.22899999999999998,
          0.445,
          0.312,
          0.271,
          0.43700000000000006,
          0.27699999999999997,
          0.58,
          0.721,
          0.485,
          0.436,
          0.382,
          0.22899999999999998,
          0.442,
          0.32,
          0.271,
          0.43700000000000006,
          0.281,
          0.574,
          0.5670000000000001,
          0.474,
          0.428,
          0.47200000000000003,
          0.62,
          0.578,
          0.377,
          0.361,
          0.304,
          0.485,
          0.546,
          0.474,
          0.42,
          0.47200000000000003,
          0.62,
          0.578,
          0.377,
          0.361,
          0.304,
          0.485,
          0.535,
          0.245,
          0.61,
          0.546,
          0.474,
          0.428,
          0.47200000000000003,
          0.62,
          0.578,
          0.377,
          0.361,
          0.304,
          0.485,
          0.535,
          0.555,
          0.493,
          0.375,
          0.245
         ],
         "yaxis": "y"
        }
       ],
       "layout": {
        "legend": {
         "title": {
          "text": "Artist(s)"
         },
         "tracegroupgap": 0
        },
        "margin": {
         "t": 60
        },
        "shapes": [
         {
          "type": "line",
          "x0": 0,
          "x1": 1,
          "xref": "x domain",
          "y0": 0.5,
          "y1": 0.5,
          "yref": "y"
         },
         {
          "type": "line",
          "x0": 0.5,
          "x1": 0.5,
          "xref": "x",
          "y0": 0,
          "y1": 1,
          "yref": "y domain"
         }
        ],
        "template": {
         "data": {
          "bar": [
           {
            "error_x": {
             "color": "#2a3f5f"
            },
            "error_y": {
             "color": "#2a3f5f"
            },
            "marker": {
             "line": {
              "color": "#E5ECF6",
              "width": 0.5
             },
             "pattern": {
              "fillmode": "overlay",
              "size": 10,
              "solidity": 0.2
             }
            },
            "type": "bar"
           }
          ],
          "barpolar": [
           {
            "marker": {
             "line": {
              "color": "#E5ECF6",
              "width": 0.5
             },
             "pattern": {
              "fillmode": "overlay",
              "size": 10,
              "solidity": 0.2
             }
            },
            "type": "barpolar"
           }
          ],
          "carpet": [
           {
            "aaxis": {
             "endlinecolor": "#2a3f5f",
             "gridcolor": "white",
             "linecolor": "white",
             "minorgridcolor": "white",
             "startlinecolor": "#2a3f5f"
            },
            "baxis": {
             "endlinecolor": "#2a3f5f",
             "gridcolor": "white",
             "linecolor": "white",
             "minorgridcolor": "white",
             "startlinecolor": "#2a3f5f"
            },
            "type": "carpet"
           }
          ],
          "choropleth": [
           {
            "colorbar": {
             "outlinewidth": 0,
             "ticks": ""
            },
            "type": "choropleth"
           }
          ],
          "contour": [
           {
            "colorbar": {
             "outlinewidth": 0,
             "ticks": ""
            },
            "colorscale": [
             [
              0,
              "#0d0887"
             ],
             [
              0.1111111111111111,
              "#46039f"
             ],
             [
              0.2222222222222222,
              "#7201a8"
             ],
             [
              0.3333333333333333,
              "#9c179e"
             ],
             [
              0.4444444444444444,
              "#bd3786"
             ],
             [
              0.5555555555555556,
              "#d8576b"
             ],
             [
              0.6666666666666666,
              "#ed7953"
             ],
             [
              0.7777777777777778,
              "#fb9f3a"
             ],
             [
              0.8888888888888888,
              "#fdca26"
             ],
             [
              1,
              "#f0f921"
             ]
            ],
            "type": "contour"
           }
          ],
          "contourcarpet": [
           {
            "colorbar": {
             "outlinewidth": 0,
             "ticks": ""
            },
            "type": "contourcarpet"
           }
          ],
          "heatmap": [
           {
            "colorbar": {
             "outlinewidth": 0,
             "ticks": ""
            },
            "colorscale": [
             [
              0,
              "#0d0887"
             ],
             [
              0.1111111111111111,
              "#46039f"
             ],
             [
              0.2222222222222222,
              "#7201a8"
             ],
             [
              0.3333333333333333,
              "#9c179e"
             ],
             [
              0.4444444444444444,
              "#bd3786"
             ],
             [
              0.5555555555555556,
              "#d8576b"
             ],
             [
              0.6666666666666666,
              "#ed7953"
             ],
             [
              0.7777777777777778,
              "#fb9f3a"
             ],
             [
              0.8888888888888888,
              "#fdca26"
             ],
             [
              1,
              "#f0f921"
             ]
            ],
            "type": "heatmap"
           }
          ],
          "heatmapgl": [
           {
            "colorbar": {
             "outlinewidth": 0,
             "ticks": ""
            },
            "colorscale": [
             [
              0,
              "#0d0887"
             ],
             [
              0.1111111111111111,
              "#46039f"
             ],
             [
              0.2222222222222222,
              "#7201a8"
             ],
             [
              0.3333333333333333,
              "#9c179e"
             ],
             [
              0.4444444444444444,
              "#bd3786"
             ],
             [
              0.5555555555555556,
              "#d8576b"
             ],
             [
              0.6666666666666666,
              "#ed7953"
             ],
             [
              0.7777777777777778,
              "#fb9f3a"
             ],
             [
              0.8888888888888888,
              "#fdca26"
             ],
             [
              1,
              "#f0f921"
             ]
            ],
            "type": "heatmapgl"
           }
          ],
          "histogram": [
           {
            "marker": {
             "pattern": {
              "fillmode": "overlay",
              "size": 10,
              "solidity": 0.2
             }
            },
            "type": "histogram"
           }
          ],
          "histogram2d": [
           {
            "colorbar": {
             "outlinewidth": 0,
             "ticks": ""
            },
            "colorscale": [
             [
              0,
              "#0d0887"
             ],
             [
              0.1111111111111111,
              "#46039f"
             ],
             [
              0.2222222222222222,
              "#7201a8"
             ],
             [
              0.3333333333333333,
              "#9c179e"
             ],
             [
              0.4444444444444444,
              "#bd3786"
             ],
             [
              0.5555555555555556,
              "#d8576b"
             ],
             [
              0.6666666666666666,
              "#ed7953"
             ],
             [
              0.7777777777777778,
              "#fb9f3a"
             ],
             [
              0.8888888888888888,
              "#fdca26"
             ],
             [
              1,
              "#f0f921"
             ]
            ],
            "type": "histogram2d"
           }
          ],
          "histogram2dcontour": [
           {
            "colorbar": {
             "outlinewidth": 0,
             "ticks": ""
            },
            "colorscale": [
             [
              0,
              "#0d0887"
             ],
             [
              0.1111111111111111,
              "#46039f"
             ],
             [
              0.2222222222222222,
              "#7201a8"
             ],
             [
              0.3333333333333333,
              "#9c179e"
             ],
             [
              0.4444444444444444,
              "#bd3786"
             ],
             [
              0.5555555555555556,
              "#d8576b"
             ],
             [
              0.6666666666666666,
              "#ed7953"
             ],
             [
              0.7777777777777778,
              "#fb9f3a"
             ],
             [
              0.8888888888888888,
              "#fdca26"
             ],
             [
              1,
              "#f0f921"
             ]
            ],
            "type": "histogram2dcontour"
           }
          ],
          "mesh3d": [
           {
            "colorbar": {
             "outlinewidth": 0,
             "ticks": ""
            },
            "type": "mesh3d"
           }
          ],
          "parcoords": [
           {
            "line": {
             "colorbar": {
              "outlinewidth": 0,
              "ticks": ""
             }
            },
            "type": "parcoords"
           }
          ],
          "pie": [
           {
            "automargin": true,
            "type": "pie"
           }
          ],
          "scatter": [
           {
            "fillpattern": {
             "fillmode": "overlay",
             "size": 10,
             "solidity": 0.2
            },
            "type": "scatter"
           }
          ],
          "scatter3d": [
           {
            "line": {
             "colorbar": {
              "outlinewidth": 0,
              "ticks": ""
             }
            },
            "marker": {
             "colorbar": {
              "outlinewidth": 0,
              "ticks": ""
             }
            },
            "type": "scatter3d"
           }
          ],
          "scattercarpet": [
           {
            "marker": {
             "colorbar": {
              "outlinewidth": 0,
              "ticks": ""
             }
            },
            "type": "scattercarpet"
           }
          ],
          "scattergeo": [
           {
            "marker": {
             "colorbar": {
              "outlinewidth": 0,
              "ticks": ""
             }
            },
            "type": "scattergeo"
           }
          ],
          "scattergl": [
           {
            "marker": {
             "colorbar": {
              "outlinewidth": 0,
              "ticks": ""
             }
            },
            "type": "scattergl"
           }
          ],
          "scattermapbox": [
           {
            "marker": {
             "colorbar": {
              "outlinewidth": 0,
              "ticks": ""
             }
            },
            "type": "scattermapbox"
           }
          ],
          "scatterpolar": [
           {
            "marker": {
             "colorbar": {
              "outlinewidth": 0,
              "ticks": ""
             }
            },
            "type": "scatterpolar"
           }
          ],
          "scatterpolargl": [
           {
            "marker": {
             "colorbar": {
              "outlinewidth": 0,
              "ticks": ""
             }
            },
            "type": "scatterpolargl"
           }
          ],
          "scatterternary": [
           {
            "marker": {
             "colorbar": {
              "outlinewidth": 0,
              "ticks": ""
             }
            },
            "type": "scatterternary"
           }
          ],
          "surface": [
           {
            "colorbar": {
             "outlinewidth": 0,
             "ticks": ""
            },
            "colorscale": [
             [
              0,
              "#0d0887"
             ],
             [
              0.1111111111111111,
              "#46039f"
             ],
             [
              0.2222222222222222,
              "#7201a8"
             ],
             [
              0.3333333333333333,
              "#9c179e"
             ],
             [
              0.4444444444444444,
              "#bd3786"
             ],
             [
              0.5555555555555556,
              "#d8576b"
             ],
             [
              0.6666666666666666,
              "#ed7953"
             ],
             [
              0.7777777777777778,
              "#fb9f3a"
             ],
             [
              0.8888888888888888,
              "#fdca26"
             ],
             [
              1,
              "#f0f921"
             ]
            ],
            "type": "surface"
           }
          ],
          "table": [
           {
            "cells": {
             "fill": {
              "color": "#EBF0F8"
             },
             "line": {
              "color": "white"
             }
            },
            "header": {
             "fill": {
              "color": "#C8D4E3"
             },
             "line": {
              "color": "white"
             }
            },
            "type": "table"
           }
          ]
         },
         "layout": {
          "annotationdefaults": {
           "arrowcolor": "#2a3f5f",
           "arrowhead": 0,
           "arrowwidth": 1
          },
          "autotypenumbers": "strict",
          "coloraxis": {
           "colorbar": {
            "outlinewidth": 0,
            "ticks": ""
           }
          },
          "colorscale": {
           "diverging": [
            [
             0,
             "#8e0152"
            ],
            [
             0.1,
             "#c51b7d"
            ],
            [
             0.2,
             "#de77ae"
            ],
            [
             0.3,
             "#f1b6da"
            ],
            [
             0.4,
             "#fde0ef"
            ],
            [
             0.5,
             "#f7f7f7"
            ],
            [
             0.6,
             "#e6f5d0"
            ],
            [
             0.7,
             "#b8e186"
            ],
            [
             0.8,
             "#7fbc41"
            ],
            [
             0.9,
             "#4d9221"
            ],
            [
             1,
             "#276419"
            ]
           ],
           "sequential": [
            [
             0,
             "#0d0887"
            ],
            [
             0.1111111111111111,
             "#46039f"
            ],
            [
             0.2222222222222222,
             "#7201a8"
            ],
            [
             0.3333333333333333,
             "#9c179e"
            ],
            [
             0.4444444444444444,
             "#bd3786"
            ],
            [
             0.5555555555555556,
             "#d8576b"
            ],
            [
             0.6666666666666666,
             "#ed7953"
            ],
            [
             0.7777777777777778,
             "#fb9f3a"
            ],
            [
             0.8888888888888888,
             "#fdca26"
            ],
            [
             1,
             "#f0f921"
            ]
           ],
           "sequentialminus": [
            [
             0,
             "#0d0887"
            ],
            [
             0.1111111111111111,
             "#46039f"
            ],
            [
             0.2222222222222222,
             "#7201a8"
            ],
            [
             0.3333333333333333,
             "#9c179e"
            ],
            [
             0.4444444444444444,
             "#bd3786"
            ],
            [
             0.5555555555555556,
             "#d8576b"
            ],
            [
             0.6666666666666666,
             "#ed7953"
            ],
            [
             0.7777777777777778,
             "#fb9f3a"
            ],
            [
             0.8888888888888888,
             "#fdca26"
            ],
            [
             1,
             "#f0f921"
            ]
           ]
          },
          "colorway": [
           "#636efa",
           "#EF553B",
           "#00cc96",
           "#ab63fa",
           "#FFA15A",
           "#19d3f3",
           "#FF6692",
           "#B6E880",
           "#FF97FF",
           "#FECB52"
          ],
          "font": {
           "color": "#2a3f5f"
          },
          "geo": {
           "bgcolor": "white",
           "lakecolor": "white",
           "landcolor": "#E5ECF6",
           "showlakes": true,
           "showland": true,
           "subunitcolor": "white"
          },
          "hoverlabel": {
           "align": "left"
          },
          "hovermode": "closest",
          "mapbox": {
           "style": "light"
          },
          "paper_bgcolor": "white",
          "plot_bgcolor": "#E5ECF6",
          "polar": {
           "angularaxis": {
            "gridcolor": "white",
            "linecolor": "white",
            "ticks": ""
           },
           "bgcolor": "#E5ECF6",
           "radialaxis": {
            "gridcolor": "white",
            "linecolor": "white",
            "ticks": ""
           }
          },
          "scene": {
           "xaxis": {
            "backgroundcolor": "#E5ECF6",
            "gridcolor": "white",
            "gridwidth": 2,
            "linecolor": "white",
            "showbackground": true,
            "ticks": "",
            "zerolinecolor": "white"
           },
           "yaxis": {
            "backgroundcolor": "#E5ECF6",
            "gridcolor": "white",
            "gridwidth": 2,
            "linecolor": "white",
            "showbackground": true,
            "ticks": "",
            "zerolinecolor": "white"
           },
           "zaxis": {
            "backgroundcolor": "#E5ECF6",
            "gridcolor": "white",
            "gridwidth": 2,
            "linecolor": "white",
            "showbackground": true,
            "ticks": "",
            "zerolinecolor": "white"
           }
          },
          "shapedefaults": {
           "line": {
            "color": "#2a3f5f"
           }
          },
          "ternary": {
           "aaxis": {
            "gridcolor": "white",
            "linecolor": "white",
            "ticks": ""
           },
           "baxis": {
            "gridcolor": "white",
            "linecolor": "white",
            "ticks": ""
           },
           "bgcolor": "#E5ECF6",
           "caxis": {
            "gridcolor": "white",
            "linecolor": "white",
            "ticks": ""
           }
          },
          "title": {
           "x": 0.05
          },
          "xaxis": {
           "automargin": true,
           "gridcolor": "white",
           "linecolor": "white",
           "ticks": "",
           "title": {
            "standoff": 15
           },
           "zerolinecolor": "white",
           "zerolinewidth": 2
          },
          "yaxis": {
           "automargin": true,
           "gridcolor": "white",
           "linecolor": "white",
           "ticks": "",
           "title": {
            "standoff": 15
           },
           "zerolinecolor": "white",
           "zerolinewidth": 2
          }
         }
        },
        "xaxis": {
         "anchor": "y",
         "domain": [
          0,
          1
         ],
         "range": [
          -0.01,
          1.01
         ],
         "title": {
          "text": "Positiveness(valence)"
         }
        },
        "yaxis": {
         "anchor": "x",
         "domain": [
          0,
          1
         ],
         "range": [
          -0.01,
          1.01
         ],
         "title": {
          "text": "Energy"
         }
        }
       }
      },
      "text/html": [
       "<div>                            <div id=\"05952f7f-1004-417e-962a-c69d7b6eea96\" class=\"plotly-graph-div\" style=\"height:525px; width:100%;\"></div>            <script type=\"text/javascript\">                require([\"plotly\"], function(Plotly) {                    window.PLOTLYENV=window.PLOTLYENV || {};                                    if (document.getElementById(\"05952f7f-1004-417e-962a-c69d7b6eea96\")) {                    Plotly.newPlot(                        \"05952f7f-1004-417e-962a-c69d7b6eea96\",                        [{\"customdata\":[[\"24K Magic\"],[\"Chunky\"],[\"Perm\"],[\"That's What I Like\"],[\"Versace on the Floor\"],[\"Straight up & Down\"],[\"Calling All My Lovelies\"],[\"Finesse\"],[\"Too Good to Say Goodbye\"],[\"Young Girls\"],[\"Locked out of Heaven\"],[\"Gorilla\"],[\"Treasure\"],[\"Moonshine\"],[\"When I Was Your Man\"],[\"Natalie\"],[\"Show Me\"],[\"Money Make Her Smile\"],[\"If I Knew\"],[\"Young Girls\"],[\"Locked out of Heaven\"],[\"Gorilla\"],[\"Treasure\"],[\"Moonshine\"],[\"When I Was Your Man\"],[\"Natalie\"],[\"Show Me\"],[\"Money Make Her Smile\"],[\"If I Knew\"],[\"Young Girls\"],[\"Locked out of Heaven\"],[\"Gorilla\"],[\"Treasure\"],[\"Moonshine\"],[\"When I Was Your Man\"],[\"Natalie\"],[\"Show Me\"],[\"Money Make Her Smile\"],[\"If I Knew\"],[\"Grenade\"],[\"Just the Way You Are\"],[\"Our First Time\"],[\"Runaway Baby\"],[\"The Lazy Song\"],[\"Marry You\"],[\"Talking to the Moon\"],[\"Liquor Store Blues (feat. Damian Marley)\"],[\"Count on Me\"],[\"The Other Side (feat. CeeLo Green and B.o.B)\"],[\"Somewhere in Brooklyn\"],[\"Talking to the Moon - Acoustic Piano\"],[\"Grenade\"],[\"Just the Way You Are\"],[\"Our First Time\"],[\"Runaway Baby\"],[\"The Lazy Song\"],[\"Marry You\"],[\"Talking to the Moon\"],[\"Liquor Store Blues (feat. Damian Marley)\"],[\"Count on Me\"],[\"The Other Side (feat. CeeLo Green and B.o.B)\"]],\"hovertemplate\":\"Artist(s)=Bruno Mars<br>Positiveness (valence)=%{x}<br>Energy=%{y}<br>Song Title=%{customdata[0]}<extra></extra>\",\"legendgroup\":\"Bruno Mars\",\"marker\":{\"color\":\"#636efa\",\"symbol\":\"circle\"},\"mode\":\"markers\",\"name\":\"Bruno Mars\",\"orientation\":\"v\",\"showlegend\":true,\"x\":[0.632,0.727,0.863,0.86,0.301,0.643,0.865,0.9390000000000001,0.433,0.501,0.867,0.622,0.934,0.418,0.387,0.611,0.514,0.78,0.49,0.501,0.867,0.6409999999999999,0.937,0.418,0.387,0.611,0.514,0.78,0.49,0.56,0.87,0.667,0.92,0.457,0.41100000000000003,0.667,0.539,0.778,0.442,0.22699999999999998,0.434,0.868,0.871,0.9490000000000001,0.48100000000000004,0.065,0.685,0.509,0.5429999999999999,0.349,0.209,0.22699999999999998,0.434,0.868,0.871,0.9490000000000001,0.48100000000000004,0.065,0.685,0.509,0.5429999999999999],\"xaxis\":\"x\",\"y\":[0.8029999999999999,0.539,0.871,0.56,0.574,0.733,0.705,0.7979999999999999,0.63,0.7490000000000001,0.698,0.562,0.6990000000000001,0.784,0.28,0.733,0.706,0.677,0.413,0.7490000000000001,0.698,0.544,0.6920000000000001,0.784,0.28,0.733,0.706,0.677,0.413,0.748,0.6970000000000001,0.547,0.687,0.773,0.271,0.7290000000000001,0.687,0.664,0.43700000000000006,0.5579999999999999,0.843,0.451,0.767,0.804,0.8320000000000001,0.606,0.8240000000000001,0.397,0.807,0.579,0.33299999999999996,0.5579999999999999,0.843,0.451,0.767,0.804,0.8320000000000001,0.606,0.8240000000000001,0.397,0.807],\"yaxis\":\"y\",\"type\":\"scatter\"},{\"customdata\":[[\"Green Light\"],[\"Sober\"],[\"Homemade Dynamite\"],[\"The Louvre\"],[\"Liability\"],[\"Hard Feelings/Loveless\"],[\"Sober II (Melodrama)\"],[\"Writer In The Dark\"],[\"Supercut\"],[\"Liability (Reprise)\"],[\"Perfect Places\"],[\"Homemade Dynamite - REMIX\"],[\"Green Light\"],[\"Sober\"],[\"Homemade Dynamite\"],[\"The Louvre\"],[\"Liability\"],[\"Hard Feelings/Loveless\"],[\"Sober II (Melodrama)\"],[\"Writer In The Dark\"],[\"Supercut\"],[\"Liability (Reprise)\"],[\"Perfect Places\"],[\"Homemade Dynamite - REMIX\"],[\"Green Light\"],[\"Sober\"],[\"Homemade Dynamite\"],[\"The Louvre\"],[\"Liability\"],[\"Hard Feelings/Loveless\"],[\"Sober II (Melodrama)\"],[\"Writer In The Dark\"],[\"Supercut\"],[\"Liability (Reprise)\"],[\"Perfect Places\"],[\"Green Light\"],[\"Sober\"],[\"Homemade Dynamite\"],[\"The Louvre\"],[\"Liability\"],[\"Hard Feelings/Loveless\"],[\"Sober II (Melodrama)\"],[\"Writer In The Dark\"],[\"Supercut\"],[\"Liability (Reprise)\"],[\"Perfect Places\"],[\"Tennis Court\"],[\"400 Lux\"],[\"Royals\"],[\"Ribs\"],[\"Buzzcut Season\"],[\"Team\"],[\"Glory And Gore\"],[\"Still Sane\"],[\"White Teeth Teens\"],[\"A World Alone\"],[\"Tennis Court\"],[\"400 Lux\"],[\"Royals\"],[\"Ribs\"],[\"Buzzcut Season\"],[\"Team\"],[\"Glory And Gore\"],[\"Still Sane\"],[\"White Teeth Teens\"],[\"A World Alone\"],[\"Bravado\"],[\"Swingin Party\"],[\"Bravado - Fffrrannno Remix\"],[\"Tennis Court\"],[\"400 Lux\"],[\"Royals\"],[\"Ribs\"],[\"Buzzcut Season\"],[\"Team\"],[\"Glory And Gore\"],[\"Still Sane\"],[\"White Teeth Teens\"],[\"A World Alone\"],[\"Bravado\"],[\"Million Dollar Bills\"],[\"The Love Club\"],[\"Biting Down\"],[\"Swingin Party\"]],\"hovertemplate\":\"Artist(s)=Lorde<br>Positiveness (valence)=%{x}<br>Energy=%{y}<br>Song Title=%{customdata[0]}<extra></extra>\",\"legendgroup\":\"Lorde\",\"marker\":{\"color\":\"#EF553B\",\"symbol\":\"circle\"},\"mode\":\"markers\",\"name\":\"Lorde\",\"orientation\":\"v\",\"showlegend\":true,\"x\":[0.253,0.516,0.268,0.126,0.379,0.18,0.10099999999999999,0.27899999999999997,0.15,0.26,0.512,0.175,0.253,0.462,0.242,0.126,0.379,0.18100000000000002,0.10300000000000001,0.27899999999999997,0.15,0.285,0.525,0.18600000000000003,0.253,0.516,0.268,0.126,0.379,0.18,0.10099999999999999,0.27899999999999997,0.15,0.26,0.512,0.253,0.462,0.242,0.126,0.379,0.18100000000000002,0.10300000000000001,0.27899999999999997,0.15,0.285,0.525,0.428,0.19399999999999998,0.337,0.0399,0.247,0.41600000000000004,0.294,0.0958,0.102,0.0663,0.40399999999999997,0.19399999999999998,0.355,0.0399,0.247,0.41600000000000004,0.294,0.0958,0.102,0.0663,0.04,0.107,0.205,0.40399999999999997,0.19399999999999998,0.337,0.0399,0.247,0.41600000000000004,0.294,0.0958,0.102,0.0663,0.04,0.43700000000000006,0.626,0.33399999999999996,0.107],\"xaxis\":\"x\",\"y\":[0.721,0.467,0.431,0.382,0.22899999999999998,0.445,0.312,0.271,0.43700000000000006,0.27699999999999997,0.58,0.5479999999999999,0.721,0.485,0.436,0.382,0.22899999999999998,0.442,0.32,0.271,0.43700000000000006,0.281,0.574,0.5489999999999999,0.721,0.467,0.431,0.382,0.22899999999999998,0.445,0.312,0.271,0.43700000000000006,0.27699999999999997,0.58,0.721,0.485,0.436,0.382,0.22899999999999998,0.442,0.32,0.271,0.43700000000000006,0.281,0.574,0.5670000000000001,0.474,0.428,0.47200000000000003,0.62,0.578,0.377,0.361,0.304,0.485,0.546,0.474,0.42,0.47200000000000003,0.62,0.578,0.377,0.361,0.304,0.485,0.535,0.245,0.61,0.546,0.474,0.428,0.47200000000000003,0.62,0.578,0.377,0.361,0.304,0.485,0.535,0.555,0.493,0.375,0.245],\"yaxis\":\"y\",\"type\":\"scatter\"}],                        {\"template\":{\"data\":{\"histogram2dcontour\":[{\"type\":\"histogram2dcontour\",\"colorbar\":{\"outlinewidth\":0,\"ticks\":\"\"},\"colorscale\":[[0.0,\"#0d0887\"],[0.1111111111111111,\"#46039f\"],[0.2222222222222222,\"#7201a8\"],[0.3333333333333333,\"#9c179e\"],[0.4444444444444444,\"#bd3786\"],[0.5555555555555556,\"#d8576b\"],[0.6666666666666666,\"#ed7953\"],[0.7777777777777778,\"#fb9f3a\"],[0.8888888888888888,\"#fdca26\"],[1.0,\"#f0f921\"]]}],\"choropleth\":[{\"type\":\"choropleth\",\"colorbar\":{\"outlinewidth\":0,\"ticks\":\"\"}}],\"histogram2d\":[{\"type\":\"histogram2d\",\"colorbar\":{\"outlinewidth\":0,\"ticks\":\"\"},\"colorscale\":[[0.0,\"#0d0887\"],[0.1111111111111111,\"#46039f\"],[0.2222222222222222,\"#7201a8\"],[0.3333333333333333,\"#9c179e\"],[0.4444444444444444,\"#bd3786\"],[0.5555555555555556,\"#d8576b\"],[0.6666666666666666,\"#ed7953\"],[0.7777777777777778,\"#fb9f3a\"],[0.8888888888888888,\"#fdca26\"],[1.0,\"#f0f921\"]]}],\"heatmap\":[{\"type\":\"heatmap\",\"colorbar\":{\"outlinewidth\":0,\"ticks\":\"\"},\"colorscale\":[[0.0,\"#0d0887\"],[0.1111111111111111,\"#46039f\"],[0.2222222222222222,\"#7201a8\"],[0.3333333333333333,\"#9c179e\"],[0.4444444444444444,\"#bd3786\"],[0.5555555555555556,\"#d8576b\"],[0.6666666666666666,\"#ed7953\"],[0.7777777777777778,\"#fb9f3a\"],[0.8888888888888888,\"#fdca26\"],[1.0,\"#f0f921\"]]}],\"heatmapgl\":[{\"type\":\"heatmapgl\",\"colorbar\":{\"outlinewidth\":0,\"ticks\":\"\"},\"colorscale\":[[0.0,\"#0d0887\"],[0.1111111111111111,\"#46039f\"],[0.2222222222222222,\"#7201a8\"],[0.3333333333333333,\"#9c179e\"],[0.4444444444444444,\"#bd3786\"],[0.5555555555555556,\"#d8576b\"],[0.6666666666666666,\"#ed7953\"],[0.7777777777777778,\"#fb9f3a\"],[0.8888888888888888,\"#fdca26\"],[1.0,\"#f0f921\"]]}],\"contourcarpet\":[{\"type\":\"contourcarpet\",\"colorbar\":{\"outlinewidth\":0,\"ticks\":\"\"}}],\"contour\":[{\"type\":\"contour\",\"colorbar\":{\"outlinewidth\":0,\"ticks\":\"\"},\"colorscale\":[[0.0,\"#0d0887\"],[0.1111111111111111,\"#46039f\"],[0.2222222222222222,\"#7201a8\"],[0.3333333333333333,\"#9c179e\"],[0.4444444444444444,\"#bd3786\"],[0.5555555555555556,\"#d8576b\"],[0.6666666666666666,\"#ed7953\"],[0.7777777777777778,\"#fb9f3a\"],[0.8888888888888888,\"#fdca26\"],[1.0,\"#f0f921\"]]}],\"surface\":[{\"type\":\"surface\",\"colorbar\":{\"outlinewidth\":0,\"ticks\":\"\"},\"colorscale\":[[0.0,\"#0d0887\"],[0.1111111111111111,\"#46039f\"],[0.2222222222222222,\"#7201a8\"],[0.3333333333333333,\"#9c179e\"],[0.4444444444444444,\"#bd3786\"],[0.5555555555555556,\"#d8576b\"],[0.6666666666666666,\"#ed7953\"],[0.7777777777777778,\"#fb9f3a\"],[0.8888888888888888,\"#fdca26\"],[1.0,\"#f0f921\"]]}],\"mesh3d\":[{\"type\":\"mesh3d\",\"colorbar\":{\"outlinewidth\":0,\"ticks\":\"\"}}],\"scatter\":[{\"fillpattern\":{\"fillmode\":\"overlay\",\"size\":10,\"solidity\":0.2},\"type\":\"scatter\"}],\"parcoords\":[{\"type\":\"parcoords\",\"line\":{\"colorbar\":{\"outlinewidth\":0,\"ticks\":\"\"}}}],\"scatterpolargl\":[{\"type\":\"scatterpolargl\",\"marker\":{\"colorbar\":{\"outlinewidth\":0,\"ticks\":\"\"}}}],\"bar\":[{\"error_x\":{\"color\":\"#2a3f5f\"},\"error_y\":{\"color\":\"#2a3f5f\"},\"marker\":{\"line\":{\"color\":\"#E5ECF6\",\"width\":0.5},\"pattern\":{\"fillmode\":\"overlay\",\"size\":10,\"solidity\":0.2}},\"type\":\"bar\"}],\"scattergeo\":[{\"type\":\"scattergeo\",\"marker\":{\"colorbar\":{\"outlinewidth\":0,\"ticks\":\"\"}}}],\"scatterpolar\":[{\"type\":\"scatterpolar\",\"marker\":{\"colorbar\":{\"outlinewidth\":0,\"ticks\":\"\"}}}],\"histogram\":[{\"marker\":{\"pattern\":{\"fillmode\":\"overlay\",\"size\":10,\"solidity\":0.2}},\"type\":\"histogram\"}],\"scattergl\":[{\"type\":\"scattergl\",\"marker\":{\"colorbar\":{\"outlinewidth\":0,\"ticks\":\"\"}}}],\"scatter3d\":[{\"type\":\"scatter3d\",\"line\":{\"colorbar\":{\"outlinewidth\":0,\"ticks\":\"\"}},\"marker\":{\"colorbar\":{\"outlinewidth\":0,\"ticks\":\"\"}}}],\"scattermapbox\":[{\"type\":\"scattermapbox\",\"marker\":{\"colorbar\":{\"outlinewidth\":0,\"ticks\":\"\"}}}],\"scatterternary\":[{\"type\":\"scatterternary\",\"marker\":{\"colorbar\":{\"outlinewidth\":0,\"ticks\":\"\"}}}],\"scattercarpet\":[{\"type\":\"scattercarpet\",\"marker\":{\"colorbar\":{\"outlinewidth\":0,\"ticks\":\"\"}}}],\"carpet\":[{\"aaxis\":{\"endlinecolor\":\"#2a3f5f\",\"gridcolor\":\"white\",\"linecolor\":\"white\",\"minorgridcolor\":\"white\",\"startlinecolor\":\"#2a3f5f\"},\"baxis\":{\"endlinecolor\":\"#2a3f5f\",\"gridcolor\":\"white\",\"linecolor\":\"white\",\"minorgridcolor\":\"white\",\"startlinecolor\":\"#2a3f5f\"},\"type\":\"carpet\"}],\"table\":[{\"cells\":{\"fill\":{\"color\":\"#EBF0F8\"},\"line\":{\"color\":\"white\"}},\"header\":{\"fill\":{\"color\":\"#C8D4E3\"},\"line\":{\"color\":\"white\"}},\"type\":\"table\"}],\"barpolar\":[{\"marker\":{\"line\":{\"color\":\"#E5ECF6\",\"width\":0.5},\"pattern\":{\"fillmode\":\"overlay\",\"size\":10,\"solidity\":0.2}},\"type\":\"barpolar\"}],\"pie\":[{\"automargin\":true,\"type\":\"pie\"}]},\"layout\":{\"autotypenumbers\":\"strict\",\"colorway\":[\"#636efa\",\"#EF553B\",\"#00cc96\",\"#ab63fa\",\"#FFA15A\",\"#19d3f3\",\"#FF6692\",\"#B6E880\",\"#FF97FF\",\"#FECB52\"],\"font\":{\"color\":\"#2a3f5f\"},\"hovermode\":\"closest\",\"hoverlabel\":{\"align\":\"left\"},\"paper_bgcolor\":\"white\",\"plot_bgcolor\":\"#E5ECF6\",\"polar\":{\"bgcolor\":\"#E5ECF6\",\"angularaxis\":{\"gridcolor\":\"white\",\"linecolor\":\"white\",\"ticks\":\"\"},\"radialaxis\":{\"gridcolor\":\"white\",\"linecolor\":\"white\",\"ticks\":\"\"}},\"ternary\":{\"bgcolor\":\"#E5ECF6\",\"aaxis\":{\"gridcolor\":\"white\",\"linecolor\":\"white\",\"ticks\":\"\"},\"baxis\":{\"gridcolor\":\"white\",\"linecolor\":\"white\",\"ticks\":\"\"},\"caxis\":{\"gridcolor\":\"white\",\"linecolor\":\"white\",\"ticks\":\"\"}},\"coloraxis\":{\"colorbar\":{\"outlinewidth\":0,\"ticks\":\"\"}},\"colorscale\":{\"sequential\":[[0.0,\"#0d0887\"],[0.1111111111111111,\"#46039f\"],[0.2222222222222222,\"#7201a8\"],[0.3333333333333333,\"#9c179e\"],[0.4444444444444444,\"#bd3786\"],[0.5555555555555556,\"#d8576b\"],[0.6666666666666666,\"#ed7953\"],[0.7777777777777778,\"#fb9f3a\"],[0.8888888888888888,\"#fdca26\"],[1.0,\"#f0f921\"]],\"sequentialminus\":[[0.0,\"#0d0887\"],[0.1111111111111111,\"#46039f\"],[0.2222222222222222,\"#7201a8\"],[0.3333333333333333,\"#9c179e\"],[0.4444444444444444,\"#bd3786\"],[0.5555555555555556,\"#d8576b\"],[0.6666666666666666,\"#ed7953\"],[0.7777777777777778,\"#fb9f3a\"],[0.8888888888888888,\"#fdca26\"],[1.0,\"#f0f921\"]],\"diverging\":[[0,\"#8e0152\"],[0.1,\"#c51b7d\"],[0.2,\"#de77ae\"],[0.3,\"#f1b6da\"],[0.4,\"#fde0ef\"],[0.5,\"#f7f7f7\"],[0.6,\"#e6f5d0\"],[0.7,\"#b8e186\"],[0.8,\"#7fbc41\"],[0.9,\"#4d9221\"],[1,\"#276419\"]]},\"xaxis\":{\"gridcolor\":\"white\",\"linecolor\":\"white\",\"ticks\":\"\",\"title\":{\"standoff\":15},\"zerolinecolor\":\"white\",\"automargin\":true,\"zerolinewidth\":2},\"yaxis\":{\"gridcolor\":\"white\",\"linecolor\":\"white\",\"ticks\":\"\",\"title\":{\"standoff\":15},\"zerolinecolor\":\"white\",\"automargin\":true,\"zerolinewidth\":2},\"scene\":{\"xaxis\":{\"backgroundcolor\":\"#E5ECF6\",\"gridcolor\":\"white\",\"linecolor\":\"white\",\"showbackground\":true,\"ticks\":\"\",\"zerolinecolor\":\"white\",\"gridwidth\":2},\"yaxis\":{\"backgroundcolor\":\"#E5ECF6\",\"gridcolor\":\"white\",\"linecolor\":\"white\",\"showbackground\":true,\"ticks\":\"\",\"zerolinecolor\":\"white\",\"gridwidth\":2},\"zaxis\":{\"backgroundcolor\":\"#E5ECF6\",\"gridcolor\":\"white\",\"linecolor\":\"white\",\"showbackground\":true,\"ticks\":\"\",\"zerolinecolor\":\"white\",\"gridwidth\":2}},\"shapedefaults\":{\"line\":{\"color\":\"#2a3f5f\"}},\"annotationdefaults\":{\"arrowcolor\":\"#2a3f5f\",\"arrowhead\":0,\"arrowwidth\":1},\"geo\":{\"bgcolor\":\"white\",\"landcolor\":\"#E5ECF6\",\"subunitcolor\":\"white\",\"showland\":true,\"showlakes\":true,\"lakecolor\":\"white\"},\"title\":{\"x\":0.05},\"mapbox\":{\"style\":\"light\"}}},\"xaxis\":{\"anchor\":\"y\",\"domain\":[0.0,1.0],\"title\":{\"text\":\"Positiveness(valence)\"},\"range\":[-0.01,1.01]},\"yaxis\":{\"anchor\":\"x\",\"domain\":[0.0,1.0],\"title\":{\"text\":\"Energy\"},\"range\":[-0.01,1.01]},\"legend\":{\"title\":{\"text\":\"Artist(s)\"},\"tracegroupgap\":0},\"margin\":{\"t\":60},\"shapes\":[{\"type\":\"line\",\"x0\":0,\"x1\":1,\"xref\":\"x domain\",\"y0\":0.5,\"y1\":0.5,\"yref\":\"y\"},{\"type\":\"line\",\"x0\":0.5,\"x1\":0.5,\"xref\":\"x\",\"y0\":0,\"y1\":1,\"yref\":\"y domain\"}]},                        {\"responsive\": true}                    ).then(function(){\n",
       "                            \n",
       "var gd = document.getElementById('05952f7f-1004-417e-962a-c69d7b6eea96');\n",
       "var x = new MutationObserver(function (mutations, observer) {{\n",
       "        var display = window.getComputedStyle(gd).display;\n",
       "        if (!display || display === 'none') {{\n",
       "            console.log([gd, 'removed!']);\n",
       "            Plotly.purge(gd);\n",
       "            observer.disconnect();\n",
       "        }}\n",
       "}});\n",
       "\n",
       "// Listen for the removal of the full notebook cells\n",
       "var notebookContainer = gd.closest('#notebook-container');\n",
       "if (notebookContainer) {{\n",
       "    x.observe(notebookContainer, {childList: true});\n",
       "}}\n",
       "\n",
       "// Listen for the clearing of the current output cell\n",
       "var outputEl = gd.closest('.output');\n",
       "if (outputEl) {{\n",
       "    x.observe(outputEl, {childList: true});\n",
       "}}\n",
       "\n",
       "                        })                };                });            </script>        </div>"
      ]
     },
     "metadata": {},
     "output_type": "display_data"
    }
   ],
   "source": [
    "#Enter artist names here, spelling counts.\n",
    "artist_names=['Bruno Mars', 'Lorde']\n",
    "\n",
    "#This section plots the data in plotly, from the pandas dataframe \"dataset\".\n",
    "datafilter=dataset.loc[dataset['artist_name'].isin(artist_names)]\n",
    "fig = px.scatter(datafilter,x=\"valence\", y=\"energy\",hover_data=['track_name'],color=\"artist_name\", \n",
    "                 labels={\"track_name\":\"Song Title\",\"valence\":\"Positiveness (valence)\", \"energy\":\"Energy\",\"artist_name\":\"Artist(s)\"})\n",
    "#Set axes and labels for axes\n",
    "fig.update_yaxes(range=[-0.01, 1.01])\n",
    "fig.update_xaxes(range=[-0.01, 1.01])\n",
    "fig.update_xaxes(title_text='Positiveness(valence)')\n",
    "fig.update_yaxes(title_text='Energy')\n",
    "#Add quadrant dividing lines\n",
    "fig.add_hline(y=0.5)\n",
    "fig.add_vline(x=0.5)\n",
    "#Save plot as html file and open in browser.\n",
    "fig.write_html(''.join(artist_names)+'.html', auto_open=True)\n",
    "#Show plot below in python.\n",
    "fig.show()"
   ]
  },
  {
   "cell_type": "code",
   "execution_count": null,
   "metadata": {},
   "outputs": [],
   "source": []
  }
 ],
 "metadata": {
  "kernelspec": {
   "display_name": "Python 3",
   "language": "python",
   "name": "python3"
  },
  "language_info": {
   "codemirror_mode": {
    "name": "ipython",
    "version": 3
   },
   "file_extension": ".py",
   "mimetype": "text/x-python",
   "name": "python",
   "nbconvert_exporter": "python",
   "pygments_lexer": "ipython3",
   "version": "3.8.3"
  }
 },
 "nbformat": 4,
 "nbformat_minor": 4
}
